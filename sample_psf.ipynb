{
 "metadata": {
  "name": "",
  "signature": "sha256:fcd2ab31f79a338a6afe6f495a26a8578d98925574564752fddafe1aa6f6482f"
 },
 "nbformat": 3,
 "nbformat_minor": 0,
 "worksheets": [
  {
   "cells": [
    {
     "cell_type": "code",
     "collapsed": false,
     "input": [
      "%matplotlib inline"
     ],
     "language": "python",
     "metadata": {},
     "outputs": [],
     "prompt_number": 1
    },
    {
     "cell_type": "code",
     "collapsed": false,
     "input": [
      "import numpy as np\n",
      "from scipy.integrate import dblquad\n",
      "\n",
      "from matplotlib import pyplot as pl\n",
      "pl.rcParams['figure.figsize'] = (10.0, 8.0)"
     ],
     "language": "python",
     "metadata": {},
     "outputs": [],
     "prompt_number": 2
    },
    {
     "cell_type": "code",
     "collapsed": false,
     "input": [
      "def tofits(filename, data, hdr=None, clobber=False):\n",
      "    \"\"\"simple pyfits wrapper to make saving fits files easier.\"\"\"\n",
      "    from pyfits import PrimaryHDU, HDUList\n",
      "    hdu = PrimaryHDU(data)\n",
      "    if hdr is not None:\n",
      "        hdu.header = hdr\n",
      "    hdulist = HDUList([hdu])\n",
      "    hdulist.writeto(filename, clobber=clobber, output_verify='ignore')"
     ],
     "language": "python",
     "metadata": {},
     "outputs": [],
     "prompt_number": 3
    },
    {
     "cell_type": "code",
     "collapsed": false,
     "input": [
      "# Define a Moffat profile at position x,y centered at x0, y0, with parameters alpha and beta\n",
      "def moffat(x, y, x0, y0, alpha, beta):\n",
      "    # Normalize to I0 = 1 for now\n",
      "    # Use circular moffat for now\n",
      "    # -0.5 <= x0, y0 <= 0.5\n",
      "    # Defined r^2 (no need to take a square root)\n",
      "    r2 = (x - x0) * (x - x0) + (y - y0) * (y - y0)\n",
      "    return (1.0 + r2 / alpha / alpha) ** (-1.0 * beta)"
     ],
     "language": "python",
     "metadata": {},
     "outputs": [],
     "prompt_number": 4
    },
    {
     "cell_type": "code",
     "collapsed": false,
     "input": [
      "# Define a double integral function for the moffat profile, with limits xmin, xmax and ymin, ymax\n",
      "def dblint(x0, xmin, xmax, y0, ymin, ymax, alpha, beta):\n",
      "    return dblquad(lambda x, y: moffat(x, y, x0, y0, alpha, beta), ymin, ymax, lambda x: xmin, lambda x: xmax)[0]"
     ],
     "language": "python",
     "metadata": {},
     "outputs": [],
     "prompt_number": 5
    },
    {
     "cell_type": "code",
     "collapsed": false,
     "input": [
      "# Calculate the kernel\n",
      "def kernel(x0, y0, alpha, beta):\n",
      "    fwhm = alpha * 2.0 * (2.0 ** (1.0 / beta) - 1.0) ** 0.5\n",
      "    # Make a kernel that is 4 times the fwhm right now and make sure the kernel size is odd\n",
      "    nx = int(np.ceil(4 * fwhm))\n",
      "    if nx % 2 == 0:\n",
      "        nx += 1\n",
      "    kern = np.zeros((nx, nx))\n",
      "\n",
      "    # Loop over pixels\n",
      "    for j, y in enumerate(range(-nx / 2 + 1, nx/2 + 1)):\n",
      "        for i, x in enumerate(range(-nx / 2 + 1, nx/2 + 1)):\n",
      "            # Do the double integral for each pixel\n",
      "            # The center of the middle pixel is 0, 0\n",
      "            # Note everything is y, x\n",
      "            kern[j, i] = dblint(x0, x - 0.5, x + 0.5, y0, y - 0.5, y + 0.5, alpha, beta)\n",
      "    # Normalize the kernel to 1\n",
      "    kern /= kern.sum()\n",
      "    return kern\n",
      "        "
     ],
     "language": "python",
     "metadata": {},
     "outputs": [],
     "prompt_number": 6
    },
    {
     "cell_type": "code",
     "collapsed": false,
     "input": [
      "# Calculate the kernel, save a fits image, and display the results\n",
      "kern = kernel(0.2, 0.3, 3, 1.85)\n",
      "tofits('test_moffat1.fits', kern, clobber=True)\n",
      "pl.imshow(kern, cmap = 'gray', interpolation='nearest')"
     ],
     "language": "python",
     "metadata": {},
     "outputs": [
      {
       "output_type": "stream",
       "stream": "stderr",
       "text": [
        "Overwriting existing file 'test_moffat1.fits'.\n"
       ]
      },
      {
       "metadata": {},
       "output_type": "pyout",
       "prompt_number": 7,
       "text": [
        "<matplotlib.image.AxesImage at 0x107785110>"
       ]
      },
      {
       "metadata": {},
       "output_type": "display_data",
       "png": "[encoded data removed]",
       "text": [
        "<matplotlib.figure.Figure at 0x1059a1450>"
       ]
      }
     ],
     "prompt_number": 7
    },
    {
     "cell_type": "code",
     "collapsed": false,
     "input": [
      "# Calculate the kernel, save a fits image, and display the results\n",
      "kern = kernel(-0.2, -0.1, 3, 1.85)\n",
      "pl.imshow(kern, cmap = 'gray', interpolation='nearest')"
     ],
     "language": "python",
     "metadata": {},
     "outputs": [
      {
       "metadata": {},
       "output_type": "pyout",
       "prompt_number": 8,
       "text": [
        "<matplotlib.image.AxesImage at 0x107a288d0>"
       ]
      },
      {
       "metadata": {},
       "output_type": "display_data",
       "png": "[encoded data removed]",
       "text": [
        "<matplotlib.figure.Figure at 0x10776c350>"
       ]
      }
     ],
     "prompt_number": 8
    }
   ],
   "metadata": {}
  }
 ]
}