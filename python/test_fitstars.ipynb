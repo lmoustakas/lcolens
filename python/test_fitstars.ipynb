{
 "metadata": {
  "name": "",
  "signature": "sha256:81393ac6e1046f3df40998427feefc35b9fcf1eadb7cd347678ec65b587b8cc7"
 },
 "nbformat": 3,
 "nbformat_minor": 0,
 "worksheets": [
  {
   "cells": [
    {
     "cell_type": "code",
     "collapsed": false,
     "input": [
      "from astropy.io import fits\n",
      "import numpy as np"
     ],
     "language": "python",
     "metadata": {},
     "outputs": [],
     "prompt_number": 1
    },
    {
     "cell_type": "code",
     "collapsed": false,
     "input": [
      "hdu = fits.open('forwcs_drc_sci.fits')"
     ],
     "language": "python",
     "metadata": {},
     "outputs": [],
     "prompt_number": 2
    },
    {
     "cell_type": "code",
     "collapsed": false,
     "input": [
      "hdu"
     ],
     "language": "python",
     "metadata": {},
     "outputs": [
      {
       "metadata": {},
       "output_type": "pyout",
       "prompt_number": 8,
       "text": [
        "[<astropy.io.fits.hdu.image.PrimaryHDU at 0x7f37ce174650>,\n",
        " <astropy.io.fits.hdu.table.BinTableHDU at 0x7f37cd308ed0>]"
       ]
      }
     ],
     "prompt_number": 8
    },
    {
     "cell_type": "code",
     "collapsed": false,
     "input": [
      "imagedata = hdu[0].data.copy()"
     ],
     "language": "python",
     "metadata": {},
     "outputs": [],
     "prompt_number": 3
    },
    {
     "cell_type": "code",
     "collapsed": false,
     "input": [
      "coords = np.genfromtxt('hst_coords.dat').transpose()"
     ],
     "language": "python",
     "metadata": {},
     "outputs": [],
     "prompt_number": 4
    },
    {
     "cell_type": "code",
     "collapsed": false,
     "input": [
      "coords[2], coords[3]"
     ],
     "language": "python",
     "metadata": {},
     "outputs": [
      {
       "metadata": {},
       "output_type": "pyout",
       "prompt_number": 14,
       "text": [
        "(array([  975.665,  1463.135,  2460.64 ,  4431.166,  3402.273,   994.797,\n",
        "         1820.908,  3360.234,  4171.773]),\n",
        " array([ 3984.783,  3204.041,  3584.388,  3646.583,  2148.794,  1799.993,\n",
        "         1207.87 ,  1266.37 ,  1536.732]))"
       ]
      }
     ],
     "prompt_number": 14
    },
    {
     "cell_type": "code",
     "collapsed": false,
     "input": [
      "import fitstars\n",
      "reload(fitstars)"
     ],
     "language": "python",
     "metadata": {},
     "outputs": [
      {
       "metadata": {},
       "output_type": "pyout",
       "prompt_number": 5,
       "text": [
        "<module 'fitstars' from 'fitstars.pyc'>"
       ]
      }
     ],
     "prompt_number": 5
    },
    {
     "cell_type": "code",
     "collapsed": false,
     "input": [
      "results = fitstars.fitstars(imagedata, coords[2], coords[3], 5, subnx=35, subny=35)"
     ],
     "language": "python",
     "metadata": {},
     "outputs": []
    },
    {
     "cell_type": "code",
     "collapsed": false,
     "input": [
      "#print(results)\n",
      "print(\"PSF parameters: \" +str(results[0:4]))\n",
      "print(\"X0s: \" + str(results[4::4]))\n",
      "print(\"Y0s: \" + str(results[5::4]))\n",
      "print(\"fluxes: \" + str(results[6::4]))\n",
      "print(\"sky: \" + str(results[7::4]))"
     ],
     "language": "python",
     "metadata": {},
     "outputs": [
      {
       "output_type": "stream",
       "stream": "stdout",
       "text": [
        "PSF parameters: [  8.43584255e-01   1.09863625e+00   9.83865393e-01   4.79303182e-04]\n",
        "X0s: [  1.60902221e-03  -1.49796240e-04   3.86548953e-03  -3.31727802e-03\n",
        "  -3.69960282e-03   1.20463950e-02   1.12262826e-02   2.24217473e-05\n",
        "   5.28638216e-03]\n",
        "Y0s: [ 0.00202788  0.0001196  -0.00193695  0.00078595 -0.00059468  0.00404365\n",
        "  0.00329635  0.00104877  0.00208931]\n",
        "fluxes: [  546457.20827796  2639443.98350439   577316.1533904    298221.05590504\n",
        "   237706.12080264   133085.43195642   604308.01457138   482973.14197918\n",
        "  3795620.66208257]\n",
        "sky: [  79.1872276    36.96406669  421.83260332  129.76421997  129.17863027\n",
        "  123.30835886   81.6893081   101.08391576  -56.67014226]\n"
       ]
      }
     ]
    },
    {
     "cell_type": "code",
     "collapsed": false,
     "input": [
      "imagedata"
     ],
     "language": "python",
     "metadata": {},
     "outputs": [
      {
       "metadata": {},
       "output_type": "pyout",
       "prompt_number": 8,
       "text": [
        "array([[ 0.,  0.,  0., ...,  0.,  0.,  0.],\n",
        "       [ 0.,  0.,  0., ...,  0.,  0.,  0.],\n",
        "       [ 0.,  0.,  0., ...,  0.,  0.,  0.],\n",
        "       ..., \n",
        "       [ 0.,  0.,  0., ...,  0.,  0.,  0.],\n",
        "       [ 0.,  0.,  0., ...,  0.,  0.,  0.],\n",
        "       [ 0.,  0.,  0., ...,  0.,  0.,  0.]], dtype=float32)"
       ]
      }
     ],
     "prompt_number": 8
    },
    {
     "cell_type": "code",
     "collapsed": false,
     "input": [],
     "language": "python",
     "metadata": {},
     "outputs": []
    }
   ],
   "metadata": {}
  }
 ]
}