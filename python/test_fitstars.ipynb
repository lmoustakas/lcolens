{
 "cells": [
  {
   "cell_type": "code",
   "execution_count": 1,
   "metadata": {
    "collapsed": true
   },
   "outputs": [],
   "source": [
    "%matplotlib inline"
   ]
  },
  {
   "cell_type": "code",
   "execution_count": 2,
   "metadata": {
    "collapsed": false
   },
   "outputs": [],
   "source": [
    "from astropy.io import fits\n",
    "import numpy as np\n",
    "from matplotlib import pyplot as pl"
   ]
  },
  {
   "cell_type": "code",
   "execution_count": 3,
   "metadata": {
    "collapsed": false
   },
   "outputs": [],
   "source": [
    "hdu = fits.open('../data/forwcs_drc_sci.fits')"
   ]
  },
  {
   "cell_type": "code",
   "execution_count": 4,
   "metadata": {
    "collapsed": false
   },
   "outputs": [],
   "source": [
    "imagedata = hdu[0].data.copy()"
   ]
  },
  {
   "cell_type": "code",
   "execution_count": 5,
   "metadata": {
    "collapsed": false
   },
   "outputs": [],
   "source": [
    "coords = np.genfromtxt('../data/hst_coords.dat').transpose()\n",
    "coords -= 1.0"
   ]
  },
  {
   "cell_type": "code",
   "execution_count": 6,
   "metadata": {
    "collapsed": false
   },
   "outputs": [
    {
     "data": {
      "text/plain": [
       "(array([  974.665,  1462.135,  2459.64 ,  4430.166,  3401.273,   993.797,\n",
       "         1819.908,  3359.234,  4170.773]),\n",
       " array([ 3983.783,  3203.041,  3583.388,  3645.583,  2147.794,  1798.993,\n",
       "         1206.87 ,  1265.37 ,  1535.732]))"
      ]
     },
     "execution_count": 6,
     "metadata": {},
     "output_type": "execute_result"
    }
   ],
   "source": [
    "coords[2], coords[3]"
   ]
  },
  {
   "cell_type": "code",
   "execution_count": 22,
   "metadata": {
    "collapsed": false
   },
   "outputs": [
    {
     "data": {
      "text/plain": [
       "<module 'fitstars' from 'fitstars.py'>"
      ]
     },
     "execution_count": 22,
     "metadata": {},
     "output_type": "execute_result"
    }
   ],
   "source": [
    "import fitstars\n",
    "import integrate\n",
    "reload(integrate)\n",
    "reload(fitstars)"
   ]
  },
  {
   "cell_type": "code",
   "execution_count": 23,
   "metadata": {
    "collapsed": false
   },
   "outputs": [
    {
     "name": "stdout",
     "output_type": "stream",
     "text": [
      " "
     ]
    }
   ],
   "source": [
    "%prun results = fitstars.fitstars(imagedata, coords[2][:2], coords[3][:2], 15, subnx=21, subny=21, minimize_type='curvefit')"
   ]
  },
  {
   "cell_type": "code",
   "execution_count": 17,
   "metadata": {
    "collapsed": false
   },
   "outputs": [
    {
     "name": "stdout",
     "output_type": "stream",
     "text": [
      "CPU times: user 1.97 ms, sys: 1.39 ms, total: 3.36 ms\n",
      "Wall time: 1.97 ms\n"
     ]
    },
    {
     "data": {
      "text/plain": [
       "array([[ 0.00027715,  0.00036271,  0.00046476,  0.00057496,  0.000676  ,\n",
       "         0.00074412,  0.00075907,  0.00071592,  0.00062836,  0.00051998,\n",
       "         0.00041217,  0.00031774,  0.00024123],\n",
       "       [ 0.00038586,  0.0005342 ,  0.00072794,  0.00095845,  0.00119095,\n",
       "         0.00136247,  0.0014085 ,  0.00130909,  0.00110575,  0.00086768,\n",
       "         0.00064857,  0.00047205,  0.00034007],\n",
       "       [ 0.00052903,  0.0007822 ,  0.00115113,  0.00164815,  0.00221889,\n",
       "         0.00269478,  0.00284919,  0.00259198,  0.0020682 ,  0.00150489,\n",
       "         0.00103994,  0.00070419,  0.00047673],\n",
       "       [ 0.00070085,  0.00111307,  0.00179314,  0.00286015,  0.0043159 ,\n",
       "         0.00575547,  0.00632726,  0.00557639,  0.00408463,  0.00267227,\n",
       "         0.00166773,  0.00103566,  0.000654  ],\n",
       "       [ 0.00087551,  0.00148862,  0.00263381,  0.00475735,  0.0083301 ,\n",
       "         0.01275961,  0.01498306,  0.01263296,  0.00818785,  0.00465911,\n",
       "         0.00257704,  0.00145736,  0.00085815],\n",
       "       [ 0.00100513,  0.00179769,  0.00342896,  0.00691909,  0.01409554,\n",
       "         0.02542769,  0.03272851,  0.02636436,  0.01487518,  0.00731713,\n",
       "         0.00361136,  0.00188309,  0.00104752],\n",
       "       [ 0.00103999,  0.00189526,  0.00372624,  0.00790061,  0.01738716,\n",
       "         0.03459541,  0.04778364,  0.03815808,  0.02009049,  0.00916556,\n",
       "         0.00427109,  0.00214018,  0.00115835],\n",
       "       [ 0.00096465,  0.00172569,  0.0033043 ,  0.00674689,  0.01413013,\n",
       "         0.02681149,  0.03671417,  0.03079071,  0.01743386,  0.00842765,\n",
       "         0.00407198,  0.00208422,  0.00114231],\n",
       "       [ 0.00081129,  0.00138238,  0.00246813,  0.00455936,  0.00835299,\n",
       "         0.01377199,  0.01763511,  0.0158392 ,  0.01046656,  0.00588158,\n",
       "         0.00317386,  0.00174937,  0.00100696],\n",
       "       [ 0.00063298,  0.00101125,  0.00165394,  0.00271951,  0.00432372,\n",
       "         0.00621589,  0.00743672,  0.00701911,  0.00532494,  0.00349854,\n",
       "         0.0021534 ,  0.00130948,  0.00080884],\n",
       "       [ 0.00047024,  0.00070256,  0.00105535,  0.00156481,  0.00222084,\n",
       "         0.00288975,  0.00329358,  0.00319795,  0.00266329,  0.00197394,\n",
       "         0.00136394,  0.0009135 ,  0.0006086 ],\n",
       "       [ 0.00034025,  0.00047797,  0.00066737,  0.00091162,  0.00119126,\n",
       "         0.00144926,  0.00159951,  0.00157731,  0.00139302,  0.00112266,\n",
       "         0.00084818,  0.00061674,  0.00044067],\n",
       "       [ 0.00024382,  0.00032482,  0.00042742,  0.00054857,  0.00067593,\n",
       "         0.00078582,  0.00084881,  0.0008443 ,  0.00077389,  0.00066024,\n",
       "         0.00053267,  0.00041348,  0.00031362]])"
      ]
     },
     "execution_count": 17,
     "metadata": {},
     "output_type": "execute_result"
    }
   ],
   "source": [
    "import psf\n",
    "%time psf.moffat_kernel(0.1, 0.1, 2.5, 2.0, q = 0.9, posang=75)"
   ]
  },
  {
   "cell_type": "code",
   "execution_count": 1,
   "metadata": {
    "collapsed": false
   },
   "outputs": [
    {
     "ename": "NameError",
     "evalue": "name 'fitstars' is not defined",
     "output_type": "error",
     "traceback": [
      "\u001b[1;31m---------------------------------------------------------------------------\u001b[0m",
      "\u001b[1;31mNameError\u001b[0m                                 Traceback (most recent call last)",
      "\u001b[1;32m<ipython-input-1-26e1924f6b74>\u001b[0m in \u001b[0;36m<module>\u001b[1;34m()\u001b[0m\n\u001b[1;32m----> 1\u001b[1;33m \u001b[0mreload\u001b[0m\u001b[1;33m(\u001b[0m\u001b[0mfitstars\u001b[0m\u001b[1;33m)\u001b[0m\u001b[1;33m\u001b[0m\u001b[0m\n\u001b[0m\u001b[0;32m      2\u001b[0m \u001b[0mget_ipython\u001b[0m\u001b[1;33m(\u001b[0m\u001b[1;33m)\u001b[0m\u001b[1;33m.\u001b[0m\u001b[0mmagic\u001b[0m\u001b[1;33m(\u001b[0m\u001b[1;34mu'time p0, d, sig = fitstars.fitstars(imagedata, coords[2][:2], coords[3][:2], 5, subnx=35, subny=35)'\u001b[0m\u001b[1;33m)\u001b[0m\u001b[1;33m\u001b[0m\u001b[0m\n",
      "\u001b[1;31mNameError\u001b[0m: name 'fitstars' is not defined"
     ]
    }
   ],
   "source": [
    "reload(fitstars)\n",
    "%time p0, d, sig = fitstars.fitstars(imagedata, coords[2][:2], coords[3][:2], 5, subnx=35, subny=35)"
   ]
  },
  {
   "cell_type": "code",
   "execution_count": 24,
   "metadata": {
    "collapsed": false
   },
   "outputs": [
    {
     "name": "stdout",
     "output_type": "stream",
     "text": [
      "10 loops, best of 3: 68.7 ms per loop\n",
      " "
     ]
    }
   ],
   "source": [
    "%timeit fitstars.star_chi2(p0, d, sig)\n",
    "%prun fitstars.star_chi2(p0, d, sig)"
   ]
  },
  {
   "cell_type": "code",
   "execution_count": 26,
   "metadata": {
    "collapsed": false
   },
   "outputs": [
    {
     "name": "stdout",
     "output_type": "stream",
     "text": [
      "PSF parameters: [  2.0054967    2.55932854   1.01066011 -12.63215416]\n",
      "X0s: [-0.3323759   0.14957821]\n",
      "Y0s: [-0.27258738  0.02634493]\n",
      "fluxes: [  544523.57253202  2519097.9941866 ]\n",
      "sky: [ 172.92300707  308.3319645 ]\n"
     ]
    }
   ],
   "source": [
    "#print(results)\n",
    "print(\"PSF parameters: \" +str(results[0:4]))\n",
    "print(\"X0s: \" + str(results[4::4]))\n",
    "print(\"Y0s: \" + str(results[5::4]))\n",
    "print(\"fluxes: \" + str(results[6::4]))\n",
    "print(\"sky: \" + str(results[7::4]))"
   ]
  },
  {
   "cell_type": "code",
   "execution_count": 24,
   "metadata": {
    "collapsed": false
   },
   "outputs": [],
   "source": [
    "reload(fitstars)\n",
    "dmodel = fitstars.model_stars(results, 21, 21, 2)\n",
    "d = fitstars.make_substamps(imagedata, coords[2][:2], coords[3][:2], 21, 21)"
   ]
  },
  {
   "cell_type": "code",
   "execution_count": 25,
   "metadata": {
    "collapsed": false
   },
   "outputs": [
    {
     "name": "stdout",
     "output_type": "stream",
     "text": [
      "[[10 10]]\n",
      "[[10 10]]\n"
     ]
    },
    {
     "data": {
      "image/png": "[encoded data removed]",
      "text/plain": [
       "<matplotlib.figure.Figure at 0x2b7ee7832f50>"
      ]
     },
     "metadata": {},
     "output_type": "display_data"
    },
    {
     "data": {
      "image/png": "[encoded data removed]",
      "text/plain": [
       "<matplotlib.figure.Figure at 0x2b7ee781a0d0>"
      ]
     },
     "metadata": {},
     "output_type": "display_data"
    },
    {
     "data": {
      "image/png": "[encoded data removed]",
      "text/plain": [
       "<matplotlib.figure.Figure at 0x2b7ef13cefd0>"
      ]
     },
     "metadata": {},
     "output_type": "display_data"
    }
   ],
   "source": [
    "pl.imshow(d[0],cmap = 'gray', interpolation='nearest'); pl.colorbar()\n",
    "pl.figure()\n",
    "pl.imshow(dmodel[0],cmap = 'gray', interpolation='nearest'); pl.colorbar()\n",
    "pl.figure()\n",
    "pl.imshow(d[0] - dmodel[0], cmap = 'gray', interpolation='nearest'); pl.colorbar()\n",
    "print(np.argwhere(dmodel[0] == dmodel[0].max()))\n",
    "print(np.argwhere(d[0] == d[0].max()))"
   ]
  },
  {
   "cell_type": "code",
   "execution_count": 93,
   "metadata": {
    "collapsed": false
   },
   "outputs": [
    {
     "data": {
      "text/plain": [
       "<matplotlib.colorbar.Colorbar instance at 0x120321950>"
      ]
     },
     "execution_count": 93,
     "metadata": {},
     "output_type": "execute_result"
    },
    {
     "data": {
      "image/png": "[encoded data removed]",
      "text/plain": [
       "<matplotlib.figure.Figure at 0x1203147d0>"
      ]
     },
     "metadata": {},
     "output_type": "display_data"
    }
   ],
   "source": [
    "pl.imshow(psf.moffat_kernel(-0.8, -2.0, 2, 2), cmap = 'gray', interpolation='nearest'); pl.colorbar()"
   ]
  },
  {
   "cell_type": "code",
   "execution_count": 138,
   "metadata": {
    "collapsed": false
   },
   "outputs": [
    {
     "name": "stdout",
     "output_type": "stream",
     "text": [
      " "
     ]
    }
   ],
   "source": [
    "reload(fitstars)\n",
    "%prun curve_results = fitstars.curvefitstars(imagedata, [coords[2][6]], [coords[3][6]], 15, subnx=21, subny=21)"
   ]
  },
  {
   "cell_type": "code",
   "execution_count": 139,
   "metadata": {
    "collapsed": true
   },
   "outputs": [],
   "source": [
    "reload(fitstars)\n",
    "dmodel = fitstars.model_stars(curve_results[0], 21, 21)\n",
    "d = fitstars.make_substamps(imagedata, coords[2], coords[3], 21, 21)"
   ]
  },
  {
   "cell_type": "code",
   "execution_count": 140,
   "metadata": {
    "collapsed": false
   },
   "outputs": [
    {
     "name": "stdout",
     "output_type": "stream",
     "text": [
      "[[10 10]]\n",
      "[[10 10]]\n"
     ]
    },
    {
     "data": {
      "image/png": "[encoded data removed]",
      "text/plain": [
       "<matplotlib.figure.Figure at 0x1203f0910>"
      ]
     },
     "metadata": {},
     "output_type": "display_data"
    },
    {
     "data": {
      "image/png": "[encoded data removed]",
      "text/plain": [
       "<matplotlib.figure.Figure at 0x121963b90>"
      ]
     },
     "metadata": {},
     "output_type": "display_data"
    },
    {
     "data": {
      "image/png": "[encoded data removed]",
      "text/plain": [
       "<matplotlib.figure.Figure at 0x121ac5b10>"
      ]
     },
     "metadata": {},
     "output_type": "display_data"
    }
   ],
   "source": [
    "pl.imshow(d[0],cmap = 'gray', interpolation='nearest'); pl.colorbar()\n",
    "pl.figure()\n",
    "pl.imshow(dmodel[0],cmap = 'gray', interpolation='nearest'); pl.colorbar()\n",
    "pl.figure()\n",
    "pl.imshow(d[0] - dmodel[0], cmap = 'gray', interpolation='nearest'); pl.colorbar()\n",
    "print(np.argwhere(dmodel[0] == dmodel[0].max()))\n",
    "print(np.argwhere(d[0] == d[0].max()))"
   ]
  },
  {
   "cell_type": "code",
   "execution_count": 134,
   "metadata": {
    "collapsed": false
   },
   "outputs": [
    {
     "data": {
      "text/plain": [
       "array([  2.17285214e+00,   2.56539052e+00,   9.54314266e-01,\n",
       "         1.72127566e+01,  -2.94151047e-01,  -2.36150435e-01,\n",
       "         4.57344049e+05,   1.62230863e+02,   1.82683082e-01,\n",
       "         8.03035578e-02,   2.11576282e+06,   2.76797925e+02,\n",
       "        -3.17156924e-01,   3.75125097e-01,   2.21068077e+05,\n",
       "         9.23326150e+02,   1.78289106e-01,  -4.89082231e-01,\n",
       "         2.83633201e+05,   1.58587016e+02,   3.28382673e-01,\n",
       "        -2.38808363e-01,   9.88725205e+04,   1.45549337e+02,\n",
       "        -1.87498199e-01,  -3.07041257e-03,   8.16632917e+04,\n",
       "         1.45360908e+02,  -3.64771006e-02,  -1.65640024e-01,\n",
       "         5.42739895e+05,   1.60795620e+02,   2.92108907e-01,\n",
       "         3.80192771e-01,   2.89410057e+05,   1.52635429e+02,\n",
       "        -1.89863898e-01,  -1.92632609e-01,   2.97198683e+06,\n",
       "         4.52841909e+02])"
      ]
     },
     "execution_count": 134,
     "metadata": {},
     "output_type": "execute_result"
    }
   ],
   "source": [
    "curve_results[0]"
   ]
  },
  {
   "cell_type": "code",
   "execution_count": 137,
   "metadata": {
    "collapsed": false
   },
   "outputs": [
    {
     "data": {
      "text/plain": [
       "array([ 3984.783,  3204.041,  3584.388,  3646.583,  2148.794,  1799.993,\n",
       "        1207.87 ,  1266.37 ,  1536.732])"
      ]
     },
     "execution_count": 137,
     "metadata": {},
     "output_type": "execute_result"
    }
   ],
   "source": [
    "coords[3]"
   ]
  },
  {
   "cell_type": "code",
   "execution_count": 141,
   "metadata": {
    "collapsed": false
   },
   "outputs": [
    {
     "name": "stdout",
     "output_type": "stream",
     "text": [
      "PSF parameters: [  1.72217695   2.34605543   0.89468753 -79.76023174]\n",
      "X0s: [-0.05332514]\n",
      "Y0s: [-0.15679056]\n",
      "fluxes: [ 594847.04834517]\n",
      "sky: [ 186.93486034]\n"
     ]
    }
   ],
   "source": [
    "#print(results)\n",
    "print(\"PSF parameters: \" +str(curve_results[0][0:4]))\n",
    "print(\"X0s: \" + str(curve_results[0][4::4]))\n",
    "print(\"Y0s: \" + str(curve_results[0][5::4]))\n",
    "print(\"fluxes: \" + str(curve_results[0][6::4]))\n",
    "print(\"sky: \" + str(curve_results[0][7::4]))"
   ]
  },
  {
   "cell_type": "code",
   "execution_count": null,
   "metadata": {
    "collapsed": true
   },
   "outputs": [],
   "source": []
  }
 ],
 "metadata": {
  "kernelspec": {
   "display_name": "Python 2",
   "language": "python",
   "name": "python2"
  },
  "language_info": {
   "codemirror_mode": {
    "name": "ipython",
    "version": 2
   },
   "file_extension": ".py",
   "mimetype": "text/x-python",
   "name": "python",
   "nbconvert_exporter": "python",
   "pygments_lexer": "ipython2",
   "version": "2.7.9"
  }
 },
 "nbformat": 4,
 "nbformat_minor": 0
}
