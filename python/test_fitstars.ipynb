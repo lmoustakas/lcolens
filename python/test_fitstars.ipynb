{
 "cells": [
  {
   "cell_type": "code",
   "execution_count": 32,
   "metadata": {
    "collapsed": true
   },
   "outputs": [],
   "source": [
    "%matplotlib inline"
   ]
  },
  {
   "cell_type": "code",
   "execution_count": 33,
   "metadata": {
    "collapsed": false
   },
   "outputs": [],
   "source": [
    "from astropy.io import fits\n",
    "import numpy as np\n",
    "from matplotlib import pyplot as pl"
   ]
  },
  {
   "cell_type": "code",
   "execution_count": 4,
   "metadata": {
    "collapsed": false
   },
   "outputs": [],
   "source": [
    "hdu = fits.open('../data/forwcs_drc_sci.fits')"
   ]
  },
  {
   "cell_type": "code",
   "execution_count": 8,
   "metadata": {
    "collapsed": false
   },
   "outputs": [
    {
     "data": {
      "text/plain": [
       "[<astropy.io.fits.hdu.image.PrimaryHDU at 0x7f37ce174650>,\n",
       " <astropy.io.fits.hdu.table.BinTableHDU at 0x7f37cd308ed0>]"
      ]
     },
     "execution_count": 8,
     "metadata": {},
     "output_type": "execute_result"
    }
   ],
   "source": [
    "hdu"
   ]
  },
  {
   "cell_type": "code",
   "execution_count": 5,
   "metadata": {
    "collapsed": false
   },
   "outputs": [],
   "source": [
    "imagedata = hdu[0].data.copy()"
   ]
  },
  {
   "cell_type": "code",
   "execution_count": 7,
   "metadata": {
    "collapsed": false
   },
   "outputs": [],
   "source": [
    "coords = np.genfromtxt('../data/hst_coords.dat').transpose()"
   ]
  },
  {
   "cell_type": "code",
   "execution_count": 14,
   "metadata": {
    "collapsed": false
   },
   "outputs": [
    {
     "data": {
      "text/plain": [
       "(array([  975.665,  1463.135,  2460.64 ,  4431.166,  3402.273,   994.797,\n",
       "         1820.908,  3360.234,  4171.773]),\n",
       " array([ 3984.783,  3204.041,  3584.388,  3646.583,  2148.794,  1799.993,\n",
       "         1207.87 ,  1266.37 ,  1536.732]))"
      ]
     },
     "execution_count": 14,
     "metadata": {},
     "output_type": "execute_result"
    }
   ],
   "source": [
    "coords[2], coords[3]"
   ]
  },
  {
   "cell_type": "code",
   "execution_count": 94,
   "metadata": {
    "collapsed": false
   },
   "outputs": [
    {
     "data": {
      "text/plain": [
       "<module 'fitstars' from 'fitstars.py'>"
      ]
     },
     "execution_count": 94,
     "metadata": {},
     "output_type": "execute_result"
    }
   ],
   "source": [
    "import fitstars\n",
    "reload(fitstars)"
   ]
  },
  {
   "cell_type": "code",
   "execution_count": 88,
   "metadata": {
    "collapsed": false
   },
   "outputs": [
    {
     "name": "stdout",
     "output_type": "stream",
     "text": [
      " "
     ]
    }
   ],
   "source": [
    "%prun results = fitstars.fitstars(imagedata, coords[2][:2], coords[3][:2], 15, subnx=21, subny=21)"
   ]
  },
  {
   "cell_type": "code",
   "execution_count": 17,
   "metadata": {
    "collapsed": false
   },
   "outputs": [
    {
     "name": "stdout",
     "output_type": "stream",
     "text": [
      "CPU times: user 1.97 ms, sys: 1.39 ms, total: 3.36 ms\n",
      "Wall time: 1.97 ms\n"
     ]
    },
    {
     "data": {
      "text/plain": [
       "array([[ 0.00027715,  0.00036271,  0.00046476,  0.00057496,  0.000676  ,\n",
       "         0.00074412,  0.00075907,  0.00071592,  0.00062836,  0.00051998,\n",
       "         0.00041217,  0.00031774,  0.00024123],\n",
       "       [ 0.00038586,  0.0005342 ,  0.00072794,  0.00095845,  0.00119095,\n",
       "         0.00136247,  0.0014085 ,  0.00130909,  0.00110575,  0.00086768,\n",
       "         0.00064857,  0.00047205,  0.00034007],\n",
       "       [ 0.00052903,  0.0007822 ,  0.00115113,  0.00164815,  0.00221889,\n",
       "         0.00269478,  0.00284919,  0.00259198,  0.0020682 ,  0.00150489,\n",
       "         0.00103994,  0.00070419,  0.00047673],\n",
       "       [ 0.00070085,  0.00111307,  0.00179314,  0.00286015,  0.0043159 ,\n",
       "         0.00575547,  0.00632726,  0.00557639,  0.00408463,  0.00267227,\n",
       "         0.00166773,  0.00103566,  0.000654  ],\n",
       "       [ 0.00087551,  0.00148862,  0.00263381,  0.00475735,  0.0083301 ,\n",
       "         0.01275961,  0.01498306,  0.01263296,  0.00818785,  0.00465911,\n",
       "         0.00257704,  0.00145736,  0.00085815],\n",
       "       [ 0.00100513,  0.00179769,  0.00342896,  0.00691909,  0.01409554,\n",
       "         0.02542769,  0.03272851,  0.02636436,  0.01487518,  0.00731713,\n",
       "         0.00361136,  0.00188309,  0.00104752],\n",
       "       [ 0.00103999,  0.00189526,  0.00372624,  0.00790061,  0.01738716,\n",
       "         0.03459541,  0.04778364,  0.03815808,  0.02009049,  0.00916556,\n",
       "         0.00427109,  0.00214018,  0.00115835],\n",
       "       [ 0.00096465,  0.00172569,  0.0033043 ,  0.00674689,  0.01413013,\n",
       "         0.02681149,  0.03671417,  0.03079071,  0.01743386,  0.00842765,\n",
       "         0.00407198,  0.00208422,  0.00114231],\n",
       "       [ 0.00081129,  0.00138238,  0.00246813,  0.00455936,  0.00835299,\n",
       "         0.01377199,  0.01763511,  0.0158392 ,  0.01046656,  0.00588158,\n",
       "         0.00317386,  0.00174937,  0.00100696],\n",
       "       [ 0.00063298,  0.00101125,  0.00165394,  0.00271951,  0.00432372,\n",
       "         0.00621589,  0.00743672,  0.00701911,  0.00532494,  0.00349854,\n",
       "         0.0021534 ,  0.00130948,  0.00080884],\n",
       "       [ 0.00047024,  0.00070256,  0.00105535,  0.00156481,  0.00222084,\n",
       "         0.00288975,  0.00329358,  0.00319795,  0.00266329,  0.00197394,\n",
       "         0.00136394,  0.0009135 ,  0.0006086 ],\n",
       "       [ 0.00034025,  0.00047797,  0.00066737,  0.00091162,  0.00119126,\n",
       "         0.00144926,  0.00159951,  0.00157731,  0.00139302,  0.00112266,\n",
       "         0.00084818,  0.00061674,  0.00044067],\n",
       "       [ 0.00024382,  0.00032482,  0.00042742,  0.00054857,  0.00067593,\n",
       "         0.00078582,  0.00084881,  0.0008443 ,  0.00077389,  0.00066024,\n",
       "         0.00053267,  0.00041348,  0.00031362]])"
      ]
     },
     "execution_count": 17,
     "metadata": {},
     "output_type": "execute_result"
    }
   ],
   "source": [
    "import psf\n",
    "%time psf.moffat_kernel(0.1, 0.1, 2.5, 2.0, q = 0.9, posang=75)"
   ]
  },
  {
   "cell_type": "code",
   "execution_count": 20,
   "metadata": {
    "collapsed": false
   },
   "outputs": [
    {
     "name": "stdout",
     "output_type": "stream",
     "text": [
      "CPU times: user 345 ms, sys: 35.2 ms, total: 380 ms\n",
      "Wall time: 381 ms\n"
     ]
    }
   ],
   "source": [
    "reload(fitstars)\n",
    "%time p0, d, sig = fitstars.fitstars(imagedata, coords[2][:2], coords[3][:2], 5, subnx=35, subny=35)"
   ]
  },
  {
   "cell_type": "code",
   "execution_count": 24,
   "metadata": {
    "collapsed": false
   },
   "outputs": [
    {
     "name": "stdout",
     "output_type": "stream",
     "text": [
      "10 loops, best of 3: 68.7 ms per loop\n",
      " "
     ]
    }
   ],
   "source": [
    "%timeit fitstars.star_chi2(p0, d, sig)\n",
    "%prun fitstars.star_chi2(p0, d, sig)"
   ]
  },
  {
   "cell_type": "code",
   "execution_count": 85,
   "metadata": {
    "collapsed": false
   },
   "outputs": [
    {
     "name": "stdout",
     "output_type": "stream",
     "text": [
      "PSF parameters: [ 1.84214287  2.35334647  1.02254277 -0.29050102]\n",
      "X0s: [-0.04561643  0.2115438 ]\n",
      "Y0s: [-0.1928206   0.01101463]\n",
      "fluxes: [  417249.27170314  1995413.67826859]\n",
      "sky: [ 163.66096441  223.6031922 ]\n"
     ]
    }
   ],
   "source": [
    "#print(results)\n",
    "print(\"PSF parameters: \" +str(results[0:4]))\n",
    "print(\"X0s: \" + str(results[4::4]))\n",
    "print(\"Y0s: \" + str(results[5::4]))\n",
    "print(\"fluxes: \" + str(results[6::4]))\n",
    "print(\"sky: \" + str(results[7::4]))"
   ]
  },
  {
   "cell_type": "code",
   "execution_count": 8,
   "metadata": {
    "collapsed": false
   },
   "outputs": [
    {
     "data": {
      "text/plain": [
       "array([[ 0.,  0.,  0., ...,  0.,  0.,  0.],\n",
       "       [ 0.,  0.,  0., ...,  0.,  0.,  0.],\n",
       "       [ 0.,  0.,  0., ...,  0.,  0.,  0.],\n",
       "       ..., \n",
       "       [ 0.,  0.,  0., ...,  0.,  0.,  0.],\n",
       "       [ 0.,  0.,  0., ...,  0.,  0.,  0.],\n",
       "       [ 0.,  0.,  0., ...,  0.,  0.,  0.]], dtype=float32)"
      ]
     },
     "execution_count": 8,
     "metadata": {},
     "output_type": "execute_result"
    }
   ],
   "source": [
    "imagedata"
   ]
  },
  {
   "cell_type": "code",
   "execution_count": 29,
   "metadata": {
    "collapsed": false
   },
   "outputs": [
    {
     "data": {
      "text/plain": [
       "array([[[ 156.20832825,  156.25312805,  161.51623535, ...,  151.22013855,\n",
       "          154.61579895,  164.46794128],\n",
       "        [ 145.35603333,  172.2481842 ,  167.64770508, ...,  150.55780029,\n",
       "          161.74372864,  184.21298218],\n",
       "        [ 141.22732544,  141.36724854,  154.60215759, ...,  167.55947876,\n",
       "          190.37295532,  154.57791138],\n",
       "        ..., \n",
       "        [ 173.46313477,  151.7454834 ,  144.07608032, ...,  163.20500183,\n",
       "          176.05499268,  169.81269836],\n",
       "        [ 167.64846802,  171.39352417,  149.96858215, ...,  164.68559265,\n",
       "          159.93951416,  160.12463379],\n",
       "        [ 143.71281433,  165.61494446,  144.36323547, ...,  140.48175049,\n",
       "          140.19613647,  165.08612061]],\n",
       "\n",
       "       [[ 160.14268494,  178.67402649,  159.62524414, ...,  177.76255798,\n",
       "          202.37878418,  189.92410278],\n",
       "        [ 179.35691833,  194.1403656 ,  183.66270447, ...,  209.64271545,\n",
       "          185.02838135,  172.77827454],\n",
       "        [ 184.33010864,  200.41433716,  195.26556396, ...,  206.33717346,\n",
       "          187.41845703,  198.99519348],\n",
       "        ..., \n",
       "        [ 159.16885376,  181.1038208 ,  163.30793762, ...,  186.03939819,\n",
       "          187.07701111,  182.63822937],\n",
       "        [ 160.75382996,  175.57562256,  179.76429749, ...,  175.3881073 ,\n",
       "          188.42118835,  178.65777588],\n",
       "        [ 174.8862915 ,  157.82603455,  177.74337769, ...,  189.1930542 ,\n",
       "          174.04302979,  174.16418457]],\n",
       "\n",
       "       [[ 324.88079834,  316.88568115,  331.480896  , ...,  285.17230225,\n",
       "          269.3770752 ,  258.59887695],\n",
       "        [ 367.11331177,  343.64086914,  327.44543457, ...,  309.87710571,\n",
       "          286.74368286,  274.3550415 ],\n",
       "        [ 380.70556641,  392.18432617,  357.11999512, ...,  303.62493896,\n",
       "          303.3119812 ,  279.8041687 ],\n",
       "        ..., \n",
       "        [ 303.42327881,  316.65481567,  345.57592773, ...,  270.93634033,\n",
       "          273.1685791 ,  307.60076904],\n",
       "        [ 287.31408691,  294.48974609,  320.72683716, ...,  282.62982178,\n",
       "          261.73919678,  267.9458313 ],\n",
       "        [ 284.5803833 ,  283.92767334,  306.20172119, ...,  273.527771  ,\n",
       "          249.23587036,  234.24981689]],\n",
       "\n",
       "       ..., \n",
       "       [[ 157.24420166,  153.75047302,  152.58451843, ...,  136.08738708,\n",
       "          151.87615967,  157.0436554 ],\n",
       "        [ 148.4833374 ,  166.65177917,  156.91723633, ...,  146.5063324 ,\n",
       "          146.53015137,  155.04193115],\n",
       "        [ 154.5637207 ,  168.5881958 ,  138.95349121, ...,  164.38999939,\n",
       "          130.96577454,  132.49508667],\n",
       "        ..., \n",
       "        [ 158.85754395,  126.91565704,  141.55169678, ...,  144.55807495,\n",
       "          168.6550293 ,  157.50434875],\n",
       "        [ 141.66070557,  137.80854797,  140.87564087, ...,  163.9942627 ,\n",
       "          167.40536499,  162.27581787],\n",
       "        [ 146.637146  ,  138.45788574,  146.69274902, ...,  150.9848938 ,\n",
       "          170.96450806,  173.27078247]],\n",
       "\n",
       "       [[ 154.19265747,  158.88427734,  173.95823669, ...,  184.3344574 ,\n",
       "          174.38296509,  148.21434021],\n",
       "        [ 145.63453674,  139.22387695,  151.03987122, ...,  186.67857361,\n",
       "          159.13731384,  131.45021057],\n",
       "        [ 157.47680664,  139.80697632,  173.42314148, ...,  150.64570618,\n",
       "          150.90910339,  144.61795044],\n",
       "        ..., \n",
       "        [ 174.13929749,  161.59646606,  165.65258789, ...,  164.95825195,\n",
       "          174.90817261,  153.51205444],\n",
       "        [ 170.37687683,  157.55976868,  144.51751709, ...,  142.12475586,\n",
       "          153.92893982,  155.94511414],\n",
       "        [ 160.00048828,  161.16714478,  156.77197266, ...,  134.66619873,\n",
       "          159.63674927,  150.89022827]],\n",
       "\n",
       "       [[ 185.68875122,  185.68836975,  158.5191803 , ...,  218.60070801,\n",
       "          205.09451294,  199.82910156],\n",
       "        [ 190.48675537,  165.15711975,  191.54438782, ...,  190.5098877 ,\n",
       "          183.87942505,  168.55659485],\n",
       "        [ 179.56329346,  190.33078003,  195.63212585, ...,  206.50312805,\n",
       "          202.74557495,  185.38322449],\n",
       "        ..., \n",
       "        [ 167.71192932,  177.27156067,  211.23394775, ...,  216.07894897,\n",
       "          194.36804199,  175.28347778],\n",
       "        [ 178.48696899,  177.11174011,  188.19924927, ...,  208.50689697,\n",
       "          191.05677795,  182.25158691],\n",
       "        [ 186.10084534,  188.697052  ,  178.86610413, ...,  196.12252808,\n",
       "          204.00662231,  182.1421814 ]]])"
      ]
     },
     "execution_count": 29,
     "metadata": {},
     "output_type": "execute_result"
    }
   ],
   "source": [
    "d"
   ]
  },
  {
   "cell_type": "code",
   "execution_count": 89,
   "metadata": {
    "collapsed": false
   },
   "outputs": [],
   "source": [
    "reload(fitstars)\n",
    "dmodel = fitstars.model_stars(results, 21, 21)\n",
    "d = fitstars.make_substamps(imagedata, coords[2], coords[3], 21, 21)"
   ]
  },
  {
   "cell_type": "code",
   "execution_count": 90,
   "metadata": {
    "collapsed": false
   },
   "outputs": [
    {
     "name": "stdout",
     "output_type": "stream",
     "text": [
      "[[10 10]]\n",
      "[[10 10]]\n"
     ]
    },
    {
     "data": {
      "image/png": "[encoded data removed]",
      "text/plain": [
       "<matplotlib.figure.Figure at 0x1205418d0>"
      ]
     },
     "metadata": {},
     "output_type": "display_data"
    },
    {
     "data": {
      "image/png": "[encoded data removed]",
      "text/plain": [
       "<matplotlib.figure.Figure at 0x1203b6d10>"
      ]
     },
     "metadata": {},
     "output_type": "display_data"
    },
    {
     "data": {
      "image/png": "[encoded data removed]",
      "text/plain": [
       "<matplotlib.figure.Figure at 0x1203cf890>"
      ]
     },
     "metadata": {},
     "output_type": "display_data"
    }
   ],
   "source": [
    "pl.imshow(d[0],cmap = 'gray', interpolation='nearest'); pl.colorbar()\n",
    "pl.figure()\n",
    "pl.imshow(dmodel[0],cmap = 'gray', interpolation='nearest'); pl.colorbar()\n",
    "pl.figure()\n",
    "pl.imshow(d[0] - dmodel[0], cmap = 'gray', interpolation='nearest'); pl.colorbar()\n",
    "print(np.argwhere(dmodel[0] == dmodel[0].max()))\n",
    "print(np.argwhere(d[0] == d[0].max()))"
   ]
  },
  {
   "cell_type": "code",
   "execution_count": 93,
   "metadata": {
    "collapsed": false
   },
   "outputs": [
    {
     "data": {
      "text/plain": [
       "<matplotlib.colorbar.Colorbar instance at 0x120321950>"
      ]
     },
     "execution_count": 93,
     "metadata": {},
     "output_type": "execute_result"
    },
    {
     "data": {
      "image/png": "[encoded data removed]",
      "text/plain": [
       "<matplotlib.figure.Figure at 0x1203147d0>"
      ]
     },
     "metadata": {},
     "output_type": "display_data"
    }
   ],
   "source": [
    "pl.imshow(psf.moffat_kernel(-0.8, -2.0, 2, 2), cmap = 'gray', interpolation='nearest'); pl.colorbar()"
   ]
  },
  {
   "cell_type": "code",
   "execution_count": 138,
   "metadata": {
    "collapsed": false
   },
   "outputs": [
    {
     "name": "stdout",
     "output_type": "stream",
     "text": [
      " "
     ]
    }
   ],
   "source": [
    "reload(fitstars)\n",
    "%prun curve_results = fitstars.curvefitstars(imagedata, [coords[2][6]], [coords[3][6]], 15, subnx=21, subny=21)"
   ]
  },
  {
   "cell_type": "code",
   "execution_count": 139,
   "metadata": {
    "collapsed": true
   },
   "outputs": [],
   "source": [
    "reload(fitstars)\n",
    "dmodel = fitstars.model_stars(curve_results[0], 21, 21)\n",
    "d = fitstars.make_substamps(imagedata, coords[2], coords[3], 21, 21)"
   ]
  },
  {
   "cell_type": "code",
   "execution_count": 140,
   "metadata": {
    "collapsed": false
   },
   "outputs": [
    {
     "name": "stdout",
     "output_type": "stream",
     "text": [
      "[[10 10]]\n",
      "[[10 10]]\n"
     ]
    },
    {
     "data": {
      "image/png": "[encoded data removed]",
      "text/plain": [
       "<matplotlib.figure.Figure at 0x1203f0910>"
      ]
     },
     "metadata": {},
     "output_type": "display_data"
    },
    {
     "data": {
      "image/png": "[encoded data removed]",
      "text/plain": [
       "<matplotlib.figure.Figure at 0x121963b90>"
      ]
     },
     "metadata": {},
     "output_type": "display_data"
    },
    {
     "data": {
      "image/png": "[encoded data removed]",
      "text/plain": [
       "<matplotlib.figure.Figure at 0x121ac5b10>"
      ]
     },
     "metadata": {},
     "output_type": "display_data"
    }
   ],
   "source": [
    "pl.imshow(d[0],cmap = 'gray', interpolation='nearest'); pl.colorbar()\n",
    "pl.figure()\n",
    "pl.imshow(dmodel[0],cmap = 'gray', interpolation='nearest'); pl.colorbar()\n",
    "pl.figure()\n",
    "pl.imshow(d[0] - dmodel[0], cmap = 'gray', interpolation='nearest'); pl.colorbar()\n",
    "print(np.argwhere(dmodel[0] == dmodel[0].max()))\n",
    "print(np.argwhere(d[0] == d[0].max()))"
   ]
  },
  {
   "cell_type": "code",
   "execution_count": 134,
   "metadata": {
    "collapsed": false
   },
   "outputs": [
    {
     "data": {
      "text/plain": [
       "array([  2.17285214e+00,   2.56539052e+00,   9.54314266e-01,\n",
       "         1.72127566e+01,  -2.94151047e-01,  -2.36150435e-01,\n",
       "         4.57344049e+05,   1.62230863e+02,   1.82683082e-01,\n",
       "         8.03035578e-02,   2.11576282e+06,   2.76797925e+02,\n",
       "        -3.17156924e-01,   3.75125097e-01,   2.21068077e+05,\n",
       "         9.23326150e+02,   1.78289106e-01,  -4.89082231e-01,\n",
       "         2.83633201e+05,   1.58587016e+02,   3.28382673e-01,\n",
       "        -2.38808363e-01,   9.88725205e+04,   1.45549337e+02,\n",
       "        -1.87498199e-01,  -3.07041257e-03,   8.16632917e+04,\n",
       "         1.45360908e+02,  -3.64771006e-02,  -1.65640024e-01,\n",
       "         5.42739895e+05,   1.60795620e+02,   2.92108907e-01,\n",
       "         3.80192771e-01,   2.89410057e+05,   1.52635429e+02,\n",
       "        -1.89863898e-01,  -1.92632609e-01,   2.97198683e+06,\n",
       "         4.52841909e+02])"
      ]
     },
     "execution_count": 134,
     "metadata": {},
     "output_type": "execute_result"
    }
   ],
   "source": [
    "curve_results[0]"
   ]
  },
  {
   "cell_type": "code",
   "execution_count": 137,
   "metadata": {
    "collapsed": false
   },
   "outputs": [
    {
     "data": {
      "text/plain": [
       "array([ 3984.783,  3204.041,  3584.388,  3646.583,  2148.794,  1799.993,\n",
       "        1207.87 ,  1266.37 ,  1536.732])"
      ]
     },
     "execution_count": 137,
     "metadata": {},
     "output_type": "execute_result"
    }
   ],
   "source": [
    "coords[3]"
   ]
  },
  {
   "cell_type": "code",
   "execution_count": 141,
   "metadata": {
    "collapsed": false
   },
   "outputs": [
    {
     "name": "stdout",
     "output_type": "stream",
     "text": [
      "PSF parameters: [  1.72217695   2.34605543   0.89468753 -79.76023174]\n",
      "X0s: [-0.05332514]\n",
      "Y0s: [-0.15679056]\n",
      "fluxes: [ 594847.04834517]\n",
      "sky: [ 186.93486034]\n"
     ]
    }
   ],
   "source": [
    "#print(results)\n",
    "print(\"PSF parameters: \" +str(curve_results[0][0:4]))\n",
    "print(\"X0s: \" + str(curve_results[0][4::4]))\n",
    "print(\"Y0s: \" + str(curve_results[0][5::4]))\n",
    "print(\"fluxes: \" + str(curve_results[0][6::4]))\n",
    "print(\"sky: \" + str(curve_results[0][7::4]))"
   ]
  },
  {
   "cell_type": "code",
   "execution_count": null,
   "metadata": {
    "collapsed": true
   },
   "outputs": [],
   "source": []
  }
 ],
 "metadata": {
  "kernelspec": {
   "display_name": "Python 2",
   "language": "python",
   "name": "python2"
  },
  "language_info": {
   "codemirror_mode": {
    "name": "ipython",
    "version": 2
   },
   "file_extension": ".py",
   "mimetype": "text/x-python",
   "name": "python",
   "nbconvert_exporter": "python",
   "pygments_lexer": "ipython2",
   "version": "2.7.3"
  }
 },
 "nbformat": 4,
 "nbformat_minor": 0
}
