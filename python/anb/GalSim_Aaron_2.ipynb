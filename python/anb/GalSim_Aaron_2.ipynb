{
 "metadata": {
  "name": "",
  "signature": "sha256:6701138b88236e0f08fe1212d14e4ddbdd5db9338b7cf203abb40c524bc7d62b"
 },
 "nbformat": 3,
 "nbformat_minor": 0,
 "worksheets": [
  {
   "cells": [
    {
     "cell_type": "code",
     "collapsed": false,
     "input": [
      "import sys\n",
      "import os\n",
      "import math\n",
      "import numpy as np\n",
      "import pyfits\n",
      "import matplotlib.pyplot as plt\n",
      "import galsim\n",
      "import astrolib.coords as C\n",
      "import csv\n",
      "%matplotlib inline"
     ],
     "language": "python",
     "metadata": {},
     "outputs": [],
     "prompt_number": 6
    },
    {
     "cell_type": "code",
     "collapsed": false,
     "input": [
      "# read observational parameters from file 'observ_params.txt' into a dictionary\n",
      "\n",
      "with open('observ_params.txt', 'r') as f:\n",
      "    read_data = f.readlines()\n",
      "\n",
      "observ_parameters = {}\n",
      "\n",
      "for line in read_data:\n",
      "    # any line in the parameters file that does not contain a '=' will be skipped\n",
      "    if line.find('=') != -1:\n",
      "        parameter, value = line.split('=')\n",
      "        # strip off the /n\n",
      "        value = value[:-1]\n",
      "        # strip off the comment, if there is one\n",
      "        if value.find('#') != -1:\n",
      "            value = value[:(value.index('#') - 1)]\n",
      "        # append parameter to dictionary\n",
      "        observ_parameters[parameter] = value"
     ],
     "language": "python",
     "metadata": {},
     "outputs": [],
     "prompt_number": 7
    },
    {
     "cell_type": "code",
     "collapsed": false,
     "input": [
      "# read object parameters from file 'object_params.csv' into a dictionary keyed by object name\n",
      "\n",
      "object_parameters = {}\n",
      "\n",
      "with open('object_params.csv', 'rU') as csvfile:\n",
      "    read_data = csv.reader(csvfile)\n",
      "    for row in read_data:\n",
      "        obj, RA, DEC, profile, beta, FWHM, end_of_line = row\n",
      "        # append parameter to dictionary\n",
      "        object_parameters[obj] = (RA, DEC, profile, beta, FWHM)"
     ],
     "language": "python",
     "metadata": {},
     "outputs": [],
     "prompt_number": 8
    },
    {
     "cell_type": "code",
     "collapsed": false,
     "input": [
      "# assign observational parameter values\n",
      "\n",
      "pixel_scale = float(observ_parameters['pixel_scale'])  # arcsec/pixel\n",
      "xsize = int(observ_parameters['img_size'])             # pixel\n",
      "ysize = int(observ_parameters['img_size'])             # pixel\n",
      "sky_level = float(observ_parameters['sky_level'])      # ADU/arcsec^2\n",
      "center = observ_parameters['img_center']               # RA DEC string\n",
      "image = galsim.ImageF(xsize, ysize)"
     ],
     "language": "python",
     "metadata": {},
     "outputs": [],
     "prompt_number": 9
    },
    {
     "cell_type": "code",
     "collapsed": false,
     "input": [
      "# draw the objects\n",
      "\n",
      "# convert the center position to decimal degrees\n",
      "center_sex = C.Position(center)\n",
      "center_dd = center_sex.dd()\n",
      "\n",
      "str = \" \"  # for joining RA and DEC below\n",
      "\n",
      "profiles = []\n",
      "\n",
      "for object in object_parameters:\n",
      "    \n",
      "    #skip the headings row in the csv file\n",
      "    if object != '#object':\n",
      "    \n",
      "        # for joining RA and DEC below\n",
      "        seq = (object_parameters[object][0], object_parameters[object][1])\n",
      "    \n",
      "        # convert the object position to decimal degrees\n",
      "        obj_sex = C.Position(str.join(seq))\n",
      "        obj_dd = obj_sex.dd()\n",
      "        # find the offset from center\n",
      "        dx_deg = obj_dd[0] - center_dd[0]\n",
      "        dy_deg = obj_dd[1] - center_dd[1]\n",
      "        # convert degrees to arcseconds\n",
      "        dx_arcsec = dx_deg * 3600\n",
      "        dy_arcsec = dy_deg * 3600\n",
      "        # create the profile\n",
      "        if object_parameters[object][2] == 'moffat':\n",
      "            profile = galsim.Moffat(flux=1.e5, beta=float(object_parameters[object][3]),\n",
      "                                    fwhm=float(object_parameters[object][4]))\n",
      "        # apply the offset\n",
      "        profile = profile.shift(dx_arcsec, dy_arcsec)\n",
      "        profiles.append(profile)\n",
      "\n",
      "# sum the profiles\n",
      "field = galsim.Sum(profiles)  \n",
      "    \n",
      "# draw the image\n",
      "field.drawImage(image, scale=pixel_scale)\n",
      "\n",
      "# add sky noise\n",
      "# image.addNoise(galsim.GaussianNoise(sigma=sky_noise))\n",
      "# image.sky_level=sky_level  \n",
      "\n",
      "# write and plot the image\n",
      "image.write(\"Aaron_test.fits\")\n",
      "hdus = pyfits.open(\"Aaron_test.fits\")\n",
      "data = hdus[0].data\n",
      "fig = plt.figure(figsize=(7, 7))\n",
      "im = plt.imshow(data, cmap=\"gray\", interpolation='none')\n",
      "plt.colorbar()"
     ],
     "language": "python",
     "metadata": {},
     "outputs": [
      {
       "metadata": {},
       "output_type": "pyout",
       "prompt_number": 10,
       "text": [
        "<matplotlib.colorbar.Colorbar instance at 0x1097f0cf8>"
       ]
      },
      {
       "metadata": {},
       "output_type": "display_data",
       "png": "[encoded data removed]",
       "text": [
        "<matplotlib.figure.Figure at 0x1053a7910>"
       ]
      }
     ],
     "prompt_number": 10
    }
   ],
   "metadata": {}
  }
 ]
}