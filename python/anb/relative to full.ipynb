{
 "metadata": {
  "name": "",
  "signature": "sha256:887ff578754174bfaa9733454c6e67f1fe69138baeda752864267d70428d78c5"
 },
 "nbformat": 3,
 "nbformat_minor": 0,
 "worksheets": [
  {
   "cells": [
    {
     "cell_type": "code",
     "collapsed": false,
     "input": [
      "import math\n",
      "import astrolib.coords as C"
     ],
     "language": "python",
     "metadata": {},
     "outputs": [],
     "prompt_number": 4
    },
    {
     "cell_type": "code",
     "collapsed": false,
     "input": [
      "def relative_to_full(center_str, dx_sec, dy_sec):\n",
      "    '''\n",
      "    This function takes an hmsdms position as a string, 'h:m:s d:m:s', a list of relative RA positions in arcsecs,\n",
      "    and a list of relative DEC positions in arcsecs, and prints the full hmsdms of every object.\n",
      "    \n",
      "    '''\n",
      "    RA_dd = []\n",
      "    RA_sex = []\n",
      "    DEC_dd = []\n",
      "    DEC_sex = []\n",
      "    # center_str = '4:38:14.90 -12:17:14.4'\n",
      "    center_sex = C.Position(center_str)\n",
      "    center_dd = center_sex.dd()\n",
      "    # dx_sec = [-1.4743, -2.4664, -0.9378, -1.1706]\n",
      "    # dy_sec = [0.5518, -0.6022, -1.6160, -0.5665]\n",
      "    \n",
      "    # convert the relative coords from arcsec to dd\n",
      "    # and add to the center position\n",
      "    for dx in dx_sec:\n",
      "        dx_deg = (dx/3600)\n",
      "        RA_dd.append(center_dd[0] + dx_deg)\n",
      "    for dy in dy_sec:\n",
      "        dy_deg = (dy/3600)\n",
      "        DEC_dd.append(center_dd[1] + dy_deg)\n",
      "        \n",
      "    # convert the dd to hmsdms\n",
      "    for dd in RA_dd:\n",
      "        hours = dd/15\n",
      "        decimal, integer = math.modf(hours)\n",
      "        hours = int(integer)\n",
      "        minutes = decimal * 60\n",
      "        decimal, integer = math.modf(minutes)\n",
      "        minutes = int(integer)\n",
      "        seconds = decimal * 60\n",
      "        string = str(hours) + \":\" + str(minutes) + \":\" + str(seconds)\n",
      "        RA_sex.append(string)\n",
      "    for dd in DEC_dd:\n",
      "        decimal, integer = math.modf(dd)\n",
      "        degrees = int(integer)\n",
      "        minutes = -(decimal * 60)\n",
      "        decimal, integer = math.modf(minutes)\n",
      "        minutes = int(integer)\n",
      "        seconds = decimal * 60\n",
      "        string = str(degrees) + \":\" + str(minutes) + \":\" + str(seconds)\n",
      "        DEC_sex.append(string)\n",
      "        \n",
      "    # print the hmsdms coordinates\n",
      "    for x in range(0,len(RA_sex)):\n",
      "        print RA_sex[x], ' ', DEC_sex[x]\n",
      "    return"
     ],
     "language": "python",
     "metadata": {},
     "outputs": [],
     "prompt_number": 7
    },
    {
     "cell_type": "code",
     "collapsed": false,
     "input": [
      "center_str = '4:38:14.90 -12:17:14.4'\n",
      "dx_sec = [-1.4743, -2.4664, -0.9378, -1.1706]\n",
      "dy_sec = [0.5518, -0.6022, -1.6160, -0.5665]\n",
      "relative_to_full(center_str, dx_sec, dy_sec)"
     ],
     "language": "python",
     "metadata": {},
     "outputs": [
      {
       "output_type": "stream",
       "stream": "stdout",
       "text": [
        "4:38:14.8017133333   -12:17:13.8482\n",
        "4:38:14.7355733333   -12:17:15.0022\n",
        "4:38:14.83748   -12:17:16.016\n",
        "4:38:14.82196   -12:17:14.9665\n"
       ]
      }
     ],
     "prompt_number": 8
    },
    {
     "cell_type": "code",
     "collapsed": false,
     "input": [],
     "language": "python",
     "metadata": {},
     "outputs": []
    }
   ],
   "metadata": {}
  }
 ]
}