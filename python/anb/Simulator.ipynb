{
 "metadata": {
  "name": "",
  "signature": "sha256:aff7299b64d4d13834341cd8f29acd8807cf104ced0ee7d5865f330d26ddb131"
 },
 "nbformat": 3,
 "nbformat_minor": 0,
 "worksheets": [
  {
   "cells": [
    {
     "cell_type": "code",
     "collapsed": false,
     "input": [
      "'''\n",
      "Written by Aaron Bunch, Citrus College, Glendora CA\n",
      "SIRI Intern, NASA-JPL, 2/17 - 6/2/2015\n",
      "Mentor:  Leonidas Moustakas\n",
      "Co-mentor:  Andrew Romero-Wolf\n",
      "\n",
      "Please contact me if you have questions about the code:\n",
      "aaronbunch713 at gmail.com\n",
      "cell:  509-592-3328\n",
      "'''"
     ],
     "language": "python",
     "metadata": {},
     "outputs": [
      {
       "metadata": {},
       "output_type": "pyout",
       "prompt_number": 81,
       "text": [
        "'\\nWritten by Aaron Bunch, Citrus College, Glendora CA\\nSIRI Intern, NASA-JPL, 2/17 - 6/2/2015\\nMentor:  Leonidas Moustakas\\nCo-mentor:  Andrew Romero-Wolf\\n\\nPlease contact me if you have questions about the code:\\naaronbunch713 at gmail.com\\ncell:  509-592-3328\\n'"
       ]
      }
     ],
     "prompt_number": 81
    },
    {
     "cell_type": "code",
     "collapsed": false,
     "input": [
      "import sys\n",
      "import os\n",
      "import math\n",
      "import numpy as np\n",
      "from astropy.io import fits\n",
      "from astropy.table import Table\n",
      "from astropy import units as u\n",
      "from astropy.coordinates import SkyCoord\n",
      "from astropy.coordinates import Angle\n",
      "import matplotlib.pyplot as plt\n",
      "import galsim\n",
      "%matplotlib inline"
     ],
     "language": "python",
     "metadata": {},
     "outputs": [],
     "prompt_number": 82
    },
    {
     "cell_type": "code",
     "collapsed": false,
     "input": [
      "def make_profile(row, t):\n",
      "    '''\n",
      "    This function takes a row from a table of object parameters, and the time index t,\n",
      "    and returns a GalSim object profile\n",
      "    '''\n",
      "    # temporary flux values for the variable objects; eventually these will be read from a table\n",
      "    flux_A = [1.3e5,1.e5,1.e5,1.e5]\n",
      "    flux_B = [1.e5,1.3e5,1.e5,1.e5]\n",
      "    flux_C = [1.e5,1.e5,1.3e5,1.e5]\n",
      "    flux_D = [1.e5,1.e5,1.e5,1.3e5]\n",
      "    \n",
      "    # get the object position\n",
      "    obj_position = SkyCoord(ra=Angle(row['RA'], unit=u.hourangle),\n",
      "                            dec=Angle(row['DEC'], unit=u.degree))\n",
      "    # find the offset from center\n",
      "    dx_deg = obj_position.ra.deg - center_dd.ra.deg\n",
      "    dy_deg = obj_position.dec.deg - center_dd.dec.deg\n",
      "    # convert degrees to arcseconds\n",
      "    dx_arcsec = dx_deg * 3600\n",
      "    dy_arcsec = dy_deg * 3600\n",
      "        \n",
      "    # determine the flux\n",
      "    # the reference objects have a flux column in their table\n",
      "    if 'flux' in row.colnames:\n",
      "        flux = row['flux']\n",
      "    # otherwise, for now, I am getting the flux of the variable objects from the lists above\n",
      "    else:\n",
      "        if row['object'] == 'A':\n",
      "            flux = flux_A[t]\n",
      "        elif row['object'] == 'B':\n",
      "            flux = flux_B[t]\n",
      "        elif row['object'] == 'C':\n",
      "            flux = flux_C[t]\n",
      "        elif row['object'] == 'D':\n",
      "            flux = flux_D[t]\n",
      "        \n",
      "    # e is 'ellipticity' and PA is 'position angle' in degrees, positive east of north\n",
      "    e = float(row['e'])\n",
      "    PA = galsim.Angle(float(row['PA']), galsim.degrees)\n",
      "        \n",
      "    # check for the object profile, and assign the relevant parameters\n",
      "    if row['profile'] == 'Gaussian':\n",
      "        # assign the parameters to variables\n",
      "        sigma = row['par_1']\n",
      "        fwhm = row['par_2']\n",
      "        half_light = row['par_3']\n",
      "        # use the first parameter provided\n",
      "        if sigma != '':\n",
      "            profile = galsim.Gaussian(flux=flux, sigma=float(sigma))\n",
      "        elif fwhm != '':\n",
      "            profile = galsim.Gaussian(flux=flux, fwhm=float(fwhm))\n",
      "        else:\n",
      "            profile = galsim.Gaussian(flux=flux, half_light_radius=float(half_light))\n",
      "    \n",
      "    if row['profile'] == 'Moffat':\n",
      "        # assign the parameters to variables\n",
      "        beta = row['par_1']\n",
      "        fwhm = row['par_2']\n",
      "        half_light = row['par_3']\n",
      "        # use the first parameter provided\n",
      "        if fwhm != '':\n",
      "            profile = galsim.Moffat(flux=flux, beta=float(beta), fwhm=float(fwhm))\n",
      "        else:\n",
      "            profile = galsim.Moffat(flux=flux, beta=float(beta), half_light_radius=float(half_light))\n",
      "            \n",
      "    if row['profile'] == 'Sersic':\n",
      "        # assign the parameters to variables\n",
      "        index = row['par_1']\n",
      "        half_light = row['par_2']\n",
      "        trunc = row['par_3']\n",
      "        # index and half_light are required parameters, trunc is not required\n",
      "        if trunc == '':\n",
      "            profile = galsim.Sersic(flux=flux, n=float(index), half_light_radius=float(half_light))\n",
      "        else:\n",
      "            profile = galsim.Sersic(flux=flux, n=float(index), half_light_radius=float(half_light),\n",
      "                                    trunc=float(trunc))\n",
      "        \n",
      "    if row['profile'] == 'deVaucouleurs':\n",
      "        # assign the parameters to variables\n",
      "        half_light = row['par_1']\n",
      "        trunc = row['par_2']\n",
      "        # create the profile\n",
      "        if trunc == '':\n",
      "            profile = galsim.DeVaucouleurs(flux=flux, half_light_radius=float(half_light)) # gsparams=big_fft_params\n",
      "        else:\n",
      "            profile = galsim.DeVaucouleurs(flux=flux, half_light_radius=float(half_light), trunc = float(trunc))\n",
      "            # gsparams=big_fft_params, if necessary\n",
      "\n",
      "    # apply the ellipticity and rotation\n",
      "    profile = profile.shear(e=e, beta=PA)\n",
      "        \n",
      "    # apply the offset, must take the negative of RA or else the image is inverted left to right\n",
      "    profile = profile.shift(-dx_arcsec, dy_arcsec)\n",
      "    \n",
      "    return profile"
     ],
     "language": "python",
     "metadata": {},
     "outputs": [],
     "prompt_number": 83
    },
    {
     "cell_type": "code",
     "collapsed": false,
     "input": [
      "# read observational parameters from file 'observ_params.txt' into a dictionary\n",
      "\n",
      "with open('observ_par.txt', 'r') as f:\n",
      "    read_data = f.readlines()\n",
      "    \n",
      "observ_parameters = {}\n",
      "\n",
      "for line in read_data:\n",
      "    # any line in the parameters file that does not contain a '=' will be skipped\n",
      "    if line.find('=') != -1:\n",
      "        parameter, value = line.split('=')\n",
      "        # strip off the \\n\n",
      "        value = value[:-1]\n",
      "        # strip off the comment, if there is one\n",
      "        if value.find('#') != -1:\n",
      "            value = value[:(value.index('#') - 1)]\n",
      "        # append parameter to dictionary\n",
      "        observ_parameters[parameter] = value"
     ],
     "language": "python",
     "metadata": {},
     "outputs": [],
     "prompt_number": 84
    },
    {
     "cell_type": "code",
     "collapsed": false,
     "input": [
      "# read variable object parameters into an astropy table\n",
      "\n",
      "var_object_parameters = Table.read('var_obj_par.csv', format = 'ascii.csv',\n",
      "                                   names = ('object','RA','DEC','profile','par_1','par_2','par_3','e','PA'))"
     ],
     "language": "python",
     "metadata": {},
     "outputs": [],
     "prompt_number": 85
    },
    {
     "cell_type": "code",
     "collapsed": false,
     "input": [
      "# read reference object parameters into an astropy table\n",
      "\n",
      "ref_object_parameters = Table.read('ref_obj_par.csv', format = 'ascii.csv',\n",
      "                                   names = ('object','RA','DEC','profile','par_1','par_2','par_3','e','PA','flux'))"
     ],
     "language": "python",
     "metadata": {},
     "outputs": [],
     "prompt_number": 86
    },
    {
     "cell_type": "code",
     "collapsed": false,
     "input": [
      "ref_object_parameters"
     ],
     "language": "python",
     "metadata": {},
     "outputs": [
      {
       "html": [
        "&lt;Table masked=True length=1&gt;\n",
        "<table id=\"table4474798480\">\n",
        "<thead><tr><th>object</th><th>RA</th><th>DEC</th><th>profile</th><th>par_1</th><th>par_2</th><th>par_3</th><th>e</th><th>PA</th><th>flux</th></tr></thead>\n",
        "<thead><tr><th>string8</th><th>string80</th><th>string88</th><th>string104</th><th>float64</th><th>float64</th><th>int64</th><th>float64</th><th>float64</th><th>float64</th></tr></thead>\n",
        "<tr><td>G</td><td>4:38:14.82</td><td>-12:17:15.0</td><td>deVaucouleurs</td><td>1.5</td><td>5.0</td><td>--</td><td>0.09</td><td>174.8</td><td>10000.0</td></tr>\n",
        "</table>"
       ],
       "metadata": {},
       "output_type": "pyout",
       "prompt_number": 87,
       "text": [
        "<Table masked=True length=1>\n",
        " object     RA         DEC        profile    ... par_3    e       PA     flux \n",
        "string8  string80    string88    string104   ... int64 float64 float64 float64\n",
        "------- ---------- ----------- ------------- ... ----- ------- ------- -------\n",
        "      G 4:38:14.82 -12:17:15.0 deVaucouleurs ...    --    0.09   174.8 10000.0"
       ]
      }
     ],
     "prompt_number": 87
    },
    {
     "cell_type": "code",
     "collapsed": false,
     "input": [
      "var_object_parameters"
     ],
     "language": "python",
     "metadata": {},
     "outputs": [
      {
       "html": [
        "&lt;Table masked=True length=4&gt;\n",
        "<table id=\"table4474801168\">\n",
        "<thead><tr><th>object</th><th>RA</th><th>DEC</th><th>profile</th><th>par_1</th><th>par_2</th><th>par_3</th><th>e</th><th>PA</th></tr></thead>\n",
        "<thead><tr><th>string8</th><th>string80</th><th>string88</th><th>string48</th><th>int64</th><th>float64</th><th>int64</th><th>float64</th><th>float64</th></tr></thead>\n",
        "<tr><td>A</td><td>4:38:14.90</td><td>-12:17:14.4</td><td>Moffat</td><td>2</td><td>1.5</td><td>--</td><td>0.19</td><td>174.8</td></tr>\n",
        "<tr><td>B</td><td>4:38:14.80</td><td>-12:17:13.8</td><td>Moffat</td><td>2</td><td>1.5</td><td>--</td><td>0.19</td><td>174.8</td></tr>\n",
        "<tr><td>C</td><td>4:38:14.74</td><td>-12:17:15.0</td><td>Moffat</td><td>2</td><td>1.5</td><td>--</td><td>0.19</td><td>174.8</td></tr>\n",
        "<tr><td>D</td><td>4:38:14.84</td><td>-12:17:16.0</td><td>Moffat</td><td>2</td><td>1.5</td><td>--</td><td>0.19</td><td>174.8</td></tr>\n",
        "</table>"
       ],
       "metadata": {},
       "output_type": "pyout",
       "prompt_number": 88,
       "text": [
        "<Table masked=True length=4>\n",
        " object     RA         DEC     profile  par_1  par_2  par_3    e       PA  \n",
        "string8  string80    string88  string48 int64 float64 int64 float64 float64\n",
        "------- ---------- ----------- -------- ----- ------- ----- ------- -------\n",
        "      A 4:38:14.90 -12:17:14.4   Moffat     2     1.5    --    0.19   174.8\n",
        "      B 4:38:14.80 -12:17:13.8   Moffat     2     1.5    --    0.19   174.8\n",
        "      C 4:38:14.74 -12:17:15.0   Moffat     2     1.5    --    0.19   174.8\n",
        "      D 4:38:14.84 -12:17:16.0   Moffat     2     1.5    --    0.19   174.8"
       ]
      }
     ],
     "prompt_number": 88
    },
    {
     "cell_type": "code",
     "collapsed": false,
     "input": [
      "# assign observational parameter values\n",
      "\n",
      "pixel_scale = float(observ_parameters['pixel_scale'])  # arcsec/pixel\n",
      "xsize = int(observ_parameters['img_size'])             # pixel\n",
      "ysize = int(observ_parameters['img_size'])             # pixel\n",
      "sky_level = float(observ_parameters['sky_level'])      # ADU/arcsec^2\n",
      "center_dd = SkyCoord(observ_parameters['img_center'], unit=(u.hourangle, u.deg))   # RA DEC in decimal degrees\n",
      "\n",
      "# set the image size\n",
      "image = galsim.ImageF(xsize, ysize)\n",
      "\n",
      "# GalSim FFT parameters need to be increased if the de Vaucouleurs or Sersic galaxy profiles are not truncated;\n",
      "# big_fft_params must be included as a parameter when these profiles are constructed below, and also when the \n",
      "# profiles are added\n",
      "# big_fft_params = galsim.GSParams(maximum_fft_size=10240)\n",
      "\n",
      "# random seed for the Poisson Noise below\n",
      "random_seed = 1534225"
     ],
     "language": "python",
     "metadata": {},
     "outputs": [],
     "prompt_number": 89
    },
    {
     "cell_type": "code",
     "collapsed": false,
     "input": [
      "# draw the objects\n",
      "\n",
      "# temporary MJD and EXP values; eventually these will be read from a table\n",
      "MJD = [57141.74514,57142.74514,57143.74514,57144.74514]\n",
      "EXP = [5,5,5,5]\n",
      "\n",
      "for t in range(0,len(MJD)):\n",
      "    \n",
      "    # all the profiles are stored in a list, then summed at the end of the loop\n",
      "    profiles = []\n",
      "\n",
      "    # add all the variable objects\n",
      "    for row in var_object_parameters:\n",
      "        \n",
      "        #make the profile\n",
      "        profile = make_profile(row, t)\n",
      "        # append to the list of profiles\n",
      "        profiles.append(profile)\n",
      "\n",
      "    # add all the reference objects\n",
      "    for row in ref_object_parameters:\n",
      "    \n",
      "        #make the profile\n",
      "        profile = make_profile(row, t)\n",
      "        # append to the list of profiles\n",
      "        profiles.append(profile)\n",
      "        \n",
      "    # sum the profiles\n",
      "    field = galsim.Sum(profiles) # gsparams=big_fft_params, if necessary\n",
      "    \n",
      "    # draw the image\n",
      "    field.drawImage(image, scale=pixel_scale)\n",
      "\n",
      "    # add sky noise\n",
      "    rng = galsim.BaseDeviate(random_seed)\n",
      "    # convert from counts/arcsec^2 to counts/pixel\n",
      "    sky_level_pixel = sky_level * pixel_scale ** 2\n",
      "    noise = galsim.PoissonNoise(rng, sky_level=sky_level_pixel)\n",
      "    image.addNoise(noise)\n",
      "    \n",
      "    # create output folder if one does not exist\n",
      "    # overwrite if one already exists\n",
      "    if not os.path.isdir('output'):\n",
      "        os.mkdir('output')\n",
      "    file_name = os.path.join('output','Test_%d.fits'%t)\n",
      "    \n",
      "    # write the image\n",
      "    image.write(file_name)\n",
      "    # get header and data from the file\n",
      "    data, header = fits.getdata(file_name, header=True)\n",
      "    # write new header info\n",
      "    header['MJD-OBS'] = MJD[t]\n",
      "    header['EXPTIME'] = EXP[t]\n",
      "    fits.writeto(file_name, data, header, clobber=True)\n",
      "    # plot the image\n",
      "    fig = plt.figure(figsize=(5, 5))\n",
      "    im = plt.imshow(data, cmap=\"gray\", interpolation='none', origin='lower left')\n",
      "    plt.colorbar()"
     ],
     "language": "python",
     "metadata": {},
     "outputs": [
      {
       "metadata": {},
       "output_type": "display_data",
       "png": "[encoded data removed]",
       "text": [
        "<matplotlib.figure.Figure at 0x10abc4590>"
       ]
      },
      {
       "metadata": {},
       "output_type": "display_data",
       "png": "[encoded data removed]",
       "text": [
        "<matplotlib.figure.Figure at 0x10ada0150>"
       ]
      },
      {
       "metadata": {},
       "output_type": "display_data",
       "png": "[encoded data removed]",
       "text": [
        "<matplotlib.figure.Figure at 0x10a93bfd0>"
       ]
      },
      {
       "metadata": {},
       "output_type": "display_data",
       "png": "[encoded data removed]",
       "text": [
        "<matplotlib.figure.Figure at 0x10abc0c50>"
       ]
      }
     ],
     "prompt_number": 90
    },
    {
     "cell_type": "code",
     "collapsed": false,
     "input": [],
     "language": "python",
     "metadata": {},
     "outputs": [],
     "prompt_number": 90
    }
   ],
   "metadata": {}
  }
 ]
}