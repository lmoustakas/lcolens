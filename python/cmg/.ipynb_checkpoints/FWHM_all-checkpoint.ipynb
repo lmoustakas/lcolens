{
 "metadata": {
  "name": "",
  "signature": "sha256:03727c0dbc4ca9e46dc9c7c224aeb44e23a88e61e78656461c4d0dcc88a3cca1"
 },
 "nbformat": 3,
 "nbformat_minor": 0,
 "worksheets": [
  {
   "cells": [
    {
     "cell_type": "code",
     "collapsed": false,
     "input": [
      "%matplotlib inline"
     ],
     "language": "python",
     "metadata": {},
     "outputs": [],
     "prompt_number": 103
    },
    {
     "cell_type": "code",
     "collapsed": false,
     "input": [
      "import matplotlib\n",
      "matplotlib.use('Agg')\n",
      "\n",
      "import numpy as np\n",
      "from astropy.io import fits\n",
      "from astropy import wcs\n",
      "\n",
      "from wcsaxes import WCSAxes\n",
      "import aplpy\n",
      "import pylab as plt\n",
      "import scipy.optimize as opt\n",
      "\n",
      "from datetime import datetime\n",
      "import os\n",
      "from matplotlib import gridspec"
     ],
     "language": "python",
     "metadata": {},
     "outputs": [],
     "prompt_number": 104
    },
    {
     "cell_type": "code",
     "collapsed": false,
     "input": [
      "class FITSmanager:\n",
      "  def __init__(self,fits_file_name):\n",
      "    self.fits_file_name = fits_file_name\n",
      "    self.hdulist = fits.open(fits_file_name)\n",
      "    #self.hdulist.info()\n",
      "    self.image_data = self.hdulist[0].data\n",
      "    self.bigw=wcs.WCS(self.hdulist[0].header)\n",
      "\n",
      "  def histogram_image_values(self,NBINS=5000):\n",
      "    self.hist, self.bin_edges = np.histogram(self.image_data.flat, bins=NBINS, range=(0.,200000.))\n",
      "    self.BW = self.bin_edges[1] - self.bin_edges[0]\n",
      "\n",
      "\n",
      "  def plot_image_values(self,NBINS=5000):\n",
      "    #histogram = plt.hist(self.image_data.flat, log=True, bins=NBINS)\n",
      "    self.histogram_image_values(NBINS=NBINS)\n",
      "    plt.plot(self.bin_edges[:-1]+self.BW/2.,self.hist+1.e-1, label=self.fits_file_name)\n",
      "    plt.xlabel('Image Value')\n",
      "    plt.ylabel('Counts')\n",
      "    \n",
      "  def plot_image(self, ra_center=None, dec_center=None, rad=None, full_range=False):\n",
      "    gc = aplpy.FITSFigure(self.fits_file_name)\n",
      "    if(ra_center==None and dec_center==None and rad==None and full_range==True):\n",
      "      print 'It is True, it is True, full_range is True'\n",
      "      gc.show_grayscale()\n",
      "    if(ra_center==None and dec_center==None and rad==None and full_range==False):\n",
      "      gc.show_grayscale(vmin=np.percentile(self.image_data,5),vmax=np.percentile(self.image_data,98.5))\n",
      "    if(ra_center!=None and dec_center!=None and rad!=None and full_range==False):\n",
      "      gc.recenter(ra_center, dec_center, radius=rad) \n",
      "      gc.show_grayscale(vmin=np.percentile(self.image_data,5),vmax=np.percentile(self.image_data,98.5))\n",
      "    gc.add_colorbar()\n",
      "    xlabel='Right Ascension (J2000)'\n",
      "    ylabel='Declination (J2000)'\n",
      "    \n",
      "  def image_piece(self,ra, dec, pixels):\n",
      "    if(pixels%2!=0):\n",
      "      pixels+=1\n",
      "    x,y = self.bigw.wcs_world2pix(ra,dec,1)\n",
      "    zoom_data = self.image_data[y-pixels/2:y+pixels/2,x-pixels/2:x+pixels/2]\n",
      "    return zoom_data\n",
      "    #plt.figure()\n",
      "\n",
      "def twoD_Moffat((x, y), amplitude, alpha, beta, xo, yo, offset):\n",
      "  xo = float(xo)\n",
      "  yo = float(yo)    \n",
      "  a = (beta-1.)/(np.pi*alpha**2)\n",
      "  m = offset + amplitude * a *( 1. + ((x-xo)**2 + (y-yo)**2) / (2.*alpha**2))**(-beta)\n",
      "  #print np.array(g)\n",
      "  #print g\n",
      "  if(alpha<0.): m+=1.e9\n",
      "  #print offset\n",
      "  return m.ravel()\n",
      "  #return np.array(g)    \n",
      "\n",
      "def twoD_Moffat_proj(x, amplitude, alpha, beta, xo, yo, offset):\n",
      "  a = (beta-1.)/(np.pi*alpha**2)\n",
      "  m = offset + amplitude * a * ( 1. + (x**2) / (2.*alpha**2))**(-beta)\n",
      "  #print np.array(g)\n",
      "  #print g\n",
      "  return m.ravel()\n",
      "  #return np.array(g)    \n",
      "  \n",
      "class SourceImage:\n",
      "  def __init__(self,AnLib, ra,dec, pixels):\n",
      "    self.image = AnLib.image_piece(ra, dec, pixels)\n",
      "    self.ra = ra\n",
      "    self.dec = dec\n",
      "    self.pixels = pixels\n",
      "  def fit_moffat(self):\n",
      "    print 'fitting'\n",
      "    self.x_max, self.y_max = np.unravel_index(self.image.argmax(), self.image.shape)\n",
      "    background_count_guess = np.min(self.image)\n",
      "    #initial_guess = (image[x_max,y_max],x_max,y_max,3.,3.,0.,1500.)\n",
      "    #initial_guess_simple = (image[x_max,y_max],x_max,y_max,3.,1500.)\n",
      "    guess_alpha = 3.\n",
      "    guess_beta = 2.\n",
      "    self.initial_guess_moffat = (self.image[self.x_max,self.y_max], guess_alpha, guess_beta, self.x_max, self.y_max, background_count_guess)\n",
      "    print len(self.image)\n",
      "    x=np.arange(0.,len(self.image))\n",
      "    y=np.arange(0.,len(self.image))\n",
      "    self.xg, self.yg = np.mgrid[:len(self.image), :len(self.image)]\n",
      "    #popt, pcov = opt.curve_fit(twoD_Gaussian, (xg, yg), image.ravel(), p0=initial_guess)\n",
      "    #popt, pcov = opt.curve_fit(twoD_Gaussian_simple, (xg, yg), image.ravel(), p0=initial_guess_simple)\n",
      "    popt, pcov = opt.curve_fit(twoD_Moffat, (self.xg, self.yg), self.image.ravel(), p0=self.initial_guess_moffat)\n",
      "    print popt\n",
      "    \n",
      "    self.moffat_fit_image = twoD_Moffat((self.xg, self.yg), *popt).reshape(len(self.image),len(self.image))\n",
      "\n",
      "    self.rad, self.amp = radial_profile(self.image, popt[3], popt[4])\n",
      "    self.moffat_parms = popt\n",
      "    self.moffat_fwhm = popt[1]*2.*np.sqrt(2.**(1/popt[2])-1.)\n",
      "    self.moffat_chi = (self.amp-twoD_Moffat_proj(self.rad, *self.moffat_parms))/np.sqrt(self.amp)\n",
      "    #self.moffat_chi = (self.amp-twoD_Moffat_proj(self.rad, *self.moffat_parms))/np.sqrt(twoD_Moffat_proj(self.rad, *self.moffat_parms))\n",
      "    return popt\n",
      "\n",
      "  def plot_moffat_residual_2D(self):\n",
      "    plt.imshow(self.image-self.moffat_fit_image, cmap='gray', interpolation='none')\n",
      "    plt.title('ra: %1.4f dec: %1.4f'%(self.ra,self.dec))\n",
      "    plt.colorbar()\n",
      "\n",
      "  def plot_radial_profiles(self):\n",
      "    plt.plot(self.rad,self.amp,'b.')\n",
      "    txt = 'amplitude: %1.2e\\n'%self.moffat_parms[0]\n",
      "    txt+= 'alpha:        %1.2f\\n'%self.moffat_parms[1]\n",
      "    txt+= 'beta:          %1.2f\\n'%self.moffat_parms[2]\n",
      "    txt+= 'FWHM:          %1.2f\\n'%self.moffat_fwhm\n",
      "    txt+= 'offset:       %1.2e'%self.moffat_parms[5]\n",
      "    plt.plot(self.rad,twoD_Moffat_proj(self.rad, *self.moffat_parms),'r-',label=txt)\n",
      "    plt.legend(loc=1)\n",
      "    plt.title('ra: %1.4f dec: %1.4f'%(self.ra,self.dec))\n",
      "    plt.xlabel('Pixel Distance from Fitted Peak')\n",
      "    plt.ylabel('Pixel Value')\n",
      "\n",
      "  def plot_radial_profile_residuals(self):\n",
      "    plt.plot(self.rad,self.moffat_chi,'b.')\n",
      "    plt.title('ra: %1.4f dec: %1.4f'%(self.ra,self.dec))\n",
      "    plt.ylim(-15.,15.)\n",
      "    plt.xlabel('Pixel Distance from Fitted Peak')\n",
      "    plt.ylabel(r'$\\chi_p$')\n",
      "\n",
      "  def plot_moffat_chi(self):\n",
      "    chisq = np.sum((self.moffat_chi)**2)/(len(self.rad)-6.)\n",
      "    a,b,c = plt.hist(self.moffat_chi,bins=51, range=(-10,10), label=r'$\\chi^2$=%1.2f'%chisq)\n",
      "    #plt.legend(loc=1)\n",
      "    label='$\\chi^2$/d.o.f.=%1.2f'%chisq\n",
      "    plt.text(2.,0.9*max(a), label, size=16)\n",
      "\n",
      "    plt.title('ra: %1.4f dec: %1.4f'%(self.ra,self.dec))\n",
      "    plt.xlim(-10.,10.)\n",
      "    #plt.ylim(-15.,15.)\n",
      "    #plt.xlabel('Pixel Distance from Fitted Peak')\n",
      "    plt.xlabel(r'$\\chi_p$')\n",
      "\n",
      "def twoD_Gaussian((x, y), amplitude, xo, yo, sigma_x, sigma_y, theta, offset):\n",
      "  xo = float(xo)\n",
      "  yo = float(yo)    \n",
      "  a = (np.cos(theta)**2)/(2*sigma_x**2) + (np.sin(theta)**2)/(2*sigma_y**2)\n",
      "  b = -(np.sin(2*theta))/(4*sigma_x**2) + (np.sin(2*theta))/(4*sigma_y**2)\n",
      "  c = (np.sin(theta)**2)/(2*sigma_x**2) + (np.cos(theta)**2)/(2*sigma_y**2)\n",
      "  g = offset + amplitude*np.exp( - (a*((x-xo)**2) + 2*b*(x-xo)*(y-yo) \n",
      "\t\t\t  + c*((y-yo)**2)))\n",
      "  if(theta<=0.or theta>2.*np.pi): g+=1.e99\n",
      "  #print np.array(g)\n",
      "  #print g\n",
      "  return g.ravel()\n",
      "  #return np.array(g)\n",
      "\n",
      "def twoD_Gaussian_simple((x, y), amplitude, xo, yo, sigma, offset):\n",
      "  xo = float(xo)\n",
      "  yo = float(yo)    \n",
      "  a = 1./(2*sigma**2)\n",
      "  g = offset + amplitude*np.exp( - ((x-xo)**2 + (y-yo)**2) / (2.*sigma**2))\n",
      "  #print np.array(g)\n",
      "  #print g\n",
      "  return g.ravel()\n",
      "  #return np.array(g)  \n",
      "  \n",
      "\n",
      "\n",
      "def fit_guassian(image):\n",
      "  print 'fitting'\n",
      "  x_max, y_max=np.unravel_index(image.argmax(), image.shape)\n",
      "\n",
      "  #initial_guess = (image[x_max,y_max],x_max,y_max,3.,3.,0.,1500.)\n",
      "  #initial_guess_simple = (image[x_max,y_max],x_max,y_max,3.,1500.)\n",
      "  initial_guess_moffat = (image[x_max,y_max],3.,2.,x_max,y_max,1500.)\n",
      "  print len(image)\n",
      "  x=np.arange(0.,len(image))\n",
      "  y=np.arange(0.,len(image))\n",
      "  xg, yg = np.mgrid[:len(image), :len(image)]\n",
      "  #popt, pcov = opt.curve_fit(twoD_Gaussian, (xg, yg), image.ravel(), p0=initial_guess)\n",
      "  #popt, pcov = opt.curve_fit(twoD_Gaussian_simple, (xg, yg), image.ravel(), p0=initial_guess_simple)\n",
      "  popt, pcov = opt.curve_fit(twoD_Moffat, (xg, yg), image.ravel(), p0=initial_guess_moffat)\n",
      "  print popt\n",
      "  return popt\n",
      "\n",
      "def radial_profile(image, x0,y0):\n",
      "  r=[]\n",
      "  amp=[]\n",
      "  for i in range(0,len(image)):\n",
      "      for j in range(0,len(image)):\n",
      "\tr.append(np.sqrt((float(i)-x0)**2 + (float(j)-y0)**2))\n",
      "\tamp.append(image[i][j])\n",
      "  return np.array(r), np.array(amp)"
     ],
     "language": "python",
     "metadata": {},
     "outputs": [],
     "prompt_number": 105
    },
    {
     "cell_type": "heading",
     "level": 1,
     "metadata": {},
     "source": [
      "Formatting"
     ]
    },
    {
     "cell_type": "code",
     "collapsed": false,
     "input": [
      "plt.rcParams['font.size']=15\n",
      "plt.rcParams['legend.fontsize']=15\n",
      "plt.rcParams['figure.facecolor'] = 'white'\n",
      "plt.rcParams['figure.figsize']=(10,8)\n",
      "#ra = 04:38:14.9000 \n",
      "ra = (4.+38./60.+14.9/60./60.)/24*360 \n",
      "#dec = -12:17:14.40\n",
      "dec = -12. - (17./60 +14.4/60./60.)\n",
      "print 'ra',ra,'dec',dec"
     ],
     "language": "python",
     "metadata": {},
     "outputs": [
      {
       "output_type": "stream",
       "stream": "stdout",
       "text": [
        "ra 69.5620833333 dec -12.2873333333\n"
       ]
      }
     ],
     "prompt_number": 106
    },
    {
     "cell_type": "heading",
     "level": 1,
     "metadata": {},
     "source": [
      "Creating fnms list for directory"
     ]
    },
    {
     "cell_type": "code",
     "collapsed": false,
     "input": [
      "data_dir = '../../../DataCorrected/he045-1223_wcs_corrected/'\n",
      "\n",
      "# GET FILE NAMES IN DATA DIRECTORY\n",
      "fnms = os.listdir(data_dir)\n",
      "print 'Number of files:', len(fnms)\n",
      "fnms_filtered = []\n",
      "for f in fnms:\n",
      "  if(len(f.split('-'))>3):\n",
      "     fnms_filtered.append(f)\n",
      "fnms = fnms_filtered\n",
      "print 'Number of files after filtering:', len(fnms)"
     ],
     "language": "python",
     "metadata": {},
     "outputs": [
      {
       "output_type": "stream",
       "stream": "stdout",
       "text": [
        "Number of files: 423\n",
        "Number of files after filtering: 423\n"
       ]
      }
     ],
     "prompt_number": 107
    },
    {
     "cell_type": "code",
     "collapsed": false,
     "input": [
      "print 'READING THE FITS FILE OBSERVATION TIMES FOR ORDERING PURPOSES'\n",
      "mjd_obs_list = []\n",
      "fnms_list=[]\n",
      "fnms_lsc = []\n",
      "fnms_cpt = []\n",
      "fnms_coj = []\n",
      "lsc_mjd = []\n",
      "cpt_mjd = []\n",
      "coj_mjd = []\n",
      "fwhm_list=[]\n",
      "max_airmass=0.\n",
      "min_airmass=1.e10\n",
      "for i in range(len(fnms)):\n",
      "    if(i%50==0): print '%d of %d files read'%(i,len(fnms))\n",
      "    d=fnms[i].split('-')\n",
      "    #print i,fnms[i]\n",
      "    fnms_list.append(fnms[i])\n",
      "    fits_file_name = data_dir + fnms[i]\n",
      "    hdulist = fits.open(fits_file_name)\n",
      "    mjd_obs_list.append(float(hdulist[0].header['MJD-OBS']))\n",
      "    if(float(hdulist[0].header['AIRMASS']) > max_airmass): max_airmass = float(hdulist[0].header['AIRMASS'])\n",
      "    if(float(hdulist[0].header['AIRMASS']) < min_airmass): min_airmass = float(hdulist[0].header['AIRMASS'])\n",
      "    if hdulist[0].header['SITEID'] == 'lsc':\n",
      "        fnms_lsc.append(fnms[i])\n",
      "        lsc_mjd.append(mjd_obs_list[i])\n",
      "    if hdulist[0].header['SITEID'] == 'cpt':\n",
      "        fnms_cpt.append(fnms[i])\n",
      "        cpt_mjd.append(mjd_obs_list[i])\n",
      "    if hdulist[0].header['SITEID'] == 'coj':\n",
      "        fnms_coj.append(fnms[i])        \n",
      "        coj_mjd.append(mjd_obs_list[i])\n",
      "    hdulist.close()"
     ],
     "language": "python",
     "metadata": {},
     "outputs": [
      {
       "output_type": "stream",
       "stream": "stdout",
       "text": [
        "READING THE FITS FILE OBSERVATION TIMES FOR ORDERING PURPOSES\n",
        "0 of 423 files read\n",
        "50 of 423 files read"
       ]
      },
      {
       "output_type": "stream",
       "stream": "stdout",
       "text": [
        "\n",
        "100 of 423 files read"
       ]
      },
      {
       "output_type": "stream",
       "stream": "stdout",
       "text": [
        "\n",
        "150 of 423 files read"
       ]
      },
      {
       "output_type": "stream",
       "stream": "stdout",
       "text": [
        "\n",
        "200 of 423 files read"
       ]
      },
      {
       "output_type": "stream",
       "stream": "stdout",
       "text": [
        "\n",
        "250 of 423 files read"
       ]
      },
      {
       "output_type": "stream",
       "stream": "stdout",
       "text": [
        "\n",
        "300 of 423 files read"
       ]
      },
      {
       "output_type": "stream",
       "stream": "stdout",
       "text": [
        "\n",
        "350 of 423 files read"
       ]
      },
      {
       "output_type": "stream",
       "stream": "stdout",
       "text": [
        "\n",
        "400 of 423 files read"
       ]
      },
      {
       "output_type": "stream",
       "stream": "stdout",
       "text": [
        "\n"
       ]
      }
     ],
     "prompt_number": 108
    },
    {
     "cell_type": "code",
     "collapsed": false,
     "input": [
      "#print min_airmass\n",
      "#exit()\n",
      "#fnms_tm = [fnm.split('-')[2]+'-'+fnm.split('-')[3] for fnm in fnms]\n",
      "print 'SORTING THE FILE NAME LIST IN TIME ORDER'\n",
      "\n",
      "fnms = [x for (y,x) in sorted(zip(mjd_obs_list, fnms_list))]\n",
      "\n",
      "\n",
      "\n",
      "#for k in range(0,len(fnms)):\n",
      "#\tprint fnms[k]\n",
      "#exit()\n",
      "print 'Number of files after sorting fnms:', len(fnms)\n",
      "\n",
      "count=0\n",
      "fout = open('output.dat','w')"
     ],
     "language": "python",
     "metadata": {},
     "outputs": [
      {
       "output_type": "stream",
       "stream": "stdout",
       "text": [
        "SORTING THE FILE NAME LIST IN TIME ORDER\n",
        "Number of files after sorting fnms: 423\n"
       ]
      }
     ],
     "prompt_number": 109
    },
    {
     "cell_type": "code",
     "collapsed": false,
     "input": [
      "# ims is a list of lists, each row is a list of artists to draw in the\n",
      "# current frame; here we are just animating one artist, the image, in\n",
      "# each frame\n",
      "count=0\n",
      "list0=[]\n",
      "list1=[]\n",
      "list2=[]\n",
      "list3=[]\n",
      "os.system('rm _tmp*.png')\n",
      "print 'MAKING IMAGE FIGURES FOR ANIMATION'\n",
      "max_airmass = 0.5*np.ceil(max_airmass/0.5)\n",
      "for i in range(417,423):\n",
      "    d=fnms[i].split('-')\n",
      "    #gs = plt.GridSpec(1, 2, width_ratios=[3, 1]) \n",
      "    print '%d of %d \\t %s'%(i,len(fnms), fnms[i])\n",
      "    fnm = fnms[i]\n",
      "    fits_file_name = data_dir + fnm\n",
      "    FM = FITSmanager(fits_file_name)\n",
      "    #print FM.hdulist[0].header['MJD-OBS']\n",
      "    mjd = float(FM.hdulist[0].header['MJD-OBS'])\n",
      "    airmass = float(FM.hdulist[0].header['AIRMASS'])\n",
      "    obj  = SourceImage(FM, ra,  dec,  25)\n",
      "    #proxy1 = plt.figure()\n",
      "    #proxy2 = plt.subplot(222)\n",
      "    #proxy3 = plt.imshow(obj.image, cmap='gray', interpolation='none')\n",
      "    #proxy4 = plt.title('ra: %1.4f dec: %1.4f'%(ra,dec))\n",
      "    #proxy5 = plt.colorbar()\n",
      "    \n",
      "    obj.fit_moffat()\n",
      "\n",
      "    #proxy6 = plt.figure(figsize=(12,10))\n",
      "    #proxy7 = plt.subplot(223)\n",
      "    #proxy8 = obj.plot_moffat_residual_2D()\n",
      "    #proxy9 = plt.subplot(224)\n",
      "    fwhm_list.append(obj.moffat_fwhm)\n",
      "    #parms1 = obj.fit_moffat()\n",
      "    min_val = np.min(obj.image)\n",
      "    max_val = np.max(obj.image)\n",
      "    list0.append(mjd)\n",
      "    list1.append(max_val)\n",
      "    list2.append(min_val)\n",
      "    #list3.append(airmass)\n",
      "    del obj\n",
      "    del FM\n",
      "    count+=1\n",
      "\n",
      "os.system('convert -delay 15 -loop 0 *.png animation.gif')\n",
      "        \n",
      "#        plt.scatter(mjd_obs_list, fwhm_list)"
     ],
     "language": "python",
     "metadata": {},
     "outputs": [
      {
       "output_type": "stream",
       "stream": "stdout",
       "text": [
        "MAKING IMAGE FIGURES FOR ANIMATION\n",
        "417 of 423 \t cpt1m010-kb70-20141218-0157-e90.fits\n",
        "fitting\n",
        "26\n",
        "[  1.94274764e+04   3.36017915e+02   1.50234920e+04   1.32498881e+01\n",
        "   1.36359215e+01   3.97385385e+02]"
       ]
      },
      {
       "output_type": "stream",
       "stream": "stdout",
       "text": [
        "\n",
        "418 of 423 \t cpt1m010-kb70-20141218-0158-e90.fits\n",
        "fitting\n",
        "26\n",
        "[  2.40700272e+04   3.21283671e+00   7.81365324e+00   1.84788715e+01\n",
        "   4.90246412e+01   4.70734806e+02]\n",
        "419 of 423 \t cpt1m010-kb70-20141218-0159-e90.fits\n",
        "fitting"
       ]
      },
      {
       "output_type": "stream",
       "stream": "stdout",
       "text": [
        "\n",
        "26\n",
        "[  1.93548498e+04   3.00517290e+02   1.15080111e+04   1.27125366e+01\n",
        "   1.35014485e+01   4.28405938e+02]"
       ]
      },
      {
       "output_type": "stream",
       "stream": "stdout",
       "text": [
        "\n",
        "420 of 423 \t cpt1m010-kb70-20141218-0160-e90.fits\n",
        "fitting\n",
        "26\n",
        "[  1.90340209e+04   3.22837904e+02   1.39545268e+04   1.26290275e+01\n",
        "   1.35225387e+01   4.47898853e+02]"
       ]
      },
      {
       "output_type": "stream",
       "stream": "stdout",
       "text": [
        "\n",
        "421 of 423 \t cpt1m010-kb70-20141218-0161-e90.fits\n",
        "fitting\n",
        "26\n",
        "[  1.89411967e+04   3.17591114e+02   1.33348717e+04   1.26263561e+01\n",
        "   1.35365429e+01   4.65295300e+02]"
       ]
      },
      {
       "output_type": "stream",
       "stream": "stdout",
       "text": [
        "\n",
        "422 of 423 \t cpt1m010-kb70-20141218-0162-e90.fits\n",
        "fitting\n",
        "26\n",
        "[  1.83806422e+04   3.28765964e+02   1.37722456e+04   1.28373790e+01\n",
        "   1.34879954e+01   4.87320267e+02]"
       ]
      },
      {
       "output_type": "stream",
       "stream": "stdout",
       "text": [
        "\n"
       ]
      },
      {
       "metadata": {},
       "output_type": "pyout",
       "prompt_number": 160,
       "text": [
        "32512"
       ]
      }
     ],
     "prompt_number": 160
    },
    {
     "cell_type": "code",
     "collapsed": false,
     "input": [
      "print fwhm_list"
     ],
     "language": "python",
     "metadata": {},
     "outputs": [
      {
       "output_type": "stream",
       "stream": "stdout",
       "text": [
        "[5.7267296910594245, 5.6001832847385282, 5.5938993396485435, 5.5312594875763024, 5.6796311545441984, 5.7033562218974856, 5.7966303560546137, 5.7647152861554964, 5.8180268625524016, 5.6255634254637696, 5.6963954601382856, 5.7537214000953787, 5.6777289786324987, 5.7530640253034973, 5.5840048159512037, 5.589736772153147, 5.5579755308932102, 6.0539917227480284, 6.6028208116935732, 7.0350537289677337, 6.8933510759798278, 6.6411016060104391, 6.7143173904619369, 6.4294208446893277, 6.3199987552769832, 6.4662110799781445, 6.7718325571854399, 6.2143084025990234, 6.1428705695742689, 5.7267296910594245, 5.6001832847385282, 5.5938993396485435, 5.5312594875763024, 5.6796311545441984, 5.7033562218974856, 5.7966303560546137, 5.7647152861554964, 5.8180268625524016, 5.6255634254637696, 5.6963954601382856, 5.7537214000953787, 5.6777289786324987, 5.7530640253034973, 5.5840048159512037, 5.589736772153147, 5.5579755308932102, 5.589736772153147, 5.5579755308932102, 5.6798320284785477, 6.2131001992627475, 5.7469590231218843, 5.8330646384318419, 5.908488275110976, 6.4589359552848622, 5.7620334529911528, 5.8441479666539262, 5.75382263347859, 6.1040852318506813, 6.1230136490681941, 6.4168945120917575, 6.0539917227480284, 6.2831160472006147, 6.6028208116935732, 7.0350537289677337, 6.8933510759798278, 6.6411016060104391, 6.7143173904619369, 6.4294208446893277, 6.3199987552769832, 6.4662110799781445, 6.7718325571854399, 6.2143084025990234, 6.1428705695742689, 6.1706031034115281, 6.0475882582057237, 6.0713961861950736, 6.2098044385813154, 6.33723947379917, 6.1429039602739959, 5.9592671424260386, 5.7970495978313679, 5.7295972368795587, 5.7288399351660972, 5.9479290811421812, 6.0083793167420518, 5.7573023908255312, 5.8168119625558932, 5.8589596810054818, 5.8007701294499521, 5.7569400491028206, 5.7736402112474581, 5.7216870536751054, 5.7338168006478156, 5.721214656151524, 5.7176352861788233, 5.6223466219365461, 5.6773198961618174, 5.7861543467742464, 5.6211027667435527, 5.6472044778257819, 5.7359751354759281, 5.6142662523637936, 5.4973741965464908, 5.5221954457116054, 5.5227841206235393, 5.6532672633707985, 5.6332020890068133, 5.5986038054430241, 5.5524662961708895, 5.5329392438271991, 5.5811073696668316, 5.5397369991256031, 5.5439495841424797, 5.5272570950241517, 5.4897863476251727, 5.6502505621350299, 5.4674436493750198, 5.4551296731816024, 5.4246447107934062, 5.4735121537696223, 5.5025470496045852, 5.4698898665450315, 5.4987834476528734, 5.5013415871058298, 5.5728285373794506, 5.4694744994439946, 5.5142658164646461, 5.5339777653693325, 5.5712405390965793, 5.5953943457500275, 5.611153250680645, 5.6388266695065905, 5.5738458070783024, 5.6887244900863321, 5.7270532765122866, 5.621476229160586, 4.8711212296634443, 4.8457751995450611, 4.8156931499230211, 11.295730534955766, 4.7669946141519919, 4.7420762201581796, 6.0208453452500006, 614.80253875098833, 4.6591141431882699, 4.5996764321696748, 0.57878438366557816, 4.5986385671118111, 2.709035162020347, 4.6243158689917472, 4.6168892408090887, 3.4762569083570596, 1.4347841520775819, 4.7495344743946015, 4.7823309847602244, 3.6087249829415788, 8.6769685986004728, 4.7594349165191998, 4.9194392930099777, 0.23409322771369329, 4.6666675766494903, 2.6269975981077236, 2.8137257966967777, 4.7255470144802993, 4.7726456276131088, 4.8103049661557469, 4.6388076559784768, 4.5889216085557765, 4.6079423090600438, 4.6145255955990105, 4.5728059734459352, 4.5922568888219892, 4.6484303194019603, 4.5762474927432866, 4.6225555614939218, 0.72428370895868766, 4.619474688238963, 4.642267852417449, 4.6242032917092502, 4.6052311693148358, 412.30233284944512, 14.676391397281796, 794.24931607674114, 3.7572625694287627, 4.6726487029731461, 4.5929225001393581, 7.4379922024941125, 4.7268525102473022, 4.6088784710800228, 4.6448785887411859, 5.5443699278015401, 7.4953247926273301, 4.0534970497416758, 4.6989613778338244, 4.5536647054543771, 5.154071260924062, 4.5460423148554474, 4.5271333870181802, 4.4746408699513056, 4.4526219544843508, 4.4477418277277838, 4.4997184868422933, 5.9916975295764772, 0.39100830563016642, 4.4974643032004256, 5.8760564830809097, 4.5120635849301767, 5.8034276134747174, 4.5482289698915688, 5.7466115204740431, 4.5358694481345871, 5.7060289449754578, 4.5689341028768844, 5.5990281081786843, 5.7312031895988786, 1.3591977288332868, 5.5575455532313223, 4.7029471437157797, 5.554605513983204, 511.34234194239656, 5.5851782594542092, 2.4843822401119215, 5.5962465225512501, 4.9119340589372182, 5.5963330957955479, 5.0322140932895127, 5.0172927523399995, 5.4543907371965883, 5.3863411158064007, 5.3951219181308385, 5.386871771133289, 5.3884094955440682, 5.4385006829479012, 5.4631767659529809, 5.6738213324785125, 5.4616136210714901, 5.4699033774996479, 5.4621907418326039, 5.4007093321358806, 5.56774988192271, 5.4296613965297382, 5.3991031854842833, 5.4421176662937469, 5.3907142987093994, 5.407508623319786, 5.3885521873041142, 5.3668930477660837, 5.4110695579383981, 5.4103067516542529, 5.4455821365942922, 5.5378421848470447, 5.4118017630130666, 5.3949046922532116, 5.4145097294111171, 5.4074667994051167, 5.373491101174535, 5.3500148312341835, 5.34586435113106, 5.3284937249856812, 5.3791169910759109, 5.3586175752437368, 5.4102004592932165, 5.5022413848436811, 5.5278075229881702, 5.5091631994902448, 5.7198290054086565, 5.4798257918116224, 5.6705358573925819, 5.6103476299021811, 5.6968291297132847, 5.6095766256638795, 5.5647441654220504, 5.4540266104401516, 5.4299998344108005, 5.4805766116838512, 5.4545033533251157, 5.4334923114462557, 5.3806512075229689, 5.3897181231166646, 5.3740451985259856, 5.4039916192067086, 5.3617222391842576, 5.4003897682839233, 5.4821989830573346, 5.484530290674539, 5.4408389188809299, 20.198707096815369, 0.4755895733901071, 0.1818046170538905, 4.1576178534323773, 0.75858522137857098, 4.8255800787681009, 5.3006770759432236, 4.9870395002462597, 4.927585319573156, 4.9743759602469151, 4.9313254194800278, 928.98568062284971, 4.9350980896372683, 4.9007045866291294, 4.8808903455956756, 4.9661183789208643, 637.58750519201283, 5.0470526777340607, 5.1889537178164646, 4.9270761613447283, 5.2463186259906935, 5.2841424524681129, 5.1076362804524047, 5.0661543717744468, 0.19840205716269546, 865.68969845748245, 4.7935677116357445, 5.1431622628445952, 4.9430640001350667, 4.9778320461639218, 5.1976994562145631, 5.2523432165075201, 10.683057107702773, 15.111299035364548, 5.2730970089315683, 6.0420041434779233, 56.804777330144553, 5.2714204896966796, 0.23258098302135882, 5.3423007425901661, 5.3902338845089437, 5.2809608387570517, 5.2977784663167871, 5.27413449152745, 5.6870482678447898, 5.7884795558945648, 5.6486997769411298, 5.7750333011454069, 5.8969902504495346, 5.5784753192383185, 5.7671187411956994, 5.5636692365586997, 5.2486687704586483, 0.018910125364292391, 5.5073820295939209, 5.5020453050562752, 5.5968266459433345, 5.9775250224775593, 5.8037849824115497, 5.7645858243826495, 4.6135290991115285, 4.6611464231440909, 4.7808921495600991, 5.0841189567301575, 2.1316674461952942, 4.6697285953907723, 4.5216160913380063, 4.6078366828761235, 4.5554080811080526, 1.8911005937611398, 4.5238766806657305, 4.5386313797748201, 4.5677574598053985, 4.5920786661962119, 4.6396112252629047, 4.617242864336923, 4.6543701870349103, 4.6392154235711143, 7.7716768335770645, 4.6118414358042239, 4.6461788341370696, 4.6318350856579391, 4.5471684831864394, 4.5330705287867614, 4.5635295424794977, 4.5209974843756875, 4.5586090135780148, 4.5819682083168907, 4.5458451427855078, 4.673853896802588, 4.7128764319382555, 4.6396941184429634, 1.5352165459357971, 4.5782947480023903, 4.6262400962453967, 4.5843391337270809, 4.6285758495670315, 4.8681951021704082, 0.70815000542019524, 2.4230079811067071, 4.5023475434608624, 4.5159595252946767, 4.5815885223543518, 4.5466780191899483, 4.5037955032582166, 4.5024682892061838, 4.5140424038789995, 4.5297572278782949, 4.5753964983843245, 4.3448191915548859, 4.5198824654435263, 4.6934269564820026, 4.6145431283961331, 1.7064218019498916, 0.29786453720973854, 3.7474973724856437, 4.6835049200873833, 5.2979974507285741, 4.6857326512994835, 4.5605650884061566, 1.2884847080350108, 3.5544781662547646, 4.5120579819118927, 1.1393654698308866, 4.6015774293502751, 4.6308931351473426, 511.65129134549517, 4.5648312008220122, 1.9570730970186077, 4.6646449585151508, 4.5506672509476553, 4.5795445870058629, 4.6647960473708734, 4.5506672509476553, 4.5795445870058629, 4.6647960473708734, 5.7267296910594245, 4.5648312008220122, 1.9570730970186077, 4.6646449585151508, 4.5506672509476553, 4.5795445870058629, 4.6647960473708734]\n"
       ]
      }
     ],
     "prompt_number": 162
    },
    {
     "cell_type": "code",
     "collapsed": false,
     "input": [],
     "language": "python",
     "metadata": {},
     "outputs": [],
     "prompt_number": 111
    }
   ],
   "metadata": {}
  }
 ]
}