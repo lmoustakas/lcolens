{
 "metadata": {
  "name": "",
  "signature": "sha256:798333b95b11c0914f4585eec7526613f253683003e526bb444e870f3c483b7e"
 },
 "nbformat": 3,
 "nbformat_minor": 0,
 "worksheets": [
  {
   "cells": [
    {
     "cell_type": "heading",
     "level": 5,
     "metadata": {},
     "source": [
      "Converted into notebook by Christopher Gonzalez on Feb. 23, original script written by Andrew Romero."
     ]
    },
    {
     "cell_type": "heading",
     "level": 5,
     "metadata": {},
     "source": [
      "Features: "
     ]
    },
    {
     "cell_type": "code",
     "collapsed": false,
     "input": [
      "import numpy as np\n",
      "from astropy.io import fits\n",
      "from astropy import wcs\n",
      "\n",
      "from wcsaxes import WCSAxes\n",
      "import aplpy\n",
      "import pylab as plt\n",
      "import scipy.optimize as opt\n",
      "\n",
      "import matplotlib\n",
      "matplotlib.use('Agg')\n",
      "from datetime import datetime\n",
      "import os\n",
      "from matplotlib import gridspec"
     ],
     "language": "python",
     "metadata": {},
     "outputs": [
      {
       "output_type": "stream",
       "stream": "stderr",
       "text": [
        "//anaconda/lib/python2.7/site-packages/matplotlib/__init__.py:1256: UserWarning:  This call to matplotlib.use() has no effect\n",
        "because the backend has already been chosen;\n",
        "matplotlib.use() must be called *before* pylab, matplotlib.pyplot,\n",
        "or matplotlib.backends is imported for the first time.\n",
        "\n",
        "  warnings.warn(_use_error_msg)\n"
       ]
      }
     ],
     "prompt_number": 1
    },
    {
     "cell_type": "heading",
     "level": 1,
     "metadata": {},
     "source": [
      "Defining Classes and Methods"
     ]
    },
    {
     "cell_type": "code",
     "collapsed": false,
     "input": [
      "class FITSmanager:\n",
      "  def __init__(self,fits_file_name):\n",
      "    self.fits_file_name = fits_file_name\n",
      "    self.hdulist = fits.open(fits_file_name)\n",
      "    #self.hdulist.info()\n",
      "    self.image_data = self.hdulist[0].data\n",
      "    self.bigw=wcs.WCS(self.hdulist[0].header)\n",
      "\n",
      "  def histogram_image_values(self,NBINS=5000):\n",
      "    self.hist, self.bin_edges = np.histogram(self.image_data.flat, bins=NBINS, range=(0.,200000.))\n",
      "    self.BW = self.bin_edges[1] - self.bin_edges[0]\n",
      "\n",
      "\n",
      "  def plot_image_values(self,NBINS=5000):\n",
      "    #histogram = plt.hist(self.image_data.flat, log=True, bins=NBINS)\n",
      "    self.histogram_image_values(NBINS=NBINS)\n",
      "    plt.plot(self.bin_edges[:-1]+self.BW/2.,self.hist+1.e-1, label=self.fits_file_name)\n",
      "    plt.xlabel('Image Value')\n",
      "    plt.ylabel('Counts')\n",
      "    \n",
      "  def plot_image(self, ra_center=None, dec_center=None, rad=None, full_range=False):\n",
      "    gc = aplpy.FITSFigure(self.fits_file_name)\n",
      "    if(ra_center==None and dec_center==None and rad==None and full_range==True):\n",
      "      print 'It is True, it is True, full_range is True'\n",
      "      gc.show_grayscale()\n",
      "    if(ra_center==None and dec_center==None and rad==None and full_range==False):\n",
      "      gc.show_grayscale(vmin=np.percentile(self.image_data,5),vmax=np.percentile(self.image_data,98.5))\n",
      "    if(ra_center!=None and dec_center!=None and rad!=None and full_range==False):\n",
      "      gc.recenter(ra_center, dec_center, radius=rad) \n",
      "      gc.show_grayscale(vmin=np.percentile(self.image_data,5),vmax=np.percentile(self.image_data,98.5))\n",
      "    gc.add_colorbar()\n",
      "    xlabel='Right Ascension (J2000)'\n",
      "    ylabel='Declination (J2000)'\n",
      "    \n",
      "  def image_piece(self,ra, dec, pixels):\n",
      "    if(pixels%2!=0):\n",
      "      pixels+=1\n",
      "    x,y = self.bigw.wcs_world2pix(ra,dec,1)\n",
      "    zoom_data = self.image_data[y-pixels/2:y+pixels/2,x-pixels/2:x+pixels/2]\n",
      "    return zoom_data\n",
      "    #plt.figure()\n",
      "\n",
      "def twoD_Moffat((x, y), amplitude, alpha, beta, xo, yo, offset):\n",
      "  xo = float(xo)\n",
      "  yo = float(yo)    \n",
      "  a = (beta-1.)/(np.pi*alpha**2)\n",
      "  m = offset + amplitude * a *( 1. + ((x-xo)**2 + (y-yo)**2) / (2.*alpha**2))**(-beta)\n",
      "  #print np.array(g)\n",
      "  #print g\n",
      "  if(alpha<0.): m+=1.e9\n",
      "  #print offset\n",
      "  return m.ravel()\n",
      "  #return np.array(g)    \n",
      "\n",
      "def twoD_Moffat_proj(x, amplitude, alpha, beta, xo, yo, offset):\n",
      "  a = (beta-1.)/(np.pi*alpha**2)\n",
      "  m = offset + amplitude * a * ( 1. + (x**2) / (2.*alpha**2))**(-beta)\n",
      "  #print np.array(g)\n",
      "  #print g\n",
      "  return m.ravel()\n",
      "  #return np.array(g)    \n",
      "  \n",
      "class SourceImage:\n",
      "  def __init__(self,AnLib, ra,dec, pixels):\n",
      "    self.image = AnLib.image_piece(ra, dec, pixels)\n",
      "    self.ra = ra\n",
      "    self.dec = dec\n",
      "    self.pixels = pixels\n",
      "  def fit_moffat(self):\n",
      "    print 'fitting'\n",
      "    self.x_max, self.y_max = np.unravel_index(self.image.argmax(), self.image.shape)\n",
      "    background_count_guess = np.min(self.image)\n",
      "    #initial_guess = (image[x_max,y_max],x_max,y_max,3.,3.,0.,1500.)\n",
      "    #initial_guess_simple = (image[x_max,y_max],x_max,y_max,3.,1500.)\n",
      "    guess_alpha = 3.\n",
      "    guess_beta = 2.\n",
      "    self.initial_guess_moffat = (self.image[self.x_max,self.y_max], guess_alpha, guess_beta, self.x_max, self.y_max, background_count_guess)\n",
      "    print len(self.image)\n",
      "    x=np.arange(0.,len(self.image))\n",
      "    y=np.arange(0.,len(self.image))\n",
      "    self.xg, self.yg = np.mgrid[:len(self.image), :len(self.image)]\n",
      "    #popt, pcov = opt.curve_fit(twoD_Gaussian, (xg, yg), image.ravel(), p0=initial_guess)\n",
      "    #popt, pcov = opt.curve_fit(twoD_Gaussian_simple, (xg, yg), image.ravel(), p0=initial_guess_simple)\n",
      "    popt, pcov = opt.curve_fit(twoD_Moffat, (self.xg, self.yg), self.image.ravel(), p0=self.initial_guess_moffat)\n",
      "    print popt\n",
      "    \n",
      "    self.moffat_fit_image = twoD_Moffat((self.xg, self.yg), *popt).reshape(len(self.image),len(self.image))\n",
      "\n",
      "    self.rad, self.amp = radial_profile(self.image, popt[3], popt[4])\n",
      "    self.moffat_parms = popt\n",
      "    self.moffat_fwhm = popt[1]*2.*np.sqrt(2.**(1/popt[2])-1.)\n",
      "    self.moffat_chi = (self.amp-twoD_Moffat_proj(self.rad, *self.moffat_parms))/np.sqrt(self.amp)\n",
      "    #self.moffat_chi = (self.amp-twoD_Moffat_proj(self.rad, *self.moffat_parms))/np.sqrt(twoD_Moffat_proj(self.rad, *self.moffat_parms))\n",
      "    return popt\n",
      "\n",
      "  def plot_moffat_residual_2D(self):\n",
      "    plt.imshow(self.image-self.moffat_fit_image, cmap='gray', interpolation='none')\n",
      "    plt.title('ra: %1.4f dec: %1.4f'%(self.ra,self.dec))\n",
      "    plt.colorbar()\n",
      "\n",
      "  def plot_radial_profiles(self):\n",
      "    plt.plot(self.rad,self.amp,'b.')\n",
      "    txt = 'amplitude: %1.2e\\n'%self.moffat_parms[0]\n",
      "    txt+= 'alpha:        %1.2f\\n'%self.moffat_parms[1]\n",
      "    txt+= 'beta:          %1.2f\\n'%self.moffat_parms[2]\n",
      "    txt+= 'FWHM:          %1.2f\\n'%self.moffat_fwhm\n",
      "    txt+= 'offset:       %1.2e'%self.moffat_parms[5]\n",
      "    plt.plot(self.rad,twoD_Moffat_proj(self.rad, *self.moffat_parms),'r-',label=txt)\n",
      "    plt.legend(loc=1)\n",
      "    plt.title('ra: %1.4f dec: %1.4f'%(self.ra,self.dec))\n",
      "    plt.xlabel('Pixel Distance from Fitted Peak')\n",
      "    plt.ylabel('Pixel Value')\n",
      "\n",
      "  def plot_radial_profile_residuals(self):\n",
      "    plt.plot(self.rad,self.moffat_chi,'b.')\n",
      "    plt.title('ra: %1.4f dec: %1.4f'%(self.ra,self.dec))\n",
      "    plt.ylim(-15.,15.)\n",
      "    plt.xlabel('Pixel Distance from Fitted Peak')\n",
      "    plt.ylabel(r'$\\chi_p$')\n",
      "\n",
      "  def plot_moffat_chi(self):\n",
      "    chisq = np.sum((self.moffat_chi)**2)/(len(self.rad)-6.)\n",
      "    a,b,c = plt.hist(self.moffat_chi,bins=51, range=(-10,10), label=r'$\\chi^2$=%1.2f'%chisq)\n",
      "    #plt.legend(loc=1)\n",
      "    label='$\\chi^2$/d.o.f.=%1.2f'%chisq\n",
      "    plt.text(2.,0.9*max(a), label, size=16)\n",
      "\n",
      "    plt.title('ra: %1.4f dec: %1.4f'%(self.ra,self.dec))\n",
      "    plt.xlim(-10.,10.)\n",
      "    #plt.ylim(-15.,15.)\n",
      "    #plt.xlabel('Pixel Distance from Fitted Peak')\n",
      "    plt.xlabel(r'$\\chi_p$')\n",
      "\n",
      "def twoD_Gaussian((x, y), amplitude, xo, yo, sigma_x, sigma_y, theta, offset):\n",
      "  xo = float(xo)\n",
      "  yo = float(yo)    \n",
      "  a = (np.cos(theta)**2)/(2*sigma_x**2) + (np.sin(theta)**2)/(2*sigma_y**2)\n",
      "  b = -(np.sin(2*theta))/(4*sigma_x**2) + (np.sin(2*theta))/(4*sigma_y**2)\n",
      "  c = (np.sin(theta)**2)/(2*sigma_x**2) + (np.cos(theta)**2)/(2*sigma_y**2)\n",
      "  g = offset + amplitude*np.exp( - (a*((x-xo)**2) + 2*b*(x-xo)*(y-yo) \n",
      "\t\t\t  + c*((y-yo)**2)))\n",
      "  if(theta<=0.or theta>2.*np.pi): g+=1.e99\n",
      "  #print np.array(g)\n",
      "  #print g\n",
      "  return g.ravel()\n",
      "  #return np.array(g)\n",
      "\n",
      "def twoD_Gaussian_simple((x, y), amplitude, xo, yo, sigma, offset):\n",
      "  xo = float(xo)\n",
      "  yo = float(yo)    \n",
      "  a = 1./(2*sigma**2)\n",
      "  g = offset + amplitude*np.exp( - ((x-xo)**2 + (y-yo)**2) / (2.*sigma**2))\n",
      "  #print np.array(g)\n",
      "  #print g\n",
      "  return g.ravel()\n",
      "  #return np.array(g)  \n",
      "  \n",
      "\n",
      "\n",
      "def fit_guassian(image):\n",
      "  print 'fitting'\n",
      "  x_max, y_max=np.unravel_index(image.argmax(), image.shape)\n",
      "\n",
      "  #initial_guess = (image[x_max,y_max],x_max,y_max,3.,3.,0.,1500.)\n",
      "  #initial_guess_simple = (image[x_max,y_max],x_max,y_max,3.,1500.)\n",
      "  initial_guess_moffat = (image[x_max,y_max],3.,2.,x_max,y_max,1500.)\n",
      "  print len(image)\n",
      "  x=np.arange(0.,len(image))\n",
      "  y=np.arange(0.,len(image))\n",
      "  xg, yg = np.mgrid[:len(image), :len(image)]\n",
      "  #popt, pcov = opt.curve_fit(twoD_Gaussian, (xg, yg), image.ravel(), p0=initial_guess)\n",
      "  #popt, pcov = opt.curve_fit(twoD_Gaussian_simple, (xg, yg), image.ravel(), p0=initial_guess_simple)\n",
      "  popt, pcov = opt.curve_fit(twoD_Moffat, (xg, yg), image.ravel(), p0=initial_guess_moffat)\n",
      "  print popt\n",
      "  return popt\n",
      "\n",
      "def radial_profile(image, x0,y0):\n",
      "  r=[]\n",
      "  amp=[]\n",
      "  for i in range(0,len(image)):\n",
      "      for j in range(0,len(image)):\n",
      "\tr.append(np.sqrt((float(i)-x0)**2 + (float(j)-y0)**2))\n",
      "\tamp.append(image[i][j])\n",
      "  return np.array(r), np.array(amp)"
     ],
     "language": "python",
     "metadata": {},
     "outputs": [],
     "prompt_number": 2
    },
    {
     "cell_type": "code",
     "collapsed": false,
     "input": [
      "plt.rcParams['font.size']=15\n",
      "plt.rcParams['legend.fontsize']=15\n",
      "plt.rcParams['figure.facecolor'] = 'white'\n",
      "plt.rcParams['figure.figsize']=(10,8)\n",
      "#ra = 04:38:14.9000 \n",
      "ra = (4.+38./60.+14.9/60./60.)/24*360 \n",
      "#dec = -12:17:14.40\n",
      "dec = -12. - (17./60 +14.4/60./60.)\n",
      "print 'ra',ra,'dec',dec\n",
      "\n",
      "data_dir = '../../../DataCorrected/he045-1223_wcs_corrected/'\n",
      "#data_dir = '/data2/romerowo/lcogt_data/he045-1223_wcs_corrected/corrected_fits/'\n",
      "#data_dir = '/data2/romerowo/lcogt_data/he045-1223/'\n",
      "\n",
      "# GET FILE NAMES IN DATA DIRECTORY\n",
      "fnms = os.listdir(data_dir)\n",
      "print 'Number of files:', len(fnms)\n",
      "fnms_filtered = []\n",
      "for f in fnms:\n",
      "  if(len(f.split('-'))>3):\n",
      "     fnms_filtered.append(f)\n",
      "fnms = fnms_filtered\n",
      "print 'Number of files after filtering:', len(fnms)\n",
      "\n",
      "print 'READING THE FITS FILE OBSERVATION TIMES FOR ORDERING PURPOSES'\n",
      "mjd_obs_list = []\n",
      "fnms_list=[]\n",
      "fwhm_list=[]\n",
      "max_airmass=0.\n",
      "min_airmass=1.e10\n",
      "for i in range(len(fnms)):\n",
      "    if(i%50==0): print '%d of %d files read'%(i,len(fnms))\n",
      "    d=fnms[i].split('-')\n",
      "    #print i,fnms[i]\n",
      "    fnms_list.append(fnms[i])\n",
      "    fits_file_name = data_dir + fnms[i]\n",
      "    hdulist = fits.open(fits_file_name)\n",
      "    mjd_obs_list.append(float(hdulist[0].header['MJD-OBS']))\n",
      "    if(float(hdulist[0].header['AIRMASS']) > max_airmass): max_airmass = float(hdulist[0].header['AIRMASS'])\n",
      "    if(float(hdulist[0].header['AIRMASS']) < min_airmass): min_airmass = float(hdulist[0].header['AIRMASS'])\n",
      "    hdulist.close()\n",
      "\n",
      "#print min_airmass\n",
      "#exit()\n",
      "#fnms_tm = [fnm.split('-')[2]+'-'+fnm.split('-')[3] for fnm in fnms]\n",
      "print 'SORTING THE FILE NAME LIST IN TIME ORDER'\n",
      "\n",
      "fnms = [x for (y,x) in sorted(zip(mjd_obs_list, fnms_list))]\n",
      "#for k in range(0,len(fnms)):\n",
      "#\tprint fnms[k]\n",
      "#exit()\n",
      "print 'Number of files after sorting:', len(fnms)\n",
      "count=0\n",
      "fout = open('output.dat','w')\n",
      "\n",
      "\n",
      "\n",
      "# ims is a list of lists, each row is a list of artists to draw in the\n",
      "# current frame; here we are just animating one artist, the image, in\n",
      "# each frame\n",
      "count=0\n",
      "list0=[]\n",
      "list1=[]\n",
      "list2=[]\n",
      "list3=[]\n",
      "os.system('rm _tmp*.png')\n",
      "print 'MAKING IMAGE FIGURES FOR ANIMATION'\n",
      "max_airmass = 0.5*np.ceil(max_airmass/0.5)\n",
      "for i in range(len(fnms)):\n",
      "    d=fnms[i].split('-')\n",
      "    #gs = plt.GridSpec(1, 2, width_ratios=[3, 1]) \n",
      "    print '%d of %d \\t %s'%(i,len(fnms), fnms[i])\n",
      "    fnm = fnms[i]\n",
      "    fits_file_name = data_dir + fnm\n",
      "    FM = FITSmanager(fits_file_name)\n",
      "    #print FM.hdulist[0].header['MJD-OBS']\n",
      "    mjd = float(FM.hdulist[0].header['MJD-OBS'])\n",
      "    airmass = float(FM.hdulist[0].header['AIRMASS'])\n",
      "    #print '\\tairmass', airmass\n",
      "    #if(FM.hdulist[0].header['FILTER']=='rp' and mjd>57007.):\n",
      "    #if(FM.hdulist[0].header['FILTER']=='gp' and mjd>57007.):\n",
      "    if(mjd>57007.):\n",
      "\t    obj  = SourceImage(FM, ra,  dec,  25)\n",
      "            min_val = np.min(obj.image)\n",
      "\t    max_val = np.max(obj.image)\n",
      "\t    list0.append(mjd)\n",
      "\t    list1.append(max_val)\n",
      "\t    list2.append(min_val)\n",
      "\t    list3.append(airmass)\n",
      "\n",
      "\t    fig = plt.figure(figsize=(10,5))\n",
      "\t    gs0 = gridspec.GridSpec(1, 2)\n",
      "\t    gs00 = gridspec.GridSpecFromSubplotSpec(4, 1, subplot_spec=gs0[1])\n",
      "\t    ax0 = plt.subplot(gs0[0])\n",
      "\t    #im = plt.imshow(obj.image-min_val, cmap=plt.cm.gray_r, interpolation='None', vmax=np.max(obj.image)-min_val)\n",
      "\t    im = plt.imshow(obj.image-min_val, cmap=plt.cm.gray_r, vmax=np.max(obj.image)-min_val)\n",
      "            plt.suptitle('%s'%fnm)\n",
      "\t    plt.xlabel('pixel')\n",
      "\t    plt.ylabel('pixel')\n",
      "\n",
      "\t    ax1 = plt.subplot(gs00[0])\n",
      "\t    plt.plot(list0,list1,'r.',label='max')\n",
      "\t    plt.plot([mjd],[max_val],'ro',ms=10)\n",
      "\t    plt.plot(list0,list2,'b.',label='min')\n",
      "\t    plt.plot([mjd],[min_val],'bo',ms=10)\n",
      "\t    plt.xlim(57007.,57011.)\n",
      "\t    plt.ylim(0.,3000.)\n",
      "\t    #plt.ylabel('counts')\n",
      "\t    #plt.title('Image Counts')\n",
      "\t    plt.legend(loc=2, title='Image\\nCounts', numpoints=1, frameon=False, borderpad=0., handleheight=0., borderaxespad=0.2, handletextpad=-0.2, labelspacing=0.)\n",
      "\t    ax1.set_xticklabels([])\n",
      "\t    ax1.set_yticks([0,1000,2000,3000])\n",
      "\t    #plt.setp(ax1.get_xticklabels(), visible=False)\n",
      "\t    \n",
      "\t    ax2 = plt.subplot(gs00[1])\n",
      "\t    plt.plot(list0,list3,'b.',label='air\\nmass')\n",
      "\t    plt.plot([mjd],[airmass],'bo',ms=10)\n",
      "\t    plt.xlim(57007.,57011.)\n",
      "\t    plt.ylim(1.,max_airmass)\n",
      "\t    #plt.ylabel('counts')\n",
      "\t    #plt.title('Image Counts')\n",
      "\t    plt.legend(loc=6, numpoints=1, frameon=False, borderpad=0., handleheight=0., borderaxespad=-0.1, handletextpad=-0.2, labelspacing=0.)\n",
      "\t    plt.xlabel('MJD')\n",
      "\t    ax2.set_yticks(np.arange(1.,max_airmass+0.5,0.5))\n",
      "\t    plt.subplots_adjust(left=0.06, right=0.95, hspace=0.2, wspace=0.15, bottom=0.12)\n",
      "\t    if(i<10):\n",
      "\t\tfig.savefig('_tmp_00%d.png'%i, dpi=45)\n",
      "\t    if(i>=10 and i<100):\n",
      "\t\tfig.savefig('_tmp_0%d.png'%i, dpi=45)\n",
      "\t    if(i>=100):\n",
      "\t\tfig.savefig('_tmp_%d.png'%i, dpi=45)\n",
      "\t    plt.close()\n",
      "\t    del obj\n",
      "\t    del FM\n",
      "            count+=1\n",
      "\n",
      "os.system('convert -delay 15 -loop 0 *.png animation.gif')\n",
      "        \n",
      "#        plt.scatter(mjd_obs_list, fwhm_list)"
     ],
     "language": "python",
     "metadata": {},
     "outputs": [
      {
       "output_type": "stream",
       "stream": "stdout",
       "text": [
        "ra 69.5620833333 dec -12.2873333333\n",
        "Number of files: 423\n",
        "Number of files after filtering: 423\n",
        "READING THE FITS FILE OBSERVATION TIMES FOR ORDERING PURPOSES\n",
        "0 of 423 files read\n",
        "50 of 423 files read"
       ]
      },
      {
       "output_type": "stream",
       "stream": "stdout",
       "text": [
        "\n",
        "100 of 423 files read"
       ]
      },
      {
       "output_type": "stream",
       "stream": "stdout",
       "text": [
        "\n",
        "150 of 423 files read"
       ]
      },
      {
       "output_type": "stream",
       "stream": "stdout",
       "text": [
        "\n",
        "200 of 423 files read"
       ]
      },
      {
       "output_type": "stream",
       "stream": "stdout",
       "text": [
        "\n",
        "250 of 423 files read"
       ]
      },
      {
       "output_type": "stream",
       "stream": "stdout",
       "text": [
        "\n",
        "300 of 423 files read"
       ]
      },
      {
       "output_type": "stream",
       "stream": "stdout",
       "text": [
        "\n",
        "350 of 423 files read"
       ]
      },
      {
       "output_type": "stream",
       "stream": "stdout",
       "text": [
        "\n",
        "400 of 423 files read"
       ]
      },
      {
       "output_type": "stream",
       "stream": "stdout",
       "text": [
        "\n",
        "SORTING THE FILE NAME LIST IN TIME ORDER"
       ]
      },
      {
       "output_type": "stream",
       "stream": "stdout",
       "text": [
        "\n",
        "Number of files after sorting: 423\n",
        "MAKING IMAGE FIGURES FOR ANIMATION\n",
        "0 of 423 \t lsc1m009-fl03-20141110-0107-e90.fits\n",
        "1 of 423 \t lsc1m009-fl03-20141110-0108-e90.fits\n",
        "2 of 423 \t lsc1m009-fl03-20141110-0109-e90.fits"
       ]
      },
      {
       "output_type": "stream",
       "stream": "stdout",
       "text": [
        "\n",
        "3 of 423 \t lsc1m009-fl03-20141110-0110-e90.fits\n",
        "4 of 423 \t lsc1m009-fl03-20141110-0111-e90.fits"
       ]
      },
      {
       "output_type": "stream",
       "stream": "stdout",
       "text": [
        "\n",
        "5 of 423 \t lsc1m009-fl03-20141110-0112-e90.fits\n",
        "6 of 423 \t lsc1m009-fl03-20141110-0113-e90.fits"
       ]
      },
      {
       "output_type": "stream",
       "stream": "stdout",
       "text": [
        "\n",
        "7 of 423 \t lsc1m009-fl03-20141110-0114-e90.fits\n",
        "8 of 423 \t lsc1m009-fl03-20141110-0115-e90.fits"
       ]
      },
      {
       "output_type": "stream",
       "stream": "stdout",
       "text": [
        "\n",
        "9 of 423 \t lsc1m004-fl04-20141110-0111-e90.fits\n",
        "10 of 423 \t lsc1m004-fl04-20141110-0112-e90.fits"
       ]
      },
      {
       "output_type": "stream",
       "stream": "stdout",
       "text": [
        "\n",
        "11 of 423 \t lsc1m004-fl04-20141110-0113-e90.fits\n",
        "12 of 423 \t lsc1m004-fl04-20141110-0114-e90.fits"
       ]
      },
      {
       "output_type": "stream",
       "stream": "stdout",
       "text": [
        "\n",
        "13 of 423 \t lsc1m004-fl04-20141110-0115-e90.fits\n",
        "14 of 423 \t lsc1m004-fl04-20141110-0116-e90.fits"
       ]
      },
      {
       "output_type": "stream",
       "stream": "stdout",
       "text": [
        "\n",
        "15 of 423 \t lsc1m004-fl04-20141110-0117-e90.fits\n",
        "16 of 423 \t lsc1m004-fl04-20141110-0118-e90.fits"
       ]
      },
      {
       "output_type": "stream",
       "stream": "stdout",
       "text": [
        "\n",
        "17 of 423 \t lsc1m004-fl04-20141110-0119-e90.fits\n",
        "18 of 423 \t coj1m011-kb05-20141111-0110-e90.fits"
       ]
      },
      {
       "output_type": "stream",
       "stream": "stdout",
       "text": [
        "\n",
        "19 of 423 \t coj1m011-kb05-20141111-0111-e90.fits\n",
        "20 of 423 \t coj1m011-kb05-20141111-0112-e90.fits"
       ]
      },
      {
       "output_type": "stream",
       "stream": "stdout",
       "text": [
        "\n",
        "21 of 423 \t coj1m011-kb05-20141111-0113-e90.fits\n",
        "22 of 423 \t coj1m011-kb05-20141111-0114-e90.fits"
       ]
      },
      {
       "output_type": "stream",
       "stream": "stdout",
       "text": [
        "\n",
        "23 of 423 \t coj1m011-kb05-20141111-0115-e90.fits\n",
        "24 of 423 \t coj1m011-kb05-20141111-0116-e90.fits"
       ]
      },
      {
       "output_type": "stream",
       "stream": "stdout",
       "text": [
        "\n",
        "25 of 423 \t coj1m011-kb05-20141111-0117-e90.fits\n",
        "26 of 423 \t coj1m011-kb05-20141111-0118-e90.fits"
       ]
      },
      {
       "output_type": "stream",
       "stream": "stdout",
       "text": [
        "\n",
        "27 of 423 \t coj1m011-kb05-20141111-0119-e90.fits\n",
        "28 of 423 \t lsc1m009-fl03-20141201-0115-e90.fits"
       ]
      },
      {
       "output_type": "stream",
       "stream": "stdout",
       "text": [
        "\n",
        "29 of 423 \t lsc1m009-fl03-20141201-0116-e90.fits\n",
        "30 of 423 \t lsc1m009-fl03-20141201-0117-e90.fits"
       ]
      },
      {
       "output_type": "stream",
       "stream": "stdout",
       "text": [
        "\n",
        "31 of 423 \t lsc1m009-fl03-20141201-0118-e90.fits\n",
        "32 of 423 \t lsc1m004-fl04-20141201-0121-e90.fits"
       ]
      },
      {
       "output_type": "stream",
       "stream": "stdout",
       "text": [
        "\n",
        "33 of 423 \t lsc1m004-fl04-20141201-0122-e90.fits\n",
        "34 of 423 \t lsc1m004-fl04-20141201-0123-e90.fits"
       ]
      },
      {
       "output_type": "stream",
       "stream": "stdout",
       "text": [
        "\n",
        "35 of 423 \t lsc1m004-fl04-20141201-0124-e90.fits\n",
        "36 of 423 \t lsc1m004-fl04-20141216-0075-e90.fits"
       ]
      },
      {
       "output_type": "stream",
       "stream": "stdout",
       "text": [
        "\n",
        "37 of 423 \t lsc1m004-fl04-20141216-0076-e90.fits"
       ]
      },
      {
       "output_type": "stream",
       "stream": "stdout",
       "text": [
        "\n",
        "38 of 423 \t lsc1m004-fl04-20141216-0077-e90.fits"
       ]
      },
      {
       "output_type": "stream",
       "stream": "stdout",
       "text": [
        "\n",
        "39 of 423 \t lsc1m004-fl04-20141216-0078-e90.fits"
       ]
      },
      {
       "output_type": "stream",
       "stream": "stdout",
       "text": [
        "\n",
        "40 of 423 \t lsc1m004-fl04-20141216-0079-e90.fits"
       ]
      },
      {
       "output_type": "stream",
       "stream": "stdout",
       "text": [
        "\n",
        "41 of 423 \t lsc1m004-fl04-20141216-0080-e90.fits"
       ]
      },
      {
       "output_type": "stream",
       "stream": "stdout",
       "text": [
        "\n",
        "42 of 423 \t lsc1m004-fl04-20141216-0081-e90.fits"
       ]
      },
      {
       "output_type": "stream",
       "stream": "stdout",
       "text": [
        "\n",
        "43 of 423 \t lsc1m004-fl04-20141216-0082-e90.fits"
       ]
      },
      {
       "output_type": "stream",
       "stream": "stdout",
       "text": [
        "\n",
        "44 of 423 \t lsc1m004-fl04-20141216-0083-e90.fits"
       ]
      },
      {
       "output_type": "stream",
       "stream": "stdout",
       "text": [
        "\n",
        "45 of 423 \t lsc1m004-fl04-20141216-0084-e90.fits"
       ]
      },
      {
       "output_type": "stream",
       "stream": "stdout",
       "text": [
        "\n",
        "46 of 423 \t lsc1m004-fl04-20141216-0085-e90.fits"
       ]
      },
      {
       "output_type": "stream",
       "stream": "stdout",
       "text": [
        "\n",
        "47 of 423 \t lsc1m004-fl04-20141216-0086-e90.fits"
       ]
      },
      {
       "output_type": "stream",
       "stream": "stdout",
       "text": [
        "\n",
        "48 of 423 \t lsc1m004-fl04-20141216-0087-e90.fits"
       ]
      },
      {
       "output_type": "stream",
       "stream": "stdout",
       "text": [
        "\n",
        "49 of 423 \t lsc1m004-fl04-20141216-0088-e90.fits"
       ]
      },
      {
       "output_type": "stream",
       "stream": "stdout",
       "text": [
        "\n",
        "50 of 423 \t lsc1m004-fl04-20141216-0089-e90.fits"
       ]
      },
      {
       "output_type": "stream",
       "stream": "stdout",
       "text": [
        "\n",
        "51 of 423 \t lsc1m004-fl04-20141216-0090-e90.fits"
       ]
      },
      {
       "output_type": "stream",
       "stream": "stdout",
       "text": [
        "\n",
        "52 of 423 \t lsc1m004-fl04-20141216-0091-e90.fits"
       ]
      },
      {
       "output_type": "stream",
       "stream": "stdout",
       "text": [
        "\n",
        "53 of 423 \t lsc1m004-fl04-20141216-0092-e90.fits"
       ]
      },
      {
       "output_type": "stream",
       "stream": "stdout",
       "text": [
        "\n",
        "54 of 423 \t lsc1m004-fl04-20141216-0093-e90.fits"
       ]
      },
      {
       "output_type": "stream",
       "stream": "stdout",
       "text": [
        "\n",
        "55 of 423 \t lsc1m004-fl04-20141216-0094-e90.fits"
       ]
      },
      {
       "output_type": "stream",
       "stream": "stdout",
       "text": [
        "\n",
        "56 of 423 \t lsc1m004-fl04-20141216-0095-e90.fits"
       ]
      },
      {
       "output_type": "stream",
       "stream": "stdout",
       "text": [
        "\n",
        "57 of 423 \t lsc1m004-fl04-20141216-0096-e90.fits"
       ]
      },
      {
       "output_type": "stream",
       "stream": "stdout",
       "text": [
        "\n",
        "58 of 423 \t lsc1m004-fl04-20141216-0097-e90.fits"
       ]
      },
      {
       "output_type": "stream",
       "stream": "stdout",
       "text": [
        "\n",
        "59 of 423 \t lsc1m004-fl04-20141216-0098-e90.fits"
       ]
      },
      {
       "output_type": "stream",
       "stream": "stdout",
       "text": [
        "\n",
        "60 of 423 \t lsc1m004-fl04-20141216-0099-e90.fits"
       ]
      },
      {
       "output_type": "stream",
       "stream": "stdout",
       "text": [
        "\n",
        "61 of 423 \t lsc1m004-fl04-20141216-0100-e90.fits"
       ]
      },
      {
       "output_type": "stream",
       "stream": "stdout",
       "text": [
        "\n",
        "62 of 423 \t lsc1m004-fl04-20141216-0101-e90.fits"
       ]
      },
      {
       "output_type": "stream",
       "stream": "stdout",
       "text": [
        "\n",
        "63 of 423 \t lsc1m004-fl04-20141216-0102-e90.fits"
       ]
      },
      {
       "output_type": "stream",
       "stream": "stdout",
       "text": [
        "\n",
        "64 of 423 \t lsc1m004-fl04-20141216-0103-e90.fits"
       ]
      },
      {
       "output_type": "stream",
       "stream": "stdout",
       "text": [
        "\n",
        "65 of 423 \t lsc1m004-fl04-20141216-0104-e90.fits"
       ]
      },
      {
       "output_type": "stream",
       "stream": "stdout",
       "text": [
        "\n",
        "66 of 423 \t lsc1m004-fl04-20141216-0105-e90.fits"
       ]
      },
      {
       "output_type": "stream",
       "stream": "stdout",
       "text": [
        "\n",
        "67 of 423 \t lsc1m004-fl04-20141216-0106-e90.fits"
       ]
      },
      {
       "output_type": "stream",
       "stream": "stdout",
       "text": [
        "\n",
        "68 of 423 \t lsc1m004-fl04-20141216-0107-e90.fits"
       ]
      },
      {
       "output_type": "stream",
       "stream": "stdout",
       "text": [
        "\n",
        "69 of 423 \t lsc1m004-fl04-20141216-0108-e90.fits"
       ]
      },
      {
       "output_type": "stream",
       "stream": "stdout",
       "text": [
        "\n",
        "70 of 423 \t lsc1m004-fl04-20141216-0109-e90.fits"
       ]
      },
      {
       "output_type": "stream",
       "stream": "stdout",
       "text": [
        "\n",
        "71 of 423 \t lsc1m004-fl04-20141216-0110-e90.fits"
       ]
      },
      {
       "output_type": "stream",
       "stream": "stdout",
       "text": [
        "\n",
        "72 of 423 \t lsc1m004-fl04-20141216-0111-e90.fits"
       ]
      },
      {
       "output_type": "stream",
       "stream": "stdout",
       "text": [
        "\n",
        "73 of 423 \t lsc1m004-fl04-20141216-0112-e90.fits"
       ]
      },
      {
       "output_type": "stream",
       "stream": "stdout",
       "text": [
        "\n",
        "74 of 423 \t lsc1m004-fl04-20141216-0113-e90.fits"
       ]
      },
      {
       "output_type": "stream",
       "stream": "stdout",
       "text": [
        "\n",
        "75 of 423 \t lsc1m004-fl04-20141216-0114-e90.fits"
       ]
      },
      {
       "output_type": "stream",
       "stream": "stdout",
       "text": [
        "\n",
        "76 of 423 \t lsc1m004-fl04-20141216-0115-e90.fits"
       ]
      },
      {
       "output_type": "stream",
       "stream": "stdout",
       "text": [
        "\n",
        "77 of 423 \t lsc1m004-fl04-20141216-0116-e90.fits"
       ]
      },
      {
       "output_type": "stream",
       "stream": "stdout",
       "text": [
        "\n",
        "78 of 423 \t lsc1m004-fl04-20141216-0117-e90.fits"
       ]
      },
      {
       "output_type": "stream",
       "stream": "stdout",
       "text": [
        "\n",
        "79 of 423 \t lsc1m004-fl04-20141216-0118-e90.fits"
       ]
      },
      {
       "output_type": "stream",
       "stream": "stdout",
       "text": [
        "\n",
        "80 of 423 \t lsc1m004-fl04-20141216-0119-e90.fits"
       ]
      },
      {
       "output_type": "stream",
       "stream": "stdout",
       "text": [
        "\n",
        "81 of 423 \t lsc1m004-fl04-20141216-0120-e90.fits"
       ]
      },
      {
       "output_type": "stream",
       "stream": "stdout",
       "text": [
        "\n",
        "82 of 423 \t lsc1m004-fl04-20141216-0121-e90.fits"
       ]
      },
      {
       "output_type": "stream",
       "stream": "stdout",
       "text": [
        "\n",
        "83 of 423 \t lsc1m004-fl04-20141216-0122-e90.fits"
       ]
      },
      {
       "output_type": "stream",
       "stream": "stdout",
       "text": [
        "\n",
        "84 of 423 \t lsc1m004-fl04-20141216-0123-e90.fits"
       ]
      },
      {
       "output_type": "stream",
       "stream": "stdout",
       "text": [
        "\n",
        "85 of 423 \t lsc1m004-fl04-20141216-0124-e90.fits"
       ]
      },
      {
       "output_type": "stream",
       "stream": "stdout",
       "text": [
        "\n",
        "86 of 423 \t lsc1m004-fl04-20141216-0125-e90.fits"
       ]
      },
      {
       "output_type": "stream",
       "stream": "stdout",
       "text": [
        "\n",
        "87 of 423 \t lsc1m004-fl04-20141216-0126-e90.fits"
       ]
      },
      {
       "output_type": "stream",
       "stream": "stdout",
       "text": [
        "\n",
        "88 of 423 \t lsc1m004-fl04-20141216-0127-e90.fits"
       ]
      },
      {
       "output_type": "stream",
       "stream": "stdout",
       "text": [
        "\n",
        "89 of 423 \t lsc1m004-fl04-20141216-0128-e90.fits"
       ]
      },
      {
       "output_type": "stream",
       "stream": "stdout",
       "text": [
        "\n",
        "90 of 423 \t lsc1m004-fl04-20141216-0129-e90.fits"
       ]
      },
      {
       "output_type": "stream",
       "stream": "stdout",
       "text": [
        "\n",
        "91 of 423 \t lsc1m004-fl04-20141216-0130-e90.fits"
       ]
      },
      {
       "output_type": "stream",
       "stream": "stdout",
       "text": [
        "\n",
        "92 of 423 \t lsc1m004-fl04-20141216-0131-e90.fits"
       ]
      },
      {
       "output_type": "stream",
       "stream": "stdout",
       "text": [
        "\n",
        "93 of 423 \t lsc1m004-fl04-20141216-0132-e90.fits"
       ]
      },
      {
       "output_type": "stream",
       "stream": "stdout",
       "text": [
        "\n",
        "94 of 423 \t lsc1m004-fl04-20141216-0133-e90.fits"
       ]
      },
      {
       "output_type": "stream",
       "stream": "stdout",
       "text": [
        "\n",
        "95 of 423 \t lsc1m004-fl04-20141216-0134-e90.fits"
       ]
      },
      {
       "output_type": "stream",
       "stream": "stdout",
       "text": [
        "\n",
        "96 of 423 \t lsc1m004-fl04-20141216-0135-e90.fits"
       ]
      },
      {
       "output_type": "stream",
       "stream": "stdout",
       "text": [
        "\n",
        "97 of 423 \t lsc1m004-fl04-20141216-0136-e90.fits"
       ]
      },
      {
       "output_type": "stream",
       "stream": "stdout",
       "text": [
        "\n",
        "98 of 423 \t lsc1m004-fl04-20141216-0137-e90.fits"
       ]
      },
      {
       "output_type": "stream",
       "stream": "stdout",
       "text": [
        "\n",
        "99 of 423 \t lsc1m004-fl04-20141216-0138-e90.fits"
       ]
      },
      {
       "output_type": "stream",
       "stream": "stdout",
       "text": [
        "\n",
        "100 of 423 \t lsc1m004-fl04-20141216-0139-e90.fits"
       ]
      },
      {
       "output_type": "stream",
       "stream": "stdout",
       "text": [
        "\n",
        "101 of 423 \t lsc1m004-fl04-20141216-0140-e90.fits"
       ]
      },
      {
       "output_type": "stream",
       "stream": "stdout",
       "text": [
        "\n",
        "102 of 423 \t lsc1m004-fl04-20141216-0141-e90.fits"
       ]
      },
      {
       "output_type": "stream",
       "stream": "stdout",
       "text": [
        "\n",
        "103 of 423 \t lsc1m004-fl04-20141216-0142-e90.fits"
       ]
      },
      {
       "output_type": "stream",
       "stream": "stdout",
       "text": [
        "\n",
        "104 of 423 \t lsc1m004-fl04-20141216-0143-e90.fits"
       ]
      },
      {
       "output_type": "stream",
       "stream": "stdout",
       "text": [
        "\n",
        "105 of 423 \t lsc1m004-fl04-20141216-0144-e90.fits"
       ]
      },
      {
       "output_type": "stream",
       "stream": "stdout",
       "text": [
        "\n",
        "106 of 423 \t lsc1m004-fl04-20141216-0145-e90.fits"
       ]
      },
      {
       "output_type": "stream",
       "stream": "stdout",
       "text": [
        "\n",
        "107 of 423 \t lsc1m004-fl04-20141216-0146-e90.fits"
       ]
      },
      {
       "output_type": "stream",
       "stream": "stdout",
       "text": [
        "\n",
        "108 of 423 \t cpt1m010-kb70-20141217-0081-e90.fits"
       ]
      },
      {
       "output_type": "stream",
       "stream": "stdout",
       "text": [
        "\n",
        "109 of 423 \t cpt1m010-kb70-20141217-0082-e90.fits"
       ]
      },
      {
       "output_type": "stream",
       "stream": "stdout",
       "text": [
        "\n",
        "110 of 423 \t cpt1m010-kb70-20141217-0083-e90.fits"
       ]
      },
      {
       "output_type": "stream",
       "stream": "stdout",
       "text": [
        "\n",
        "111 of 423 \t cpt1m010-kb70-20141217-0084-e90.fits"
       ]
      },
      {
       "output_type": "stream",
       "stream": "stdout",
       "text": [
        "\n",
        "112 of 423 \t cpt1m010-kb70-20141217-0085-e90.fits"
       ]
      },
      {
       "output_type": "stream",
       "stream": "stdout",
       "text": [
        "\n",
        "113 of 423 \t cpt1m010-kb70-20141217-0086-e90.fits"
       ]
      },
      {
       "output_type": "stream",
       "stream": "stdout",
       "text": [
        "\n",
        "114 of 423 \t cpt1m010-kb70-20141217-0087-e90.fits"
       ]
      },
      {
       "output_type": "stream",
       "stream": "stdout",
       "text": [
        "\n",
        "115 of 423 \t cpt1m010-kb70-20141217-0088-e90.fits"
       ]
      },
      {
       "output_type": "stream",
       "stream": "stdout",
       "text": [
        "\n",
        "116 of 423 \t cpt1m010-kb70-20141217-0089-e90.fits"
       ]
      },
      {
       "output_type": "stream",
       "stream": "stdout",
       "text": [
        "\n",
        "117 of 423 \t cpt1m010-kb70-20141217-0090-e90.fits"
       ]
      },
      {
       "output_type": "stream",
       "stream": "stdout",
       "text": [
        "\n",
        "118 of 423 \t cpt1m010-kb70-20141217-0091-e90.fits"
       ]
      },
      {
       "output_type": "stream",
       "stream": "stdout",
       "text": [
        "\n",
        "119 of 423 \t cpt1m010-kb70-20141217-0092-e90.fits"
       ]
      },
      {
       "output_type": "stream",
       "stream": "stdout",
       "text": [
        "\n",
        "120 of 423 \t cpt1m010-kb70-20141217-0093-e90.fits"
       ]
      },
      {
       "output_type": "stream",
       "stream": "stdout",
       "text": [
        "\n",
        "121 of 423 \t cpt1m010-kb70-20141217-0094-e90.fits"
       ]
      },
      {
       "output_type": "stream",
       "stream": "stdout",
       "text": [
        "\n",
        "122 of 423 \t cpt1m010-kb70-20141217-0095-e90.fits"
       ]
      },
      {
       "output_type": "stream",
       "stream": "stdout",
       "text": [
        "\n",
        "123 of 423 \t cpt1m010-kb70-20141217-0096-e90.fits"
       ]
      },
      {
       "output_type": "stream",
       "stream": "stdout",
       "text": [
        "\n",
        "124 of 423 \t cpt1m010-kb70-20141217-0097-e90.fits"
       ]
      },
      {
       "output_type": "stream",
       "stream": "stdout",
       "text": [
        "\n",
        "125 of 423 \t cpt1m010-kb70-20141217-0098-e90.fits"
       ]
      },
      {
       "output_type": "stream",
       "stream": "stdout",
       "text": [
        "\n",
        "126 of 423 \t cpt1m010-kb70-20141217-0099-e90.fits"
       ]
      },
      {
       "output_type": "stream",
       "stream": "stdout",
       "text": [
        "\n",
        "127 of 423 \t cpt1m010-kb70-20141217-0100-e90.fits"
       ]
      },
      {
       "output_type": "stream",
       "stream": "stdout",
       "text": [
        "\n",
        "128 of 423 \t cpt1m010-kb70-20141217-0101-e90.fits"
       ]
      },
      {
       "output_type": "stream",
       "stream": "stdout",
       "text": [
        "\n",
        "129 of 423 \t cpt1m010-kb70-20141217-0102-e90.fits"
       ]
      },
      {
       "output_type": "stream",
       "stream": "stdout",
       "text": [
        "\n",
        "130 of 423 \t cpt1m010-kb70-20141217-0103-e90.fits"
       ]
      },
      {
       "output_type": "stream",
       "stream": "stdout",
       "text": [
        "\n",
        "131 of 423 \t cpt1m010-kb70-20141217-0104-e90.fits"
       ]
      },
      {
       "output_type": "stream",
       "stream": "stdout",
       "text": [
        "\n",
        "132 of 423 \t cpt1m010-kb70-20141217-0105-e90.fits"
       ]
      },
      {
       "output_type": "stream",
       "stream": "stdout",
       "text": [
        "\n",
        "133 of 423 \t cpt1m010-kb70-20141217-0106-e90.fits"
       ]
      },
      {
       "output_type": "stream",
       "stream": "stdout",
       "text": [
        "\n",
        "134 of 423 \t cpt1m010-kb70-20141217-0107-e90.fits"
       ]
      },
      {
       "output_type": "stream",
       "stream": "stdout",
       "text": [
        "\n",
        "135 of 423 \t cpt1m010-kb70-20141217-0108-e90.fits"
       ]
      },
      {
       "output_type": "stream",
       "stream": "stdout",
       "text": [
        "\n",
        "136 of 423 \t cpt1m010-kb70-20141217-0109-e90.fits"
       ]
      },
      {
       "output_type": "stream",
       "stream": "stdout",
       "text": [
        "\n",
        "137 of 423 \t cpt1m010-kb70-20141217-0110-e90.fits"
       ]
      },
      {
       "output_type": "stream",
       "stream": "stdout",
       "text": [
        "\n",
        "138 of 423 \t cpt1m010-kb70-20141217-0111-e90.fits"
       ]
      },
      {
       "output_type": "stream",
       "stream": "stdout",
       "text": [
        "\n",
        "139 of 423 \t cpt1m010-kb70-20141217-0112-e90.fits"
       ]
      },
      {
       "output_type": "stream",
       "stream": "stdout",
       "text": [
        "\n",
        "140 of 423 \t cpt1m010-kb70-20141217-0113-e90.fits"
       ]
      },
      {
       "output_type": "stream",
       "stream": "stdout",
       "text": [
        "\n",
        "141 of 423 \t cpt1m010-kb70-20141217-0114-e90.fits"
       ]
      },
      {
       "output_type": "stream",
       "stream": "stdout",
       "text": [
        "\n",
        "142 of 423 \t cpt1m010-kb70-20141217-0115-e90.fits"
       ]
      },
      {
       "output_type": "stream",
       "stream": "stdout",
       "text": [
        "\n",
        "143 of 423 \t cpt1m010-kb70-20141217-0116-e90.fits"
       ]
      },
      {
       "output_type": "stream",
       "stream": "stdout",
       "text": [
        "\n",
        "144 of 423 \t cpt1m010-kb70-20141217-0117-e90.fits"
       ]
      },
      {
       "output_type": "stream",
       "stream": "stdout",
       "text": [
        "\n",
        "145 of 423 \t cpt1m010-kb70-20141217-0118-e90.fits"
       ]
      },
      {
       "output_type": "stream",
       "stream": "stdout",
       "text": [
        "\n",
        "146 of 423 \t cpt1m010-kb70-20141217-0119-e90.fits"
       ]
      },
      {
       "output_type": "stream",
       "stream": "stdout",
       "text": [
        "\n",
        "147 of 423 \t cpt1m010-kb70-20141217-0120-e90.fits"
       ]
      },
      {
       "output_type": "stream",
       "stream": "stdout",
       "text": [
        "\n",
        "148 of 423 \t cpt1m010-kb70-20141217-0121-e90.fits"
       ]
      },
      {
       "output_type": "stream",
       "stream": "stdout",
       "text": [
        "\n",
        "149 of 423 \t cpt1m010-kb70-20141217-0122-e90.fits"
       ]
      },
      {
       "output_type": "stream",
       "stream": "stdout",
       "text": [
        "\n",
        "150 of 423 \t cpt1m010-kb70-20141217-0123-e90.fits"
       ]
      },
      {
       "output_type": "stream",
       "stream": "stdout",
       "text": [
        "\n",
        "151 of 423 \t cpt1m010-kb70-20141217-0124-e90.fits"
       ]
      },
      {
       "output_type": "stream",
       "stream": "stdout",
       "text": [
        "\n",
        "152 of 423 \t cpt1m010-kb70-20141217-0125-e90.fits"
       ]
      },
      {
       "output_type": "stream",
       "stream": "stdout",
       "text": [
        "\n",
        "153 of 423 \t cpt1m010-kb70-20141217-0126-e90.fits"
       ]
      },
      {
       "output_type": "stream",
       "stream": "stdout",
       "text": [
        "\n",
        "154 of 423 \t cpt1m010-kb70-20141217-0127-e90.fits"
       ]
      },
      {
       "output_type": "stream",
       "stream": "stdout",
       "text": [
        "\n",
        "155 of 423 \t cpt1m010-kb70-20141217-0128-e90.fits"
       ]
      },
      {
       "output_type": "stream",
       "stream": "stdout",
       "text": [
        "\n",
        "156 of 423 \t cpt1m010-kb70-20141217-0129-e90.fits"
       ]
      },
      {
       "output_type": "stream",
       "stream": "stdout",
       "text": [
        "\n",
        "157 of 423 \t cpt1m010-kb70-20141217-0130-e90.fits"
       ]
      },
      {
       "output_type": "stream",
       "stream": "stdout",
       "text": [
        "\n",
        "158 of 423 \t cpt1m010-kb70-20141217-0131-e90.fits"
       ]
      },
      {
       "output_type": "stream",
       "stream": "stdout",
       "text": [
        "\n",
        "159 of 423 \t cpt1m010-kb70-20141217-0132-e90.fits"
       ]
      },
      {
       "output_type": "stream",
       "stream": "stdout",
       "text": [
        "\n",
        "160 of 423 \t cpt1m010-kb70-20141217-0133-e90.fits"
       ]
      },
      {
       "output_type": "stream",
       "stream": "stdout",
       "text": [
        "\n",
        "161 of 423 \t cpt1m010-kb70-20141217-0134-e90.fits"
       ]
      },
      {
       "output_type": "stream",
       "stream": "stdout",
       "text": [
        "\n",
        "162 of 423 \t cpt1m010-kb70-20141217-0135-e90.fits"
       ]
      },
      {
       "output_type": "stream",
       "stream": "stdout",
       "text": [
        "\n",
        "163 of 423 \t cpt1m010-kb70-20141217-0136-e90.fits"
       ]
      },
      {
       "output_type": "stream",
       "stream": "stdout",
       "text": [
        "\n",
        "164 of 423 \t cpt1m010-kb70-20141217-0137-e90.fits"
       ]
      },
      {
       "output_type": "stream",
       "stream": "stdout",
       "text": [
        "\n",
        "165 of 423 \t cpt1m010-kb70-20141217-0138-e90.fits"
       ]
      },
      {
       "output_type": "stream",
       "stream": "stdout",
       "text": [
        "\n",
        "166 of 423 \t cpt1m010-kb70-20141217-0139-e90.fits"
       ]
      },
      {
       "output_type": "stream",
       "stream": "stdout",
       "text": [
        "\n",
        "167 of 423 \t cpt1m010-kb70-20141217-0140-e90.fits"
       ]
      },
      {
       "output_type": "stream",
       "stream": "stdout",
       "text": [
        "\n",
        "168 of 423 \t cpt1m010-kb70-20141217-0141-e90.fits"
       ]
      },
      {
       "output_type": "stream",
       "stream": "stdout",
       "text": [
        "\n",
        "169 of 423 \t cpt1m010-kb70-20141217-0142-e90.fits"
       ]
      },
      {
       "output_type": "stream",
       "stream": "stdout",
       "text": [
        "\n",
        "170 of 423 \t cpt1m010-kb70-20141217-0143-e90.fits"
       ]
      },
      {
       "output_type": "stream",
       "stream": "stdout",
       "text": [
        "\n",
        "171 of 423 \t cpt1m010-kb70-20141217-0144-e90.fits"
       ]
      },
      {
       "output_type": "stream",
       "stream": "stdout",
       "text": [
        "\n",
        "172 of 423 \t cpt1m010-kb70-20141217-0145-e90.fits"
       ]
      },
      {
       "output_type": "stream",
       "stream": "stdout",
       "text": [
        "\n",
        "173 of 423 \t cpt1m010-kb70-20141217-0146-e90.fits"
       ]
      },
      {
       "output_type": "stream",
       "stream": "stdout",
       "text": [
        "\n",
        "174 of 423 \t cpt1m010-kb70-20141217-0147-e90.fits"
       ]
      },
      {
       "output_type": "stream",
       "stream": "stdout",
       "text": [
        "\n",
        "175 of 423 \t lsc1m009-fl03-20141217-0010-e90.fits"
       ]
      },
      {
       "output_type": "stream",
       "stream": "stdout",
       "text": [
        "\n",
        "176 of 423 \t cpt1m010-kb70-20141217-0148-e90.fits"
       ]
      },
      {
       "output_type": "stream",
       "stream": "stdout",
       "text": [
        "\n",
        "177 of 423 \t cpt1m010-kb70-20141217-0149-e90.fits"
       ]
      },
      {
       "output_type": "stream",
       "stream": "stdout",
       "text": [
        "\n",
        "178 of 423 \t lsc1m009-fl03-20141217-0011-e90.fits"
       ]
      },
      {
       "output_type": "stream",
       "stream": "stdout",
       "text": [
        "\n",
        "179 of 423 \t cpt1m010-kb70-20141217-0150-e90.fits"
       ]
      },
      {
       "output_type": "stream",
       "stream": "stdout",
       "text": [
        "\n",
        "180 of 423 \t lsc1m009-fl03-20141217-0012-e90.fits"
       ]
      },
      {
       "output_type": "stream",
       "stream": "stdout",
       "text": [
        "\n",
        "181 of 423 \t cpt1m010-kb70-20141217-0151-e90.fits"
       ]
      },
      {
       "output_type": "stream",
       "stream": "stdout",
       "text": [
        "\n",
        "182 of 423 \t lsc1m009-fl03-20141217-0013-e90.fits"
       ]
      },
      {
       "output_type": "stream",
       "stream": "stdout",
       "text": [
        "\n",
        "183 of 423 \t cpt1m010-kb70-20141217-0152-e90.fits"
       ]
      },
      {
       "output_type": "stream",
       "stream": "stdout",
       "text": [
        "\n",
        "184 of 423 \t lsc1m009-fl03-20141217-0014-e90.fits"
       ]
      },
      {
       "output_type": "stream",
       "stream": "stdout",
       "text": [
        "\n",
        "185 of 423 \t cpt1m010-kb70-20141217-0153-e90.fits"
       ]
      },
      {
       "output_type": "stream",
       "stream": "stdout",
       "text": [
        "\n",
        "186 of 423 \t lsc1m009-fl03-20141217-0015-e90.fits"
       ]
      },
      {
       "output_type": "stream",
       "stream": "stdout",
       "text": [
        "\n",
        "187 of 423 \t cpt1m010-kb70-20141217-0154-e90.fits"
       ]
      },
      {
       "output_type": "stream",
       "stream": "stdout",
       "text": [
        "\n",
        "188 of 423 \t lsc1m009-fl03-20141217-0016-e90.fits"
       ]
      },
      {
       "output_type": "stream",
       "stream": "stdout",
       "text": [
        "\n",
        "189 of 423 \t cpt1m010-kb70-20141217-0155-e90.fits"
       ]
      },
      {
       "output_type": "stream",
       "stream": "stdout",
       "text": [
        "\n",
        "190 of 423 \t lsc1m009-fl03-20141217-0017-e90.fits"
       ]
      },
      {
       "output_type": "stream",
       "stream": "stdout",
       "text": [
        "\n",
        "191 of 423 \t cpt1m010-kb70-20141217-0156-e90.fits"
       ]
      },
      {
       "output_type": "stream",
       "stream": "stdout",
       "text": [
        "\n",
        "192 of 423 \t lsc1m009-fl03-20141217-0018-e90.fits"
       ]
      },
      {
       "output_type": "stream",
       "stream": "stdout",
       "text": [
        "\n",
        "193 of 423 \t cpt1m010-kb70-20141217-0157-e90.fits"
       ]
      },
      {
       "output_type": "stream",
       "stream": "stdout",
       "text": [
        "\n",
        "194 of 423 \t lsc1m009-fl03-20141217-0019-e90.fits"
       ]
      },
      {
       "output_type": "stream",
       "stream": "stdout",
       "text": [
        "\n",
        "195 of 423 \t cpt1m010-kb70-20141217-0158-e90.fits"
       ]
      },
      {
       "output_type": "stream",
       "stream": "stdout",
       "text": [
        "\n",
        "196 of 423 \t lsc1m009-fl03-20141217-0020-e90.fits"
       ]
      },
      {
       "output_type": "stream",
       "stream": "stdout",
       "text": [
        "\n",
        "197 of 423 \t cpt1m010-kb70-20141217-0159-e90.fits"
       ]
      },
      {
       "output_type": "stream",
       "stream": "stdout",
       "text": [
        "\n",
        "198 of 423 \t lsc1m009-fl03-20141217-0021-e90.fits"
       ]
      },
      {
       "output_type": "stream",
       "stream": "stdout",
       "text": [
        "\n",
        "199 of 423 \t cpt1m010-kb70-20141217-0160-e90.fits"
       ]
      },
      {
       "output_type": "stream",
       "stream": "stdout",
       "text": [
        "\n",
        "200 of 423 \t cpt1m010-kb70-20141217-0161-e90.fits"
       ]
      },
      {
       "output_type": "stream",
       "stream": "stdout",
       "text": [
        "\n",
        "201 of 423 \t lsc1m009-fl03-20141217-0022-e90.fits"
       ]
      },
      {
       "output_type": "stream",
       "stream": "stdout",
       "text": [
        "\n",
        "202 of 423 \t cpt1m010-kb70-20141217-0162-e90.fits"
       ]
      },
      {
       "output_type": "stream",
       "stream": "stdout",
       "text": [
        "\n",
        "203 of 423 \t lsc1m009-fl03-20141217-0023-e90.fits"
       ]
      },
      {
       "output_type": "stream",
       "stream": "stdout",
       "text": [
        "\n",
        "204 of 423 \t lsc1m009-fl03-20141217-0024-e90.fits"
       ]
      },
      {
       "output_type": "stream",
       "stream": "stdout",
       "text": [
        "\n",
        "205 of 423 \t lsc1m009-fl03-20141217-0025-e90.fits"
       ]
      },
      {
       "output_type": "stream",
       "stream": "stdout",
       "text": [
        "\n",
        "206 of 423 \t lsc1m009-fl03-20141217-0026-e90.fits"
       ]
      },
      {
       "output_type": "stream",
       "stream": "stdout",
       "text": [
        "\n",
        "207 of 423 \t lsc1m009-fl03-20141217-0027-e90.fits"
       ]
      },
      {
       "output_type": "stream",
       "stream": "stdout",
       "text": [
        "\n",
        "208 of 423 \t lsc1m009-fl03-20141217-0028-e90.fits"
       ]
      },
      {
       "output_type": "stream",
       "stream": "stdout",
       "text": [
        "\n",
        "209 of 423 \t lsc1m009-fl03-20141217-0029-e90.fits"
       ]
      },
      {
       "output_type": "stream",
       "stream": "stdout",
       "text": [
        "\n",
        "210 of 423 \t lsc1m009-fl03-20141217-0030-e90.fits"
       ]
      },
      {
       "output_type": "stream",
       "stream": "stdout",
       "text": [
        "\n",
        "211 of 423 \t lsc1m009-fl03-20141217-0031-e90.fits"
       ]
      },
      {
       "output_type": "stream",
       "stream": "stdout",
       "text": [
        "\n",
        "212 of 423 \t lsc1m009-fl03-20141217-0032-e90.fits"
       ]
      },
      {
       "output_type": "stream",
       "stream": "stdout",
       "text": [
        "\n",
        "213 of 423 \t lsc1m009-fl03-20141217-0033-e90.fits"
       ]
      },
      {
       "output_type": "stream",
       "stream": "stdout",
       "text": [
        "\n",
        "214 of 423 \t lsc1m009-fl03-20141217-0034-e90.fits"
       ]
      },
      {
       "output_type": "stream",
       "stream": "stdout",
       "text": [
        "\n",
        "215 of 423 \t lsc1m009-fl03-20141217-0035-e90.fits"
       ]
      },
      {
       "output_type": "stream",
       "stream": "stdout",
       "text": [
        "\n",
        "216 of 423 \t lsc1m009-fl03-20141217-0036-e90.fits"
       ]
      },
      {
       "output_type": "stream",
       "stream": "stdout",
       "text": [
        "\n",
        "217 of 423 \t lsc1m009-fl03-20141217-0037-e90.fits"
       ]
      },
      {
       "output_type": "stream",
       "stream": "stdout",
       "text": [
        "\n",
        "218 of 423 \t lsc1m009-fl03-20141217-0038-e90.fits"
       ]
      },
      {
       "output_type": "stream",
       "stream": "stdout",
       "text": [
        "\n",
        "219 of 423 \t lsc1m009-fl03-20141217-0039-e90.fits"
       ]
      },
      {
       "output_type": "stream",
       "stream": "stdout",
       "text": [
        "\n",
        "220 of 423 \t lsc1m009-fl03-20141217-0040-e90.fits"
       ]
      },
      {
       "output_type": "stream",
       "stream": "stdout",
       "text": [
        "\n",
        "221 of 423 \t lsc1m009-fl03-20141217-0041-e90.fits"
       ]
      },
      {
       "output_type": "stream",
       "stream": "stdout",
       "text": [
        "\n",
        "222 of 423 \t lsc1m009-fl03-20141217-0042-e90.fits"
       ]
      },
      {
       "output_type": "stream",
       "stream": "stdout",
       "text": [
        "\n",
        "223 of 423 \t lsc1m009-fl03-20141217-0043-e90.fits"
       ]
      },
      {
       "output_type": "stream",
       "stream": "stdout",
       "text": [
        "\n",
        "224 of 423 \t lsc1m009-fl03-20141217-0044-e90.fits"
       ]
      },
      {
       "output_type": "stream",
       "stream": "stdout",
       "text": [
        "\n",
        "225 of 423 \t lsc1m009-fl03-20141217-0045-e90.fits"
       ]
      },
      {
       "output_type": "stream",
       "stream": "stdout",
       "text": [
        "\n",
        "226 of 423 \t lsc1m009-fl03-20141217-0046-e90.fits"
       ]
      },
      {
       "output_type": "stream",
       "stream": "stdout",
       "text": [
        "\n",
        "227 of 423 \t lsc1m009-fl03-20141217-0047-e90.fits"
       ]
      },
      {
       "output_type": "stream",
       "stream": "stdout",
       "text": [
        "\n",
        "228 of 423 \t lsc1m009-fl03-20141217-0048-e90.fits"
       ]
      },
      {
       "output_type": "stream",
       "stream": "stdout",
       "text": [
        "\n",
        "229 of 423 \t lsc1m009-fl03-20141217-0049-e90.fits"
       ]
      },
      {
       "output_type": "stream",
       "stream": "stdout",
       "text": [
        "\n",
        "230 of 423 \t lsc1m009-fl03-20141217-0050-e90.fits"
       ]
      },
      {
       "output_type": "stream",
       "stream": "stdout",
       "text": [
        "\n",
        "231 of 423 \t lsc1m009-fl03-20141217-0051-e90.fits"
       ]
      },
      {
       "output_type": "stream",
       "stream": "stdout",
       "text": [
        "\n",
        "232 of 423 \t lsc1m009-fl03-20141217-0052-e90.fits"
       ]
      },
      {
       "output_type": "stream",
       "stream": "stdout",
       "text": [
        "\n",
        "233 of 423 \t lsc1m009-fl03-20141217-0053-e90.fits"
       ]
      },
      {
       "output_type": "stream",
       "stream": "stdout",
       "text": [
        "\n",
        "234 of 423 \t lsc1m009-fl03-20141217-0054-e90.fits"
       ]
      },
      {
       "output_type": "stream",
       "stream": "stdout",
       "text": [
        "\n",
        "235 of 423 \t lsc1m009-fl03-20141217-0055-e90.fits"
       ]
      },
      {
       "output_type": "stream",
       "stream": "stdout",
       "text": [
        "\n",
        "236 of 423 \t lsc1m009-fl03-20141217-0056-e90.fits"
       ]
      },
      {
       "output_type": "stream",
       "stream": "stdout",
       "text": [
        "\n",
        "237 of 423 \t lsc1m009-fl03-20141217-0057-e90.fits"
       ]
      },
      {
       "output_type": "stream",
       "stream": "stdout",
       "text": [
        "\n",
        "238 of 423 \t lsc1m009-fl03-20141217-0058-e90.fits"
       ]
      },
      {
       "output_type": "stream",
       "stream": "stdout",
       "text": [
        "\n",
        "239 of 423 \t lsc1m009-fl03-20141217-0059-e90.fits"
       ]
      },
      {
       "output_type": "stream",
       "stream": "stdout",
       "text": [
        "\n",
        "240 of 423 \t lsc1m009-fl03-20141217-0060-e90.fits"
       ]
      },
      {
       "output_type": "stream",
       "stream": "stdout",
       "text": [
        "\n",
        "241 of 423 \t lsc1m009-fl03-20141217-0061-e90.fits"
       ]
      },
      {
       "output_type": "stream",
       "stream": "stdout",
       "text": [
        "\n",
        "242 of 423 \t lsc1m009-fl03-20141217-0062-e90.fits"
       ]
      },
      {
       "output_type": "stream",
       "stream": "stdout",
       "text": [
        "\n",
        "243 of 423 \t lsc1m009-fl03-20141217-0063-e90.fits"
       ]
      },
      {
       "output_type": "stream",
       "stream": "stdout",
       "text": [
        "\n",
        "244 of 423 \t lsc1m009-fl03-20141217-0064-e90.fits"
       ]
      },
      {
       "output_type": "stream",
       "stream": "stdout",
       "text": [
        "\n",
        "245 of 423 \t lsc1m009-fl03-20141217-0065-e90.fits"
       ]
      },
      {
       "output_type": "stream",
       "stream": "stdout",
       "text": [
        "\n",
        "246 of 423 \t lsc1m009-fl03-20141217-0066-e90.fits"
       ]
      },
      {
       "output_type": "stream",
       "stream": "stdout",
       "text": [
        "\n",
        "247 of 423 \t lsc1m009-fl03-20141217-0067-e90.fits"
       ]
      },
      {
       "output_type": "stream",
       "stream": "stdout",
       "text": [
        "\n",
        "248 of 423 \t lsc1m009-fl03-20141217-0068-e90.fits"
       ]
      },
      {
       "output_type": "stream",
       "stream": "stdout",
       "text": [
        "\n",
        "249 of 423 \t lsc1m009-fl03-20141217-0069-e90.fits"
       ]
      },
      {
       "output_type": "stream",
       "stream": "stdout",
       "text": [
        "\n",
        "250 of 423 \t lsc1m009-fl03-20141217-0070-e90.fits"
       ]
      },
      {
       "output_type": "stream",
       "stream": "stdout",
       "text": [
        "\n",
        "251 of 423 \t lsc1m009-fl03-20141217-0071-e90.fits"
       ]
      },
      {
       "output_type": "stream",
       "stream": "stdout",
       "text": [
        "\n",
        "252 of 423 \t lsc1m009-fl03-20141217-0072-e90.fits"
       ]
      },
      {
       "output_type": "stream",
       "stream": "stdout",
       "text": [
        "\n",
        "253 of 423 \t lsc1m009-fl03-20141217-0073-e90.fits"
       ]
      },
      {
       "output_type": "stream",
       "stream": "stdout",
       "text": [
        "\n",
        "254 of 423 \t lsc1m009-fl03-20141217-0074-e90.fits"
       ]
      },
      {
       "output_type": "stream",
       "stream": "stdout",
       "text": [
        "\n",
        "255 of 423 \t lsc1m009-fl03-20141217-0075-e90.fits"
       ]
      },
      {
       "output_type": "stream",
       "stream": "stdout",
       "text": [
        "\n",
        "256 of 423 \t lsc1m009-fl03-20141217-0076-e90.fits"
       ]
      },
      {
       "output_type": "stream",
       "stream": "stdout",
       "text": [
        "\n",
        "257 of 423 \t lsc1m009-fl03-20141217-0077-e90.fits"
       ]
      },
      {
       "output_type": "stream",
       "stream": "stdout",
       "text": [
        "\n",
        "258 of 423 \t lsc1m009-fl03-20141217-0078-e90.fits"
       ]
      },
      {
       "output_type": "stream",
       "stream": "stdout",
       "text": [
        "\n",
        "259 of 423 \t lsc1m009-fl03-20141217-0079-e90.fits"
       ]
      },
      {
       "output_type": "stream",
       "stream": "stdout",
       "text": [
        "\n",
        "260 of 423 \t lsc1m009-fl03-20141217-0080-e90.fits"
       ]
      },
      {
       "output_type": "stream",
       "stream": "stdout",
       "text": [
        "\n",
        "261 of 423 \t coj1m003-kb71-20141218-0083-e90.fits"
       ]
      },
      {
       "output_type": "stream",
       "stream": "stdout",
       "text": [
        "\n",
        "262 of 423 \t coj1m003-kb71-20141218-0084-e90.fits"
       ]
      },
      {
       "output_type": "stream",
       "stream": "stdout",
       "text": [
        "\n",
        "263 of 423 \t coj1m003-kb71-20141218-0085-e90.fits"
       ]
      },
      {
       "output_type": "stream",
       "stream": "stdout",
       "text": [
        "\n",
        "264 of 423 \t coj1m003-kb71-20141218-0086-e90.fits"
       ]
      },
      {
       "output_type": "stream",
       "stream": "stdout",
       "text": [
        "\n",
        "265 of 423 \t coj1m003-kb71-20141218-0087-e90.fits"
       ]
      },
      {
       "output_type": "stream",
       "stream": "stdout",
       "text": [
        "\n",
        "266 of 423 \t coj1m003-kb71-20141218-0088-e90.fits"
       ]
      },
      {
       "output_type": "stream",
       "stream": "stdout",
       "text": [
        "\n",
        "267 of 423 \t coj1m003-kb71-20141218-0089-e90.fits"
       ]
      },
      {
       "output_type": "stream",
       "stream": "stdout",
       "text": [
        "\n",
        "268 of 423 \t coj1m003-kb71-20141218-0090-e90.fits"
       ]
      },
      {
       "output_type": "stream",
       "stream": "stdout",
       "text": [
        "\n",
        "269 of 423 \t coj1m003-kb71-20141218-0091-e90.fits"
       ]
      },
      {
       "output_type": "stream",
       "stream": "stdout",
       "text": [
        "\n",
        "270 of 423 \t coj1m003-kb71-20141218-0092-e90.fits"
       ]
      },
      {
       "output_type": "stream",
       "stream": "stdout",
       "text": [
        "\n",
        "271 of 423 \t coj1m003-kb71-20141218-0093-e90.fits"
       ]
      },
      {
       "output_type": "stream",
       "stream": "stdout",
       "text": [
        "\n",
        "272 of 423 \t coj1m003-kb71-20141218-0094-e90.fits"
       ]
      },
      {
       "output_type": "stream",
       "stream": "stdout",
       "text": [
        "\n",
        "273 of 423 \t coj1m003-kb71-20141218-0095-e90.fits"
       ]
      },
      {
       "output_type": "stream",
       "stream": "stdout",
       "text": [
        "\n",
        "274 of 423 \t coj1m003-kb71-20141218-0096-e90.fits"
       ]
      },
      {
       "output_type": "stream",
       "stream": "stdout",
       "text": [
        "\n",
        "275 of 423 \t coj1m003-kb71-20141218-0097-e90.fits"
       ]
      },
      {
       "output_type": "stream",
       "stream": "stdout",
       "text": [
        "\n",
        "276 of 423 \t coj1m003-kb71-20141218-0098-e90.fits"
       ]
      },
      {
       "output_type": "stream",
       "stream": "stdout",
       "text": [
        "\n",
        "277 of 423 \t coj1m003-kb71-20141218-0099-e90.fits"
       ]
      },
      {
       "output_type": "stream",
       "stream": "stdout",
       "text": [
        "\n",
        "278 of 423 \t coj1m003-kb71-20141218-0100-e90.fits"
       ]
      },
      {
       "output_type": "stream",
       "stream": "stdout",
       "text": [
        "\n",
        "279 of 423 \t coj1m003-kb71-20141218-0101-e90.fits"
       ]
      },
      {
       "output_type": "stream",
       "stream": "stdout",
       "text": [
        "\n",
        "280 of 423 \t coj1m003-kb71-20141218-0102-e90.fits"
       ]
      },
      {
       "output_type": "stream",
       "stream": "stdout",
       "text": [
        "\n",
        "281 of 423 \t coj1m003-kb71-20141218-0103-e90.fits"
       ]
      },
      {
       "output_type": "stream",
       "stream": "stdout",
       "text": [
        "\n",
        "282 of 423 \t coj1m003-kb71-20141218-0104-e90.fits"
       ]
      },
      {
       "output_type": "stream",
       "stream": "stdout",
       "text": [
        "\n",
        "283 of 423 \t coj1m003-kb71-20141218-0105-e90.fits"
       ]
      },
      {
       "output_type": "stream",
       "stream": "stdout",
       "text": [
        "\n",
        "284 of 423 \t coj1m003-kb71-20141218-0106-e90.fits"
       ]
      },
      {
       "output_type": "stream",
       "stream": "stdout",
       "text": [
        "\n",
        "285 of 423 \t coj1m003-kb71-20141218-0107-e90.fits"
       ]
      },
      {
       "output_type": "stream",
       "stream": "stdout",
       "text": [
        "\n",
        "286 of 423 \t coj1m003-kb71-20141218-0108-e90.fits"
       ]
      },
      {
       "output_type": "stream",
       "stream": "stdout",
       "text": [
        "\n",
        "287 of 423 \t coj1m003-kb71-20141218-0109-e90.fits"
       ]
      },
      {
       "output_type": "stream",
       "stream": "stdout",
       "text": [
        "\n",
        "288 of 423 \t coj1m003-kb71-20141218-0110-e90.fits"
       ]
      },
      {
       "output_type": "stream",
       "stream": "stdout",
       "text": [
        "\n",
        "289 of 423 \t coj1m003-kb71-20141218-0111-e90.fits"
       ]
      },
      {
       "output_type": "stream",
       "stream": "stdout",
       "text": [
        "\n",
        "290 of 423 \t coj1m003-kb71-20141218-0112-e90.fits"
       ]
      },
      {
       "output_type": "stream",
       "stream": "stdout",
       "text": [
        "\n",
        "291 of 423 \t coj1m003-kb71-20141218-0113-e90.fits"
       ]
      },
      {
       "output_type": "stream",
       "stream": "stdout",
       "text": [
        "\n",
        "292 of 423 \t coj1m003-kb71-20141218-0114-e90.fits"
       ]
      },
      {
       "output_type": "stream",
       "stream": "stdout",
       "text": [
        "\n",
        "293 of 423 \t coj1m003-kb71-20141218-0115-e90.fits"
       ]
      },
      {
       "output_type": "stream",
       "stream": "stdout",
       "text": [
        "\n",
        "294 of 423 \t coj1m003-kb71-20141218-0116-e90.fits"
       ]
      },
      {
       "output_type": "stream",
       "stream": "stdout",
       "text": [
        "\n",
        "295 of 423 \t coj1m003-kb71-20141218-0117-e90.fits"
       ]
      },
      {
       "output_type": "stream",
       "stream": "stdout",
       "text": [
        "\n",
        "296 of 423 \t coj1m003-kb71-20141218-0118-e90.fits"
       ]
      },
      {
       "output_type": "stream",
       "stream": "stdout",
       "text": [
        "\n",
        "297 of 423 \t coj1m003-kb71-20141218-0119-e90.fits"
       ]
      },
      {
       "output_type": "stream",
       "stream": "stdout",
       "text": [
        "\n",
        "298 of 423 \t coj1m003-kb71-20141218-0120-e90.fits"
       ]
      },
      {
       "output_type": "stream",
       "stream": "stdout",
       "text": [
        "\n",
        "299 of 423 \t coj1m003-kb71-20141218-0121-e90.fits"
       ]
      },
      {
       "output_type": "stream",
       "stream": "stdout",
       "text": [
        "\n",
        "300 of 423 \t coj1m003-kb71-20141218-0122-e90.fits"
       ]
      },
      {
       "output_type": "stream",
       "stream": "stdout",
       "text": [
        "\n",
        "301 of 423 \t coj1m003-kb71-20141218-0123-e90.fits"
       ]
      },
      {
       "output_type": "stream",
       "stream": "stdout",
       "text": [
        "\n",
        "302 of 423 \t coj1m003-kb71-20141218-0124-e90.fits"
       ]
      },
      {
       "output_type": "stream",
       "stream": "stdout",
       "text": [
        "\n",
        "303 of 423 \t coj1m003-kb71-20141218-0125-e90.fits"
       ]
      },
      {
       "output_type": "stream",
       "stream": "stdout",
       "text": [
        "\n",
        "304 of 423 \t coj1m003-kb71-20141218-0126-e90.fits"
       ]
      },
      {
       "output_type": "stream",
       "stream": "stdout",
       "text": [
        "\n",
        "305 of 423 \t coj1m003-kb71-20141218-0127-e90.fits"
       ]
      },
      {
       "output_type": "stream",
       "stream": "stdout",
       "text": [
        "\n",
        "306 of 423 \t coj1m003-kb71-20141218-0128-e90.fits"
       ]
      },
      {
       "output_type": "stream",
       "stream": "stdout",
       "text": [
        "\n",
        "307 of 423 \t coj1m003-kb71-20141218-0129-e90.fits"
       ]
      },
      {
       "output_type": "stream",
       "stream": "stdout",
       "text": [
        "\n",
        "308 of 423 \t coj1m003-kb71-20141218-0130-e90.fits"
       ]
      },
      {
       "output_type": "stream",
       "stream": "stdout",
       "text": [
        "\n",
        "309 of 423 \t coj1m003-kb71-20141218-0131-e90.fits"
       ]
      },
      {
       "output_type": "stream",
       "stream": "stdout",
       "text": [
        "\n",
        "310 of 423 \t coj1m003-kb71-20141218-0132-e90.fits"
       ]
      },
      {
       "output_type": "stream",
       "stream": "stdout",
       "text": [
        "\n",
        "311 of 423 \t coj1m003-kb71-20141218-0133-e90.fits"
       ]
      },
      {
       "output_type": "stream",
       "stream": "stdout",
       "text": [
        "\n",
        "312 of 423 \t coj1m003-kb71-20141218-0134-e90.fits"
       ]
      },
      {
       "output_type": "stream",
       "stream": "stdout",
       "text": [
        "\n",
        "313 of 423 \t coj1m003-kb71-20141218-0135-e90.fits"
       ]
      },
      {
       "output_type": "stream",
       "stream": "stdout",
       "text": [
        "\n",
        "314 of 423 \t coj1m003-kb71-20141218-0136-e90.fits"
       ]
      },
      {
       "output_type": "stream",
       "stream": "stdout",
       "text": [
        "\n",
        "315 of 423 \t coj1m003-kb71-20141218-0137-e90.fits"
       ]
      },
      {
       "output_type": "stream",
       "stream": "stdout",
       "text": [
        "\n",
        "316 of 423 \t coj1m003-kb71-20141218-0138-e90.fits"
       ]
      },
      {
       "output_type": "stream",
       "stream": "stdout",
       "text": [
        "\n",
        "317 of 423 \t coj1m003-kb71-20141218-0139-e90.fits"
       ]
      },
      {
       "output_type": "stream",
       "stream": "stdout",
       "text": [
        "\n",
        "318 of 423 \t coj1m003-kb71-20141218-0140-e90.fits"
       ]
      },
      {
       "output_type": "stream",
       "stream": "stdout",
       "text": [
        "\n",
        "319 of 423 \t coj1m003-kb71-20141218-0141-e90.fits"
       ]
      },
      {
       "output_type": "stream",
       "stream": "stdout",
       "text": [
        "\n",
        "320 of 423 \t coj1m003-kb71-20141218-0142-e90.fits"
       ]
      },
      {
       "output_type": "stream",
       "stream": "stdout",
       "text": [
        "\n",
        "321 of 423 \t coj1m003-kb71-20141218-0143-e90.fits"
       ]
      },
      {
       "output_type": "stream",
       "stream": "stdout",
       "text": [
        "\n",
        "322 of 423 \t coj1m003-kb71-20141218-0144-e90.fits"
       ]
      },
      {
       "output_type": "stream",
       "stream": "stdout",
       "text": [
        "\n",
        "323 of 423 \t coj1m003-kb71-20141218-0145-e90.fits"
       ]
      },
      {
       "output_type": "stream",
       "stream": "stdout",
       "text": [
        "\n",
        "324 of 423 \t coj1m003-kb71-20141218-0146-e90.fits"
       ]
      },
      {
       "output_type": "stream",
       "stream": "stdout",
       "text": [
        "\n",
        "325 of 423 \t coj1m003-kb71-20141218-0147-e90.fits"
       ]
      },
      {
       "output_type": "stream",
       "stream": "stdout",
       "text": [
        "\n",
        "326 of 423 \t coj1m003-kb71-20141218-0148-e90.fits"
       ]
      },
      {
       "output_type": "stream",
       "stream": "stdout",
       "text": [
        "\n",
        "327 of 423 \t coj1m003-kb71-20141218-0149-e90.fits"
       ]
      },
      {
       "output_type": "stream",
       "stream": "stdout",
       "text": [
        "\n",
        "328 of 423 \t coj1m003-kb71-20141218-0150-e90.fits"
       ]
      },
      {
       "output_type": "stream",
       "stream": "stdout",
       "text": [
        "\n",
        "329 of 423 \t coj1m003-kb71-20141218-0151-e90.fits"
       ]
      },
      {
       "output_type": "stream",
       "stream": "stdout",
       "text": [
        "\n",
        "330 of 423 \t coj1m003-kb71-20141218-0152-e90.fits"
       ]
      },
      {
       "output_type": "stream",
       "stream": "stdout",
       "text": [
        "\n",
        "331 of 423 \t coj1m003-kb71-20141218-0153-e90.fits"
       ]
      },
      {
       "output_type": "stream",
       "stream": "stdout",
       "text": [
        "\n",
        "332 of 423 \t coj1m003-kb71-20141218-0154-e90.fits"
       ]
      },
      {
       "output_type": "stream",
       "stream": "stdout",
       "text": [
        "\n",
        "333 of 423 \t coj1m003-kb71-20141218-0155-e90.fits"
       ]
      },
      {
       "output_type": "stream",
       "stream": "stdout",
       "text": [
        "\n",
        "334 of 423 \t coj1m003-kb71-20141218-0156-e90.fits"
       ]
      },
      {
       "output_type": "stream",
       "stream": "stdout",
       "text": [
        "\n",
        "335 of 423 \t coj1m003-kb71-20141218-0157-e90.fits"
       ]
      },
      {
       "output_type": "stream",
       "stream": "stdout",
       "text": [
        "\n",
        "336 of 423 \t coj1m003-kb71-20141218-0158-e90.fits"
       ]
      },
      {
       "output_type": "stream",
       "stream": "stdout",
       "text": [
        "\n",
        "337 of 423 \t coj1m003-kb71-20141218-0159-e90.fits"
       ]
      },
      {
       "output_type": "stream",
       "stream": "stdout",
       "text": [
        "\n",
        "338 of 423 \t coj1m003-kb71-20141218-0160-e90.fits"
       ]
      },
      {
       "output_type": "stream",
       "stream": "stdout",
       "text": [
        "\n",
        "339 of 423 \t coj1m003-kb71-20141218-0161-e90.fits"
       ]
      },
      {
       "output_type": "stream",
       "stream": "stdout",
       "text": [
        "\n",
        "340 of 423 \t coj1m003-kb71-20141218-0162-e90.fits"
       ]
      },
      {
       "output_type": "stream",
       "stream": "stdout",
       "text": [
        "\n",
        "341 of 423 \t coj1m003-kb71-20141218-0163-e90.fits"
       ]
      },
      {
       "output_type": "stream",
       "stream": "stdout",
       "text": [
        "\n",
        "342 of 423 \t coj1m003-kb71-20141218-0164-e90.fits"
       ]
      },
      {
       "output_type": "stream",
       "stream": "stdout",
       "text": [
        "\n",
        "343 of 423 \t coj1m003-kb71-20141218-0165-e90.fits"
       ]
      },
      {
       "output_type": "stream",
       "stream": "stdout",
       "text": [
        "\n",
        "344 of 423 \t cpt1m010-kb70-20141218-0083-e90.fits"
       ]
      },
      {
       "output_type": "stream",
       "stream": "stdout",
       "text": [
        "\n",
        "345 of 423 \t cpt1m010-kb70-20141218-0084-e90.fits"
       ]
      },
      {
       "output_type": "stream",
       "stream": "stdout",
       "text": [
        "\n",
        "346 of 423 \t cpt1m010-kb70-20141218-0085-e90.fits"
       ]
      },
      {
       "output_type": "stream",
       "stream": "stdout",
       "text": [
        "\n",
        "347 of 423 \t cpt1m010-kb70-20141218-0086-e90.fits"
       ]
      },
      {
       "output_type": "stream",
       "stream": "stdout",
       "text": [
        "\n",
        "348 of 423 \t cpt1m010-kb70-20141218-0087-e90.fits"
       ]
      },
      {
       "output_type": "stream",
       "stream": "stdout",
       "text": [
        "\n",
        "349 of 423 \t cpt1m010-kb70-20141218-0088-e90.fits"
       ]
      },
      {
       "output_type": "stream",
       "stream": "stdout",
       "text": [
        "\n",
        "350 of 423 \t cpt1m010-kb70-20141218-0089-e90.fits"
       ]
      },
      {
       "output_type": "stream",
       "stream": "stdout",
       "text": [
        "\n",
        "351 of 423 \t cpt1m010-kb70-20141218-0090-e90.fits"
       ]
      },
      {
       "output_type": "stream",
       "stream": "stdout",
       "text": [
        "\n",
        "352 of 423 \t cpt1m010-kb70-20141218-0091-e90.fits"
       ]
      },
      {
       "output_type": "stream",
       "stream": "stdout",
       "text": [
        "\n",
        "353 of 423 \t cpt1m010-kb70-20141218-0092-e90.fits"
       ]
      },
      {
       "output_type": "stream",
       "stream": "stdout",
       "text": [
        "\n",
        "354 of 423 \t cpt1m010-kb70-20141218-0093-e90.fits"
       ]
      },
      {
       "output_type": "stream",
       "stream": "stdout",
       "text": [
        "\n",
        "355 of 423 \t cpt1m010-kb70-20141218-0094-e90.fits"
       ]
      },
      {
       "output_type": "stream",
       "stream": "stdout",
       "text": [
        "\n",
        "356 of 423 \t cpt1m010-kb70-20141218-0095-e90.fits"
       ]
      },
      {
       "output_type": "stream",
       "stream": "stdout",
       "text": [
        "\n",
        "357 of 423 \t cpt1m010-kb70-20141218-0096-e90.fits"
       ]
      },
      {
       "output_type": "stream",
       "stream": "stdout",
       "text": [
        "\n",
        "358 of 423 \t cpt1m010-kb70-20141218-0097-e90.fits"
       ]
      },
      {
       "output_type": "stream",
       "stream": "stdout",
       "text": [
        "\n",
        "359 of 423 \t cpt1m010-kb70-20141218-0098-e90.fits"
       ]
      },
      {
       "output_type": "stream",
       "stream": "stdout",
       "text": [
        "\n",
        "360 of 423 \t cpt1m010-kb70-20141218-0099-e90.fits"
       ]
      },
      {
       "output_type": "stream",
       "stream": "stdout",
       "text": [
        "\n",
        "361 of 423 \t cpt1m010-kb70-20141218-0100-e90.fits"
       ]
      },
      {
       "output_type": "stream",
       "stream": "stdout",
       "text": [
        "\n",
        "362 of 423 \t cpt1m010-kb70-20141218-0101-e90.fits"
       ]
      },
      {
       "output_type": "stream",
       "stream": "stdout",
       "text": [
        "\n",
        "363 of 423 \t cpt1m010-kb70-20141218-0102-e90.fits"
       ]
      },
      {
       "output_type": "stream",
       "stream": "stdout",
       "text": [
        "\n",
        "364 of 423 \t cpt1m010-kb70-20141218-0103-e90.fits"
       ]
      },
      {
       "output_type": "stream",
       "stream": "stdout",
       "text": [
        "\n",
        "365 of 423 \t cpt1m010-kb70-20141218-0104-e90.fits"
       ]
      },
      {
       "output_type": "stream",
       "stream": "stdout",
       "text": [
        "\n",
        "366 of 423 \t cpt1m010-kb70-20141218-0105-e90.fits"
       ]
      },
      {
       "output_type": "stream",
       "stream": "stdout",
       "text": [
        "\n",
        "367 of 423 \t cpt1m010-kb70-20141218-0106-e90.fits"
       ]
      },
      {
       "output_type": "stream",
       "stream": "stdout",
       "text": [
        "\n",
        "368 of 423 \t cpt1m010-kb70-20141218-0107-e90.fits"
       ]
      },
      {
       "output_type": "stream",
       "stream": "stdout",
       "text": [
        "\n",
        "369 of 423 \t cpt1m010-kb70-20141218-0108-e90.fits"
       ]
      },
      {
       "output_type": "stream",
       "stream": "stdout",
       "text": [
        "\n",
        "370 of 423 \t cpt1m010-kb70-20141218-0109-e90.fits"
       ]
      },
      {
       "output_type": "stream",
       "stream": "stdout",
       "text": [
        "\n",
        "371 of 423 \t cpt1m010-kb70-20141218-0110-e90.fits"
       ]
      },
      {
       "output_type": "stream",
       "stream": "stdout",
       "text": [
        "\n",
        "372 of 423 \t cpt1m010-kb70-20141218-0111-e90.fits"
       ]
      },
      {
       "output_type": "stream",
       "stream": "stdout",
       "text": [
        "\n",
        "373 of 423 \t cpt1m010-kb70-20141218-0112-e90.fits"
       ]
      },
      {
       "output_type": "stream",
       "stream": "stdout",
       "text": [
        "\n",
        "374 of 423 \t cpt1m010-kb70-20141218-0113-e90.fits"
       ]
      },
      {
       "output_type": "stream",
       "stream": "stdout",
       "text": [
        "\n",
        "375 of 423 \t cpt1m010-kb70-20141218-0114-e90.fits"
       ]
      },
      {
       "output_type": "stream",
       "stream": "stdout",
       "text": [
        "\n",
        "376 of 423 \t cpt1m010-kb70-20141218-0115-e90.fits"
       ]
      },
      {
       "output_type": "stream",
       "stream": "stdout",
       "text": [
        "\n",
        "377 of 423 \t cpt1m010-kb70-20141218-0116-e90.fits"
       ]
      },
      {
       "output_type": "stream",
       "stream": "stdout",
       "text": [
        "\n",
        "378 of 423 \t cpt1m010-kb70-20141218-0117-e90.fits"
       ]
      },
      {
       "output_type": "stream",
       "stream": "stdout",
       "text": [
        "\n",
        "379 of 423 \t cpt1m010-kb70-20141218-0118-e90.fits"
       ]
      },
      {
       "output_type": "stream",
       "stream": "stdout",
       "text": [
        "\n",
        "380 of 423 \t cpt1m010-kb70-20141218-0119-e90.fits"
       ]
      },
      {
       "output_type": "stream",
       "stream": "stdout",
       "text": [
        "\n",
        "381 of 423 \t cpt1m010-kb70-20141218-0120-e90.fits"
       ]
      },
      {
       "output_type": "stream",
       "stream": "stdout",
       "text": [
        "\n",
        "382 of 423 \t cpt1m010-kb70-20141218-0121-e90.fits"
       ]
      },
      {
       "output_type": "stream",
       "stream": "stdout",
       "text": [
        "\n",
        "383 of 423 \t cpt1m010-kb70-20141218-0122-e90.fits"
       ]
      },
      {
       "output_type": "stream",
       "stream": "stdout",
       "text": [
        "\n",
        "384 of 423 \t cpt1m010-kb70-20141218-0123-e90.fits"
       ]
      },
      {
       "output_type": "stream",
       "stream": "stdout",
       "text": [
        "\n",
        "385 of 423 \t cpt1m010-kb70-20141218-0124-e90.fits"
       ]
      },
      {
       "output_type": "stream",
       "stream": "stdout",
       "text": [
        "\n",
        "386 of 423 \t cpt1m010-kb70-20141218-0126-e90.fits"
       ]
      },
      {
       "output_type": "stream",
       "stream": "stdout",
       "text": [
        "\n",
        "387 of 423 \t cpt1m010-kb70-20141218-0127-e90.fits"
       ]
      },
      {
       "output_type": "stream",
       "stream": "stdout",
       "text": [
        "\n",
        "388 of 423 \t cpt1m010-kb70-20141218-0128-e90.fits"
       ]
      },
      {
       "output_type": "stream",
       "stream": "stdout",
       "text": [
        "\n",
        "389 of 423 \t cpt1m010-kb70-20141218-0129-e90.fits"
       ]
      },
      {
       "output_type": "stream",
       "stream": "stdout",
       "text": [
        "\n",
        "390 of 423 \t cpt1m010-kb70-20141218-0130-e90.fits"
       ]
      },
      {
       "output_type": "stream",
       "stream": "stdout",
       "text": [
        "\n",
        "391 of 423 \t cpt1m010-kb70-20141218-0131-e90.fits"
       ]
      },
      {
       "output_type": "stream",
       "stream": "stdout",
       "text": [
        "\n",
        "392 of 423 \t cpt1m010-kb70-20141218-0132-e90.fits"
       ]
      },
      {
       "output_type": "stream",
       "stream": "stdout",
       "text": [
        "\n",
        "393 of 423 \t cpt1m010-kb70-20141218-0133-e90.fits"
       ]
      },
      {
       "output_type": "stream",
       "stream": "stdout",
       "text": [
        "\n",
        "394 of 423 \t cpt1m010-kb70-20141218-0134-e90.fits"
       ]
      },
      {
       "output_type": "stream",
       "stream": "stdout",
       "text": [
        "\n",
        "395 of 423 \t cpt1m010-kb70-20141218-0135-e90.fits"
       ]
      },
      {
       "output_type": "stream",
       "stream": "stdout",
       "text": [
        "\n",
        "396 of 423 \t cpt1m010-kb70-20141218-0136-e90.fits"
       ]
      },
      {
       "output_type": "stream",
       "stream": "stdout",
       "text": [
        "\n",
        "397 of 423 \t cpt1m010-kb70-20141218-0137-e90.fits"
       ]
      },
      {
       "output_type": "stream",
       "stream": "stdout",
       "text": [
        "\n",
        "398 of 423 \t cpt1m010-kb70-20141218-0138-e90.fits"
       ]
      },
      {
       "output_type": "stream",
       "stream": "stdout",
       "text": [
        "\n",
        "399 of 423 \t cpt1m010-kb70-20141218-0139-e90.fits"
       ]
      },
      {
       "output_type": "stream",
       "stream": "stdout",
       "text": [
        "\n",
        "400 of 423 \t cpt1m010-kb70-20141218-0140-e90.fits"
       ]
      },
      {
       "output_type": "stream",
       "stream": "stdout",
       "text": [
        "\n",
        "401 of 423 \t cpt1m010-kb70-20141218-0141-e90.fits"
       ]
      },
      {
       "output_type": "stream",
       "stream": "stdout",
       "text": [
        "\n",
        "402 of 423 \t cpt1m010-kb70-20141218-0142-e90.fits"
       ]
      },
      {
       "output_type": "stream",
       "stream": "stdout",
       "text": [
        "\n",
        "403 of 423 \t cpt1m010-kb70-20141218-0143-e90.fits"
       ]
      },
      {
       "output_type": "stream",
       "stream": "stdout",
       "text": [
        "\n",
        "404 of 423 \t cpt1m010-kb70-20141218-0144-e90.fits"
       ]
      },
      {
       "output_type": "stream",
       "stream": "stdout",
       "text": [
        "\n",
        "405 of 423 \t cpt1m010-kb70-20141218-0145-e90.fits"
       ]
      },
      {
       "output_type": "stream",
       "stream": "stdout",
       "text": [
        "\n",
        "406 of 423 \t cpt1m010-kb70-20141218-0146-e90.fits"
       ]
      },
      {
       "output_type": "stream",
       "stream": "stdout",
       "text": [
        "\n",
        "407 of 423 \t cpt1m010-kb70-20141218-0147-e90.fits"
       ]
      },
      {
       "output_type": "stream",
       "stream": "stdout",
       "text": [
        "\n",
        "408 of 423 \t cpt1m010-kb70-20141218-0148-e90.fits"
       ]
      },
      {
       "output_type": "stream",
       "stream": "stdout",
       "text": [
        "\n",
        "409 of 423 \t cpt1m010-kb70-20141218-0149-e90.fits"
       ]
      },
      {
       "output_type": "stream",
       "stream": "stdout",
       "text": [
        "\n",
        "410 of 423 \t cpt1m010-kb70-20141218-0150-e90.fits"
       ]
      },
      {
       "output_type": "stream",
       "stream": "stdout",
       "text": [
        "\n",
        "411 of 423 \t cpt1m010-kb70-20141218-0151-e90.fits"
       ]
      },
      {
       "output_type": "stream",
       "stream": "stdout",
       "text": [
        "\n",
        "412 of 423 \t cpt1m010-kb70-20141218-0152-e90.fits"
       ]
      },
      {
       "output_type": "stream",
       "stream": "stdout",
       "text": [
        "\n",
        "413 of 423 \t cpt1m010-kb70-20141218-0153-e90.fits"
       ]
      },
      {
       "output_type": "stream",
       "stream": "stdout",
       "text": [
        "\n",
        "414 of 423 \t cpt1m010-kb70-20141218-0154-e90.fits"
       ]
      },
      {
       "output_type": "stream",
       "stream": "stdout",
       "text": [
        "\n",
        "415 of 423 \t cpt1m010-kb70-20141218-0155-e90.fits"
       ]
      },
      {
       "output_type": "stream",
       "stream": "stdout",
       "text": [
        "\n",
        "416 of 423 \t cpt1m010-kb70-20141218-0156-e90.fits"
       ]
      },
      {
       "output_type": "stream",
       "stream": "stdout",
       "text": [
        "\n",
        "417 of 423 \t cpt1m010-kb70-20141218-0157-e90.fits"
       ]
      },
      {
       "output_type": "stream",
       "stream": "stdout",
       "text": [
        "\n",
        "418 of 423 \t cpt1m010-kb70-20141218-0158-e90.fits"
       ]
      },
      {
       "output_type": "stream",
       "stream": "stdout",
       "text": [
        "\n",
        "419 of 423 \t cpt1m010-kb70-20141218-0159-e90.fits"
       ]
      },
      {
       "output_type": "stream",
       "stream": "stdout",
       "text": [
        "\n",
        "420 of 423 \t cpt1m010-kb70-20141218-0160-e90.fits"
       ]
      },
      {
       "output_type": "stream",
       "stream": "stdout",
       "text": [
        "\n",
        "421 of 423 \t cpt1m010-kb70-20141218-0161-e90.fits"
       ]
      },
      {
       "output_type": "stream",
       "stream": "stdout",
       "text": [
        "\n",
        "422 of 423 \t cpt1m010-kb70-20141218-0162-e90.fits"
       ]
      },
      {
       "output_type": "stream",
       "stream": "stdout",
       "text": [
        "\n"
       ]
      },
      {
       "metadata": {},
       "output_type": "pyout",
       "prompt_number": 3,
       "text": [
        "32512"
       ]
      }
     ],
     "prompt_number": 3
    },
    {
     "cell_type": "heading",
     "level": 1,
     "metadata": {},
     "source": [
      "Testing"
     ]
    },
    {
     "cell_type": "heading",
     "level": 5,
     "metadata": {},
     "source": [
      "Lensed Quasar"
     ]
    },
    {
     "cell_type": "code",
     "collapsed": false,
     "input": [
      "# ims is a list of lists, each row is a list of artists to draw in the\n",
      "# current frame; here we are just animating one artist, the image, in\n",
      "# each frame\n",
      "count=0\n",
      "list0=[]\n",
      "list1=[]\n",
      "list2=[]\n",
      "list3=[]\n",
      "os.system('rm _tmp*.png')\n",
      "print 'MAKING IMAGE FIGURES FOR ANIMATION'\n",
      "max_airmass = 0.5*np.ceil(max_airmass/0.5)\n",
      "for i in range(len(fnms)):\n",
      "    d=fnms[i].split('-')\n",
      "    #gs = plt.GridSpec(1, 2, width_ratios=[3, 1]) \n",
      "    print '%d of %d \\t %s'%(i,len(fnms), fnms[i])\n",
      "    fnm = fnms[i]\n",
      "    fits_file_name = data_dir + fnm\n",
      "    FM = FITSmanager(fits_file_name)\n",
      "    #print FM.hdulist[0].header['MJD-OBS']\n",
      "    mjd = float(FM.hdulist[0].header['MJD-OBS'])\n",
      "    airmass = float(FM.hdulist[0].header['AIRMASS'])\n",
      "    #print '\\tairmass', airmass\n",
      "    #if(FM.hdulist[0].header['FILTER']=='rp' and mjd>57007.):\n",
      "    #if(FM.hdulist[0].header['FILTER']=='gp' and mjd>57007.):\n",
      "    if(mjd>57007.):\n",
      "\t    obj  = SourceImage(FM, ra,  dec,  25)\n",
      "            min_val = np.min(obj.image)\n",
      "\t    max_val = np.max(obj.image)\n",
      "\t    list0.append(mjd)\n",
      "\t    list1.append(max_val)\n",
      "\t    list2.append(min_val)\n",
      "\t    list3.append(airmass)\n",
      "\n",
      "\t    fig = plt.figure(figsize=(10,5))\n",
      "\t    plt.imshow(obj.image, cmap='gray', interpolation='none')\n",
      "\t    #plt.title(FM.fits_file_name)\n",
      "\t    plt.colorbar()\n",
      "\t    if(i<10):\n",
      "\t\tfig.savefig('_tmp_00%d.png'%i, dpi=45)\n",
      "\t    if(i>=10 and i<100):\n",
      "\t\tfig.savefig('_tmp_0%d.png'%i, dpi=45)\n",
      "\t    if(i>=100):\n",
      "\t\tfig.savefig('_tmp_%d.png'%i, dpi=45)\n",
      "\t    plt.close()\n",
      "\t    del obj\n",
      "\t    del FM\n",
      "            count+=1\n",
      "\n",
      "os.system('convert -delay 15 -loop 0 *.png animation.gif')"
     ],
     "language": "python",
     "metadata": {},
     "outputs": [
      {
       "output_type": "stream",
       "stream": "stdout",
       "text": [
        "MAKING IMAGE FIGURES FOR ANIMATION\n",
        "0 of 423 \t lsc1m009-fl03-20141110-0107-e90.fits\n",
        "1 of 423 \t lsc1m009-fl03-20141110-0108-e90.fits\n",
        "2 of 423 \t lsc1m009-fl03-20141110-0109-e90.fits"
       ]
      },
      {
       "output_type": "stream",
       "stream": "stdout",
       "text": [
        "\n",
        "3 of 423 \t lsc1m009-fl03-20141110-0110-e90.fits\n",
        "4 of 423 \t lsc1m009-fl03-20141110-0111-e90.fits"
       ]
      },
      {
       "output_type": "stream",
       "stream": "stdout",
       "text": [
        "\n",
        "5 of 423 \t lsc1m009-fl03-20141110-0112-e90.fits\n",
        "6 of 423 \t lsc1m009-fl03-20141110-0113-e90.fits"
       ]
      },
      {
       "output_type": "stream",
       "stream": "stdout",
       "text": [
        "\n",
        "7 of 423 \t lsc1m009-fl03-20141110-0114-e90.fits\n",
        "8 of 423 \t lsc1m009-fl03-20141110-0115-e90.fits"
       ]
      },
      {
       "output_type": "stream",
       "stream": "stdout",
       "text": [
        "\n",
        "9 of 423 \t lsc1m004-fl04-20141110-0111-e90.fits\n",
        "10 of 423 \t lsc1m004-fl04-20141110-0112-e90.fits"
       ]
      },
      {
       "output_type": "stream",
       "stream": "stdout",
       "text": [
        "\n",
        "11 of 423 \t lsc1m004-fl04-20141110-0113-e90.fits\n",
        "12 of 423 \t lsc1m004-fl04-20141110-0114-e90.fits"
       ]
      },
      {
       "output_type": "stream",
       "stream": "stdout",
       "text": [
        "\n",
        "13 of 423 \t lsc1m004-fl04-20141110-0115-e90.fits\n",
        "14 of 423 \t lsc1m004-fl04-20141110-0116-e90.fits"
       ]
      },
      {
       "output_type": "stream",
       "stream": "stdout",
       "text": [
        "\n",
        "15 of 423 \t lsc1m004-fl04-20141110-0117-e90.fits\n",
        "16 of 423 \t lsc1m004-fl04-20141110-0118-e90.fits"
       ]
      },
      {
       "output_type": "stream",
       "stream": "stdout",
       "text": [
        "\n",
        "17 of 423 \t lsc1m004-fl04-20141110-0119-e90.fits\n",
        "18 of 423 \t coj1m011-kb05-20141111-0110-e90.fits"
       ]
      },
      {
       "output_type": "stream",
       "stream": "stdout",
       "text": [
        "\n",
        "19 of 423 \t coj1m011-kb05-20141111-0111-e90.fits\n",
        "20 of 423 \t coj1m011-kb05-20141111-0112-e90.fits"
       ]
      },
      {
       "output_type": "stream",
       "stream": "stdout",
       "text": [
        "\n",
        "21 of 423 \t coj1m011-kb05-20141111-0113-e90.fits\n",
        "22 of 423 \t coj1m011-kb05-20141111-0114-e90.fits"
       ]
      },
      {
       "output_type": "stream",
       "stream": "stdout",
       "text": [
        "\n",
        "23 of 423 \t coj1m011-kb05-20141111-0115-e90.fits\n",
        "24 of 423 \t coj1m011-kb05-20141111-0116-e90.fits"
       ]
      },
      {
       "output_type": "stream",
       "stream": "stdout",
       "text": [
        "\n",
        "25 of 423 \t coj1m011-kb05-20141111-0117-e90.fits\n",
        "26 of 423 \t coj1m011-kb05-20141111-0118-e90.fits"
       ]
      },
      {
       "output_type": "stream",
       "stream": "stdout",
       "text": [
        "\n",
        "27 of 423 \t coj1m011-kb05-20141111-0119-e90.fits\n",
        "28 of 423 \t lsc1m009-fl03-20141201-0115-e90.fits"
       ]
      },
      {
       "output_type": "stream",
       "stream": "stdout",
       "text": [
        "\n",
        "29 of 423 \t lsc1m009-fl03-20141201-0116-e90.fits\n",
        "30 of 423 \t lsc1m009-fl03-20141201-0117-e90.fits"
       ]
      },
      {
       "output_type": "stream",
       "stream": "stdout",
       "text": [
        "\n",
        "31 of 423 \t lsc1m009-fl03-20141201-0118-e90.fits\n",
        "32 of 423 \t lsc1m004-fl04-20141201-0121-e90.fits"
       ]
      },
      {
       "output_type": "stream",
       "stream": "stdout",
       "text": [
        "\n",
        "33 of 423 \t lsc1m004-fl04-20141201-0122-e90.fits\n",
        "34 of 423 \t lsc1m004-fl04-20141201-0123-e90.fits"
       ]
      },
      {
       "output_type": "stream",
       "stream": "stdout",
       "text": [
        "\n",
        "35 of 423 \t lsc1m004-fl04-20141201-0124-e90.fits\n",
        "36 of 423 \t lsc1m004-fl04-20141216-0075-e90.fits"
       ]
      },
      {
       "output_type": "stream",
       "stream": "stdout",
       "text": [
        "\n",
        "37 of 423 \t lsc1m004-fl04-20141216-0076-e90.fits"
       ]
      },
      {
       "output_type": "stream",
       "stream": "stdout",
       "text": [
        "\n",
        "38 of 423 \t lsc1m004-fl04-20141216-0077-e90.fits"
       ]
      },
      {
       "output_type": "stream",
       "stream": "stdout",
       "text": [
        "\n",
        "39 of 423 \t lsc1m004-fl04-20141216-0078-e90.fits"
       ]
      },
      {
       "output_type": "stream",
       "stream": "stdout",
       "text": [
        "\n",
        "40 of 423 \t lsc1m004-fl04-20141216-0079-e90.fits"
       ]
      },
      {
       "output_type": "stream",
       "stream": "stdout",
       "text": [
        "\n",
        "41 of 423 \t lsc1m004-fl04-20141216-0080-e90.fits"
       ]
      },
      {
       "output_type": "stream",
       "stream": "stdout",
       "text": [
        "\n",
        "42 of 423 \t lsc1m004-fl04-20141216-0081-e90.fits"
       ]
      },
      {
       "output_type": "stream",
       "stream": "stdout",
       "text": [
        "\n",
        "43 of 423 \t lsc1m004-fl04-20141216-0082-e90.fits"
       ]
      },
      {
       "output_type": "stream",
       "stream": "stdout",
       "text": [
        "\n",
        "44 of 423 \t lsc1m004-fl04-20141216-0083-e90.fits"
       ]
      },
      {
       "output_type": "stream",
       "stream": "stdout",
       "text": [
        "\n",
        "45 of 423 \t lsc1m004-fl04-20141216-0084-e90.fits"
       ]
      },
      {
       "output_type": "stream",
       "stream": "stdout",
       "text": [
        "\n",
        "46 of 423 \t lsc1m004-fl04-20141216-0085-e90.fits"
       ]
      },
      {
       "output_type": "stream",
       "stream": "stdout",
       "text": [
        "\n",
        "47 of 423 \t lsc1m004-fl04-20141216-0086-e90.fits"
       ]
      },
      {
       "output_type": "stream",
       "stream": "stdout",
       "text": [
        "\n",
        "48 of 423 \t lsc1m004-fl04-20141216-0087-e90.fits"
       ]
      },
      {
       "output_type": "stream",
       "stream": "stdout",
       "text": [
        "\n",
        "49 of 423 \t lsc1m004-fl04-20141216-0088-e90.fits"
       ]
      },
      {
       "output_type": "stream",
       "stream": "stdout",
       "text": [
        "\n",
        "50 of 423 \t lsc1m004-fl04-20141216-0089-e90.fits"
       ]
      },
      {
       "output_type": "stream",
       "stream": "stdout",
       "text": [
        "\n",
        "51 of 423 \t lsc1m004-fl04-20141216-0090-e90.fits"
       ]
      },
      {
       "output_type": "stream",
       "stream": "stdout",
       "text": [
        "\n",
        "52 of 423 \t lsc1m004-fl04-20141216-0091-e90.fits"
       ]
      },
      {
       "output_type": "stream",
       "stream": "stdout",
       "text": [
        "\n",
        "53 of 423 \t lsc1m004-fl04-20141216-0092-e90.fits"
       ]
      },
      {
       "output_type": "stream",
       "stream": "stdout",
       "text": [
        "\n",
        "54 of 423 \t lsc1m004-fl04-20141216-0093-e90.fits"
       ]
      },
      {
       "output_type": "stream",
       "stream": "stdout",
       "text": [
        "\n",
        "55 of 423 \t lsc1m004-fl04-20141216-0094-e90.fits"
       ]
      },
      {
       "output_type": "stream",
       "stream": "stdout",
       "text": [
        "\n",
        "56 of 423 \t lsc1m004-fl04-20141216-0095-e90.fits"
       ]
      },
      {
       "output_type": "stream",
       "stream": "stdout",
       "text": [
        "\n",
        "57 of 423 \t lsc1m004-fl04-20141216-0096-e90.fits"
       ]
      },
      {
       "output_type": "stream",
       "stream": "stdout",
       "text": [
        "\n",
        "58 of 423 \t lsc1m004-fl04-20141216-0097-e90.fits"
       ]
      },
      {
       "output_type": "stream",
       "stream": "stdout",
       "text": [
        "\n",
        "59 of 423 \t lsc1m004-fl04-20141216-0098-e90.fits"
       ]
      },
      {
       "output_type": "stream",
       "stream": "stdout",
       "text": [
        "\n",
        "60 of 423 \t lsc1m004-fl04-20141216-0099-e90.fits"
       ]
      },
      {
       "output_type": "stream",
       "stream": "stdout",
       "text": [
        "\n",
        "61 of 423 \t lsc1m004-fl04-20141216-0100-e90.fits"
       ]
      },
      {
       "output_type": "stream",
       "stream": "stdout",
       "text": [
        "\n",
        "62 of 423 \t lsc1m004-fl04-20141216-0101-e90.fits"
       ]
      },
      {
       "output_type": "stream",
       "stream": "stdout",
       "text": [
        "\n",
        "63 of 423 \t lsc1m004-fl04-20141216-0102-e90.fits"
       ]
      },
      {
       "output_type": "stream",
       "stream": "stdout",
       "text": [
        "\n",
        "64 of 423 \t lsc1m004-fl04-20141216-0103-e90.fits"
       ]
      },
      {
       "output_type": "stream",
       "stream": "stdout",
       "text": [
        "\n",
        "65 of 423 \t lsc1m004-fl04-20141216-0104-e90.fits"
       ]
      },
      {
       "output_type": "stream",
       "stream": "stdout",
       "text": [
        "\n",
        "66 of 423 \t lsc1m004-fl04-20141216-0105-e90.fits"
       ]
      },
      {
       "output_type": "stream",
       "stream": "stdout",
       "text": [
        "\n",
        "67 of 423 \t lsc1m004-fl04-20141216-0106-e90.fits"
       ]
      },
      {
       "output_type": "stream",
       "stream": "stdout",
       "text": [
        "\n",
        "68 of 423 \t lsc1m004-fl04-20141216-0107-e90.fits"
       ]
      },
      {
       "output_type": "stream",
       "stream": "stdout",
       "text": [
        "\n",
        "69 of 423 \t lsc1m004-fl04-20141216-0108-e90.fits"
       ]
      },
      {
       "output_type": "stream",
       "stream": "stdout",
       "text": [
        "\n",
        "70 of 423 \t lsc1m004-fl04-20141216-0109-e90.fits"
       ]
      },
      {
       "output_type": "stream",
       "stream": "stdout",
       "text": [
        "\n",
        "71 of 423 \t lsc1m004-fl04-20141216-0110-e90.fits"
       ]
      },
      {
       "output_type": "stream",
       "stream": "stdout",
       "text": [
        "\n",
        "72 of 423 \t lsc1m004-fl04-20141216-0111-e90.fits"
       ]
      },
      {
       "output_type": "stream",
       "stream": "stdout",
       "text": [
        "\n",
        "73 of 423 \t lsc1m004-fl04-20141216-0112-e90.fits"
       ]
      },
      {
       "output_type": "stream",
       "stream": "stdout",
       "text": [
        "\n",
        "74 of 423 \t lsc1m004-fl04-20141216-0113-e90.fits"
       ]
      },
      {
       "output_type": "stream",
       "stream": "stdout",
       "text": [
        "\n",
        "75 of 423 \t lsc1m004-fl04-20141216-0114-e90.fits"
       ]
      },
      {
       "output_type": "stream",
       "stream": "stdout",
       "text": [
        "\n",
        "76 of 423 \t lsc1m004-fl04-20141216-0115-e90.fits"
       ]
      },
      {
       "output_type": "stream",
       "stream": "stdout",
       "text": [
        "\n",
        "77 of 423 \t lsc1m004-fl04-20141216-0116-e90.fits"
       ]
      },
      {
       "output_type": "stream",
       "stream": "stdout",
       "text": [
        "\n",
        "78 of 423 \t lsc1m004-fl04-20141216-0117-e90.fits"
       ]
      },
      {
       "output_type": "stream",
       "stream": "stdout",
       "text": [
        "\n",
        "79 of 423 \t lsc1m004-fl04-20141216-0118-e90.fits"
       ]
      },
      {
       "output_type": "stream",
       "stream": "stdout",
       "text": [
        "\n",
        "80 of 423 \t lsc1m004-fl04-20141216-0119-e90.fits"
       ]
      },
      {
       "output_type": "stream",
       "stream": "stdout",
       "text": [
        "\n",
        "81 of 423 \t lsc1m004-fl04-20141216-0120-e90.fits"
       ]
      },
      {
       "output_type": "stream",
       "stream": "stdout",
       "text": [
        "\n",
        "82 of 423 \t lsc1m004-fl04-20141216-0121-e90.fits"
       ]
      },
      {
       "output_type": "stream",
       "stream": "stdout",
       "text": [
        "\n",
        "83 of 423 \t lsc1m004-fl04-20141216-0122-e90.fits"
       ]
      },
      {
       "output_type": "stream",
       "stream": "stdout",
       "text": [
        "\n",
        "84 of 423 \t lsc1m004-fl04-20141216-0123-e90.fits"
       ]
      },
      {
       "output_type": "stream",
       "stream": "stdout",
       "text": [
        "\n",
        "85 of 423 \t lsc1m004-fl04-20141216-0124-e90.fits"
       ]
      },
      {
       "output_type": "stream",
       "stream": "stdout",
       "text": [
        "\n",
        "86 of 423 \t lsc1m004-fl04-20141216-0125-e90.fits"
       ]
      },
      {
       "output_type": "stream",
       "stream": "stdout",
       "text": [
        "\n",
        "87 of 423 \t lsc1m004-fl04-20141216-0126-e90.fits"
       ]
      },
      {
       "output_type": "stream",
       "stream": "stdout",
       "text": [
        "\n",
        "88 of 423 \t lsc1m004-fl04-20141216-0127-e90.fits"
       ]
      },
      {
       "output_type": "stream",
       "stream": "stdout",
       "text": [
        "\n",
        "89 of 423 \t lsc1m004-fl04-20141216-0128-e90.fits"
       ]
      },
      {
       "output_type": "stream",
       "stream": "stdout",
       "text": [
        "\n",
        "90 of 423 \t lsc1m004-fl04-20141216-0129-e90.fits"
       ]
      },
      {
       "output_type": "stream",
       "stream": "stdout",
       "text": [
        "\n",
        "91 of 423 \t lsc1m004-fl04-20141216-0130-e90.fits"
       ]
      },
      {
       "output_type": "stream",
       "stream": "stdout",
       "text": [
        "\n",
        "92 of 423 \t lsc1m004-fl04-20141216-0131-e90.fits"
       ]
      },
      {
       "output_type": "stream",
       "stream": "stdout",
       "text": [
        "\n",
        "93 of 423 \t lsc1m004-fl04-20141216-0132-e90.fits"
       ]
      },
      {
       "output_type": "stream",
       "stream": "stdout",
       "text": [
        "\n",
        "94 of 423 \t lsc1m004-fl04-20141216-0133-e90.fits"
       ]
      },
      {
       "output_type": "stream",
       "stream": "stdout",
       "text": [
        "\n",
        "95 of 423 \t lsc1m004-fl04-20141216-0134-e90.fits"
       ]
      },
      {
       "output_type": "stream",
       "stream": "stdout",
       "text": [
        "\n",
        "96 of 423 \t lsc1m004-fl04-20141216-0135-e90.fits"
       ]
      },
      {
       "output_type": "stream",
       "stream": "stdout",
       "text": [
        "\n",
        "97 of 423 \t lsc1m004-fl04-20141216-0136-e90.fits"
       ]
      },
      {
       "output_type": "stream",
       "stream": "stdout",
       "text": [
        "\n",
        "98 of 423 \t lsc1m004-fl04-20141216-0137-e90.fits"
       ]
      },
      {
       "output_type": "stream",
       "stream": "stdout",
       "text": [
        "\n",
        "99 of 423 \t lsc1m004-fl04-20141216-0138-e90.fits"
       ]
      },
      {
       "output_type": "stream",
       "stream": "stdout",
       "text": [
        "\n",
        "100 of 423 \t lsc1m004-fl04-20141216-0139-e90.fits"
       ]
      },
      {
       "output_type": "stream",
       "stream": "stdout",
       "text": [
        "\n",
        "101 of 423 \t lsc1m004-fl04-20141216-0140-e90.fits"
       ]
      },
      {
       "output_type": "stream",
       "stream": "stdout",
       "text": [
        "\n",
        "102 of 423 \t lsc1m004-fl04-20141216-0141-e90.fits"
       ]
      },
      {
       "output_type": "stream",
       "stream": "stdout",
       "text": [
        "\n",
        "103 of 423 \t lsc1m004-fl04-20141216-0142-e90.fits"
       ]
      },
      {
       "output_type": "stream",
       "stream": "stdout",
       "text": [
        "\n",
        "104 of 423 \t lsc1m004-fl04-20141216-0143-e90.fits"
       ]
      },
      {
       "output_type": "stream",
       "stream": "stdout",
       "text": [
        "\n",
        "105 of 423 \t lsc1m004-fl04-20141216-0144-e90.fits"
       ]
      },
      {
       "output_type": "stream",
       "stream": "stdout",
       "text": [
        "\n",
        "106 of 423 \t lsc1m004-fl04-20141216-0145-e90.fits"
       ]
      },
      {
       "output_type": "stream",
       "stream": "stdout",
       "text": [
        "\n",
        "107 of 423 \t lsc1m004-fl04-20141216-0146-e90.fits"
       ]
      },
      {
       "output_type": "stream",
       "stream": "stdout",
       "text": [
        "\n",
        "108 of 423 \t cpt1m010-kb70-20141217-0081-e90.fits"
       ]
      },
      {
       "output_type": "stream",
       "stream": "stdout",
       "text": [
        "\n",
        "109 of 423 \t cpt1m010-kb70-20141217-0082-e90.fits"
       ]
      },
      {
       "output_type": "stream",
       "stream": "stdout",
       "text": [
        "\n",
        "110 of 423 \t cpt1m010-kb70-20141217-0083-e90.fits"
       ]
      },
      {
       "output_type": "stream",
       "stream": "stdout",
       "text": [
        "\n",
        "111 of 423 \t cpt1m010-kb70-20141217-0084-e90.fits"
       ]
      },
      {
       "output_type": "stream",
       "stream": "stdout",
       "text": [
        "\n",
        "112 of 423 \t cpt1m010-kb70-20141217-0085-e90.fits"
       ]
      },
      {
       "output_type": "stream",
       "stream": "stdout",
       "text": [
        "\n",
        "113 of 423 \t cpt1m010-kb70-20141217-0086-e90.fits"
       ]
      },
      {
       "output_type": "stream",
       "stream": "stdout",
       "text": [
        "\n",
        "114 of 423 \t cpt1m010-kb70-20141217-0087-e90.fits"
       ]
      },
      {
       "output_type": "stream",
       "stream": "stdout",
       "text": [
        "\n",
        "115 of 423 \t cpt1m010-kb70-20141217-0088-e90.fits"
       ]
      },
      {
       "output_type": "stream",
       "stream": "stdout",
       "text": [
        "\n",
        "116 of 423 \t cpt1m010-kb70-20141217-0089-e90.fits"
       ]
      },
      {
       "output_type": "stream",
       "stream": "stdout",
       "text": [
        "\n",
        "117 of 423 \t cpt1m010-kb70-20141217-0090-e90.fits"
       ]
      },
      {
       "output_type": "stream",
       "stream": "stdout",
       "text": [
        "\n",
        "118 of 423 \t cpt1m010-kb70-20141217-0091-e90.fits"
       ]
      },
      {
       "output_type": "stream",
       "stream": "stdout",
       "text": [
        "\n",
        "119 of 423 \t cpt1m010-kb70-20141217-0092-e90.fits"
       ]
      },
      {
       "output_type": "stream",
       "stream": "stdout",
       "text": [
        "\n",
        "120 of 423 \t cpt1m010-kb70-20141217-0093-e90.fits"
       ]
      },
      {
       "output_type": "stream",
       "stream": "stdout",
       "text": [
        "\n",
        "121 of 423 \t cpt1m010-kb70-20141217-0094-e90.fits"
       ]
      },
      {
       "output_type": "stream",
       "stream": "stdout",
       "text": [
        "\n",
        "122 of 423 \t cpt1m010-kb70-20141217-0095-e90.fits"
       ]
      },
      {
       "output_type": "stream",
       "stream": "stdout",
       "text": [
        "\n",
        "123 of 423 \t cpt1m010-kb70-20141217-0096-e90.fits"
       ]
      },
      {
       "output_type": "stream",
       "stream": "stdout",
       "text": [
        "\n",
        "124 of 423 \t cpt1m010-kb70-20141217-0097-e90.fits"
       ]
      },
      {
       "output_type": "stream",
       "stream": "stdout",
       "text": [
        "\n",
        "125 of 423 \t cpt1m010-kb70-20141217-0098-e90.fits"
       ]
      },
      {
       "output_type": "stream",
       "stream": "stdout",
       "text": [
        "\n",
        "126 of 423 \t cpt1m010-kb70-20141217-0099-e90.fits"
       ]
      },
      {
       "output_type": "stream",
       "stream": "stdout",
       "text": [
        "\n",
        "127 of 423 \t cpt1m010-kb70-20141217-0100-e90.fits"
       ]
      },
      {
       "output_type": "stream",
       "stream": "stdout",
       "text": [
        "\n",
        "128 of 423 \t cpt1m010-kb70-20141217-0101-e90.fits"
       ]
      },
      {
       "output_type": "stream",
       "stream": "stdout",
       "text": [
        "\n",
        "129 of 423 \t cpt1m010-kb70-20141217-0102-e90.fits"
       ]
      },
      {
       "output_type": "stream",
       "stream": "stdout",
       "text": [
        "\n",
        "130 of 423 \t cpt1m010-kb70-20141217-0103-e90.fits"
       ]
      },
      {
       "output_type": "stream",
       "stream": "stdout",
       "text": [
        "\n",
        "131 of 423 \t cpt1m010-kb70-20141217-0104-e90.fits"
       ]
      },
      {
       "output_type": "stream",
       "stream": "stdout",
       "text": [
        "\n",
        "132 of 423 \t cpt1m010-kb70-20141217-0105-e90.fits"
       ]
      },
      {
       "output_type": "stream",
       "stream": "stdout",
       "text": [
        "\n",
        "133 of 423 \t cpt1m010-kb70-20141217-0106-e90.fits"
       ]
      },
      {
       "output_type": "stream",
       "stream": "stdout",
       "text": [
        "\n",
        "134 of 423 \t cpt1m010-kb70-20141217-0107-e90.fits"
       ]
      },
      {
       "output_type": "stream",
       "stream": "stdout",
       "text": [
        "\n",
        "135 of 423 \t cpt1m010-kb70-20141217-0108-e90.fits"
       ]
      },
      {
       "output_type": "stream",
       "stream": "stdout",
       "text": [
        "\n",
        "136 of 423 \t cpt1m010-kb70-20141217-0109-e90.fits"
       ]
      },
      {
       "output_type": "stream",
       "stream": "stdout",
       "text": [
        "\n",
        "137 of 423 \t cpt1m010-kb70-20141217-0110-e90.fits"
       ]
      },
      {
       "output_type": "stream",
       "stream": "stdout",
       "text": [
        "\n",
        "138 of 423 \t cpt1m010-kb70-20141217-0111-e90.fits"
       ]
      },
      {
       "output_type": "stream",
       "stream": "stdout",
       "text": [
        "\n",
        "139 of 423 \t cpt1m010-kb70-20141217-0112-e90.fits"
       ]
      },
      {
       "output_type": "stream",
       "stream": "stdout",
       "text": [
        "\n",
        "140 of 423 \t cpt1m010-kb70-20141217-0113-e90.fits"
       ]
      },
      {
       "output_type": "stream",
       "stream": "stdout",
       "text": [
        "\n",
        "141 of 423 \t cpt1m010-kb70-20141217-0114-e90.fits"
       ]
      },
      {
       "output_type": "stream",
       "stream": "stdout",
       "text": [
        "\n",
        "142 of 423 \t cpt1m010-kb70-20141217-0115-e90.fits"
       ]
      },
      {
       "output_type": "stream",
       "stream": "stdout",
       "text": [
        "\n",
        "143 of 423 \t cpt1m010-kb70-20141217-0116-e90.fits"
       ]
      },
      {
       "output_type": "stream",
       "stream": "stdout",
       "text": [
        "\n",
        "144 of 423 \t cpt1m010-kb70-20141217-0117-e90.fits"
       ]
      },
      {
       "output_type": "stream",
       "stream": "stdout",
       "text": [
        "\n",
        "145 of 423 \t cpt1m010-kb70-20141217-0118-e90.fits"
       ]
      },
      {
       "output_type": "stream",
       "stream": "stdout",
       "text": [
        "\n",
        "146 of 423 \t cpt1m010-kb70-20141217-0119-e90.fits"
       ]
      },
      {
       "output_type": "stream",
       "stream": "stdout",
       "text": [
        "\n",
        "147 of 423 \t cpt1m010-kb70-20141217-0120-e90.fits"
       ]
      },
      {
       "output_type": "stream",
       "stream": "stdout",
       "text": [
        "\n",
        "148 of 423 \t cpt1m010-kb70-20141217-0121-e90.fits"
       ]
      },
      {
       "output_type": "stream",
       "stream": "stdout",
       "text": [
        "\n",
        "149 of 423 \t cpt1m010-kb70-20141217-0122-e90.fits"
       ]
      },
      {
       "output_type": "stream",
       "stream": "stdout",
       "text": [
        "\n",
        "150 of 423 \t cpt1m010-kb70-20141217-0123-e90.fits"
       ]
      },
      {
       "output_type": "stream",
       "stream": "stdout",
       "text": [
        "\n",
        "151 of 423 \t cpt1m010-kb70-20141217-0124-e90.fits"
       ]
      },
      {
       "output_type": "stream",
       "stream": "stdout",
       "text": [
        "\n",
        "152 of 423 \t cpt1m010-kb70-20141217-0125-e90.fits"
       ]
      },
      {
       "output_type": "stream",
       "stream": "stdout",
       "text": [
        "\n",
        "153 of 423 \t cpt1m010-kb70-20141217-0126-e90.fits"
       ]
      },
      {
       "output_type": "stream",
       "stream": "stdout",
       "text": [
        "\n",
        "154 of 423 \t cpt1m010-kb70-20141217-0127-e90.fits"
       ]
      },
      {
       "output_type": "stream",
       "stream": "stdout",
       "text": [
        "\n",
        "155 of 423 \t cpt1m010-kb70-20141217-0128-e90.fits"
       ]
      },
      {
       "output_type": "stream",
       "stream": "stdout",
       "text": [
        "\n",
        "156 of 423 \t cpt1m010-kb70-20141217-0129-e90.fits"
       ]
      },
      {
       "output_type": "stream",
       "stream": "stdout",
       "text": [
        "\n",
        "157 of 423 \t cpt1m010-kb70-20141217-0130-e90.fits"
       ]
      },
      {
       "output_type": "stream",
       "stream": "stdout",
       "text": [
        "\n",
        "158 of 423 \t cpt1m010-kb70-20141217-0131-e90.fits"
       ]
      },
      {
       "output_type": "stream",
       "stream": "stdout",
       "text": [
        "\n",
        "159 of 423 \t cpt1m010-kb70-20141217-0132-e90.fits"
       ]
      },
      {
       "output_type": "stream",
       "stream": "stdout",
       "text": [
        "\n",
        "160 of 423 \t cpt1m010-kb70-20141217-0133-e90.fits"
       ]
      },
      {
       "output_type": "stream",
       "stream": "stdout",
       "text": [
        "\n",
        "161 of 423 \t cpt1m010-kb70-20141217-0134-e90.fits"
       ]
      },
      {
       "output_type": "stream",
       "stream": "stdout",
       "text": [
        "\n",
        "162 of 423 \t cpt1m010-kb70-20141217-0135-e90.fits"
       ]
      },
      {
       "output_type": "stream",
       "stream": "stdout",
       "text": [
        "\n",
        "163 of 423 \t cpt1m010-kb70-20141217-0136-e90.fits"
       ]
      },
      {
       "output_type": "stream",
       "stream": "stdout",
       "text": [
        "\n",
        "164 of 423 \t cpt1m010-kb70-20141217-0137-e90.fits"
       ]
      },
      {
       "output_type": "stream",
       "stream": "stdout",
       "text": [
        "\n",
        "165 of 423 \t cpt1m010-kb70-20141217-0138-e90.fits"
       ]
      },
      {
       "output_type": "stream",
       "stream": "stdout",
       "text": [
        "\n",
        "166 of 423 \t cpt1m010-kb70-20141217-0139-e90.fits"
       ]
      },
      {
       "output_type": "stream",
       "stream": "stdout",
       "text": [
        "\n",
        "167 of 423 \t cpt1m010-kb70-20141217-0140-e90.fits"
       ]
      },
      {
       "output_type": "stream",
       "stream": "stdout",
       "text": [
        "\n",
        "168 of 423 \t cpt1m010-kb70-20141217-0141-e90.fits"
       ]
      },
      {
       "output_type": "stream",
       "stream": "stdout",
       "text": [
        "\n",
        "169 of 423 \t cpt1m010-kb70-20141217-0142-e90.fits"
       ]
      },
      {
       "output_type": "stream",
       "stream": "stdout",
       "text": [
        "\n",
        "170 of 423 \t cpt1m010-kb70-20141217-0143-e90.fits"
       ]
      },
      {
       "output_type": "stream",
       "stream": "stdout",
       "text": [
        "\n",
        "171 of 423 \t cpt1m010-kb70-20141217-0144-e90.fits"
       ]
      },
      {
       "output_type": "stream",
       "stream": "stdout",
       "text": [
        "\n",
        "172 of 423 \t cpt1m010-kb70-20141217-0145-e90.fits"
       ]
      },
      {
       "output_type": "stream",
       "stream": "stdout",
       "text": [
        "\n",
        "173 of 423 \t cpt1m010-kb70-20141217-0146-e90.fits"
       ]
      },
      {
       "output_type": "stream",
       "stream": "stdout",
       "text": [
        "\n",
        "174 of 423 \t cpt1m010-kb70-20141217-0147-e90.fits"
       ]
      },
      {
       "output_type": "stream",
       "stream": "stdout",
       "text": [
        "\n",
        "175 of 423 \t lsc1m009-fl03-20141217-0010-e90.fits"
       ]
      },
      {
       "output_type": "stream",
       "stream": "stdout",
       "text": [
        "\n",
        "176 of 423 \t cpt1m010-kb70-20141217-0148-e90.fits"
       ]
      },
      {
       "output_type": "stream",
       "stream": "stdout",
       "text": [
        "\n",
        "177 of 423 \t cpt1m010-kb70-20141217-0149-e90.fits"
       ]
      },
      {
       "output_type": "stream",
       "stream": "stdout",
       "text": [
        "\n",
        "178 of 423 \t lsc1m009-fl03-20141217-0011-e90.fits"
       ]
      },
      {
       "output_type": "stream",
       "stream": "stdout",
       "text": [
        "\n",
        "179 of 423 \t cpt1m010-kb70-20141217-0150-e90.fits"
       ]
      },
      {
       "output_type": "stream",
       "stream": "stdout",
       "text": [
        "\n",
        "180 of 423 \t lsc1m009-fl03-20141217-0012-e90.fits"
       ]
      },
      {
       "output_type": "stream",
       "stream": "stdout",
       "text": [
        "\n",
        "181 of 423 \t cpt1m010-kb70-20141217-0151-e90.fits"
       ]
      },
      {
       "output_type": "stream",
       "stream": "stdout",
       "text": [
        "\n",
        "182 of 423 \t lsc1m009-fl03-20141217-0013-e90.fits"
       ]
      },
      {
       "output_type": "stream",
       "stream": "stdout",
       "text": [
        "\n",
        "183 of 423 \t cpt1m010-kb70-20141217-0152-e90.fits"
       ]
      },
      {
       "output_type": "stream",
       "stream": "stdout",
       "text": [
        "\n",
        "184 of 423 \t lsc1m009-fl03-20141217-0014-e90.fits"
       ]
      },
      {
       "output_type": "stream",
       "stream": "stdout",
       "text": [
        "\n",
        "185 of 423 \t cpt1m010-kb70-20141217-0153-e90.fits"
       ]
      },
      {
       "output_type": "stream",
       "stream": "stdout",
       "text": [
        "\n",
        "186 of 423 \t lsc1m009-fl03-20141217-0015-e90.fits"
       ]
      },
      {
       "output_type": "stream",
       "stream": "stdout",
       "text": [
        "\n",
        "187 of 423 \t cpt1m010-kb70-20141217-0154-e90.fits"
       ]
      },
      {
       "output_type": "stream",
       "stream": "stdout",
       "text": [
        "\n",
        "188 of 423 \t lsc1m009-fl03-20141217-0016-e90.fits"
       ]
      },
      {
       "output_type": "stream",
       "stream": "stdout",
       "text": [
        "\n",
        "189 of 423 \t cpt1m010-kb70-20141217-0155-e90.fits"
       ]
      },
      {
       "output_type": "stream",
       "stream": "stdout",
       "text": [
        "\n",
        "190 of 423 \t lsc1m009-fl03-20141217-0017-e90.fits"
       ]
      },
      {
       "output_type": "stream",
       "stream": "stdout",
       "text": [
        "\n",
        "191 of 423 \t cpt1m010-kb70-20141217-0156-e90.fits"
       ]
      },
      {
       "output_type": "stream",
       "stream": "stdout",
       "text": [
        "\n",
        "192 of 423 \t lsc1m009-fl03-20141217-0018-e90.fits"
       ]
      },
      {
       "output_type": "stream",
       "stream": "stdout",
       "text": [
        "\n",
        "193 of 423 \t cpt1m010-kb70-20141217-0157-e90.fits"
       ]
      },
      {
       "output_type": "stream",
       "stream": "stdout",
       "text": [
        "\n",
        "194 of 423 \t lsc1m009-fl03-20141217-0019-e90.fits"
       ]
      },
      {
       "output_type": "stream",
       "stream": "stdout",
       "text": [
        "\n",
        "195 of 423 \t cpt1m010-kb70-20141217-0158-e90.fits"
       ]
      },
      {
       "output_type": "stream",
       "stream": "stdout",
       "text": [
        "\n",
        "196 of 423 \t lsc1m009-fl03-20141217-0020-e90.fits"
       ]
      },
      {
       "output_type": "stream",
       "stream": "stdout",
       "text": [
        "\n",
        "197 of 423 \t cpt1m010-kb70-20141217-0159-e90.fits"
       ]
      },
      {
       "output_type": "stream",
       "stream": "stdout",
       "text": [
        "\n",
        "198 of 423 \t lsc1m009-fl03-20141217-0021-e90.fits"
       ]
      },
      {
       "output_type": "stream",
       "stream": "stdout",
       "text": [
        "\n",
        "199 of 423 \t cpt1m010-kb70-20141217-0160-e90.fits"
       ]
      },
      {
       "output_type": "stream",
       "stream": "stdout",
       "text": [
        "\n",
        "200 of 423 \t cpt1m010-kb70-20141217-0161-e90.fits"
       ]
      },
      {
       "output_type": "stream",
       "stream": "stdout",
       "text": [
        "\n",
        "201 of 423 \t lsc1m009-fl03-20141217-0022-e90.fits"
       ]
      },
      {
       "output_type": "stream",
       "stream": "stdout",
       "text": [
        "\n",
        "202 of 423 \t cpt1m010-kb70-20141217-0162-e90.fits"
       ]
      },
      {
       "output_type": "stream",
       "stream": "stdout",
       "text": [
        "\n",
        "203 of 423 \t lsc1m009-fl03-20141217-0023-e90.fits"
       ]
      },
      {
       "output_type": "stream",
       "stream": "stdout",
       "text": [
        "\n",
        "204 of 423 \t lsc1m009-fl03-20141217-0024-e90.fits"
       ]
      },
      {
       "output_type": "stream",
       "stream": "stdout",
       "text": [
        "\n",
        "205 of 423 \t lsc1m009-fl03-20141217-0025-e90.fits"
       ]
      },
      {
       "output_type": "stream",
       "stream": "stdout",
       "text": [
        "\n",
        "206 of 423 \t lsc1m009-fl03-20141217-0026-e90.fits"
       ]
      },
      {
       "output_type": "stream",
       "stream": "stdout",
       "text": [
        "\n",
        "207 of 423 \t lsc1m009-fl03-20141217-0027-e90.fits"
       ]
      },
      {
       "output_type": "stream",
       "stream": "stdout",
       "text": [
        "\n",
        "208 of 423 \t lsc1m009-fl03-20141217-0028-e90.fits"
       ]
      },
      {
       "output_type": "stream",
       "stream": "stdout",
       "text": [
        "\n",
        "209 of 423 \t lsc1m009-fl03-20141217-0029-e90.fits"
       ]
      },
      {
       "output_type": "stream",
       "stream": "stdout",
       "text": [
        "\n",
        "210 of 423 \t lsc1m009-fl03-20141217-0030-e90.fits"
       ]
      },
      {
       "output_type": "stream",
       "stream": "stdout",
       "text": [
        "\n",
        "211 of 423 \t lsc1m009-fl03-20141217-0031-e90.fits"
       ]
      },
      {
       "output_type": "stream",
       "stream": "stdout",
       "text": [
        "\n",
        "212 of 423 \t lsc1m009-fl03-20141217-0032-e90.fits"
       ]
      },
      {
       "output_type": "stream",
       "stream": "stdout",
       "text": [
        "\n",
        "213 of 423 \t lsc1m009-fl03-20141217-0033-e90.fits"
       ]
      },
      {
       "output_type": "stream",
       "stream": "stdout",
       "text": [
        "\n",
        "214 of 423 \t lsc1m009-fl03-20141217-0034-e90.fits"
       ]
      },
      {
       "output_type": "stream",
       "stream": "stdout",
       "text": [
        "\n",
        "215 of 423 \t lsc1m009-fl03-20141217-0035-e90.fits"
       ]
      },
      {
       "output_type": "stream",
       "stream": "stdout",
       "text": [
        "\n",
        "216 of 423 \t lsc1m009-fl03-20141217-0036-e90.fits"
       ]
      },
      {
       "output_type": "stream",
       "stream": "stdout",
       "text": [
        "\n",
        "217 of 423 \t lsc1m009-fl03-20141217-0037-e90.fits"
       ]
      },
      {
       "output_type": "stream",
       "stream": "stdout",
       "text": [
        "\n",
        "218 of 423 \t lsc1m009-fl03-20141217-0038-e90.fits"
       ]
      },
      {
       "output_type": "stream",
       "stream": "stdout",
       "text": [
        "\n",
        "219 of 423 \t lsc1m009-fl03-20141217-0039-e90.fits"
       ]
      },
      {
       "output_type": "stream",
       "stream": "stdout",
       "text": [
        "\n",
        "220 of 423 \t lsc1m009-fl03-20141217-0040-e90.fits"
       ]
      },
      {
       "output_type": "stream",
       "stream": "stdout",
       "text": [
        "\n",
        "221 of 423 \t lsc1m009-fl03-20141217-0041-e90.fits"
       ]
      },
      {
       "output_type": "stream",
       "stream": "stdout",
       "text": [
        "\n",
        "222 of 423 \t lsc1m009-fl03-20141217-0042-e90.fits"
       ]
      },
      {
       "output_type": "stream",
       "stream": "stdout",
       "text": [
        "\n",
        "223 of 423 \t lsc1m009-fl03-20141217-0043-e90.fits"
       ]
      },
      {
       "output_type": "stream",
       "stream": "stdout",
       "text": [
        "\n",
        "224 of 423 \t lsc1m009-fl03-20141217-0044-e90.fits"
       ]
      },
      {
       "output_type": "stream",
       "stream": "stdout",
       "text": [
        "\n",
        "225 of 423 \t lsc1m009-fl03-20141217-0045-e90.fits"
       ]
      },
      {
       "output_type": "stream",
       "stream": "stdout",
       "text": [
        "\n",
        "226 of 423 \t lsc1m009-fl03-20141217-0046-e90.fits"
       ]
      },
      {
       "output_type": "stream",
       "stream": "stdout",
       "text": [
        "\n",
        "227 of 423 \t lsc1m009-fl03-20141217-0047-e90.fits"
       ]
      },
      {
       "output_type": "stream",
       "stream": "stdout",
       "text": [
        "\n",
        "228 of 423 \t lsc1m009-fl03-20141217-0048-e90.fits"
       ]
      },
      {
       "output_type": "stream",
       "stream": "stdout",
       "text": [
        "\n",
        "229 of 423 \t lsc1m009-fl03-20141217-0049-e90.fits"
       ]
      },
      {
       "output_type": "stream",
       "stream": "stdout",
       "text": [
        "\n",
        "230 of 423 \t lsc1m009-fl03-20141217-0050-e90.fits"
       ]
      },
      {
       "output_type": "stream",
       "stream": "stdout",
       "text": [
        "\n",
        "231 of 423 \t lsc1m009-fl03-20141217-0051-e90.fits"
       ]
      },
      {
       "output_type": "stream",
       "stream": "stdout",
       "text": [
        "\n",
        "232 of 423 \t lsc1m009-fl03-20141217-0052-e90.fits"
       ]
      },
      {
       "output_type": "stream",
       "stream": "stdout",
       "text": [
        "\n",
        "233 of 423 \t lsc1m009-fl03-20141217-0053-e90.fits"
       ]
      },
      {
       "output_type": "stream",
       "stream": "stdout",
       "text": [
        "\n",
        "234 of 423 \t lsc1m009-fl03-20141217-0054-e90.fits"
       ]
      },
      {
       "output_type": "stream",
       "stream": "stdout",
       "text": [
        "\n",
        "235 of 423 \t lsc1m009-fl03-20141217-0055-e90.fits"
       ]
      },
      {
       "output_type": "stream",
       "stream": "stdout",
       "text": [
        "\n",
        "236 of 423 \t lsc1m009-fl03-20141217-0056-e90.fits"
       ]
      },
      {
       "output_type": "stream",
       "stream": "stdout",
       "text": [
        "\n",
        "237 of 423 \t lsc1m009-fl03-20141217-0057-e90.fits"
       ]
      },
      {
       "output_type": "stream",
       "stream": "stdout",
       "text": [
        "\n",
        "238 of 423 \t lsc1m009-fl03-20141217-0058-e90.fits"
       ]
      },
      {
       "output_type": "stream",
       "stream": "stdout",
       "text": [
        "\n",
        "239 of 423 \t lsc1m009-fl03-20141217-0059-e90.fits"
       ]
      },
      {
       "output_type": "stream",
       "stream": "stdout",
       "text": [
        "\n",
        "240 of 423 \t lsc1m009-fl03-20141217-0060-e90.fits"
       ]
      },
      {
       "output_type": "stream",
       "stream": "stdout",
       "text": [
        "\n",
        "241 of 423 \t lsc1m009-fl03-20141217-0061-e90.fits"
       ]
      },
      {
       "output_type": "stream",
       "stream": "stdout",
       "text": [
        "\n",
        "242 of 423 \t lsc1m009-fl03-20141217-0062-e90.fits"
       ]
      },
      {
       "output_type": "stream",
       "stream": "stdout",
       "text": [
        "\n",
        "243 of 423 \t lsc1m009-fl03-20141217-0063-e90.fits"
       ]
      },
      {
       "output_type": "stream",
       "stream": "stdout",
       "text": [
        "\n",
        "244 of 423 \t lsc1m009-fl03-20141217-0064-e90.fits"
       ]
      },
      {
       "output_type": "stream",
       "stream": "stdout",
       "text": [
        "\n",
        "245 of 423 \t lsc1m009-fl03-20141217-0065-e90.fits"
       ]
      },
      {
       "output_type": "stream",
       "stream": "stdout",
       "text": [
        "\n",
        "246 of 423 \t lsc1m009-fl03-20141217-0066-e90.fits"
       ]
      },
      {
       "output_type": "stream",
       "stream": "stdout",
       "text": [
        "\n",
        "247 of 423 \t lsc1m009-fl03-20141217-0067-e90.fits"
       ]
      },
      {
       "output_type": "stream",
       "stream": "stdout",
       "text": [
        "\n",
        "248 of 423 \t lsc1m009-fl03-20141217-0068-e90.fits"
       ]
      },
      {
       "output_type": "stream",
       "stream": "stdout",
       "text": [
        "\n",
        "249 of 423 \t lsc1m009-fl03-20141217-0069-e90.fits"
       ]
      },
      {
       "output_type": "stream",
       "stream": "stdout",
       "text": [
        "\n",
        "250 of 423 \t lsc1m009-fl03-20141217-0070-e90.fits"
       ]
      },
      {
       "output_type": "stream",
       "stream": "stdout",
       "text": [
        "\n",
        "251 of 423 \t lsc1m009-fl03-20141217-0071-e90.fits"
       ]
      },
      {
       "output_type": "stream",
       "stream": "stdout",
       "text": [
        "\n",
        "252 of 423 \t lsc1m009-fl03-20141217-0072-e90.fits"
       ]
      },
      {
       "output_type": "stream",
       "stream": "stdout",
       "text": [
        "\n",
        "253 of 423 \t lsc1m009-fl03-20141217-0073-e90.fits"
       ]
      },
      {
       "output_type": "stream",
       "stream": "stdout",
       "text": [
        "\n",
        "254 of 423 \t lsc1m009-fl03-20141217-0074-e90.fits"
       ]
      },
      {
       "output_type": "stream",
       "stream": "stdout",
       "text": [
        "\n",
        "255 of 423 \t lsc1m009-fl03-20141217-0075-e90.fits"
       ]
      },
      {
       "output_type": "stream",
       "stream": "stdout",
       "text": [
        "\n",
        "256 of 423 \t lsc1m009-fl03-20141217-0076-e90.fits"
       ]
      },
      {
       "output_type": "stream",
       "stream": "stdout",
       "text": [
        "\n",
        "257 of 423 \t lsc1m009-fl03-20141217-0077-e90.fits"
       ]
      },
      {
       "output_type": "stream",
       "stream": "stdout",
       "text": [
        "\n",
        "258 of 423 \t lsc1m009-fl03-20141217-0078-e90.fits"
       ]
      },
      {
       "output_type": "stream",
       "stream": "stdout",
       "text": [
        "\n",
        "259 of 423 \t lsc1m009-fl03-20141217-0079-e90.fits"
       ]
      },
      {
       "output_type": "stream",
       "stream": "stdout",
       "text": [
        "\n",
        "260 of 423 \t lsc1m009-fl03-20141217-0080-e90.fits"
       ]
      },
      {
       "output_type": "stream",
       "stream": "stdout",
       "text": [
        "\n",
        "261 of 423 \t coj1m003-kb71-20141218-0083-e90.fits"
       ]
      },
      {
       "output_type": "stream",
       "stream": "stdout",
       "text": [
        "\n",
        "262 of 423 \t coj1m003-kb71-20141218-0084-e90.fits"
       ]
      },
      {
       "output_type": "stream",
       "stream": "stdout",
       "text": [
        "\n",
        "263 of 423 \t coj1m003-kb71-20141218-0085-e90.fits"
       ]
      },
      {
       "output_type": "stream",
       "stream": "stdout",
       "text": [
        "\n",
        "264 of 423 \t coj1m003-kb71-20141218-0086-e90.fits"
       ]
      },
      {
       "output_type": "stream",
       "stream": "stdout",
       "text": [
        "\n",
        "265 of 423 \t coj1m003-kb71-20141218-0087-e90.fits"
       ]
      },
      {
       "output_type": "stream",
       "stream": "stdout",
       "text": [
        "\n",
        "266 of 423 \t coj1m003-kb71-20141218-0088-e90.fits"
       ]
      },
      {
       "output_type": "stream",
       "stream": "stdout",
       "text": [
        "\n",
        "267 of 423 \t coj1m003-kb71-20141218-0089-e90.fits"
       ]
      },
      {
       "output_type": "stream",
       "stream": "stdout",
       "text": [
        "\n",
        "268 of 423 \t coj1m003-kb71-20141218-0090-e90.fits"
       ]
      },
      {
       "output_type": "stream",
       "stream": "stdout",
       "text": [
        "\n",
        "269 of 423 \t coj1m003-kb71-20141218-0091-e90.fits"
       ]
      },
      {
       "output_type": "stream",
       "stream": "stdout",
       "text": [
        "\n",
        "270 of 423 \t coj1m003-kb71-20141218-0092-e90.fits"
       ]
      },
      {
       "output_type": "stream",
       "stream": "stdout",
       "text": [
        "\n",
        "271 of 423 \t coj1m003-kb71-20141218-0093-e90.fits"
       ]
      },
      {
       "output_type": "stream",
       "stream": "stdout",
       "text": [
        "\n",
        "272 of 423 \t coj1m003-kb71-20141218-0094-e90.fits"
       ]
      },
      {
       "output_type": "stream",
       "stream": "stdout",
       "text": [
        "\n",
        "273 of 423 \t coj1m003-kb71-20141218-0095-e90.fits"
       ]
      },
      {
       "output_type": "stream",
       "stream": "stdout",
       "text": [
        "\n",
        "274 of 423 \t coj1m003-kb71-20141218-0096-e90.fits"
       ]
      },
      {
       "output_type": "stream",
       "stream": "stdout",
       "text": [
        "\n",
        "275 of 423 \t coj1m003-kb71-20141218-0097-e90.fits"
       ]
      },
      {
       "output_type": "stream",
       "stream": "stdout",
       "text": [
        "\n",
        "276 of 423 \t coj1m003-kb71-20141218-0098-e90.fits"
       ]
      },
      {
       "output_type": "stream",
       "stream": "stdout",
       "text": [
        "\n",
        "277 of 423 \t coj1m003-kb71-20141218-0099-e90.fits"
       ]
      },
      {
       "output_type": "stream",
       "stream": "stdout",
       "text": [
        "\n",
        "278 of 423 \t coj1m003-kb71-20141218-0100-e90.fits"
       ]
      },
      {
       "output_type": "stream",
       "stream": "stdout",
       "text": [
        "\n",
        "279 of 423 \t coj1m003-kb71-20141218-0101-e90.fits"
       ]
      },
      {
       "output_type": "stream",
       "stream": "stdout",
       "text": [
        "\n",
        "280 of 423 \t coj1m003-kb71-20141218-0102-e90.fits"
       ]
      },
      {
       "output_type": "stream",
       "stream": "stdout",
       "text": [
        "\n",
        "281 of 423 \t coj1m003-kb71-20141218-0103-e90.fits"
       ]
      },
      {
       "output_type": "stream",
       "stream": "stdout",
       "text": [
        "\n",
        "282 of 423 \t coj1m003-kb71-20141218-0104-e90.fits"
       ]
      },
      {
       "output_type": "stream",
       "stream": "stdout",
       "text": [
        "\n",
        "283 of 423 \t coj1m003-kb71-20141218-0105-e90.fits"
       ]
      },
      {
       "output_type": "stream",
       "stream": "stdout",
       "text": [
        "\n",
        "284 of 423 \t coj1m003-kb71-20141218-0106-e90.fits"
       ]
      },
      {
       "output_type": "stream",
       "stream": "stdout",
       "text": [
        "\n",
        "285 of 423 \t coj1m003-kb71-20141218-0107-e90.fits"
       ]
      },
      {
       "output_type": "stream",
       "stream": "stdout",
       "text": [
        "\n",
        "286 of 423 \t coj1m003-kb71-20141218-0108-e90.fits"
       ]
      },
      {
       "output_type": "stream",
       "stream": "stdout",
       "text": [
        "\n",
        "287 of 423 \t coj1m003-kb71-20141218-0109-e90.fits"
       ]
      },
      {
       "output_type": "stream",
       "stream": "stdout",
       "text": [
        "\n",
        "288 of 423 \t coj1m003-kb71-20141218-0110-e90.fits"
       ]
      },
      {
       "output_type": "stream",
       "stream": "stdout",
       "text": [
        "\n",
        "289 of 423 \t coj1m003-kb71-20141218-0111-e90.fits"
       ]
      },
      {
       "output_type": "stream",
       "stream": "stdout",
       "text": [
        "\n",
        "290 of 423 \t coj1m003-kb71-20141218-0112-e90.fits"
       ]
      },
      {
       "output_type": "stream",
       "stream": "stdout",
       "text": [
        "\n",
        "291 of 423 \t coj1m003-kb71-20141218-0113-e90.fits"
       ]
      },
      {
       "output_type": "stream",
       "stream": "stdout",
       "text": [
        "\n",
        "292 of 423 \t coj1m003-kb71-20141218-0114-e90.fits"
       ]
      },
      {
       "output_type": "stream",
       "stream": "stdout",
       "text": [
        "\n",
        "293 of 423 \t coj1m003-kb71-20141218-0115-e90.fits"
       ]
      },
      {
       "output_type": "stream",
       "stream": "stdout",
       "text": [
        "\n",
        "294 of 423 \t coj1m003-kb71-20141218-0116-e90.fits"
       ]
      },
      {
       "output_type": "stream",
       "stream": "stdout",
       "text": [
        "\n",
        "295 of 423 \t coj1m003-kb71-20141218-0117-e90.fits"
       ]
      },
      {
       "output_type": "stream",
       "stream": "stdout",
       "text": [
        "\n",
        "296 of 423 \t coj1m003-kb71-20141218-0118-e90.fits"
       ]
      },
      {
       "output_type": "stream",
       "stream": "stdout",
       "text": [
        "\n",
        "297 of 423 \t coj1m003-kb71-20141218-0119-e90.fits"
       ]
      },
      {
       "output_type": "stream",
       "stream": "stdout",
       "text": [
        "\n",
        "298 of 423 \t coj1m003-kb71-20141218-0120-e90.fits"
       ]
      },
      {
       "output_type": "stream",
       "stream": "stdout",
       "text": [
        "\n",
        "299 of 423 \t coj1m003-kb71-20141218-0121-e90.fits"
       ]
      },
      {
       "output_type": "stream",
       "stream": "stdout",
       "text": [
        "\n",
        "300 of 423 \t coj1m003-kb71-20141218-0122-e90.fits"
       ]
      },
      {
       "output_type": "stream",
       "stream": "stdout",
       "text": [
        "\n",
        "301 of 423 \t coj1m003-kb71-20141218-0123-e90.fits"
       ]
      },
      {
       "output_type": "stream",
       "stream": "stdout",
       "text": [
        "\n",
        "302 of 423 \t coj1m003-kb71-20141218-0124-e90.fits"
       ]
      },
      {
       "output_type": "stream",
       "stream": "stdout",
       "text": [
        "\n",
        "303 of 423 \t coj1m003-kb71-20141218-0125-e90.fits"
       ]
      },
      {
       "output_type": "stream",
       "stream": "stdout",
       "text": [
        "\n",
        "304 of 423 \t coj1m003-kb71-20141218-0126-e90.fits"
       ]
      },
      {
       "output_type": "stream",
       "stream": "stdout",
       "text": [
        "\n",
        "305 of 423 \t coj1m003-kb71-20141218-0127-e90.fits"
       ]
      },
      {
       "output_type": "stream",
       "stream": "stdout",
       "text": [
        "\n",
        "306 of 423 \t coj1m003-kb71-20141218-0128-e90.fits"
       ]
      },
      {
       "output_type": "stream",
       "stream": "stdout",
       "text": [
        "\n",
        "307 of 423 \t coj1m003-kb71-20141218-0129-e90.fits"
       ]
      },
      {
       "output_type": "stream",
       "stream": "stdout",
       "text": [
        "\n",
        "308 of 423 \t coj1m003-kb71-20141218-0130-e90.fits"
       ]
      },
      {
       "output_type": "stream",
       "stream": "stdout",
       "text": [
        "\n",
        "309 of 423 \t coj1m003-kb71-20141218-0131-e90.fits"
       ]
      },
      {
       "output_type": "stream",
       "stream": "stdout",
       "text": [
        "\n",
        "310 of 423 \t coj1m003-kb71-20141218-0132-e90.fits"
       ]
      },
      {
       "output_type": "stream",
       "stream": "stdout",
       "text": [
        "\n",
        "311 of 423 \t coj1m003-kb71-20141218-0133-e90.fits"
       ]
      },
      {
       "output_type": "stream",
       "stream": "stdout",
       "text": [
        "\n",
        "312 of 423 \t coj1m003-kb71-20141218-0134-e90.fits"
       ]
      },
      {
       "output_type": "stream",
       "stream": "stdout",
       "text": [
        "\n",
        "313 of 423 \t coj1m003-kb71-20141218-0135-e90.fits"
       ]
      },
      {
       "output_type": "stream",
       "stream": "stdout",
       "text": [
        "\n",
        "314 of 423 \t coj1m003-kb71-20141218-0136-e90.fits"
       ]
      },
      {
       "output_type": "stream",
       "stream": "stdout",
       "text": [
        "\n",
        "315 of 423 \t coj1m003-kb71-20141218-0137-e90.fits"
       ]
      },
      {
       "output_type": "stream",
       "stream": "stdout",
       "text": [
        "\n",
        "316 of 423 \t coj1m003-kb71-20141218-0138-e90.fits"
       ]
      },
      {
       "output_type": "stream",
       "stream": "stdout",
       "text": [
        "\n",
        "317 of 423 \t coj1m003-kb71-20141218-0139-e90.fits"
       ]
      },
      {
       "output_type": "stream",
       "stream": "stdout",
       "text": [
        "\n",
        "318 of 423 \t coj1m003-kb71-20141218-0140-e90.fits"
       ]
      },
      {
       "output_type": "stream",
       "stream": "stdout",
       "text": [
        "\n",
        "319 of 423 \t coj1m003-kb71-20141218-0141-e90.fits"
       ]
      },
      {
       "output_type": "stream",
       "stream": "stdout",
       "text": [
        "\n",
        "320 of 423 \t coj1m003-kb71-20141218-0142-e90.fits"
       ]
      },
      {
       "output_type": "stream",
       "stream": "stdout",
       "text": [
        "\n",
        "321 of 423 \t coj1m003-kb71-20141218-0143-e90.fits"
       ]
      },
      {
       "output_type": "stream",
       "stream": "stdout",
       "text": [
        "\n",
        "322 of 423 \t coj1m003-kb71-20141218-0144-e90.fits"
       ]
      },
      {
       "output_type": "stream",
       "stream": "stdout",
       "text": [
        "\n",
        "323 of 423 \t coj1m003-kb71-20141218-0145-e90.fits"
       ]
      },
      {
       "output_type": "stream",
       "stream": "stdout",
       "text": [
        "\n",
        "324 of 423 \t coj1m003-kb71-20141218-0146-e90.fits"
       ]
      },
      {
       "output_type": "stream",
       "stream": "stdout",
       "text": [
        "\n",
        "325 of 423 \t coj1m003-kb71-20141218-0147-e90.fits"
       ]
      },
      {
       "output_type": "stream",
       "stream": "stdout",
       "text": [
        "\n",
        "326 of 423 \t coj1m003-kb71-20141218-0148-e90.fits"
       ]
      },
      {
       "output_type": "stream",
       "stream": "stdout",
       "text": [
        "\n",
        "327 of 423 \t coj1m003-kb71-20141218-0149-e90.fits"
       ]
      },
      {
       "output_type": "stream",
       "stream": "stdout",
       "text": [
        "\n",
        "328 of 423 \t coj1m003-kb71-20141218-0150-e90.fits"
       ]
      },
      {
       "output_type": "stream",
       "stream": "stdout",
       "text": [
        "\n",
        "329 of 423 \t coj1m003-kb71-20141218-0151-e90.fits"
       ]
      },
      {
       "output_type": "stream",
       "stream": "stdout",
       "text": [
        "\n",
        "330 of 423 \t coj1m003-kb71-20141218-0152-e90.fits"
       ]
      },
      {
       "output_type": "stream",
       "stream": "stdout",
       "text": [
        "\n",
        "331 of 423 \t coj1m003-kb71-20141218-0153-e90.fits"
       ]
      },
      {
       "output_type": "stream",
       "stream": "stdout",
       "text": [
        "\n",
        "332 of 423 \t coj1m003-kb71-20141218-0154-e90.fits"
       ]
      },
      {
       "output_type": "stream",
       "stream": "stdout",
       "text": [
        "\n",
        "333 of 423 \t coj1m003-kb71-20141218-0155-e90.fits"
       ]
      },
      {
       "output_type": "stream",
       "stream": "stdout",
       "text": [
        "\n",
        "334 of 423 \t coj1m003-kb71-20141218-0156-e90.fits"
       ]
      },
      {
       "output_type": "stream",
       "stream": "stdout",
       "text": [
        "\n",
        "335 of 423 \t coj1m003-kb71-20141218-0157-e90.fits"
       ]
      },
      {
       "output_type": "stream",
       "stream": "stdout",
       "text": [
        "\n",
        "336 of 423 \t coj1m003-kb71-20141218-0158-e90.fits"
       ]
      },
      {
       "output_type": "stream",
       "stream": "stdout",
       "text": [
        "\n",
        "337 of 423 \t coj1m003-kb71-20141218-0159-e90.fits"
       ]
      },
      {
       "output_type": "stream",
       "stream": "stdout",
       "text": [
        "\n",
        "338 of 423 \t coj1m003-kb71-20141218-0160-e90.fits"
       ]
      },
      {
       "output_type": "stream",
       "stream": "stdout",
       "text": [
        "\n",
        "339 of 423 \t coj1m003-kb71-20141218-0161-e90.fits"
       ]
      },
      {
       "output_type": "stream",
       "stream": "stdout",
       "text": [
        "\n",
        "340 of 423 \t coj1m003-kb71-20141218-0162-e90.fits"
       ]
      },
      {
       "output_type": "stream",
       "stream": "stdout",
       "text": [
        "\n",
        "341 of 423 \t coj1m003-kb71-20141218-0163-e90.fits"
       ]
      },
      {
       "output_type": "stream",
       "stream": "stdout",
       "text": [
        "\n",
        "342 of 423 \t coj1m003-kb71-20141218-0164-e90.fits"
       ]
      },
      {
       "output_type": "stream",
       "stream": "stdout",
       "text": [
        "\n",
        "343 of 423 \t coj1m003-kb71-20141218-0165-e90.fits"
       ]
      },
      {
       "output_type": "stream",
       "stream": "stdout",
       "text": [
        "\n",
        "344 of 423 \t cpt1m010-kb70-20141218-0083-e90.fits"
       ]
      },
      {
       "output_type": "stream",
       "stream": "stdout",
       "text": [
        "\n",
        "345 of 423 \t cpt1m010-kb70-20141218-0084-e90.fits"
       ]
      },
      {
       "output_type": "stream",
       "stream": "stdout",
       "text": [
        "\n",
        "346 of 423 \t cpt1m010-kb70-20141218-0085-e90.fits"
       ]
      },
      {
       "output_type": "stream",
       "stream": "stdout",
       "text": [
        "\n",
        "347 of 423 \t cpt1m010-kb70-20141218-0086-e90.fits"
       ]
      },
      {
       "output_type": "stream",
       "stream": "stdout",
       "text": [
        "\n",
        "348 of 423 \t cpt1m010-kb70-20141218-0087-e90.fits"
       ]
      },
      {
       "output_type": "stream",
       "stream": "stdout",
       "text": [
        "\n",
        "349 of 423 \t cpt1m010-kb70-20141218-0088-e90.fits"
       ]
      },
      {
       "output_type": "stream",
       "stream": "stdout",
       "text": [
        "\n",
        "350 of 423 \t cpt1m010-kb70-20141218-0089-e90.fits"
       ]
      },
      {
       "output_type": "stream",
       "stream": "stdout",
       "text": [
        "\n",
        "351 of 423 \t cpt1m010-kb70-20141218-0090-e90.fits"
       ]
      },
      {
       "output_type": "stream",
       "stream": "stdout",
       "text": [
        "\n",
        "352 of 423 \t cpt1m010-kb70-20141218-0091-e90.fits"
       ]
      },
      {
       "output_type": "stream",
       "stream": "stdout",
       "text": [
        "\n",
        "353 of 423 \t cpt1m010-kb70-20141218-0092-e90.fits"
       ]
      },
      {
       "output_type": "stream",
       "stream": "stdout",
       "text": [
        "\n",
        "354 of 423 \t cpt1m010-kb70-20141218-0093-e90.fits"
       ]
      },
      {
       "output_type": "stream",
       "stream": "stdout",
       "text": [
        "\n",
        "355 of 423 \t cpt1m010-kb70-20141218-0094-e90.fits"
       ]
      },
      {
       "output_type": "stream",
       "stream": "stdout",
       "text": [
        "\n",
        "356 of 423 \t cpt1m010-kb70-20141218-0095-e90.fits"
       ]
      },
      {
       "output_type": "stream",
       "stream": "stdout",
       "text": [
        "\n",
        "357 of 423 \t cpt1m010-kb70-20141218-0096-e90.fits"
       ]
      },
      {
       "output_type": "stream",
       "stream": "stdout",
       "text": [
        "\n",
        "358 of 423 \t cpt1m010-kb70-20141218-0097-e90.fits"
       ]
      },
      {
       "output_type": "stream",
       "stream": "stdout",
       "text": [
        "\n",
        "359 of 423 \t cpt1m010-kb70-20141218-0098-e90.fits"
       ]
      },
      {
       "output_type": "stream",
       "stream": "stdout",
       "text": [
        "\n",
        "360 of 423 \t cpt1m010-kb70-20141218-0099-e90.fits"
       ]
      },
      {
       "output_type": "stream",
       "stream": "stdout",
       "text": [
        "\n",
        "361 of 423 \t cpt1m010-kb70-20141218-0100-e90.fits"
       ]
      },
      {
       "output_type": "stream",
       "stream": "stdout",
       "text": [
        "\n",
        "362 of 423 \t cpt1m010-kb70-20141218-0101-e90.fits"
       ]
      },
      {
       "output_type": "stream",
       "stream": "stdout",
       "text": [
        "\n",
        "363 of 423 \t cpt1m010-kb70-20141218-0102-e90.fits"
       ]
      },
      {
       "output_type": "stream",
       "stream": "stdout",
       "text": [
        "\n",
        "364 of 423 \t cpt1m010-kb70-20141218-0103-e90.fits"
       ]
      },
      {
       "output_type": "stream",
       "stream": "stdout",
       "text": [
        "\n",
        "365 of 423 \t cpt1m010-kb70-20141218-0104-e90.fits"
       ]
      },
      {
       "output_type": "stream",
       "stream": "stdout",
       "text": [
        "\n",
        "366 of 423 \t cpt1m010-kb70-20141218-0105-e90.fits"
       ]
      },
      {
       "output_type": "stream",
       "stream": "stdout",
       "text": [
        "\n",
        "367 of 423 \t cpt1m010-kb70-20141218-0106-e90.fits"
       ]
      },
      {
       "output_type": "stream",
       "stream": "stdout",
       "text": [
        "\n",
        "368 of 423 \t cpt1m010-kb70-20141218-0107-e90.fits"
       ]
      },
      {
       "output_type": "stream",
       "stream": "stdout",
       "text": [
        "\n",
        "369 of 423 \t cpt1m010-kb70-20141218-0108-e90.fits"
       ]
      },
      {
       "output_type": "stream",
       "stream": "stdout",
       "text": [
        "\n",
        "370 of 423 \t cpt1m010-kb70-20141218-0109-e90.fits"
       ]
      },
      {
       "output_type": "stream",
       "stream": "stdout",
       "text": [
        "\n",
        "371 of 423 \t cpt1m010-kb70-20141218-0110-e90.fits"
       ]
      },
      {
       "output_type": "stream",
       "stream": "stdout",
       "text": [
        "\n",
        "372 of 423 \t cpt1m010-kb70-20141218-0111-e90.fits"
       ]
      },
      {
       "output_type": "stream",
       "stream": "stdout",
       "text": [
        "\n",
        "373 of 423 \t cpt1m010-kb70-20141218-0112-e90.fits"
       ]
      },
      {
       "output_type": "stream",
       "stream": "stdout",
       "text": [
        "\n",
        "374 of 423 \t cpt1m010-kb70-20141218-0113-e90.fits"
       ]
      },
      {
       "output_type": "stream",
       "stream": "stdout",
       "text": [
        "\n",
        "375 of 423 \t cpt1m010-kb70-20141218-0114-e90.fits"
       ]
      },
      {
       "output_type": "stream",
       "stream": "stdout",
       "text": [
        "\n",
        "376 of 423 \t cpt1m010-kb70-20141218-0115-e90.fits"
       ]
      },
      {
       "output_type": "stream",
       "stream": "stdout",
       "text": [
        "\n",
        "377 of 423 \t cpt1m010-kb70-20141218-0116-e90.fits"
       ]
      },
      {
       "output_type": "stream",
       "stream": "stdout",
       "text": [
        "\n",
        "378 of 423 \t cpt1m010-kb70-20141218-0117-e90.fits"
       ]
      },
      {
       "output_type": "stream",
       "stream": "stdout",
       "text": [
        "\n",
        "379 of 423 \t cpt1m010-kb70-20141218-0118-e90.fits"
       ]
      },
      {
       "output_type": "stream",
       "stream": "stdout",
       "text": [
        "\n",
        "380 of 423 \t cpt1m010-kb70-20141218-0119-e90.fits"
       ]
      },
      {
       "output_type": "stream",
       "stream": "stdout",
       "text": [
        "\n",
        "381 of 423 \t cpt1m010-kb70-20141218-0120-e90.fits"
       ]
      },
      {
       "output_type": "stream",
       "stream": "stdout",
       "text": [
        "\n",
        "382 of 423 \t cpt1m010-kb70-20141218-0121-e90.fits"
       ]
      },
      {
       "output_type": "stream",
       "stream": "stdout",
       "text": [
        "\n",
        "383 of 423 \t cpt1m010-kb70-20141218-0122-e90.fits"
       ]
      },
      {
       "output_type": "stream",
       "stream": "stdout",
       "text": [
        "\n",
        "384 of 423 \t cpt1m010-kb70-20141218-0123-e90.fits"
       ]
      },
      {
       "output_type": "stream",
       "stream": "stdout",
       "text": [
        "\n",
        "385 of 423 \t cpt1m010-kb70-20141218-0124-e90.fits"
       ]
      },
      {
       "output_type": "stream",
       "stream": "stdout",
       "text": [
        "\n",
        "386 of 423 \t cpt1m010-kb70-20141218-0126-e90.fits"
       ]
      },
      {
       "output_type": "stream",
       "stream": "stdout",
       "text": [
        "\n",
        "387 of 423 \t cpt1m010-kb70-20141218-0127-e90.fits"
       ]
      },
      {
       "output_type": "stream",
       "stream": "stdout",
       "text": [
        "\n",
        "388 of 423 \t cpt1m010-kb70-20141218-0128-e90.fits"
       ]
      },
      {
       "output_type": "stream",
       "stream": "stdout",
       "text": [
        "\n",
        "389 of 423 \t cpt1m010-kb70-20141218-0129-e90.fits"
       ]
      },
      {
       "output_type": "stream",
       "stream": "stdout",
       "text": [
        "\n",
        "390 of 423 \t cpt1m010-kb70-20141218-0130-e90.fits"
       ]
      },
      {
       "output_type": "stream",
       "stream": "stdout",
       "text": [
        "\n",
        "391 of 423 \t cpt1m010-kb70-20141218-0131-e90.fits"
       ]
      },
      {
       "output_type": "stream",
       "stream": "stdout",
       "text": [
        "\n",
        "392 of 423 \t cpt1m010-kb70-20141218-0132-e90.fits"
       ]
      },
      {
       "output_type": "stream",
       "stream": "stdout",
       "text": [
        "\n",
        "393 of 423 \t cpt1m010-kb70-20141218-0133-e90.fits"
       ]
      },
      {
       "output_type": "stream",
       "stream": "stdout",
       "text": [
        "\n",
        "394 of 423 \t cpt1m010-kb70-20141218-0134-e90.fits"
       ]
      },
      {
       "output_type": "stream",
       "stream": "stdout",
       "text": [
        "\n",
        "395 of 423 \t cpt1m010-kb70-20141218-0135-e90.fits"
       ]
      },
      {
       "output_type": "stream",
       "stream": "stdout",
       "text": [
        "\n",
        "396 of 423 \t cpt1m010-kb70-20141218-0136-e90.fits"
       ]
      },
      {
       "output_type": "stream",
       "stream": "stdout",
       "text": [
        "\n",
        "397 of 423 \t cpt1m010-kb70-20141218-0137-e90.fits"
       ]
      },
      {
       "output_type": "stream",
       "stream": "stdout",
       "text": [
        "\n",
        "398 of 423 \t cpt1m010-kb70-20141218-0138-e90.fits"
       ]
      },
      {
       "output_type": "stream",
       "stream": "stdout",
       "text": [
        "\n",
        "399 of 423 \t cpt1m010-kb70-20141218-0139-e90.fits"
       ]
      },
      {
       "output_type": "stream",
       "stream": "stdout",
       "text": [
        "\n",
        "400 of 423 \t cpt1m010-kb70-20141218-0140-e90.fits"
       ]
      },
      {
       "output_type": "stream",
       "stream": "stdout",
       "text": [
        "\n",
        "401 of 423 \t cpt1m010-kb70-20141218-0141-e90.fits"
       ]
      },
      {
       "output_type": "stream",
       "stream": "stdout",
       "text": [
        "\n",
        "402 of 423 \t cpt1m010-kb70-20141218-0142-e90.fits"
       ]
      },
      {
       "output_type": "stream",
       "stream": "stdout",
       "text": [
        "\n",
        "403 of 423 \t cpt1m010-kb70-20141218-0143-e90.fits"
       ]
      },
      {
       "output_type": "stream",
       "stream": "stdout",
       "text": [
        "\n",
        "404 of 423 \t cpt1m010-kb70-20141218-0144-e90.fits"
       ]
      },
      {
       "output_type": "stream",
       "stream": "stdout",
       "text": [
        "\n",
        "405 of 423 \t cpt1m010-kb70-20141218-0145-e90.fits"
       ]
      },
      {
       "output_type": "stream",
       "stream": "stdout",
       "text": [
        "\n",
        "406 of 423 \t cpt1m010-kb70-20141218-0146-e90.fits"
       ]
      },
      {
       "output_type": "stream",
       "stream": "stdout",
       "text": [
        "\n",
        "407 of 423 \t cpt1m010-kb70-20141218-0147-e90.fits"
       ]
      },
      {
       "output_type": "stream",
       "stream": "stdout",
       "text": [
        "\n",
        "408 of 423 \t cpt1m010-kb70-20141218-0148-e90.fits"
       ]
      },
      {
       "output_type": "stream",
       "stream": "stdout",
       "text": [
        "\n",
        "409 of 423 \t cpt1m010-kb70-20141218-0149-e90.fits"
       ]
      },
      {
       "output_type": "stream",
       "stream": "stdout",
       "text": [
        "\n",
        "410 of 423 \t cpt1m010-kb70-20141218-0150-e90.fits"
       ]
      },
      {
       "output_type": "stream",
       "stream": "stdout",
       "text": [
        "\n",
        "411 of 423 \t cpt1m010-kb70-20141218-0151-e90.fits"
       ]
      },
      {
       "output_type": "stream",
       "stream": "stdout",
       "text": [
        "\n",
        "412 of 423 \t cpt1m010-kb70-20141218-0152-e90.fits"
       ]
      },
      {
       "output_type": "stream",
       "stream": "stdout",
       "text": [
        "\n",
        "413 of 423 \t cpt1m010-kb70-20141218-0153-e90.fits"
       ]
      },
      {
       "output_type": "stream",
       "stream": "stdout",
       "text": [
        "\n",
        "414 of 423 \t cpt1m010-kb70-20141218-0154-e90.fits"
       ]
      },
      {
       "output_type": "stream",
       "stream": "stdout",
       "text": [
        "\n",
        "415 of 423 \t cpt1m010-kb70-20141218-0155-e90.fits"
       ]
      },
      {
       "output_type": "stream",
       "stream": "stdout",
       "text": [
        "\n",
        "416 of 423 \t cpt1m010-kb70-20141218-0156-e90.fits"
       ]
      },
      {
       "output_type": "stream",
       "stream": "stdout",
       "text": [
        "\n",
        "417 of 423 \t cpt1m010-kb70-20141218-0157-e90.fits"
       ]
      },
      {
       "output_type": "stream",
       "stream": "stdout",
       "text": [
        "\n",
        "418 of 423 \t cpt1m010-kb70-20141218-0158-e90.fits"
       ]
      },
      {
       "output_type": "stream",
       "stream": "stdout",
       "text": [
        "\n",
        "419 of 423 \t cpt1m010-kb70-20141218-0159-e90.fits"
       ]
      },
      {
       "output_type": "stream",
       "stream": "stdout",
       "text": [
        "\n",
        "420 of 423 \t cpt1m010-kb70-20141218-0160-e90.fits"
       ]
      },
      {
       "output_type": "stream",
       "stream": "stdout",
       "text": [
        "\n",
        "421 of 423 \t cpt1m010-kb70-20141218-0161-e90.fits"
       ]
      },
      {
       "output_type": "stream",
       "stream": "stdout",
       "text": [
        "\n",
        "422 of 423 \t cpt1m010-kb70-20141218-0162-e90.fits"
       ]
      },
      {
       "output_type": "stream",
       "stream": "stdout",
       "text": [
        "\n"
       ]
      },
      {
       "metadata": {},
       "output_type": "pyout",
       "prompt_number": 4,
       "text": [
        "32512"
       ]
      }
     ],
     "prompt_number": 4
    },
    {
     "cell_type": "heading",
     "level": 5,
     "metadata": {},
     "source": [
      "Whole Image"
     ]
    },
    {
     "cell_type": "code",
     "collapsed": false,
     "input": [
      "# ims is a list of lists, each row is a list of artists to draw in the\n",
      "# current frame; here we are just animating one artist, the image, in\n",
      "# each frame\n",
      "count=0\n",
      "list0=[]\n",
      "list1=[]\n",
      "list2=[]\n",
      "list3=[]\n",
      "os.system('rm _tmp*.png')\n",
      "print 'MAKING IMAGE FIGURES FOR ANIMATION'\n",
      "max_airmass = 0.5*np.ceil(max_airmass/0.5)\n",
      "for i in range(len(fnms)):\n",
      "    d=fnms[i].split('-')\n",
      "    #gs = plt.GridSpec(1, 2, width_ratios=[3, 1]) \n",
      "    print '%d of %d \\t %s'%(i,len(fnms), fnms[i])\n",
      "    fnm = fnms[i]\n",
      "    fits_file_name = data_dir + fnm\n",
      "    FM = FITSmanager(fits_file_name)\n",
      "    #print FM.hdulist[0].header['MJD-OBS']\n",
      "    mjd = float(FM.hdulist[0].header['MJD-OBS'])\n",
      "    airmass = float(FM.hdulist[0].header['AIRMASS'])\n",
      "    #print '\\tairmass', airmass\n",
      "    #if(FM.hdulist[0].header['FILTER']=='rp' and mjd>57007.):\n",
      "    #if(FM.hdulist[0].header['FILTER']=='gp' and mjd>57007.):\n",
      "    if(mjd>57007.):\n",
      "\t    obj  = SourceImage(FM, ra,  dec,  25)\n",
      "            min_val = np.min(obj.image)\n",
      "\t    max_val = np.max(obj.image)\n",
      "\t    list0.append(mjd)\n",
      "\t    list1.append(max_val)\n",
      "\t    list2.append(min_val)\n",
      "\t    list3.append(airmass)\n",
      "\t    #FM.plot_image()\n",
      "\t    gc = aplpy.FITSFigure(fits_file_name)\n",
      "\t    #gc.add_label(x=32700.0,y=32700.0, text = 'fits_file_name')\n",
      "\t    gc.show_grayscale()\n",
      "\t    if(i<10):\n",
      "\t\tgc.save('_tmp_00%d.png'%i, dpi=45)\n",
      "\t    if(i>=10 and i<100):\n",
      "\t\tgc.save('_tmp_0%d.png'%i, dpi=45)\n",
      "\t    if(i>=100):\n",
      "\t\tgc.save('_tmp_%d.png'%i, dpi=45)\n",
      "\t    plt.close()\n",
      "\t    del obj\n",
      "\t    del FM\n",
      "            count+=1\n",
      "\n",
      "os.system('convert -delay 15 -loop 0 *.png animation.gif')"
     ],
     "language": "python",
     "metadata": {},
     "outputs": [
      {
       "output_type": "stream",
       "stream": "stdout",
       "text": [
        "MAKING IMAGE FIGURES FOR ANIMATION\n",
        "0 of 423 \t lsc1m009-fl03-20141110-0107-e90.fits\n",
        "1 of 423 \t lsc1m009-fl03-20141110-0108-e90.fits\n",
        "2 of 423 \t lsc1m009-fl03-20141110-0109-e90.fits"
       ]
      },
      {
       "output_type": "stream",
       "stream": "stdout",
       "text": [
        "\n",
        "3 of 423 \t lsc1m009-fl03-20141110-0110-e90.fits\n",
        "4 of 423 \t lsc1m009-fl03-20141110-0111-e90.fits"
       ]
      },
      {
       "output_type": "stream",
       "stream": "stdout",
       "text": [
        "\n",
        "5 of 423 \t lsc1m009-fl03-20141110-0112-e90.fits\n",
        "6 of 423 \t lsc1m009-fl03-20141110-0113-e90.fits"
       ]
      },
      {
       "output_type": "stream",
       "stream": "stdout",
       "text": [
        "\n",
        "7 of 423 \t lsc1m009-fl03-20141110-0114-e90.fits\n",
        "8 of 423 \t lsc1m009-fl03-20141110-0115-e90.fits"
       ]
      },
      {
       "output_type": "stream",
       "stream": "stdout",
       "text": [
        "\n",
        "9 of 423 \t lsc1m004-fl04-20141110-0111-e90.fits\n",
        "10 of 423 \t lsc1m004-fl04-20141110-0112-e90.fits"
       ]
      },
      {
       "output_type": "stream",
       "stream": "stdout",
       "text": [
        "\n",
        "11 of 423 \t lsc1m004-fl04-20141110-0113-e90.fits\n",
        "12 of 423 \t lsc1m004-fl04-20141110-0114-e90.fits"
       ]
      },
      {
       "output_type": "stream",
       "stream": "stdout",
       "text": [
        "\n",
        "13 of 423 \t lsc1m004-fl04-20141110-0115-e90.fits\n",
        "14 of 423 \t lsc1m004-fl04-20141110-0116-e90.fits"
       ]
      },
      {
       "output_type": "stream",
       "stream": "stdout",
       "text": [
        "\n",
        "15 of 423 \t lsc1m004-fl04-20141110-0117-e90.fits\n",
        "16 of 423 \t lsc1m004-fl04-20141110-0118-e90.fits"
       ]
      },
      {
       "output_type": "stream",
       "stream": "stdout",
       "text": [
        "\n",
        "17 of 423 \t lsc1m004-fl04-20141110-0119-e90.fits\n",
        "18 of 423 \t coj1m011-kb05-20141111-0110-e90.fits"
       ]
      },
      {
       "output_type": "stream",
       "stream": "stdout",
       "text": [
        "\n",
        "19 of 423 \t coj1m011-kb05-20141111-0111-e90.fits\n",
        "20 of 423 \t coj1m011-kb05-20141111-0112-e90.fits"
       ]
      },
      {
       "output_type": "stream",
       "stream": "stdout",
       "text": [
        "\n",
        "21 of 423 \t coj1m011-kb05-20141111-0113-e90.fits\n",
        "22 of 423 \t coj1m011-kb05-20141111-0114-e90.fits"
       ]
      },
      {
       "output_type": "stream",
       "stream": "stdout",
       "text": [
        "\n",
        "23 of 423 \t coj1m011-kb05-20141111-0115-e90.fits\n",
        "24 of 423 \t coj1m011-kb05-20141111-0116-e90.fits"
       ]
      },
      {
       "output_type": "stream",
       "stream": "stdout",
       "text": [
        "\n",
        "25 of 423 \t coj1m011-kb05-20141111-0117-e90.fits\n",
        "26 of 423 \t coj1m011-kb05-20141111-0118-e90.fits"
       ]
      },
      {
       "output_type": "stream",
       "stream": "stdout",
       "text": [
        "\n",
        "27 of 423 \t coj1m011-kb05-20141111-0119-e90.fits\n",
        "28 of 423 \t lsc1m009-fl03-20141201-0115-e90.fits"
       ]
      },
      {
       "output_type": "stream",
       "stream": "stdout",
       "text": [
        "\n",
        "29 of 423 \t lsc1m009-fl03-20141201-0116-e90.fits\n",
        "30 of 423 \t lsc1m009-fl03-20141201-0117-e90.fits"
       ]
      },
      {
       "output_type": "stream",
       "stream": "stdout",
       "text": [
        "\n",
        "31 of 423 \t lsc1m009-fl03-20141201-0118-e90.fits\n",
        "32 of 423 \t lsc1m004-fl04-20141201-0121-e90.fits"
       ]
      },
      {
       "output_type": "stream",
       "stream": "stdout",
       "text": [
        "\n",
        "33 of 423 \t lsc1m004-fl04-20141201-0122-e90.fits\n",
        "34 of 423 \t lsc1m004-fl04-20141201-0123-e90.fits"
       ]
      },
      {
       "output_type": "stream",
       "stream": "stdout",
       "text": [
        "\n",
        "35 of 423 \t lsc1m004-fl04-20141201-0124-e90.fits\n",
        "36 of 423 \t lsc1m004-fl04-20141216-0075-e90.fits"
       ]
      },
      {
       "output_type": "stream",
       "stream": "stdout",
       "text": [
        "\n",
        "INFO"
       ]
      },
      {
       "output_type": "stream",
       "stream": "stderr",
       "text": [
        "INFO:astropy:Auto-setting vmin to -1.191e+04\n"
       ]
      },
      {
       "output_type": "stream",
       "stream": "stderr",
       "text": [
        "INFO:astropy:Auto-setting vmax to  1.141e+05\n"
       ]
      },
      {
       "output_type": "stream",
       "stream": "stdout",
       "text": [
        ": Auto-setting vmin to -1.191e+04 [aplpy.core]\n",
        "INFO: Auto-setting vmax to  1.141e+05 [aplpy.core]\n",
        "37 of 423 \t lsc1m004-fl04-20141216-0076-e90.fits"
       ]
      },
      {
       "output_type": "stream",
       "stream": "stdout",
       "text": [
        "\n",
        "INFO"
       ]
      },
      {
       "output_type": "stream",
       "stream": "stderr",
       "text": [
        "INFO:astropy:Auto-setting vmin to -1.250e+04\n"
       ]
      },
      {
       "output_type": "stream",
       "stream": "stderr",
       "text": [
        "INFO:astropy:Auto-setting vmax to  1.132e+05\n"
       ]
      },
      {
       "output_type": "stream",
       "stream": "stdout",
       "text": [
        ": Auto-setting vmin to -1.250e+04 [aplpy.core]\n",
        "INFO: Auto-setting vmax to  1.132e+05 [aplpy.core]\n",
        "38 of 423 \t lsc1m004-fl04-20141216-0077-e90.fits"
       ]
      },
      {
       "output_type": "stream",
       "stream": "stdout",
       "text": [
        "\n",
        "INFO"
       ]
      },
      {
       "output_type": "stream",
       "stream": "stderr",
       "text": [
        "INFO:astropy:Auto-setting vmin to -1.264e+04\n"
       ]
      },
      {
       "output_type": "stream",
       "stream": "stderr",
       "text": [
        "INFO:astropy:Auto-setting vmax to  1.132e+05\n"
       ]
      },
      {
       "output_type": "stream",
       "stream": "stdout",
       "text": [
        ": Auto-setting vmin to -1.264e+04 [aplpy.core]\n",
        "INFO: Auto-setting vmax to  1.132e+05 [aplpy.core]\n",
        "39 of 423 \t lsc1m004-fl04-20141216-0078-e90.fits"
       ]
      },
      {
       "output_type": "stream",
       "stream": "stdout",
       "text": [
        "\n",
        "INFO"
       ]
      },
      {
       "output_type": "stream",
       "stream": "stderr",
       "text": [
        "INFO:astropy:Auto-setting vmin to -1.268e+04\n"
       ]
      },
      {
       "output_type": "stream",
       "stream": "stderr",
       "text": [
        "INFO:astropy:Auto-setting vmax to  1.123e+05\n"
       ]
      },
      {
       "output_type": "stream",
       "stream": "stdout",
       "text": [
        ": Auto-setting vmin to -1.268e+04 [aplpy.core]\n",
        "INFO: Auto-setting vmax to  1.123e+05 [aplpy.core]\n",
        "40 of 423 \t lsc1m004-fl04-20141216-0079-e90.fits"
       ]
      },
      {
       "output_type": "stream",
       "stream": "stdout",
       "text": [
        "\n",
        "INFO"
       ]
      },
      {
       "output_type": "stream",
       "stream": "stderr",
       "text": [
        "INFO:astropy:Auto-setting vmin to -1.265e+04\n"
       ]
      },
      {
       "output_type": "stream",
       "stream": "stderr",
       "text": [
        "INFO:astropy:Auto-setting vmax to  1.120e+05\n"
       ]
      },
      {
       "output_type": "stream",
       "stream": "stdout",
       "text": [
        ": Auto-setting vmin to -1.265e+04 [aplpy.core]\n",
        "INFO: Auto-setting vmax to  1.120e+05 [aplpy.core]\n",
        "41 of 423 \t lsc1m004-fl04-20141216-0080-e90.fits"
       ]
      },
      {
       "output_type": "stream",
       "stream": "stdout",
       "text": [
        "\n",
        "INFO"
       ]
      },
      {
       "output_type": "stream",
       "stream": "stderr",
       "text": [
        "INFO:astropy:Auto-setting vmin to -1.258e+04\n"
       ]
      },
      {
       "output_type": "stream",
       "stream": "stderr",
       "text": [
        "INFO:astropy:Auto-setting vmax to  1.127e+05\n"
       ]
      },
      {
       "output_type": "stream",
       "stream": "stdout",
       "text": [
        ": Auto-setting vmin to -1.258e+04 [aplpy.core]\n",
        "INFO: Auto-setting vmax to  1.127e+05 [aplpy.core]\n",
        "42 of 423 \t lsc1m004-fl04-20141216-0081-e90.fits"
       ]
      },
      {
       "output_type": "stream",
       "stream": "stdout",
       "text": [
        "\n",
        "INFO"
       ]
      },
      {
       "output_type": "stream",
       "stream": "stderr",
       "text": [
        "INFO:astropy:Auto-setting vmin to -1.352e+04\n"
       ]
      },
      {
       "output_type": "stream",
       "stream": "stderr",
       "text": [
        "INFO:astropy:Auto-setting vmax to  1.138e+05\n"
       ]
      },
      {
       "output_type": "stream",
       "stream": "stdout",
       "text": [
        ": Auto-setting vmin to -1.352e+04 [aplpy.core]\n",
        "INFO: Auto-setting vmax to  1.138e+05 [aplpy.core]\n",
        "43 of 423 \t lsc1m004-fl04-20141216-0082-e90.fits"
       ]
      },
      {
       "output_type": "stream",
       "stream": "stdout",
       "text": [
        "\n",
        "INFO"
       ]
      },
      {
       "output_type": "stream",
       "stream": "stderr",
       "text": [
        "INFO:astropy:Auto-setting vmin to -1.247e+04\n"
       ]
      },
      {
       "output_type": "stream",
       "stream": "stderr",
       "text": [
        "INFO:astropy:Auto-setting vmax to  1.107e+05\n"
       ]
      },
      {
       "output_type": "stream",
       "stream": "stdout",
       "text": [
        ": Auto-setting vmin to -1.247e+04 [aplpy.core]\n",
        "INFO: Auto-setting vmax to  1.107e+05 [aplpy.core]\n",
        "44 of 423 \t lsc1m004-fl04-20141216-0083-e90.fits"
       ]
      },
      {
       "output_type": "stream",
       "stream": "stdout",
       "text": [
        "\n",
        "INFO"
       ]
      },
      {
       "output_type": "stream",
       "stream": "stderr",
       "text": [
        "INFO:astropy:Auto-setting vmin to -1.235e+04\n"
       ]
      },
      {
       "output_type": "stream",
       "stream": "stderr",
       "text": [
        "INFO:astropy:Auto-setting vmax to  1.100e+05\n"
       ]
      },
      {
       "output_type": "stream",
       "stream": "stdout",
       "text": [
        ": Auto-setting vmin to -1.235e+04 [aplpy.core]\n",
        "INFO: Auto-setting vmax to  1.100e+05 [aplpy.core]\n",
        "45 of 423 \t lsc1m004-fl04-20141216-0084-e90.fits"
       ]
      },
      {
       "output_type": "stream",
       "stream": "stdout",
       "text": [
        "\n",
        "INFO"
       ]
      },
      {
       "output_type": "stream",
       "stream": "stderr",
       "text": [
        "INFO:astropy:Auto-setting vmin to -1.257e+04\n"
       ]
      },
      {
       "output_type": "stream",
       "stream": "stderr",
       "text": [
        "INFO:astropy:Auto-setting vmax to  1.100e+05\n"
       ]
      },
      {
       "output_type": "stream",
       "stream": "stdout",
       "text": [
        ": Auto-setting vmin to -1.257e+04 [aplpy.core]\n",
        "INFO: Auto-setting vmax to  1.100e+05 [aplpy.core]\n",
        "46 of 423 \t lsc1m004-fl04-20141216-0085-e90.fits"
       ]
      },
      {
       "output_type": "stream",
       "stream": "stdout",
       "text": [
        "\n",
        "INFO"
       ]
      },
      {
       "output_type": "stream",
       "stream": "stderr",
       "text": [
        "INFO:astropy:Auto-setting vmin to -1.221e+04\n"
       ]
      },
      {
       "output_type": "stream",
       "stream": "stderr",
       "text": [
        "INFO:astropy:Auto-setting vmax to  1.084e+05\n"
       ]
      },
      {
       "output_type": "stream",
       "stream": "stdout",
       "text": [
        ": Auto-setting vmin to -1.221e+04 [aplpy.core]\n",
        "INFO: Auto-setting vmax to  1.084e+05 [aplpy.core]\n",
        "47 of 423 \t lsc1m004-fl04-20141216-0086-e90.fits"
       ]
      },
      {
       "output_type": "stream",
       "stream": "stdout",
       "text": [
        "\n",
        "INFO"
       ]
      },
      {
       "output_type": "stream",
       "stream": "stderr",
       "text": [
        "INFO:astropy:Auto-setting vmin to -1.248e+04\n"
       ]
      },
      {
       "output_type": "stream",
       "stream": "stderr",
       "text": [
        "INFO:astropy:Auto-setting vmax to  1.097e+05\n"
       ]
      },
      {
       "output_type": "stream",
       "stream": "stdout",
       "text": [
        ": Auto-setting vmin to -1.248e+04 [aplpy.core]\n",
        "INFO: Auto-setting vmax to  1.097e+05 [aplpy.core]\n",
        "48 of 423 \t lsc1m004-fl04-20141216-0087-e90.fits"
       ]
      },
      {
       "output_type": "stream",
       "stream": "stdout",
       "text": [
        "\n",
        "INFO"
       ]
      },
      {
       "output_type": "stream",
       "stream": "stderr",
       "text": [
        "INFO:astropy:Auto-setting vmin to -1.263e+04\n"
       ]
      },
      {
       "output_type": "stream",
       "stream": "stderr",
       "text": [
        "INFO:astropy:Auto-setting vmax to  1.115e+05\n"
       ]
      },
      {
       "output_type": "stream",
       "stream": "stdout",
       "text": [
        ": Auto-setting vmin to -1.263e+04 [aplpy.core]\n",
        "INFO: Auto-setting vmax to  1.115e+05 [aplpy.core]\n",
        "49 of 423 \t lsc1m004-fl04-20141216-0088-e90.fits"
       ]
      },
      {
       "output_type": "stream",
       "stream": "stdout",
       "text": [
        "\n",
        "INFO"
       ]
      },
      {
       "output_type": "stream",
       "stream": "stderr",
       "text": [
        "INFO:astropy:Auto-setting vmin to -1.259e+04\n"
       ]
      },
      {
       "output_type": "stream",
       "stream": "stderr",
       "text": [
        "INFO:astropy:Auto-setting vmax to  1.123e+05\n"
       ]
      },
      {
       "output_type": "stream",
       "stream": "stdout",
       "text": [
        ": Auto-setting vmin to -1.259e+04 [aplpy.core]\n",
        "INFO: Auto-setting vmax to  1.123e+05 [aplpy.core]\n",
        "50 of 423 \t lsc1m004-fl04-20141216-0089-e90.fits"
       ]
      },
      {
       "output_type": "stream",
       "stream": "stdout",
       "text": [
        "\n",
        "INFO"
       ]
      },
      {
       "output_type": "stream",
       "stream": "stderr",
       "text": [
        "INFO:astropy:Auto-setting vmin to -1.250e+04\n"
       ]
      },
      {
       "output_type": "stream",
       "stream": "stderr",
       "text": [
        "INFO:astropy:Auto-setting vmax to  1.106e+05\n"
       ]
      },
      {
       "output_type": "stream",
       "stream": "stdout",
       "text": [
        ": Auto-setting vmin to -1.250e+04 [aplpy.core]\n",
        "INFO: Auto-setting vmax to  1.106e+05 [aplpy.core]\n",
        "51 of 423 \t lsc1m004-fl04-20141216-0090-e90.fits"
       ]
      },
      {
       "output_type": "stream",
       "stream": "stdout",
       "text": [
        "\n",
        "INFO"
       ]
      },
      {
       "output_type": "stream",
       "stream": "stderr",
       "text": [
        "INFO:astropy:Auto-setting vmin to -1.215e+04\n"
       ]
      },
      {
       "output_type": "stream",
       "stream": "stderr",
       "text": [
        "INFO:astropy:Auto-setting vmax to  1.060e+05\n"
       ]
      },
      {
       "output_type": "stream",
       "stream": "stdout",
       "text": [
        ": Auto-setting vmin to -1.215e+04 [aplpy.core]\n",
        "INFO: Auto-setting vmax to  1.060e+05 [aplpy.core]\n",
        "52 of 423 \t lsc1m004-fl04-20141216-0091-e90.fits"
       ]
      },
      {
       "output_type": "stream",
       "stream": "stdout",
       "text": [
        "\n",
        "INFO"
       ]
      },
      {
       "output_type": "stream",
       "stream": "stderr",
       "text": [
        "INFO:astropy:Auto-setting vmin to -1.202e+04\n"
       ]
      },
      {
       "output_type": "stream",
       "stream": "stderr",
       "text": [
        "INFO:astropy:Auto-setting vmax to  1.043e+05\n"
       ]
      },
      {
       "output_type": "stream",
       "stream": "stdout",
       "text": [
        ": Auto-setting vmin to -1.202e+04 [aplpy.core]\n",
        "INFO: Auto-setting vmax to  1.043e+05 [aplpy.core]\n",
        "53 of 423 \t lsc1m004-fl04-20141216-0092-e90.fits"
       ]
      },
      {
       "output_type": "stream",
       "stream": "stdout",
       "text": [
        "\n",
        "INFO"
       ]
      },
      {
       "output_type": "stream",
       "stream": "stderr",
       "text": [
        "INFO:astropy:Auto-setting vmin to -1.187e+04\n"
       ]
      },
      {
       "output_type": "stream",
       "stream": "stderr",
       "text": [
        "INFO:astropy:Auto-setting vmax to  1.025e+05\n"
       ]
      },
      {
       "output_type": "stream",
       "stream": "stdout",
       "text": [
        ": Auto-setting vmin to -1.187e+04 [aplpy.core]\n",
        "INFO: Auto-setting vmax to  1.025e+05 [aplpy.core]\n",
        "54 of 423 \t lsc1m004-fl04-20141216-0093-e90.fits"
       ]
      },
      {
       "output_type": "stream",
       "stream": "stdout",
       "text": [
        "\n",
        "INFO"
       ]
      },
      {
       "output_type": "stream",
       "stream": "stderr",
       "text": [
        "INFO:astropy:Auto-setting vmin to -1.195e+04\n"
       ]
      },
      {
       "output_type": "stream",
       "stream": "stderr",
       "text": [
        "INFO:astropy:Auto-setting vmax to  1.039e+05\n"
       ]
      },
      {
       "output_type": "stream",
       "stream": "stdout",
       "text": [
        ": Auto-setting vmin to -1.195e+04 [aplpy.core]\n",
        "INFO: Auto-setting vmax to  1.039e+05 [aplpy.core]\n",
        "55 of 423 \t lsc1m004-fl04-20141216-0094-e90.fits"
       ]
      },
      {
       "output_type": "stream",
       "stream": "stdout",
       "text": [
        "\n",
        "INFO"
       ]
      },
      {
       "output_type": "stream",
       "stream": "stderr",
       "text": [
        "INFO:astropy:Auto-setting vmin to -1.241e+04\n"
       ]
      },
      {
       "output_type": "stream",
       "stream": "stderr",
       "text": [
        "INFO:astropy:Auto-setting vmax to  1.081e+05\n"
       ]
      },
      {
       "output_type": "stream",
       "stream": "stdout",
       "text": [
        ": Auto-setting vmin to -1.241e+04 [aplpy.core]\n",
        "INFO: Auto-setting vmax to  1.081e+05 [aplpy.core]\n",
        "56 of 423 \t lsc1m004-fl04-20141216-0095-e90.fits"
       ]
      },
      {
       "output_type": "stream",
       "stream": "stdout",
       "text": [
        "\n",
        "INFO"
       ]
      },
      {
       "output_type": "stream",
       "stream": "stderr",
       "text": [
        "INFO:astropy:Auto-setting vmin to -1.396e+04\n"
       ]
      },
      {
       "output_type": "stream",
       "stream": "stderr",
       "text": [
        "INFO:astropy:Auto-setting vmax to  1.113e+05\n"
       ]
      },
      {
       "output_type": "stream",
       "stream": "stdout",
       "text": [
        ": Auto-setting vmin to -1.396e+04 [aplpy.core]\n",
        "INFO: Auto-setting vmax to  1.113e+05 [aplpy.core]\n",
        "57 of 423 \t lsc1m004-fl04-20141216-0096-e90.fits"
       ]
      },
      {
       "output_type": "stream",
       "stream": "stdout",
       "text": [
        "\n",
        "INFO"
       ]
      },
      {
       "output_type": "stream",
       "stream": "stderr",
       "text": [
        "INFO:astropy:Auto-setting vmin to -1.213e+04\n"
       ]
      },
      {
       "output_type": "stream",
       "stream": "stderr",
       "text": [
        "INFO:astropy:Auto-setting vmax to  1.063e+05\n"
       ]
      },
      {
       "output_type": "stream",
       "stream": "stdout",
       "text": [
        ": Auto-setting vmin to -1.213e+04 [aplpy.core]\n",
        "INFO: Auto-setting vmax to  1.063e+05 [aplpy.core]\n",
        "58 of 423 \t lsc1m004-fl04-20141216-0097-e90.fits"
       ]
      },
      {
       "output_type": "stream",
       "stream": "stdout",
       "text": [
        "\n",
        "INFO"
       ]
      },
      {
       "output_type": "stream",
       "stream": "stderr",
       "text": [
        "INFO:astropy:Auto-setting vmin to -1.241e+04\n"
       ]
      },
      {
       "output_type": "stream",
       "stream": "stderr",
       "text": [
        "INFO:astropy:Auto-setting vmax to  1.068e+05\n"
       ]
      },
      {
       "output_type": "stream",
       "stream": "stdout",
       "text": [
        ": Auto-setting vmin to -1.241e+04 [aplpy.core]\n",
        "INFO: Auto-setting vmax to  1.068e+05 [aplpy.core]\n",
        "59 of 423 \t lsc1m004-fl04-20141216-0098-e90.fits"
       ]
      },
      {
       "output_type": "stream",
       "stream": "stdout",
       "text": [
        "\n",
        "INFO"
       ]
      },
      {
       "output_type": "stream",
       "stream": "stderr",
       "text": [
        "INFO:astropy:Auto-setting vmin to -1.224e+04\n"
       ]
      },
      {
       "output_type": "stream",
       "stream": "stderr",
       "text": [
        "INFO:astropy:Auto-setting vmax to  1.071e+05\n"
       ]
      },
      {
       "output_type": "stream",
       "stream": "stdout",
       "text": [
        ": Auto-setting vmin to -1.224e+04 [aplpy.core]\n",
        "INFO: Auto-setting vmax to  1.071e+05 [aplpy.core]\n",
        "60 of 423 \t lsc1m004-fl04-20141216-0099-e90.fits"
       ]
      },
      {
       "output_type": "stream",
       "stream": "stdout",
       "text": [
        "\n",
        "INFO"
       ]
      },
      {
       "output_type": "stream",
       "stream": "stderr",
       "text": [
        "INFO:astropy:Auto-setting vmin to -1.223e+04\n"
       ]
      },
      {
       "output_type": "stream",
       "stream": "stderr",
       "text": [
        "INFO:astropy:Auto-setting vmax to  1.060e+05\n"
       ]
      },
      {
       "output_type": "stream",
       "stream": "stdout",
       "text": [
        ": Auto-setting vmin to -1.223e+04 [aplpy.core]\n",
        "INFO: Auto-setting vmax to  1.060e+05 [aplpy.core]\n",
        "61 of 423 \t lsc1m004-fl04-20141216-0100-e90.fits"
       ]
      },
      {
       "output_type": "stream",
       "stream": "stdout",
       "text": [
        "\n",
        "INFO"
       ]
      },
      {
       "output_type": "stream",
       "stream": "stderr",
       "text": [
        "INFO:astropy:Auto-setting vmin to -1.231e+04\n"
       ]
      },
      {
       "output_type": "stream",
       "stream": "stderr",
       "text": [
        "INFO:astropy:Auto-setting vmax to  1.066e+05\n"
       ]
      },
      {
       "output_type": "stream",
       "stream": "stdout",
       "text": [
        ": Auto-setting vmin to -1.231e+04 [aplpy.core]\n",
        "INFO: Auto-setting vmax to  1.066e+05 [aplpy.core]\n",
        "62 of 423 \t lsc1m004-fl04-20141216-0101-e90.fits"
       ]
      },
      {
       "output_type": "stream",
       "stream": "stdout",
       "text": [
        "\n",
        "INFO"
       ]
      },
      {
       "output_type": "stream",
       "stream": "stderr",
       "text": [
        "INFO:astropy:Auto-setting vmin to -1.214e+04\n"
       ]
      },
      {
       "output_type": "stream",
       "stream": "stderr",
       "text": [
        "INFO:astropy:Auto-setting vmax to  1.055e+05\n"
       ]
      },
      {
       "output_type": "stream",
       "stream": "stdout",
       "text": [
        ": Auto-setting vmin to -1.214e+04 [aplpy.core]\n",
        "INFO: Auto-setting vmax to  1.055e+05 [aplpy.core]\n",
        "63 of 423 \t lsc1m004-fl04-20141216-0102-e90.fits"
       ]
      },
      {
       "output_type": "stream",
       "stream": "stdout",
       "text": [
        "\n",
        "INFO"
       ]
      },
      {
       "output_type": "stream",
       "stream": "stderr",
       "text": [
        "INFO:astropy:Auto-setting vmin to -1.222e+04\n"
       ]
      },
      {
       "output_type": "stream",
       "stream": "stderr",
       "text": [
        "INFO:astropy:Auto-setting vmax to  1.060e+05\n"
       ]
      },
      {
       "output_type": "stream",
       "stream": "stdout",
       "text": [
        ": Auto-setting vmin to -1.222e+04 [aplpy.core]\n",
        "INFO: Auto-setting vmax to  1.060e+05 [aplpy.core]\n",
        "64 of 423 \t lsc1m004-fl04-20141216-0103-e90.fits"
       ]
      },
      {
       "output_type": "stream",
       "stream": "stdout",
       "text": [
        "\n",
        "INFO"
       ]
      },
      {
       "output_type": "stream",
       "stream": "stderr",
       "text": [
        "INFO:astropy:Auto-setting vmin to -1.223e+04\n"
       ]
      },
      {
       "output_type": "stream",
       "stream": "stderr",
       "text": [
        "INFO:astropy:Auto-setting vmax to  1.072e+05\n"
       ]
      },
      {
       "output_type": "stream",
       "stream": "stdout",
       "text": [
        ": Auto-setting vmin to -1.223e+04 [aplpy.core]\n",
        "INFO: Auto-setting vmax to  1.072e+05 [aplpy.core]\n",
        "65 of 423 \t lsc1m004-fl04-20141216-0104-e90.fits"
       ]
      },
      {
       "output_type": "stream",
       "stream": "stdout",
       "text": [
        "\n",
        "INFO"
       ]
      },
      {
       "output_type": "stream",
       "stream": "stderr",
       "text": [
        "INFO:astropy:Auto-setting vmin to -1.215e+04\n"
       ]
      },
      {
       "output_type": "stream",
       "stream": "stderr",
       "text": [
        "INFO:astropy:Auto-setting vmax to  1.061e+05\n"
       ]
      },
      {
       "output_type": "stream",
       "stream": "stdout",
       "text": [
        ": Auto-setting vmin to -1.215e+04 [aplpy.core]\n",
        "INFO: Auto-setting vmax to  1.061e+05 [aplpy.core]\n",
        "66 of 423 \t lsc1m004-fl04-20141216-0105-e90.fits"
       ]
      },
      {
       "output_type": "stream",
       "stream": "stdout",
       "text": [
        "\n",
        "INFO"
       ]
      },
      {
       "output_type": "stream",
       "stream": "stderr",
       "text": [
        "INFO:astropy:Auto-setting vmin to -1.209e+04\n"
       ]
      },
      {
       "output_type": "stream",
       "stream": "stderr",
       "text": [
        "INFO:astropy:Auto-setting vmax to  1.056e+05\n"
       ]
      },
      {
       "output_type": "stream",
       "stream": "stdout",
       "text": [
        ": Auto-setting vmin to -1.209e+04 [aplpy.core]\n",
        "INFO: Auto-setting vmax to  1.056e+05 [aplpy.core]\n",
        "67 of 423 \t lsc1m004-fl04-20141216-0106-e90.fits"
       ]
      },
      {
       "output_type": "stream",
       "stream": "stdout",
       "text": [
        "\n",
        "INFO"
       ]
      },
      {
       "output_type": "stream",
       "stream": "stderr",
       "text": [
        "INFO:astropy:Auto-setting vmin to -1.161e+04\n"
       ]
      },
      {
       "output_type": "stream",
       "stream": "stderr",
       "text": [
        "INFO:astropy:Auto-setting vmax to  1.023e+05\n"
       ]
      },
      {
       "output_type": "stream",
       "stream": "stdout",
       "text": [
        ": Auto-setting vmin to -1.161e+04 [aplpy.core]\n",
        "INFO: Auto-setting vmax to  1.023e+05 [aplpy.core]\n",
        "68 of 423 \t lsc1m004-fl04-20141216-0107-e90.fits"
       ]
      },
      {
       "output_type": "stream",
       "stream": "stdout",
       "text": [
        "\n",
        "INFO"
       ]
      },
      {
       "output_type": "stream",
       "stream": "stderr",
       "text": [
        "INFO:astropy:Auto-setting vmin to -1.198e+04\n"
       ]
      },
      {
       "output_type": "stream",
       "stream": "stderr",
       "text": [
        "INFO:astropy:Auto-setting vmax to  1.047e+05\n"
       ]
      },
      {
       "output_type": "stream",
       "stream": "stdout",
       "text": [
        ": Auto-setting vmin to -1.198e+04 [aplpy.core]\n",
        "INFO: Auto-setting vmax to  1.047e+05 [aplpy.core]\n",
        "69 of 423 \t lsc1m004-fl04-20141216-0108-e90.fits"
       ]
      },
      {
       "output_type": "stream",
       "stream": "stdout",
       "text": [
        "\n",
        "INFO"
       ]
      },
      {
       "output_type": "stream",
       "stream": "stderr",
       "text": [
        "INFO:astropy:Auto-setting vmin to -1.237e+04\n"
       ]
      },
      {
       "output_type": "stream",
       "stream": "stderr",
       "text": [
        "INFO:astropy:Auto-setting vmax to  1.066e+05\n"
       ]
      },
      {
       "output_type": "stream",
       "stream": "stdout",
       "text": [
        ": Auto-setting vmin to -1.237e+04 [aplpy.core]\n",
        "INFO: Auto-setting vmax to  1.066e+05 [aplpy.core]\n",
        "70 of 423 \t lsc1m004-fl04-20141216-0109-e90.fits"
       ]
      },
      {
       "output_type": "stream",
       "stream": "stdout",
       "text": [
        "\n",
        "INFO"
       ]
      },
      {
       "output_type": "stream",
       "stream": "stderr",
       "text": [
        "INFO:astropy:Auto-setting vmin to -1.144e+04\n"
       ]
      },
      {
       "output_type": "stream",
       "stream": "stderr",
       "text": [
        "INFO:astropy:Auto-setting vmax to  1.008e+05\n"
       ]
      },
      {
       "output_type": "stream",
       "stream": "stdout",
       "text": [
        ": Auto-setting vmin to -1.144e+04 [aplpy.core]\n",
        "INFO: Auto-setting vmax to  1.008e+05 [aplpy.core]\n",
        "71 of 423 \t lsc1m004-fl04-20141216-0110-e90.fits"
       ]
      },
      {
       "output_type": "stream",
       "stream": "stdout",
       "text": [
        "\n",
        "INFO"
       ]
      },
      {
       "output_type": "stream",
       "stream": "stderr",
       "text": [
        "INFO:astropy:Auto-setting vmin to -1.104e+04\n"
       ]
      },
      {
       "output_type": "stream",
       "stream": "stderr",
       "text": [
        "INFO:astropy:Auto-setting vmax to  9.726e+04\n"
       ]
      },
      {
       "output_type": "stream",
       "stream": "stdout",
       "text": [
        ": Auto-setting vmin to -1.104e+04 [aplpy.core]\n",
        "INFO: Auto-setting vmax to  9.726e+04 [aplpy.core]\n",
        "72 of 423 \t lsc1m004-fl04-20141216-0111-e90.fits"
       ]
      },
      {
       "output_type": "stream",
       "stream": "stdout",
       "text": [
        "\n",
        "INFO"
       ]
      },
      {
       "output_type": "stream",
       "stream": "stderr",
       "text": [
        "INFO:astropy:Auto-setting vmin to -1.353e+04\n"
       ]
      },
      {
       "output_type": "stream",
       "stream": "stderr",
       "text": [
        "INFO:astropy:Auto-setting vmax to  1.057e+05\n"
       ]
      },
      {
       "output_type": "stream",
       "stream": "stdout",
       "text": [
        ": Auto-setting vmin to -1.353e+04 [aplpy.core]\n",
        "INFO: Auto-setting vmax to  1.057e+05 [aplpy.core]\n",
        "73 of 423 \t lsc1m004-fl04-20141216-0112-e90.fits"
       ]
      },
      {
       "output_type": "stream",
       "stream": "stdout",
       "text": [
        "\n",
        "INFO"
       ]
      },
      {
       "output_type": "stream",
       "stream": "stderr",
       "text": [
        "INFO:astropy:Auto-setting vmin to -1.140e+04\n"
       ]
      },
      {
       "output_type": "stream",
       "stream": "stderr",
       "text": [
        "INFO:astropy:Auto-setting vmax to  9.656e+04\n"
       ]
      },
      {
       "output_type": "stream",
       "stream": "stdout",
       "text": [
        ": Auto-setting vmin to -1.140e+04 [aplpy.core]\n",
        "INFO: Auto-setting vmax to  9.656e+04 [aplpy.core]\n",
        "74 of 423 \t lsc1m004-fl04-20141216-0113-e90.fits"
       ]
      },
      {
       "output_type": "stream",
       "stream": "stdout",
       "text": [
        "\n",
        "INFO"
       ]
      },
      {
       "output_type": "stream",
       "stream": "stderr",
       "text": [
        "INFO:astropy:Auto-setting vmin to -9.515e+03\n"
       ]
      },
      {
       "output_type": "stream",
       "stream": "stderr",
       "text": [
        "INFO:astropy:Auto-setting vmax to  7.752e+04\n"
       ]
      },
      {
       "output_type": "stream",
       "stream": "stdout",
       "text": [
        ": Auto-setting vmin to -9.515e+03 [aplpy.core]\n",
        "INFO: Auto-setting vmax to  7.752e+04 [aplpy.core]\n",
        "75 of 423 \t lsc1m004-fl04-20141216-0114-e90.fits"
       ]
      },
      {
       "output_type": "stream",
       "stream": "stdout",
       "text": [
        "\n",
        "INFO"
       ]
      },
      {
       "output_type": "stream",
       "stream": "stderr",
       "text": [
        "INFO:astropy:Auto-setting vmin to -9.306e+03\n"
       ]
      },
      {
       "output_type": "stream",
       "stream": "stderr",
       "text": [
        "INFO:astropy:Auto-setting vmax to  7.626e+04\n"
       ]
      },
      {
       "output_type": "stream",
       "stream": "stdout",
       "text": [
        ": Auto-setting vmin to -9.306e+03 [aplpy.core]\n",
        "INFO: Auto-setting vmax to  7.626e+04 [aplpy.core]\n",
        "76 of 423 \t lsc1m004-fl04-20141216-0115-e90.fits"
       ]
      },
      {
       "output_type": "stream",
       "stream": "stdout",
       "text": [
        "\n",
        "INFO"
       ]
      },
      {
       "output_type": "stream",
       "stream": "stderr",
       "text": [
        "INFO:astropy:Auto-setting vmin to -1.021e+04\n"
       ]
      },
      {
       "output_type": "stream",
       "stream": "stderr",
       "text": [
        "INFO:astropy:Auto-setting vmax to  8.187e+04\n"
       ]
      },
      {
       "output_type": "stream",
       "stream": "stdout",
       "text": [
        ": Auto-setting vmin to -1.021e+04 [aplpy.core]\n",
        "INFO: Auto-setting vmax to  8.187e+04 [aplpy.core]\n",
        "77 of 423 \t lsc1m004-fl04-20141216-0116-e90.fits"
       ]
      },
      {
       "output_type": "stream",
       "stream": "stdout",
       "text": [
        "\n",
        "INFO"
       ]
      },
      {
       "output_type": "stream",
       "stream": "stderr",
       "text": [
        "INFO:astropy:Auto-setting vmin to -1.087e+04\n"
       ]
      },
      {
       "output_type": "stream",
       "stream": "stderr",
       "text": [
        "INFO:astropy:Auto-setting vmax to  9.719e+04\n"
       ]
      },
      {
       "output_type": "stream",
       "stream": "stdout",
       "text": [
        ": Auto-setting vmin to -1.087e+04 [aplpy.core]\n",
        "INFO: Auto-setting vmax to  9.719e+04 [aplpy.core]\n",
        "78 of 423 \t lsc1m004-fl04-20141216-0117-e90.fits"
       ]
      },
      {
       "output_type": "stream",
       "stream": "stdout",
       "text": [
        "\n",
        "INFO"
       ]
      },
      {
       "output_type": "stream",
       "stream": "stderr",
       "text": [
        "INFO:astropy:Auto-setting vmin to -1.128e+04\n"
       ]
      },
      {
       "output_type": "stream",
       "stream": "stderr",
       "text": [
        "INFO:astropy:Auto-setting vmax to  9.617e+04\n"
       ]
      },
      {
       "output_type": "stream",
       "stream": "stdout",
       "text": [
        ": Auto-setting vmin to -1.128e+04 [aplpy.core]\n",
        "INFO: Auto-setting vmax to  9.617e+04 [aplpy.core]\n",
        "79 of 423 \t lsc1m004-fl04-20141216-0118-e90.fits"
       ]
      },
      {
       "output_type": "stream",
       "stream": "stdout",
       "text": [
        "\n",
        "INFO"
       ]
      },
      {
       "output_type": "stream",
       "stream": "stderr",
       "text": [
        "INFO:astropy:Auto-setting vmin to -1.104e+04\n"
       ]
      },
      {
       "output_type": "stream",
       "stream": "stderr",
       "text": [
        "INFO:astropy:Auto-setting vmax to  9.614e+04\n"
       ]
      },
      {
       "output_type": "stream",
       "stream": "stdout",
       "text": [
        ": Auto-setting vmin to -1.104e+04 [aplpy.core]\n",
        "INFO: Auto-setting vmax to  9.614e+04 [aplpy.core]\n",
        "80 of 423 \t lsc1m004-fl04-20141216-0119-e90.fits"
       ]
      },
      {
       "output_type": "stream",
       "stream": "stdout",
       "text": [
        "\n",
        "INFO"
       ]
      },
      {
       "output_type": "stream",
       "stream": "stderr",
       "text": [
        "INFO:astropy:Auto-setting vmin to -1.079e+04\n"
       ]
      },
      {
       "output_type": "stream",
       "stream": "stderr",
       "text": [
        "INFO:astropy:Auto-setting vmax to  8.850e+04\n"
       ]
      },
      {
       "output_type": "stream",
       "stream": "stdout",
       "text": [
        ": Auto-setting vmin to -1.079e+04 [aplpy.core]\n",
        "INFO: Auto-setting vmax to  8.850e+04 [aplpy.core]\n",
        "81 of 423 \t lsc1m004-fl04-20141216-0120-e90.fits"
       ]
      },
      {
       "output_type": "stream",
       "stream": "stdout",
       "text": [
        "\n",
        "INFO"
       ]
      },
      {
       "output_type": "stream",
       "stream": "stderr",
       "text": [
        "INFO:astropy:Auto-setting vmin to -9.584e+03\n"
       ]
      },
      {
       "output_type": "stream",
       "stream": "stderr",
       "text": [
        "INFO:astropy:Auto-setting vmax to  8.146e+04\n"
       ]
      },
      {
       "output_type": "stream",
       "stream": "stdout",
       "text": [
        ": Auto-setting vmin to -9.584e+03 [aplpy.core]\n",
        "INFO: Auto-setting vmax to  8.146e+04 [aplpy.core]\n",
        "82 of 423 \t lsc1m004-fl04-20141216-0121-e90.fits"
       ]
      },
      {
       "output_type": "stream",
       "stream": "stdout",
       "text": [
        "\n",
        "INFO"
       ]
      },
      {
       "output_type": "stream",
       "stream": "stderr",
       "text": [
        "INFO:astropy:Auto-setting vmin to -1.097e+04\n"
       ]
      },
      {
       "output_type": "stream",
       "stream": "stderr",
       "text": [
        "INFO:astropy:Auto-setting vmax to  9.410e+04\n"
       ]
      },
      {
       "output_type": "stream",
       "stream": "stdout",
       "text": [
        ": Auto-setting vmin to -1.097e+04 [aplpy.core]\n",
        "INFO: Auto-setting vmax to  9.410e+04 [aplpy.core]\n",
        "83 of 423 \t lsc1m004-fl04-20141216-0122-e90.fits"
       ]
      },
      {
       "output_type": "stream",
       "stream": "stdout",
       "text": [
        "\n",
        "INFO"
       ]
      },
      {
       "output_type": "stream",
       "stream": "stderr",
       "text": [
        "INFO:astropy:Auto-setting vmin to -1.045e+04\n"
       ]
      },
      {
       "output_type": "stream",
       "stream": "stderr",
       "text": [
        "INFO:astropy:Auto-setting vmax to  8.403e+04\n"
       ]
      },
      {
       "output_type": "stream",
       "stream": "stdout",
       "text": [
        ": Auto-setting vmin to -1.045e+04 [aplpy.core]\n",
        "INFO: Auto-setting vmax to  8.403e+04 [aplpy.core]\n",
        "84 of 423 \t lsc1m004-fl04-20141216-0123-e90.fits"
       ]
      },
      {
       "output_type": "stream",
       "stream": "stdout",
       "text": [
        "\n",
        "INFO"
       ]
      },
      {
       "output_type": "stream",
       "stream": "stderr",
       "text": [
        "INFO:astropy:Auto-setting vmin to -1.003e+04\n"
       ]
      },
      {
       "output_type": "stream",
       "stream": "stderr",
       "text": [
        "INFO:astropy:Auto-setting vmax to  8.514e+04\n"
       ]
      },
      {
       "output_type": "stream",
       "stream": "stdout",
       "text": [
        ": Auto-setting vmin to -1.003e+04 [aplpy.core]\n",
        "INFO: Auto-setting vmax to  8.514e+04 [aplpy.core]\n",
        "85 of 423 \t lsc1m004-fl04-20141216-0124-e90.fits"
       ]
      },
      {
       "output_type": "stream",
       "stream": "stdout",
       "text": [
        "\n",
        "INFO"
       ]
      },
      {
       "output_type": "stream",
       "stream": "stderr",
       "text": [
        "INFO:astropy:Auto-setting vmin to -1.041e+04\n"
       ]
      },
      {
       "output_type": "stream",
       "stream": "stderr",
       "text": [
        "INFO:astropy:Auto-setting vmax to  8.989e+04\n"
       ]
      },
      {
       "output_type": "stream",
       "stream": "stdout",
       "text": [
        ": Auto-setting vmin to -1.041e+04 [aplpy.core]\n",
        "INFO: Auto-setting vmax to  8.989e+04 [aplpy.core]\n",
        "86 of 423 \t lsc1m004-fl04-20141216-0125-e90.fits"
       ]
      },
      {
       "output_type": "stream",
       "stream": "stdout",
       "text": [
        "\n",
        "INFO"
       ]
      },
      {
       "output_type": "stream",
       "stream": "stderr",
       "text": [
        "INFO:astropy:Auto-setting vmin to -9.889e+03\n"
       ]
      },
      {
       "output_type": "stream",
       "stream": "stderr",
       "text": [
        "INFO:astropy:Auto-setting vmax to  8.692e+04\n"
       ]
      },
      {
       "output_type": "stream",
       "stream": "stdout",
       "text": [
        ": Auto-setting vmin to -9.889e+03 [aplpy.core]\n",
        "INFO: Auto-setting vmax to  8.692e+04 [aplpy.core]\n",
        "87 of 423 \t lsc1m004-fl04-20141216-0126-e90.fits"
       ]
      },
      {
       "output_type": "stream",
       "stream": "stdout",
       "text": [
        "\n",
        "INFO"
       ]
      },
      {
       "output_type": "stream",
       "stream": "stderr",
       "text": [
        "INFO:astropy:Auto-setting vmin to -1.222e+04\n"
       ]
      },
      {
       "output_type": "stream",
       "stream": "stderr",
       "text": [
        "INFO:astropy:Auto-setting vmax to  1.017e+05\n"
       ]
      },
      {
       "output_type": "stream",
       "stream": "stdout",
       "text": [
        ": Auto-setting vmin to -1.222e+04 [aplpy.core]\n",
        "INFO: Auto-setting vmax to  1.017e+05 [aplpy.core]\n",
        "88 of 423 \t lsc1m004-fl04-20141216-0127-e90.fits"
       ]
      },
      {
       "output_type": "stream",
       "stream": "stdout",
       "text": [
        "\n",
        "INFO"
       ]
      },
      {
       "output_type": "stream",
       "stream": "stderr",
       "text": [
        "INFO:astropy:Auto-setting vmin to -1.046e+04\n"
       ]
      },
      {
       "output_type": "stream",
       "stream": "stderr",
       "text": [
        "INFO:astropy:Auto-setting vmax to  9.109e+04\n"
       ]
      },
      {
       "output_type": "stream",
       "stream": "stdout",
       "text": [
        ": Auto-setting vmin to -1.046e+04 [aplpy.core]\n",
        "INFO: Auto-setting vmax to  9.109e+04 [aplpy.core]\n",
        "89 of 423 \t lsc1m004-fl04-20141216-0128-e90.fits"
       ]
      },
      {
       "output_type": "stream",
       "stream": "stdout",
       "text": [
        "\n",
        "INFO"
       ]
      },
      {
       "output_type": "stream",
       "stream": "stderr",
       "text": [
        "INFO:astropy:Auto-setting vmin to -1.011e+04\n"
       ]
      },
      {
       "output_type": "stream",
       "stream": "stderr",
       "text": [
        "INFO:astropy:Auto-setting vmax to  8.826e+04\n"
       ]
      },
      {
       "output_type": "stream",
       "stream": "stdout",
       "text": [
        ": Auto-setting vmin to -1.011e+04 [aplpy.core]\n",
        "INFO: Auto-setting vmax to  8.826e+04 [aplpy.core]\n",
        "90 of 423 \t lsc1m004-fl04-20141216-0129-e90.fits"
       ]
      },
      {
       "output_type": "stream",
       "stream": "stdout",
       "text": [
        "\n",
        "INFO"
       ]
      },
      {
       "output_type": "stream",
       "stream": "stderr",
       "text": [
        "INFO:astropy:Auto-setting vmin to -9.793e+03\n"
       ]
      },
      {
       "output_type": "stream",
       "stream": "stderr",
       "text": [
        "INFO:astropy:Auto-setting vmax to  8.291e+04\n"
       ]
      },
      {
       "output_type": "stream",
       "stream": "stdout",
       "text": [
        ": Auto-setting vmin to -9.793e+03 [aplpy.core]\n",
        "INFO: Auto-setting vmax to  8.291e+04 [aplpy.core]\n",
        "91 of 423 \t lsc1m004-fl04-20141216-0130-e90.fits"
       ]
      },
      {
       "output_type": "stream",
       "stream": "stdout",
       "text": [
        "\n",
        "INFO"
       ]
      },
      {
       "output_type": "stream",
       "stream": "stderr",
       "text": [
        "INFO:astropy:Auto-setting vmin to -1.044e+04\n"
       ]
      },
      {
       "output_type": "stream",
       "stream": "stderr",
       "text": [
        "INFO:astropy:Auto-setting vmax to  9.023e+04\n"
       ]
      },
      {
       "output_type": "stream",
       "stream": "stdout",
       "text": [
        ": Auto-setting vmin to -1.044e+04 [aplpy.core]\n",
        "INFO: Auto-setting vmax to  9.023e+04 [aplpy.core]\n",
        "92 of 423 \t lsc1m004-fl04-20141216-0131-e90.fits"
       ]
      },
      {
       "output_type": "stream",
       "stream": "stdout",
       "text": [
        "\n",
        "INFO"
       ]
      },
      {
       "output_type": "stream",
       "stream": "stderr",
       "text": [
        "INFO:astropy:Auto-setting vmin to -1.043e+04\n"
       ]
      },
      {
       "output_type": "stream",
       "stream": "stderr",
       "text": [
        "INFO:astropy:Auto-setting vmax to  8.951e+04\n"
       ]
      },
      {
       "output_type": "stream",
       "stream": "stdout",
       "text": [
        ": Auto-setting vmin to -1.043e+04 [aplpy.core]\n",
        "INFO: Auto-setting vmax to  8.951e+04 [aplpy.core]\n",
        "93 of 423 \t lsc1m004-fl04-20141216-0132-e90.fits"
       ]
      },
      {
       "output_type": "stream",
       "stream": "stdout",
       "text": [
        "\n",
        "INFO"
       ]
      },
      {
       "output_type": "stream",
       "stream": "stderr",
       "text": [
        "INFO:astropy:Auto-setting vmin to -9.946e+03\n"
       ]
      },
      {
       "output_type": "stream",
       "stream": "stderr",
       "text": [
        "INFO:astropy:Auto-setting vmax to  8.426e+04\n"
       ]
      },
      {
       "output_type": "stream",
       "stream": "stdout",
       "text": [
        ": Auto-setting vmin to -9.946e+03 [aplpy.core]\n",
        "INFO: Auto-setting vmax to  8.426e+04 [aplpy.core]\n",
        "94 of 423 \t lsc1m004-fl04-20141216-0133-e90.fits"
       ]
      },
      {
       "output_type": "stream",
       "stream": "stdout",
       "text": [
        "\n",
        "INFO"
       ]
      },
      {
       "output_type": "stream",
       "stream": "stderr",
       "text": [
        "INFO:astropy:Auto-setting vmin to -1.059e+04\n"
       ]
      },
      {
       "output_type": "stream",
       "stream": "stderr",
       "text": [
        "INFO:astropy:Auto-setting vmax to  8.997e+04\n"
       ]
      },
      {
       "output_type": "stream",
       "stream": "stdout",
       "text": [
        ": Auto-setting vmin to -1.059e+04 [aplpy.core]\n",
        "INFO: Auto-setting vmax to  8.997e+04 [aplpy.core]\n",
        "95 of 423 \t lsc1m004-fl04-20141216-0134-e90.fits"
       ]
      },
      {
       "output_type": "stream",
       "stream": "stdout",
       "text": [
        "\n",
        "INFO"
       ]
      },
      {
       "output_type": "stream",
       "stream": "stderr",
       "text": [
        "INFO:astropy:Auto-setting vmin to -1.018e+04\n"
       ]
      },
      {
       "output_type": "stream",
       "stream": "stderr",
       "text": [
        "INFO:astropy:Auto-setting vmax to  8.511e+04\n"
       ]
      },
      {
       "output_type": "stream",
       "stream": "stdout",
       "text": [
        ": Auto-setting vmin to -1.018e+04 [aplpy.core]\n",
        "INFO: Auto-setting vmax to  8.511e+04 [aplpy.core]\n",
        "96 of 423 \t lsc1m004-fl04-20141216-0135-e90.fits"
       ]
      },
      {
       "output_type": "stream",
       "stream": "stdout",
       "text": [
        "\n",
        "INFO"
       ]
      },
      {
       "output_type": "stream",
       "stream": "stderr",
       "text": [
        "INFO:astropy:Auto-setting vmin to -1.041e+04\n"
       ]
      },
      {
       "output_type": "stream",
       "stream": "stderr",
       "text": [
        "INFO:astropy:Auto-setting vmax to  8.639e+04\n"
       ]
      },
      {
       "output_type": "stream",
       "stream": "stdout",
       "text": [
        ": Auto-setting vmin to -1.041e+04 [aplpy.core]\n",
        "INFO: Auto-setting vmax to  8.639e+04 [aplpy.core]\n",
        "97 of 423 \t lsc1m004-fl04-20141216-0136-e90.fits"
       ]
      },
      {
       "output_type": "stream",
       "stream": "stdout",
       "text": [
        "\n",
        "INFO"
       ]
      },
      {
       "output_type": "stream",
       "stream": "stderr",
       "text": [
        "INFO:astropy:Auto-setting vmin to -1.036e+04\n"
       ]
      },
      {
       "output_type": "stream",
       "stream": "stderr",
       "text": [
        "INFO:astropy:Auto-setting vmax to  8.694e+04\n"
       ]
      },
      {
       "output_type": "stream",
       "stream": "stdout",
       "text": [
        ": Auto-setting vmin to -1.036e+04 [aplpy.core]\n",
        "INFO: Auto-setting vmax to  8.694e+04 [aplpy.core]\n",
        "98 of 423 \t lsc1m004-fl04-20141216-0137-e90.fits"
       ]
      },
      {
       "output_type": "stream",
       "stream": "stdout",
       "text": [
        "\n",
        "INFO"
       ]
      },
      {
       "output_type": "stream",
       "stream": "stderr",
       "text": [
        "INFO:astropy:Auto-setting vmin to -1.066e+04\n"
       ]
      },
      {
       "output_type": "stream",
       "stream": "stderr",
       "text": [
        "INFO:astropy:Auto-setting vmax to  9.111e+04\n"
       ]
      },
      {
       "output_type": "stream",
       "stream": "stdout",
       "text": [
        ": Auto-setting vmin to -1.066e+04 [aplpy.core]\n",
        "INFO: Auto-setting vmax to  9.111e+04 [aplpy.core]\n",
        "99 of 423 \t lsc1m004-fl04-20141216-0138-e90.fits"
       ]
      },
      {
       "output_type": "stream",
       "stream": "stdout",
       "text": [
        "\n",
        "INFO"
       ]
      },
      {
       "output_type": "stream",
       "stream": "stderr",
       "text": [
        "INFO:astropy:Auto-setting vmin to -1.055e+04\n"
       ]
      },
      {
       "output_type": "stream",
       "stream": "stderr",
       "text": [
        "INFO:astropy:Auto-setting vmax to  8.840e+04\n"
       ]
      },
      {
       "output_type": "stream",
       "stream": "stdout",
       "text": [
        ": Auto-setting vmin to -1.055e+04 [aplpy.core]\n",
        "INFO: Auto-setting vmax to  8.840e+04 [aplpy.core]\n",
        "100 of 423 \t lsc1m004-fl04-20141216-0139-e90.fits"
       ]
      },
      {
       "output_type": "stream",
       "stream": "stdout",
       "text": [
        "\n",
        "INFO"
       ]
      },
      {
       "output_type": "stream",
       "stream": "stderr",
       "text": [
        "INFO:astropy:Auto-setting vmin to -1.119e+04\n"
       ]
      },
      {
       "output_type": "stream",
       "stream": "stderr",
       "text": [
        "INFO:astropy:Auto-setting vmax to  9.666e+04\n"
       ]
      },
      {
       "output_type": "stream",
       "stream": "stdout",
       "text": [
        ": Auto-setting vmin to -1.119e+04 [aplpy.core]\n",
        "INFO: Auto-setting vmax to  9.666e+04 [aplpy.core]\n",
        "101 of 423 \t lsc1m004-fl04-20141216-0140-e90.fits"
       ]
      },
      {
       "output_type": "stream",
       "stream": "stdout",
       "text": [
        "\n",
        "INFO"
       ]
      },
      {
       "output_type": "stream",
       "stream": "stderr",
       "text": [
        "INFO:astropy:Auto-setting vmin to -1.119e+04\n"
       ]
      },
      {
       "output_type": "stream",
       "stream": "stderr",
       "text": [
        "INFO:astropy:Auto-setting vmax to  9.562e+04\n"
       ]
      },
      {
       "output_type": "stream",
       "stream": "stdout",
       "text": [
        ": Auto-setting vmin to -1.119e+04 [aplpy.core]\n",
        "INFO: Auto-setting vmax to  9.562e+04 [aplpy.core]\n",
        "102 of 423 \t lsc1m004-fl04-20141216-0141-e90.fits"
       ]
      },
      {
       "output_type": "stream",
       "stream": "stdout",
       "text": [
        "\n",
        "INFO"
       ]
      },
      {
       "output_type": "stream",
       "stream": "stderr",
       "text": [
        "INFO:astropy:Auto-setting vmin to -1.099e+04\n"
       ]
      },
      {
       "output_type": "stream",
       "stream": "stderr",
       "text": [
        "INFO:astropy:Auto-setting vmax to  9.406e+04\n"
       ]
      },
      {
       "output_type": "stream",
       "stream": "stdout",
       "text": [
        ": Auto-setting vmin to -1.099e+04 [aplpy.core]\n",
        "INFO: Auto-setting vmax to  9.406e+04 [aplpy.core]\n",
        "103 of 423 \t lsc1m004-fl04-20141216-0142-e90.fits"
       ]
      },
      {
       "output_type": "stream",
       "stream": "stdout",
       "text": [
        "\n",
        "INFO"
       ]
      },
      {
       "output_type": "stream",
       "stream": "stderr",
       "text": [
        "INFO:astropy:Auto-setting vmin to -1.092e+04\n"
       ]
      },
      {
       "output_type": "stream",
       "stream": "stderr",
       "text": [
        "INFO:astropy:Auto-setting vmax to  9.467e+04\n"
       ]
      },
      {
       "output_type": "stream",
       "stream": "stdout",
       "text": [
        ": Auto-setting vmin to -1.092e+04 [aplpy.core]\n",
        "INFO: Auto-setting vmax to  9.467e+04 [aplpy.core]\n",
        "104 of 423 \t lsc1m004-fl04-20141216-0143-e90.fits"
       ]
      },
      {
       "output_type": "stream",
       "stream": "stdout",
       "text": [
        "\n",
        "INFO"
       ]
      },
      {
       "output_type": "stream",
       "stream": "stderr",
       "text": [
        "INFO:astropy:Auto-setting vmin to -1.001e+04\n"
       ]
      },
      {
       "output_type": "stream",
       "stream": "stderr",
       "text": [
        "INFO:astropy:Auto-setting vmax to  8.199e+04\n"
       ]
      },
      {
       "output_type": "stream",
       "stream": "stdout",
       "text": [
        ": Auto-setting vmin to -1.001e+04 [aplpy.core]\n",
        "INFO: Auto-setting vmax to  8.199e+04 [aplpy.core]\n",
        "105 of 423 \t lsc1m004-fl04-20141216-0144-e90.fits"
       ]
      },
      {
       "output_type": "stream",
       "stream": "stdout",
       "text": [
        "\n",
        "INFO"
       ]
      },
      {
       "output_type": "stream",
       "stream": "stderr",
       "text": [
        "INFO:astropy:Auto-setting vmin to -1.161e+04\n"
       ]
      },
      {
       "output_type": "stream",
       "stream": "stderr",
       "text": [
        "INFO:astropy:Auto-setting vmax to  1.005e+05\n"
       ]
      },
      {
       "output_type": "stream",
       "stream": "stdout",
       "text": [
        ": Auto-setting vmin to -1.161e+04 [aplpy.core]\n",
        "INFO: Auto-setting vmax to  1.005e+05 [aplpy.core]\n",
        "106 of 423 \t lsc1m004-fl04-20141216-0145-e90.fits"
       ]
      },
      {
       "output_type": "stream",
       "stream": "stdout",
       "text": [
        "\n",
        "INFO"
       ]
      },
      {
       "output_type": "stream",
       "stream": "stderr",
       "text": [
        "INFO:astropy:Auto-setting vmin to -1.124e+04\n"
       ]
      },
      {
       "output_type": "stream",
       "stream": "stderr",
       "text": [
        "INFO:astropy:Auto-setting vmax to  9.799e+04\n"
       ]
      },
      {
       "output_type": "stream",
       "stream": "stdout",
       "text": [
        ": Auto-setting vmin to -1.124e+04 [aplpy.core]\n",
        "INFO: Auto-setting vmax to  9.799e+04 [aplpy.core]\n",
        "107 of 423 \t lsc1m004-fl04-20141216-0146-e90.fits"
       ]
      },
      {
       "output_type": "stream",
       "stream": "stdout",
       "text": [
        "\n",
        "INFO"
       ]
      },
      {
       "output_type": "stream",
       "stream": "stderr",
       "text": [
        "INFO:astropy:Auto-setting vmin to -1.076e+04\n"
       ]
      },
      {
       "output_type": "stream",
       "stream": "stderr",
       "text": [
        "INFO:astropy:Auto-setting vmax to  9.044e+04\n"
       ]
      },
      {
       "output_type": "stream",
       "stream": "stdout",
       "text": [
        ": Auto-setting vmin to -1.076e+04 [aplpy.core]\n",
        "INFO: Auto-setting vmax to  9.044e+04 [aplpy.core]\n",
        "108 of 423 \t cpt1m010-kb70-20141217-0081-e90.fits"
       ]
      },
      {
       "output_type": "stream",
       "stream": "stdout",
       "text": [
        "\n",
        "INFO"
       ]
      },
      {
       "output_type": "stream",
       "stream": "stderr",
       "text": [
        "INFO:astropy:Auto-setting vmin to  7.806e+02\n"
       ]
      },
      {
       "output_type": "stream",
       "stream": "stderr",
       "text": [
        "INFO:astropy:Auto-setting vmax to  1.560e+03\n"
       ]
      },
      {
       "output_type": "stream",
       "stream": "stdout",
       "text": [
        ": Auto-setting vmin to  7.806e+02 [aplpy.core]\n",
        "INFO: Auto-setting vmax to  1.560e+03 [aplpy.core]\n",
        "109 of 423 \t cpt1m010-kb70-20141217-0082-e90.fits"
       ]
      },
      {
       "output_type": "stream",
       "stream": "stdout",
       "text": [
        "\n",
        "INFO"
       ]
      },
      {
       "output_type": "stream",
       "stream": "stderr",
       "text": [
        "INFO:astropy:Auto-setting vmin to  4.622e+02\n"
       ]
      },
      {
       "output_type": "stream",
       "stream": "stderr",
       "text": [
        "INFO:astropy:Auto-setting vmax to  1.220e+03\n"
       ]
      },
      {
       "output_type": "stream",
       "stream": "stdout",
       "text": [
        ": Auto-setting vmin to  4.622e+02 [aplpy.core]\n",
        "INFO: Auto-setting vmax to  1.220e+03 [aplpy.core]\n",
        "110 of 423 \t cpt1m010-kb70-20141217-0083-e90.fits"
       ]
      },
      {
       "output_type": "stream",
       "stream": "stdout",
       "text": [
        "\n",
        "INFO"
       ]
      },
      {
       "output_type": "stream",
       "stream": "stderr",
       "text": [
        "INFO:astropy:Auto-setting vmin to  3.239e+02\n"
       ]
      },
      {
       "output_type": "stream",
       "stream": "stderr",
       "text": [
        "INFO:astropy:Auto-setting vmax to  1.060e+03\n"
       ]
      },
      {
       "output_type": "stream",
       "stream": "stdout",
       "text": [
        ": Auto-setting vmin to  3.239e+02 [aplpy.core]\n",
        "INFO: Auto-setting vmax to  1.060e+03 [aplpy.core]\n",
        "111 of 423 \t cpt1m010-kb70-20141217-0084-e90.fits"
       ]
      },
      {
       "output_type": "stream",
       "stream": "stdout",
       "text": [
        "\n",
        "INFO"
       ]
      },
      {
       "output_type": "stream",
       "stream": "stderr",
       "text": [
        "INFO:astropy:Auto-setting vmin to  2.588e+02\n"
       ]
      },
      {
       "output_type": "stream",
       "stream": "stderr",
       "text": [
        "INFO:astropy:Auto-setting vmax to  9.831e+02\n"
       ]
      },
      {
       "output_type": "stream",
       "stream": "stdout",
       "text": [
        ": Auto-setting vmin to  2.588e+02 [aplpy.core]\n",
        "INFO: Auto-setting vmax to  9.831e+02 [aplpy.core]\n",
        "112 of 423 \t cpt1m010-kb70-20141217-0085-e90.fits"
       ]
      },
      {
       "output_type": "stream",
       "stream": "stdout",
       "text": [
        "\n",
        "INFO"
       ]
      },
      {
       "output_type": "stream",
       "stream": "stderr",
       "text": [
        "INFO:astropy:Auto-setting vmin to  2.262e+02\n"
       ]
      },
      {
       "output_type": "stream",
       "stream": "stderr",
       "text": [
        "INFO:astropy:Auto-setting vmax to  9.317e+02\n"
       ]
      },
      {
       "output_type": "stream",
       "stream": "stdout",
       "text": [
        ": Auto-setting vmin to  2.262e+02 [aplpy.core]\n",
        "INFO: Auto-setting vmax to  9.317e+02 [aplpy.core]\n",
        "113 of 423 \t cpt1m010-kb70-20141217-0086-e90.fits"
       ]
      },
      {
       "output_type": "stream",
       "stream": "stdout",
       "text": [
        "\n",
        "INFO"
       ]
      },
      {
       "output_type": "stream",
       "stream": "stderr",
       "text": [
        "INFO:astropy:Auto-setting vmin to  2.069e+02\n"
       ]
      },
      {
       "output_type": "stream",
       "stream": "stderr",
       "text": [
        "INFO:astropy:Auto-setting vmax to  9.814e+02\n"
       ]
      },
      {
       "output_type": "stream",
       "stream": "stdout",
       "text": [
        ": Auto-setting vmin to  2.069e+02 [aplpy.core]\n",
        "INFO: Auto-setting vmax to  9.814e+02 [aplpy.core]\n",
        "114 of 423 \t cpt1m010-kb70-20141217-0087-e90.fits"
       ]
      },
      {
       "output_type": "stream",
       "stream": "stdout",
       "text": [
        "\n",
        "INFO"
       ]
      },
      {
       "output_type": "stream",
       "stream": "stderr",
       "text": [
        "INFO:astropy:Auto-setting vmin to  8.292e+01\n"
       ]
      },
      {
       "output_type": "stream",
       "stream": "stderr",
       "text": [
        "INFO:astropy:Auto-setting vmax to  6.496e+02\n"
       ]
      },
      {
       "output_type": "stream",
       "stream": "stdout",
       "text": [
        ": Auto-setting vmin to  8.292e+01 [aplpy.core]\n",
        "INFO: Auto-setting vmax to  6.496e+02 [aplpy.core]\n",
        "115 of 423 \t cpt1m010-kb70-20141217-0088-e90.fits"
       ]
      },
      {
       "output_type": "stream",
       "stream": "stdout",
       "text": [
        "\n",
        "INFO"
       ]
      },
      {
       "output_type": "stream",
       "stream": "stderr",
       "text": [
        "INFO:astropy:Auto-setting vmin to  1.918e+02\n"
       ]
      },
      {
       "output_type": "stream",
       "stream": "stderr",
       "text": [
        "INFO:astropy:Auto-setting vmax to  9.605e+02\n"
       ]
      },
      {
       "output_type": "stream",
       "stream": "stdout",
       "text": [
        ": Auto-setting vmin to  1.918e+02 [aplpy.core]\n",
        "INFO: Auto-setting vmax to  9.605e+02 [aplpy.core]\n",
        "116 of 423 \t cpt1m010-kb70-20141217-0089-e90.fits"
       ]
      },
      {
       "output_type": "stream",
       "stream": "stdout",
       "text": [
        "\n",
        "INFO"
       ]
      },
      {
       "output_type": "stream",
       "stream": "stderr",
       "text": [
        "INFO:astropy:Auto-setting vmin to  1.881e+02\n"
       ]
      },
      {
       "output_type": "stream",
       "stream": "stderr",
       "text": [
        "INFO:astropy:Auto-setting vmax to  9.533e+02\n"
       ]
      },
      {
       "output_type": "stream",
       "stream": "stdout",
       "text": [
        ": Auto-setting vmin to  1.881e+02 [aplpy.core]\n",
        "INFO: Auto-setting vmax to  9.533e+02 [aplpy.core]\n",
        "117 of 423 \t cpt1m010-kb70-20141217-0090-e90.fits"
       ]
      },
      {
       "output_type": "stream",
       "stream": "stdout",
       "text": [
        "\n",
        "INFO"
       ]
      },
      {
       "output_type": "stream",
       "stream": "stderr",
       "text": [
        "INFO:astropy:Auto-setting vmin to  1.859e+02\n"
       ]
      },
      {
       "output_type": "stream",
       "stream": "stderr",
       "text": [
        "INFO:astropy:Auto-setting vmax to  9.358e+02\n"
       ]
      },
      {
       "output_type": "stream",
       "stream": "stdout",
       "text": [
        ": Auto-setting vmin to  1.859e+02 [aplpy.core]\n",
        "INFO: Auto-setting vmax to  9.358e+02 [aplpy.core]\n",
        "118 of 423 \t cpt1m010-kb70-20141217-0091-e90.fits"
       ]
      },
      {
       "output_type": "stream",
       "stream": "stdout",
       "text": [
        "\n",
        "INFO"
       ]
      },
      {
       "output_type": "stream",
       "stream": "stderr",
       "text": [
        "INFO:astropy:Auto-setting vmin to  1.812e+02\n"
       ]
      },
      {
       "output_type": "stream",
       "stream": "stderr",
       "text": [
        "INFO:astropy:Auto-setting vmax to  9.290e+02\n"
       ]
      },
      {
       "output_type": "stream",
       "stream": "stdout",
       "text": [
        ": Auto-setting vmin to  1.812e+02 [aplpy.core]\n",
        "INFO: Auto-setting vmax to  9.290e+02 [aplpy.core]\n",
        "119 of 423 \t cpt1m010-kb70-20141217-0092-e90.fits"
       ]
      },
      {
       "output_type": "stream",
       "stream": "stdout",
       "text": [
        "\n",
        "INFO"
       ]
      },
      {
       "output_type": "stream",
       "stream": "stderr",
       "text": [
        "INFO:astropy:Auto-setting vmin to  1.845e+02\n"
       ]
      },
      {
       "output_type": "stream",
       "stream": "stderr",
       "text": [
        "INFO:astropy:Auto-setting vmax to  9.236e+02\n"
       ]
      },
      {
       "output_type": "stream",
       "stream": "stdout",
       "text": [
        ": Auto-setting vmin to  1.845e+02 [aplpy.core]\n",
        "INFO: Auto-setting vmax to  9.236e+02 [aplpy.core]\n",
        "120 of 423 \t cpt1m010-kb70-20141217-0093-e90.fits"
       ]
      },
      {
       "output_type": "stream",
       "stream": "stdout",
       "text": [
        "\n",
        "INFO"
       ]
      },
      {
       "output_type": "stream",
       "stream": "stderr",
       "text": [
        "INFO:astropy:Auto-setting vmin to  1.883e+02\n"
       ]
      },
      {
       "output_type": "stream",
       "stream": "stderr",
       "text": [
        "INFO:astropy:Auto-setting vmax to  9.300e+02\n"
       ]
      },
      {
       "output_type": "stream",
       "stream": "stdout",
       "text": [
        ": Auto-setting vmin to  1.883e+02 [aplpy.core]\n",
        "INFO: Auto-setting vmax to  9.300e+02 [aplpy.core]\n",
        "121 of 423 \t cpt1m010-kb70-20141217-0094-e90.fits"
       ]
      },
      {
       "output_type": "stream",
       "stream": "stdout",
       "text": [
        "\n",
        "INFO"
       ]
      },
      {
       "output_type": "stream",
       "stream": "stderr",
       "text": [
        "INFO:astropy:Auto-setting vmin to  1.879e+02\n"
       ]
      },
      {
       "output_type": "stream",
       "stream": "stderr",
       "text": [
        "INFO:astropy:Auto-setting vmax to  9.446e+02\n"
       ]
      },
      {
       "output_type": "stream",
       "stream": "stdout",
       "text": [
        ": Auto-setting vmin to  1.879e+02 [aplpy.core]\n",
        "INFO: Auto-setting vmax to  9.446e+02 [aplpy.core]\n",
        "122 of 423 \t cpt1m010-kb70-20141217-0095-e90.fits"
       ]
      },
      {
       "output_type": "stream",
       "stream": "stdout",
       "text": [
        "\n",
        "INFO"
       ]
      },
      {
       "output_type": "stream",
       "stream": "stderr",
       "text": [
        "INFO:astropy:Auto-setting vmin to  1.695e+02\n"
       ]
      },
      {
       "output_type": "stream",
       "stream": "stderr",
       "text": [
        "INFO:astropy:Auto-setting vmax to  1.153e+03\n"
       ]
      },
      {
       "output_type": "stream",
       "stream": "stdout",
       "text": [
        ": Auto-setting vmin to  1.695e+02 [aplpy.core]\n",
        "INFO: Auto-setting vmax to  1.153e+03 [aplpy.core]\n",
        "123 of 423 \t cpt1m010-kb70-20141217-0096-e90.fits"
       ]
      },
      {
       "output_type": "stream",
       "stream": "stdout",
       "text": [
        "\n",
        "INFO"
       ]
      },
      {
       "output_type": "stream",
       "stream": "stderr",
       "text": [
        "INFO:astropy:Auto-setting vmin to  1.885e+02\n"
       ]
      },
      {
       "output_type": "stream",
       "stream": "stderr",
       "text": [
        "INFO:astropy:Auto-setting vmax to  9.469e+02\n"
       ]
      },
      {
       "output_type": "stream",
       "stream": "stdout",
       "text": [
        ": Auto-setting vmin to  1.885e+02 [aplpy.core]\n",
        "INFO: Auto-setting vmax to  9.469e+02 [aplpy.core]\n",
        "124 of 423 \t cpt1m010-kb70-20141217-0097-e90.fits"
       ]
      },
      {
       "output_type": "stream",
       "stream": "stdout",
       "text": [
        "\n",
        "INFO"
       ]
      },
      {
       "output_type": "stream",
       "stream": "stderr",
       "text": [
        "INFO:astropy:Auto-setting vmin to  1.907e+02\n"
       ]
      },
      {
       "output_type": "stream",
       "stream": "stderr",
       "text": [
        "INFO:astropy:Auto-setting vmax to  9.547e+02\n"
       ]
      },
      {
       "output_type": "stream",
       "stream": "stdout",
       "text": [
        ": Auto-setting vmin to  1.907e+02 [aplpy.core]\n",
        "INFO: Auto-setting vmax to  9.547e+02 [aplpy.core]\n",
        "125 of 423 \t cpt1m010-kb70-20141217-0098-e90.fits"
       ]
      },
      {
       "output_type": "stream",
       "stream": "stdout",
       "text": [
        "\n",
        "INFO"
       ]
      },
      {
       "output_type": "stream",
       "stream": "stderr",
       "text": [
        "INFO:astropy:Auto-setting vmin to  1.900e+02\n"
       ]
      },
      {
       "output_type": "stream",
       "stream": "stderr",
       "text": [
        "INFO:astropy:Auto-setting vmax to  9.667e+02\n"
       ]
      },
      {
       "output_type": "stream",
       "stream": "stdout",
       "text": [
        ": Auto-setting vmin to  1.900e+02 [aplpy.core]\n",
        "INFO: Auto-setting vmax to  9.667e+02 [aplpy.core]\n",
        "126 of 423 \t cpt1m010-kb70-20141217-0099-e90.fits"
       ]
      },
      {
       "output_type": "stream",
       "stream": "stdout",
       "text": [
        "\n",
        "INFO"
       ]
      },
      {
       "output_type": "stream",
       "stream": "stderr",
       "text": [
        "INFO:astropy:Auto-setting vmin to  1.883e+02\n"
       ]
      },
      {
       "output_type": "stream",
       "stream": "stderr",
       "text": [
        "INFO:astropy:Auto-setting vmax to  9.653e+02\n"
       ]
      },
      {
       "output_type": "stream",
       "stream": "stdout",
       "text": [
        ": Auto-setting vmin to  1.883e+02 [aplpy.core]\n",
        "INFO: Auto-setting vmax to  9.653e+02 [aplpy.core]\n",
        "127 of 423 \t cpt1m010-kb70-20141217-0100-e90.fits"
       ]
      },
      {
       "output_type": "stream",
       "stream": "stdout",
       "text": [
        "\n",
        "INFO"
       ]
      },
      {
       "output_type": "stream",
       "stream": "stderr",
       "text": [
        "INFO:astropy:Auto-setting vmin to  1.869e+02\n"
       ]
      },
      {
       "output_type": "stream",
       "stream": "stderr",
       "text": [
        "INFO:astropy:Auto-setting vmax to  9.957e+02\n"
       ]
      },
      {
       "output_type": "stream",
       "stream": "stdout",
       "text": [
        ": Auto-setting vmin to  1.869e+02 [aplpy.core]\n",
        "INFO: Auto-setting vmax to  9.957e+02 [aplpy.core]\n",
        "128 of 423 \t cpt1m010-kb70-20141217-0101-e90.fits"
       ]
      },
      {
       "output_type": "stream",
       "stream": "stdout",
       "text": [
        "\n",
        "INFO"
       ]
      },
      {
       "output_type": "stream",
       "stream": "stderr",
       "text": [
        "INFO:astropy:Auto-setting vmin to  1.886e+02\n"
       ]
      },
      {
       "output_type": "stream",
       "stream": "stderr",
       "text": [
        "INFO:astropy:Auto-setting vmax to  9.985e+02\n"
       ]
      },
      {
       "output_type": "stream",
       "stream": "stdout",
       "text": [
        ": Auto-setting vmin to  1.886e+02 [aplpy.core]\n",
        "INFO: Auto-setting vmax to  9.985e+02 [aplpy.core]\n",
        "129 of 423 \t cpt1m010-kb70-20141217-0102-e90.fits"
       ]
      },
      {
       "output_type": "stream",
       "stream": "stdout",
       "text": [
        "\n",
        "INFO"
       ]
      },
      {
       "output_type": "stream",
       "stream": "stderr",
       "text": [
        "INFO:astropy:Auto-setting vmin to  1.858e+02\n"
       ]
      },
      {
       "output_type": "stream",
       "stream": "stderr",
       "text": [
        "INFO:astropy:Auto-setting vmax to  1.006e+03\n"
       ]
      },
      {
       "output_type": "stream",
       "stream": "stdout",
       "text": [
        ": Auto-setting vmin to  1.858e+02 [aplpy.core]\n",
        "INFO: Auto-setting vmax to  1.006e+03 [aplpy.core]\n",
        "130 of 423 \t cpt1m010-kb70-20141217-0103-e90.fits"
       ]
      },
      {
       "output_type": "stream",
       "stream": "stdout",
       "text": [
        "\n",
        "INFO"
       ]
      },
      {
       "output_type": "stream",
       "stream": "stderr",
       "text": [
        "INFO:astropy:Auto-setting vmin to  1.855e+02\n"
       ]
      },
      {
       "output_type": "stream",
       "stream": "stderr",
       "text": [
        "INFO:astropy:Auto-setting vmax to  1.006e+03\n"
       ]
      },
      {
       "output_type": "stream",
       "stream": "stdout",
       "text": [
        ": Auto-setting vmin to  1.855e+02 [aplpy.core]\n",
        "INFO: Auto-setting vmax to  1.006e+03 [aplpy.core]\n",
        "131 of 423 \t cpt1m010-kb70-20141217-0104-e90.fits"
       ]
      },
      {
       "output_type": "stream",
       "stream": "stdout",
       "text": [
        "\n",
        "INFO"
       ]
      },
      {
       "output_type": "stream",
       "stream": "stderr",
       "text": [
        "INFO:astropy:Auto-setting vmin to  6.706e+01\n"
       ]
      },
      {
       "output_type": "stream",
       "stream": "stderr",
       "text": [
        "INFO:astropy:Auto-setting vmax to  6.635e+02\n"
       ]
      },
      {
       "output_type": "stream",
       "stream": "stdout",
       "text": [
        ": Auto-setting vmin to  6.706e+01 [aplpy.core]\n",
        "INFO: Auto-setting vmax to  6.635e+02 [aplpy.core]\n",
        "132 of 423 \t cpt1m010-kb70-20141217-0105-e90.fits"
       ]
      },
      {
       "output_type": "stream",
       "stream": "stdout",
       "text": [
        "\n",
        "INFO"
       ]
      },
      {
       "output_type": "stream",
       "stream": "stderr",
       "text": [
        "INFO:astropy:Auto-setting vmin to  1.917e+02\n"
       ]
      },
      {
       "output_type": "stream",
       "stream": "stderr",
       "text": [
        "INFO:astropy:Auto-setting vmax to  9.765e+02\n"
       ]
      },
      {
       "output_type": "stream",
       "stream": "stdout",
       "text": [
        ": Auto-setting vmin to  1.917e+02 [aplpy.core]\n",
        "INFO: Auto-setting vmax to  9.765e+02 [aplpy.core]\n",
        "133 of 423 \t cpt1m010-kb70-20141217-0106-e90.fits"
       ]
      },
      {
       "output_type": "stream",
       "stream": "stdout",
       "text": [
        "\n",
        "INFO"
       ]
      },
      {
       "output_type": "stream",
       "stream": "stderr",
       "text": [
        "INFO:astropy:Auto-setting vmin to  1.909e+02\n"
       ]
      },
      {
       "output_type": "stream",
       "stream": "stderr",
       "text": [
        "INFO:astropy:Auto-setting vmax to  9.533e+02\n"
       ]
      },
      {
       "output_type": "stream",
       "stream": "stdout",
       "text": [
        ": Auto-setting vmin to  1.909e+02 [aplpy.core]\n",
        "INFO: Auto-setting vmax to  9.533e+02 [aplpy.core]\n",
        "134 of 423 \t cpt1m010-kb70-20141217-0107-e90.fits"
       ]
      },
      {
       "output_type": "stream",
       "stream": "stdout",
       "text": [
        "\n",
        "INFO"
       ]
      },
      {
       "output_type": "stream",
       "stream": "stderr",
       "text": [
        "INFO:astropy:Auto-setting vmin to  1.860e+02\n"
       ]
      },
      {
       "output_type": "stream",
       "stream": "stderr",
       "text": [
        "INFO:astropy:Auto-setting vmax to  9.590e+02\n"
       ]
      },
      {
       "output_type": "stream",
       "stream": "stdout",
       "text": [
        ": Auto-setting vmin to  1.860e+02 [aplpy.core]\n",
        "INFO: Auto-setting vmax to  9.590e+02 [aplpy.core]\n",
        "135 of 423 \t cpt1m010-kb70-20141217-0108-e90.fits"
       ]
      },
      {
       "output_type": "stream",
       "stream": "stdout",
       "text": [
        "\n",
        "INFO"
       ]
      },
      {
       "output_type": "stream",
       "stream": "stderr",
       "text": [
        "INFO:astropy:Auto-setting vmin to  1.836e+02\n"
       ]
      },
      {
       "output_type": "stream",
       "stream": "stderr",
       "text": [
        "INFO:astropy:Auto-setting vmax to  9.712e+02\n"
       ]
      },
      {
       "output_type": "stream",
       "stream": "stdout",
       "text": [
        ": Auto-setting vmin to  1.836e+02 [aplpy.core]\n",
        "INFO: Auto-setting vmax to  9.712e+02 [aplpy.core]\n",
        "136 of 423 \t cpt1m010-kb70-20141217-0109-e90.fits"
       ]
      },
      {
       "output_type": "stream",
       "stream": "stdout",
       "text": [
        "\n",
        "INFO"
       ]
      },
      {
       "output_type": "stream",
       "stream": "stderr",
       "text": [
        "INFO:astropy:Auto-setting vmin to  1.835e+02\n"
       ]
      },
      {
       "output_type": "stream",
       "stream": "stderr",
       "text": [
        "INFO:astropy:Auto-setting vmax to  9.755e+02\n"
       ]
      },
      {
       "output_type": "stream",
       "stream": "stdout",
       "text": [
        ": Auto-setting vmin to  1.835e+02 [aplpy.core]\n",
        "INFO: Auto-setting vmax to  9.755e+02 [aplpy.core]\n",
        "137 of 423 \t cpt1m010-kb70-20141217-0110-e90.fits"
       ]
      },
      {
       "output_type": "stream",
       "stream": "stdout",
       "text": [
        "\n",
        "INFO"
       ]
      },
      {
       "output_type": "stream",
       "stream": "stderr",
       "text": [
        "INFO:astropy:Auto-setting vmin to  1.767e+02\n"
       ]
      },
      {
       "output_type": "stream",
       "stream": "stderr",
       "text": [
        "INFO:astropy:Auto-setting vmax to  9.734e+02\n"
       ]
      },
      {
       "output_type": "stream",
       "stream": "stdout",
       "text": [
        ": Auto-setting vmin to  1.767e+02 [aplpy.core]\n",
        "INFO: Auto-setting vmax to  9.734e+02 [aplpy.core]\n",
        "138 of 423 \t cpt1m010-kb70-20141217-0111-e90.fits"
       ]
      },
      {
       "output_type": "stream",
       "stream": "stdout",
       "text": [
        "\n",
        "INFO"
       ]
      },
      {
       "output_type": "stream",
       "stream": "stderr",
       "text": [
        "INFO:astropy:Auto-setting vmin to  1.756e+02\n"
       ]
      },
      {
       "output_type": "stream",
       "stream": "stderr",
       "text": [
        "INFO:astropy:Auto-setting vmax to  9.703e+02\n"
       ]
      },
      {
       "output_type": "stream",
       "stream": "stdout",
       "text": [
        ": Auto-setting vmin to  1.756e+02 [aplpy.core]\n",
        "INFO: Auto-setting vmax to  9.703e+02 [aplpy.core]\n",
        "139 of 423 \t cpt1m010-kb70-20141217-0112-e90.fits"
       ]
      },
      {
       "output_type": "stream",
       "stream": "stdout",
       "text": [
        "\n",
        "INFO"
       ]
      },
      {
       "output_type": "stream",
       "stream": "stderr",
       "text": [
        "INFO:astropy:Auto-setting vmin to  1.771e+02\n"
       ]
      },
      {
       "output_type": "stream",
       "stream": "stderr",
       "text": [
        "INFO:astropy:Auto-setting vmax to  9.426e+02\n"
       ]
      },
      {
       "output_type": "stream",
       "stream": "stdout",
       "text": [
        ": Auto-setting vmin to  1.771e+02 [aplpy.core]\n",
        "INFO: Auto-setting vmax to  9.426e+02 [aplpy.core]\n",
        "140 of 423 \t cpt1m010-kb70-20141217-0113-e90.fits"
       ]
      },
      {
       "output_type": "stream",
       "stream": "stdout",
       "text": [
        "\n",
        "INFO"
       ]
      },
      {
       "output_type": "stream",
       "stream": "stderr",
       "text": [
        "INFO:astropy:Auto-setting vmin to  1.763e+02\n"
       ]
      },
      {
       "output_type": "stream",
       "stream": "stderr",
       "text": [
        "INFO:astropy:Auto-setting vmax to  9.191e+02\n"
       ]
      },
      {
       "output_type": "stream",
       "stream": "stdout",
       "text": [
        ": Auto-setting vmin to  1.763e+02 [aplpy.core]\n",
        "INFO: Auto-setting vmax to  9.191e+02 [aplpy.core]\n",
        "141 of 423 \t cpt1m010-kb70-20141217-0114-e90.fits"
       ]
      },
      {
       "output_type": "stream",
       "stream": "stdout",
       "text": [
        "\n",
        "INFO"
       ]
      },
      {
       "output_type": "stream",
       "stream": "stderr",
       "text": [
        "INFO:astropy:Auto-setting vmin to  1.747e+02\n"
       ]
      },
      {
       "output_type": "stream",
       "stream": "stderr",
       "text": [
        "INFO:astropy:Auto-setting vmax to  9.172e+02\n"
       ]
      },
      {
       "output_type": "stream",
       "stream": "stdout",
       "text": [
        ": Auto-setting vmin to  1.747e+02 [aplpy.core]\n",
        "INFO: Auto-setting vmax to  9.172e+02 [aplpy.core]\n",
        "142 of 423 \t cpt1m010-kb70-20141217-0115-e90.fits"
       ]
      },
      {
       "output_type": "stream",
       "stream": "stdout",
       "text": [
        "\n",
        "INFO"
       ]
      },
      {
       "output_type": "stream",
       "stream": "stderr",
       "text": [
        "INFO:astropy:Auto-setting vmin to  1.718e+02\n"
       ]
      },
      {
       "output_type": "stream",
       "stream": "stderr",
       "text": [
        "INFO:astropy:Auto-setting vmax to  9.133e+02\n"
       ]
      },
      {
       "output_type": "stream",
       "stream": "stdout",
       "text": [
        ": Auto-setting vmin to  1.718e+02 [aplpy.core]\n",
        "INFO: Auto-setting vmax to  9.133e+02 [aplpy.core]\n",
        "143 of 423 \t cpt1m010-kb70-20141217-0116-e90.fits"
       ]
      },
      {
       "output_type": "stream",
       "stream": "stdout",
       "text": [
        "\n",
        "INFO"
       ]
      },
      {
       "output_type": "stream",
       "stream": "stderr",
       "text": [
        "INFO:astropy:Auto-setting vmin to  1.722e+02\n"
       ]
      },
      {
       "output_type": "stream",
       "stream": "stderr",
       "text": [
        "INFO:astropy:Auto-setting vmax to  9.062e+02\n"
       ]
      },
      {
       "output_type": "stream",
       "stream": "stdout",
       "text": [
        ": Auto-setting vmin to  1.722e+02 [aplpy.core]\n",
        "INFO: Auto-setting vmax to  9.062e+02 [aplpy.core]\n",
        "144 of 423 \t cpt1m010-kb70-20141217-0117-e90.fits"
       ]
      },
      {
       "output_type": "stream",
       "stream": "stdout",
       "text": [
        "\n",
        "INFO"
       ]
      },
      {
       "output_type": "stream",
       "stream": "stderr",
       "text": [
        "INFO:astropy:Auto-setting vmin to  1.701e+02\n"
       ]
      },
      {
       "output_type": "stream",
       "stream": "stderr",
       "text": [
        "INFO:astropy:Auto-setting vmax to  9.101e+02\n"
       ]
      },
      {
       "output_type": "stream",
       "stream": "stdout",
       "text": [
        ": Auto-setting vmin to  1.701e+02 [aplpy.core]\n",
        "INFO: Auto-setting vmax to  9.101e+02 [aplpy.core]\n",
        "145 of 423 \t cpt1m010-kb70-20141217-0118-e90.fits"
       ]
      },
      {
       "output_type": "stream",
       "stream": "stdout",
       "text": [
        "\n",
        "INFO"
       ]
      },
      {
       "output_type": "stream",
       "stream": "stderr",
       "text": [
        "INFO:astropy:Auto-setting vmin to  1.654e+02\n"
       ]
      },
      {
       "output_type": "stream",
       "stream": "stderr",
       "text": [
        "INFO:astropy:Auto-setting vmax to  9.198e+02\n"
       ]
      },
      {
       "output_type": "stream",
       "stream": "stdout",
       "text": [
        ": Auto-setting vmin to  1.654e+02 [aplpy.core]\n",
        "INFO: Auto-setting vmax to  9.198e+02 [aplpy.core]\n",
        "146 of 423 \t cpt1m010-kb70-20141217-0119-e90.fits"
       ]
      },
      {
       "output_type": "stream",
       "stream": "stdout",
       "text": [
        "\n",
        "INFO"
       ]
      },
      {
       "output_type": "stream",
       "stream": "stderr",
       "text": [
        "INFO:astropy:Auto-setting vmin to  1.662e+02\n"
       ]
      },
      {
       "output_type": "stream",
       "stream": "stderr",
       "text": [
        "INFO:astropy:Auto-setting vmax to  9.078e+02\n"
       ]
      },
      {
       "output_type": "stream",
       "stream": "stdout",
       "text": [
        ": Auto-setting vmin to  1.662e+02 [aplpy.core]\n",
        "INFO: Auto-setting vmax to  9.078e+02 [aplpy.core]\n",
        "147 of 423 \t cpt1m010-kb70-20141217-0120-e90.fits"
       ]
      },
      {
       "output_type": "stream",
       "stream": "stdout",
       "text": [
        "\n",
        "INFO"
       ]
      },
      {
       "output_type": "stream",
       "stream": "stderr",
       "text": [
        "INFO:astropy:Auto-setting vmin to  1.635e+02\n"
       ]
      },
      {
       "output_type": "stream",
       "stream": "stderr",
       "text": [
        "INFO:astropy:Auto-setting vmax to  9.040e+02\n"
       ]
      },
      {
       "output_type": "stream",
       "stream": "stdout",
       "text": [
        ": Auto-setting vmin to  1.635e+02 [aplpy.core]\n",
        "INFO: Auto-setting vmax to  9.040e+02 [aplpy.core]\n",
        "148 of 423 \t cpt1m010-kb70-20141217-0121-e90.fits"
       ]
      },
      {
       "output_type": "stream",
       "stream": "stdout",
       "text": [
        "\n",
        "INFO"
       ]
      },
      {
       "output_type": "stream",
       "stream": "stderr",
       "text": [
        "INFO:astropy:Auto-setting vmin to  5.657e+01\n"
       ]
      },
      {
       "output_type": "stream",
       "stream": "stderr",
       "text": [
        "INFO:astropy:Auto-setting vmax to  6.301e+02\n"
       ]
      },
      {
       "output_type": "stream",
       "stream": "stdout",
       "text": [
        ": Auto-setting vmin to  5.657e+01 [aplpy.core]\n",
        "INFO: Auto-setting vmax to  6.301e+02 [aplpy.core]\n",
        "149 of 423 \t cpt1m010-kb70-20141217-0122-e90.fits"
       ]
      },
      {
       "output_type": "stream",
       "stream": "stdout",
       "text": [
        "\n",
        "INFO"
       ]
      },
      {
       "output_type": "stream",
       "stream": "stderr",
       "text": [
        "INFO:astropy:Auto-setting vmin to  1.596e+02\n"
       ]
      },
      {
       "output_type": "stream",
       "stream": "stderr",
       "text": [
        "INFO:astropy:Auto-setting vmax to  9.141e+02\n"
       ]
      },
      {
       "output_type": "stream",
       "stream": "stdout",
       "text": [
        ": Auto-setting vmin to  1.596e+02 [aplpy.core]\n",
        "INFO: Auto-setting vmax to  9.141e+02 [aplpy.core]\n",
        "150 of 423 \t cpt1m010-kb70-20141217-0123-e90.fits"
       ]
      },
      {
       "output_type": "stream",
       "stream": "stdout",
       "text": [
        "\n",
        "INFO"
       ]
      },
      {
       "output_type": "stream",
       "stream": "stderr",
       "text": [
        "INFO:astropy:Auto-setting vmin to  1.580e+02\n"
       ]
      },
      {
       "output_type": "stream",
       "stream": "stderr",
       "text": [
        "INFO:astropy:Auto-setting vmax to  9.035e+02\n"
       ]
      },
      {
       "output_type": "stream",
       "stream": "stdout",
       "text": [
        ": Auto-setting vmin to  1.580e+02 [aplpy.core]\n",
        "INFO: Auto-setting vmax to  9.035e+02 [aplpy.core]\n",
        "151 of 423 \t cpt1m010-kb70-20141217-0124-e90.fits"
       ]
      },
      {
       "output_type": "stream",
       "stream": "stdout",
       "text": [
        "\n",
        "INFO"
       ]
      },
      {
       "output_type": "stream",
       "stream": "stderr",
       "text": [
        "INFO:astropy:Auto-setting vmin to  1.537e+02\n"
       ]
      },
      {
       "output_type": "stream",
       "stream": "stderr",
       "text": [
        "INFO:astropy:Auto-setting vmax to  8.925e+02\n"
       ]
      },
      {
       "output_type": "stream",
       "stream": "stdout",
       "text": [
        ": Auto-setting vmin to  1.537e+02 [aplpy.core]\n",
        "INFO: Auto-setting vmax to  8.925e+02 [aplpy.core]\n",
        "152 of 423 \t cpt1m010-kb70-20141217-0125-e90.fits"
       ]
      },
      {
       "output_type": "stream",
       "stream": "stdout",
       "text": [
        "\n",
        "INFO"
       ]
      },
      {
       "output_type": "stream",
       "stream": "stderr",
       "text": [
        "INFO:astropy:Auto-setting vmin to  1.545e+02\n"
       ]
      },
      {
       "output_type": "stream",
       "stream": "stderr",
       "text": [
        "INFO:astropy:Auto-setting vmax to  9.038e+02\n"
       ]
      },
      {
       "output_type": "stream",
       "stream": "stdout",
       "text": [
        ": Auto-setting vmin to  1.545e+02 [aplpy.core]\n",
        "INFO: Auto-setting vmax to  9.038e+02 [aplpy.core]\n",
        "153 of 423 \t cpt1m010-kb70-20141217-0126-e90.fits"
       ]
      },
      {
       "output_type": "stream",
       "stream": "stdout",
       "text": [
        "\n",
        "INFO"
       ]
      },
      {
       "output_type": "stream",
       "stream": "stderr",
       "text": [
        "INFO:astropy:Auto-setting vmin to  1.543e+02\n"
       ]
      },
      {
       "output_type": "stream",
       "stream": "stderr",
       "text": [
        "INFO:astropy:Auto-setting vmax to  8.900e+02\n"
       ]
      },
      {
       "output_type": "stream",
       "stream": "stdout",
       "text": [
        ": Auto-setting vmin to  1.543e+02 [aplpy.core]\n",
        "INFO: Auto-setting vmax to  8.900e+02 [aplpy.core]\n",
        "154 of 423 \t cpt1m010-kb70-20141217-0127-e90.fits"
       ]
      },
      {
       "output_type": "stream",
       "stream": "stdout",
       "text": [
        "\n",
        "INFO"
       ]
      },
      {
       "output_type": "stream",
       "stream": "stderr",
       "text": [
        "INFO:astropy:Auto-setting vmin to  1.498e+02\n"
       ]
      },
      {
       "output_type": "stream",
       "stream": "stderr",
       "text": [
        "INFO:astropy:Auto-setting vmax to  9.013e+02\n"
       ]
      },
      {
       "output_type": "stream",
       "stream": "stdout",
       "text": [
        ": Auto-setting vmin to  1.498e+02 [aplpy.core]\n",
        "INFO: Auto-setting vmax to  9.013e+02 [aplpy.core]\n",
        "155 of 423 \t cpt1m010-kb70-20141217-0128-e90.fits"
       ]
      },
      {
       "output_type": "stream",
       "stream": "stdout",
       "text": [
        "\n",
        "INFO"
       ]
      },
      {
       "output_type": "stream",
       "stream": "stderr",
       "text": [
        "INFO:astropy:Auto-setting vmin to  1.450e+02\n"
       ]
      },
      {
       "output_type": "stream",
       "stream": "stderr",
       "text": [
        "INFO:astropy:Auto-setting vmax to  9.105e+02\n"
       ]
      },
      {
       "output_type": "stream",
       "stream": "stdout",
       "text": [
        ": Auto-setting vmin to  1.450e+02 [aplpy.core]\n",
        "INFO: Auto-setting vmax to  9.105e+02 [aplpy.core]\n",
        "156 of 423 \t cpt1m010-kb70-20141217-0129-e90.fits"
       ]
      },
      {
       "output_type": "stream",
       "stream": "stdout",
       "text": [
        "\n",
        "INFO"
       ]
      },
      {
       "output_type": "stream",
       "stream": "stderr",
       "text": [
        "INFO:astropy:Auto-setting vmin to  1.431e+02\n"
       ]
      },
      {
       "output_type": "stream",
       "stream": "stderr",
       "text": [
        "INFO:astropy:Auto-setting vmax to  9.108e+02\n"
       ]
      },
      {
       "output_type": "stream",
       "stream": "stdout",
       "text": [
        ": Auto-setting vmin to  1.431e+02 [aplpy.core]\n",
        "INFO: Auto-setting vmax to  9.108e+02 [aplpy.core]\n",
        "157 of 423 \t cpt1m010-kb70-20141217-0130-e90.fits"
       ]
      },
      {
       "output_type": "stream",
       "stream": "stdout",
       "text": [
        "\n",
        "INFO"
       ]
      },
      {
       "output_type": "stream",
       "stream": "stderr",
       "text": [
        "INFO:astropy:Auto-setting vmin to  1.412e+02\n"
       ]
      },
      {
       "output_type": "stream",
       "stream": "stderr",
       "text": [
        "INFO:astropy:Auto-setting vmax to  9.030e+02\n"
       ]
      },
      {
       "output_type": "stream",
       "stream": "stdout",
       "text": [
        ": Auto-setting vmin to  1.412e+02 [aplpy.core]\n",
        "INFO: Auto-setting vmax to  9.030e+02 [aplpy.core]\n",
        "158 of 423 \t cpt1m010-kb70-20141217-0131-e90.fits"
       ]
      },
      {
       "output_type": "stream",
       "stream": "stdout",
       "text": [
        "\n",
        "INFO"
       ]
      },
      {
       "output_type": "stream",
       "stream": "stderr",
       "text": [
        "INFO:astropy:Auto-setting vmin to  1.426e+02\n"
       ]
      },
      {
       "output_type": "stream",
       "stream": "stderr",
       "text": [
        "INFO:astropy:Auto-setting vmax to  8.821e+02\n"
       ]
      },
      {
       "output_type": "stream",
       "stream": "stdout",
       "text": [
        ": Auto-setting vmin to  1.426e+02 [aplpy.core]\n",
        "INFO: Auto-setting vmax to  8.821e+02 [aplpy.core]\n",
        "159 of 423 \t cpt1m010-kb70-20141217-0132-e90.fits"
       ]
      },
      {
       "output_type": "stream",
       "stream": "stdout",
       "text": [
        "\n",
        "INFO"
       ]
      },
      {
       "output_type": "stream",
       "stream": "stderr",
       "text": [
        "INFO:astropy:Auto-setting vmin to  1.398e+02\n"
       ]
      },
      {
       "output_type": "stream",
       "stream": "stderr",
       "text": [
        "INFO:astropy:Auto-setting vmax to  9.360e+02\n"
       ]
      },
      {
       "output_type": "stream",
       "stream": "stdout",
       "text": [
        ": Auto-setting vmin to  1.398e+02 [aplpy.core]\n",
        "INFO: Auto-setting vmax to  9.360e+02 [aplpy.core]\n",
        "160 of 423 \t cpt1m010-kb70-20141217-0133-e90.fits"
       ]
      },
      {
       "output_type": "stream",
       "stream": "stdout",
       "text": [
        "\n",
        "INFO"
       ]
      },
      {
       "output_type": "stream",
       "stream": "stderr",
       "text": [
        "INFO:astropy:Auto-setting vmin to  1.451e+02\n"
       ]
      },
      {
       "output_type": "stream",
       "stream": "stderr",
       "text": [
        "INFO:astropy:Auto-setting vmax to  9.038e+02\n"
       ]
      },
      {
       "output_type": "stream",
       "stream": "stdout",
       "text": [
        ": Auto-setting vmin to  1.451e+02 [aplpy.core]\n",
        "INFO: Auto-setting vmax to  9.038e+02 [aplpy.core]\n",
        "161 of 423 \t cpt1m010-kb70-20141217-0134-e90.fits"
       ]
      },
      {
       "output_type": "stream",
       "stream": "stdout",
       "text": [
        "\n",
        "INFO"
       ]
      },
      {
       "output_type": "stream",
       "stream": "stderr",
       "text": [
        "INFO:astropy:Auto-setting vmin to  1.502e+02\n"
       ]
      },
      {
       "output_type": "stream",
       "stream": "stderr",
       "text": [
        "INFO:astropy:Auto-setting vmax to  8.962e+02\n"
       ]
      },
      {
       "output_type": "stream",
       "stream": "stdout",
       "text": [
        ": Auto-setting vmin to  1.502e+02 [aplpy.core]\n",
        "INFO: Auto-setting vmax to  8.962e+02 [aplpy.core]\n",
        "162 of 423 \t cpt1m010-kb70-20141217-0135-e90.fits"
       ]
      },
      {
       "output_type": "stream",
       "stream": "stdout",
       "text": [
        "\n",
        "INFO"
       ]
      },
      {
       "output_type": "stream",
       "stream": "stderr",
       "text": [
        "INFO:astropy:Auto-setting vmin to  1.517e+02\n"
       ]
      },
      {
       "output_type": "stream",
       "stream": "stderr",
       "text": [
        "INFO:astropy:Auto-setting vmax to  8.942e+02\n"
       ]
      },
      {
       "output_type": "stream",
       "stream": "stdout",
       "text": [
        ": Auto-setting vmin to  1.517e+02 [aplpy.core]\n",
        "INFO: Auto-setting vmax to  8.942e+02 [aplpy.core]\n",
        "163 of 423 \t cpt1m010-kb70-20141217-0136-e90.fits"
       ]
      },
      {
       "output_type": "stream",
       "stream": "stdout",
       "text": [
        "\n",
        "INFO"
       ]
      },
      {
       "output_type": "stream",
       "stream": "stderr",
       "text": [
        "INFO:astropy:Auto-setting vmin to  1.542e+02\n"
       ]
      },
      {
       "output_type": "stream",
       "stream": "stderr",
       "text": [
        "INFO:astropy:Auto-setting vmax to  8.849e+02\n"
       ]
      },
      {
       "output_type": "stream",
       "stream": "stdout",
       "text": [
        ": Auto-setting vmin to  1.542e+02 [aplpy.core]\n",
        "INFO: Auto-setting vmax to  8.849e+02 [aplpy.core]\n",
        "164 of 423 \t cpt1m010-kb70-20141217-0137-e90.fits"
       ]
      },
      {
       "output_type": "stream",
       "stream": "stdout",
       "text": [
        "\n",
        "INFO"
       ]
      },
      {
       "output_type": "stream",
       "stream": "stderr",
       "text": [
        "INFO:astropy:Auto-setting vmin to  1.545e+02\n"
       ]
      },
      {
       "output_type": "stream",
       "stream": "stderr",
       "text": [
        "INFO:astropy:Auto-setting vmax to  8.960e+02\n"
       ]
      },
      {
       "output_type": "stream",
       "stream": "stdout",
       "text": [
        ": Auto-setting vmin to  1.545e+02 [aplpy.core]\n",
        "INFO: Auto-setting vmax to  8.960e+02 [aplpy.core]\n",
        "165 of 423 \t cpt1m010-kb70-20141217-0138-e90.fits"
       ]
      },
      {
       "output_type": "stream",
       "stream": "stdout",
       "text": [
        "\n",
        "INFO"
       ]
      },
      {
       "output_type": "stream",
       "stream": "stderr",
       "text": [
        "INFO:astropy:Auto-setting vmin to  1.551e+02\n"
       ]
      },
      {
       "output_type": "stream",
       "stream": "stderr",
       "text": [
        "INFO:astropy:Auto-setting vmax to  9.011e+02\n"
       ]
      },
      {
       "output_type": "stream",
       "stream": "stdout",
       "text": [
        ": Auto-setting vmin to  1.551e+02 [aplpy.core]\n",
        "INFO: Auto-setting vmax to  9.011e+02 [aplpy.core]\n",
        "166 of 423 \t cpt1m010-kb70-20141217-0139-e90.fits"
       ]
      },
      {
       "output_type": "stream",
       "stream": "stdout",
       "text": [
        "\n",
        "INFO"
       ]
      },
      {
       "output_type": "stream",
       "stream": "stderr",
       "text": [
        "INFO:astropy:Auto-setting vmin to  6.406e+01\n"
       ]
      },
      {
       "output_type": "stream",
       "stream": "stderr",
       "text": [
        "INFO:astropy:Auto-setting vmax to  5.937e+02\n"
       ]
      },
      {
       "output_type": "stream",
       "stream": "stdout",
       "text": [
        ": Auto-setting vmin to  6.406e+01 [aplpy.core]\n",
        "INFO: Auto-setting vmax to  5.937e+02 [aplpy.core]\n",
        "167 of 423 \t cpt1m010-kb70-20141217-0140-e90.fits"
       ]
      },
      {
       "output_type": "stream",
       "stream": "stdout",
       "text": [
        "\n",
        "INFO"
       ]
      },
      {
       "output_type": "stream",
       "stream": "stderr",
       "text": [
        "INFO:astropy:Auto-setting vmin to  1.678e+02\n"
       ]
      },
      {
       "output_type": "stream",
       "stream": "stderr",
       "text": [
        "INFO:astropy:Auto-setting vmax to  8.856e+02\n"
       ]
      },
      {
       "output_type": "stream",
       "stream": "stdout",
       "text": [
        ": Auto-setting vmin to  1.678e+02 [aplpy.core]\n",
        "INFO: Auto-setting vmax to  8.856e+02 [aplpy.core]\n",
        "168 of 423 \t cpt1m010-kb70-20141217-0141-e90.fits"
       ]
      },
      {
       "output_type": "stream",
       "stream": "stdout",
       "text": [
        "\n",
        "INFO"
       ]
      },
      {
       "output_type": "stream",
       "stream": "stderr",
       "text": [
        "INFO:astropy:Auto-setting vmin to  1.682e+02\n"
       ]
      },
      {
       "output_type": "stream",
       "stream": "stderr",
       "text": [
        "INFO:astropy:Auto-setting vmax to  8.995e+02\n"
       ]
      },
      {
       "output_type": "stream",
       "stream": "stdout",
       "text": [
        ": Auto-setting vmin to  1.682e+02 [aplpy.core]\n",
        "INFO: Auto-setting vmax to  8.995e+02 [aplpy.core]\n",
        "169 of 423 \t cpt1m010-kb70-20141217-0142-e90.fits"
       ]
      },
      {
       "output_type": "stream",
       "stream": "stdout",
       "text": [
        "\n",
        "INFO"
       ]
      },
      {
       "output_type": "stream",
       "stream": "stderr",
       "text": [
        "INFO:astropy:Auto-setting vmin to  1.748e+02\n"
       ]
      },
      {
       "output_type": "stream",
       "stream": "stderr",
       "text": [
        "INFO:astropy:Auto-setting vmax to  8.853e+02\n"
       ]
      },
      {
       "output_type": "stream",
       "stream": "stdout",
       "text": [
        ": Auto-setting vmin to  1.748e+02 [aplpy.core]\n",
        "INFO: Auto-setting vmax to  8.853e+02 [aplpy.core]\n",
        "170 of 423 \t cpt1m010-kb70-20141217-0143-e90.fits"
       ]
      },
      {
       "output_type": "stream",
       "stream": "stdout",
       "text": [
        "\n",
        "INFO"
       ]
      },
      {
       "output_type": "stream",
       "stream": "stderr",
       "text": [
        "INFO:astropy:Auto-setting vmin to  1.820e+02\n"
       ]
      },
      {
       "output_type": "stream",
       "stream": "stderr",
       "text": [
        "INFO:astropy:Auto-setting vmax to  8.998e+02\n"
       ]
      },
      {
       "output_type": "stream",
       "stream": "stdout",
       "text": [
        ": Auto-setting vmin to  1.820e+02 [aplpy.core]\n",
        "INFO: Auto-setting vmax to  8.998e+02 [aplpy.core]\n",
        "171 of 423 \t cpt1m010-kb70-20141217-0144-e90.fits"
       ]
      },
      {
       "output_type": "stream",
       "stream": "stdout",
       "text": [
        "\n",
        "INFO"
       ]
      },
      {
       "output_type": "stream",
       "stream": "stderr",
       "text": [
        "INFO:astropy:Auto-setting vmin to  1.904e+02\n"
       ]
      },
      {
       "output_type": "stream",
       "stream": "stderr",
       "text": [
        "INFO:astropy:Auto-setting vmax to  8.778e+02\n"
       ]
      },
      {
       "output_type": "stream",
       "stream": "stdout",
       "text": [
        ": Auto-setting vmin to  1.904e+02 [aplpy.core]\n",
        "INFO: Auto-setting vmax to  8.778e+02 [aplpy.core]\n",
        "172 of 423 \t cpt1m010-kb70-20141217-0145-e90.fits"
       ]
      },
      {
       "output_type": "stream",
       "stream": "stdout",
       "text": [
        "\n",
        "INFO"
       ]
      },
      {
       "output_type": "stream",
       "stream": "stderr",
       "text": [
        "INFO:astropy:Auto-setting vmin to  1.987e+02\n"
       ]
      },
      {
       "output_type": "stream",
       "stream": "stderr",
       "text": [
        "INFO:astropy:Auto-setting vmax to  8.844e+02\n"
       ]
      },
      {
       "output_type": "stream",
       "stream": "stdout",
       "text": [
        ": Auto-setting vmin to  1.987e+02 [aplpy.core]\n",
        "INFO: Auto-setting vmax to  8.844e+02 [aplpy.core]\n",
        "173 of 423 \t cpt1m010-kb70-20141217-0146-e90.fits"
       ]
      },
      {
       "output_type": "stream",
       "stream": "stdout",
       "text": [
        "\n",
        "INFO"
       ]
      },
      {
       "output_type": "stream",
       "stream": "stderr",
       "text": [
        "INFO:astropy:Auto-setting vmin to  2.091e+02\n"
       ]
      },
      {
       "output_type": "stream",
       "stream": "stderr",
       "text": [
        "INFO:astropy:Auto-setting vmax to  8.843e+02\n"
       ]
      },
      {
       "output_type": "stream",
       "stream": "stdout",
       "text": [
        ": Auto-setting vmin to  2.091e+02 [aplpy.core]\n",
        "INFO: Auto-setting vmax to  8.843e+02 [aplpy.core]\n",
        "174 of 423 \t cpt1m010-kb70-20141217-0147-e90.fits"
       ]
      },
      {
       "output_type": "stream",
       "stream": "stdout",
       "text": [
        "\n",
        "INFO"
       ]
      },
      {
       "output_type": "stream",
       "stream": "stderr",
       "text": [
        "INFO:astropy:Auto-setting vmin to  2.219e+02\n"
       ]
      },
      {
       "output_type": "stream",
       "stream": "stderr",
       "text": [
        "INFO:astropy:Auto-setting vmax to  9.024e+02\n"
       ]
      },
      {
       "output_type": "stream",
       "stream": "stdout",
       "text": [
        ": Auto-setting vmin to  2.219e+02 [aplpy.core]\n",
        "INFO: Auto-setting vmax to  9.024e+02 [aplpy.core]\n",
        "175 of 423 \t lsc1m009-fl03-20141217-0010-e90.fits"
       ]
      },
      {
       "output_type": "stream",
       "stream": "stdout",
       "text": [
        "\n",
        "INFO"
       ]
      },
      {
       "output_type": "stream",
       "stream": "stderr",
       "text": [
        "INFO:astropy:Auto-setting vmin to -1.475e+04\n"
       ]
      },
      {
       "output_type": "stream",
       "stream": "stderr",
       "text": [
        "INFO:astropy:Auto-setting vmax to  8.786e+04\n"
       ]
      },
      {
       "output_type": "stream",
       "stream": "stdout",
       "text": [
        ": Auto-setting vmin to -1.475e+04 [aplpy.core]\n",
        "INFO: Auto-setting vmax to  8.786e+04 [aplpy.core]\n",
        "176 of 423 \t cpt1m010-kb70-20141217-0148-e90.fits"
       ]
      },
      {
       "output_type": "stream",
       "stream": "stdout",
       "text": [
        "\n",
        "INFO"
       ]
      },
      {
       "output_type": "stream",
       "stream": "stderr",
       "text": [
        "INFO:astropy:Auto-setting vmin to  2.295e+02\n"
       ]
      },
      {
       "output_type": "stream",
       "stream": "stderr",
       "text": [
        "INFO:astropy:Auto-setting vmax to  9.087e+02\n"
       ]
      },
      {
       "output_type": "stream",
       "stream": "stdout",
       "text": [
        ": Auto-setting vmin to  2.295e+02 [aplpy.core]\n",
        "INFO: Auto-setting vmax to  9.087e+02 [aplpy.core]\n",
        "177 of 423 \t cpt1m010-kb70-20141217-0149-e90.fits"
       ]
      },
      {
       "output_type": "stream",
       "stream": "stdout",
       "text": [
        "\n",
        "INFO"
       ]
      },
      {
       "output_type": "stream",
       "stream": "stderr",
       "text": [
        "INFO:astropy:Auto-setting vmin to  2.404e+02\n"
       ]
      },
      {
       "output_type": "stream",
       "stream": "stderr",
       "text": [
        "INFO:astropy:Auto-setting vmax to  9.321e+02\n"
       ]
      },
      {
       "output_type": "stream",
       "stream": "stdout",
       "text": [
        ": Auto-setting vmin to  2.404e+02 [aplpy.core]\n",
        "INFO: Auto-setting vmax to  9.321e+02 [aplpy.core]\n",
        "178 of 423 \t lsc1m009-fl03-20141217-0011-e90.fits"
       ]
      },
      {
       "output_type": "stream",
       "stream": "stdout",
       "text": [
        "\n",
        "INFO"
       ]
      },
      {
       "output_type": "stream",
       "stream": "stderr",
       "text": [
        "INFO:astropy:Auto-setting vmin to -1.546e+04\n"
       ]
      },
      {
       "output_type": "stream",
       "stream": "stderr",
       "text": [
        "INFO:astropy:Auto-setting vmax to  8.676e+04\n"
       ]
      },
      {
       "output_type": "stream",
       "stream": "stdout",
       "text": [
        ": Auto-setting vmin to -1.546e+04 [aplpy.core]\n",
        "INFO: Auto-setting vmax to  8.676e+04 [aplpy.core]\n",
        "179 of 423 \t cpt1m010-kb70-20141217-0150-e90.fits"
       ]
      },
      {
       "output_type": "stream",
       "stream": "stdout",
       "text": [
        "\n",
        "INFO"
       ]
      },
      {
       "output_type": "stream",
       "stream": "stderr",
       "text": [
        "INFO:astropy:Auto-setting vmin to  2.495e+02\n"
       ]
      },
      {
       "output_type": "stream",
       "stream": "stderr",
       "text": [
        "INFO:astropy:Auto-setting vmax to  9.391e+02\n"
       ]
      },
      {
       "output_type": "stream",
       "stream": "stdout",
       "text": [
        ": Auto-setting vmin to  2.495e+02 [aplpy.core]\n",
        "INFO: Auto-setting vmax to  9.391e+02 [aplpy.core]\n",
        "180 of 423 \t lsc1m009-fl03-20141217-0012-e90.fits"
       ]
      },
      {
       "output_type": "stream",
       "stream": "stdout",
       "text": [
        "\n",
        "INFO"
       ]
      },
      {
       "output_type": "stream",
       "stream": "stderr",
       "text": [
        "INFO:astropy:Auto-setting vmin to -1.575e+04\n"
       ]
      },
      {
       "output_type": "stream",
       "stream": "stderr",
       "text": [
        "INFO:astropy:Auto-setting vmax to  8.526e+04\n"
       ]
      },
      {
       "output_type": "stream",
       "stream": "stdout",
       "text": [
        ": Auto-setting vmin to -1.575e+04 [aplpy.core]\n",
        "INFO: Auto-setting vmax to  8.526e+04 [aplpy.core]\n",
        "181 of 423 \t cpt1m010-kb70-20141217-0151-e90.fits"
       ]
      },
      {
       "output_type": "stream",
       "stream": "stdout",
       "text": [
        "\n",
        "INFO"
       ]
      },
      {
       "output_type": "stream",
       "stream": "stderr",
       "text": [
        "INFO:astropy:Auto-setting vmin to  2.511e+02\n"
       ]
      },
      {
       "output_type": "stream",
       "stream": "stderr",
       "text": [
        "INFO:astropy:Auto-setting vmax to  9.669e+02\n"
       ]
      },
      {
       "output_type": "stream",
       "stream": "stdout",
       "text": [
        ": Auto-setting vmin to  2.511e+02 [aplpy.core]\n",
        "INFO: Auto-setting vmax to  9.669e+02 [aplpy.core]\n",
        "182 of 423 \t lsc1m009-fl03-20141217-0013-e90.fits"
       ]
      },
      {
       "output_type": "stream",
       "stream": "stdout",
       "text": [
        "\n",
        "INFO"
       ]
      },
      {
       "output_type": "stream",
       "stream": "stderr",
       "text": [
        "INFO:astropy:Auto-setting vmin to -1.585e+04\n"
       ]
      },
      {
       "output_type": "stream",
       "stream": "stderr",
       "text": [
        "INFO:astropy:Auto-setting vmax to  8.400e+04\n"
       ]
      },
      {
       "output_type": "stream",
       "stream": "stdout",
       "text": [
        ": Auto-setting vmin to -1.585e+04 [aplpy.core]\n",
        "INFO: Auto-setting vmax to  8.400e+04 [aplpy.core]\n",
        "183 of 423 \t cpt1m010-kb70-20141217-0152-e90.fits"
       ]
      },
      {
       "output_type": "stream",
       "stream": "stdout",
       "text": [
        "\n",
        "INFO"
       ]
      },
      {
       "output_type": "stream",
       "stream": "stderr",
       "text": [
        "INFO:astropy:Auto-setting vmin to  2.628e+02\n"
       ]
      },
      {
       "output_type": "stream",
       "stream": "stderr",
       "text": [
        "INFO:astropy:Auto-setting vmax to  9.710e+02\n"
       ]
      },
      {
       "output_type": "stream",
       "stream": "stdout",
       "text": [
        ": Auto-setting vmin to  2.628e+02 [aplpy.core]\n",
        "INFO: Auto-setting vmax to  9.710e+02 [aplpy.core]\n",
        "184 of 423 \t lsc1m009-fl03-20141217-0014-e90.fits"
       ]
      },
      {
       "output_type": "stream",
       "stream": "stdout",
       "text": [
        "\n",
        "INFO"
       ]
      },
      {
       "output_type": "stream",
       "stream": "stderr",
       "text": [
        "INFO:astropy:Auto-setting vmin to -1.578e+04\n"
       ]
      },
      {
       "output_type": "stream",
       "stream": "stderr",
       "text": [
        "INFO:astropy:Auto-setting vmax to  8.295e+04\n"
       ]
      },
      {
       "output_type": "stream",
       "stream": "stdout",
       "text": [
        ": Auto-setting vmin to -1.578e+04 [aplpy.core]\n",
        "INFO: Auto-setting vmax to  8.295e+04 [aplpy.core]\n",
        "185 of 423 \t cpt1m010-kb70-20141217-0153-e90.fits"
       ]
      },
      {
       "output_type": "stream",
       "stream": "stdout",
       "text": [
        "\n",
        "INFO"
       ]
      },
      {
       "output_type": "stream",
       "stream": "stderr",
       "text": [
        "INFO:astropy:Auto-setting vmin to  2.652e+02\n"
       ]
      },
      {
       "output_type": "stream",
       "stream": "stderr",
       "text": [
        "INFO:astropy:Auto-setting vmax to  9.928e+02\n"
       ]
      },
      {
       "output_type": "stream",
       "stream": "stdout",
       "text": [
        ": Auto-setting vmin to  2.652e+02 [aplpy.core]\n",
        "INFO: Auto-setting vmax to  9.928e+02 [aplpy.core]\n",
        "186 of 423 \t lsc1m009-fl03-20141217-0015-e90.fits"
       ]
      },
      {
       "output_type": "stream",
       "stream": "stdout",
       "text": [
        "\n",
        "INFO"
       ]
      },
      {
       "output_type": "stream",
       "stream": "stderr",
       "text": [
        "INFO:astropy:Auto-setting vmin to -1.518e+04\n"
       ]
      },
      {
       "output_type": "stream",
       "stream": "stderr",
       "text": [
        "INFO:astropy:Auto-setting vmax to  7.601e+04\n"
       ]
      },
      {
       "output_type": "stream",
       "stream": "stdout",
       "text": [
        ": Auto-setting vmin to -1.518e+04 [aplpy.core]\n",
        "INFO: Auto-setting vmax to  7.601e+04 [aplpy.core]\n",
        "187 of 423 \t cpt1m010-kb70-20141217-0154-e90.fits"
       ]
      },
      {
       "output_type": "stream",
       "stream": "stdout",
       "text": [
        "\n",
        "INFO"
       ]
      },
      {
       "output_type": "stream",
       "stream": "stderr",
       "text": [
        "INFO:astropy:Auto-setting vmin to  2.725e+02\n"
       ]
      },
      {
       "output_type": "stream",
       "stream": "stderr",
       "text": [
        "INFO:astropy:Auto-setting vmax to  1.022e+03\n"
       ]
      },
      {
       "output_type": "stream",
       "stream": "stdout",
       "text": [
        ": Auto-setting vmin to  2.725e+02 [aplpy.core]\n",
        "INFO: Auto-setting vmax to  1.022e+03 [aplpy.core]\n",
        "188 of 423 \t lsc1m009-fl03-20141217-0016-e90.fits"
       ]
      },
      {
       "output_type": "stream",
       "stream": "stdout",
       "text": [
        "\n",
        "INFO"
       ]
      },
      {
       "output_type": "stream",
       "stream": "stderr",
       "text": [
        "INFO:astropy:Auto-setting vmin to -1.439e+04\n"
       ]
      },
      {
       "output_type": "stream",
       "stream": "stderr",
       "text": [
        "INFO:astropy:Auto-setting vmax to  5.293e+04\n"
       ]
      },
      {
       "output_type": "stream",
       "stream": "stdout",
       "text": [
        ": Auto-setting vmin to -1.439e+04 [aplpy.core]\n",
        "INFO: Auto-setting vmax to  5.293e+04 [aplpy.core]\n",
        "189 of 423 \t cpt1m010-kb70-20141217-0155-e90.fits"
       ]
      },
      {
       "output_type": "stream",
       "stream": "stdout",
       "text": [
        "\n",
        "INFO"
       ]
      },
      {
       "output_type": "stream",
       "stream": "stderr",
       "text": [
        "INFO:astropy:Auto-setting vmin to  2.850e+02\n"
       ]
      },
      {
       "output_type": "stream",
       "stream": "stderr",
       "text": [
        "INFO:astropy:Auto-setting vmax to  1.028e+03\n"
       ]
      },
      {
       "output_type": "stream",
       "stream": "stdout",
       "text": [
        ": Auto-setting vmin to  2.850e+02 [aplpy.core]\n",
        "INFO: Auto-setting vmax to  1.028e+03 [aplpy.core]\n",
        "190 of 423 \t lsc1m009-fl03-20141217-0017-e90.fits"
       ]
      },
      {
       "output_type": "stream",
       "stream": "stdout",
       "text": [
        "\n",
        "INFO"
       ]
      },
      {
       "output_type": "stream",
       "stream": "stderr",
       "text": [
        "INFO:astropy:Auto-setting vmin to -1.508e+04\n"
       ]
      },
      {
       "output_type": "stream",
       "stream": "stderr",
       "text": [
        "INFO:astropy:Auto-setting vmax to  7.547e+04\n"
       ]
      },
      {
       "output_type": "stream",
       "stream": "stdout",
       "text": [
        ": Auto-setting vmin to -1.508e+04 [aplpy.core]\n",
        "INFO: Auto-setting vmax to  7.547e+04 [aplpy.core]\n",
        "191 of 423 \t cpt1m010-kb70-20141217-0156-e90.fits"
       ]
      },
      {
       "output_type": "stream",
       "stream": "stdout",
       "text": [
        "\n",
        "INFO"
       ]
      },
      {
       "output_type": "stream",
       "stream": "stderr",
       "text": [
        "INFO:astropy:Auto-setting vmin to  2.930e+02\n"
       ]
      },
      {
       "output_type": "stream",
       "stream": "stderr",
       "text": [
        "INFO:astropy:Auto-setting vmax to  1.052e+03\n"
       ]
      },
      {
       "output_type": "stream",
       "stream": "stdout",
       "text": [
        ": Auto-setting vmin to  2.930e+02 [aplpy.core]\n",
        "INFO: Auto-setting vmax to  1.052e+03 [aplpy.core]\n",
        "192 of 423 \t lsc1m009-fl03-20141217-0018-e90.fits"
       ]
      },
      {
       "output_type": "stream",
       "stream": "stdout",
       "text": [
        "\n",
        "INFO"
       ]
      },
      {
       "output_type": "stream",
       "stream": "stderr",
       "text": [
        "INFO:astropy:Auto-setting vmin to -1.527e+04\n"
       ]
      },
      {
       "output_type": "stream",
       "stream": "stderr",
       "text": [
        "INFO:astropy:Auto-setting vmax to  7.657e+04\n"
       ]
      },
      {
       "output_type": "stream",
       "stream": "stdout",
       "text": [
        ": Auto-setting vmin to -1.527e+04 [aplpy.core]\n",
        "INFO: Auto-setting vmax to  7.657e+04 [aplpy.core]\n",
        "193 of 423 \t cpt1m010-kb70-20141217-0157-e90.fits"
       ]
      },
      {
       "output_type": "stream",
       "stream": "stdout",
       "text": [
        "\n",
        "INFO"
       ]
      },
      {
       "output_type": "stream",
       "stream": "stderr",
       "text": [
        "INFO:astropy:Auto-setting vmin to  3.061e+02\n"
       ]
      },
      {
       "output_type": "stream",
       "stream": "stderr",
       "text": [
        "INFO:astropy:Auto-setting vmax to  1.074e+03\n"
       ]
      },
      {
       "output_type": "stream",
       "stream": "stdout",
       "text": [
        ": Auto-setting vmin to  3.061e+02 [aplpy.core]\n",
        "INFO: Auto-setting vmax to  1.074e+03 [aplpy.core]\n",
        "194 of 423 \t lsc1m009-fl03-20141217-0019-e90.fits"
       ]
      },
      {
       "output_type": "stream",
       "stream": "stdout",
       "text": [
        "\n",
        "INFO"
       ]
      },
      {
       "output_type": "stream",
       "stream": "stderr",
       "text": [
        "INFO:astropy:Auto-setting vmin to -1.522e+04\n"
       ]
      },
      {
       "output_type": "stream",
       "stream": "stderr",
       "text": [
        "INFO:astropy:Auto-setting vmax to  7.769e+04\n"
       ]
      },
      {
       "output_type": "stream",
       "stream": "stdout",
       "text": [
        ": Auto-setting vmin to -1.522e+04 [aplpy.core]\n",
        "INFO: Auto-setting vmax to  7.769e+04 [aplpy.core]\n",
        "195 of 423 \t cpt1m010-kb70-20141217-0158-e90.fits"
       ]
      },
      {
       "output_type": "stream",
       "stream": "stdout",
       "text": [
        "\n",
        "INFO"
       ]
      },
      {
       "output_type": "stream",
       "stream": "stderr",
       "text": [
        "INFO:astropy:Auto-setting vmin to  3.204e+02\n"
       ]
      },
      {
       "output_type": "stream",
       "stream": "stderr",
       "text": [
        "INFO:astropy:Auto-setting vmax to  1.121e+03\n"
       ]
      },
      {
       "output_type": "stream",
       "stream": "stdout",
       "text": [
        ": Auto-setting vmin to  3.204e+02 [aplpy.core]\n",
        "INFO: Auto-setting vmax to  1.121e+03 [aplpy.core]\n",
        "196 of 423 \t lsc1m009-fl03-20141217-0020-e90.fits"
       ]
      },
      {
       "output_type": "stream",
       "stream": "stdout",
       "text": [
        "\n",
        "INFO"
       ]
      },
      {
       "output_type": "stream",
       "stream": "stderr",
       "text": [
        "INFO:astropy:Auto-setting vmin to -1.578e+04\n"
       ]
      },
      {
       "output_type": "stream",
       "stream": "stderr",
       "text": [
        "INFO:astropy:Auto-setting vmax to  8.204e+04\n"
       ]
      },
      {
       "output_type": "stream",
       "stream": "stdout",
       "text": [
        ": Auto-setting vmin to -1.578e+04 [aplpy.core]\n",
        "INFO: Auto-setting vmax to  8.204e+04 [aplpy.core]\n",
        "197 of 423 \t cpt1m010-kb70-20141217-0159-e90.fits"
       ]
      },
      {
       "output_type": "stream",
       "stream": "stdout",
       "text": [
        "\n",
        "INFO"
       ]
      },
      {
       "output_type": "stream",
       "stream": "stderr",
       "text": [
        "INFO:astropy:Auto-setting vmin to  3.335e+02\n"
       ]
      },
      {
       "output_type": "stream",
       "stream": "stderr",
       "text": [
        "INFO:astropy:Auto-setting vmax to  1.158e+03\n"
       ]
      },
      {
       "output_type": "stream",
       "stream": "stdout",
       "text": [
        ": Auto-setting vmin to  3.335e+02 [aplpy.core]\n",
        "INFO: Auto-setting vmax to  1.158e+03 [aplpy.core]\n",
        "198 of 423 \t lsc1m009-fl03-20141217-0021-e90.fits"
       ]
      },
      {
       "output_type": "stream",
       "stream": "stdout",
       "text": [
        "\n",
        "INFO"
       ]
      },
      {
       "output_type": "stream",
       "stream": "stderr",
       "text": [
        "INFO:astropy:Auto-setting vmin to -1.597e+04\n"
       ]
      },
      {
       "output_type": "stream",
       "stream": "stderr",
       "text": [
        "INFO:astropy:Auto-setting vmax to  8.340e+04\n"
       ]
      },
      {
       "output_type": "stream",
       "stream": "stdout",
       "text": [
        ": Auto-setting vmin to -1.597e+04 [aplpy.core]\n",
        "INFO: Auto-setting vmax to  8.340e+04 [aplpy.core]\n",
        "199 of 423 \t cpt1m010-kb70-20141217-0160-e90.fits"
       ]
      },
      {
       "output_type": "stream",
       "stream": "stdout",
       "text": [
        "\n",
        "INFO"
       ]
      },
      {
       "output_type": "stream",
       "stream": "stderr",
       "text": [
        "INFO:astropy:Auto-setting vmin to  3.574e+02\n"
       ]
      },
      {
       "output_type": "stream",
       "stream": "stderr",
       "text": [
        "INFO:astropy:Auto-setting vmax to  1.205e+03\n"
       ]
      },
      {
       "output_type": "stream",
       "stream": "stdout",
       "text": [
        ": Auto-setting vmin to  3.574e+02 [aplpy.core]\n",
        "INFO: Auto-setting vmax to  1.205e+03 [aplpy.core]\n",
        "200 of 423 \t cpt1m010-kb70-20141217-0161-e90.fits"
       ]
      },
      {
       "output_type": "stream",
       "stream": "stdout",
       "text": [
        "\n",
        "INFO"
       ]
      },
      {
       "output_type": "stream",
       "stream": "stderr",
       "text": [
        "INFO:astropy:Auto-setting vmin to  3.997e+02\n"
       ]
      },
      {
       "output_type": "stream",
       "stream": "stderr",
       "text": [
        "INFO:astropy:Auto-setting vmax to  1.271e+03\n"
       ]
      },
      {
       "output_type": "stream",
       "stream": "stdout",
       "text": [
        ": Auto-setting vmin to  3.997e+02 [aplpy.core]\n",
        "INFO: Auto-setting vmax to  1.271e+03 [aplpy.core]\n",
        "201 of 423 \t lsc1m009-fl03-20141217-0022-e90.fits"
       ]
      },
      {
       "output_type": "stream",
       "stream": "stdout",
       "text": [
        "\n",
        "INFO"
       ]
      },
      {
       "output_type": "stream",
       "stream": "stderr",
       "text": [
        "INFO:astropy:Auto-setting vmin to -1.491e+04\n"
       ]
      },
      {
       "output_type": "stream",
       "stream": "stderr",
       "text": [
        "INFO:astropy:Auto-setting vmax to  7.223e+04\n"
       ]
      },
      {
       "output_type": "stream",
       "stream": "stdout",
       "text": [
        ": Auto-setting vmin to -1.491e+04 [aplpy.core]\n",
        "INFO: Auto-setting vmax to  7.223e+04 [aplpy.core]\n",
        "202 of 423 \t cpt1m010-kb70-20141217-0162-e90.fits"
       ]
      },
      {
       "output_type": "stream",
       "stream": "stdout",
       "text": [
        "\n",
        "INFO"
       ]
      },
      {
       "output_type": "stream",
       "stream": "stderr",
       "text": [
        "INFO:astropy:Auto-setting vmin to  4.945e+02\n"
       ]
      },
      {
       "output_type": "stream",
       "stream": "stderr",
       "text": [
        "INFO:astropy:Auto-setting vmax to  1.333e+03\n"
       ]
      },
      {
       "output_type": "stream",
       "stream": "stdout",
       "text": [
        ": Auto-setting vmin to  4.945e+02 [aplpy.core]\n",
        "INFO: Auto-setting vmax to  1.333e+03 [aplpy.core]\n",
        "203 of 423 \t lsc1m009-fl03-20141217-0023-e90.fits"
       ]
      },
      {
       "output_type": "stream",
       "stream": "stdout",
       "text": [
        "\n",
        "INFO"
       ]
      },
      {
       "output_type": "stream",
       "stream": "stderr",
       "text": [
        "INFO:astropy:Auto-setting vmin to -1.529e+04\n"
       ]
      },
      {
       "output_type": "stream",
       "stream": "stderr",
       "text": [
        "INFO:astropy:Auto-setting vmax to  7.674e+04\n"
       ]
      },
      {
       "output_type": "stream",
       "stream": "stdout",
       "text": [
        ": Auto-setting vmin to -1.529e+04 [aplpy.core]\n",
        "INFO: Auto-setting vmax to  7.674e+04 [aplpy.core]\n",
        "204 of 423 \t lsc1m009-fl03-20141217-0024-e90.fits"
       ]
      },
      {
       "output_type": "stream",
       "stream": "stdout",
       "text": [
        "\n",
        "INFO"
       ]
      },
      {
       "output_type": "stream",
       "stream": "stderr",
       "text": [
        "INFO:astropy:Auto-setting vmin to -1.570e+04\n"
       ]
      },
      {
       "output_type": "stream",
       "stream": "stderr",
       "text": [
        "INFO:astropy:Auto-setting vmax to  8.180e+04\n"
       ]
      },
      {
       "output_type": "stream",
       "stream": "stdout",
       "text": [
        ": Auto-setting vmin to -1.570e+04 [aplpy.core]\n",
        "INFO: Auto-setting vmax to  8.180e+04 [aplpy.core]\n",
        "205 of 423 \t lsc1m009-fl03-20141217-0025-e90.fits"
       ]
      },
      {
       "output_type": "stream",
       "stream": "stdout",
       "text": [
        "\n",
        "INFO"
       ]
      },
      {
       "output_type": "stream",
       "stream": "stderr",
       "text": [
        "INFO:astropy:Auto-setting vmin to -1.483e+04\n"
       ]
      },
      {
       "output_type": "stream",
       "stream": "stderr",
       "text": [
        "INFO:astropy:Auto-setting vmax to  7.183e+04\n"
       ]
      },
      {
       "output_type": "stream",
       "stream": "stdout",
       "text": [
        ": Auto-setting vmin to -1.483e+04 [aplpy.core]\n",
        "INFO: Auto-setting vmax to  7.183e+04 [aplpy.core]\n",
        "206 of 423 \t lsc1m009-fl03-20141217-0026-e90.fits"
       ]
      },
      {
       "output_type": "stream",
       "stream": "stdout",
       "text": [
        "\n",
        "INFO"
       ]
      },
      {
       "output_type": "stream",
       "stream": "stderr",
       "text": [
        "INFO:astropy:Auto-setting vmin to -1.512e+04\n"
       ]
      },
      {
       "output_type": "stream",
       "stream": "stderr",
       "text": [
        "INFO:astropy:Auto-setting vmax to  7.517e+04\n"
       ]
      },
      {
       "output_type": "stream",
       "stream": "stdout",
       "text": [
        ": Auto-setting vmin to -1.512e+04 [aplpy.core]\n",
        "INFO: Auto-setting vmax to  7.517e+04 [aplpy.core]\n",
        "207 of 423 \t lsc1m009-fl03-20141217-0027-e90.fits"
       ]
      },
      {
       "output_type": "stream",
       "stream": "stdout",
       "text": [
        "\n",
        "INFO"
       ]
      },
      {
       "output_type": "stream",
       "stream": "stderr",
       "text": [
        "INFO:astropy:Auto-setting vmin to -1.533e+04\n"
       ]
      },
      {
       "output_type": "stream",
       "stream": "stderr",
       "text": [
        "INFO:astropy:Auto-setting vmax to  7.611e+04\n"
       ]
      },
      {
       "output_type": "stream",
       "stream": "stdout",
       "text": [
        ": Auto-setting vmin to -1.533e+04 [aplpy.core]\n",
        "INFO: Auto-setting vmax to  7.611e+04 [aplpy.core]\n",
        "208 of 423 \t lsc1m009-fl03-20141217-0028-e90.fits"
       ]
      },
      {
       "output_type": "stream",
       "stream": "stdout",
       "text": [
        "\n",
        "INFO"
       ]
      },
      {
       "output_type": "stream",
       "stream": "stderr",
       "text": [
        "INFO:astropy:Auto-setting vmin to -1.523e+04\n"
       ]
      },
      {
       "output_type": "stream",
       "stream": "stderr",
       "text": [
        "INFO:astropy:Auto-setting vmax to  7.599e+04\n"
       ]
      },
      {
       "output_type": "stream",
       "stream": "stdout",
       "text": [
        ": Auto-setting vmin to -1.523e+04 [aplpy.core]\n",
        "INFO: Auto-setting vmax to  7.599e+04 [aplpy.core]\n",
        "209 of 423 \t lsc1m009-fl03-20141217-0029-e90.fits"
       ]
      },
      {
       "output_type": "stream",
       "stream": "stdout",
       "text": [
        "\n",
        "INFO"
       ]
      },
      {
       "output_type": "stream",
       "stream": "stderr",
       "text": [
        "INFO:astropy:Auto-setting vmin to -1.461e+04\n"
       ]
      },
      {
       "output_type": "stream",
       "stream": "stderr",
       "text": [
        "INFO:astropy:Auto-setting vmax to  5.638e+04\n"
       ]
      },
      {
       "output_type": "stream",
       "stream": "stdout",
       "text": [
        ": Auto-setting vmin to -1.461e+04 [aplpy.core]\n",
        "INFO: Auto-setting vmax to  5.638e+04 [aplpy.core]\n",
        "210 of 423 \t lsc1m009-fl03-20141217-0030-e90.fits"
       ]
      },
      {
       "output_type": "stream",
       "stream": "stdout",
       "text": [
        "\n",
        "INFO"
       ]
      },
      {
       "output_type": "stream",
       "stream": "stderr",
       "text": [
        "INFO:astropy:Auto-setting vmin to -1.603e+04\n"
       ]
      },
      {
       "output_type": "stream",
       "stream": "stderr",
       "text": [
        "INFO:astropy:Auto-setting vmax to  8.437e+04\n"
       ]
      },
      {
       "output_type": "stream",
       "stream": "stdout",
       "text": [
        ": Auto-setting vmin to -1.603e+04 [aplpy.core]\n",
        "INFO: Auto-setting vmax to  8.437e+04 [aplpy.core]\n",
        "211 of 423 \t lsc1m009-fl03-20141217-0031-e90.fits"
       ]
      },
      {
       "output_type": "stream",
       "stream": "stdout",
       "text": [
        "\n",
        "INFO"
       ]
      },
      {
       "output_type": "stream",
       "stream": "stderr",
       "text": [
        "INFO:astropy:Auto-setting vmin to -1.564e+04\n"
       ]
      },
      {
       "output_type": "stream",
       "stream": "stderr",
       "text": [
        "INFO:astropy:Auto-setting vmax to  8.158e+04\n"
       ]
      },
      {
       "output_type": "stream",
       "stream": "stdout",
       "text": [
        ": Auto-setting vmin to -1.564e+04 [aplpy.core]\n",
        "INFO: Auto-setting vmax to  8.158e+04 [aplpy.core]\n",
        "212 of 423 \t lsc1m009-fl03-20141217-0032-e90.fits"
       ]
      },
      {
       "output_type": "stream",
       "stream": "stdout",
       "text": [
        "\n",
        "INFO"
       ]
      },
      {
       "output_type": "stream",
       "stream": "stderr",
       "text": [
        "INFO:astropy:Auto-setting vmin to -1.581e+04\n"
       ]
      },
      {
       "output_type": "stream",
       "stream": "stderr",
       "text": [
        "INFO:astropy:Auto-setting vmax to  8.127e+04\n"
       ]
      },
      {
       "output_type": "stream",
       "stream": "stdout",
       "text": [
        ": Auto-setting vmin to -1.581e+04 [aplpy.core]\n",
        "INFO: Auto-setting vmax to  8.127e+04 [aplpy.core]\n",
        "213 of 423 \t lsc1m009-fl03-20141217-0033-e90.fits"
       ]
      },
      {
       "output_type": "stream",
       "stream": "stdout",
       "text": [
        "\n",
        "INFO"
       ]
      },
      {
       "output_type": "stream",
       "stream": "stderr",
       "text": [
        "INFO:astropy:Auto-setting vmin to -1.581e+04\n"
       ]
      },
      {
       "output_type": "stream",
       "stream": "stderr",
       "text": [
        "INFO:astropy:Auto-setting vmax to  8.069e+04\n"
       ]
      },
      {
       "output_type": "stream",
       "stream": "stdout",
       "text": [
        ": Auto-setting vmin to -1.581e+04 [aplpy.core]\n",
        "INFO: Auto-setting vmax to  8.069e+04 [aplpy.core]\n",
        "214 of 423 \t lsc1m009-fl03-20141217-0034-e90.fits"
       ]
      },
      {
       "output_type": "stream",
       "stream": "stdout",
       "text": [
        "\n",
        "INFO"
       ]
      },
      {
       "output_type": "stream",
       "stream": "stderr",
       "text": [
        "INFO:astropy:Auto-setting vmin to -1.646e+04\n"
       ]
      },
      {
       "output_type": "stream",
       "stream": "stderr",
       "text": [
        "INFO:astropy:Auto-setting vmax to  8.833e+04\n"
       ]
      },
      {
       "output_type": "stream",
       "stream": "stdout",
       "text": [
        ": Auto-setting vmin to -1.646e+04 [aplpy.core]\n",
        "INFO: Auto-setting vmax to  8.833e+04 [aplpy.core]\n",
        "215 of 423 \t lsc1m009-fl03-20141217-0035-e90.fits"
       ]
      },
      {
       "output_type": "stream",
       "stream": "stdout",
       "text": [
        "\n",
        "INFO"
       ]
      },
      {
       "output_type": "stream",
       "stream": "stderr",
       "text": [
        "INFO:astropy:Auto-setting vmin to -1.522e+04\n"
       ]
      },
      {
       "output_type": "stream",
       "stream": "stderr",
       "text": [
        "INFO:astropy:Auto-setting vmax to  7.424e+04\n"
       ]
      },
      {
       "output_type": "stream",
       "stream": "stdout",
       "text": [
        ": Auto-setting vmin to -1.522e+04 [aplpy.core]\n",
        "INFO: Auto-setting vmax to  7.424e+04 [aplpy.core]\n",
        "216 of 423 \t lsc1m009-fl03-20141217-0036-e90.fits"
       ]
      },
      {
       "output_type": "stream",
       "stream": "stdout",
       "text": [
        "\n",
        "INFO"
       ]
      },
      {
       "output_type": "stream",
       "stream": "stderr",
       "text": [
        "INFO:astropy:Auto-setting vmin to -1.530e+04\n"
       ]
      },
      {
       "output_type": "stream",
       "stream": "stderr",
       "text": [
        "INFO:astropy:Auto-setting vmax to  7.548e+04\n"
       ]
      },
      {
       "output_type": "stream",
       "stream": "stdout",
       "text": [
        ": Auto-setting vmin to -1.530e+04 [aplpy.core]\n",
        "INFO: Auto-setting vmax to  7.548e+04 [aplpy.core]\n",
        "217 of 423 \t lsc1m009-fl03-20141217-0037-e90.fits"
       ]
      },
      {
       "output_type": "stream",
       "stream": "stdout",
       "text": [
        "\n",
        "INFO"
       ]
      },
      {
       "output_type": "stream",
       "stream": "stderr",
       "text": [
        "INFO:astropy:Auto-setting vmin to -1.581e+04\n"
       ]
      },
      {
       "output_type": "stream",
       "stream": "stderr",
       "text": [
        "INFO:astropy:Auto-setting vmax to  8.191e+04\n"
       ]
      },
      {
       "output_type": "stream",
       "stream": "stdout",
       "text": [
        ": Auto-setting vmin to -1.581e+04 [aplpy.core]\n",
        "INFO: Auto-setting vmax to  8.191e+04 [aplpy.core]\n",
        "218 of 423 \t lsc1m009-fl03-20141217-0038-e90.fits"
       ]
      },
      {
       "output_type": "stream",
       "stream": "stdout",
       "text": [
        "\n",
        "INFO"
       ]
      },
      {
       "output_type": "stream",
       "stream": "stderr",
       "text": [
        "INFO:astropy:Auto-setting vmin to -1.532e+04\n"
       ]
      },
      {
       "output_type": "stream",
       "stream": "stderr",
       "text": [
        "INFO:astropy:Auto-setting vmax to  7.606e+04\n"
       ]
      },
      {
       "output_type": "stream",
       "stream": "stdout",
       "text": [
        ": Auto-setting vmin to -1.532e+04 [aplpy.core]\n",
        "INFO: Auto-setting vmax to  7.606e+04 [aplpy.core]\n",
        "219 of 423 \t lsc1m009-fl03-20141217-0039-e90.fits"
       ]
      },
      {
       "output_type": "stream",
       "stream": "stdout",
       "text": [
        "\n",
        "INFO"
       ]
      },
      {
       "output_type": "stream",
       "stream": "stderr",
       "text": [
        "INFO:astropy:Auto-setting vmin to -1.502e+04\n"
       ]
      },
      {
       "output_type": "stream",
       "stream": "stderr",
       "text": [
        "INFO:astropy:Auto-setting vmax to  7.238e+04\n"
       ]
      },
      {
       "output_type": "stream",
       "stream": "stdout",
       "text": [
        ": Auto-setting vmin to -1.502e+04 [aplpy.core]\n",
        "INFO: Auto-setting vmax to  7.238e+04 [aplpy.core]\n",
        "220 of 423 \t lsc1m009-fl03-20141217-0040-e90.fits"
       ]
      },
      {
       "output_type": "stream",
       "stream": "stdout",
       "text": [
        "\n",
        "INFO"
       ]
      },
      {
       "output_type": "stream",
       "stream": "stderr",
       "text": [
        "INFO:astropy:Auto-setting vmin to -1.483e+04\n"
       ]
      },
      {
       "output_type": "stream",
       "stream": "stderr",
       "text": [
        "INFO:astropy:Auto-setting vmax to  7.165e+04\n"
       ]
      },
      {
       "output_type": "stream",
       "stream": "stdout",
       "text": [
        ": Auto-setting vmin to -1.483e+04 [aplpy.core]\n",
        "INFO: Auto-setting vmax to  7.165e+04 [aplpy.core]\n",
        "221 of 423 \t lsc1m009-fl03-20141217-0041-e90.fits"
       ]
      },
      {
       "output_type": "stream",
       "stream": "stdout",
       "text": [
        "\n",
        "INFO"
       ]
      },
      {
       "output_type": "stream",
       "stream": "stderr",
       "text": [
        "INFO:astropy:Auto-setting vmin to -1.487e+04\n"
       ]
      },
      {
       "output_type": "stream",
       "stream": "stderr",
       "text": [
        "INFO:astropy:Auto-setting vmax to  7.047e+04\n"
       ]
      },
      {
       "output_type": "stream",
       "stream": "stdout",
       "text": [
        ": Auto-setting vmin to -1.487e+04 [aplpy.core]\n",
        "INFO: Auto-setting vmax to  7.047e+04 [aplpy.core]\n",
        "222 of 423 \t lsc1m009-fl03-20141217-0042-e90.fits"
       ]
      },
      {
       "output_type": "stream",
       "stream": "stdout",
       "text": [
        "\n",
        "INFO"
       ]
      },
      {
       "output_type": "stream",
       "stream": "stderr",
       "text": [
        "INFO:astropy:Auto-setting vmin to -1.492e+04\n"
       ]
      },
      {
       "output_type": "stream",
       "stream": "stderr",
       "text": [
        "INFO:astropy:Auto-setting vmax to  7.177e+04\n"
       ]
      },
      {
       "output_type": "stream",
       "stream": "stdout",
       "text": [
        ": Auto-setting vmin to -1.492e+04 [aplpy.core]\n",
        "INFO: Auto-setting vmax to  7.177e+04 [aplpy.core]\n",
        "223 of 423 \t lsc1m009-fl03-20141217-0043-e90.fits"
       ]
      },
      {
       "output_type": "stream",
       "stream": "stdout",
       "text": [
        "\n",
        "INFO"
       ]
      },
      {
       "output_type": "stream",
       "stream": "stderr",
       "text": [
        "INFO:astropy:Auto-setting vmin to -1.555e+04\n"
       ]
      },
      {
       "output_type": "stream",
       "stream": "stderr",
       "text": [
        "INFO:astropy:Auto-setting vmax to  7.917e+04\n"
       ]
      },
      {
       "output_type": "stream",
       "stream": "stdout",
       "text": [
        ": Auto-setting vmin to -1.555e+04 [aplpy.core]\n",
        "INFO: Auto-setting vmax to  7.917e+04 [aplpy.core]\n",
        "224 of 423 \t lsc1m009-fl03-20141217-0044-e90.fits"
       ]
      },
      {
       "output_type": "stream",
       "stream": "stdout",
       "text": [
        "\n",
        "INFO"
       ]
      },
      {
       "output_type": "stream",
       "stream": "stderr",
       "text": [
        "INFO:astropy:Auto-setting vmin to -1.548e+04\n"
       ]
      },
      {
       "output_type": "stream",
       "stream": "stderr",
       "text": [
        "INFO:astropy:Auto-setting vmax to  7.934e+04\n"
       ]
      },
      {
       "output_type": "stream",
       "stream": "stdout",
       "text": [
        ": Auto-setting vmin to -1.548e+04 [aplpy.core]\n",
        "INFO: Auto-setting vmax to  7.934e+04 [aplpy.core]\n",
        "225 of 423 \t lsc1m009-fl03-20141217-0045-e90.fits"
       ]
      },
      {
       "output_type": "stream",
       "stream": "stdout",
       "text": [
        "\n",
        "INFO"
       ]
      },
      {
       "output_type": "stream",
       "stream": "stderr",
       "text": [
        "INFO:astropy:Auto-setting vmin to -1.450e+04\n"
       ]
      },
      {
       "output_type": "stream",
       "stream": "stderr",
       "text": [
        "INFO:astropy:Auto-setting vmax to  5.045e+04\n"
       ]
      },
      {
       "output_type": "stream",
       "stream": "stdout",
       "text": [
        ": Auto-setting vmin to -1.450e+04 [aplpy.core]\n",
        "INFO: Auto-setting vmax to  5.045e+04 [aplpy.core]\n",
        "226 of 423 \t lsc1m009-fl03-20141217-0046-e90.fits"
       ]
      },
      {
       "output_type": "stream",
       "stream": "stdout",
       "text": [
        "\n",
        "INFO"
       ]
      },
      {
       "output_type": "stream",
       "stream": "stderr",
       "text": [
        "INFO:astropy:Auto-setting vmin to -1.498e+04\n"
       ]
      },
      {
       "output_type": "stream",
       "stream": "stderr",
       "text": [
        "INFO:astropy:Auto-setting vmax to  7.456e+04\n"
       ]
      },
      {
       "output_type": "stream",
       "stream": "stdout",
       "text": [
        ": Auto-setting vmin to -1.498e+04 [aplpy.core]\n",
        "INFO: Auto-setting vmax to  7.456e+04 [aplpy.core]\n",
        "227 of 423 \t lsc1m009-fl03-20141217-0047-e90.fits"
       ]
      },
      {
       "output_type": "stream",
       "stream": "stdout",
       "text": [
        "\n",
        "INFO"
       ]
      },
      {
       "output_type": "stream",
       "stream": "stderr",
       "text": [
        "INFO:astropy:Auto-setting vmin to -1.516e+04\n"
       ]
      },
      {
       "output_type": "stream",
       "stream": "stderr",
       "text": [
        "INFO:astropy:Auto-setting vmax to  7.497e+04\n"
       ]
      },
      {
       "output_type": "stream",
       "stream": "stdout",
       "text": [
        ": Auto-setting vmin to -1.516e+04 [aplpy.core]\n",
        "INFO: Auto-setting vmax to  7.497e+04 [aplpy.core]\n",
        "228 of 423 \t lsc1m009-fl03-20141217-0048-e90.fits"
       ]
      },
      {
       "output_type": "stream",
       "stream": "stdout",
       "text": [
        "\n",
        "INFO"
       ]
      },
      {
       "output_type": "stream",
       "stream": "stderr",
       "text": [
        "INFO:astropy:Auto-setting vmin to -1.497e+04\n"
       ]
      },
      {
       "output_type": "stream",
       "stream": "stderr",
       "text": [
        "INFO:astropy:Auto-setting vmax to  7.246e+04\n"
       ]
      },
      {
       "output_type": "stream",
       "stream": "stdout",
       "text": [
        ": Auto-setting vmin to -1.497e+04 [aplpy.core]\n",
        "INFO: Auto-setting vmax to  7.246e+04 [aplpy.core]\n",
        "229 of 423 \t lsc1m009-fl03-20141217-0049-e90.fits"
       ]
      },
      {
       "output_type": "stream",
       "stream": "stdout",
       "text": [
        "\n",
        "INFO"
       ]
      },
      {
       "output_type": "stream",
       "stream": "stderr",
       "text": [
        "INFO:astropy:Auto-setting vmin to -1.495e+04\n"
       ]
      },
      {
       "output_type": "stream",
       "stream": "stderr",
       "text": [
        "INFO:astropy:Auto-setting vmax to  7.192e+04\n"
       ]
      },
      {
       "output_type": "stream",
       "stream": "stdout",
       "text": [
        ": Auto-setting vmin to -1.495e+04 [aplpy.core]\n",
        "INFO: Auto-setting vmax to  7.192e+04 [aplpy.core]\n",
        "230 of 423 \t lsc1m009-fl03-20141217-0050-e90.fits"
       ]
      },
      {
       "output_type": "stream",
       "stream": "stdout",
       "text": [
        "\n",
        "INFO"
       ]
      },
      {
       "output_type": "stream",
       "stream": "stderr",
       "text": [
        "INFO:astropy:Auto-setting vmin to -1.474e+04\n"
       ]
      },
      {
       "output_type": "stream",
       "stream": "stderr",
       "text": [
        "INFO:astropy:Auto-setting vmax to  6.890e+04\n"
       ]
      },
      {
       "output_type": "stream",
       "stream": "stdout",
       "text": [
        ": Auto-setting vmin to -1.474e+04 [aplpy.core]\n",
        "INFO: Auto-setting vmax to  6.890e+04 [aplpy.core]\n",
        "231 of 423 \t lsc1m009-fl03-20141217-0051-e90.fits"
       ]
      },
      {
       "output_type": "stream",
       "stream": "stdout",
       "text": [
        "\n",
        "INFO"
       ]
      },
      {
       "output_type": "stream",
       "stream": "stderr",
       "text": [
        "INFO:astropy:Auto-setting vmin to -1.453e+04\n"
       ]
      },
      {
       "output_type": "stream",
       "stream": "stderr",
       "text": [
        "INFO:astropy:Auto-setting vmax to  6.824e+04\n"
       ]
      },
      {
       "output_type": "stream",
       "stream": "stdout",
       "text": [
        ": Auto-setting vmin to -1.453e+04 [aplpy.core]\n",
        "INFO: Auto-setting vmax to  6.824e+04 [aplpy.core]\n",
        "232 of 423 \t lsc1m009-fl03-20141217-0052-e90.fits"
       ]
      },
      {
       "output_type": "stream",
       "stream": "stdout",
       "text": [
        "\n",
        "INFO"
       ]
      },
      {
       "output_type": "stream",
       "stream": "stderr",
       "text": [
        "INFO:astropy:Auto-setting vmin to -1.462e+04\n"
       ]
      },
      {
       "output_type": "stream",
       "stream": "stderr",
       "text": [
        "INFO:astropy:Auto-setting vmax to  6.994e+04\n"
       ]
      },
      {
       "output_type": "stream",
       "stream": "stdout",
       "text": [
        ": Auto-setting vmin to -1.462e+04 [aplpy.core]\n",
        "INFO: Auto-setting vmax to  6.994e+04 [aplpy.core]\n",
        "233 of 423 \t lsc1m009-fl03-20141217-0053-e90.fits"
       ]
      },
      {
       "output_type": "stream",
       "stream": "stdout",
       "text": [
        "\n",
        "INFO"
       ]
      },
      {
       "output_type": "stream",
       "stream": "stderr",
       "text": [
        "INFO:astropy:Auto-setting vmin to -1.452e+04\n"
       ]
      },
      {
       "output_type": "stream",
       "stream": "stderr",
       "text": [
        "INFO:astropy:Auto-setting vmax to  6.666e+04\n"
       ]
      },
      {
       "output_type": "stream",
       "stream": "stdout",
       "text": [
        ": Auto-setting vmin to -1.452e+04 [aplpy.core]\n",
        "INFO: Auto-setting vmax to  6.666e+04 [aplpy.core]\n",
        "234 of 423 \t lsc1m009-fl03-20141217-0054-e90.fits"
       ]
      },
      {
       "output_type": "stream",
       "stream": "stdout",
       "text": [
        "\n",
        "INFO"
       ]
      },
      {
       "output_type": "stream",
       "stream": "stderr",
       "text": [
        "INFO:astropy:Auto-setting vmin to -1.483e+04\n"
       ]
      },
      {
       "output_type": "stream",
       "stream": "stderr",
       "text": [
        "INFO:astropy:Auto-setting vmax to  6.811e+04\n"
       ]
      },
      {
       "output_type": "stream",
       "stream": "stdout",
       "text": [
        ": Auto-setting vmin to -1.483e+04 [aplpy.core]\n",
        "INFO: Auto-setting vmax to  6.811e+04 [aplpy.core]\n",
        "235 of 423 \t lsc1m009-fl03-20141217-0055-e90.fits"
       ]
      },
      {
       "output_type": "stream",
       "stream": "stdout",
       "text": [
        "\n",
        "INFO"
       ]
      },
      {
       "output_type": "stream",
       "stream": "stderr",
       "text": [
        "INFO:astropy:Auto-setting vmin to -1.449e+04\n"
       ]
      },
      {
       "output_type": "stream",
       "stream": "stderr",
       "text": [
        "INFO:astropy:Auto-setting vmax to  6.655e+04\n"
       ]
      },
      {
       "output_type": "stream",
       "stream": "stdout",
       "text": [
        ": Auto-setting vmin to -1.449e+04 [aplpy.core]\n",
        "INFO: Auto-setting vmax to  6.655e+04 [aplpy.core]\n",
        "236 of 423 \t lsc1m009-fl03-20141217-0056-e90.fits"
       ]
      },
      {
       "output_type": "stream",
       "stream": "stdout",
       "text": [
        "\n",
        "INFO"
       ]
      },
      {
       "output_type": "stream",
       "stream": "stderr",
       "text": [
        "INFO:astropy:Auto-setting vmin to -1.447e+04\n"
       ]
      },
      {
       "output_type": "stream",
       "stream": "stderr",
       "text": [
        "INFO:astropy:Auto-setting vmax to  6.637e+04\n"
       ]
      },
      {
       "output_type": "stream",
       "stream": "stdout",
       "text": [
        ": Auto-setting vmin to -1.447e+04 [aplpy.core]\n",
        "INFO: Auto-setting vmax to  6.637e+04 [aplpy.core]\n",
        "237 of 423 \t lsc1m009-fl03-20141217-0057-e90.fits"
       ]
      },
      {
       "output_type": "stream",
       "stream": "stdout",
       "text": [
        "\n",
        "INFO"
       ]
      },
      {
       "output_type": "stream",
       "stream": "stderr",
       "text": [
        "INFO:astropy:Auto-setting vmin to -1.492e+04\n"
       ]
      },
      {
       "output_type": "stream",
       "stream": "stderr",
       "text": [
        "INFO:astropy:Auto-setting vmax to  7.125e+04\n"
       ]
      },
      {
       "output_type": "stream",
       "stream": "stdout",
       "text": [
        ": Auto-setting vmin to -1.492e+04 [aplpy.core]\n",
        "INFO: Auto-setting vmax to  7.125e+04 [aplpy.core]\n",
        "238 of 423 \t lsc1m009-fl03-20141217-0058-e90.fits"
       ]
      },
      {
       "output_type": "stream",
       "stream": "stdout",
       "text": [
        "\n",
        "INFO"
       ]
      },
      {
       "output_type": "stream",
       "stream": "stderr",
       "text": [
        "INFO:astropy:Auto-setting vmin to -1.502e+04\n"
       ]
      },
      {
       "output_type": "stream",
       "stream": "stderr",
       "text": [
        "INFO:astropy:Auto-setting vmax to  7.311e+04\n"
       ]
      },
      {
       "output_type": "stream",
       "stream": "stdout",
       "text": [
        ": Auto-setting vmin to -1.502e+04 [aplpy.core]\n",
        "INFO: Auto-setting vmax to  7.311e+04 [aplpy.core]\n",
        "239 of 423 \t lsc1m009-fl03-20141217-0059-e90.fits"
       ]
      },
      {
       "output_type": "stream",
       "stream": "stdout",
       "text": [
        "\n",
        "INFO"
       ]
      },
      {
       "output_type": "stream",
       "stream": "stderr",
       "text": [
        "INFO:astropy:Auto-setting vmin to -1.559e+04\n"
       ]
      },
      {
       "output_type": "stream",
       "stream": "stderr",
       "text": [
        "INFO:astropy:Auto-setting vmax to  7.870e+04\n"
       ]
      },
      {
       "output_type": "stream",
       "stream": "stdout",
       "text": [
        ": Auto-setting vmin to -1.559e+04 [aplpy.core]\n",
        "INFO: Auto-setting vmax to  7.870e+04 [aplpy.core]\n",
        "240 of 423 \t lsc1m009-fl03-20141217-0060-e90.fits"
       ]
      },
      {
       "output_type": "stream",
       "stream": "stdout",
       "text": [
        "\n",
        "INFO"
       ]
      },
      {
       "output_type": "stream",
       "stream": "stderr",
       "text": [
        "INFO:astropy:Auto-setting vmin to -1.393e+04\n"
       ]
      },
      {
       "output_type": "stream",
       "stream": "stderr",
       "text": [
        "INFO:astropy:Auto-setting vmax to  4.957e+04\n"
       ]
      },
      {
       "output_type": "stream",
       "stream": "stdout",
       "text": [
        ": Auto-setting vmin to -1.393e+04 [aplpy.core]\n",
        "INFO: Auto-setting vmax to  4.957e+04 [aplpy.core]\n",
        "241 of 423 \t lsc1m009-fl03-20141217-0061-e90.fits"
       ]
      },
      {
       "output_type": "stream",
       "stream": "stdout",
       "text": [
        "\n",
        "INFO"
       ]
      },
      {
       "output_type": "stream",
       "stream": "stderr",
       "text": [
        "INFO:astropy:Auto-setting vmin to -1.451e+04\n"
       ]
      },
      {
       "output_type": "stream",
       "stream": "stderr",
       "text": [
        "INFO:astropy:Auto-setting vmax to  6.815e+04\n"
       ]
      },
      {
       "output_type": "stream",
       "stream": "stdout",
       "text": [
        ": Auto-setting vmin to -1.451e+04 [aplpy.core]\n",
        "INFO: Auto-setting vmax to  6.815e+04 [aplpy.core]\n",
        "242 of 423 \t lsc1m009-fl03-20141217-0062-e90.fits"
       ]
      },
      {
       "output_type": "stream",
       "stream": "stdout",
       "text": [
        "\n",
        "INFO"
       ]
      },
      {
       "output_type": "stream",
       "stream": "stderr",
       "text": [
        "INFO:astropy:Auto-setting vmin to -1.496e+04\n"
       ]
      },
      {
       "output_type": "stream",
       "stream": "stderr",
       "text": [
        "INFO:astropy:Auto-setting vmax to  7.170e+04\n"
       ]
      },
      {
       "output_type": "stream",
       "stream": "stdout",
       "text": [
        ": Auto-setting vmin to -1.496e+04 [aplpy.core]\n",
        "INFO: Auto-setting vmax to  7.170e+04 [aplpy.core]\n",
        "243 of 423 \t lsc1m009-fl03-20141217-0063-e90.fits"
       ]
      },
      {
       "output_type": "stream",
       "stream": "stdout",
       "text": [
        "\n",
        "INFO"
       ]
      },
      {
       "output_type": "stream",
       "stream": "stderr",
       "text": [
        "INFO:astropy:Auto-setting vmin to -1.503e+04\n"
       ]
      },
      {
       "output_type": "stream",
       "stream": "stderr",
       "text": [
        "INFO:astropy:Auto-setting vmax to  7.414e+04\n"
       ]
      },
      {
       "output_type": "stream",
       "stream": "stdout",
       "text": [
        ": Auto-setting vmin to -1.503e+04 [aplpy.core]\n",
        "INFO: Auto-setting vmax to  7.414e+04 [aplpy.core]\n",
        "244 of 423 \t lsc1m009-fl03-20141217-0064-e90.fits"
       ]
      },
      {
       "output_type": "stream",
       "stream": "stdout",
       "text": [
        "\n",
        "INFO"
       ]
      },
      {
       "output_type": "stream",
       "stream": "stderr",
       "text": [
        "INFO:astropy:Auto-setting vmin to -1.495e+04\n"
       ]
      },
      {
       "output_type": "stream",
       "stream": "stderr",
       "text": [
        "INFO:astropy:Auto-setting vmax to  7.210e+04\n"
       ]
      },
      {
       "output_type": "stream",
       "stream": "stdout",
       "text": [
        ": Auto-setting vmin to -1.495e+04 [aplpy.core]\n",
        "INFO: Auto-setting vmax to  7.210e+04 [aplpy.core]\n",
        "245 of 423 \t lsc1m009-fl03-20141217-0065-e90.fits"
       ]
      },
      {
       "output_type": "stream",
       "stream": "stdout",
       "text": [
        "\n",
        "INFO"
       ]
      },
      {
       "output_type": "stream",
       "stream": "stderr",
       "text": [
        "INFO:astropy:Auto-setting vmin to -1.491e+04\n"
       ]
      },
      {
       "output_type": "stream",
       "stream": "stderr",
       "text": [
        "INFO:astropy:Auto-setting vmax to  7.261e+04\n"
       ]
      },
      {
       "output_type": "stream",
       "stream": "stdout",
       "text": [
        ": Auto-setting vmin to -1.491e+04 [aplpy.core]\n",
        "INFO: Auto-setting vmax to  7.261e+04 [aplpy.core]\n",
        "246 of 423 \t lsc1m009-fl03-20141217-0066-e90.fits"
       ]
      },
      {
       "output_type": "stream",
       "stream": "stdout",
       "text": [
        "\n",
        "INFO"
       ]
      },
      {
       "output_type": "stream",
       "stream": "stderr",
       "text": [
        "INFO:astropy:Auto-setting vmin to -1.466e+04\n"
       ]
      },
      {
       "output_type": "stream",
       "stream": "stderr",
       "text": [
        "INFO:astropy:Auto-setting vmax to  7.020e+04\n"
       ]
      },
      {
       "output_type": "stream",
       "stream": "stdout",
       "text": [
        ": Auto-setting vmin to -1.466e+04 [aplpy.core]\n",
        "INFO: Auto-setting vmax to  7.020e+04 [aplpy.core]\n",
        "247 of 423 \t lsc1m009-fl03-20141217-0067-e90.fits"
       ]
      },
      {
       "output_type": "stream",
       "stream": "stdout",
       "text": [
        "\n",
        "INFO"
       ]
      },
      {
       "output_type": "stream",
       "stream": "stderr",
       "text": [
        "INFO:astropy:Auto-setting vmin to -1.435e+04\n"
       ]
      },
      {
       "output_type": "stream",
       "stream": "stderr",
       "text": [
        "INFO:astropy:Auto-setting vmax to  6.726e+04\n"
       ]
      },
      {
       "output_type": "stream",
       "stream": "stdout",
       "text": [
        ": Auto-setting vmin to -1.435e+04 [aplpy.core]\n",
        "INFO: Auto-setting vmax to  6.726e+04 [aplpy.core]\n",
        "248 of 423 \t lsc1m009-fl03-20141217-0068-e90.fits"
       ]
      },
      {
       "output_type": "stream",
       "stream": "stdout",
       "text": [
        "\n",
        "INFO"
       ]
      },
      {
       "output_type": "stream",
       "stream": "stderr",
       "text": [
        "INFO:astropy:Auto-setting vmin to -1.407e+04\n"
       ]
      },
      {
       "output_type": "stream",
       "stream": "stderr",
       "text": [
        "INFO:astropy:Auto-setting vmax to  6.400e+04\n"
       ]
      },
      {
       "output_type": "stream",
       "stream": "stdout",
       "text": [
        ": Auto-setting vmin to -1.407e+04 [aplpy.core]\n",
        "INFO: Auto-setting vmax to  6.400e+04 [aplpy.core]\n",
        "249 of 423 \t lsc1m009-fl03-20141217-0069-e90.fits"
       ]
      },
      {
       "output_type": "stream",
       "stream": "stdout",
       "text": [
        "\n",
        "INFO"
       ]
      },
      {
       "output_type": "stream",
       "stream": "stderr",
       "text": [
        "INFO:astropy:Auto-setting vmin to -1.490e+04\n"
       ]
      },
      {
       "output_type": "stream",
       "stream": "stderr",
       "text": [
        "INFO:astropy:Auto-setting vmax to  7.265e+04\n"
       ]
      },
      {
       "output_type": "stream",
       "stream": "stdout",
       "text": [
        ": Auto-setting vmin to -1.490e+04 [aplpy.core]\n",
        "INFO: Auto-setting vmax to  7.265e+04 [aplpy.core]\n",
        "250 of 423 \t lsc1m009-fl03-20141217-0070-e90.fits"
       ]
      },
      {
       "output_type": "stream",
       "stream": "stdout",
       "text": [
        "\n",
        "INFO"
       ]
      },
      {
       "output_type": "stream",
       "stream": "stderr",
       "text": [
        "INFO:astropy:Auto-setting vmin to -1.442e+04\n"
       ]
      },
      {
       "output_type": "stream",
       "stream": "stderr",
       "text": [
        "INFO:astropy:Auto-setting vmax to  6.662e+04\n"
       ]
      },
      {
       "output_type": "stream",
       "stream": "stdout",
       "text": [
        ": Auto-setting vmin to -1.442e+04 [aplpy.core]\n",
        "INFO: Auto-setting vmax to  6.662e+04 [aplpy.core]\n",
        "251 of 423 \t lsc1m009-fl03-20141217-0071-e90.fits"
       ]
      },
      {
       "output_type": "stream",
       "stream": "stdout",
       "text": [
        "\n",
        "INFO"
       ]
      },
      {
       "output_type": "stream",
       "stream": "stderr",
       "text": [
        "INFO:astropy:Auto-setting vmin to -1.417e+04\n"
       ]
      },
      {
       "output_type": "stream",
       "stream": "stderr",
       "text": [
        "INFO:astropy:Auto-setting vmax to  6.388e+04\n"
       ]
      },
      {
       "output_type": "stream",
       "stream": "stdout",
       "text": [
        ": Auto-setting vmin to -1.417e+04 [aplpy.core]\n",
        "INFO: Auto-setting vmax to  6.388e+04 [aplpy.core]\n",
        "252 of 423 \t lsc1m009-fl03-20141217-0072-e90.fits"
       ]
      },
      {
       "output_type": "stream",
       "stream": "stdout",
       "text": [
        "\n",
        "INFO"
       ]
      },
      {
       "output_type": "stream",
       "stream": "stderr",
       "text": [
        "INFO:astropy:Auto-setting vmin to -1.372e+04\n"
       ]
      },
      {
       "output_type": "stream",
       "stream": "stderr",
       "text": [
        "INFO:astropy:Auto-setting vmax to  6.067e+04\n"
       ]
      },
      {
       "output_type": "stream",
       "stream": "stdout",
       "text": [
        ": Auto-setting vmin to -1.372e+04 [aplpy.core]\n",
        "INFO: Auto-setting vmax to  6.067e+04 [aplpy.core]\n",
        "253 of 423 \t lsc1m009-fl03-20141217-0073-e90.fits"
       ]
      },
      {
       "output_type": "stream",
       "stream": "stdout",
       "text": [
        "\n",
        "INFO"
       ]
      },
      {
       "output_type": "stream",
       "stream": "stderr",
       "text": [
        "INFO:astropy:Auto-setting vmin to -1.349e+04\n"
       ]
      },
      {
       "output_type": "stream",
       "stream": "stderr",
       "text": [
        "INFO:astropy:Auto-setting vmax to  5.888e+04\n"
       ]
      },
      {
       "output_type": "stream",
       "stream": "stdout",
       "text": [
        ": Auto-setting vmin to -1.349e+04 [aplpy.core]\n",
        "INFO: Auto-setting vmax to  5.888e+04 [aplpy.core]\n",
        "254 of 423 \t lsc1m009-fl03-20141217-0074-e90.fits"
       ]
      },
      {
       "output_type": "stream",
       "stream": "stdout",
       "text": [
        "\n",
        "INFO"
       ]
      },
      {
       "output_type": "stream",
       "stream": "stderr",
       "text": [
        "INFO:astropy:Auto-setting vmin to -1.348e+04\n"
       ]
      },
      {
       "output_type": "stream",
       "stream": "stderr",
       "text": [
        "INFO:astropy:Auto-setting vmax to  5.776e+04\n"
       ]
      },
      {
       "output_type": "stream",
       "stream": "stdout",
       "text": [
        ": Auto-setting vmin to -1.348e+04 [aplpy.core]\n",
        "INFO: Auto-setting vmax to  5.776e+04 [aplpy.core]\n",
        "255 of 423 \t lsc1m009-fl03-20141217-0075-e90.fits"
       ]
      },
      {
       "output_type": "stream",
       "stream": "stdout",
       "text": [
        "\n",
        "INFO"
       ]
      },
      {
       "output_type": "stream",
       "stream": "stderr",
       "text": [
        "INFO:astropy:Auto-setting vmin to -1.417e+04\n"
       ]
      },
      {
       "output_type": "stream",
       "stream": "stderr",
       "text": [
        "INFO:astropy:Auto-setting vmax to  6.508e+04\n"
       ]
      },
      {
       "output_type": "stream",
       "stream": "stdout",
       "text": [
        ": Auto-setting vmin to -1.417e+04 [aplpy.core]\n",
        "INFO: Auto-setting vmax to  6.508e+04 [aplpy.core]\n",
        "256 of 423 \t lsc1m009-fl03-20141217-0076-e90.fits"
       ]
      },
      {
       "output_type": "stream",
       "stream": "stdout",
       "text": [
        "\n",
        "INFO"
       ]
      },
      {
       "output_type": "stream",
       "stream": "stderr",
       "text": [
        "INFO:astropy:Auto-setting vmin to -1.405e+04\n"
       ]
      },
      {
       "output_type": "stream",
       "stream": "stderr",
       "text": [
        "INFO:astropy:Auto-setting vmax to  6.322e+04\n"
       ]
      },
      {
       "output_type": "stream",
       "stream": "stdout",
       "text": [
        ": Auto-setting vmin to -1.405e+04 [aplpy.core]\n",
        "INFO: Auto-setting vmax to  6.322e+04 [aplpy.core]\n",
        "257 of 423 \t lsc1m009-fl03-20141217-0077-e90.fits"
       ]
      },
      {
       "output_type": "stream",
       "stream": "stdout",
       "text": [
        "\n",
        "INFO"
       ]
      },
      {
       "output_type": "stream",
       "stream": "stderr",
       "text": [
        "INFO:astropy:Auto-setting vmin to -1.389e+04\n"
       ]
      },
      {
       "output_type": "stream",
       "stream": "stderr",
       "text": [
        "INFO:astropy:Auto-setting vmax to  6.307e+04\n"
       ]
      },
      {
       "output_type": "stream",
       "stream": "stdout",
       "text": [
        ": Auto-setting vmin to -1.389e+04 [aplpy.core]\n",
        "INFO: Auto-setting vmax to  6.307e+04 [aplpy.core]\n",
        "258 of 423 \t lsc1m009-fl03-20141217-0078-e90.fits"
       ]
      },
      {
       "output_type": "stream",
       "stream": "stdout",
       "text": [
        "\n",
        "INFO"
       ]
      },
      {
       "output_type": "stream",
       "stream": "stderr",
       "text": [
        "INFO:astropy:Auto-setting vmin to -1.425e+04\n"
       ]
      },
      {
       "output_type": "stream",
       "stream": "stderr",
       "text": [
        "INFO:astropy:Auto-setting vmax to  6.531e+04\n"
       ]
      },
      {
       "output_type": "stream",
       "stream": "stdout",
       "text": [
        ": Auto-setting vmin to -1.425e+04 [aplpy.core]\n",
        "INFO: Auto-setting vmax to  6.531e+04 [aplpy.core]\n",
        "259 of 423 \t lsc1m009-fl03-20141217-0079-e90.fits"
       ]
      },
      {
       "output_type": "stream",
       "stream": "stdout",
       "text": [
        "\n",
        "INFO"
       ]
      },
      {
       "output_type": "stream",
       "stream": "stderr",
       "text": [
        "INFO:astropy:Auto-setting vmin to -1.434e+04\n"
       ]
      },
      {
       "output_type": "stream",
       "stream": "stderr",
       "text": [
        "INFO:astropy:Auto-setting vmax to  6.752e+04\n"
       ]
      },
      {
       "output_type": "stream",
       "stream": "stdout",
       "text": [
        ": Auto-setting vmin to -1.434e+04 [aplpy.core]\n",
        "INFO: Auto-setting vmax to  6.752e+04 [aplpy.core]\n",
        "260 of 423 \t lsc1m009-fl03-20141217-0080-e90.fits"
       ]
      },
      {
       "output_type": "stream",
       "stream": "stdout",
       "text": [
        "\n",
        "INFO"
       ]
      },
      {
       "output_type": "stream",
       "stream": "stderr",
       "text": [
        "INFO:astropy:Auto-setting vmin to -1.394e+04\n"
       ]
      },
      {
       "output_type": "stream",
       "stream": "stderr",
       "text": [
        "INFO:astropy:Auto-setting vmax to  6.434e+04\n"
       ]
      },
      {
       "output_type": "stream",
       "stream": "stdout",
       "text": [
        ": Auto-setting vmin to -1.394e+04 [aplpy.core]\n",
        "INFO: Auto-setting vmax to  6.434e+04 [aplpy.core]\n",
        "261 of 423 \t coj1m003-kb71-20141218-0083-e90.fits"
       ]
      },
      {
       "output_type": "stream",
       "stream": "stdout",
       "text": [
        "\n",
        "INFO"
       ]
      },
      {
       "output_type": "stream",
       "stream": "stderr",
       "text": [
        "INFO:astropy:Auto-setting vmin to  1.779e+03\n"
       ]
      },
      {
       "output_type": "stream",
       "stream": "stderr",
       "text": [
        "INFO:astropy:Auto-setting vmax to  2.099e+03\n"
       ]
      },
      {
       "output_type": "stream",
       "stream": "stdout",
       "text": [
        ": Auto-setting vmin to  1.779e+03 [aplpy.core]\n",
        "INFO: Auto-setting vmax to  2.099e+03 [aplpy.core]\n",
        "262 of 423 \t coj1m003-kb71-20141218-0084-e90.fits"
       ]
      },
      {
       "output_type": "stream",
       "stream": "stdout",
       "text": [
        "\n",
        "INFO"
       ]
      },
      {
       "output_type": "stream",
       "stream": "stderr",
       "text": [
        "INFO:astropy:Auto-setting vmin to  9.923e+02\n"
       ]
      },
      {
       "output_type": "stream",
       "stream": "stderr",
       "text": [
        "INFO:astropy:Auto-setting vmax to  1.273e+03\n"
       ]
      },
      {
       "output_type": "stream",
       "stream": "stdout",
       "text": [
        ": Auto-setting vmin to  9.923e+02 [aplpy.core]\n",
        "INFO: Auto-setting vmax to  1.273e+03 [aplpy.core]\n",
        "263 of 423 \t coj1m003-kb71-20141218-0085-e90.fits"
       ]
      },
      {
       "output_type": "stream",
       "stream": "stdout",
       "text": [
        "\n",
        "INFO"
       ]
      },
      {
       "output_type": "stream",
       "stream": "stderr",
       "text": [
        "INFO:astropy:Auto-setting vmin to  5.795e+02\n"
       ]
      },
      {
       "output_type": "stream",
       "stream": "stderr",
       "text": [
        "INFO:astropy:Auto-setting vmax to  8.044e+02\n"
       ]
      },
      {
       "output_type": "stream",
       "stream": "stdout",
       "text": [
        ": Auto-setting vmin to  5.795e+02 [aplpy.core]\n",
        "INFO: Auto-setting vmax to  8.044e+02 [aplpy.core]\n",
        "264 of 423 \t coj1m003-kb71-20141218-0086-e90.fits"
       ]
      },
      {
       "output_type": "stream",
       "stream": "stdout",
       "text": [
        "\n",
        "INFO"
       ]
      },
      {
       "output_type": "stream",
       "stream": "stderr",
       "text": [
        "INFO:astropy:Auto-setting vmin to  4.086e+02\n"
       ]
      },
      {
       "output_type": "stream",
       "stream": "stderr",
       "text": [
        "INFO:astropy:Auto-setting vmax to  6.291e+02\n"
       ]
      },
      {
       "output_type": "stream",
       "stream": "stdout",
       "text": [
        ": Auto-setting vmin to  4.086e+02 [aplpy.core]\n",
        "INFO: Auto-setting vmax to  6.291e+02 [aplpy.core]\n",
        "265 of 423 \t coj1m003-kb71-20141218-0087-e90.fits"
       ]
      },
      {
       "output_type": "stream",
       "stream": "stdout",
       "text": [
        "\n",
        "INFO"
       ]
      },
      {
       "output_type": "stream",
       "stream": "stderr",
       "text": [
        "INFO:astropy:Auto-setting vmin to  3.203e+02\n"
       ]
      },
      {
       "output_type": "stream",
       "stream": "stderr",
       "text": [
        "INFO:astropy:Auto-setting vmax to  5.519e+02\n"
       ]
      },
      {
       "output_type": "stream",
       "stream": "stdout",
       "text": [
        ": Auto-setting vmin to  3.203e+02 [aplpy.core]\n",
        "INFO: Auto-setting vmax to  5.519e+02 [aplpy.core]\n",
        "266 of 423 \t coj1m003-kb71-20141218-0088-e90.fits"
       ]
      },
      {
       "output_type": "stream",
       "stream": "stdout",
       "text": [
        "\n",
        "INFO"
       ]
      },
      {
       "output_type": "stream",
       "stream": "stderr",
       "text": [
        "INFO:astropy:Auto-setting vmin to  2.768e+02\n"
       ]
      },
      {
       "output_type": "stream",
       "stream": "stderr",
       "text": [
        "INFO:astropy:Auto-setting vmax to  5.797e+02\n"
       ]
      },
      {
       "output_type": "stream",
       "stream": "stdout",
       "text": [
        ": Auto-setting vmin to  2.768e+02 [aplpy.core]\n",
        "INFO: Auto-setting vmax to  5.797e+02 [aplpy.core]\n",
        "267 of 423 \t coj1m003-kb71-20141218-0089-e90.fits"
       ]
      },
      {
       "output_type": "stream",
       "stream": "stdout",
       "text": [
        "\n",
        "INFO"
       ]
      },
      {
       "output_type": "stream",
       "stream": "stderr",
       "text": [
        "INFO:astropy:Auto-setting vmin to  1.330e+02\n"
       ]
      },
      {
       "output_type": "stream",
       "stream": "stderr",
       "text": [
        "INFO:astropy:Auto-setting vmax to  4.899e+02\n"
       ]
      },
      {
       "output_type": "stream",
       "stream": "stdout",
       "text": [
        ": Auto-setting vmin to  1.330e+02 [aplpy.core]\n",
        "INFO: Auto-setting vmax to  4.899e+02 [aplpy.core]\n",
        "268 of 423 \t coj1m003-kb71-20141218-0090-e90.fits"
       ]
      },
      {
       "output_type": "stream",
       "stream": "stdout",
       "text": [
        "\n",
        "INFO"
       ]
      },
      {
       "output_type": "stream",
       "stream": "stderr",
       "text": [
        "INFO:astropy:Auto-setting vmin to  2.505e+02\n"
       ]
      },
      {
       "output_type": "stream",
       "stream": "stderr",
       "text": [
        "INFO:astropy:Auto-setting vmax to  5.696e+02\n"
       ]
      },
      {
       "output_type": "stream",
       "stream": "stdout",
       "text": [
        ": Auto-setting vmin to  2.505e+02 [aplpy.core]\n",
        "INFO: Auto-setting vmax to  5.696e+02 [aplpy.core]\n",
        "269 of 423 \t coj1m003-kb71-20141218-0091-e90.fits"
       ]
      },
      {
       "output_type": "stream",
       "stream": "stdout",
       "text": [
        "\n",
        "INFO"
       ]
      },
      {
       "output_type": "stream",
       "stream": "stderr",
       "text": [
        "INFO:astropy:Auto-setting vmin to  2.148e+02\n"
       ]
      },
      {
       "output_type": "stream",
       "stream": "stderr",
       "text": [
        "INFO:astropy:Auto-setting vmax to  7.048e+02\n"
       ]
      },
      {
       "output_type": "stream",
       "stream": "stdout",
       "text": [
        ": Auto-setting vmin to  2.148e+02 [aplpy.core]\n",
        "INFO: Auto-setting vmax to  7.048e+02 [aplpy.core]\n",
        "270 of 423 \t coj1m003-kb71-20141218-0092-e90.fits"
       ]
      },
      {
       "output_type": "stream",
       "stream": "stdout",
       "text": [
        "\n",
        "INFO"
       ]
      },
      {
       "output_type": "stream",
       "stream": "stderr",
       "text": [
        "INFO:astropy:Auto-setting vmin to  1.907e+02\n"
       ]
      },
      {
       "output_type": "stream",
       "stream": "stderr",
       "text": [
        "INFO:astropy:Auto-setting vmax to  7.767e+02\n"
       ]
      },
      {
       "output_type": "stream",
       "stream": "stdout",
       "text": [
        ": Auto-setting vmin to  1.907e+02 [aplpy.core]\n",
        "INFO: Auto-setting vmax to  7.767e+02 [aplpy.core]\n",
        "271 of 423 \t coj1m003-kb71-20141218-0093-e90.fits"
       ]
      },
      {
       "output_type": "stream",
       "stream": "stdout",
       "text": [
        "\n",
        "INFO"
       ]
      },
      {
       "output_type": "stream",
       "stream": "stderr",
       "text": [
        "INFO:astropy:Auto-setting vmin to  2.010e+02\n"
       ]
      },
      {
       "output_type": "stream",
       "stream": "stderr",
       "text": [
        "INFO:astropy:Auto-setting vmax to  6.945e+02\n"
       ]
      },
      {
       "output_type": "stream",
       "stream": "stdout",
       "text": [
        ": Auto-setting vmin to  2.010e+02 [aplpy.core]\n",
        "INFO: Auto-setting vmax to  6.945e+02 [aplpy.core]\n",
        "272 of 423 \t coj1m003-kb71-20141218-0094-e90.fits"
       ]
      },
      {
       "output_type": "stream",
       "stream": "stdout",
       "text": [
        "\n",
        "INFO"
       ]
      },
      {
       "output_type": "stream",
       "stream": "stderr",
       "text": [
        "INFO:astropy:Auto-setting vmin to  1.407e+02\n"
       ]
      },
      {
       "output_type": "stream",
       "stream": "stderr",
       "text": [
        "INFO:astropy:Auto-setting vmax to  9.228e+02\n"
       ]
      },
      {
       "output_type": "stream",
       "stream": "stdout",
       "text": [
        ": Auto-setting vmin to  1.407e+02 [aplpy.core]\n",
        "INFO: Auto-setting vmax to  9.228e+02 [aplpy.core]\n",
        "273 of 423 \t coj1m003-kb71-20141218-0095-e90.fits"
       ]
      },
      {
       "output_type": "stream",
       "stream": "stdout",
       "text": [
        "\n",
        "INFO"
       ]
      },
      {
       "output_type": "stream",
       "stream": "stderr",
       "text": [
        "INFO:astropy:Auto-setting vmin to  1.398e+02\n"
       ]
      },
      {
       "output_type": "stream",
       "stream": "stderr",
       "text": [
        "INFO:astropy:Auto-setting vmax to  9.115e+02\n"
       ]
      },
      {
       "output_type": "stream",
       "stream": "stdout",
       "text": [
        ": Auto-setting vmin to  1.398e+02 [aplpy.core]\n",
        "INFO: Auto-setting vmax to  9.115e+02 [aplpy.core]\n",
        "274 of 423 \t coj1m003-kb71-20141218-0096-e90.fits"
       ]
      },
      {
       "output_type": "stream",
       "stream": "stdout",
       "text": [
        "\n",
        "INFO"
       ]
      },
      {
       "output_type": "stream",
       "stream": "stderr",
       "text": [
        "INFO:astropy:Auto-setting vmin to  1.399e+02\n"
       ]
      },
      {
       "output_type": "stream",
       "stream": "stderr",
       "text": [
        "INFO:astropy:Auto-setting vmax to  8.820e+02\n"
       ]
      },
      {
       "output_type": "stream",
       "stream": "stdout",
       "text": [
        ": Auto-setting vmin to  1.399e+02 [aplpy.core]\n",
        "INFO: Auto-setting vmax to  8.820e+02 [aplpy.core]\n",
        "275 of 423 \t coj1m003-kb71-20141218-0097-e90.fits"
       ]
      },
      {
       "output_type": "stream",
       "stream": "stdout",
       "text": [
        "\n",
        "INFO"
       ]
      },
      {
       "output_type": "stream",
       "stream": "stderr",
       "text": [
        "INFO:astropy:Auto-setting vmin to  1.349e+02\n"
       ]
      },
      {
       "output_type": "stream",
       "stream": "stderr",
       "text": [
        "INFO:astropy:Auto-setting vmax to  9.252e+02\n"
       ]
      },
      {
       "output_type": "stream",
       "stream": "stdout",
       "text": [
        ": Auto-setting vmin to  1.349e+02 [aplpy.core]\n",
        "INFO: Auto-setting vmax to  9.252e+02 [aplpy.core]\n",
        "276 of 423 \t coj1m003-kb71-20141218-0098-e90.fits"
       ]
      },
      {
       "output_type": "stream",
       "stream": "stdout",
       "text": [
        "\n",
        "INFO"
       ]
      },
      {
       "output_type": "stream",
       "stream": "stderr",
       "text": [
        "INFO:astropy:Auto-setting vmin to  1.345e+02\n"
       ]
      },
      {
       "output_type": "stream",
       "stream": "stderr",
       "text": [
        "INFO:astropy:Auto-setting vmax to  9.290e+02\n"
       ]
      },
      {
       "output_type": "stream",
       "stream": "stdout",
       "text": [
        ": Auto-setting vmin to  1.345e+02 [aplpy.core]\n",
        "INFO: Auto-setting vmax to  9.290e+02 [aplpy.core]\n",
        "277 of 423 \t coj1m003-kb71-20141218-0099-e90.fits"
       ]
      },
      {
       "output_type": "stream",
       "stream": "stdout",
       "text": [
        "\n",
        "INFO"
       ]
      },
      {
       "output_type": "stream",
       "stream": "stderr",
       "text": [
        "INFO:astropy:Auto-setting vmin to  1.585e+02\n"
       ]
      },
      {
       "output_type": "stream",
       "stream": "stderr",
       "text": [
        "INFO:astropy:Auto-setting vmax to  8.384e+02\n"
       ]
      },
      {
       "output_type": "stream",
       "stream": "stdout",
       "text": [
        ": Auto-setting vmin to  1.585e+02 [aplpy.core]\n",
        "INFO: Auto-setting vmax to  8.384e+02 [aplpy.core]\n",
        "278 of 423 \t coj1m003-kb71-20141218-0100-e90.fits"
       ]
      },
      {
       "output_type": "stream",
       "stream": "stdout",
       "text": [
        "\n",
        "INFO"
       ]
      },
      {
       "output_type": "stream",
       "stream": "stderr",
       "text": [
        "INFO:astropy:Auto-setting vmin to  1.534e+02\n"
       ]
      },
      {
       "output_type": "stream",
       "stream": "stderr",
       "text": [
        "INFO:astropy:Auto-setting vmax to  8.556e+02\n"
       ]
      },
      {
       "output_type": "stream",
       "stream": "stdout",
       "text": [
        ": Auto-setting vmin to  1.534e+02 [aplpy.core]\n",
        "INFO: Auto-setting vmax to  8.556e+02 [aplpy.core]\n",
        "279 of 423 \t coj1m003-kb71-20141218-0101-e90.fits"
       ]
      },
      {
       "output_type": "stream",
       "stream": "stdout",
       "text": [
        "\n",
        "INFO"
       ]
      },
      {
       "output_type": "stream",
       "stream": "stderr",
       "text": [
        "INFO:astropy:Auto-setting vmin to  1.301e+02\n"
       ]
      },
      {
       "output_type": "stream",
       "stream": "stderr",
       "text": [
        "INFO:astropy:Auto-setting vmax to  9.703e+02\n"
       ]
      },
      {
       "output_type": "stream",
       "stream": "stdout",
       "text": [
        ": Auto-setting vmin to  1.301e+02 [aplpy.core]\n",
        "INFO: Auto-setting vmax to  9.703e+02 [aplpy.core]\n",
        "280 of 423 \t coj1m003-kb71-20141218-0102-e90.fits"
       ]
      },
      {
       "output_type": "stream",
       "stream": "stdout",
       "text": [
        "\n",
        "INFO"
       ]
      },
      {
       "output_type": "stream",
       "stream": "stderr",
       "text": [
        "INFO:astropy:Auto-setting vmin to  1.330e+02\n"
       ]
      },
      {
       "output_type": "stream",
       "stream": "stderr",
       "text": [
        "INFO:astropy:Auto-setting vmax to  9.563e+02\n"
       ]
      },
      {
       "output_type": "stream",
       "stream": "stdout",
       "text": [
        ": Auto-setting vmin to  1.330e+02 [aplpy.core]\n",
        "INFO: Auto-setting vmax to  9.563e+02 [aplpy.core]\n",
        "281 of 423 \t coj1m003-kb71-20141218-0103-e90.fits"
       ]
      },
      {
       "output_type": "stream",
       "stream": "stdout",
       "text": [
        "\n",
        "INFO"
       ]
      },
      {
       "output_type": "stream",
       "stream": "stderr",
       "text": [
        "INFO:astropy:Auto-setting vmin to  1.284e+02\n"
       ]
      },
      {
       "output_type": "stream",
       "stream": "stderr",
       "text": [
        "INFO:astropy:Auto-setting vmax to  1.018e+03\n"
       ]
      },
      {
       "output_type": "stream",
       "stream": "stdout",
       "text": [
        ": Auto-setting vmin to  1.284e+02 [aplpy.core]\n",
        "INFO: Auto-setting vmax to  1.018e+03 [aplpy.core]\n",
        "282 of 423 \t coj1m003-kb71-20141218-0104-e90.fits"
       ]
      },
      {
       "output_type": "stream",
       "stream": "stdout",
       "text": [
        "\n",
        "INFO"
       ]
      },
      {
       "output_type": "stream",
       "stream": "stderr",
       "text": [
        "INFO:astropy:Auto-setting vmin to  1.289e+02\n"
       ]
      },
      {
       "output_type": "stream",
       "stream": "stderr",
       "text": [
        "INFO:astropy:Auto-setting vmax to  1.003e+03\n"
       ]
      },
      {
       "output_type": "stream",
       "stream": "stdout",
       "text": [
        ": Auto-setting vmin to  1.289e+02 [aplpy.core]\n",
        "INFO: Auto-setting vmax to  1.003e+03 [aplpy.core]\n",
        "283 of 423 \t coj1m003-kb71-20141218-0105-e90.fits"
       ]
      },
      {
       "output_type": "stream",
       "stream": "stdout",
       "text": [
        "\n",
        "INFO"
       ]
      },
      {
       "output_type": "stream",
       "stream": "stderr",
       "text": [
        "INFO:astropy:Auto-setting vmin to  1.256e+02\n"
       ]
      },
      {
       "output_type": "stream",
       "stream": "stderr",
       "text": [
        "INFO:astropy:Auto-setting vmax to  1.011e+03\n"
       ]
      },
      {
       "output_type": "stream",
       "stream": "stdout",
       "text": [
        ": Auto-setting vmin to  1.256e+02 [aplpy.core]\n",
        "INFO: Auto-setting vmax to  1.011e+03 [aplpy.core]\n",
        "284 of 423 \t coj1m003-kb71-20141218-0106-e90.fits"
       ]
      },
      {
       "output_type": "stream",
       "stream": "stdout",
       "text": [
        "\n",
        "INFO"
       ]
      },
      {
       "output_type": "stream",
       "stream": "stderr",
       "text": [
        "INFO:astropy:Auto-setting vmin to  7.690e+01\n"
       ]
      },
      {
       "output_type": "stream",
       "stream": "stderr",
       "text": [
        "INFO:astropy:Auto-setting vmax to  7.238e+02\n"
       ]
      },
      {
       "output_type": "stream",
       "stream": "stdout",
       "text": [
        ": Auto-setting vmin to  7.690e+01 [aplpy.core]\n",
        "INFO: Auto-setting vmax to  7.238e+02 [aplpy.core]\n",
        "285 of 423 \t coj1m003-kb71-20141218-0107-e90.fits"
       ]
      },
      {
       "output_type": "stream",
       "stream": "stdout",
       "text": [
        "\n",
        "INFO"
       ]
      },
      {
       "output_type": "stream",
       "stream": "stderr",
       "text": [
        "INFO:astropy:Auto-setting vmin to  1.300e+02\n"
       ]
      },
      {
       "output_type": "stream",
       "stream": "stderr",
       "text": [
        "INFO:astropy:Auto-setting vmax to  9.892e+02\n"
       ]
      },
      {
       "output_type": "stream",
       "stream": "stdout",
       "text": [
        ": Auto-setting vmin to  1.300e+02 [aplpy.core]\n",
        "INFO: Auto-setting vmax to  9.892e+02 [aplpy.core]\n",
        "286 of 423 \t coj1m003-kb71-20141218-0108-e90.fits"
       ]
      },
      {
       "output_type": "stream",
       "stream": "stdout",
       "text": [
        "\n",
        "INFO"
       ]
      },
      {
       "output_type": "stream",
       "stream": "stderr",
       "text": [
        "INFO:astropy:Auto-setting vmin to  1.221e+02\n"
       ]
      },
      {
       "output_type": "stream",
       "stream": "stderr",
       "text": [
        "INFO:astropy:Auto-setting vmax to  1.074e+03\n"
       ]
      },
      {
       "output_type": "stream",
       "stream": "stdout",
       "text": [
        ": Auto-setting vmin to  1.221e+02 [aplpy.core]\n",
        "INFO: Auto-setting vmax to  1.074e+03 [aplpy.core]\n",
        "287 of 423 \t coj1m003-kb71-20141218-0109-e90.fits"
       ]
      },
      {
       "output_type": "stream",
       "stream": "stdout",
       "text": [
        "\n",
        "INFO"
       ]
      },
      {
       "output_type": "stream",
       "stream": "stderr",
       "text": [
        "INFO:astropy:Auto-setting vmin to  1.233e+02\n"
       ]
      },
      {
       "output_type": "stream",
       "stream": "stderr",
       "text": [
        "INFO:astropy:Auto-setting vmax to  1.073e+03\n"
       ]
      },
      {
       "output_type": "stream",
       "stream": "stdout",
       "text": [
        ": Auto-setting vmin to  1.233e+02 [aplpy.core]\n",
        "INFO: Auto-setting vmax to  1.073e+03 [aplpy.core]\n",
        "288 of 423 \t coj1m003-kb71-20141218-0110-e90.fits"
       ]
      },
      {
       "output_type": "stream",
       "stream": "stdout",
       "text": [
        "\n",
        "INFO"
       ]
      },
      {
       "output_type": "stream",
       "stream": "stderr",
       "text": [
        "INFO:astropy:Auto-setting vmin to  1.261e+02\n"
       ]
      },
      {
       "output_type": "stream",
       "stream": "stderr",
       "text": [
        "INFO:astropy:Auto-setting vmax to  1.030e+03\n"
       ]
      },
      {
       "output_type": "stream",
       "stream": "stdout",
       "text": [
        ": Auto-setting vmin to  1.261e+02 [aplpy.core]\n",
        "INFO: Auto-setting vmax to  1.030e+03 [aplpy.core]\n",
        "289 of 423 \t coj1m003-kb71-20141218-0111-e90.fits"
       ]
      },
      {
       "output_type": "stream",
       "stream": "stdout",
       "text": [
        "\n",
        "INFO"
       ]
      },
      {
       "output_type": "stream",
       "stream": "stderr",
       "text": [
        "INFO:astropy:Auto-setting vmin to  1.282e+02\n"
       ]
      },
      {
       "output_type": "stream",
       "stream": "stderr",
       "text": [
        "INFO:astropy:Auto-setting vmax to  1.010e+03\n"
       ]
      },
      {
       "output_type": "stream",
       "stream": "stdout",
       "text": [
        ": Auto-setting vmin to  1.282e+02 [aplpy.core]\n",
        "INFO: Auto-setting vmax to  1.010e+03 [aplpy.core]\n",
        "290 of 423 \t coj1m003-kb71-20141218-0112-e90.fits"
       ]
      },
      {
       "output_type": "stream",
       "stream": "stdout",
       "text": [
        "\n",
        "INFO"
       ]
      },
      {
       "output_type": "stream",
       "stream": "stderr",
       "text": [
        "INFO:astropy:Auto-setting vmin to  1.319e+02\n"
       ]
      },
      {
       "output_type": "stream",
       "stream": "stderr",
       "text": [
        "INFO:astropy:Auto-setting vmax to  9.698e+02\n"
       ]
      },
      {
       "output_type": "stream",
       "stream": "stdout",
       "text": [
        ": Auto-setting vmin to  1.319e+02 [aplpy.core]\n",
        "INFO: Auto-setting vmax to  9.698e+02 [aplpy.core]\n",
        "291 of 423 \t coj1m003-kb71-20141218-0113-e90.fits"
       ]
      },
      {
       "output_type": "stream",
       "stream": "stdout",
       "text": [
        "\n",
        "INFO"
       ]
      },
      {
       "output_type": "stream",
       "stream": "stderr",
       "text": [
        "INFO:astropy:Auto-setting vmin to  1.266e+02\n"
       ]
      },
      {
       "output_type": "stream",
       "stream": "stderr",
       "text": [
        "INFO:astropy:Auto-setting vmax to  9.977e+02\n"
       ]
      },
      {
       "output_type": "stream",
       "stream": "stdout",
       "text": [
        ": Auto-setting vmin to  1.266e+02 [aplpy.core]\n",
        "INFO: Auto-setting vmax to  9.977e+02 [aplpy.core]\n",
        "292 of 423 \t coj1m003-kb71-20141218-0114-e90.fits"
       ]
      },
      {
       "output_type": "stream",
       "stream": "stdout",
       "text": [
        "\n",
        "INFO"
       ]
      },
      {
       "output_type": "stream",
       "stream": "stderr",
       "text": [
        "INFO:astropy:Auto-setting vmin to  1.367e+02\n"
       ]
      },
      {
       "output_type": "stream",
       "stream": "stderr",
       "text": [
        "INFO:astropy:Auto-setting vmax to  9.354e+02\n"
       ]
      },
      {
       "output_type": "stream",
       "stream": "stdout",
       "text": [
        ": Auto-setting vmin to  1.367e+02 [aplpy.core]\n",
        "INFO: Auto-setting vmax to  9.354e+02 [aplpy.core]\n",
        "293 of 423 \t coj1m003-kb71-20141218-0115-e90.fits"
       ]
      },
      {
       "output_type": "stream",
       "stream": "stdout",
       "text": [
        "\n",
        "INFO"
       ]
      },
      {
       "output_type": "stream",
       "stream": "stderr",
       "text": [
        "INFO:astropy:Auto-setting vmin to  1.295e+02\n"
       ]
      },
      {
       "output_type": "stream",
       "stream": "stderr",
       "text": [
        "INFO:astropy:Auto-setting vmax to  9.747e+02\n"
       ]
      },
      {
       "output_type": "stream",
       "stream": "stdout",
       "text": [
        ": Auto-setting vmin to  1.295e+02 [aplpy.core]\n",
        "INFO: Auto-setting vmax to  9.747e+02 [aplpy.core]\n",
        "294 of 423 \t coj1m003-kb71-20141218-0116-e90.fits"
       ]
      },
      {
       "output_type": "stream",
       "stream": "stdout",
       "text": [
        "\n",
        "INFO"
       ]
      },
      {
       "output_type": "stream",
       "stream": "stderr",
       "text": [
        "INFO:astropy:Auto-setting vmin to  1.303e+02\n"
       ]
      },
      {
       "output_type": "stream",
       "stream": "stderr",
       "text": [
        "INFO:astropy:Auto-setting vmax to  9.491e+02\n"
       ]
      },
      {
       "output_type": "stream",
       "stream": "stdout",
       "text": [
        ": Auto-setting vmin to  1.303e+02 [aplpy.core]\n",
        "INFO: Auto-setting vmax to  9.491e+02 [aplpy.core]\n",
        "295 of 423 \t coj1m003-kb71-20141218-0117-e90.fits"
       ]
      },
      {
       "output_type": "stream",
       "stream": "stdout",
       "text": [
        "\n",
        "INFO"
       ]
      },
      {
       "output_type": "stream",
       "stream": "stderr",
       "text": [
        "INFO:astropy:Auto-setting vmin to  1.318e+02\n"
       ]
      },
      {
       "output_type": "stream",
       "stream": "stderr",
       "text": [
        "INFO:astropy:Auto-setting vmax to  9.316e+02\n"
       ]
      },
      {
       "output_type": "stream",
       "stream": "stdout",
       "text": [
        ": Auto-setting vmin to  1.318e+02 [aplpy.core]\n",
        "INFO: Auto-setting vmax to  9.316e+02 [aplpy.core]\n",
        "296 of 423 \t coj1m003-kb71-20141218-0118-e90.fits"
       ]
      },
      {
       "output_type": "stream",
       "stream": "stdout",
       "text": [
        "\n",
        "INFO"
       ]
      },
      {
       "output_type": "stream",
       "stream": "stderr",
       "text": [
        "INFO:astropy:Auto-setting vmin to  1.241e+02\n"
       ]
      },
      {
       "output_type": "stream",
       "stream": "stderr",
       "text": [
        "INFO:astropy:Auto-setting vmax to  9.929e+02\n"
       ]
      },
      {
       "output_type": "stream",
       "stream": "stdout",
       "text": [
        ": Auto-setting vmin to  1.241e+02 [aplpy.core]\n",
        "INFO: Auto-setting vmax to  9.929e+02 [aplpy.core]\n",
        "297 of 423 \t coj1m003-kb71-20141218-0119-e90.fits"
       ]
      },
      {
       "output_type": "stream",
       "stream": "stdout",
       "text": [
        "\n",
        "INFO"
       ]
      },
      {
       "output_type": "stream",
       "stream": "stderr",
       "text": [
        "INFO:astropy:Auto-setting vmin to  1.221e+02\n"
       ]
      },
      {
       "output_type": "stream",
       "stream": "stderr",
       "text": [
        "INFO:astropy:Auto-setting vmax to  1.029e+03\n"
       ]
      },
      {
       "output_type": "stream",
       "stream": "stdout",
       "text": [
        ": Auto-setting vmin to  1.221e+02 [aplpy.core]\n",
        "INFO: Auto-setting vmax to  1.029e+03 [aplpy.core]\n",
        "298 of 423 \t coj1m003-kb71-20141218-0120-e90.fits"
       ]
      },
      {
       "output_type": "stream",
       "stream": "stdout",
       "text": [
        "\n",
        "INFO"
       ]
      },
      {
       "output_type": "stream",
       "stream": "stderr",
       "text": [
        "INFO:astropy:Auto-setting vmin to  1.228e+02\n"
       ]
      },
      {
       "output_type": "stream",
       "stream": "stderr",
       "text": [
        "INFO:astropy:Auto-setting vmax to  1.026e+03\n"
       ]
      },
      {
       "output_type": "stream",
       "stream": "stdout",
       "text": [
        ": Auto-setting vmin to  1.228e+02 [aplpy.core]\n",
        "INFO: Auto-setting vmax to  1.026e+03 [aplpy.core]\n",
        "299 of 423 \t coj1m003-kb71-20141218-0121-e90.fits"
       ]
      },
      {
       "output_type": "stream",
       "stream": "stdout",
       "text": [
        "\n",
        "INFO"
       ]
      },
      {
       "output_type": "stream",
       "stream": "stderr",
       "text": [
        "INFO:astropy:Auto-setting vmin to  1.272e+02\n"
       ]
      },
      {
       "output_type": "stream",
       "stream": "stderr",
       "text": [
        "INFO:astropy:Auto-setting vmax to  9.834e+02\n"
       ]
      },
      {
       "output_type": "stream",
       "stream": "stdout",
       "text": [
        ": Auto-setting vmin to  1.272e+02 [aplpy.core]\n",
        "INFO: Auto-setting vmax to  9.834e+02 [aplpy.core]\n",
        "300 of 423 \t coj1m003-kb71-20141218-0122-e90.fits"
       ]
      },
      {
       "output_type": "stream",
       "stream": "stdout",
       "text": [
        "\n",
        "INFO"
       ]
      },
      {
       "output_type": "stream",
       "stream": "stderr",
       "text": [
        "INFO:astropy:Auto-setting vmin to  1.267e+02\n"
       ]
      },
      {
       "output_type": "stream",
       "stream": "stderr",
       "text": [
        "INFO:astropy:Auto-setting vmax to  9.815e+02\n"
       ]
      },
      {
       "output_type": "stream",
       "stream": "stdout",
       "text": [
        ": Auto-setting vmin to  1.267e+02 [aplpy.core]\n",
        "INFO: Auto-setting vmax to  9.815e+02 [aplpy.core]\n",
        "301 of 423 \t coj1m003-kb71-20141218-0123-e90.fits"
       ]
      },
      {
       "output_type": "stream",
       "stream": "stdout",
       "text": [
        "\n",
        "INFO"
       ]
      },
      {
       "output_type": "stream",
       "stream": "stderr",
       "text": [
        "INFO:astropy:Auto-setting vmin to  1.327e+02\n"
       ]
      },
      {
       "output_type": "stream",
       "stream": "stderr",
       "text": [
        "INFO:astropy:Auto-setting vmax to  9.655e+02\n"
       ]
      },
      {
       "output_type": "stream",
       "stream": "stdout",
       "text": [
        ": Auto-setting vmin to  1.327e+02 [aplpy.core]\n",
        "INFO: Auto-setting vmax to  9.655e+02 [aplpy.core]\n",
        "302 of 423 \t coj1m003-kb71-20141218-0124-e90.fits"
       ]
      },
      {
       "output_type": "stream",
       "stream": "stdout",
       "text": [
        "\n",
        "INFO"
       ]
      },
      {
       "output_type": "stream",
       "stream": "stderr",
       "text": [
        "INFO:astropy:Auto-setting vmin to  6.761e+01\n"
       ]
      },
      {
       "output_type": "stream",
       "stream": "stderr",
       "text": [
        "INFO:astropy:Auto-setting vmax to  7.330e+02\n"
       ]
      },
      {
       "output_type": "stream",
       "stream": "stdout",
       "text": [
        ": Auto-setting vmin to  6.761e+01 [aplpy.core]\n",
        "INFO: Auto-setting vmax to  7.330e+02 [aplpy.core]\n",
        "303 of 423 \t coj1m003-kb71-20141218-0125-e90.fits"
       ]
      },
      {
       "output_type": "stream",
       "stream": "stdout",
       "text": [
        "\n",
        "INFO"
       ]
      },
      {
       "output_type": "stream",
       "stream": "stderr",
       "text": [
        "INFO:astropy:Auto-setting vmin to  1.264e+02\n"
       ]
      },
      {
       "output_type": "stream",
       "stream": "stderr",
       "text": [
        "INFO:astropy:Auto-setting vmax to  1.054e+03\n"
       ]
      },
      {
       "output_type": "stream",
       "stream": "stdout",
       "text": [
        ": Auto-setting vmin to  1.264e+02 [aplpy.core]\n",
        "INFO: Auto-setting vmax to  1.054e+03 [aplpy.core]\n",
        "304 of 423 \t coj1m003-kb71-20141218-0126-e90.fits"
       ]
      },
      {
       "output_type": "stream",
       "stream": "stdout",
       "text": [
        "\n",
        "INFO"
       ]
      },
      {
       "output_type": "stream",
       "stream": "stderr",
       "text": [
        "INFO:astropy:Auto-setting vmin to  1.317e+02\n"
       ]
      },
      {
       "output_type": "stream",
       "stream": "stderr",
       "text": [
        "INFO:astropy:Auto-setting vmax to  1.022e+03\n"
       ]
      },
      {
       "output_type": "stream",
       "stream": "stdout",
       "text": [
        ": Auto-setting vmin to  1.317e+02 [aplpy.core]\n",
        "INFO: Auto-setting vmax to  1.022e+03 [aplpy.core]\n",
        "305 of 423 \t coj1m003-kb71-20141218-0127-e90.fits"
       ]
      },
      {
       "output_type": "stream",
       "stream": "stdout",
       "text": [
        "\n",
        "INFO"
       ]
      },
      {
       "output_type": "stream",
       "stream": "stderr",
       "text": [
        "INFO:astropy:Auto-setting vmin to  1.353e+02\n"
       ]
      },
      {
       "output_type": "stream",
       "stream": "stderr",
       "text": [
        "INFO:astropy:Auto-setting vmax to  9.892e+02\n"
       ]
      },
      {
       "output_type": "stream",
       "stream": "stdout",
       "text": [
        ": Auto-setting vmin to  1.353e+02 [aplpy.core]\n",
        "INFO: Auto-setting vmax to  9.892e+02 [aplpy.core]\n",
        "306 of 423 \t coj1m003-kb71-20141218-0128-e90.fits"
       ]
      },
      {
       "output_type": "stream",
       "stream": "stdout",
       "text": [
        "\n",
        "INFO"
       ]
      },
      {
       "output_type": "stream",
       "stream": "stderr",
       "text": [
        "INFO:astropy:Auto-setting vmin to  1.283e+02\n"
       ]
      },
      {
       "output_type": "stream",
       "stream": "stderr",
       "text": [
        "INFO:astropy:Auto-setting vmax to  1.072e+03\n"
       ]
      },
      {
       "output_type": "stream",
       "stream": "stdout",
       "text": [
        ": Auto-setting vmin to  1.283e+02 [aplpy.core]\n",
        "INFO: Auto-setting vmax to  1.072e+03 [aplpy.core]\n",
        "307 of 423 \t coj1m003-kb71-20141218-0129-e90.fits"
       ]
      },
      {
       "output_type": "stream",
       "stream": "stdout",
       "text": [
        "\n",
        "INFO"
       ]
      },
      {
       "output_type": "stream",
       "stream": "stderr",
       "text": [
        "INFO:astropy:Auto-setting vmin to  1.342e+02\n"
       ]
      },
      {
       "output_type": "stream",
       "stream": "stderr",
       "text": [
        "INFO:astropy:Auto-setting vmax to  1.020e+03\n"
       ]
      },
      {
       "output_type": "stream",
       "stream": "stdout",
       "text": [
        ": Auto-setting vmin to  1.342e+02 [aplpy.core]\n",
        "INFO: Auto-setting vmax to  1.020e+03 [aplpy.core]\n",
        "308 of 423 \t coj1m003-kb71-20141218-0130-e90.fits"
       ]
      },
      {
       "output_type": "stream",
       "stream": "stdout",
       "text": [
        "\n",
        "INFO"
       ]
      },
      {
       "output_type": "stream",
       "stream": "stderr",
       "text": [
        "INFO:astropy:Auto-setting vmin to  1.342e+02\n"
       ]
      },
      {
       "output_type": "stream",
       "stream": "stderr",
       "text": [
        "INFO:astropy:Auto-setting vmax to  9.813e+02\n"
       ]
      },
      {
       "output_type": "stream",
       "stream": "stdout",
       "text": [
        ": Auto-setting vmin to  1.342e+02 [aplpy.core]\n",
        "INFO: Auto-setting vmax to  9.813e+02 [aplpy.core]\n",
        "309 of 423 \t coj1m003-kb71-20141218-0131-e90.fits"
       ]
      },
      {
       "output_type": "stream",
       "stream": "stdout",
       "text": [
        "\n",
        "INFO"
       ]
      },
      {
       "output_type": "stream",
       "stream": "stderr",
       "text": [
        "INFO:astropy:Auto-setting vmin to  1.356e+02\n"
       ]
      },
      {
       "output_type": "stream",
       "stream": "stderr",
       "text": [
        "INFO:astropy:Auto-setting vmax to  9.793e+02\n"
       ]
      },
      {
       "output_type": "stream",
       "stream": "stdout",
       "text": [
        ": Auto-setting vmin to  1.356e+02 [aplpy.core]\n",
        "INFO: Auto-setting vmax to  9.793e+02 [aplpy.core]\n",
        "310 of 423 \t coj1m003-kb71-20141218-0132-e90.fits"
       ]
      },
      {
       "output_type": "stream",
       "stream": "stdout",
       "text": [
        "\n",
        "INFO"
       ]
      },
      {
       "output_type": "stream",
       "stream": "stderr",
       "text": [
        "INFO:astropy:Auto-setting vmin to  1.331e+02\n"
       ]
      },
      {
       "output_type": "stream",
       "stream": "stderr",
       "text": [
        "INFO:astropy:Auto-setting vmax to  1.054e+03\n"
       ]
      },
      {
       "output_type": "stream",
       "stream": "stdout",
       "text": [
        ": Auto-setting vmin to  1.331e+02 [aplpy.core]\n",
        "INFO: Auto-setting vmax to  1.054e+03 [aplpy.core]\n",
        "311 of 423 \t coj1m003-kb71-20141218-0133-e90.fits"
       ]
      },
      {
       "output_type": "stream",
       "stream": "stdout",
       "text": [
        "\n",
        "INFO"
       ]
      },
      {
       "output_type": "stream",
       "stream": "stderr",
       "text": [
        "INFO:astropy:Auto-setting vmin to  1.355e+02\n"
       ]
      },
      {
       "output_type": "stream",
       "stream": "stderr",
       "text": [
        "INFO:astropy:Auto-setting vmax to  1.005e+03\n"
       ]
      },
      {
       "output_type": "stream",
       "stream": "stdout",
       "text": [
        ": Auto-setting vmin to  1.355e+02 [aplpy.core]\n",
        "INFO: Auto-setting vmax to  1.005e+03 [aplpy.core]\n",
        "312 of 423 \t coj1m003-kb71-20141218-0134-e90.fits"
       ]
      },
      {
       "output_type": "stream",
       "stream": "stdout",
       "text": [
        "\n",
        "INFO"
       ]
      },
      {
       "output_type": "stream",
       "stream": "stderr",
       "text": [
        "INFO:astropy:Auto-setting vmin to  1.348e+02\n"
       ]
      },
      {
       "output_type": "stream",
       "stream": "stderr",
       "text": [
        "INFO:astropy:Auto-setting vmax to  1.075e+03\n"
       ]
      },
      {
       "output_type": "stream",
       "stream": "stdout",
       "text": [
        ": Auto-setting vmin to  1.348e+02 [aplpy.core]\n",
        "INFO: Auto-setting vmax to  1.075e+03 [aplpy.core]\n",
        "313 of 423 \t coj1m003-kb71-20141218-0135-e90.fits"
       ]
      },
      {
       "output_type": "stream",
       "stream": "stdout",
       "text": [
        "\n",
        "INFO"
       ]
      },
      {
       "output_type": "stream",
       "stream": "stderr",
       "text": [
        "INFO:astropy:Auto-setting vmin to  1.421e+02\n"
       ]
      },
      {
       "output_type": "stream",
       "stream": "stderr",
       "text": [
        "INFO:astropy:Auto-setting vmax to  1.122e+03\n"
       ]
      },
      {
       "output_type": "stream",
       "stream": "stdout",
       "text": [
        ": Auto-setting vmin to  1.421e+02 [aplpy.core]\n",
        "INFO: Auto-setting vmax to  1.122e+03 [aplpy.core]\n",
        "314 of 423 \t coj1m003-kb71-20141218-0136-e90.fits"
       ]
      },
      {
       "output_type": "stream",
       "stream": "stdout",
       "text": [
        "\n",
        "INFO"
       ]
      },
      {
       "output_type": "stream",
       "stream": "stderr",
       "text": [
        "INFO:astropy:Auto-setting vmin to  1.243e+02\n"
       ]
      },
      {
       "output_type": "stream",
       "stream": "stderr",
       "text": [
        "INFO:astropy:Auto-setting vmax to  1.335e+03\n"
       ]
      },
      {
       "output_type": "stream",
       "stream": "stdout",
       "text": [
        ": Auto-setting vmin to  1.243e+02 [aplpy.core]\n",
        "INFO: Auto-setting vmax to  1.335e+03 [aplpy.core]\n",
        "315 of 423 \t coj1m003-kb71-20141218-0137-e90.fits"
       ]
      },
      {
       "output_type": "stream",
       "stream": "stdout",
       "text": [
        "\n",
        "INFO"
       ]
      },
      {
       "output_type": "stream",
       "stream": "stderr",
       "text": [
        "INFO:astropy:Auto-setting vmin to  1.491e+02\n"
       ]
      },
      {
       "output_type": "stream",
       "stream": "stderr",
       "text": [
        "INFO:astropy:Auto-setting vmax to  1.078e+03\n"
       ]
      },
      {
       "output_type": "stream",
       "stream": "stdout",
       "text": [
        ": Auto-setting vmin to  1.491e+02 [aplpy.core]\n",
        "INFO: Auto-setting vmax to  1.078e+03 [aplpy.core]\n",
        "316 of 423 \t coj1m003-kb71-20141218-0138-e90.fits"
       ]
      },
      {
       "output_type": "stream",
       "stream": "stdout",
       "text": [
        "\n",
        "INFO"
       ]
      },
      {
       "output_type": "stream",
       "stream": "stderr",
       "text": [
        "INFO:astropy:Auto-setting vmin to  1.534e+02\n"
       ]
      },
      {
       "output_type": "stream",
       "stream": "stderr",
       "text": [
        "INFO:astropy:Auto-setting vmax to  1.087e+03\n"
       ]
      },
      {
       "output_type": "stream",
       "stream": "stdout",
       "text": [
        ": Auto-setting vmin to  1.534e+02 [aplpy.core]\n",
        "INFO: Auto-setting vmax to  1.087e+03 [aplpy.core]\n",
        "317 of 423 \t coj1m003-kb71-20141218-0139-e90.fits"
       ]
      },
      {
       "output_type": "stream",
       "stream": "stdout",
       "text": [
        "\n",
        "INFO"
       ]
      },
      {
       "output_type": "stream",
       "stream": "stderr",
       "text": [
        "INFO:astropy:Auto-setting vmin to  1.548e+02\n"
       ]
      },
      {
       "output_type": "stream",
       "stream": "stderr",
       "text": [
        "INFO:astropy:Auto-setting vmax to  1.068e+03\n"
       ]
      },
      {
       "output_type": "stream",
       "stream": "stdout",
       "text": [
        ": Auto-setting vmin to  1.548e+02 [aplpy.core]\n",
        "INFO: Auto-setting vmax to  1.068e+03 [aplpy.core]\n",
        "318 of 423 \t coj1m003-kb71-20141218-0140-e90.fits"
       ]
      },
      {
       "output_type": "stream",
       "stream": "stdout",
       "text": [
        "\n",
        "INFO"
       ]
      },
      {
       "output_type": "stream",
       "stream": "stderr",
       "text": [
        "INFO:astropy:Auto-setting vmin to  1.583e+02\n"
       ]
      },
      {
       "output_type": "stream",
       "stream": "stderr",
       "text": [
        "INFO:astropy:Auto-setting vmax to  1.085e+03\n"
       ]
      },
      {
       "output_type": "stream",
       "stream": "stdout",
       "text": [
        ": Auto-setting vmin to  1.583e+02 [aplpy.core]\n",
        "INFO: Auto-setting vmax to  1.085e+03 [aplpy.core]\n",
        "319 of 423 \t coj1m003-kb71-20141218-0141-e90.fits"
       ]
      },
      {
       "output_type": "stream",
       "stream": "stdout",
       "text": [
        "\n",
        "INFO"
       ]
      },
      {
       "output_type": "stream",
       "stream": "stderr",
       "text": [
        "INFO:astropy:Auto-setting vmin to  1.463e+02\n"
       ]
      },
      {
       "output_type": "stream",
       "stream": "stderr",
       "text": [
        "INFO:astropy:Auto-setting vmax to  1.225e+03\n"
       ]
      },
      {
       "output_type": "stream",
       "stream": "stdout",
       "text": [
        ": Auto-setting vmin to  1.463e+02 [aplpy.core]\n",
        "INFO: Auto-setting vmax to  1.225e+03 [aplpy.core]\n",
        "320 of 423 \t coj1m003-kb71-20141218-0142-e90.fits"
       ]
      },
      {
       "output_type": "stream",
       "stream": "stdout",
       "text": [
        "\n",
        "INFO"
       ]
      },
      {
       "output_type": "stream",
       "stream": "stderr",
       "text": [
        "INFO:astropy:Auto-setting vmin to  7.704e+01\n"
       ]
      },
      {
       "output_type": "stream",
       "stream": "stderr",
       "text": [
        "INFO:astropy:Auto-setting vmax to  7.692e+02\n"
       ]
      },
      {
       "output_type": "stream",
       "stream": "stdout",
       "text": [
        ": Auto-setting vmin to  7.704e+01 [aplpy.core]\n",
        "INFO: Auto-setting vmax to  7.692e+02 [aplpy.core]\n",
        "321 of 423 \t coj1m003-kb71-20141218-0143-e90.fits"
       ]
      },
      {
       "output_type": "stream",
       "stream": "stdout",
       "text": [
        "\n",
        "INFO"
       ]
      },
      {
       "output_type": "stream",
       "stream": "stderr",
       "text": [
        "INFO:astropy:Auto-setting vmin to  1.619e+02\n"
       ]
      },
      {
       "output_type": "stream",
       "stream": "stderr",
       "text": [
        "INFO:astropy:Auto-setting vmax to  1.113e+03\n"
       ]
      },
      {
       "output_type": "stream",
       "stream": "stdout",
       "text": [
        ": Auto-setting vmin to  1.619e+02 [aplpy.core]\n",
        "INFO: Auto-setting vmax to  1.113e+03 [aplpy.core]\n",
        "322 of 423 \t coj1m003-kb71-20141218-0144-e90.fits"
       ]
      },
      {
       "output_type": "stream",
       "stream": "stdout",
       "text": [
        "\n",
        "INFO"
       ]
      },
      {
       "output_type": "stream",
       "stream": "stderr",
       "text": [
        "INFO:astropy:Auto-setting vmin to  1.653e+02\n"
       ]
      },
      {
       "output_type": "stream",
       "stream": "stderr",
       "text": [
        "INFO:astropy:Auto-setting vmax to  1.093e+03\n"
       ]
      },
      {
       "output_type": "stream",
       "stream": "stdout",
       "text": [
        ": Auto-setting vmin to  1.653e+02 [aplpy.core]\n",
        "INFO: Auto-setting vmax to  1.093e+03 [aplpy.core]\n",
        "323 of 423 \t coj1m003-kb71-20141218-0145-e90.fits"
       ]
      },
      {
       "output_type": "stream",
       "stream": "stdout",
       "text": [
        "\n",
        "INFO"
       ]
      },
      {
       "output_type": "stream",
       "stream": "stderr",
       "text": [
        "INFO:astropy:Auto-setting vmin to  1.675e+02\n"
       ]
      },
      {
       "output_type": "stream",
       "stream": "stderr",
       "text": [
        "INFO:astropy:Auto-setting vmax to  1.072e+03\n"
       ]
      },
      {
       "output_type": "stream",
       "stream": "stdout",
       "text": [
        ": Auto-setting vmin to  1.675e+02 [aplpy.core]\n",
        "INFO: Auto-setting vmax to  1.072e+03 [aplpy.core]\n",
        "324 of 423 \t coj1m003-kb71-20141218-0146-e90.fits"
       ]
      },
      {
       "output_type": "stream",
       "stream": "stdout",
       "text": [
        "\n",
        "INFO"
       ]
      },
      {
       "output_type": "stream",
       "stream": "stderr",
       "text": [
        "INFO:astropy:Auto-setting vmin to  1.641e+02\n"
       ]
      },
      {
       "output_type": "stream",
       "stream": "stderr",
       "text": [
        "INFO:astropy:Auto-setting vmax to  1.114e+03\n"
       ]
      },
      {
       "output_type": "stream",
       "stream": "stdout",
       "text": [
        ": Auto-setting vmin to  1.641e+02 [aplpy.core]\n",
        "INFO: Auto-setting vmax to  1.114e+03 [aplpy.core]\n",
        "325 of 423 \t coj1m003-kb71-20141218-0147-e90.fits"
       ]
      },
      {
       "output_type": "stream",
       "stream": "stdout",
       "text": [
        "\n",
        "INFO"
       ]
      },
      {
       "output_type": "stream",
       "stream": "stderr",
       "text": [
        "INFO:astropy:Auto-setting vmin to  1.610e+02\n"
       ]
      },
      {
       "output_type": "stream",
       "stream": "stderr",
       "text": [
        "INFO:astropy:Auto-setting vmax to  1.160e+03\n"
       ]
      },
      {
       "output_type": "stream",
       "stream": "stdout",
       "text": [
        ": Auto-setting vmin to  1.610e+02 [aplpy.core]\n",
        "INFO: Auto-setting vmax to  1.160e+03 [aplpy.core]\n",
        "326 of 423 \t coj1m003-kb71-20141218-0148-e90.fits"
       ]
      },
      {
       "output_type": "stream",
       "stream": "stdout",
       "text": [
        "\n",
        "INFO"
       ]
      },
      {
       "output_type": "stream",
       "stream": "stderr",
       "text": [
        "INFO:astropy:Auto-setting vmin to  1.672e+02\n"
       ]
      },
      {
       "output_type": "stream",
       "stream": "stderr",
       "text": [
        "INFO:astropy:Auto-setting vmax to  1.166e+03\n"
       ]
      },
      {
       "output_type": "stream",
       "stream": "stdout",
       "text": [
        ": Auto-setting vmin to  1.672e+02 [aplpy.core]\n",
        "INFO: Auto-setting vmax to  1.166e+03 [aplpy.core]\n",
        "327 of 423 \t coj1m003-kb71-20141218-0149-e90.fits"
       ]
      },
      {
       "output_type": "stream",
       "stream": "stdout",
       "text": [
        "\n",
        "INFO"
       ]
      },
      {
       "output_type": "stream",
       "stream": "stderr",
       "text": [
        "INFO:astropy:Auto-setting vmin to  1.624e+02\n"
       ]
      },
      {
       "output_type": "stream",
       "stream": "stderr",
       "text": [
        "INFO:astropy:Auto-setting vmax to  1.271e+03\n"
       ]
      },
      {
       "output_type": "stream",
       "stream": "stdout",
       "text": [
        ": Auto-setting vmin to  1.624e+02 [aplpy.core]\n",
        "INFO: Auto-setting vmax to  1.271e+03 [aplpy.core]\n",
        "328 of 423 \t coj1m003-kb71-20141218-0150-e90.fits"
       ]
      },
      {
       "output_type": "stream",
       "stream": "stdout",
       "text": [
        "\n",
        "INFO"
       ]
      },
      {
       "output_type": "stream",
       "stream": "stderr",
       "text": [
        "INFO:astropy:Auto-setting vmin to  1.698e+02\n"
       ]
      },
      {
       "output_type": "stream",
       "stream": "stderr",
       "text": [
        "INFO:astropy:Auto-setting vmax to  1.237e+03\n"
       ]
      },
      {
       "output_type": "stream",
       "stream": "stdout",
       "text": [
        ": Auto-setting vmin to  1.698e+02 [aplpy.core]\n",
        "INFO: Auto-setting vmax to  1.237e+03 [aplpy.core]\n",
        "329 of 423 \t coj1m003-kb71-20141218-0151-e90.fits"
       ]
      },
      {
       "output_type": "stream",
       "stream": "stdout",
       "text": [
        "\n",
        "INFO"
       ]
      },
      {
       "output_type": "stream",
       "stream": "stderr",
       "text": [
        "INFO:astropy:Auto-setting vmin to  1.720e+02\n"
       ]
      },
      {
       "output_type": "stream",
       "stream": "stderr",
       "text": [
        "INFO:astropy:Auto-setting vmax to  1.249e+03\n"
       ]
      },
      {
       "output_type": "stream",
       "stream": "stdout",
       "text": [
        ": Auto-setting vmin to  1.720e+02 [aplpy.core]\n",
        "INFO: Auto-setting vmax to  1.249e+03 [aplpy.core]\n",
        "330 of 423 \t coj1m003-kb71-20141218-0152-e90.fits"
       ]
      },
      {
       "output_type": "stream",
       "stream": "stdout",
       "text": [
        "\n",
        "INFO"
       ]
      },
      {
       "output_type": "stream",
       "stream": "stderr",
       "text": [
        "INFO:astropy:Auto-setting vmin to  1.660e+02\n"
       ]
      },
      {
       "output_type": "stream",
       "stream": "stderr",
       "text": [
        "INFO:astropy:Auto-setting vmax to  1.332e+03\n"
       ]
      },
      {
       "output_type": "stream",
       "stream": "stdout",
       "text": [
        ": Auto-setting vmin to  1.660e+02 [aplpy.core]\n",
        "INFO: Auto-setting vmax to  1.332e+03 [aplpy.core]\n",
        "331 of 423 \t coj1m003-kb71-20141218-0153-e90.fits"
       ]
      },
      {
       "output_type": "stream",
       "stream": "stdout",
       "text": [
        "\n",
        "INFO"
       ]
      },
      {
       "output_type": "stream",
       "stream": "stderr",
       "text": [
        "INFO:astropy:Auto-setting vmin to  1.841e+02\n"
       ]
      },
      {
       "output_type": "stream",
       "stream": "stderr",
       "text": [
        "INFO:astropy:Auto-setting vmax to  1.187e+03\n"
       ]
      },
      {
       "output_type": "stream",
       "stream": "stdout",
       "text": [
        ": Auto-setting vmin to  1.841e+02 [aplpy.core]\n",
        "INFO: Auto-setting vmax to  1.187e+03 [aplpy.core]\n",
        "332 of 423 \t coj1m003-kb71-20141218-0154-e90.fits"
       ]
      },
      {
       "output_type": "stream",
       "stream": "stdout",
       "text": [
        "\n",
        "INFO"
       ]
      },
      {
       "output_type": "stream",
       "stream": "stderr",
       "text": [
        "INFO:astropy:Auto-setting vmin to  1.954e+02\n"
       ]
      },
      {
       "output_type": "stream",
       "stream": "stderr",
       "text": [
        "INFO:astropy:Auto-setting vmax to  1.179e+03\n"
       ]
      },
      {
       "output_type": "stream",
       "stream": "stdout",
       "text": [
        ": Auto-setting vmin to  1.954e+02 [aplpy.core]\n",
        "INFO: Auto-setting vmax to  1.179e+03 [aplpy.core]\n",
        "333 of 423 \t coj1m003-kb71-20141218-0155-e90.fits"
       ]
      },
      {
       "output_type": "stream",
       "stream": "stdout",
       "text": [
        "\n",
        "INFO"
       ]
      },
      {
       "output_type": "stream",
       "stream": "stderr",
       "text": [
        "INFO:astropy:Auto-setting vmin to  1.992e+02\n"
       ]
      },
      {
       "output_type": "stream",
       "stream": "stderr",
       "text": [
        "INFO:astropy:Auto-setting vmax to  1.228e+03\n"
       ]
      },
      {
       "output_type": "stream",
       "stream": "stdout",
       "text": [
        ": Auto-setting vmin to  1.992e+02 [aplpy.core]\n",
        "INFO: Auto-setting vmax to  1.228e+03 [aplpy.core]\n",
        "334 of 423 \t coj1m003-kb71-20141218-0156-e90.fits"
       ]
      },
      {
       "output_type": "stream",
       "stream": "stdout",
       "text": [
        "\n",
        "INFO"
       ]
      },
      {
       "output_type": "stream",
       "stream": "stderr",
       "text": [
        "INFO:astropy:Auto-setting vmin to  2.093e+02\n"
       ]
      },
      {
       "output_type": "stream",
       "stream": "stderr",
       "text": [
        "INFO:astropy:Auto-setting vmax to  1.169e+03\n"
       ]
      },
      {
       "output_type": "stream",
       "stream": "stdout",
       "text": [
        ": Auto-setting vmin to  2.093e+02 [aplpy.core]\n",
        "INFO: Auto-setting vmax to  1.169e+03 [aplpy.core]\n",
        "335 of 423 \t coj1m003-kb71-20141218-0157-e90.fits"
       ]
      },
      {
       "output_type": "stream",
       "stream": "stdout",
       "text": [
        "\n",
        "INFO"
       ]
      },
      {
       "output_type": "stream",
       "stream": "stderr",
       "text": [
        "INFO:astropy:Auto-setting vmin to  2.185e+02\n"
       ]
      },
      {
       "output_type": "stream",
       "stream": "stderr",
       "text": [
        "INFO:astropy:Auto-setting vmax to  1.146e+03\n"
       ]
      },
      {
       "output_type": "stream",
       "stream": "stdout",
       "text": [
        ": Auto-setting vmin to  2.185e+02 [aplpy.core]\n",
        "INFO: Auto-setting vmax to  1.146e+03 [aplpy.core]\n",
        "336 of 423 \t coj1m003-kb71-20141218-0158-e90.fits"
       ]
      },
      {
       "output_type": "stream",
       "stream": "stdout",
       "text": [
        "\n",
        "INFO"
       ]
      },
      {
       "output_type": "stream",
       "stream": "stderr",
       "text": [
        "INFO:astropy:Auto-setting vmin to  2.280e+02\n"
       ]
      },
      {
       "output_type": "stream",
       "stream": "stderr",
       "text": [
        "INFO:astropy:Auto-setting vmax to  1.173e+03\n"
       ]
      },
      {
       "output_type": "stream",
       "stream": "stdout",
       "text": [
        ": Auto-setting vmin to  2.280e+02 [aplpy.core]\n",
        "INFO: Auto-setting vmax to  1.173e+03 [aplpy.core]\n",
        "337 of 423 \t coj1m003-kb71-20141218-0159-e90.fits"
       ]
      },
      {
       "output_type": "stream",
       "stream": "stdout",
       "text": [
        "\n",
        "INFO"
       ]
      },
      {
       "output_type": "stream",
       "stream": "stderr",
       "text": [
        "INFO:astropy:Auto-setting vmin to  2.304e+02\n"
       ]
      },
      {
       "output_type": "stream",
       "stream": "stderr",
       "text": [
        "INFO:astropy:Auto-setting vmax to  1.261e+03\n"
       ]
      },
      {
       "output_type": "stream",
       "stream": "stdout",
       "text": [
        ": Auto-setting vmin to  2.304e+02 [aplpy.core]\n",
        "INFO: Auto-setting vmax to  1.261e+03 [aplpy.core]\n",
        "338 of 423 \t coj1m003-kb71-20141218-0160-e90.fits"
       ]
      },
      {
       "output_type": "stream",
       "stream": "stdout",
       "text": [
        "\n",
        "INFO"
       ]
      },
      {
       "output_type": "stream",
       "stream": "stderr",
       "text": [
        "INFO:astropy:Auto-setting vmin to  2.466e+02\n"
       ]
      },
      {
       "output_type": "stream",
       "stream": "stderr",
       "text": [
        "INFO:astropy:Auto-setting vmax to  1.198e+03\n"
       ]
      },
      {
       "output_type": "stream",
       "stream": "stdout",
       "text": [
        ": Auto-setting vmin to  2.466e+02 [aplpy.core]\n",
        "INFO: Auto-setting vmax to  1.198e+03 [aplpy.core]\n",
        "339 of 423 \t coj1m003-kb71-20141218-0161-e90.fits"
       ]
      },
      {
       "output_type": "stream",
       "stream": "stdout",
       "text": [
        "\n",
        "INFO"
       ]
      },
      {
       "output_type": "stream",
       "stream": "stderr",
       "text": [
        "INFO:astropy:Auto-setting vmin to  2.642e+02\n"
       ]
      },
      {
       "output_type": "stream",
       "stream": "stderr",
       "text": [
        "INFO:astropy:Auto-setting vmax to  1.177e+03\n"
       ]
      },
      {
       "output_type": "stream",
       "stream": "stdout",
       "text": [
        ": Auto-setting vmin to  2.642e+02 [aplpy.core]\n",
        "INFO: Auto-setting vmax to  1.177e+03 [aplpy.core]\n",
        "340 of 423 \t coj1m003-kb71-20141218-0162-e90.fits"
       ]
      },
      {
       "output_type": "stream",
       "stream": "stdout",
       "text": [
        "\n",
        "INFO"
       ]
      },
      {
       "output_type": "stream",
       "stream": "stderr",
       "text": [
        "INFO:astropy:Auto-setting vmin to  2.759e+02\n"
       ]
      },
      {
       "output_type": "stream",
       "stream": "stderr",
       "text": [
        "INFO:astropy:Auto-setting vmax to  1.200e+03\n"
       ]
      },
      {
       "output_type": "stream",
       "stream": "stdout",
       "text": [
        ": Auto-setting vmin to  2.759e+02 [aplpy.core]\n",
        "INFO: Auto-setting vmax to  1.200e+03 [aplpy.core]\n",
        "341 of 423 \t coj1m003-kb71-20141218-0163-e90.fits"
       ]
      },
      {
       "output_type": "stream",
       "stream": "stdout",
       "text": [
        "\n",
        "INFO"
       ]
      },
      {
       "output_type": "stream",
       "stream": "stderr",
       "text": [
        "INFO:astropy:Auto-setting vmin to  2.857e+02\n"
       ]
      },
      {
       "output_type": "stream",
       "stream": "stderr",
       "text": [
        "INFO:astropy:Auto-setting vmax to  1.276e+03\n"
       ]
      },
      {
       "output_type": "stream",
       "stream": "stdout",
       "text": [
        ": Auto-setting vmin to  2.857e+02 [aplpy.core]\n",
        "INFO: Auto-setting vmax to  1.276e+03 [aplpy.core]\n",
        "342 of 423 \t coj1m003-kb71-20141218-0164-e90.fits"
       ]
      },
      {
       "output_type": "stream",
       "stream": "stdout",
       "text": [
        "\n",
        "INFO"
       ]
      },
      {
       "output_type": "stream",
       "stream": "stderr",
       "text": [
        "INFO:astropy:Auto-setting vmin to  3.117e+02\n"
       ]
      },
      {
       "output_type": "stream",
       "stream": "stderr",
       "text": [
        "INFO:astropy:Auto-setting vmax to  1.240e+03\n"
       ]
      },
      {
       "output_type": "stream",
       "stream": "stdout",
       "text": [
        ": Auto-setting vmin to  3.117e+02 [aplpy.core]\n",
        "INFO: Auto-setting vmax to  1.240e+03 [aplpy.core]\n",
        "343 of 423 \t coj1m003-kb71-20141218-0165-e90.fits"
       ]
      },
      {
       "output_type": "stream",
       "stream": "stdout",
       "text": [
        "\n",
        "INFO"
       ]
      },
      {
       "output_type": "stream",
       "stream": "stderr",
       "text": [
        "INFO:astropy:Auto-setting vmin to  3.285e+02\n"
       ]
      },
      {
       "output_type": "stream",
       "stream": "stderr",
       "text": [
        "INFO:astropy:Auto-setting vmax to  1.298e+03\n"
       ]
      },
      {
       "output_type": "stream",
       "stream": "stdout",
       "text": [
        ": Auto-setting vmin to  3.285e+02 [aplpy.core]\n",
        "INFO: Auto-setting vmax to  1.298e+03 [aplpy.core]\n",
        "344 of 423 \t cpt1m010-kb70-20141218-0083-e90.fits"
       ]
      },
      {
       "output_type": "stream",
       "stream": "stdout",
       "text": [
        "\n",
        "INFO"
       ]
      },
      {
       "output_type": "stream",
       "stream": "stderr",
       "text": [
        "INFO:astropy:Auto-setting vmin to  1.239e+03\n"
       ]
      },
      {
       "output_type": "stream",
       "stream": "stderr",
       "text": [
        "INFO:astropy:Auto-setting vmax to  2.033e+03\n"
       ]
      },
      {
       "output_type": "stream",
       "stream": "stdout",
       "text": [
        ": Auto-setting vmin to  1.239e+03 [aplpy.core]\n",
        "INFO: Auto-setting vmax to  2.033e+03 [aplpy.core]\n",
        "345 of 423 \t cpt1m010-kb70-20141218-0084-e90.fits"
       ]
      },
      {
       "output_type": "stream",
       "stream": "stdout",
       "text": [
        "\n",
        "INFO"
       ]
      },
      {
       "output_type": "stream",
       "stream": "stderr",
       "text": [
        "INFO:astropy:Auto-setting vmin to  6.672e+02\n"
       ]
      },
      {
       "output_type": "stream",
       "stream": "stderr",
       "text": [
        "INFO:astropy:Auto-setting vmax to  1.455e+03\n"
       ]
      },
      {
       "output_type": "stream",
       "stream": "stdout",
       "text": [
        ": Auto-setting vmin to  6.672e+02 [aplpy.core]\n",
        "INFO: Auto-setting vmax to  1.455e+03 [aplpy.core]\n",
        "346 of 423 \t cpt1m010-kb70-20141218-0085-e90.fits"
       ]
      },
      {
       "output_type": "stream",
       "stream": "stdout",
       "text": [
        "\n",
        "INFO"
       ]
      },
      {
       "output_type": "stream",
       "stream": "stderr",
       "text": [
        "INFO:astropy:Auto-setting vmin to  4.115e+02\n"
       ]
      },
      {
       "output_type": "stream",
       "stream": "stderr",
       "text": [
        "INFO:astropy:Auto-setting vmax to  1.190e+03\n"
       ]
      },
      {
       "output_type": "stream",
       "stream": "stdout",
       "text": [
        ": Auto-setting vmin to  4.115e+02 [aplpy.core]\n",
        "INFO: Auto-setting vmax to  1.190e+03 [aplpy.core]\n",
        "347 of 423 \t cpt1m010-kb70-20141218-0086-e90.fits"
       ]
      },
      {
       "output_type": "stream",
       "stream": "stdout",
       "text": [
        "\n",
        "INFO"
       ]
      },
      {
       "output_type": "stream",
       "stream": "stderr",
       "text": [
        "INFO:astropy:Auto-setting vmin to  2.918e+02\n"
       ]
      },
      {
       "output_type": "stream",
       "stream": "stderr",
       "text": [
        "INFO:astropy:Auto-setting vmax to  1.080e+03\n"
       ]
      },
      {
       "output_type": "stream",
       "stream": "stdout",
       "text": [
        ": Auto-setting vmin to  2.918e+02 [aplpy.core]\n",
        "INFO: Auto-setting vmax to  1.080e+03 [aplpy.core]\n",
        "348 of 423 \t cpt1m010-kb70-20141218-0087-e90.fits"
       ]
      },
      {
       "output_type": "stream",
       "stream": "stdout",
       "text": [
        "\n",
        "INFO"
       ]
      },
      {
       "output_type": "stream",
       "stream": "stderr",
       "text": [
        "INFO:astropy:Auto-setting vmin to  2.364e+02\n"
       ]
      },
      {
       "output_type": "stream",
       "stream": "stderr",
       "text": [
        "INFO:astropy:Auto-setting vmax to  1.005e+03\n"
       ]
      },
      {
       "output_type": "stream",
       "stream": "stdout",
       "text": [
        ": Auto-setting vmin to  2.364e+02 [aplpy.core]\n",
        "INFO: Auto-setting vmax to  1.005e+03 [aplpy.core]\n",
        "349 of 423 \t cpt1m010-kb70-20141218-0088-e90.fits"
       ]
      },
      {
       "output_type": "stream",
       "stream": "stdout",
       "text": [
        "\n",
        "INFO"
       ]
      },
      {
       "output_type": "stream",
       "stream": "stderr",
       "text": [
        "INFO:astropy:Auto-setting vmin to  2.120e+02\n"
       ]
      },
      {
       "output_type": "stream",
       "stream": "stderr",
       "text": [
        "INFO:astropy:Auto-setting vmax to  9.641e+02\n"
       ]
      },
      {
       "output_type": "stream",
       "stream": "stdout",
       "text": [
        ": Auto-setting vmin to  2.120e+02 [aplpy.core]\n",
        "INFO: Auto-setting vmax to  9.641e+02 [aplpy.core]\n",
        "350 of 423 \t cpt1m010-kb70-20141218-0089-e90.fits"
       ]
      },
      {
       "output_type": "stream",
       "stream": "stdout",
       "text": [
        "\n",
        "INFO"
       ]
      },
      {
       "output_type": "stream",
       "stream": "stderr",
       "text": [
        "INFO:astropy:Auto-setting vmin to  7.272e+01\n"
       ]
      },
      {
       "output_type": "stream",
       "stream": "stderr",
       "text": [
        "INFO:astropy:Auto-setting vmax to  5.918e+02\n"
       ]
      },
      {
       "output_type": "stream",
       "stream": "stdout",
       "text": [
        ": Auto-setting vmin to  7.272e+01 [aplpy.core]\n",
        "INFO: Auto-setting vmax to  5.918e+02 [aplpy.core]\n",
        "351 of 423 \t cpt1m010-kb70-20141218-0090-e90.fits"
       ]
      },
      {
       "output_type": "stream",
       "stream": "stdout",
       "text": [
        "\n",
        "INFO"
       ]
      },
      {
       "output_type": "stream",
       "stream": "stderr",
       "text": [
        "INFO:astropy:Auto-setting vmin to  1.898e+02\n"
       ]
      },
      {
       "output_type": "stream",
       "stream": "stderr",
       "text": [
        "INFO:astropy:Auto-setting vmax to  8.907e+02\n"
       ]
      },
      {
       "output_type": "stream",
       "stream": "stdout",
       "text": [
        ": Auto-setting vmin to  1.898e+02 [aplpy.core]\n",
        "INFO: Auto-setting vmax to  8.907e+02 [aplpy.core]\n",
        "352 of 423 \t cpt1m010-kb70-20141218-0091-e90.fits"
       ]
      },
      {
       "output_type": "stream",
       "stream": "stdout",
       "text": [
        "\n",
        "INFO"
       ]
      },
      {
       "output_type": "stream",
       "stream": "stderr",
       "text": [
        "INFO:astropy:Auto-setting vmin to  1.816e+02\n"
       ]
      },
      {
       "output_type": "stream",
       "stream": "stderr",
       "text": [
        "INFO:astropy:Auto-setting vmax to  8.969e+02\n"
       ]
      },
      {
       "output_type": "stream",
       "stream": "stdout",
       "text": [
        ": Auto-setting vmin to  1.816e+02 [aplpy.core]\n",
        "INFO: Auto-setting vmax to  8.969e+02 [aplpy.core]\n",
        "353 of 423 \t cpt1m010-kb70-20141218-0092-e90.fits"
       ]
      },
      {
       "output_type": "stream",
       "stream": "stdout",
       "text": [
        "\n",
        "INFO"
       ]
      },
      {
       "output_type": "stream",
       "stream": "stderr",
       "text": [
        "INFO:astropy:Auto-setting vmin to  1.800e+02\n"
       ]
      },
      {
       "output_type": "stream",
       "stream": "stderr",
       "text": [
        "INFO:astropy:Auto-setting vmax to  8.722e+02\n"
       ]
      },
      {
       "output_type": "stream",
       "stream": "stdout",
       "text": [
        ": Auto-setting vmin to  1.800e+02 [aplpy.core]\n",
        "INFO: Auto-setting vmax to  8.722e+02 [aplpy.core]\n",
        "354 of 423 \t cpt1m010-kb70-20141218-0093-e90.fits"
       ]
      },
      {
       "output_type": "stream",
       "stream": "stdout",
       "text": [
        "\n",
        "INFO"
       ]
      },
      {
       "output_type": "stream",
       "stream": "stderr",
       "text": [
        "INFO:astropy:Auto-setting vmin to  1.724e+02\n"
       ]
      },
      {
       "output_type": "stream",
       "stream": "stderr",
       "text": [
        "INFO:astropy:Auto-setting vmax to  8.870e+02\n"
       ]
      },
      {
       "output_type": "stream",
       "stream": "stdout",
       "text": [
        ": Auto-setting vmin to  1.724e+02 [aplpy.core]\n",
        "INFO: Auto-setting vmax to  8.870e+02 [aplpy.core]\n",
        "355 of 423 \t cpt1m010-kb70-20141218-0094-e90.fits"
       ]
      },
      {
       "output_type": "stream",
       "stream": "stdout",
       "text": [
        "\n",
        "INFO"
       ]
      },
      {
       "output_type": "stream",
       "stream": "stderr",
       "text": [
        "INFO:astropy:Auto-setting vmin to  1.703e+02\n"
       ]
      },
      {
       "output_type": "stream",
       "stream": "stderr",
       "text": [
        "INFO:astropy:Auto-setting vmax to  8.707e+02\n"
       ]
      },
      {
       "output_type": "stream",
       "stream": "stdout",
       "text": [
        ": Auto-setting vmin to  1.703e+02 [aplpy.core]\n",
        "INFO: Auto-setting vmax to  8.707e+02 [aplpy.core]\n",
        "356 of 423 \t cpt1m010-kb70-20141218-0095-e90.fits"
       ]
      },
      {
       "output_type": "stream",
       "stream": "stdout",
       "text": [
        "\n",
        "INFO"
       ]
      },
      {
       "output_type": "stream",
       "stream": "stderr",
       "text": [
        "INFO:astropy:Auto-setting vmin to  1.690e+02\n"
       ]
      },
      {
       "output_type": "stream",
       "stream": "stderr",
       "text": [
        "INFO:astropy:Auto-setting vmax to  8.536e+02\n"
       ]
      },
      {
       "output_type": "stream",
       "stream": "stdout",
       "text": [
        ": Auto-setting vmin to  1.690e+02 [aplpy.core]\n",
        "INFO: Auto-setting vmax to  8.536e+02 [aplpy.core]\n",
        "357 of 423 \t cpt1m010-kb70-20141218-0096-e90.fits"
       ]
      },
      {
       "output_type": "stream",
       "stream": "stdout",
       "text": [
        "\n",
        "INFO"
       ]
      },
      {
       "output_type": "stream",
       "stream": "stderr",
       "text": [
        "INFO:astropy:Auto-setting vmin to  1.635e+02\n"
       ]
      },
      {
       "output_type": "stream",
       "stream": "stderr",
       "text": [
        "INFO:astropy:Auto-setting vmax to  8.587e+02\n"
       ]
      },
      {
       "output_type": "stream",
       "stream": "stdout",
       "text": [
        ": Auto-setting vmin to  1.635e+02 [aplpy.core]\n",
        "INFO: Auto-setting vmax to  8.587e+02 [aplpy.core]\n",
        "358 of 423 \t cpt1m010-kb70-20141218-0097-e90.fits"
       ]
      },
      {
       "output_type": "stream",
       "stream": "stdout",
       "text": [
        "\n",
        "INFO"
       ]
      },
      {
       "output_type": "stream",
       "stream": "stderr",
       "text": [
        "INFO:astropy:Auto-setting vmin to  1.596e+02\n"
       ]
      },
      {
       "output_type": "stream",
       "stream": "stderr",
       "text": [
        "INFO:astropy:Auto-setting vmax to  8.635e+02\n"
       ]
      },
      {
       "output_type": "stream",
       "stream": "stdout",
       "text": [
        ": Auto-setting vmin to  1.596e+02 [aplpy.core]\n",
        "INFO: Auto-setting vmax to  8.635e+02 [aplpy.core]\n",
        "359 of 423 \t cpt1m010-kb70-20141218-0098-e90.fits"
       ]
      },
      {
       "output_type": "stream",
       "stream": "stdout",
       "text": [
        "\n",
        "INFO"
       ]
      },
      {
       "output_type": "stream",
       "stream": "stderr",
       "text": [
        "INFO:astropy:Auto-setting vmin to  1.549e+02\n"
       ]
      },
      {
       "output_type": "stream",
       "stream": "stderr",
       "text": [
        "INFO:astropy:Auto-setting vmax to  8.824e+02\n"
       ]
      },
      {
       "output_type": "stream",
       "stream": "stdout",
       "text": [
        ": Auto-setting vmin to  1.549e+02 [aplpy.core]\n",
        "INFO: Auto-setting vmax to  8.824e+02 [aplpy.core]\n",
        "360 of 423 \t cpt1m010-kb70-20141218-0099-e90.fits"
       ]
      },
      {
       "output_type": "stream",
       "stream": "stdout",
       "text": [
        "\n",
        "INFO"
       ]
      },
      {
       "output_type": "stream",
       "stream": "stderr",
       "text": [
        "INFO:astropy:Auto-setting vmin to  1.555e+02\n"
       ]
      },
      {
       "output_type": "stream",
       "stream": "stderr",
       "text": [
        "INFO:astropy:Auto-setting vmax to  8.763e+02\n"
       ]
      },
      {
       "output_type": "stream",
       "stream": "stdout",
       "text": [
        ": Auto-setting vmin to  1.555e+02 [aplpy.core]\n",
        "INFO: Auto-setting vmax to  8.763e+02 [aplpy.core]\n",
        "361 of 423 \t cpt1m010-kb70-20141218-0100-e90.fits"
       ]
      },
      {
       "output_type": "stream",
       "stream": "stdout",
       "text": [
        "\n",
        "INFO"
       ]
      },
      {
       "output_type": "stream",
       "stream": "stderr",
       "text": [
        "INFO:astropy:Auto-setting vmin to  1.533e+02\n"
       ]
      },
      {
       "output_type": "stream",
       "stream": "stderr",
       "text": [
        "INFO:astropy:Auto-setting vmax to  8.729e+02\n"
       ]
      },
      {
       "output_type": "stream",
       "stream": "stdout",
       "text": [
        ": Auto-setting vmin to  1.533e+02 [aplpy.core]\n",
        "INFO: Auto-setting vmax to  8.729e+02 [aplpy.core]\n",
        "362 of 423 \t cpt1m010-kb70-20141218-0101-e90.fits"
       ]
      },
      {
       "output_type": "stream",
       "stream": "stdout",
       "text": [
        "\n",
        "INFO"
       ]
      },
      {
       "output_type": "stream",
       "stream": "stderr",
       "text": [
        "INFO:astropy:Auto-setting vmin to  1.519e+02\n"
       ]
      },
      {
       "output_type": "stream",
       "stream": "stderr",
       "text": [
        "INFO:astropy:Auto-setting vmax to  8.996e+02\n"
       ]
      },
      {
       "output_type": "stream",
       "stream": "stdout",
       "text": [
        ": Auto-setting vmin to  1.519e+02 [aplpy.core]\n",
        "INFO: Auto-setting vmax to  8.996e+02 [aplpy.core]\n",
        "363 of 423 \t cpt1m010-kb70-20141218-0102-e90.fits"
       ]
      },
      {
       "output_type": "stream",
       "stream": "stdout",
       "text": [
        "\n",
        "INFO"
       ]
      },
      {
       "output_type": "stream",
       "stream": "stderr",
       "text": [
        "INFO:astropy:Auto-setting vmin to  1.509e+02\n"
       ]
      },
      {
       "output_type": "stream",
       "stream": "stderr",
       "text": [
        "INFO:astropy:Auto-setting vmax to  9.064e+02\n"
       ]
      },
      {
       "output_type": "stream",
       "stream": "stdout",
       "text": [
        ": Auto-setting vmin to  1.509e+02 [aplpy.core]\n",
        "INFO: Auto-setting vmax to  9.064e+02 [aplpy.core]\n",
        "364 of 423 \t cpt1m010-kb70-20141218-0103-e90.fits"
       ]
      },
      {
       "output_type": "stream",
       "stream": "stdout",
       "text": [
        "\n",
        "INFO"
       ]
      },
      {
       "output_type": "stream",
       "stream": "stderr",
       "text": [
        "INFO:astropy:Auto-setting vmin to -5.722e+01\n"
       ]
      },
      {
       "output_type": "stream",
       "stream": "stderr",
       "text": [
        "INFO:astropy:Auto-setting vmax to  9.380e+01\n"
       ]
      },
      {
       "output_type": "stream",
       "stream": "stdout",
       "text": [
        ": Auto-setting vmin to -5.722e+01 [aplpy.core]\n",
        "INFO: Auto-setting vmax to  9.380e+01 [aplpy.core]\n",
        "365 of 423 \t cpt1m010-kb70-20141218-0104-e90.fits"
       ]
      },
      {
       "output_type": "stream",
       "stream": "stdout",
       "text": [
        "\n",
        "INFO"
       ]
      },
      {
       "output_type": "stream",
       "stream": "stderr",
       "text": [
        "INFO:astropy:Auto-setting vmin to -5.727e+01\n"
       ]
      },
      {
       "output_type": "stream",
       "stream": "stderr",
       "text": [
        "INFO:astropy:Auto-setting vmax to  6.832e+01\n"
       ]
      },
      {
       "output_type": "stream",
       "stream": "stdout",
       "text": [
        ": Auto-setting vmin to -5.727e+01 [aplpy.core]\n",
        "INFO: Auto-setting vmax to  6.832e+01 [aplpy.core]\n",
        "366 of 423 \t cpt1m010-kb70-20141218-0105-e90.fits"
       ]
      },
      {
       "output_type": "stream",
       "stream": "stdout",
       "text": [
        "\n",
        "INFO"
       ]
      },
      {
       "output_type": "stream",
       "stream": "stderr",
       "text": [
        "INFO:astropy:Auto-setting vmin to -9.815e+01\n"
       ]
      },
      {
       "output_type": "stream",
       "stream": "stderr",
       "text": [
        "INFO:astropy:Auto-setting vmax to  8.313e+02\n"
       ]
      },
      {
       "output_type": "stream",
       "stream": "stdout",
       "text": [
        ": Auto-setting vmin to -9.815e+01 [aplpy.core]\n",
        "INFO: Auto-setting vmax to  8.313e+02 [aplpy.core]\n",
        "367 of 423 \t cpt1m010-kb70-20141218-0106-e90.fits"
       ]
      },
      {
       "output_type": "stream",
       "stream": "stdout",
       "text": [
        "\n",
        "INFO"
       ]
      },
      {
       "output_type": "stream",
       "stream": "stderr",
       "text": [
        "INFO:astropy:Auto-setting vmin to  5.364e+01\n"
       ]
      },
      {
       "output_type": "stream",
       "stream": "stderr",
       "text": [
        "INFO:astropy:Auto-setting vmax to  5.823e+02\n"
       ]
      },
      {
       "output_type": "stream",
       "stream": "stdout",
       "text": [
        ": Auto-setting vmin to  5.364e+01 [aplpy.core]\n",
        "INFO: Auto-setting vmax to  5.823e+02 [aplpy.core]\n",
        "368 of 423 \t cpt1m010-kb70-20141218-0107-e90.fits"
       ]
      },
      {
       "output_type": "stream",
       "stream": "stdout",
       "text": [
        "\n",
        "INFO"
       ]
      },
      {
       "output_type": "stream",
       "stream": "stderr",
       "text": [
        "INFO:astropy:Auto-setting vmin to -9.725e+01\n"
       ]
      },
      {
       "output_type": "stream",
       "stream": "stderr",
       "text": [
        "INFO:astropy:Auto-setting vmax to  8.237e+02\n"
       ]
      },
      {
       "output_type": "stream",
       "stream": "stdout",
       "text": [
        ": Auto-setting vmin to -9.725e+01 [aplpy.core]\n",
        "INFO: Auto-setting vmax to  8.237e+02 [aplpy.core]\n",
        "369 of 423 \t cpt1m010-kb70-20141218-0108-e90.fits"
       ]
      },
      {
       "output_type": "stream",
       "stream": "stdout",
       "text": [
        "\n",
        "INFO"
       ]
      },
      {
       "output_type": "stream",
       "stream": "stderr",
       "text": [
        "INFO:astropy:Auto-setting vmin to  1.607e+02\n"
       ]
      },
      {
       "output_type": "stream",
       "stream": "stderr",
       "text": [
        "INFO:astropy:Auto-setting vmax to  8.720e+02\n"
       ]
      },
      {
       "output_type": "stream",
       "stream": "stdout",
       "text": [
        ": Auto-setting vmin to  1.607e+02 [aplpy.core]\n",
        "INFO: Auto-setting vmax to  8.720e+02 [aplpy.core]\n",
        "370 of 423 \t cpt1m010-kb70-20141218-0109-e90.fits"
       ]
      },
      {
       "output_type": "stream",
       "stream": "stdout",
       "text": [
        "\n",
        "INFO"
       ]
      },
      {
       "output_type": "stream",
       "stream": "stderr",
       "text": [
        "INFO:astropy:Auto-setting vmin to -9.672e+01\n"
       ]
      },
      {
       "output_type": "stream",
       "stream": "stderr",
       "text": [
        "INFO:astropy:Auto-setting vmax to  8.300e+02\n"
       ]
      },
      {
       "output_type": "stream",
       "stream": "stdout",
       "text": [
        ": Auto-setting vmin to -9.672e+01 [aplpy.core]\n",
        "INFO: Auto-setting vmax to  8.300e+02 [aplpy.core]\n",
        "371 of 423 \t cpt1m010-kb70-20141218-0110-e90.fits"
       ]
      },
      {
       "output_type": "stream",
       "stream": "stdout",
       "text": [
        "\n",
        "INFO"
       ]
      },
      {
       "output_type": "stream",
       "stream": "stderr",
       "text": [
        "INFO:astropy:Auto-setting vmin to  1.597e+02\n"
       ]
      },
      {
       "output_type": "stream",
       "stream": "stderr",
       "text": [
        "INFO:astropy:Auto-setting vmax to  8.675e+02\n"
       ]
      },
      {
       "output_type": "stream",
       "stream": "stdout",
       "text": [
        ": Auto-setting vmin to  1.597e+02 [aplpy.core]\n",
        "INFO: Auto-setting vmax to  8.675e+02 [aplpy.core]\n",
        "372 of 423 \t cpt1m010-kb70-20141218-0111-e90.fits"
       ]
      },
      {
       "output_type": "stream",
       "stream": "stdout",
       "text": [
        "\n",
        "INFO"
       ]
      },
      {
       "output_type": "stream",
       "stream": "stderr",
       "text": [
        "INFO:astropy:Auto-setting vmin to -9.554e+01\n"
       ]
      },
      {
       "output_type": "stream",
       "stream": "stderr",
       "text": [
        "INFO:astropy:Auto-setting vmax to  8.217e+02\n"
       ]
      },
      {
       "output_type": "stream",
       "stream": "stdout",
       "text": [
        ": Auto-setting vmin to -9.554e+01 [aplpy.core]\n",
        "INFO: Auto-setting vmax to  8.217e+02 [aplpy.core]\n",
        "373 of 423 \t cpt1m010-kb70-20141218-0112-e90.fits"
       ]
      },
      {
       "output_type": "stream",
       "stream": "stdout",
       "text": [
        "\n",
        "INFO"
       ]
      },
      {
       "output_type": "stream",
       "stream": "stderr",
       "text": [
        "INFO:astropy:Auto-setting vmin to  1.625e+02\n"
       ]
      },
      {
       "output_type": "stream",
       "stream": "stderr",
       "text": [
        "INFO:astropy:Auto-setting vmax to  8.623e+02\n"
       ]
      },
      {
       "output_type": "stream",
       "stream": "stdout",
       "text": [
        ": Auto-setting vmin to  1.625e+02 [aplpy.core]\n",
        "INFO: Auto-setting vmax to  8.623e+02 [aplpy.core]\n",
        "374 of 423 \t cpt1m010-kb70-20141218-0113-e90.fits"
       ]
      },
      {
       "output_type": "stream",
       "stream": "stdout",
       "text": [
        "\n",
        "INFO"
       ]
      },
      {
       "output_type": "stream",
       "stream": "stderr",
       "text": [
        "INFO:astropy:Auto-setting vmin to -9.566e+01\n"
       ]
      },
      {
       "output_type": "stream",
       "stream": "stderr",
       "text": [
        "INFO:astropy:Auto-setting vmax to  8.236e+02\n"
       ]
      },
      {
       "output_type": "stream",
       "stream": "stdout",
       "text": [
        ": Auto-setting vmin to -9.566e+01 [aplpy.core]\n",
        "INFO: Auto-setting vmax to  8.236e+02 [aplpy.core]\n",
        "375 of 423 \t cpt1m010-kb70-20141218-0114-e90.fits"
       ]
      },
      {
       "output_type": "stream",
       "stream": "stdout",
       "text": [
        "\n",
        "INFO"
       ]
      },
      {
       "output_type": "stream",
       "stream": "stderr",
       "text": [
        "INFO:astropy:Auto-setting vmin to  1.636e+02\n"
       ]
      },
      {
       "output_type": "stream",
       "stream": "stderr",
       "text": [
        "INFO:astropy:Auto-setting vmax to  8.812e+02\n"
       ]
      },
      {
       "output_type": "stream",
       "stream": "stdout",
       "text": [
        ": Auto-setting vmin to  1.636e+02 [aplpy.core]\n",
        "INFO: Auto-setting vmax to  8.812e+02 [aplpy.core]\n",
        "376 of 423 \t cpt1m010-kb70-20141218-0115-e90.fits"
       ]
      },
      {
       "output_type": "stream",
       "stream": "stdout",
       "text": [
        "\n",
        "INFO"
       ]
      },
      {
       "output_type": "stream",
       "stream": "stderr",
       "text": [
        "INFO:astropy:Auto-setting vmin to -9.821e+01\n"
       ]
      },
      {
       "output_type": "stream",
       "stream": "stderr",
       "text": [
        "INFO:astropy:Auto-setting vmax to  8.504e+02\n"
       ]
      },
      {
       "output_type": "stream",
       "stream": "stdout",
       "text": [
        ": Auto-setting vmin to -9.821e+01 [aplpy.core]\n",
        "INFO: Auto-setting vmax to  8.504e+02 [aplpy.core]\n",
        "377 of 423 \t cpt1m010-kb70-20141218-0116-e90.fits"
       ]
      },
      {
       "output_type": "stream",
       "stream": "stdout",
       "text": [
        "\n",
        "INFO"
       ]
      },
      {
       "output_type": "stream",
       "stream": "stderr",
       "text": [
        "INFO:astropy:Auto-setting vmin to  1.584e+02\n"
       ]
      },
      {
       "output_type": "stream",
       "stream": "stderr",
       "text": [
        "INFO:astropy:Auto-setting vmax to  9.096e+02\n"
       ]
      },
      {
       "output_type": "stream",
       "stream": "stdout",
       "text": [
        ": Auto-setting vmin to  1.584e+02 [aplpy.core]\n",
        "INFO: Auto-setting vmax to  9.096e+02 [aplpy.core]\n",
        "378 of 423 \t cpt1m010-kb70-20141218-0117-e90.fits"
       ]
      },
      {
       "output_type": "stream",
       "stream": "stdout",
       "text": [
        "\n",
        "INFO"
       ]
      },
      {
       "output_type": "stream",
       "stream": "stderr",
       "text": [
        "INFO:astropy:Auto-setting vmin to -9.881e+01\n"
       ]
      },
      {
       "output_type": "stream",
       "stream": "stderr",
       "text": [
        "INFO:astropy:Auto-setting vmax to  8.559e+02\n"
       ]
      },
      {
       "output_type": "stream",
       "stream": "stdout",
       "text": [
        ": Auto-setting vmin to -9.881e+01 [aplpy.core]\n",
        "INFO: Auto-setting vmax to  8.559e+02 [aplpy.core]\n",
        "379 of 423 \t cpt1m010-kb70-20141218-0118-e90.fits"
       ]
      },
      {
       "output_type": "stream",
       "stream": "stdout",
       "text": [
        "\n",
        "INFO"
       ]
      },
      {
       "output_type": "stream",
       "stream": "stderr",
       "text": [
        "INFO:astropy:Auto-setting vmin to  1.517e+02\n"
       ]
      },
      {
       "output_type": "stream",
       "stream": "stderr",
       "text": [
        "INFO:astropy:Auto-setting vmax to  8.762e+02\n"
       ]
      },
      {
       "output_type": "stream",
       "stream": "stdout",
       "text": [
        ": Auto-setting vmin to  1.517e+02 [aplpy.core]\n",
        "INFO: Auto-setting vmax to  8.762e+02 [aplpy.core]\n",
        "380 of 423 \t cpt1m010-kb70-20141218-0119-e90.fits"
       ]
      },
      {
       "output_type": "stream",
       "stream": "stdout",
       "text": [
        "\n",
        "INFO"
       ]
      },
      {
       "output_type": "stream",
       "stream": "stderr",
       "text": [
        "INFO:astropy:Auto-setting vmin to -9.525e+01\n"
       ]
      },
      {
       "output_type": "stream",
       "stream": "stderr",
       "text": [
        "INFO:astropy:Auto-setting vmax to  8.214e+02\n"
       ]
      },
      {
       "output_type": "stream",
       "stream": "stdout",
       "text": [
        ": Auto-setting vmin to -9.525e+01 [aplpy.core]\n",
        "INFO: Auto-setting vmax to  8.214e+02 [aplpy.core]\n",
        "381 of 423 \t cpt1m010-kb70-20141218-0120-e90.fits"
       ]
      },
      {
       "output_type": "stream",
       "stream": "stdout",
       "text": [
        "\n",
        "INFO"
       ]
      },
      {
       "output_type": "stream",
       "stream": "stderr",
       "text": [
        "INFO:astropy:Auto-setting vmin to  1.458e+02\n"
       ]
      },
      {
       "output_type": "stream",
       "stream": "stderr",
       "text": [
        "INFO:astropy:Auto-setting vmax to  8.493e+02\n"
       ]
      },
      {
       "output_type": "stream",
       "stream": "stdout",
       "text": [
        ": Auto-setting vmin to  1.458e+02 [aplpy.core]\n",
        "INFO: Auto-setting vmax to  8.493e+02 [aplpy.core]\n",
        "382 of 423 \t cpt1m010-kb70-20141218-0121-e90.fits"
       ]
      },
      {
       "output_type": "stream",
       "stream": "stdout",
       "text": [
        "\n",
        "INFO"
       ]
      },
      {
       "output_type": "stream",
       "stream": "stderr",
       "text": [
        "INFO:astropy:Auto-setting vmin to -9.322e+01\n"
       ]
      },
      {
       "output_type": "stream",
       "stream": "stderr",
       "text": [
        "INFO:astropy:Auto-setting vmax to  7.922e+02\n"
       ]
      },
      {
       "output_type": "stream",
       "stream": "stdout",
       "text": [
        ": Auto-setting vmin to -9.322e+01 [aplpy.core]\n",
        "INFO: Auto-setting vmax to  7.922e+02 [aplpy.core]\n",
        "383 of 423 \t cpt1m010-kb70-20141218-0122-e90.fits"
       ]
      },
      {
       "output_type": "stream",
       "stream": "stdout",
       "text": [
        "\n",
        "INFO"
       ]
      },
      {
       "output_type": "stream",
       "stream": "stderr",
       "text": [
        "INFO:astropy:Auto-setting vmin to  1.413e+02\n"
       ]
      },
      {
       "output_type": "stream",
       "stream": "stderr",
       "text": [
        "INFO:astropy:Auto-setting vmax to  8.441e+02\n"
       ]
      },
      {
       "output_type": "stream",
       "stream": "stdout",
       "text": [
        ": Auto-setting vmin to  1.413e+02 [aplpy.core]\n",
        "INFO: Auto-setting vmax to  8.441e+02 [aplpy.core]\n",
        "384 of 423 \t cpt1m010-kb70-20141218-0123-e90.fits"
       ]
      },
      {
       "output_type": "stream",
       "stream": "stdout",
       "text": [
        "\n",
        "INFO"
       ]
      },
      {
       "output_type": "stream",
       "stream": "stderr",
       "text": [
        "INFO:astropy:Auto-setting vmin to -7.493e+01\n"
       ]
      },
      {
       "output_type": "stream",
       "stream": "stderr",
       "text": [
        "INFO:astropy:Auto-setting vmax to  5.353e+02\n"
       ]
      },
      {
       "output_type": "stream",
       "stream": "stdout",
       "text": [
        ": Auto-setting vmin to -7.493e+01 [aplpy.core]\n",
        "INFO: Auto-setting vmax to  5.353e+02 [aplpy.core]\n",
        "385 of 423 \t cpt1m010-kb70-20141218-0124-e90.fits"
       ]
      },
      {
       "output_type": "stream",
       "stream": "stdout",
       "text": [
        "\n",
        "INFO"
       ]
      },
      {
       "output_type": "stream",
       "stream": "stderr",
       "text": [
        "INFO:astropy:Auto-setting vmin to  1.404e+02\n"
       ]
      },
      {
       "output_type": "stream",
       "stream": "stderr",
       "text": [
        "INFO:astropy:Auto-setting vmax to  8.373e+02\n"
       ]
      },
      {
       "output_type": "stream",
       "stream": "stdout",
       "text": [
        ": Auto-setting vmin to  1.404e+02 [aplpy.core]\n",
        "INFO: Auto-setting vmax to  8.373e+02 [aplpy.core]\n",
        "386 of 423 \t cpt1m010-kb70-20141218-0126-e90.fits"
       ]
      },
      {
       "output_type": "stream",
       "stream": "stdout",
       "text": [
        "\n",
        "INFO"
       ]
      },
      {
       "output_type": "stream",
       "stream": "stderr",
       "text": [
        "INFO:astropy:Auto-setting vmin to -5.666e+01\n"
       ]
      },
      {
       "output_type": "stream",
       "stream": "stderr",
       "text": [
        "INFO:astropy:Auto-setting vmax to  7.626e+01\n"
       ]
      },
      {
       "output_type": "stream",
       "stream": "stdout",
       "text": [
        ": Auto-setting vmin to -5.666e+01 [aplpy.core]\n",
        "INFO: Auto-setting vmax to  7.626e+01 [aplpy.core]\n",
        "387 of 423 \t cpt1m010-kb70-20141218-0127-e90.fits"
       ]
      },
      {
       "output_type": "stream",
       "stream": "stdout",
       "text": [
        "\n",
        "INFO"
       ]
      },
      {
       "output_type": "stream",
       "stream": "stderr",
       "text": [
        "INFO:astropy:Auto-setting vmin to -9.602e+01\n"
       ]
      },
      {
       "output_type": "stream",
       "stream": "stderr",
       "text": [
        "INFO:astropy:Auto-setting vmax to  8.216e+02\n"
       ]
      },
      {
       "output_type": "stream",
       "stream": "stdout",
       "text": [
        ": Auto-setting vmin to -9.602e+01 [aplpy.core]\n",
        "INFO: Auto-setting vmax to  8.216e+02 [aplpy.core]\n",
        "388 of 423 \t cpt1m010-kb70-20141218-0128-e90.fits"
       ]
      },
      {
       "output_type": "stream",
       "stream": "stdout",
       "text": [
        "\n",
        "INFO"
       ]
      },
      {
       "output_type": "stream",
       "stream": "stderr",
       "text": [
        "INFO:astropy:Auto-setting vmin to  1.450e+02\n"
       ]
      },
      {
       "output_type": "stream",
       "stream": "stderr",
       "text": [
        "INFO:astropy:Auto-setting vmax to  8.476e+02\n"
       ]
      },
      {
       "output_type": "stream",
       "stream": "stdout",
       "text": [
        ": Auto-setting vmin to  1.450e+02 [aplpy.core]\n",
        "INFO: Auto-setting vmax to  8.476e+02 [aplpy.core]\n",
        "389 of 423 \t cpt1m010-kb70-20141218-0129-e90.fits"
       ]
      },
      {
       "output_type": "stream",
       "stream": "stdout",
       "text": [
        "\n",
        "INFO"
       ]
      },
      {
       "output_type": "stream",
       "stream": "stderr",
       "text": [
        "INFO:astropy:Auto-setting vmin to  1.471e+02\n"
       ]
      },
      {
       "output_type": "stream",
       "stream": "stderr",
       "text": [
        "INFO:astropy:Auto-setting vmax to  8.432e+02\n"
       ]
      },
      {
       "output_type": "stream",
       "stream": "stdout",
       "text": [
        ": Auto-setting vmin to  1.471e+02 [aplpy.core]\n",
        "INFO: Auto-setting vmax to  8.432e+02 [aplpy.core]\n",
        "390 of 423 \t cpt1m010-kb70-20141218-0130-e90.fits"
       ]
      },
      {
       "output_type": "stream",
       "stream": "stdout",
       "text": [
        "\n",
        "INFO"
       ]
      },
      {
       "output_type": "stream",
       "stream": "stderr",
       "text": [
        "INFO:astropy:Auto-setting vmin to  1.496e+02\n"
       ]
      },
      {
       "output_type": "stream",
       "stream": "stderr",
       "text": [
        "INFO:astropy:Auto-setting vmax to  8.599e+02\n"
       ]
      },
      {
       "output_type": "stream",
       "stream": "stdout",
       "text": [
        ": Auto-setting vmin to  1.496e+02 [aplpy.core]\n",
        "INFO: Auto-setting vmax to  8.599e+02 [aplpy.core]\n",
        "391 of 423 \t cpt1m010-kb70-20141218-0131-e90.fits"
       ]
      },
      {
       "output_type": "stream",
       "stream": "stdout",
       "text": [
        "\n",
        "INFO"
       ]
      },
      {
       "output_type": "stream",
       "stream": "stderr",
       "text": [
        "INFO:astropy:Auto-setting vmin to  1.535e+02\n"
       ]
      },
      {
       "output_type": "stream",
       "stream": "stderr",
       "text": [
        "INFO:astropy:Auto-setting vmax to  8.676e+02\n"
       ]
      },
      {
       "output_type": "stream",
       "stream": "stdout",
       "text": [
        ": Auto-setting vmin to  1.535e+02 [aplpy.core]\n",
        "INFO: Auto-setting vmax to  8.676e+02 [aplpy.core]\n",
        "392 of 423 \t cpt1m010-kb70-20141218-0132-e90.fits"
       ]
      },
      {
       "output_type": "stream",
       "stream": "stdout",
       "text": [
        "\n",
        "INFO"
       ]
      },
      {
       "output_type": "stream",
       "stream": "stderr",
       "text": [
        "INFO:astropy:Auto-setting vmin to  1.575e+02\n"
       ]
      },
      {
       "output_type": "stream",
       "stream": "stderr",
       "text": [
        "INFO:astropy:Auto-setting vmax to  8.677e+02\n"
       ]
      },
      {
       "output_type": "stream",
       "stream": "stdout",
       "text": [
        ": Auto-setting vmin to  1.575e+02 [aplpy.core]\n",
        "INFO: Auto-setting vmax to  8.677e+02 [aplpy.core]\n",
        "393 of 423 \t cpt1m010-kb70-20141218-0133-e90.fits"
       ]
      },
      {
       "output_type": "stream",
       "stream": "stdout",
       "text": [
        "\n",
        "INFO"
       ]
      },
      {
       "output_type": "stream",
       "stream": "stderr",
       "text": [
        "INFO:astropy:Auto-setting vmin to  1.599e+02\n"
       ]
      },
      {
       "output_type": "stream",
       "stream": "stderr",
       "text": [
        "INFO:astropy:Auto-setting vmax to  8.643e+02\n"
       ]
      },
      {
       "output_type": "stream",
       "stream": "stdout",
       "text": [
        ": Auto-setting vmin to  1.599e+02 [aplpy.core]\n",
        "INFO: Auto-setting vmax to  8.643e+02 [aplpy.core]\n",
        "394 of 423 \t cpt1m010-kb70-20141218-0134-e90.fits"
       ]
      },
      {
       "output_type": "stream",
       "stream": "stdout",
       "text": [
        "\n",
        "INFO"
       ]
      },
      {
       "output_type": "stream",
       "stream": "stderr",
       "text": [
        "INFO:astropy:Auto-setting vmin to  1.654e+02\n"
       ]
      },
      {
       "output_type": "stream",
       "stream": "stderr",
       "text": [
        "INFO:astropy:Auto-setting vmax to  8.794e+02\n"
       ]
      },
      {
       "output_type": "stream",
       "stream": "stdout",
       "text": [
        ": Auto-setting vmin to  1.654e+02 [aplpy.core]\n",
        "INFO: Auto-setting vmax to  8.794e+02 [aplpy.core]\n",
        "395 of 423 \t cpt1m010-kb70-20141218-0135-e90.fits"
       ]
      },
      {
       "output_type": "stream",
       "stream": "stdout",
       "text": [
        "\n",
        "INFO"
       ]
      },
      {
       "output_type": "stream",
       "stream": "stderr",
       "text": [
        "INFO:astropy:Auto-setting vmin to  1.707e+02\n"
       ]
      },
      {
       "output_type": "stream",
       "stream": "stderr",
       "text": [
        "INFO:astropy:Auto-setting vmax to  8.774e+02\n"
       ]
      },
      {
       "output_type": "stream",
       "stream": "stdout",
       "text": [
        ": Auto-setting vmin to  1.707e+02 [aplpy.core]\n",
        "INFO: Auto-setting vmax to  8.774e+02 [aplpy.core]\n",
        "396 of 423 \t cpt1m010-kb70-20141218-0136-e90.fits"
       ]
      },
      {
       "output_type": "stream",
       "stream": "stdout",
       "text": [
        "\n",
        "INFO"
       ]
      },
      {
       "output_type": "stream",
       "stream": "stderr",
       "text": [
        "INFO:astropy:Auto-setting vmin to  1.746e+02\n"
       ]
      },
      {
       "output_type": "stream",
       "stream": "stderr",
       "text": [
        "INFO:astropy:Auto-setting vmax to  8.723e+02\n"
       ]
      },
      {
       "output_type": "stream",
       "stream": "stdout",
       "text": [
        ": Auto-setting vmin to  1.746e+02 [aplpy.core]\n",
        "INFO: Auto-setting vmax to  8.723e+02 [aplpy.core]\n",
        "397 of 423 \t cpt1m010-kb70-20141218-0137-e90.fits"
       ]
      },
      {
       "output_type": "stream",
       "stream": "stdout",
       "text": [
        "\n",
        "INFO"
       ]
      },
      {
       "output_type": "stream",
       "stream": "stderr",
       "text": [
        "INFO:astropy:Auto-setting vmin to  1.770e+02\n"
       ]
      },
      {
       "output_type": "stream",
       "stream": "stderr",
       "text": [
        "INFO:astropy:Auto-setting vmax to  8.617e+02\n"
       ]
      },
      {
       "output_type": "stream",
       "stream": "stdout",
       "text": [
        ": Auto-setting vmin to  1.770e+02 [aplpy.core]\n",
        "INFO: Auto-setting vmax to  8.617e+02 [aplpy.core]\n",
        "398 of 423 \t cpt1m010-kb70-20141218-0138-e90.fits"
       ]
      },
      {
       "output_type": "stream",
       "stream": "stdout",
       "text": [
        "\n",
        "INFO"
       ]
      },
      {
       "output_type": "stream",
       "stream": "stderr",
       "text": [
        "INFO:astropy:Auto-setting vmin to  1.783e+02\n"
       ]
      },
      {
       "output_type": "stream",
       "stream": "stderr",
       "text": [
        "INFO:astropy:Auto-setting vmax to  8.590e+02\n"
       ]
      },
      {
       "output_type": "stream",
       "stream": "stdout",
       "text": [
        ": Auto-setting vmin to  1.783e+02 [aplpy.core]\n",
        "INFO: Auto-setting vmax to  8.590e+02 [aplpy.core]\n",
        "399 of 423 \t cpt1m010-kb70-20141218-0139-e90.fits"
       ]
      },
      {
       "output_type": "stream",
       "stream": "stdout",
       "text": [
        "\n",
        "INFO"
       ]
      },
      {
       "output_type": "stream",
       "stream": "stderr",
       "text": [
        "INFO:astropy:Auto-setting vmin to  1.797e+02\n"
       ]
      },
      {
       "output_type": "stream",
       "stream": "stderr",
       "text": [
        "INFO:astropy:Auto-setting vmax to  8.873e+02\n"
       ]
      },
      {
       "output_type": "stream",
       "stream": "stdout",
       "text": [
        ": Auto-setting vmin to  1.797e+02 [aplpy.core]\n",
        "INFO: Auto-setting vmax to  8.873e+02 [aplpy.core]\n",
        "400 of 423 \t cpt1m010-kb70-20141218-0140-e90.fits"
       ]
      },
      {
       "output_type": "stream",
       "stream": "stdout",
       "text": [
        "\n",
        "INFO"
       ]
      },
      {
       "output_type": "stream",
       "stream": "stderr",
       "text": [
        "INFO:astropy:Auto-setting vmin to  9.703e+01\n"
       ]
      },
      {
       "output_type": "stream",
       "stream": "stderr",
       "text": [
        "INFO:astropy:Auto-setting vmax to  5.917e+02\n"
       ]
      },
      {
       "output_type": "stream",
       "stream": "stdout",
       "text": [
        ": Auto-setting vmin to  9.703e+01 [aplpy.core]\n",
        "INFO: Auto-setting vmax to  5.917e+02 [aplpy.core]\n",
        "401 of 423 \t cpt1m010-kb70-20141218-0141-e90.fits"
       ]
      },
      {
       "output_type": "stream",
       "stream": "stdout",
       "text": [
        "\n",
        "INFO"
       ]
      },
      {
       "output_type": "stream",
       "stream": "stderr",
       "text": [
        "INFO:astropy:Auto-setting vmin to  1.860e+02\n"
       ]
      },
      {
       "output_type": "stream",
       "stream": "stderr",
       "text": [
        "INFO:astropy:Auto-setting vmax to  8.815e+02\n"
       ]
      },
      {
       "output_type": "stream",
       "stream": "stdout",
       "text": [
        ": Auto-setting vmin to  1.860e+02 [aplpy.core]\n",
        "INFO: Auto-setting vmax to  8.815e+02 [aplpy.core]\n",
        "402 of 423 \t cpt1m010-kb70-20141218-0142-e90.fits"
       ]
      },
      {
       "output_type": "stream",
       "stream": "stdout",
       "text": [
        "\n",
        "INFO"
       ]
      },
      {
       "output_type": "stream",
       "stream": "stderr",
       "text": [
        "INFO:astropy:Auto-setting vmin to  1.847e+02\n"
       ]
      },
      {
       "output_type": "stream",
       "stream": "stderr",
       "text": [
        "INFO:astropy:Auto-setting vmax to  9.498e+02\n"
       ]
      },
      {
       "output_type": "stream",
       "stream": "stdout",
       "text": [
        ": Auto-setting vmin to  1.847e+02 [aplpy.core]\n",
        "INFO: Auto-setting vmax to  9.498e+02 [aplpy.core]\n",
        "403 of 423 \t cpt1m010-kb70-20141218-0143-e90.fits"
       ]
      },
      {
       "output_type": "stream",
       "stream": "stdout",
       "text": [
        "\n",
        "INFO"
       ]
      },
      {
       "output_type": "stream",
       "stream": "stderr",
       "text": [
        "INFO:astropy:Auto-setting vmin to  1.851e+02\n"
       ]
      },
      {
       "output_type": "stream",
       "stream": "stderr",
       "text": [
        "INFO:astropy:Auto-setting vmax to  9.623e+02\n"
       ]
      },
      {
       "output_type": "stream",
       "stream": "stdout",
       "text": [
        ": Auto-setting vmin to  1.851e+02 [aplpy.core]\n",
        "INFO: Auto-setting vmax to  9.623e+02 [aplpy.core]\n",
        "404 of 423 \t cpt1m010-kb70-20141218-0144-e90.fits"
       ]
      },
      {
       "output_type": "stream",
       "stream": "stdout",
       "text": [
        "\n",
        "INFO"
       ]
      },
      {
       "output_type": "stream",
       "stream": "stderr",
       "text": [
        "INFO:astropy:Auto-setting vmin to  1.922e+02\n"
       ]
      },
      {
       "output_type": "stream",
       "stream": "stderr",
       "text": [
        "INFO:astropy:Auto-setting vmax to  9.194e+02\n"
       ]
      },
      {
       "output_type": "stream",
       "stream": "stdout",
       "text": [
        ": Auto-setting vmin to  1.922e+02 [aplpy.core]\n",
        "INFO: Auto-setting vmax to  9.194e+02 [aplpy.core]\n",
        "405 of 423 \t cpt1m010-kb70-20141218-0145-e90.fits"
       ]
      },
      {
       "output_type": "stream",
       "stream": "stdout",
       "text": [
        "\n",
        "INFO"
       ]
      },
      {
       "output_type": "stream",
       "stream": "stderr",
       "text": [
        "INFO:astropy:Auto-setting vmin to  1.936e+02\n"
       ]
      },
      {
       "output_type": "stream",
       "stream": "stderr",
       "text": [
        "INFO:astropy:Auto-setting vmax to  9.504e+02\n"
       ]
      },
      {
       "output_type": "stream",
       "stream": "stdout",
       "text": [
        ": Auto-setting vmin to  1.936e+02 [aplpy.core]\n",
        "INFO: Auto-setting vmax to  9.504e+02 [aplpy.core]\n",
        "406 of 423 \t cpt1m010-kb70-20141218-0146-e90.fits"
       ]
      },
      {
       "output_type": "stream",
       "stream": "stdout",
       "text": [
        "\n",
        "INFO"
       ]
      },
      {
       "output_type": "stream",
       "stream": "stderr",
       "text": [
        "INFO:astropy:Auto-setting vmin to  1.974e+02\n"
       ]
      },
      {
       "output_type": "stream",
       "stream": "stderr",
       "text": [
        "INFO:astropy:Auto-setting vmax to  9.632e+02\n"
       ]
      },
      {
       "output_type": "stream",
       "stream": "stdout",
       "text": [
        ": Auto-setting vmin to  1.974e+02 [aplpy.core]\n",
        "INFO: Auto-setting vmax to  9.632e+02 [aplpy.core]\n",
        "407 of 423 \t cpt1m010-kb70-20141218-0147-e90.fits"
       ]
      },
      {
       "output_type": "stream",
       "stream": "stdout",
       "text": [
        "\n",
        "INFO"
       ]
      },
      {
       "output_type": "stream",
       "stream": "stderr",
       "text": [
        "INFO:astropy:Auto-setting vmin to  1.987e+02\n"
       ]
      },
      {
       "output_type": "stream",
       "stream": "stderr",
       "text": [
        "INFO:astropy:Auto-setting vmax to  9.526e+02\n"
       ]
      },
      {
       "output_type": "stream",
       "stream": "stdout",
       "text": [
        ": Auto-setting vmin to  1.987e+02 [aplpy.core]\n",
        "INFO: Auto-setting vmax to  9.526e+02 [aplpy.core]\n",
        "408 of 423 \t cpt1m010-kb70-20141218-0148-e90.fits"
       ]
      },
      {
       "output_type": "stream",
       "stream": "stdout",
       "text": [
        "\n",
        "INFO"
       ]
      },
      {
       "output_type": "stream",
       "stream": "stderr",
       "text": [
        "INFO:astropy:Auto-setting vmin to  1.999e+02\n"
       ]
      },
      {
       "output_type": "stream",
       "stream": "stderr",
       "text": [
        "INFO:astropy:Auto-setting vmax to  9.217e+02\n"
       ]
      },
      {
       "output_type": "stream",
       "stream": "stdout",
       "text": [
        ": Auto-setting vmin to  1.999e+02 [aplpy.core]\n",
        "INFO: Auto-setting vmax to  9.217e+02 [aplpy.core]\n",
        "409 of 423 \t cpt1m010-kb70-20141218-0149-e90.fits"
       ]
      },
      {
       "output_type": "stream",
       "stream": "stdout",
       "text": [
        "\n",
        "INFO"
       ]
      },
      {
       "output_type": "stream",
       "stream": "stderr",
       "text": [
        "INFO:astropy:Auto-setting vmin to  2.006e+02\n"
       ]
      },
      {
       "output_type": "stream",
       "stream": "stderr",
       "text": [
        "INFO:astropy:Auto-setting vmax to  9.476e+02\n"
       ]
      },
      {
       "output_type": "stream",
       "stream": "stdout",
       "text": [
        ": Auto-setting vmin to  2.006e+02 [aplpy.core]\n",
        "INFO: Auto-setting vmax to  9.476e+02 [aplpy.core]\n",
        "410 of 423 \t cpt1m010-kb70-20141218-0150-e90.fits"
       ]
      },
      {
       "output_type": "stream",
       "stream": "stdout",
       "text": [
        "\n",
        "INFO"
       ]
      },
      {
       "output_type": "stream",
       "stream": "stderr",
       "text": [
        "INFO:astropy:Auto-setting vmin to  2.055e+02\n"
       ]
      },
      {
       "output_type": "stream",
       "stream": "stderr",
       "text": [
        "INFO:astropy:Auto-setting vmax to  9.410e+02\n"
       ]
      },
      {
       "output_type": "stream",
       "stream": "stdout",
       "text": [
        ": Auto-setting vmin to  2.055e+02 [aplpy.core]\n",
        "INFO: Auto-setting vmax to  9.410e+02 [aplpy.core]\n",
        "411 of 423 \t cpt1m010-kb70-20141218-0151-e90.fits"
       ]
      },
      {
       "output_type": "stream",
       "stream": "stdout",
       "text": [
        "\n",
        "INFO"
       ]
      },
      {
       "output_type": "stream",
       "stream": "stderr",
       "text": [
        "INFO:astropy:Auto-setting vmin to  2.104e+02\n"
       ]
      },
      {
       "output_type": "stream",
       "stream": "stderr",
       "text": [
        "INFO:astropy:Auto-setting vmax to  9.295e+02\n"
       ]
      },
      {
       "output_type": "stream",
       "stream": "stdout",
       "text": [
        ": Auto-setting vmin to  2.104e+02 [aplpy.core]\n",
        "INFO: Auto-setting vmax to  9.295e+02 [aplpy.core]\n",
        "412 of 423 \t cpt1m010-kb70-20141218-0152-e90.fits"
       ]
      },
      {
       "output_type": "stream",
       "stream": "stdout",
       "text": [
        "\n",
        "INFO"
       ]
      },
      {
       "output_type": "stream",
       "stream": "stderr",
       "text": [
        "INFO:astropy:Auto-setting vmin to  2.172e+02\n"
       ]
      },
      {
       "output_type": "stream",
       "stream": "stderr",
       "text": [
        "INFO:astropy:Auto-setting vmax to  9.233e+02\n"
       ]
      },
      {
       "output_type": "stream",
       "stream": "stdout",
       "text": [
        ": Auto-setting vmin to  2.172e+02 [aplpy.core]\n",
        "INFO: Auto-setting vmax to  9.233e+02 [aplpy.core]\n",
        "413 of 423 \t cpt1m010-kb70-20141218-0153-e90.fits"
       ]
      },
      {
       "output_type": "stream",
       "stream": "stdout",
       "text": [
        "\n",
        "INFO"
       ]
      },
      {
       "output_type": "stream",
       "stream": "stderr",
       "text": [
        "INFO:astropy:Auto-setting vmin to  2.238e+02\n"
       ]
      },
      {
       "output_type": "stream",
       "stream": "stderr",
       "text": [
        "INFO:astropy:Auto-setting vmax to  9.461e+02\n"
       ]
      },
      {
       "output_type": "stream",
       "stream": "stdout",
       "text": [
        ": Auto-setting vmin to  2.238e+02 [aplpy.core]\n",
        "INFO: Auto-setting vmax to  9.461e+02 [aplpy.core]\n",
        "414 of 423 \t cpt1m010-kb70-20141218-0154-e90.fits"
       ]
      },
      {
       "output_type": "stream",
       "stream": "stdout",
       "text": [
        "\n",
        "INFO"
       ]
      },
      {
       "output_type": "stream",
       "stream": "stderr",
       "text": [
        "INFO:astropy:Auto-setting vmin to  2.337e+02\n"
       ]
      },
      {
       "output_type": "stream",
       "stream": "stderr",
       "text": [
        "INFO:astropy:Auto-setting vmax to  9.583e+02\n"
       ]
      },
      {
       "output_type": "stream",
       "stream": "stdout",
       "text": [
        ": Auto-setting vmin to  2.337e+02 [aplpy.core]\n",
        "INFO: Auto-setting vmax to  9.583e+02 [aplpy.core]\n",
        "415 of 423 \t cpt1m010-kb70-20141218-0155-e90.fits"
       ]
      },
      {
       "output_type": "stream",
       "stream": "stdout",
       "text": [
        "\n",
        "INFO"
       ]
      },
      {
       "output_type": "stream",
       "stream": "stderr",
       "text": [
        "INFO:astropy:Auto-setting vmin to  2.401e+02\n"
       ]
      },
      {
       "output_type": "stream",
       "stream": "stderr",
       "text": [
        "INFO:astropy:Auto-setting vmax to  9.836e+02\n"
       ]
      },
      {
       "output_type": "stream",
       "stream": "stdout",
       "text": [
        ": Auto-setting vmin to  2.401e+02 [aplpy.core]\n",
        "INFO: Auto-setting vmax to  9.836e+02 [aplpy.core]\n",
        "416 of 423 \t cpt1m010-kb70-20141218-0156-e90.fits"
       ]
      },
      {
       "output_type": "stream",
       "stream": "stdout",
       "text": [
        "\n",
        "INFO"
       ]
      },
      {
       "output_type": "stream",
       "stream": "stderr",
       "text": [
        "INFO:astropy:Auto-setting vmin to  2.533e+02\n"
       ]
      },
      {
       "output_type": "stream",
       "stream": "stderr",
       "text": [
        "INFO:astropy:Auto-setting vmax to  9.703e+02\n"
       ]
      },
      {
       "output_type": "stream",
       "stream": "stdout",
       "text": [
        ": Auto-setting vmin to  2.533e+02 [aplpy.core]\n",
        "INFO: Auto-setting vmax to  9.703e+02 [aplpy.core]\n",
        "417 of 423 \t cpt1m010-kb70-20141218-0157-e90.fits"
       ]
      },
      {
       "output_type": "stream",
       "stream": "stdout",
       "text": [
        "\n",
        "INFO"
       ]
      },
      {
       "output_type": "stream",
       "stream": "stderr",
       "text": [
        "INFO:astropy:Auto-setting vmin to  2.683e+02\n"
       ]
      },
      {
       "output_type": "stream",
       "stream": "stderr",
       "text": [
        "INFO:astropy:Auto-setting vmax to  9.611e+02\n"
       ]
      },
      {
       "output_type": "stream",
       "stream": "stdout",
       "text": [
        ": Auto-setting vmin to  2.683e+02 [aplpy.core]\n",
        "INFO: Auto-setting vmax to  9.611e+02 [aplpy.core]\n",
        "418 of 423 \t cpt1m010-kb70-20141218-0158-e90.fits"
       ]
      },
      {
       "output_type": "stream",
       "stream": "stdout",
       "text": [
        "\n",
        "INFO"
       ]
      },
      {
       "output_type": "stream",
       "stream": "stderr",
       "text": [
        "INFO:astropy:Auto-setting vmin to  2.825e+02\n"
       ]
      },
      {
       "output_type": "stream",
       "stream": "stderr",
       "text": [
        "INFO:astropy:Auto-setting vmax to  9.761e+02\n"
       ]
      },
      {
       "output_type": "stream",
       "stream": "stdout",
       "text": [
        ": Auto-setting vmin to  2.825e+02 [aplpy.core]\n",
        "INFO: Auto-setting vmax to  9.761e+02 [aplpy.core]\n",
        "419 of 423 \t cpt1m010-kb70-20141218-0159-e90.fits"
       ]
      },
      {
       "output_type": "stream",
       "stream": "stdout",
       "text": [
        "\n",
        "INFO"
       ]
      },
      {
       "output_type": "stream",
       "stream": "stderr",
       "text": [
        "INFO:astropy:Auto-setting vmin to  2.988e+02\n"
       ]
      },
      {
       "output_type": "stream",
       "stream": "stderr",
       "text": [
        "INFO:astropy:Auto-setting vmax to  9.829e+02\n"
       ]
      },
      {
       "output_type": "stream",
       "stream": "stdout",
       "text": [
        ": Auto-setting vmin to  2.988e+02 [aplpy.core]\n",
        "INFO: Auto-setting vmax to  9.829e+02 [aplpy.core]\n",
        "420 of 423 \t cpt1m010-kb70-20141218-0160-e90.fits"
       ]
      },
      {
       "output_type": "stream",
       "stream": "stdout",
       "text": [
        "\n",
        "INFO"
       ]
      },
      {
       "output_type": "stream",
       "stream": "stderr",
       "text": [
        "INFO:astropy:Auto-setting vmin to  3.171e+02\n"
       ]
      },
      {
       "output_type": "stream",
       "stream": "stderr",
       "text": [
        "INFO:astropy:Auto-setting vmax to  9.877e+02\n"
       ]
      },
      {
       "output_type": "stream",
       "stream": "stdout",
       "text": [
        ": Auto-setting vmin to  3.171e+02 [aplpy.core]\n",
        "INFO: Auto-setting vmax to  9.877e+02 [aplpy.core]\n",
        "421 of 423 \t cpt1m010-kb70-20141218-0161-e90.fits"
       ]
      },
      {
       "output_type": "stream",
       "stream": "stdout",
       "text": [
        "\n",
        "INFO"
       ]
      },
      {
       "output_type": "stream",
       "stream": "stderr",
       "text": [
        "INFO:astropy:Auto-setting vmin to  3.312e+02\n"
       ]
      },
      {
       "output_type": "stream",
       "stream": "stderr",
       "text": [
        "INFO:astropy:Auto-setting vmax to  1.010e+03\n"
       ]
      },
      {
       "output_type": "stream",
       "stream": "stdout",
       "text": [
        ": Auto-setting vmin to  3.312e+02 [aplpy.core]\n",
        "INFO: Auto-setting vmax to  1.010e+03 [aplpy.core]\n",
        "422 of 423 \t cpt1m010-kb70-20141218-0162-e90.fits"
       ]
      },
      {
       "output_type": "stream",
       "stream": "stdout",
       "text": [
        "\n",
        "INFO"
       ]
      },
      {
       "output_type": "stream",
       "stream": "stderr",
       "text": [
        "INFO:astropy:Auto-setting vmin to  3.499e+02\n"
       ]
      },
      {
       "output_type": "stream",
       "stream": "stderr",
       "text": [
        "INFO:astropy:Auto-setting vmax to  1.060e+03\n"
       ]
      },
      {
       "output_type": "stream",
       "stream": "stdout",
       "text": [
        ": Auto-setting vmin to  3.499e+02 [aplpy.core]\n",
        "INFO: Auto-setting vmax to  1.060e+03 [aplpy.core]\n"
       ]
      },
      {
       "metadata": {},
       "output_type": "pyout",
       "prompt_number": 8,
       "text": [
        "32512"
       ]
      }
     ],
     "prompt_number": 8
    },
    {
     "cell_type": "code",
     "collapsed": false,
     "input": [],
     "language": "python",
     "metadata": {},
     "outputs": []
    },
    {
     "cell_type": "code",
     "collapsed": false,
     "input": [],
     "language": "python",
     "metadata": {},
     "outputs": []
    }
   ],
   "metadata": {}
  }
 ]
}