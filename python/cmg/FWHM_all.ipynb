{
 "metadata": {
  "name": "",
  "signature": "sha256:cc81bd6b3f4a2ac0f16c91c6a2aeb4639a159d88f4d9d0cc9b111921e78bdf2b"
 },
 "nbformat": 3,
 "nbformat_minor": 0,
 "worksheets": [
  {
   "cells": [
    {
     "cell_type": "code",
     "collapsed": false,
     "input": [
      "%matplotlib inline"
     ],
     "language": "python",
     "metadata": {},
     "outputs": [],
     "prompt_number": 85
    },
    {
     "cell_type": "code",
     "collapsed": false,
     "input": [
      "import matplotlib\n",
      "matplotlib.use('Agg')\n",
      "\n",
      "import numpy as np\n",
      "from astropy.io import fits\n",
      "from astropy import wcs\n",
      "\n",
      "from wcsaxes import WCSAxes\n",
      "import aplpy\n",
      "import pylab as plt\n",
      "import scipy.optimize as opt\n",
      "\n",
      "from datetime import datetime\n",
      "import os\n",
      "from matplotlib import gridspec"
     ],
     "language": "python",
     "metadata": {},
     "outputs": [],
     "prompt_number": 86
    },
    {
     "cell_type": "code",
     "collapsed": false,
     "input": [
      "class FITSmanager:\n",
      "  def __init__(self,fits_file_name):\n",
      "    self.fits_file_name = fits_file_name\n",
      "    self.hdulist = fits.open(fits_file_name)\n",
      "    #self.hdulist.info()\n",
      "    self.image_data = self.hdulist[0].data\n",
      "    self.bigw=wcs.WCS(self.hdulist[0].header)\n",
      "\n",
      "  def histogram_image_values(self,NBINS=5000):\n",
      "    self.hist, self.bin_edges = np.histogram(self.image_data.flat, bins=NBINS, range=(0.,200000.))\n",
      "    self.BW = self.bin_edges[1] - self.bin_edges[0]\n",
      "\n",
      "\n",
      "  def plot_image_values(self,NBINS=5000):\n",
      "    #histogram = plt.hist(self.image_data.flat, log=True, bins=NBINS)\n",
      "    self.histogram_image_values(NBINS=NBINS)\n",
      "    plt.plot(self.bin_edges[:-1]+self.BW/2.,self.hist+1.e-1, label=self.fits_file_name)\n",
      "    plt.xlabel('Image Value')\n",
      "    plt.ylabel('Counts')\n",
      "    \n",
      "  def plot_image(self, ra_center=None, dec_center=None, rad=None, full_range=False):\n",
      "    gc = aplpy.FITSFigure(self.fits_file_name)\n",
      "    if(ra_center==None and dec_center==None and rad==None and full_range==True):\n",
      "      print 'It is True, it is True, full_range is True'\n",
      "      gc.show_grayscale()\n",
      "    if(ra_center==None and dec_center==None and rad==None and full_range==False):\n",
      "      gc.show_grayscale(vmin=np.percentile(self.image_data,5),vmax=np.percentile(self.image_data,98.5))\n",
      "    if(ra_center!=None and dec_center!=None and rad!=None and full_range==False):\n",
      "      gc.recenter(ra_center, dec_center, radius=rad) \n",
      "      gc.show_grayscale(vmin=np.percentile(self.image_data,5),vmax=np.percentile(self.image_data,98.5))\n",
      "    gc.add_colorbar()\n",
      "    xlabel='Right Ascension (J2000)'\n",
      "    ylabel='Declination (J2000)'\n",
      "    \n",
      "  def image_piece(self,ra, dec, pixels):\n",
      "    if(pixels%2!=0):\n",
      "      pixels+=1\n",
      "    x,y = self.bigw.wcs_world2pix(ra,dec,1)\n",
      "    zoom_data = self.image_data[y-pixels/2:y+pixels/2,x-pixels/2:x+pixels/2]\n",
      "    return zoom_data\n",
      "    #plt.figure()\n",
      "\n",
      "def twoD_Moffat((x, y), amplitude, alpha, beta, xo, yo, offset):\n",
      "  xo = float(xo)\n",
      "  yo = float(yo)    \n",
      "  a = (beta-1.)/(np.pi*alpha**2)\n",
      "  m = offset + amplitude * a *( 1. + ((x-xo)**2 + (y-yo)**2) / (2.*alpha**2))**(-beta)\n",
      "  #print np.array(g)\n",
      "  #print g\n",
      "  if(alpha<0.): m+=1.e9\n",
      "  #print offset\n",
      "  return m.ravel()\n",
      "  #return np.array(g)    \n",
      "\n",
      "def twoD_Moffat_proj(x, amplitude, alpha, beta, xo, yo, offset):\n",
      "  a = (beta-1.)/(np.pi*alpha**2)\n",
      "  m = offset + amplitude * a * ( 1. + (x**2) / (2.*alpha**2))**(-beta)\n",
      "  #print np.array(g)\n",
      "  #print g\n",
      "  return m.ravel()\n",
      "  #return np.array(g)    \n",
      "  \n",
      "class SourceImage:\n",
      "  def __init__(self,AnLib, ra,dec, pixels):\n",
      "    self.image = AnLib.image_piece(ra, dec, pixels)\n",
      "    self.ra = ra\n",
      "    self.dec = dec\n",
      "    self.pixels = pixels\n",
      "  def fit_moffat(self):\n",
      "    print 'fitting'\n",
      "    self.x_max, self.y_max = np.unravel_index(self.image.argmax(), self.image.shape)\n",
      "    background_count_guess = np.min(self.image)\n",
      "    #initial_guess = (image[x_max,y_max],x_max,y_max,3.,3.,0.,1500.)\n",
      "    #initial_guess_simple = (image[x_max,y_max],x_max,y_max,3.,1500.)\n",
      "    guess_alpha = 3.\n",
      "    guess_beta = 2.\n",
      "    self.initial_guess_moffat = (self.image[self.x_max,self.y_max], guess_alpha, guess_beta, self.x_max, self.y_max, background_count_guess)\n",
      "    print len(self.image)\n",
      "    x=np.arange(0.,len(self.image))\n",
      "    y=np.arange(0.,len(self.image))\n",
      "    self.xg, self.yg = np.mgrid[:len(self.image), :len(self.image)]\n",
      "    #popt, pcov = opt.curve_fit(twoD_Gaussian, (xg, yg), image.ravel(), p0=initial_guess)\n",
      "    #popt, pcov = opt.curve_fit(twoD_Gaussian_simple, (xg, yg), image.ravel(), p0=initial_guess_simple)\n",
      "    popt, pcov = opt.curve_fit(twoD_Moffat, (self.xg, self.yg), self.image.ravel(), p0=self.initial_guess_moffat)\n",
      "    print popt\n",
      "    \n",
      "    self.moffat_fit_image = twoD_Moffat((self.xg, self.yg), *popt).reshape(len(self.image),len(self.image))\n",
      "\n",
      "    self.rad, self.amp = radial_profile(self.image, popt[3], popt[4])\n",
      "    self.moffat_parms = popt\n",
      "    self.moffat_fwhm = popt[1]*2.*np.sqrt(2.**(1/popt[2])-1.)\n",
      "    self.moffat_chi = (self.amp-twoD_Moffat_proj(self.rad, *self.moffat_parms))/np.sqrt(self.amp)\n",
      "    #self.moffat_chi = (self.amp-twoD_Moffat_proj(self.rad, *self.moffat_parms))/np.sqrt(twoD_Moffat_proj(self.rad, *self.moffat_parms))\n",
      "    return popt\n",
      "\n",
      "  def plot_moffat_residual_2D(self):\n",
      "    plt.imshow(self.image-self.moffat_fit_image, cmap='gray', interpolation='none')\n",
      "    plt.title('ra: %1.4f dec: %1.4f'%(self.ra,self.dec))\n",
      "    plt.colorbar()\n",
      "\n",
      "  def plot_radial_profiles(self):\n",
      "    plt.plot(self.rad,self.amp,'b.')\n",
      "    txt = 'amplitude: %1.2e\\n'%self.moffat_parms[0]\n",
      "    txt+= 'alpha:        %1.2f\\n'%self.moffat_parms[1]\n",
      "    txt+= 'beta:          %1.2f\\n'%self.moffat_parms[2]\n",
      "    txt+= 'FWHM:          %1.2f\\n'%self.moffat_fwhm\n",
      "    txt+= 'offset:       %1.2e'%self.moffat_parms[5]\n",
      "    plt.plot(self.rad,twoD_Moffat_proj(self.rad, *self.moffat_parms),'r-',label=txt)\n",
      "    plt.legend(loc=1)\n",
      "    plt.title('ra: %1.4f dec: %1.4f'%(self.ra,self.dec))\n",
      "    plt.xlabel('Pixel Distance from Fitted Peak')\n",
      "    plt.ylabel('Pixel Value')\n",
      "\n",
      "  def plot_radial_profile_residuals(self):\n",
      "    plt.plot(self.rad,self.moffat_chi,'b.')\n",
      "    plt.title('ra: %1.4f dec: %1.4f'%(self.ra,self.dec))\n",
      "    plt.ylim(-15.,15.)\n",
      "    plt.xlabel('Pixel Distance from Fitted Peak')\n",
      "    plt.ylabel(r'$\\chi_p$')\n",
      "\n",
      "  def plot_moffat_chi(self):\n",
      "    chisq = np.sum((self.moffat_chi)**2)/(len(self.rad)-6.)\n",
      "    a,b,c = plt.hist(self.moffat_chi,bins=51, range=(-10,10), label=r'$\\chi^2$=%1.2f'%chisq)\n",
      "    #plt.legend(loc=1)\n",
      "    label='$\\chi^2$/d.o.f.=%1.2f'%chisq\n",
      "    plt.text(2.,0.9*max(a), label, size=16)\n",
      "\n",
      "    plt.title('ra: %1.4f dec: %1.4f'%(self.ra,self.dec))\n",
      "    plt.xlim(-10.,10.)\n",
      "    #plt.ylim(-15.,15.)\n",
      "    #plt.xlabel('Pixel Distance from Fitted Peak')\n",
      "    plt.xlabel(r'$\\chi_p$')\n",
      "\n",
      "def twoD_Gaussian((x, y), amplitude, xo, yo, sigma_x, sigma_y, theta, offset):\n",
      "  xo = float(xo)\n",
      "  yo = float(yo)    \n",
      "  a = (np.cos(theta)**2)/(2*sigma_x**2) + (np.sin(theta)**2)/(2*sigma_y**2)\n",
      "  b = -(np.sin(2*theta))/(4*sigma_x**2) + (np.sin(2*theta))/(4*sigma_y**2)\n",
      "  c = (np.sin(theta)**2)/(2*sigma_x**2) + (np.cos(theta)**2)/(2*sigma_y**2)\n",
      "  g = offset + amplitude*np.exp( - (a*((x-xo)**2) + 2*b*(x-xo)*(y-yo) \n",
      "\t\t\t  + c*((y-yo)**2)))\n",
      "  if(theta<=0.or theta>2.*np.pi): g+=1.e99\n",
      "  #print np.array(g)\n",
      "  #print g\n",
      "  return g.ravel()\n",
      "  #return np.array(g)\n",
      "\n",
      "def twoD_Gaussian_simple((x, y), amplitude, xo, yo, sigma, offset):\n",
      "  xo = float(xo)\n",
      "  yo = float(yo)    \n",
      "  a = 1./(2*sigma**2)\n",
      "  g = offset + amplitude*np.exp( - ((x-xo)**2 + (y-yo)**2) / (2.*sigma**2))\n",
      "  #print np.array(g)\n",
      "  #print g\n",
      "  return g.ravel()\n",
      "  #return np.array(g)  \n",
      "  \n",
      "\n",
      "\n",
      "def fit_guassian(image):\n",
      "  print 'fitting'\n",
      "  x_max, y_max=np.unravel_index(image.argmax(), image.shape)\n",
      "\n",
      "  #initial_guess = (image[x_max,y_max],x_max,y_max,3.,3.,0.,1500.)\n",
      "  #initial_guess_simple = (image[x_max,y_max],x_max,y_max,3.,1500.)\n",
      "  initial_guess_moffat = (image[x_max,y_max],3.,2.,x_max,y_max,1500.)\n",
      "  print len(image)\n",
      "  x=np.arange(0.,len(image))\n",
      "  y=np.arange(0.,len(image))\n",
      "  xg, yg = np.mgrid[:len(image), :len(image)]\n",
      "  #popt, pcov = opt.curve_fit(twoD_Gaussian, (xg, yg), image.ravel(), p0=initial_guess)\n",
      "  #popt, pcov = opt.curve_fit(twoD_Gaussian_simple, (xg, yg), image.ravel(), p0=initial_guess_simple)\n",
      "  popt, pcov = opt.curve_fit(twoD_Moffat, (xg, yg), image.ravel(), p0=initial_guess_moffat)\n",
      "  print popt\n",
      "  return popt\n",
      "\n",
      "def radial_profile(image, x0,y0):\n",
      "  r=[]\n",
      "  amp=[]\n",
      "  for i in range(0,len(image)):\n",
      "      for j in range(0,len(image)):\n",
      "\tr.append(np.sqrt((float(i)-x0)**2 + (float(j)-y0)**2))\n",
      "\tamp.append(image[i][j])\n",
      "  return np.array(r), np.array(amp)"
     ],
     "language": "python",
     "metadata": {},
     "outputs": [],
     "prompt_number": 87
    },
    {
     "cell_type": "heading",
     "level": 1,
     "metadata": {},
     "source": [
      "Formatting"
     ]
    },
    {
     "cell_type": "code",
     "collapsed": false,
     "input": [
      "plt.rcParams['font.size']=15\n",
      "plt.rcParams['legend.fontsize']=15\n",
      "plt.rcParams['figure.facecolor'] = 'white'\n",
      "plt.rcParams['figure.figsize']=(10,8)\n",
      "#ra = 04:38:14.9000 \n",
      "ra = (4.+38./60.+14.9/60./60.)/24*360 \n",
      "#dec = -12:17:14.40\n",
      "dec = -12. - (17./60 +14.4/60./60.)\n",
      "print 'ra',ra,'dec',dec"
     ],
     "language": "python",
     "metadata": {},
     "outputs": [
      {
       "output_type": "stream",
       "stream": "stdout",
       "text": [
        "ra 69.5620833333 dec -12.2873333333\n"
       ]
      }
     ],
     "prompt_number": 88
    },
    {
     "cell_type": "heading",
     "level": 1,
     "metadata": {},
     "source": [
      "Creating fnms list for directory"
     ]
    },
    {
     "cell_type": "code",
     "collapsed": false,
     "input": [
      "data_dir = '../../../DataCorrected/he045-1223_wcs_corrected/'\n",
      "\n",
      "# GET FILE NAMES IN DATA DIRECTORY\n",
      "fnms = os.listdir(data_dir)\n",
      "print 'Number of files:', len(fnms)\n",
      "fnms_filtered = []\n",
      "for f in fnms:\n",
      "  if(len(f.split('-'))>3):\n",
      "     fnms_filtered.append(f)\n",
      "fnms = fnms_filtered\n",
      "print 'Number of files after filtering:', len(fnms)"
     ],
     "language": "python",
     "metadata": {},
     "outputs": [
      {
       "output_type": "stream",
       "stream": "stdout",
       "text": [
        "Number of files: 423\n",
        "Number of files after filtering: 423\n"
       ]
      }
     ],
     "prompt_number": 89
    },
    {
     "cell_type": "code",
     "collapsed": false,
     "input": [
      "print 'READING THE FITS FILE OBSERVATION TIMES FOR ORDERING PURPOSES'\n",
      "mjd_obs_list = []\n",
      "fnms_list=[]\n",
      "fnms_lsc = []\n",
      "fnms_cpt = []\n",
      "fnms_coj = []\n",
      "lsc_mjd = []\n",
      "cpt_mjd = []\n",
      "coj_mjd = []\n",
      "fwhm_list=[]\n",
      "chi2_list=[]\n",
      "max_airmass=0.\n",
      "min_airmass=1.e10\n",
      "for i in range(len(fnms)):\n",
      "    if(i%50==0): print '%d of %d files read'%(i,len(fnms))\n",
      "    d=fnms[i].split('-')\n",
      "    #print i,fnms[i]\n",
      "    fnms_list.append(fnms[i])\n",
      "    fits_file_name = data_dir + fnms[i]\n",
      "    hdulist = fits.open(fits_file_name)\n",
      "    mjd_obs_list.append(float(hdulist[0].header['MJD-OBS']))\n",
      "    if(float(hdulist[0].header['AIRMASS']) > max_airmass): max_airmass = float(hdulist[0].header['AIRMASS'])\n",
      "    if(float(hdulist[0].header['AIRMASS']) < min_airmass): min_airmass = float(hdulist[0].header['AIRMASS'])\n",
      "    if hdulist[0].header['SITEID'] == 'lsc':\n",
      "        fnms_lsc.append(fnms[i])\n",
      "        lsc_mjd.append(mjd_obs_list[i])\n",
      "    if hdulist[0].header['SITEID'] == 'cpt':\n",
      "        fnms_cpt.append(fnms[i])\n",
      "        cpt_mjd.append(mjd_obs_list[i])\n",
      "    if hdulist[0].header['SITEID'] == 'coj':\n",
      "        fnms_coj.append(fnms[i])        \n",
      "        coj_mjd.append(mjd_obs_list[i])\n",
      "    hdulist.close()"
     ],
     "language": "python",
     "metadata": {},
     "outputs": [
      {
       "output_type": "stream",
       "stream": "stdout",
       "text": [
        "READING THE FITS FILE OBSERVATION TIMES FOR ORDERING PURPOSES\n",
        "0 of 423 files read\n",
        "50 of 423 files read"
       ]
      },
      {
       "output_type": "stream",
       "stream": "stdout",
       "text": [
        "\n",
        "100 of 423 files read"
       ]
      },
      {
       "output_type": "stream",
       "stream": "stdout",
       "text": [
        "\n",
        "150 of 423 files read"
       ]
      },
      {
       "output_type": "stream",
       "stream": "stdout",
       "text": [
        "\n",
        "200 of 423 files read"
       ]
      },
      {
       "output_type": "stream",
       "stream": "stdout",
       "text": [
        "\n",
        "250 of 423 files read"
       ]
      },
      {
       "output_type": "stream",
       "stream": "stdout",
       "text": [
        "\n",
        "300 of 423 files read"
       ]
      },
      {
       "output_type": "stream",
       "stream": "stdout",
       "text": [
        "\n",
        "350 of 423 files read"
       ]
      },
      {
       "output_type": "stream",
       "stream": "stdout",
       "text": [
        "\n",
        "400 of 423 files read"
       ]
      },
      {
       "output_type": "stream",
       "stream": "stdout",
       "text": [
        "\n"
       ]
      }
     ],
     "prompt_number": 90
    },
    {
     "cell_type": "code",
     "collapsed": false,
     "input": [
      "print len(mjd_obs_list)"
     ],
     "language": "python",
     "metadata": {},
     "outputs": [
      {
       "output_type": "stream",
       "stream": "stdout",
       "text": [
        "423\n"
       ]
      }
     ],
     "prompt_number": 91
    },
    {
     "cell_type": "code",
     "collapsed": false,
     "input": [
      "print fwhm_list\n",
      "print chi2_list"
     ],
     "language": "python",
     "metadata": {},
     "outputs": [
      {
       "output_type": "stream",
       "stream": "stdout",
       "text": [
        "[]\n",
        "[]\n"
       ]
      }
     ],
     "prompt_number": 82
    },
    {
     "cell_type": "code",
     "collapsed": false,
     "input": [
      "#print min_airmass\n",
      "#exit()\n",
      "#fnms_tm = [fnm.split('-')[2]+'-'+fnm.split('-')[3] for fnm in fnms]\n",
      "print 'SORTING THE FILE NAME LIST IN TIME ORDER'\n",
      "\n",
      "fnms = [x for (y,x) in sorted(zip(mjd_obs_list, fnms_list))]\n",
      "\n",
      "\n",
      "\n",
      "#for k in range(0,len(fnms)):\n",
      "#\tprint fnms[k]\n",
      "#exit()\n",
      "print 'Number of files after sorting fnms:', len(fnms)\n",
      "\n",
      "count=0\n",
      "fout = open('output.dat','w')"
     ],
     "language": "python",
     "metadata": {},
     "outputs": [
      {
       "output_type": "stream",
       "stream": "stdout",
       "text": [
        "SORTING THE FILE NAME LIST IN TIME ORDER\n",
        "Number of files after sorting fnms: 423\n"
       ]
      }
     ],
     "prompt_number": 83
    },
    {
     "cell_type": "code",
     "collapsed": false,
     "input": [
      "# ims is a list of lists, each row is a list of artists to draw in the\n",
      "# current frame; here we are just animating one artist, the image, in\n",
      "# each frame\n",
      "count=0\n",
      "list0=[]\n",
      "list1=[]\n",
      "list2=[]\n",
      "list3=[]\n",
      "os.system('rm _tmp*.png')\n",
      "print 'MAKING IMAGE FIGURES FOR ANIMATION'\n",
      "max_airmass = 0.5*np.ceil(max_airmass/0.5)\n",
      "for i in range(len(fnms)):\n",
      "    if(i==18):\n",
      "        fwhm_list.append(5.67)\n",
      "        chi2_list.append(1.48)\n",
      "        count+=1\n",
      "    elif(i==32):\n",
      "        fwhm_list.append(6.69)\n",
      "        chi2_list.append(1.41)\n",
      "        count+=1\n",
      "    elif(i==117):\n",
      "        fwhm_list.append(5.58)\n",
      "        chi2_list.append(25.00)\n",
      "        count+=1\n",
      "    elif(i==187):\n",
      "        fwhm_list.append(4.69)\n",
      "        chi2_list.append(2.35)\n",
      "        count+=1\n",
      "    elif(i==202):\n",
      "        fwhm_list.append(5.00)\n",
      "        chi2_list.append(1.38)\n",
      "        count+=1\n",
      "    elif(i==272):\n",
      "        mjd_obs_list.pop(272)\n",
      "        count+=1\n",
      "    elif(i==273):\n",
      "        fwhm_list.append(4.88)\n",
      "        chi2_list.append(2.75)\n",
      "        count+=1\n",
      "    elif(i==281):\n",
      "        mjd_obs_list.pop(281)\n",
      "        count+=1\n",
      "    elif(i==282):\n",
      "        fwhm_list.append(5.15)\n",
      "        chi2_list.append(2.2)\n",
      "        count+=1\n",
      "    elif(i==283):\n",
      "        mjd_obs_list.pop(283)\n",
      "        count+=1\n",
      "    elif(i==289):\n",
      "        mjd_obs_list.pop(289)\n",
      "        count+=1\n",
      "    elif(i==290):\n",
      "        fwhm_list.append(11.35)\n",
      "        chi2_list.append(26.45)\n",
      "        count+=1\n",
      "    elif(i==293):\n",
      "        fwhm_list.append(598.28)\n",
      "        chi2_list.append(26.74)\n",
      "        count+=1\n",
      "    elif(i==296):\n",
      "        fwhm_list.append(19.58)\n",
      "        chi2_list.append(25.95)\n",
      "        count+=1\n",
      "    elif(i==297):\n",
      "        mjd_obs_list.pop(297)\n",
      "        count+=1\n",
      "    elif(i==299):\n",
      "        fwhm_list.append(554.45)\n",
      "        chi2_list.append(26.64)\n",
      "        count+=1\n",
      "    elif(i==303):\n",
      "        mjd_obs_list.pop(303)\n",
      "        count+=1\n",
      "    elif(i==304):\n",
      "        fwhm_list.append(780.71)\n",
      "        chi2_list.append(24.86)\n",
      "        count+=1\n",
      "    elif(i==305):\n",
      "        fwhm_list.append(.53)\n",
      "        chi2_list.append(25.35)\n",
      "        count+=1\n",
      "    elif(i==307):\n",
      "        fwhm_list.append(805.23)\n",
      "        chi2_list.append(25.82)\n",
      "        count+=1\n",
      "    elif(i==308):\n",
      "        fwhm_list.append(6.32)\n",
      "        chi2_list.append(25.1)\n",
      "        count+=1\n",
      "    elif(i==310):\n",
      "        fwhm_list.append(15.35)\n",
      "        chi2_list.append(23.43)\n",
      "        count+=1\n",
      "    elif(i==312):\n",
      "        mjd_obs_list.pop(312)\n",
      "        count+=1\n",
      "    elif(i==316):\n",
      "        fwhm_list.append(5.35)\n",
      "        chi2_list.append(1.85)\n",
      "        count+=1\n",
      "    elif(i==317):\n",
      "        fwhm_list.append(8.52)\n",
      "        chi2_list.append(21.26)\n",
      "        count+=1\n",
      "    elif(i==325):\n",
      "        fwhm_list.append(5.43)\n",
      "        chi2_list.append(2.03)\n",
      "        count+=1\n",
      "    elif(i==329):\n",
      "        fwhm_list.append(5.76)\n",
      "        chi2_list.append(2.64)\n",
      "        count+=1\n",
      "    elif(i==337):\n",
      "        mjd_obs_list.pop(337)\n",
      "        count+=1\n",
      "    elif(i==346):\n",
      "        mjd_obs_list.pop(346)\n",
      "        count+=1\n",
      "    elif(i==364):\n",
      "        mjd_obs_list.pop(364)\n",
      "        count+=1\n",
      "    elif(i==365):\n",
      "        mjd_obs_list.pop(365)\n",
      "        count+=1\n",
      "    elif(i==376):\n",
      "        fwhm_list.append(4.64)\n",
      "        chi2_list.append(3.55)\n",
      "        count+=1\n",
      "    elif(i==397):\n",
      "        fwhm_list.append(4.47)\n",
      "        chi2_list.append(4.6)\n",
      "        count+=1\n",
      "    elif(i==416):\n",
      "        mjd_obs_list.pop(416)\n",
      "        count+=1\n",
      "    else:\n",
      "        d=fnms[i].split('-')\n",
      "        #gs = plt.GridSpec(1, 2, width_ratios=[3, 1]) \n",
      "        print '%d of %d \\t %s'%(i,len(fnms), fnms[i])\n",
      "        fnm = fnms[i]\n",
      "        fits_file_name = data_dir + fnm\n",
      "        FM = FITSmanager(fits_file_name)\n",
      "        #print FM.hdulist[0].header['MJD-OBS']\n",
      "        mjd = float(FM.hdulist[0].header['MJD-OBS'])\n",
      "        airmass = float(FM.hdulist[0].header['AIRMASS'])\n",
      "        obj  = SourceImage(FM, ra,  dec,  25)\n",
      "        #proxy1 = plt.figure()\n",
      "        #proxy2 = plt.subplot(222)\n",
      "        #proxy3 = plt.imshow(obj.image, cmap='gray', interpolation='none')\n",
      "        #proxy4 = plt.title('ra: %1.4f dec: %1.4f'%(ra,dec))\n",
      "        #proxy5 = plt.colorbar()\n",
      "        obj.fit_moffat()\n",
      "        #proxy6 = plt.figure(figsize=(12,10))\n",
      "        #proxy7 = plt.subplot(223)\n",
      "        #proxy8 = obj.plot_moffat_residual_2D()\n",
      "        #proxy9 = plt.subplot(224)\n",
      "        fwhm_list.append(obj.moffat_fwhm)\n",
      "        chi2_list.append(np.sum((obj.moffat_chi)**2)/(len(obj.rad)-6.))\n",
      "        #parms1 = obj.fit_moffat()\n",
      "        min_val = np.min(obj.image)\n",
      "        max_val = np.max(obj.image)\n",
      "        list0.append(mjd)\n",
      "        list1.append(max_val)\n",
      "        list2.append(min_val)\n",
      "        #list3.append(airmass)\n",
      "        del obj\n",
      "        del FM\n",
      "        count+=1\n",
      "\n",
      "os.system('convert -delay 15 -loop 0 *.png animation.gif')\n",
      "        \n",
      "#        plt.scatter(mjd_obs_list, fwhm_list)"
     ],
     "language": "python",
     "metadata": {},
     "outputs": [
      {
       "output_type": "stream",
       "stream": "stdout",
       "text": [
        "MAKING IMAGE FIGURES FOR ANIMATION\n",
        "0 of 423 \t lsc1m009-fl03-20141110-0107-e90.fits\n",
        "fitting\n",
        "26\n",
        "[  3.78024598e+04   3.88452638e+02   1.27573371e+04   1.25877560e+01\n",
        "   1.19765832e+01   5.71643493e+02]"
       ]
      },
      {
       "output_type": "stream",
       "stream": "stdout",
       "text": [
        "\n",
        "1 of 423 \t lsc1m009-fl03-20141110-0108-e90.fits\n",
        "fitting\n",
        "26\n",
        "[  3.75011753e+04   4.12030194e+02   1.50089076e+04   1.18041794e+01\n",
        "   1.18499047e+01   5.68517339e+02]"
       ]
      },
      {
       "output_type": "stream",
       "stream": "stdout",
       "text": [
        "\n",
        "2 of 423 \t lsc1m009-fl03-20141110-0109-e90.fits\n",
        "fitting\n",
        "26\n",
        "[  3.88529769e+04   3.52664942e+02   1.10203248e+04   1.27659381e+01\n",
        "   1.18040785e+01   5.76643844e+02]"
       ]
      },
      {
       "output_type": "stream",
       "stream": "stdout",
       "text": [
        "\n",
        "3 of 423 \t lsc1m009-fl03-20141110-0110-e90.fits\n",
        "fitting\n",
        "26\n",
        "[  3.86300291e+04   3.25245674e+02   9.58685471e+03   1.18797488e+01\n",
        "   1.10280753e+01   5.79951326e+02]"
       ]
      },
      {
       "output_type": "stream",
       "stream": "stdout",
       "text": [
        "\n",
        "4 of 423 \t lsc1m009-fl03-20141110-0111-e90.fits\n",
        "fitting\n",
        "26\n",
        "[  3.86737103e+04   4.17741505e+02   1.49992822e+04   1.19402568e+01\n",
        "   1.09346273e+01   5.78704158e+02]"
       ]
      },
      {
       "output_type": "stream",
       "stream": "stdout",
       "text": [
        "\n",
        "5 of 423 \t lsc1m009-fl03-20141110-0112-e90.fits\n",
        "fitting\n",
        "26\n",
        "[  3.83369282e+04   4.14820677e+02   1.46674802e+04   1.19564278e+01\n",
        "   1.09921431e+01   6.21218559e+02]"
       ]
      },
      {
       "output_type": "stream",
       "stream": "stdout",
       "text": [
        "\n",
        "6 of 423 \t lsc1m009-fl03-20141110-0113-e90.fits\n",
        "fitting\n",
        "26\n",
        "[  3.78865568e+04   3.68388314e+02   1.11984875e+04   1.22850930e+01\n",
        "   1.15102863e+01   6.62284632e+02]"
       ]
      },
      {
       "output_type": "stream",
       "stream": "stdout",
       "text": [
        "\n",
        "7 of 423 \t lsc1m009-fl03-20141110-0114-e90.fits\n",
        "fitting\n",
        "26\n",
        "[  3.80937576e+04   3.48687720e+02   1.01442016e+04   1.21762221e+01\n",
        "   1.14952426e+01   7.49235593e+02]"
       ]
      },
      {
       "output_type": "stream",
       "stream": "stdout",
       "text": [
        "\n",
        "8 of 423 \t lsc1m009-fl03-20141110-0115-e90.fits\n",
        "fitting\n",
        "26\n",
        "[  3.85934888e+04   3.86534217e+02   1.22383311e+04   1.22430273e+01\n",
        "   1.14511005e+01   8.62615482e+02]"
       ]
      },
      {
       "output_type": "stream",
       "stream": "stdout",
       "text": [
        "\n",
        "9 of 423 \t lsc1m004-fl04-20141110-0111-e90.fits\n",
        "fitting\n",
        "26\n",
        "[  4.21929005e+04   3.73641320e+02   1.22313812e+04   1.21253709e+01\n",
        "   1.15244260e+01   4.18436114e+03]"
       ]
      },
      {
       "output_type": "stream",
       "stream": "stdout",
       "text": [
        "\n",
        "10 of 423 \t lsc1m004-fl04-20141110-0112-e90.fits\n",
        "fitting\n",
        "26\n",
        "[  4.15810310e+04   3.84476880e+02   1.26309950e+04   1.20665342e+01\n",
        "   1.15933285e+01   4.23589209e+03]"
       ]
      },
      {
       "output_type": "stream",
       "stream": "stdout",
       "text": [
        "\n",
        "11 of 423 \t lsc1m004-fl04-20141110-0113-e90.fits\n",
        "fitting\n",
        "26\n",
        "[  4.08920731e+04   3.87417267e+02   1.25706494e+04   1.21220617e+01\n",
        "   1.14312190e+01   4.31766556e+03]"
       ]
      },
      {
       "output_type": "stream",
       "stream": "stdout",
       "text": [
        "\n",
        "12 of 423 \t lsc1m004-fl04-20141110-0114-e90.fits\n",
        "fitting\n",
        "26\n",
        "[  4.23510114e+04   3.75278090e+02   1.21130910e+04   1.25242213e+01\n",
        "   1.07944347e+01   4.34690402e+03]"
       ]
      },
      {
       "output_type": "stream",
       "stream": "stdout",
       "text": [
        "\n",
        "13 of 423 \t lsc1m004-fl04-20141110-0115-e90.fits\n",
        "fitting\n",
        "26\n",
        "[  4.23619933e+04   3.54623933e+02   1.05350696e+04   1.25088979e+01\n",
        "   1.15760389e+01   4.36020655e+03]"
       ]
      },
      {
       "output_type": "stream",
       "stream": "stdout",
       "text": [
        "\n",
        "14 of 423 \t lsc1m004-fl04-20141110-0116-e90.fits\n",
        "fitting\n",
        "26\n",
        "[  4.25323596e+04   3.52151473e+02   1.10272330e+04   1.23887811e+01\n",
        "   1.16256357e+01   4.41517253e+03]"
       ]
      },
      {
       "output_type": "stream",
       "stream": "stdout",
       "text": [
        "\n",
        "15 of 423 \t lsc1m004-fl04-20141110-0117-e90.fits\n",
        "fitting\n",
        "26\n",
        "[  4.34010365e+04   4.48704139e+02   1.72329815e+04   1.20224279e+01\n",
        "   1.10156966e+01   4.43475282e+03]"
       ]
      },
      {
       "output_type": "stream",
       "stream": "stdout",
       "text": [
        "\n",
        "16 of 423 \t lsc1m004-fl04-20141110-0118-e90.fits\n",
        "fitting\n",
        "26\n",
        "[  4.27940359e+04   3.87208679e+02   1.33046734e+04   1.20257126e+01\n",
        "   1.10017707e+01   4.46010388e+03]"
       ]
      },
      {
       "output_type": "stream",
       "stream": "stdout",
       "text": [
        "\n",
        "17 of 423 \t lsc1m004-fl04-20141110-0119-e90.fits\n",
        "fitting\n",
        "26\n",
        "[  4.25332990e+04   3.32563336e+02   9.92695582e+03   1.20015363e+01\n",
        "   1.18290024e+01   4.47908384e+03]"
       ]
      },
      {
       "output_type": "stream",
       "stream": "stdout",
       "text": [
        "\n",
        "19 of 423 \t coj1m011-kb05-20141111-0111-e90.fits\n",
        "fitting\n",
        "26\n",
        "[  1.73119716e+04   4.07480382e+01   1.43047576e+02   1.27250428e+01\n",
        "   1.29905393e+01   4.33060792e+02]\n",
        "20 of 423 \t coj1m011-kb05-20141111-0112-e90.fits"
       ]
      },
      {
       "output_type": "stream",
       "stream": "stdout",
       "text": [
        "\n",
        "fitting\n",
        "26\n",
        "[  1.67909093e+04   1.30206749e+01   1.25202475e+01   1.32065169e+01\n",
        "   1.34632057e+01   4.22050403e+02]\n",
        "21 of 423 \t coj1m011-kb05-20141111-0113-e90.fits\n",
        "fitting"
       ]
      },
      {
       "output_type": "stream",
       "stream": "stdout",
       "text": [
        "\n",
        "26\n",
        "[  1.76609005e+04   1.31928142e+01   1.49550378e+01   1.25671246e+01\n",
        "   1.32724265e+01   4.26065868e+02]\n",
        "22 of 423 \t coj1m011-kb05-20141111-0114-e90.fits\n",
        "fitting\n",
        "26\n",
        "[  1.83493333e+04   9.69260795e+00   7.99706073e+00   1.30323967e+01\n",
        "   1.36065590e+01   4.24720188e+02]\n",
        "23 of 423 \t coj1m011-kb05-20141111-0115-e90.fits\n",
        "fitting"
       ]
      },
      {
       "output_type": "stream",
       "stream": "stdout",
       "text": [
        "\n",
        "26\n",
        "[  2.01561935e+04   5.95336199e+00   3.14873143e+00   1.27775536e+01\n",
        "   1.31275106e+01   4.09349465e+02]\n",
        "24 of 423 \t coj1m011-kb05-20141111-0116-e90.fits\n",
        "fitting"
       ]
      },
      {
       "output_type": "stream",
       "stream": "stdout",
       "text": [
        "\n",
        "26\n",
        "[  2.02286562e+04   7.65375070e+00   4.23036190e+00   1.30390345e+01\n",
        "   1.33764098e+01   4.06283988e+02]\n",
        "25 of 423 \t coj1m011-kb05-20141111-0117-e90.fits\n",
        "fitting\n",
        "26\n",
        "[  1.77323626e+04   1.17169142e+01   1.18078225e+01   1.26767130e+01\n",
        "   1.35763044e+01   4.02182952e+02]\n",
        "26 of 423 \t coj1m011-kb05-20141111-0118-e90.fits\n",
        "fitting"
       ]
      },
      {
       "output_type": "stream",
       "stream": "stdout",
       "text": [
        "\n",
        "26\n",
        "[  1.79793050e+04   1.11645226e+01   1.04614150e+01   1.31539341e+01\n",
        "   1.29741637e+01   4.01645380e+02]\n",
        "27 of 423 \t coj1m011-kb05-20141111-0119-e90.fits\n",
        "fitting\n",
        "26\n",
        "[  1.76231017e+04   2.91063493e+01   7.12952908e+01   1.27522688e+01\n",
        "   1.38971974e+01   4.00279948e+02]"
       ]
      },
      {
       "output_type": "stream",
       "stream": "stdout",
       "text": [
        "\n",
        "28 of 423 \t lsc1m009-fl03-20141201-0115-e90.fits\n",
        "fitting\n",
        "26\n",
        "[  1.08870843e+05   3.37625625e+02   8.48267484e+03   1.25917650e+01\n",
        "   1.09918049e+01   4.45282153e+03]"
       ]
      },
      {
       "output_type": "stream",
       "stream": "stdout",
       "text": [
        "\n",
        "29 of 423 \t lsc1m009-fl03-20141201-0116-e90.fits\n",
        "fitting\n",
        "26\n",
        "[  1.10594422e+05   4.02467284e+02   1.19792252e+04   1.24159444e+01\n",
        "   1.09053946e+01   4.34810424e+03]"
       ]
      },
      {
       "output_type": "stream",
       "stream": "stdout",
       "text": [
        "\n",
        "30 of 423 \t lsc1m009-fl03-20141201-0117-e90.fits\n",
        "fitting\n",
        "26\n",
        "[  1.07293444e+05   3.87562852e+02   1.01142765e+04   1.23719223e+01\n",
        "   1.07786834e+01   4.17232230e+03]"
       ]
      },
      {
       "output_type": "stream",
       "stream": "stdout",
       "text": [
        "\n",
        "31 of 423 \t lsc1m009-fl03-20141201-0118-e90.fits\n",
        "fitting\n",
        "26\n",
        "[  1.07336422e+05   4.34170383e+02   1.42604343e+04   1.23352661e+01\n",
        "   1.16071658e+01   3.78545075e+03]"
       ]
      },
      {
       "output_type": "stream",
       "stream": "stdout",
       "text": [
        "\n",
        "33 of 423 \t lsc1m004-fl04-20141201-0122-e90.fits\n",
        "fitting\n",
        "26\n",
        "[  1.20038440e+05   3.48676350e+02   8.53882079e+03   1.29067776e+01\n",
        "   1.14837925e+01   1.82313461e+03]"
       ]
      },
      {
       "output_type": "stream",
       "stream": "stdout",
       "text": [
        "\n",
        "34 of 423 \t lsc1m004-fl04-20141201-0123-e90.fits\n",
        "fitting\n",
        "26\n",
        "[  1.10741047e+05   1.34568246e+01   1.18594618e+01   1.28810880e+01\n",
        "   1.14655572e+01   1.55332318e+03]\n",
        "35 of 423 \t lsc1m004-fl04-20141201-0124-e90.fits\n",
        "fitting"
       ]
      },
      {
       "output_type": "stream",
       "stream": "stdout",
       "text": [
        "\n",
        "26\n",
        "[  1.18300581e+05   1.29976009e+01   9.80654085e+00   1.28551540e+01\n",
        "   1.13243166e+01   1.52747852e+03]\n",
        "36 of 423 \t lsc1m004-fl04-20141216-0075-e90.fits\n",
        "fitting\n",
        "26\n",
        "[  3.74482036e+04   2.01050790e+01   2.39299192e+01   1.17883512e+01\n",
        "   1.11940662e+01   9.94748136e+02]"
       ]
      },
      {
       "output_type": "stream",
       "stream": "stdout",
       "text": [
        "\n",
        "37 of 423 \t lsc1m004-fl04-20141216-0076-e90.fits\n",
        "fitting\n",
        "26\n",
        "[  3.73011253e+04   2.44351352e+01   3.78803675e+01   1.17290420e+01\n",
        "   1.13360198e+01   6.65579551e+02]\n",
        "38 of 423 \t lsc1m004-fl04-20141216-0077-e90.fits\n",
        "fitting"
       ]
      },
      {
       "output_type": "stream",
       "stream": "stdout",
       "text": [
        "\n",
        "26\n",
        "[  3.74939762e+04   3.30910469e+01   6.76905751e+01   1.17930924e+01\n",
        "   1.12201157e+01   5.40757768e+02]\n",
        "39 of 423 \t lsc1m004-fl04-20141216-0078-e90.fits\n",
        "fitting"
       ]
      },
      {
       "output_type": "stream",
       "stream": "stdout",
       "text": [
        "\n",
        "26\n",
        "[  3.72990919e+04   1.22359307e+02   1.00453623e+03   1.20481482e+01\n",
        "   1.13145230e+01   4.94974695e+02]"
       ]
      },
      {
       "output_type": "stream",
       "stream": "stdout",
       "text": [
        "\n",
        "40 of 423 \t lsc1m004-fl04-20141216-0079-e90.fits\n",
        "fitting\n",
        "26\n",
        "[  3.71125765e+04   2.85325762e+02   5.65145238e+03   1.17754987e+01\n",
        "   1.14706750e+01   4.81999225e+02]"
       ]
      },
      {
       "output_type": "stream",
       "stream": "stdout",
       "text": [
        "\n",
        "41 of 423 \t lsc1m004-fl04-20141216-0080-e90.fits\n",
        "fitting\n",
        "26\n",
        "[  3.76434744e+04   2.61746786e+01   4.57762926e+01   1.19959892e+01\n",
        "   1.12060249e+01   4.65840781e+02]"
       ]
      },
      {
       "output_type": "stream",
       "stream": "stdout",
       "text": [
        "\n",
        "42 of 423 \t lsc1m004-fl04-20141216-0081-e90.fits\n",
        "fitting\n",
        "26\n",
        "[  3.90986992e+04   1.40260389e+02   1.18978811e+03   1.23410070e+01\n",
        "   1.12676973e+01   2.21900791e+02]"
       ]
      },
      {
       "output_type": "stream",
       "stream": "stdout",
       "text": [
        "\n",
        "43 of 423 \t lsc1m004-fl04-20141216-0082-e90.fits\n",
        "fitting\n",
        "26\n",
        "[  3.92213448e+04   3.61831388e+02   9.40001043e+03   1.25421050e+01\n",
        "   1.12832235e+01   4.62321809e+02]"
       ]
      },
      {
       "output_type": "stream",
       "stream": "stdout",
       "text": [
        "\n",
        "44 of 423 \t lsc1m004-fl04-20141216-0083-e90.fits\n",
        "fitting\n",
        "26\n",
        "[  3.93752035e+04   2.83947484e+02   5.92439733e+03   1.24901441e+01\n",
        "   1.10876629e+01   4.60350936e+02]"
       ]
      },
      {
       "output_type": "stream",
       "stream": "stdout",
       "text": [
        "\n",
        "45 of 423 \t lsc1m004-fl04-20141216-0084-e90.fits\n",
        "fitting\n",
        "26\n",
        "[  4.00360236e+04   3.24921559e+02   7.68788468e+03   1.26042852e+01\n",
        "   1.09494375e+01   4.64800930e+02]"
       ]
      },
      {
       "output_type": "stream",
       "stream": "stdout",
       "text": [
        "\n",
        "46 of 423 \t lsc1m004-fl04-20141216-0085-e90.fits\n",
        "fitting\n",
        "26\n",
        "[  3.99248560e+04   3.67945916e+02   1.02636932e+04   1.18321461e+01\n",
        "   1.09489273e+01   4.52112016e+02]"
       ]
      },
      {
       "output_type": "stream",
       "stream": "stdout",
       "text": [
        "\n",
        "47 of 423 \t lsc1m004-fl04-20141216-0086-e90.fits\n",
        "fitting\n",
        "26\n",
        "[  3.94018116e+04   3.40056809e+02   8.69818337e+03   1.26151781e+01\n",
        "   1.10953097e+01   4.41557038e+02]"
       ]
      },
      {
       "output_type": "stream",
       "stream": "stdout",
       "text": [
        "\n",
        "48 of 423 \t lsc1m004-fl04-20141216-0087-e90.fits\n",
        "fitting\n",
        "26\n",
        "[  3.87185893e+04   3.62379911e+02   9.44221260e+03   1.18283893e+01\n",
        "   1.09256633e+01   4.37562545e+02]"
       ]
      },
      {
       "output_type": "stream",
       "stream": "stdout",
       "text": [
        "\n",
        "49 of 423 \t lsc1m004-fl04-20141216-0088-e90.fits\n",
        "fitting\n",
        "26\n",
        "[  3.87806138e+04   2.79186112e+02   5.38146853e+03   1.27486065e+01\n",
        "   1.09270545e+01   4.30930542e+02]"
       ]
      },
      {
       "output_type": "stream",
       "stream": "stdout",
       "text": [
        "\n",
        "50 of 423 \t lsc1m004-fl04-20141216-0089-e90.fits\n",
        "fitting\n",
        "26\n",
        "[  3.94906956e+04   3.88251966e+02   1.10758972e+04   1.28760514e+01\n",
        "   1.07097540e+01   4.27025688e+02]"
       ]
      },
      {
       "output_type": "stream",
       "stream": "stdout",
       "text": [
        "\n",
        "51 of 423 \t lsc1m004-fl04-20141216-0090-e90.fits\n",
        "fitting\n",
        "26\n",
        "[  4.06359504e+04   4.24571308e+02   1.40738113e+04   1.28032056e+01\n",
        "   1.07834262e+01   4.23286611e+02]"
       ]
      },
      {
       "output_type": "stream",
       "stream": "stdout",
       "text": [
        "\n",
        "52 of 423 \t lsc1m004-fl04-20141216-0091-e90.fits\n",
        "fitting\n",
        "26\n",
        "[  4.09395863e+04   3.69772662e+02   1.12811757e+04   1.27425990e+01\n",
        "   1.07345304e+01   4.18269969e+02]"
       ]
      },
      {
       "output_type": "stream",
       "stream": "stdout",
       "text": [
        "\n",
        "53 of 423 \t lsc1m004-fl04-20141216-0092-e90.fits\n",
        "fitting\n",
        "26\n",
        "[  4.12635235e+04   3.73122466e+02   1.17585254e+04   1.27419510e+01\n",
        "   1.06277041e+01   4.13848614e+02]"
       ]
      },
      {
       "output_type": "stream",
       "stream": "stdout",
       "text": [
        "\n",
        "54 of 423 \t lsc1m004-fl04-20141216-0093-e90.fits\n",
        "fitting\n",
        "26\n",
        "[  4.08754114e+04   3.44558497e+02   1.00298171e+04   1.17850968e+01\n",
        "   1.15536162e+01   4.16792592e+02]"
       ]
      },
      {
       "output_type": "stream",
       "stream": "stdout",
       "text": [
        "\n",
        "55 of 423 \t lsc1m004-fl04-20141216-0094-e90.fits\n",
        "fitting\n",
        "26\n",
        "[  4.04236400e+04   4.03250109e+02   1.27442618e+04   1.26933724e+01\n",
        "   1.15543380e+01   4.11628641e+02]"
       ]
      },
      {
       "output_type": "stream",
       "stream": "stdout",
       "text": [
        "\n",
        "56 of 423 \t lsc1m004-fl04-20141216-0095-e90.fits\n",
        "fitting\n",
        "26\n",
        "[  4.23826571e+04   3.34858195e+02   8.61212071e+03   1.27205050e+01\n",
        "   1.07440997e+01   2.04298413e+02]"
       ]
      },
      {
       "output_type": "stream",
       "stream": "stdout",
       "text": [
        "\n",
        "57 of 423 \t lsc1m004-fl04-20141216-0096-e90.fits\n",
        "fitting\n",
        "26\n",
        "[  4.10338840e+04   3.36201189e+02   9.45500538e+03   1.22443178e+01\n",
        "   1.09738705e+01   4.15826750e+02]"
       ]
      },
      {
       "output_type": "stream",
       "stream": "stdout",
       "text": [
        "\n",
        "58 of 423 \t lsc1m004-fl04-20141216-0097-e90.fits\n",
        "fitting\n",
        "26\n",
        "[  4.08821191e+04   3.55537743e+02   1.03586070e+04   1.22836013e+01\n",
        "   1.09227557e+01   4.14261354e+02]"
       ]
      },
      {
       "output_type": "stream",
       "stream": "stdout",
       "text": [
        "\n",
        "59 of 423 \t lsc1m004-fl04-20141216-0098-e90.fits\n",
        "fitting\n",
        "26\n",
        "[  4.08877628e+04   3.74946139e+02   1.13552176e+04   1.22597247e+01\n",
        "   1.08439081e+01   4.09111459e+02]"
       ]
      },
      {
       "output_type": "stream",
       "stream": "stdout",
       "text": [
        "\n",
        "60 of 423 \t lsc1m004-fl04-20141216-0099-e90.fits\n",
        "fitting\n",
        "26\n",
        "[  4.07881724e+04   3.61996688e+02   1.07978496e+04   1.22858310e+01\n",
        "   1.08442330e+01   4.05312251e+02]"
       ]
      },
      {
       "output_type": "stream",
       "stream": "stdout",
       "text": [
        "\n",
        "61 of 423 \t lsc1m004-fl04-20141216-0100-e90.fits\n",
        "fitting\n",
        "26\n",
        "[  4.03822377e+04   3.00733676e+02   7.56634355e+03   1.22402087e+01\n",
        "   1.18371729e+01   4.12650657e+02]"
       ]
      },
      {
       "output_type": "stream",
       "stream": "stdout",
       "text": [
        "\n",
        "62 of 423 \t lsc1m004-fl04-20141216-0101-e90.fits\n",
        "fitting\n",
        "26\n",
        "[  4.12319820e+04   4.08127538e+02   1.38544306e+04   1.23070367e+01\n",
        "   1.07343474e+01   4.10958905e+02]"
       ]
      },
      {
       "output_type": "stream",
       "stream": "stdout",
       "text": [
        "\n",
        "63 of 423 \t lsc1m004-fl04-20141216-0102-e90.fits\n",
        "fitting\n",
        "26\n",
        "[  4.08210287e+04   3.70060255e+02   1.15983208e+04   1.23467491e+01\n",
        "   1.15811066e+01   4.11278983e+02]"
       ]
      },
      {
       "output_type": "stream",
       "stream": "stdout",
       "text": [
        "\n",
        "64 of 423 \t lsc1m004-fl04-20141216-0103-e90.fits\n",
        "fitting\n",
        "26\n",
        "[  3.99081230e+04   3.21653073e+02   8.72550328e+03   1.23871101e+01\n",
        "   1.15409980e+01   4.13607222e+02]"
       ]
      },
      {
       "output_type": "stream",
       "stream": "stdout",
       "text": [
        "\n",
        "65 of 423 \t lsc1m004-fl04-20141216-0104-e90.fits\n",
        "fitting\n",
        "26\n",
        "[  4.06275333e+04   3.31915919e+02   9.33214030e+03   1.23219273e+01\n",
        "   1.15080504e+01   4.07935038e+02]"
       ]
      },
      {
       "output_type": "stream",
       "stream": "stdout",
       "text": [
        "\n",
        "66 of 423 \t lsc1m004-fl04-20141216-0105-e90.fits\n",
        "fitting\n",
        "26\n",
        "[  4.04067475e+04   3.84581858e+02   1.25441760e+04   1.22808249e+01\n",
        "   1.15692946e+01   4.07164147e+02]"
       ]
      },
      {
       "output_type": "stream",
       "stream": "stdout",
       "text": [
        "\n",
        "67 of 423 \t lsc1m004-fl04-20141216-0106-e90.fits\n",
        "fitting\n",
        "26\n",
        "[  4.00257922e+04   3.77200804e+02   1.24797964e+04   1.23630478e+01\n",
        "   1.15591609e+01   4.26224448e+02]"
       ]
      },
      {
       "output_type": "stream",
       "stream": "stdout",
       "text": [
        "\n",
        "68 of 423 \t lsc1m004-fl04-20141216-0107-e90.fits\n",
        "fitting\n",
        "26\n",
        "[  4.03182455e+04   3.63204174e+02   1.13478516e+04   1.23650068e+01\n",
        "   1.14675931e+01   4.08782725e+02]"
       ]
      },
      {
       "output_type": "stream",
       "stream": "stdout",
       "text": [
        "\n",
        "69 of 423 \t lsc1m004-fl04-20141216-0108-e90.fits\n",
        "fitting"
       ]
      },
      {
       "output_type": "stream",
       "stream": "stdout",
       "text": [
        "\n",
        "26\n",
        "[  3.98922809e+04   3.88773495e+02   1.25173024e+04   1.24292350e+01\n",
        "   1.13544813e+01   4.04918007e+02]"
       ]
      },
      {
       "output_type": "stream",
       "stream": "stdout",
       "text": [
        "\n",
        "70 of 423 \t lsc1m004-fl04-20141216-0109-e90.fits\n",
        "fitting\n",
        "26\n",
        "[  4.07179434e+04   3.85006323e+02   1.30073761e+04   1.23345448e+01\n",
        "   1.13463009e+01   4.02885311e+02]"
       ]
      },
      {
       "output_type": "stream",
       "stream": "stdout",
       "text": [
        "\n",
        "71 of 423 \t lsc1m004-fl04-20141216-0110-e90.fits\n",
        "fitting\n",
        "26\n",
        "[  4.16870376e+04   3.94410910e+02   1.35246923e+04   1.24672053e+01\n",
        "   1.12177639e+01   4.05810753e+02]"
       ]
      },
      {
       "output_type": "stream",
       "stream": "stdout",
       "text": [
        "\n",
        "72 of 423 \t lsc1m004-fl04-20141216-0111-e90.fits\n",
        "fitting\n",
        "26\n",
        "[  4.32248197e+04   3.83261388e+02   1.23786484e+04   1.26405938e+01\n",
        "   1.13109086e+01   2.03674201e+02]"
       ]
      },
      {
       "output_type": "stream",
       "stream": "stdout",
       "text": [
        "\n",
        "73 of 423 \t lsc1m004-fl04-20141216-0112-e90.fits\n",
        "fitting\n",
        "26\n",
        "[  4.19262923e+04   4.48819362e+02   1.77194854e+04   1.20669956e+01\n",
        "   1.16755345e+01   4.04648101e+02]"
       ]
      },
      {
       "output_type": "stream",
       "stream": "stdout",
       "text": [
        "\n",
        "74 of 423 \t lsc1m004-fl04-20141216-0113-e90.fits\n",
        "fitting\n",
        "26\n",
        "[  4.20968259e+04   3.80395697e+02   1.32756985e+04   1.20768699e+01\n",
        "   1.15512606e+01   4.09559186e+02]"
       ]
      },
      {
       "output_type": "stream",
       "stream": "stdout",
       "text": [
        "\n",
        "75 of 423 \t lsc1m004-fl04-20141216-0114-e90.fits\n",
        "fitting\n",
        "26\n",
        "[  4.23519848e+04   4.19596905e+02   1.60079552e+04   1.20720623e+01\n",
        "   1.15146965e+01   4.09878513e+02]"
       ]
      },
      {
       "output_type": "stream",
       "stream": "stdout",
       "text": [
        "\n",
        "76 of 423 \t lsc1m004-fl04-20141216-0115-e90.fits\n",
        "fitting\n",
        "26\n",
        "[  4.18351637e+04   4.55314797e+02   1.88452036e+04   1.21064394e+01\n",
        "   1.13945767e+01   4.07043918e+02]"
       ]
      },
      {
       "output_type": "stream",
       "stream": "stdout",
       "text": [
        "\n",
        "77 of 423 \t lsc1m004-fl04-20141216-0116-e90.fits\n",
        "fitting\n",
        "26\n",
        "[  4.14797320e+04   3.83103147e+02   1.27329688e+04   1.21401779e+01\n",
        "   1.13296025e+01   4.16693974e+02]"
       ]
      },
      {
       "output_type": "stream",
       "stream": "stdout",
       "text": [
        "\n",
        "78 of 423 \t lsc1m004-fl04-20141216-0117-e90.fits\n",
        "fitting\n",
        "26\n",
        "[  4.16113474e+04   3.83613476e+02   1.28580232e+04   1.21230834e+01\n",
        "   1.11664769e+01   4.14004802e+02]"
       ]
      },
      {
       "output_type": "stream",
       "stream": "stdout",
       "text": [
        "\n",
        "79 of 423 \t lsc1m004-fl04-20141216-0118-e90.fits\n",
        "fitting\n",
        "26\n",
        "[  4.12884452e+04   4.10077988e+02   1.48754125e+04   1.21711049e+01\n",
        "   1.12399206e+01   4.17157229e+02]"
       ]
      },
      {
       "output_type": "stream",
       "stream": "stdout",
       "text": [
        "\n",
        "80 of 423 \t lsc1m004-fl04-20141216-0119-e90.fits\n",
        "fitting\n",
        "26\n",
        "[  4.14549975e+04   3.54103711e+02   1.12768523e+04   1.21632579e+01\n",
        "   1.12078855e+01   4.23942947e+02]"
       ]
      },
      {
       "output_type": "stream",
       "stream": "stdout",
       "text": [
        "\n",
        "81 of 423 \t lsc1m004-fl04-20141216-0120-e90.fits\n",
        "fitting\n",
        "26\n",
        "[  4.18757956e+04   4.22154575e+02   1.61408342e+04   1.22528618e+01\n",
        "   1.09407887e+01   4.34703382e+02]"
       ]
      },
      {
       "output_type": "stream",
       "stream": "stdout",
       "text": [
        "\n",
        "82 of 423 \t lsc1m004-fl04-20141216-0121-e90.fits\n",
        "fitting\n",
        "26\n",
        "[  4.13768621e+04   4.02262213e+02   1.44036853e+04   1.20273651e+01\n",
        "   1.13386814e+01   4.42086222e+02]"
       ]
      },
      {
       "output_type": "stream",
       "stream": "stdout",
       "text": [
        "\n",
        "83 of 423 \t lsc1m004-fl04-20141216-0122-e90.fits\n",
        "fitting\n",
        "26\n",
        "[  4.11509268e+04   3.77894407e+02   1.29020806e+04   1.21211957e+01\n",
        "   1.10704997e+01   4.46571246e+02]"
       ]
      },
      {
       "output_type": "stream",
       "stream": "stdout",
       "text": [
        "\n",
        "84 of 423 \t lsc1m004-fl04-20141216-0123-e90.fits\n",
        "fitting\n",
        "26\n",
        "[  4.18917291e+04   3.47886335e+02   1.09178075e+04   1.21334711e+01\n",
        "   1.09965266e+01   4.45721016e+02]"
       ]
      },
      {
       "output_type": "stream",
       "stream": "stdout",
       "text": [
        "\n",
        "85 of 423 \t lsc1m004-fl04-20141216-0124-e90.fits\n",
        "fitting\n",
        "26\n",
        "[  4.09775904e+04   3.58423734e+02   1.16593020e+04   1.22697245e+01\n",
        "   1.08558916e+01   4.48899543e+02]"
       ]
      },
      {
       "output_type": "stream",
       "stream": "stdout",
       "text": [
        "\n",
        "86 of 423 \t lsc1m004-fl04-20141216-0125-e90.fits\n",
        "fitting\n",
        "26\n",
        "[  4.11863939e+04   3.70354911e+02   1.26189352e+04   1.21740412e+01\n",
        "   1.10005225e+01   4.54069900e+02]"
       ]
      },
      {
       "output_type": "stream",
       "stream": "stdout",
       "text": [
        "\n",
        "87 of 423 \t lsc1m004-fl04-20141216-0126-e90.fits\n",
        "fitting\n",
        "26\n",
        "[  4.21141451e+04   3.82451252e+02   1.27032271e+04   1.17734421e+01\n",
        "   1.19692489e+01   2.04509609e+02]"
       ]
      },
      {
       "output_type": "stream",
       "stream": "stdout",
       "text": [
        "\n",
        "88 of 423 \t lsc1m004-fl04-20141216-0127-e90.fits\n",
        "fitting\n",
        "26\n",
        "[  4.05155773e+04   3.90145119e+02   1.41182165e+04   1.20091659e+01\n",
        "   1.16871819e+01   4.46982485e+02]"
       ]
      },
      {
       "output_type": "stream",
       "stream": "stdout",
       "text": [
        "\n",
        "89 of 423 \t lsc1m004-fl04-20141216-0128-e90.fits\n",
        "fitting\n",
        "26\n",
        "[  4.07760614e+04   3.62077407e+02   1.22149156e+04   1.18872747e+01\n",
        "   1.18342869e+01   4.41683410e+02]"
       ]
      },
      {
       "output_type": "stream",
       "stream": "stdout",
       "text": [
        "\n",
        "90 of 423 \t lsc1m004-fl04-20141216-0129-e90.fits\n",
        "fitting\n",
        "26\n",
        "[  3.96430388e+04   3.61499230e+02   1.23131688e+04   1.19674820e+01\n",
        "   1.16815186e+01   4.45218683e+02]"
       ]
      },
      {
       "output_type": "stream",
       "stream": "stdout",
       "text": [
        "\n",
        "91 of 423 \t lsc1m004-fl04-20141216-0130-e90.fits\n",
        "fitting\n",
        "26\n",
        "[  4.01592651e+04   4.70465610e+02   2.04840767e+04   1.19494709e+01\n",
        "   1.16137567e+01   4.52132891e+02]"
       ]
      },
      {
       "output_type": "stream",
       "stream": "stdout",
       "text": [
        "\n",
        "92 of 423 \t lsc1m004-fl04-20141216-0131-e90.fits\n",
        "fitting\n",
        "26\n",
        "[  4.06582776e+04   3.40773122e+02   1.06341490e+04   1.20017780e+01\n",
        "   1.15622287e+01   4.65418759e+02]"
       ]
      },
      {
       "output_type": "stream",
       "stream": "stdout",
       "text": [
        "\n",
        "93 of 423 \t lsc1m004-fl04-20141216-0132-e90.fits\n",
        "fitting\n",
        "26\n",
        "[  3.97947664e+04   3.35888374e+02   1.04552068e+04   1.19434424e+01\n",
        "   1.15495622e+01   4.87506302e+02]"
       ]
      },
      {
       "output_type": "stream",
       "stream": "stdout",
       "text": [
        "\n",
        "94 of 423 \t lsc1m004-fl04-20141216-0133-e90.fits\n",
        "fitting\n",
        "26\n",
        "[  3.99675581e+04   4.31093593e+02   1.70413575e+04   1.20200127e+01\n",
        "   1.16386490e+01   5.13964930e+02]"
       ]
      },
      {
       "output_type": "stream",
       "stream": "stdout",
       "text": [
        "\n",
        "95 of 423 \t lsc1m004-fl04-20141216-0134-e90.fits\n",
        "fitting\n",
        "26\n",
        "[  3.99808507e+04   3.93233474e+02   1.41664102e+04   1.20771219e+01\n",
        "   1.13870267e+01   5.12247122e+02]"
       ]
      },
      {
       "output_type": "stream",
       "stream": "stdout",
       "text": [
        "\n",
        "96 of 423 \t lsc1m004-fl04-20141216-0135-e90.fits\n",
        "fitting\n",
        "26\n",
        "[  4.05023924e+04   3.84301554e+02   1.31852931e+04   1.19827923e+01\n",
        "   1.16115865e+01   5.24936836e+02]"
       ]
      },
      {
       "output_type": "stream",
       "stream": "stdout",
       "text": [
        "\n",
        "97 of 423 \t lsc1m004-fl04-20141216-0136-e90.fits\n",
        "fitting\n",
        "26\n",
        "[  3.99082497e+04   4.66558054e+02   2.01749790e+04   1.19762543e+01\n",
        "   1.17685205e+01   5.31085507e+02]"
       ]
      },
      {
       "output_type": "stream",
       "stream": "stdout",
       "text": [
        "\n",
        "98 of 423 \t lsc1m004-fl04-20141216-0137-e90.fits\n",
        "fitting\n",
        "26\n",
        "[  3.97779539e+04   3.82546597e+02   1.33441225e+04   1.20294001e+01\n",
        "   1.16717340e+01   5.48641038e+02]"
       ]
      },
      {
       "output_type": "stream",
       "stream": "stdout",
       "text": [
        "\n",
        "99 of 423 \t lsc1m004-fl04-20141216-0138-e90.fits\n",
        "fitting\n",
        "26\n",
        "[  3.92241000e+04   3.78720884e+02   1.29855615e+04   1.20145053e+01\n",
        "   1.15930379e+01   5.52680060e+02]"
       ]
      },
      {
       "output_type": "stream",
       "stream": "stdout",
       "text": [
        "\n",
        "100 of 423 \t lsc1m004-fl04-20141216-0139-e90.fits\n",
        "fitting\n",
        "26\n",
        "[  3.87874155e+04   3.40491518e+02   1.03563987e+04   1.19784316e+01\n",
        "   1.17641543e+01   5.86626844e+02]"
       ]
      },
      {
       "output_type": "stream",
       "stream": "stdout",
       "text": [
        "\n",
        "101 of 423 \t lsc1m004-fl04-20141216-0140-e90.fits\n",
        "fitting\n",
        "26\n",
        "[  3.91959641e+04   3.89755875e+02   1.34530446e+04   1.19935560e+01\n",
        "   1.14706808e+01   5.84390270e+02]"
       ]
      },
      {
       "output_type": "stream",
       "stream": "stdout",
       "text": [
        "\n",
        "102 of 423 \t lsc1m004-fl04-20141216-0141-e90.fits\n",
        "fitting\n",
        "26\n",
        "[  3.90013596e+04   4.06064912e+02   1.45205305e+04   1.29635647e+01\n",
        "   1.11591504e+01   5.99649065e+02]"
       ]
      },
      {
       "output_type": "stream",
       "stream": "stdout",
       "text": [
        "\n",
        "103 of 423 \t lsc1m004-fl04-20141216-0142-e90.fits\n",
        "fitting\n",
        "26\n",
        "[  3.88944579e+04   3.52028634e+02   1.08063212e+04   1.19994345e+01\n",
        "   1.10518281e+01   6.02316573e+02]"
       ]
      },
      {
       "output_type": "stream",
       "stream": "stdout",
       "text": [
        "\n",
        "104 of 423 \t lsc1m004-fl04-20141216-0143-e90.fits\n",
        "fitting\n",
        "26\n",
        "[  3.85970499e+04   3.91863308e+02   1.37042646e+04   1.21074653e+01\n",
        "   1.11165680e+01   6.03021620e+02]"
       ]
      },
      {
       "output_type": "stream",
       "stream": "stdout",
       "text": [
        "\n",
        "105 of 423 \t lsc1m004-fl04-20141216-0144-e90.fits\n",
        "fitting\n",
        "26\n",
        "[  3.74921025e+04   3.81519641e+02   1.24710069e+04   1.19193978e+01\n",
        "   1.16249088e+01   6.29252089e+02]"
       ]
      },
      {
       "output_type": "stream",
       "stream": "stdout",
       "text": [
        "\n",
        "106 of 423 \t lsc1m004-fl04-20141216-0145-e90.fits\n",
        "fitting"
       ]
      },
      {
       "output_type": "stream",
       "stream": "stdout",
       "text": [
        "\n",
        "26\n",
        "[  3.72912275e+04   4.22912865e+02   1.51194069e+04   1.22040539e+01\n",
        "   1.13356037e+01   6.51450944e+02]"
       ]
      },
      {
       "output_type": "stream",
       "stream": "stdout",
       "text": [
        "\n",
        "107 of 423 \t lsc1m004-fl04-20141216-0146-e90.fits\n",
        "fitting\n",
        "26\n",
        "[  3.77762608e+04   4.12415818e+02   1.49233185e+04   1.19963045e+01\n",
        "   1.14006049e+01   6.72616680e+02]"
       ]
      },
      {
       "output_type": "stream",
       "stream": "stdout",
       "text": [
        "\n",
        "108 of 423 \t cpt1m010-kb70-20141217-0081-e90.fits\n",
        "fitting\n",
        "26\n",
        "[  1.94472493e+04   3.08720332e+02   1.11370856e+04   1.27096850e+01\n",
        "   1.37975474e+01   9.40940661e+02]"
       ]
      },
      {
       "output_type": "stream",
       "stream": "stdout",
       "text": [
        "\n",
        "109 of 423 \t cpt1m010-kb70-20141217-0082-e90.fits\n",
        "fitting\n",
        "26\n",
        "[  1.96609204e+04   2.81544072e+02   9.35982614e+03   1.28260324e+01\n",
        "   1.37492772e+01   6.05190821e+02]"
       ]
      },
      {
       "output_type": "stream",
       "stream": "stdout",
       "text": [
        "\n",
        "110 of 423 \t cpt1m010-kb70-20141217-0083-e90.fits\n",
        "fitting\n",
        "26\n",
        "[  2.00158469e+04   2.76338868e+02   9.12994734e+03   1.28433230e+01\n",
        "   1.37172117e+01   4.57371236e+02]"
       ]
      },
      {
       "output_type": "stream",
       "stream": "stdout",
       "text": [
        "\n",
        "111 of 423 \t cpt1m010-kb70-20141217-0084-e90.fits\n",
        "fitting\n",
        "26\n",
        "[ 18996.13384233     32.05281306     22.66968612     22.28740301\n",
        "    116.46611984    449.92922129]\n",
        "112 of 423 \t cpt1m010-kb70-20141217-0085-e90.fits\n",
        "fitting"
       ]
      },
      {
       "output_type": "stream",
       "stream": "stdout",
       "text": [
        "\n",
        "26\n",
        "[  2.03315575e+04   3.37504653e+02   1.38984538e+04   1.28336564e+01\n",
        "   1.36588992e+01   3.53180500e+02]"
       ]
      },
      {
       "output_type": "stream",
       "stream": "stdout",
       "text": [
        "\n",
        "113 of 423 \t cpt1m010-kb70-20141217-0086-e90.fits\n",
        "fitting\n",
        "26\n",
        "[  1.91402391e+04   3.26701572e+02   1.31601936e+04   1.28811992e+01\n",
        "   1.36062211e+01   3.43616278e+02]"
       ]
      },
      {
       "output_type": "stream",
       "stream": "stdout",
       "text": [
        "\n",
        "114 of 423 \t cpt1m010-kb70-20141217-0087-e90.fits\n",
        "fitting\n",
        "26\n",
        "[  2.86414639e+04   1.26918117e+01   1.26636119e+01   1.23731786e+01\n",
        "   7.71238848e+01   2.59476275e+02]\n",
        "115 of 423 \t cpt1m010-kb70-20141217-0088-e90.fits\n",
        "fitting"
       ]
      },
      {
       "output_type": "stream",
       "stream": "stdout",
       "text": [
        "\n",
        "26\n",
        "[ -4.11836709e+04   1.71441374e+02   4.81804590e-01   2.29942976e+01\n",
        "   2.11261530e+01   3.83491695e+02]\n",
        "116 of 423 \t cpt1m010-kb70-20141217-0089-e90.fits\n",
        "fitting\n",
        "26\n",
        "[  2.04778275e+04   3.25386060e+02   1.35234584e+04   1.24751030e+01\n",
        "   1.34194034e+01   3.19914910e+02]"
       ]
      },
      {
       "output_type": "stream",
       "stream": "stdout",
       "text": [
        "\n",
        "118 of 423 \t cpt1m010-kb70-20141217-0091-e90.fits\n",
        "fitting\n",
        "26\n",
        "[  2.06052764e+04   3.12433260e+02   1.27925515e+04   1.25500851e+01\n",
        "   1.34638170e+01   3.09100862e+02]"
       ]
      },
      {
       "output_type": "stream",
       "stream": "stdout",
       "text": [
        "\n",
        "119 of 423 \t cpt1m010-kb70-20141217-0092-e90.fits\n",
        "fitting\n",
        "26\n",
        "[ 918.47867453    2.36937708   46.8101049     4.97026646    7.17507663\n",
        "  373.74648657]"
       ]
      },
      {
       "output_type": "stream",
       "stream": "stdout",
       "text": [
        "\n",
        "120 of 423 \t cpt1m010-kb70-20141217-0093-e90.fits\n",
        "fitting\n",
        "26\n",
        "[  2.05112367e+04   3.48964099e+02   1.59660625e+04   1.25328767e+01\n",
        "   1.34673502e+01   3.17736478e+02]"
       ]
      },
      {
       "output_type": "stream",
       "stream": "stdout",
       "text": [
        "\n",
        "121 of 423 \t cpt1m010-kb70-20141217-0094-e90.fits\n",
        "fitting\n",
        "26\n",
        "[  1.83350850e+04   7.74805814e+00   2.30247752e+01   3.09383015e+01\n",
        "   5.38360489e+01   3.79296412e+02]\n",
        "122 of 423 \t cpt1m010-kb70-20141217-0095-e90.fits\n",
        "fitting"
       ]
      },
      {
       "output_type": "stream",
       "stream": "stdout",
       "text": [
        "\n",
        "26\n",
        "[  2.05432264e+04   3.21397537e+02   1.33932753e+04   1.25503023e+01\n",
        "   1.36476623e+01   3.16911541e+02]"
       ]
      },
      {
       "output_type": "stream",
       "stream": "stdout",
       "text": [
        "\n",
        "123 of 423 \t cpt1m010-kb70-20141217-0096-e90.fits\n",
        "fitting\n",
        "26\n",
        "[  2.02421840e+04   3.07978956e+02   1.23378881e+04   1.25716320e+01\n",
        "   1.36712967e+01   3.19851844e+02]"
       ]
      },
      {
       "output_type": "stream",
       "stream": "stdout",
       "text": [
        "\n",
        "124 of 423 \t cpt1m010-kb70-20141217-0097-e90.fits\n",
        "fitting\n",
        "26\n",
        "[  2.35071536e+04   8.44577031e+00   1.67100913e+01   3.84546459e+01\n",
        "   6.03552770e+01   3.81851275e+02]\n",
        "125 of 423 \t cpt1m010-kb70-20141217-0098-e90.fits\n",
        "fitting"
       ]
      },
      {
       "output_type": "stream",
       "stream": "stdout",
       "text": [
        "\n",
        "26\n",
        "[  2.30477198e+04   3.19736531e+00   1.41125600e+01   3.66474346e+01\n",
        "   6.39513218e+01   3.81678210e+02]\n",
        "126 of 423 \t cpt1m010-kb70-20141217-0099-e90.fits\n",
        "fitting\n",
        "26\n",
        "[  2.43286445e+04   1.00184237e+01   1.26796374e+01   2.47432972e+01\n",
        "   7.23542356e+01   3.81268503e+02]\n",
        "127 of 423 \t cpt1m010-kb70-20141217-0100-e90.fits\n",
        "fitting"
       ]
      },
      {
       "output_type": "stream",
       "stream": "stdout",
       "text": [
        "\n",
        "26\n",
        "[  2.26054375e+04   1.10786637e+01   1.52231904e+01   4.23669905e+01\n",
        "   7.91374939e+01   3.81889028e+02]\n",
        "128 of 423 \t cpt1m010-kb70-20141217-0101-e90.fits\n",
        "fitting\n",
        "26\n",
        "[  2.52304623e+04   7.70355944e+00   1.29780671e+01   2.82065053e+01\n",
        "   8.11292309e+01   3.83464918e+02]\n",
        "129 of 423 \t cpt1m010-kb70-20141217-0102-e90.fits\n",
        "fitting"
       ]
      },
      {
       "output_type": "stream",
       "stream": "stdout",
       "text": [
        "\n",
        "26\n",
        "[  2.34024537e+04   1.95839583e+01   1.44675670e+01   3.21654960e+01\n",
        "   8.59671979e+01   3.82575716e+02]\n",
        "130 of 423 \t cpt1m010-kb70-20141217-0103-e90.fits\n",
        "fitting\n",
        "26\n",
        "[  1.98682048e+04   3.24679875e+02   1.29031895e+04   1.26057158e+01\n",
        "   1.38942068e+01   3.25082968e+02]"
       ]
      },
      {
       "output_type": "stream",
       "stream": "stdout",
       "text": [
        "\n",
        "131 of 423 \t cpt1m010-kb70-20141217-0104-e90.fits\n",
        "fitting\n",
        "26\n",
        "[  2.29037523e+04   2.84283155e+02   9.25918477e+03   1.33862110e+01\n",
        "   1.28742119e+01   1.78603116e+02]"
       ]
      },
      {
       "output_type": "stream",
       "stream": "stdout",
       "text": [
        "\n",
        "132 of 423 \t cpt1m010-kb70-20141217-0105-e90.fits\n",
        "fitting\n",
        "26\n",
        "[  1.42871883e+04   6.63734529e-01   2.26341122e+01   5.43980491e+01\n",
        "   7.73763576e+01   3.85513721e+02]\n",
        "133 of 423 \t cpt1m010-kb70-20141217-0106-e90.fits\n",
        "fitting"
       ]
      },
      {
       "output_type": "stream",
       "stream": "stdout",
       "text": [
        "\n",
        "26\n",
        "[  2.05912042e+04   3.23677000e+02   1.33384906e+04   1.25844751e+01\n",
        "   1.36041395e+01   3.21854303e+02]"
       ]
      },
      {
       "output_type": "stream",
       "stream": "stdout",
       "text": [
        "\n",
        "134 of 423 \t cpt1m010-kb70-20141217-0107-e90.fits\n",
        "fitting\n",
        "26\n",
        "[  2.23015811e+04   6.27893037e+00   1.61834526e+01   3.63841395e+01\n",
        "   5.45798667e+01   3.79252891e+02]\n",
        "135 of 423 \t cpt1m010-kb70-20141217-0108-e90.fits\n",
        "fitting"
       ]
      },
      {
       "output_type": "stream",
       "stream": "stdout",
       "text": [
        "\n",
        "26\n",
        "[  2.58212028e+04   6.46886646e+00   1.49986497e+01   3.11571937e+01\n",
        "   6.89944022e+01   3.77008782e+02]\n",
        "136 of 423 \t cpt1m010-kb70-20141217-0109-e90.fits\n",
        "fitting\n",
        "26\n",
        "[  1.98931329e+04   2.78548389e+02   9.63381278e+03   1.26258277e+01\n",
        "   1.37475747e+01   3.18287810e+02]"
       ]
      },
      {
       "output_type": "stream",
       "stream": "stdout",
       "text": [
        "\n",
        "137 of 423 \t cpt1m010-kb70-20141217-0110-e90.fits\n",
        "fitting\n",
        "26\n",
        "[  2.01280576e+04   3.04811389e+02   1.13094833e+04   1.27393556e+01\n",
        "   1.37513583e+01   3.10345415e+02]"
       ]
      },
      {
       "output_type": "stream",
       "stream": "stdout",
       "text": [
        "\n",
        "138 of 423 \t cpt1m010-kb70-20141217-0111-e90.fits\n",
        "fitting\n",
        "26\n",
        "[  2.06366774e+04   2.95512435e+02   1.04642025e+04   1.25979994e+01\n",
        "   1.37844825e+01   3.09108040e+02]"
       ]
      },
      {
       "output_type": "stream",
       "stream": "stdout",
       "text": [
        "\n",
        "139 of 423 \t cpt1m010-kb70-20141217-0112-e90.fits\n",
        "fitting\n",
        "26\n",
        "[  2.05130197e+04   3.63578675e+02   1.70324986e+04   1.27924874e+01\n",
        "   1.38486898e+01   3.08731031e+02]"
       ]
      },
      {
       "output_type": "stream",
       "stream": "stdout",
       "text": [
        "\n",
        "140 of 423 \t cpt1m010-kb70-20141217-0113-e90.fits\n",
        "fitting\n",
        "26\n",
        "[  2.05284010e+04   3.22503818e+02   1.36944592e+04   1.26298623e+01\n",
        "   1.38620044e+01   3.05801614e+02]"
       ]
      },
      {
       "output_type": "stream",
       "stream": "stdout",
       "text": [
        "\n",
        "141 of 423 \t cpt1m010-kb70-20141217-0114-e90.fits\n",
        "fitting\n",
        "26\n",
        "[  2.07949119e+04   2.92127205e+02   1.11436869e+04   1.25754737e+01\n",
        "   1.39236904e+01   3.03072024e+02]"
       ]
      },
      {
       "output_type": "stream",
       "stream": "stdout",
       "text": [
        "\n",
        "142 of 423 \t cpt1m010-kb70-20141217-0115-e90.fits\n",
        "fitting\n",
        "26\n",
        "[  2.05643174e+04   3.11990451e+02   1.26743534e+04   1.26623475e+01\n",
        "   1.39622694e+01   3.00234637e+02]"
       ]
      },
      {
       "output_type": "stream",
       "stream": "stdout",
       "text": [
        "\n",
        "143 of 423 \t cpt1m010-kb70-20141217-0116-e90.fits\n",
        "fitting\n",
        "26\n",
        "[  2.08469491e+04   3.38284782e+02   1.51738136e+04   1.26122304e+01\n",
        "   1.30816680e+01   3.00090990e+02]"
       ]
      },
      {
       "output_type": "stream",
       "stream": "stdout",
       "text": [
        "\n",
        "144 of 423 \t cpt1m010-kb70-20141217-0117-e90.fits\n",
        "fitting\n",
        "26\n",
        "[  2.07462184e+04   3.31863928e+02   1.44798345e+04   1.25502466e+01\n",
        "   1.30373108e+01   2.98461742e+02]"
       ]
      },
      {
       "output_type": "stream",
       "stream": "stdout",
       "text": [
        "\n",
        "145 of 423 \t cpt1m010-kb70-20141217-0118-e90.fits\n",
        "fitting\n",
        "26\n",
        "[  2.04695106e+04   3.15125458e+02   1.27424105e+04   1.25337024e+01\n",
        "   1.31561583e+01   2.94545752e+02]"
       ]
      },
      {
       "output_type": "stream",
       "stream": "stdout",
       "text": [
        "\n",
        "146 of 423 \t cpt1m010-kb70-20141217-0119-e90.fits\n",
        "fitting\n",
        "26\n",
        "[  2.05609135e+04   2.71894846e+02   9.78777042e+03   1.26282253e+01\n",
        "   1.31222094e+01   2.96148425e+02]"
       ]
      },
      {
       "output_type": "stream",
       "stream": "stdout",
       "text": [
        "\n",
        "147 of 423 \t cpt1m010-kb70-20141217-0120-e90.fits\n",
        "fitting\n",
        "26\n",
        "[  2.04499644e+04   3.08883036e+02   1.23800228e+04   1.26016433e+01\n",
        "   1.30959572e+01   2.92306419e+02]"
       ]
      },
      {
       "output_type": "stream",
       "stream": "stdout",
       "text": [
        "\n",
        "148 of 423 \t cpt1m010-kb70-20141217-0121-e90.fits\n",
        "fitting\n",
        "26\n",
        "[  3.06614070e+04   7.93236759e-01   3.66127275e+00   4.13790283e+01\n",
        "   5.47602931e+01   2.33268057e+02]\n",
        "149 of 423 \t cpt1m010-kb70-20141217-0122-e90.fits\n",
        "fitting"
       ]
      },
      {
       "output_type": "stream",
       "stream": "stdout",
       "text": [
        "\n",
        "26\n",
        "[  2.05550759e+04   2.96669238e+02   1.14355870e+04   1.31176083e+01\n",
        "   1.32174549e+01   2.88186135e+02]\n",
        "150 of 423 \t cpt1m010-kb70-20141217-0123-e90.fits\n",
        "fitting"
       ]
      },
      {
       "output_type": "stream",
       "stream": "stdout",
       "text": [
        "\n",
        "26\n",
        "[  2.05438541e+04   2.92187414e+02   1.09840316e+04   1.30733855e+01\n",
        "   1.32467300e+01   2.86105034e+02]\n",
        "151 of 423 \t cpt1m010-kb70-20141217-0124-e90.fits\n",
        "fitting"
       ]
      },
      {
       "output_type": "stream",
       "stream": "stdout",
       "text": [
        "\n",
        "26\n",
        "[  2.02401889e+04   3.42920970e+02   1.52478838e+04   1.30941190e+01\n",
        "   1.33101530e+01   2.80770885e+02]\n",
        "152 of 423 \t cpt1m010-kb70-20141217-0125-e90.fits"
       ]
      },
      {
       "output_type": "stream",
       "stream": "stdout",
       "text": [
        "\n",
        "fitting\n",
        "26\n",
        "[  2.00747294e+04   3.17344644e+02   1.31660760e+04   1.31384963e+01\n",
        "   1.33731696e+01   2.84211184e+02]"
       ]
      },
      {
       "output_type": "stream",
       "stream": "stdout",
       "text": [
        "\n",
        "153 of 423 \t cpt1m010-kb70-20141217-0126-e90.fits\n",
        "fitting\n",
        "26\n",
        "[ -4.64201673e+04   1.17619968e+02   4.93654525e-01   1.61569283e+01\n",
        "   4.58755647e+01   3.40000881e+02]\n",
        "154 of 423 \t cpt1m010-kb70-20141217-0127-e90.fits\n",
        "fitting"
       ]
      },
      {
       "output_type": "stream",
       "stream": "stdout",
       "text": [
        "\n",
        "26\n",
        "[ 7589.53134903    48.91937197    31.14939557    38.20188795   181.9436515\n",
        "   338.27844575]\n",
        "155 of 423 \t cpt1m010-kb70-20141217-0128-e90.fits\n",
        "fitting\n",
        "26\n",
        "[ -3.74898593e+04   2.19212788e+02   4.76589353e-01  -1.01696488e+01\n",
        "   5.78380116e+01   3.33253745e+02]\n",
        "156 of 423 \t cpt1m010-kb70-20141217-0129-e90.fits\n",
        "fitting"
       ]
      },
      {
       "output_type": "stream",
       "stream": "stdout",
       "text": [
        "\n",
        "26\n",
        "[  2.28598558e+04   9.06544734e+00   1.64847882e+01   5.91612672e+01\n",
        "   5.48057528e+01   3.32492910e+02]\n",
        "157 of 423 \t cpt1m010-kb70-20141217-0130-e90.fits\n",
        "fitting\n",
        "26\n",
        "[  2.00843672e+04   3.84484276e+02   1.87725977e+04   1.31285526e+01\n",
        "   1.35133600e+01   2.72200093e+02]"
       ]
      },
      {
       "output_type": "stream",
       "stream": "stdout",
       "text": [
        "\n",
        "158 of 423 \t cpt1m010-kb70-20141217-0131-e90.fits\n",
        "fitting\n",
        "26\n",
        "[  2.04184145e+04   3.26282764e+02   1.39928520e+04   1.32024740e+01\n",
        "   1.36261490e+01   2.68984004e+02]"
       ]
      },
      {
       "output_type": "stream",
       "stream": "stdout",
       "text": [
        "\n",
        "159 of 423 \t cpt1m010-kb70-20141217-0132-e90.fits\n",
        "fitting\n",
        "26\n",
        "[  1.85990945e+04   2.36211407e+01   2.83076431e+01   1.82026086e+01\n",
        "   1.12467603e+02   3.31905822e+02]\n",
        "160 of 423 \t cpt1m010-kb70-20141217-0133-e90.fits\n",
        "fitting"
       ]
      },
      {
       "output_type": "stream",
       "stream": "stdout",
       "text": [
        "\n",
        "26\n",
        "[  1.99160136e+04   2.42061909e+02   7.27134845e+03   1.31522281e+01\n",
        "   1.36974896e+01   2.79108495e+02]"
       ]
      },
      {
       "output_type": "stream",
       "stream": "stdout",
       "text": [
        "\n",
        "161 of 423 \t cpt1m010-kb70-20141217-0134-e90.fits\n",
        "fitting\n",
        "26\n",
        "[  2.02661302e+04   2.96199712e+02   1.14518947e+04   1.32164989e+01\n",
        "   1.36757357e+01   2.78246213e+02]"
       ]
      },
      {
       "output_type": "stream",
       "stream": "stdout",
       "text": [
        "\n",
        "162 of 423 \t cpt1m010-kb70-20141217-0135-e90.fits\n",
        "fitting\n",
        "26\n",
        "[  2.02345789e+04   3.27663600e+02   1.37976151e+04   1.32102947e+01\n",
        "   1.35794599e+01   2.78473549e+02]"
       ]
      },
      {
       "output_type": "stream",
       "stream": "stdout",
       "text": [
        "\n",
        "163 of 423 \t cpt1m010-kb70-20141217-0136-e90.fits\n",
        "fitting\n",
        "26\n",
        "[  2.10772429e+04   1.35246423e+01   1.68422470e+01   1.82904071e+01\n",
        "   6.49822255e+01   3.40120236e+02]\n",
        "164 of 423 \t cpt1m010-kb70-20141217-0137-e90.fits\n",
        "fitting"
       ]
      },
      {
       "output_type": "stream",
       "stream": "stdout",
       "text": [
        "\n",
        "26\n",
        "[ 19879.18237733     20.6590249      21.40789493     21.53727569\n",
        "     78.36571072    341.92191818]\n",
        "165 of 423 \t cpt1m010-kb70-20141217-0138-e90.fits\n",
        "fitting\n",
        "26\n",
        "[  2.26278220e+04   9.32204458e+00   1.50077583e+01   1.67905749e+01\n",
        "   7.39449826e+01   3.40933218e+02]\n",
        "166 of 423 \t cpt1m010-kb70-20141217-0139-e90.fits\n",
        "fitting"
       ]
      },
      {
       "output_type": "stream",
       "stream": "stdout",
       "text": [
        "\n",
        "26\n",
        "[  2.23824491e+04   3.73907117e+02   1.75556833e+04   1.29036218e+01\n",
        "   1.30422783e+01   1.68766536e+02]"
       ]
      },
      {
       "output_type": "stream",
       "stream": "stdout",
       "text": [
        "\n",
        "167 of 423 \t cpt1m010-kb70-20141217-0140-e90.fits\n",
        "fitting\n",
        "26\n",
        "[  2.00359307e+04   3.30495021e+02   1.46050653e+04   1.24902298e+01\n",
        "   1.38503530e+01   2.94006873e+02]"
       ]
      },
      {
       "output_type": "stream",
       "stream": "stdout",
       "text": [
        "\n",
        "168 of 423 \t cpt1m010-kb70-20141217-0141-e90.fits\n",
        "fitting\n",
        "26\n",
        "[  2.15385637e+04   1.22641421e+01   1.60426070e+01   2.78921489e+01\n",
        "   6.72341507e+01   3.55453675e+02]\n",
        "169 of 423 \t cpt1m010-kb70-20141217-0142-e90.fits\n",
        "fitting"
       ]
      },
      {
       "output_type": "stream",
       "stream": "stdout",
       "text": [
        "\n",
        "26\n",
        "[  1.97626300e+04   2.90886609e+02   1.13521788e+04   1.25789953e+01\n",
        "   1.38511121e+01   2.99670988e+02]\n",
        "170 of 423 \t cpt1m010-kb70-20141217-0143-e90.fits\n",
        "fitting"
       ]
      },
      {
       "output_type": "stream",
       "stream": "stdout",
       "text": [
        "\n",
        "26\n",
        "[  1.96981944e+04   3.40322527e+02   1.56685884e+04   1.26046289e+01\n",
        "   1.38491702e+01   3.10101187e+02]\n",
        "171 of 423 \t cpt1m010-kb70-20141217-0144-e90.fits\n",
        "fitting"
       ]
      },
      {
       "output_type": "stream",
       "stream": "stdout",
       "text": [
        "\n",
        "26\n",
        "[  2.02638593e+04   3.10705178e+02   1.33683351e+04   1.25582651e+01\n",
        "   1.38601707e+01   3.13445925e+02]\n",
        "172 of 423 \t cpt1m010-kb70-20141217-0145-e90.fits\n",
        "fitting"
       ]
      },
      {
       "output_type": "stream",
       "stream": "stdout",
       "text": [
        "\n",
        "26\n",
        "[  1.96569042e+04   2.82751261e+02   1.11808899e+04   1.25491506e+01\n",
        "   1.38154906e+01   3.23869102e+02]\n",
        "173 of 423 \t cpt1m010-kb70-20141217-0146-e90.fits\n",
        "fitting"
       ]
      },
      {
       "output_type": "stream",
       "stream": "stdout",
       "text": [
        "\n",
        "26\n",
        "[  1.98687241e+04   3.14791303e+02   1.38887320e+04   1.25720969e+01\n",
        "   1.38812066e+01   3.32891509e+02]\n",
        "174 of 423 \t cpt1m010-kb70-20141217-0147-e90.fits\n",
        "fitting"
       ]
      },
      {
       "output_type": "stream",
       "stream": "stdout",
       "text": [
        "\n",
        "26\n",
        "[  1.98354688e+04   3.28835580e+02   1.48075270e+04   1.26213681e+01\n",
        "   1.38728779e+01   3.46552419e+02]\n",
        "175 of 423 \t lsc1m009-fl03-20141217-0010-e90.fits\n",
        "fitting"
       ]
      },
      {
       "output_type": "stream",
       "stream": "stdout",
       "text": [
        "\n",
        "26\n",
        "[  3.93539380e+04   3.21080472e+02   7.96218711e+03   1.22399010e+01\n",
        "   1.11317864e+01   2.23084390e+03]"
       ]
      },
      {
       "output_type": "stream",
       "stream": "stdout",
       "text": [
        "\n",
        "176 of 423 \t cpt1m010-kb70-20141217-0148-e90.fits\n",
        "fitting\n",
        "26\n",
        "[  1.19906580e+04   1.15553837e+00   2.45598184e+01   1.13484099e+01\n",
        "  -5.48883078e-01   4.12513662e+02]\n",
        "177 of 423 \t cpt1m010-kb70-20141217-0149-e90.fits"
       ]
      },
      {
       "output_type": "stream",
       "stream": "stdout",
       "text": [
        "\n",
        "fitting\n",
        "26\n",
        "[  1.97672790e+04   2.76696587e+02   1.04947464e+04   1.26286138e+01\n",
        "   1.38327909e+01   3.65965694e+02]"
       ]
      },
      {
       "output_type": "stream",
       "stream": "stdout",
       "text": [
        "\n",
        "178 of 423 \t lsc1m009-fl03-20141217-0011-e90.fits\n",
        "fitting\n",
        "26\n",
        "[  3.89082804e+04   3.56783549e+02   1.02220475e+04   1.22513782e+01\n",
        "   1.11223796e+01   1.14033492e+03]"
       ]
      },
      {
       "output_type": "stream",
       "stream": "stdout",
       "text": [
        "\n",
        "179 of 423 \t cpt1m010-kb70-20141217-0150-e90.fits\n",
        "fitting\n",
        "26\n",
        "[  1.96094337e+04   3.48820767e+02   1.65710023e+04   1.26833362e+01\n",
        "   1.37694056e+01   3.77202968e+02]"
       ]
      },
      {
       "output_type": "stream",
       "stream": "stdout",
       "text": [
        "\n",
        "180 of 423 \t lsc1m009-fl03-20141217-0012-e90.fits\n",
        "fitting\n",
        "26\n",
        "[  3.89927387e+04   3.68524793e+02   1.11805507e+04   1.21023517e+01\n",
        "   1.09785823e+01   7.45997264e+02]"
       ]
      },
      {
       "output_type": "stream",
       "stream": "stdout",
       "text": [
        "\n",
        "181 of 423 \t cpt1m010-kb70-20141217-0151-e90.fits\n",
        "fitting\n",
        "26\n",
        "[  1.94110398e+04   2.78415784e+02   1.03896999e+04   1.26201370e+01\n",
        "   1.38340314e+01   3.81869209e+02]"
       ]
      },
      {
       "output_type": "stream",
       "stream": "stdout",
       "text": [
        "\n",
        "182 of 423 \t lsc1m009-fl03-20141217-0013-e90.fits\n",
        "fitting\n",
        "26\n",
        "[  3.88471138e+04   4.10187629e+02   1.41265967e+04   1.22763841e+01\n",
        "   1.09006663e+01   5.89241580e+02]"
       ]
      },
      {
       "output_type": "stream",
       "stream": "stdout",
       "text": [
        "\n",
        "183 of 423 \t cpt1m010-kb70-20141217-0152-e90.fits\n",
        "fitting\n",
        "26\n",
        "[  1.92363627e+04   3.19299454e+02   1.37395234e+04   1.27199507e+01\n",
        "   1.38407549e+01   3.92886880e+02]"
       ]
      },
      {
       "output_type": "stream",
       "stream": "stdout",
       "text": [
        "\n",
        "184 of 423 \t lsc1m009-fl03-20141217-0014-e90.fits\n",
        "fitting\n",
        "26\n",
        "[  3.95215913e+04   3.81414664e+02   1.23886628e+04   1.22239693e+01\n",
        "   1.10424002e+01   5.27403435e+02]"
       ]
      },
      {
       "output_type": "stream",
       "stream": "stdout",
       "text": [
        "\n",
        "185 of 423 \t cpt1m010-kb70-20141217-0153-e90.fits\n",
        "fitting\n",
        "26\n",
        "[  1.88995425e+04   3.11432922e+02   1.28823884e+04   1.27460243e+01\n",
        "   1.38418040e+01   3.97971292e+02]"
       ]
      },
      {
       "output_type": "stream",
       "stream": "stdout",
       "text": [
        "\n",
        "186 of 423 \t lsc1m009-fl03-20141217-0015-e90.fits\n",
        "fitting\n",
        "26\n",
        "[  4.01764022e+04   3.39462896e+02   1.01920032e+04   1.23582046e+01\n",
        "   1.08871176e+01   5.03203154e+02]"
       ]
      },
      {
       "output_type": "stream",
       "stream": "stdout",
       "text": [
        "\n",
        "188 of 423 \t lsc1m009-fl03-20141217-0016-e90.fits\n",
        "fitting\n",
        "26\n",
        "[  3.62673327e+04   3.93710595e+02   1.30845728e+04   1.25913707e+01\n",
        "   1.10576328e+01   2.58800665e+02]"
       ]
      },
      {
       "output_type": "stream",
       "stream": "stdout",
       "text": [
        "\n",
        "189 of 423 \t cpt1m010-kb70-20141217-0155-e90.fits\n",
        "fitting\n",
        "26\n",
        "[  2.12558662e+04   2.88297995e+00   1.28173833e+01   3.77541482e+01\n",
        "   4.49575990e+01   4.74376492e+02]\n",
        "190 of 423 \t lsc1m009-fl03-20141217-0017-e90.fits\n",
        "fitting"
       ]
      },
      {
       "output_type": "stream",
       "stream": "stdout",
       "text": [
        "\n",
        "26\n",
        "[  3.97059848e+04   3.73201401e+02   1.25031074e+04   1.20190342e+01\n",
        "   1.09912453e+01   4.98338788e+02]"
       ]
      },
      {
       "output_type": "stream",
       "stream": "stdout",
       "text": [
        "\n",
        "191 of 423 \t cpt1m010-kb70-20141217-0156-e90.fits\n",
        "fitting\n",
        "26\n",
        "[  1.82411753e+04   2.72316158e+02   9.29626016e+03   1.28105729e+01\n",
        "   1.38679318e+01   4.30423408e+02]"
       ]
      },
      {
       "output_type": "stream",
       "stream": "stdout",
       "text": [
        "\n",
        "192 of 423 \t lsc1m009-fl03-20141217-0018-e90.fits\n",
        "fitting\n",
        "26\n",
        "[  3.95516794e+04   3.76542626e+02   1.27414577e+04   1.22002543e+01\n",
        "   1.10049628e+01   4.87350364e+02]"
       ]
      },
      {
       "output_type": "stream",
       "stream": "stdout",
       "text": [
        "\n",
        "193 of 423 \t cpt1m010-kb70-20141217-0157-e90.fits\n",
        "fitting\n",
        "26\n",
        "[  2.98790823e+04   1.54107916e+02   5.24158827e-01  -6.75170776e+01\n",
        "  -2.22270534e+01   4.99444803e+02]\n",
        "194 of 423 \t lsc1m009-fl03-20141217-0019-e90.fits\n",
        "fitting"
       ]
      },
      {
       "output_type": "stream",
       "stream": "stdout",
       "text": [
        "\n",
        "26\n",
        "[  4.08621346e+04   3.66001948e+02   1.19066835e+04   1.20572143e+01\n",
        "   1.08046389e+01   4.82590296e+02]"
       ]
      },
      {
       "output_type": "stream",
       "stream": "stdout",
       "text": [
        "\n",
        "195 of 423 \t cpt1m010-kb70-20141217-0158-e90.fits\n",
        "fitting\n",
        "26\n",
        "[  1.79117827e+04   9.07471013e+00   3.73380405e+01   1.41160281e+01\n",
        "   1.33302339e+02   5.15753878e+02]\n",
        "196 of 423 \t lsc1m009-fl03-20141217-0020-e90.fits\n",
        "fitting"
       ]
      },
      {
       "output_type": "stream",
       "stream": "stdout",
       "text": [
        "\n",
        "26\n",
        "[  3.97695094e+04   3.81555322e+02   1.28889781e+04   1.21669826e+01\n",
        "   1.08247130e+01   4.81784799e+02]"
       ]
      },
      {
       "output_type": "stream",
       "stream": "stdout",
       "text": [
        "\n",
        "197 of 423 \t cpt1m010-kb70-20141217-0159-e90.fits\n",
        "fitting\n",
        "26\n",
        "[  1.71552100e+04   2.27404428e+02   5.94297027e+03   1.29819995e+01\n",
        "   1.39270154e+01   4.80266022e+02]"
       ]
      },
      {
       "output_type": "stream",
       "stream": "stdout",
       "text": [
        "\n",
        "198 of 423 \t lsc1m009-fl03-20141217-0021-e90.fits\n",
        "fitting\n",
        "26\n",
        "[  3.93332621e+04   3.45659764e+02   1.05776752e+04   1.21086170e+01\n",
        "   1.09296122e+01   4.86635233e+02]"
       ]
      },
      {
       "output_type": "stream",
       "stream": "stdout",
       "text": [
        "\n",
        "199 of 423 \t cpt1m010-kb70-20141217-0160-e90.fits\n",
        "fitting\n",
        "26\n",
        "[  1.73371319e+04   3.52176617e+01   1.36142683e+02   1.30542920e+01\n",
        "   1.37834789e+01   5.07255372e+02]\n",
        "200 of 423 \t cpt1m010-kb70-20141217-0161-e90.fits"
       ]
      },
      {
       "output_type": "stream",
       "stream": "stdout",
       "text": [
        "\n",
        "fitting\n",
        "26\n",
        "[  1.68080210e+04   2.42324772e+01   6.50218148e+01   1.29822709e+01\n",
        "   1.38132545e+01   5.55954496e+02]\n",
        "201 of 423 \t lsc1m009-fl03-20141217-0022-e90.fits\n",
        "fitting"
       ]
      },
      {
       "output_type": "stream",
       "stream": "stdout",
       "text": [
        "\n",
        "26\n",
        "[  4.06060095e+04   3.66750096e+02   1.25356090e+04   1.21609022e+01\n",
        "   1.18566065e+01   4.87911142e+02]\n",
        "203 of 423 \t lsc1m009-fl03-20141217-0023-e90.fits\n",
        "fitting"
       ]
      },
      {
       "output_type": "stream",
       "stream": "stdout",
       "text": [
        "\n",
        "26\n",
        "[  3.99496547e+04   3.75967488e+02   1.35085728e+04   1.22819375e+01\n",
        "   1.16273940e+01   4.90186521e+02]\n",
        "204 of 423 \t lsc1m009-fl03-20141217-0024-e90.fits"
       ]
      },
      {
       "output_type": "stream",
       "stream": "stdout",
       "text": [
        "\n",
        "fitting\n",
        "26\n",
        "[  3.97540946e+04   3.58345449e+02   1.22320435e+04   1.22800215e+01\n",
        "   1.16557681e+01   4.89552414e+02]"
       ]
      },
      {
       "output_type": "stream",
       "stream": "stdout",
       "text": [
        "\n",
        "205 of 423 \t lsc1m009-fl03-20141217-0025-e90.fits\n",
        "fitting\n",
        "26\n",
        "[  4.07119785e+04   3.76287117e+02   1.35288849e+04   1.23688557e+01\n",
        "   1.15174472e+01   4.92221754e+02]"
       ]
      },
      {
       "output_type": "stream",
       "stream": "stdout",
       "text": [
        "\n",
        "206 of 423 \t lsc1m009-fl03-20141217-0026-e90.fits\n",
        "fitting\n",
        "26\n",
        "[  4.02844405e+04   3.82908006e+02   1.40011565e+04   1.22448914e+01\n",
        "   1.15435600e+01   4.92370904e+02]"
       ]
      },
      {
       "output_type": "stream",
       "stream": "stdout",
       "text": [
        "\n",
        "207 of 423 \t lsc1m009-fl03-20141217-0027-e90.fits\n",
        "fitting\n",
        "26\n",
        "[  4.11219265e+04   3.16678021e+02   9.40110563e+03   1.23162577e+01\n",
        "   1.13346515e+01   4.91197988e+02]"
       ]
      },
      {
       "output_type": "stream",
       "stream": "stdout",
       "text": [
        "\n",
        "208 of 423 \t lsc1m009-fl03-20141217-0028-e90.fits\n",
        "fitting\n",
        "26\n",
        "[  4.11041093e+04   3.78362591e+02   1.32991121e+04   1.22144970e+01\n",
        "   1.13658516e+01   4.89930575e+02]"
       ]
      },
      {
       "output_type": "stream",
       "stream": "stdout",
       "text": [
        "\n",
        "209 of 423 \t lsc1m009-fl03-20141217-0029-e90.fits\n",
        "fitting\n",
        "26\n",
        "[  3.81585165e+04   3.46248620e+02   1.03258264e+04   1.23293593e+01\n",
        "   1.15272582e+01   2.63632365e+02]"
       ]
      },
      {
       "output_type": "stream",
       "stream": "stdout",
       "text": [
        "\n",
        "210 of 423 \t lsc1m009-fl03-20141217-0030-e90.fits\n",
        "fitting\n",
        "26\n",
        "[  4.10503147e+04   3.54531407e+02   1.16833078e+04   1.24030660e+01\n",
        "   1.10996397e+01   4.81676855e+02]"
       ]
      },
      {
       "output_type": "stream",
       "stream": "stdout",
       "text": [
        "\n",
        "211 of 423 \t lsc1m009-fl03-20141217-0031-e90.fits\n",
        "fitting\n",
        "26\n",
        "[  4.09595193e+04   3.72265690e+02   1.28423318e+04   1.24202880e+01\n",
        "   1.10998087e+01   4.86519966e+02]"
       ]
      },
      {
       "output_type": "stream",
       "stream": "stdout",
       "text": [
        "\n",
        "212 of 423 \t lsc1m009-fl03-20141217-0032-e90.fits\n",
        "fitting\n",
        "26\n",
        "[  4.10916696e+04   3.52888641e+02   1.15728438e+04   1.24883567e+01\n",
        "   1.10187125e+01   4.80308957e+02]"
       ]
      },
      {
       "output_type": "stream",
       "stream": "stdout",
       "text": [
        "\n",
        "213 of 423 \t lsc1m009-fl03-20141217-0033-e90.fits\n",
        "fitting\n",
        "26\n",
        "[  4.10294867e+04   3.29668291e+02   1.03312475e+04   1.24162151e+01\n",
        "   1.09064702e+01   4.81258952e+02]"
       ]
      },
      {
       "output_type": "stream",
       "stream": "stdout",
       "text": [
        "\n",
        "214 of 423 \t lsc1m009-fl03-20141217-0034-e90.fits\n",
        "fitting\n",
        "26\n",
        "[  4.04881889e+04   3.79942631e+02   1.29114116e+04   1.24032092e+01\n",
        "   1.17953843e+01   4.81092350e+02]"
       ]
      },
      {
       "output_type": "stream",
       "stream": "stdout",
       "text": [
        "\n",
        "215 of 423 \t lsc1m009-fl03-20141217-0035-e90.fits\n",
        "fitting\n",
        "26\n",
        "[  4.15810464e+04   3.71732088e+02   1.29960581e+04   1.23651129e+01\n",
        "   1.09111021e+01   4.76529203e+02]"
       ]
      },
      {
       "output_type": "stream",
       "stream": "stdout",
       "text": [
        "\n",
        "216 of 423 \t lsc1m009-fl03-20141217-0036-e90.fits\n",
        "fitting\n",
        "26\n",
        "[  4.06825816e+04   3.90790824e+02   1.45258406e+04   1.24305109e+01\n",
        "   1.18072825e+01   4.75497314e+02]"
       ]
      },
      {
       "output_type": "stream",
       "stream": "stdout",
       "text": [
        "\n",
        "217 of 423 \t lsc1m009-fl03-20141217-0037-e90.fits\n",
        "fitting\n",
        "26\n",
        "[  4.05499459e+04   4.46896532e+02   1.86969866e+04   1.24513445e+01\n",
        "   1.17504206e+01   4.74558106e+02]"
       ]
      },
      {
       "output_type": "stream",
       "stream": "stdout",
       "text": [
        "\n",
        "218 of 423 \t lsc1m009-fl03-20141217-0038-e90.fits\n",
        "fitting\n",
        "26\n",
        "[  4.09518920e+04   3.74878516e+02   1.34086530e+04   1.23496186e+01\n",
        "   1.17447490e+01   4.78321137e+02]"
       ]
      },
      {
       "output_type": "stream",
       "stream": "stdout",
       "text": [
        "\n",
        "219 of 423 \t lsc1m009-fl03-20141217-0039-e90.fits\n",
        "fitting\n",
        "26\n",
        "[  4.14633715e+04   4.47048511e+02   1.89499583e+04   1.23403461e+01\n",
        "   1.16875455e+01   4.73889436e+02]"
       ]
      },
      {
       "output_type": "stream",
       "stream": "stdout",
       "text": [
        "\n",
        "220 of 423 \t lsc1m009-fl03-20141217-0040-e90.fits\n",
        "fitting\n",
        "26\n",
        "[  4.19671714e+04   4.02616288e+02   1.54786711e+04   1.24624153e+01\n",
        "   1.15884843e+01   4.74531510e+02]"
       ]
      },
      {
       "output_type": "stream",
       "stream": "stdout",
       "text": [
        "\n",
        "221 of 423 \t lsc1m009-fl03-20141217-0041-e90.fits\n",
        "fitting\n",
        "26\n",
        "[  4.20025866e+04   3.59294688e+02   1.24266274e+04   1.24950932e+01\n",
        "   1.15610671e+01   4.77018446e+02]"
       ]
      },
      {
       "output_type": "stream",
       "stream": "stdout",
       "text": [
        "\n",
        "222 of 423 \t lsc1m009-fl03-20141217-0042-e90.fits\n",
        "fitting\n",
        "26\n",
        "[  4.23333662e+04   3.72289878e+02   1.31248136e+04   1.24978585e+01\n",
        "   1.14977710e+01   4.66667570e+02]"
       ]
      },
      {
       "output_type": "stream",
       "stream": "stdout",
       "text": [
        "\n",
        "223 of 423 \t lsc1m009-fl03-20141217-0043-e90.fits\n",
        "fitting\n",
        "26\n",
        "[  4.08773217e+04   3.50691342e+02   1.16494302e+04   1.24533918e+01\n",
        "   1.14636185e+01   4.71961197e+02]"
       ]
      },
      {
       "output_type": "stream",
       "stream": "stdout",
       "text": [
        "\n",
        "224 of 423 \t lsc1m009-fl03-20141217-0044-e90.fits\n",
        "fitting\n",
        "26\n",
        "[  4.11600380e+04   3.46086647e+02   1.11990183e+04   1.25206715e+01\n",
        "   1.13665201e+01   4.64156495e+02]"
       ]
      },
      {
       "output_type": "stream",
       "stream": "stdout",
       "text": [
        "\n",
        "225 of 423 \t lsc1m009-fl03-20141217-0045-e90.fits\n",
        "fitting\n",
        "26\n",
        "[  3.82429601e+04   3.39837057e+02   1.04414349e+04   1.26416752e+01\n",
        "   1.09912593e+01   2.29661856e+02]"
       ]
      },
      {
       "output_type": "stream",
       "stream": "stdout",
       "text": [
        "\n",
        "226 of 423 \t lsc1m009-fl03-20141217-0046-e90.fits\n",
        "fitting\n",
        "26\n",
        "[  4.12099697e+04   3.48535772e+02   1.15003087e+04   1.26396599e+01\n",
        "   1.09877860e+01   4.63453751e+02]"
       ]
      },
      {
       "output_type": "stream",
       "stream": "stdout",
       "text": [
        "\n",
        "227 of 423 \t lsc1m009-fl03-20141217-0047-e90.fits\n",
        "fitting\n",
        "26\n",
        "[  4.14820480e+04   3.71927916e+02   1.31779202e+04   1.26205850e+01\n",
        "   1.09029659e+01   4.56730103e+02]"
       ]
      },
      {
       "output_type": "stream",
       "stream": "stdout",
       "text": [
        "\n",
        "228 of 423 \t lsc1m009-fl03-20141217-0048-e90.fits\n",
        "fitting\n",
        "26\n",
        "[  4.15875701e+04   3.87411272e+02   1.41945714e+04   1.26081659e+01\n",
        "   1.08548500e+01   4.56016645e+02]"
       ]
      },
      {
       "output_type": "stream",
       "stream": "stdout",
       "text": [
        "\n",
        "229 of 423 \t lsc1m009-fl03-20141217-0049-e90.fits\n",
        "fitting\n",
        "26\n",
        "[  4.23340405e+04   3.89970139e+02   1.44201863e+04   1.24176021e+01\n",
        "   1.18425005e+01   4.52827228e+02]"
       ]
      },
      {
       "output_type": "stream",
       "stream": "stdout",
       "text": [
        "\n",
        "230 of 423 \t lsc1m009-fl03-20141217-0050-e90.fits\n",
        "fitting\n",
        "26\n",
        "[  4.16910235e+04   4.19404544e+02   1.68906965e+04   1.24644880e+01\n",
        "   1.16933397e+01   4.48184016e+02]"
       ]
      },
      {
       "output_type": "stream",
       "stream": "stdout",
       "text": [
        "\n",
        "231 of 423 \t lsc1m009-fl03-20141217-0051-e90.fits\n",
        "fitting\n",
        "26\n",
        "[  4.14988231e+04   4.13013592e+02   1.65239274e+04   1.24829036e+01\n",
        "   1.15339499e+01   4.51337415e+02]"
       ]
      },
      {
       "output_type": "stream",
       "stream": "stdout",
       "text": [
        "\n",
        "232 of 423 \t lsc1m009-fl03-20141217-0052-e90.fits\n",
        "fitting\n",
        "26\n",
        "[  4.15572061e+04   3.68924183e+02   1.32049035e+04   1.25293941e+01\n",
        "   1.15876780e+01   4.44747463e+02]"
       ]
      },
      {
       "output_type": "stream",
       "stream": "stdout",
       "text": [
        "\n",
        "233 of 423 \t lsc1m009-fl03-20141217-0053-e90.fits\n",
        "fitting\n",
        "26\n",
        "[  4.13180741e+04   3.81136782e+02   1.41856380e+04   1.26079608e+01\n",
        "   1.16094073e+01   4.41786230e+02]"
       ]
      },
      {
       "output_type": "stream",
       "stream": "stdout",
       "text": [
        "\n",
        "234 of 423 \t lsc1m009-fl03-20141217-0054-e90.fits\n",
        "fitting\n",
        "26\n",
        "[  4.14519100e+04   3.84656855e+02   1.41781982e+04   1.26078830e+01\n",
        "   1.14929744e+01   4.38795339e+02]"
       ]
      },
      {
       "output_type": "stream",
       "stream": "stdout",
       "text": [
        "\n",
        "235 of 423 \t lsc1m009-fl03-20141217-0055-e90.fits\n",
        "fitting\n",
        "26\n",
        "[  4.13304746e+04   3.94063371e+02   1.49941585e+04   1.24742602e+01\n",
        "   1.15122435e+01   4.35968033e+02]"
       ]
      },
      {
       "output_type": "stream",
       "stream": "stdout",
       "text": [
        "\n",
        "236 of 423 \t lsc1m009-fl03-20141217-0056-e90.fits\n",
        "fitting\n",
        "26\n",
        "[  4.14571374e+04   3.57594271e+02   1.21130154e+04   1.24697859e+01\n",
        "   1.13684610e+01   4.40648671e+02]"
       ]
      },
      {
       "output_type": "stream",
       "stream": "stdout",
       "text": [
        "\n",
        "237 of 423 \t lsc1m009-fl03-20141217-0057-e90.fits\n",
        "fitting\n",
        "26\n",
        "[  4.05433681e+04   3.81954252e+02   1.33610361e+04   1.25077110e+01\n",
        "   1.13747915e+01   4.40948557e+02]"
       ]
      },
      {
       "output_type": "stream",
       "stream": "stdout",
       "text": [
        "\n",
        "238 of 423 \t lsc1m009-fl03-20141217-0058-e90.fits\n",
        "fitting\n",
        "26\n",
        "[  4.08618458e+04   3.98171133e+02   1.43856547e+04   1.25481001e+01\n",
        "   1.12618228e+01   4.38098966e+02]"
       ]
      },
      {
       "output_type": "stream",
       "stream": "stdout",
       "text": [
        "\n",
        "239 of 423 \t lsc1m009-fl03-20141217-0059-e90.fits\n",
        "fitting\n",
        "26\n",
        "[  3.96537295e+04   3.41264993e+02   1.06392694e+04   1.25290055e+01\n",
        "   1.12052495e+01   4.48057894e+02]"
       ]
      },
      {
       "output_type": "stream",
       "stream": "stdout",
       "text": [
        "\n",
        "240 of 423 \t lsc1m009-fl03-20141217-0060-e90.fits\n",
        "fitting\n",
        "26\n",
        "[  3.68017016e+04   3.83584799e+02   1.24696484e+04   1.26853230e+01\n",
        "   1.15865019e+01   2.21036560e+02]"
       ]
      },
      {
       "output_type": "stream",
       "stream": "stdout",
       "text": [
        "\n",
        "241 of 423 \t lsc1m009-fl03-20141217-0061-e90.fits\n",
        "fitting\n",
        "26\n",
        "[  4.01017427e+04   3.91578473e+02   1.41579442e+04   1.16161834e+01\n",
        "   1.17289902e+01   4.50889296e+02]"
       ]
      },
      {
       "output_type": "stream",
       "stream": "stdout",
       "text": [
        "\n",
        "242 of 423 \t lsc1m009-fl03-20141217-0062-e90.fits\n",
        "fitting\n",
        "26\n",
        "[  4.02319397e+04   3.75244515e+02   1.21416680e+04   1.26023255e+01\n",
        "   1.16411859e+01   4.60771481e+02]"
       ]
      },
      {
       "output_type": "stream",
       "stream": "stdout",
       "text": [
        "\n",
        "243 of 423 \t lsc1m009-fl03-20141217-0063-e90.fits\n",
        "fitting\n",
        "26\n",
        "[  3.91155374e+04   3.45800708e+02   1.05334819e+04   1.25956852e+01\n",
        "   1.15736935e+01   4.65959478e+02]"
       ]
      },
      {
       "output_type": "stream",
       "stream": "stdout",
       "text": [
        "\n",
        "244 of 423 \t lsc1m009-fl03-20141217-0064-e90.fits\n",
        "fitting\n",
        "26\n",
        "[  3.99519442e+04   4.19144922e+02   1.50091989e+04   1.26701748e+01\n",
        "   1.15553856e+01   4.64144188e+02]"
       ]
      },
      {
       "output_type": "stream",
       "stream": "stdout",
       "text": [
        "\n",
        "245 of 423 \t lsc1m009-fl03-20141217-0065-e90.fits\n",
        "fitting\n",
        "26\n",
        "[  3.97761162e+04   3.52329891e+02   1.09380026e+04   1.25945705e+01\n",
        "   1.14721277e+01   4.69667229e+02]"
       ]
      },
      {
       "output_type": "stream",
       "stream": "stdout",
       "text": [
        "\n",
        "246 of 423 \t lsc1m009-fl03-20141217-0066-e90.fits\n",
        "fitting\n",
        "26\n",
        "[  3.94266095e+04   4.00211057e+02   1.43411411e+04   1.25951287e+01\n",
        "   1.14388519e+01   4.75236514e+02]"
       ]
      },
      {
       "output_type": "stream",
       "stream": "stdout",
       "text": [
        "\n",
        "247 of 423 \t lsc1m009-fl03-20141217-0067-e90.fits\n",
        "fitting"
       ]
      },
      {
       "output_type": "stream",
       "stream": "stdout",
       "text": [
        "\n",
        "26\n",
        "[  3.99495462e+04   3.70931847e+02   1.28248096e+04   1.16200335e+01\n",
        "   1.13145596e+01   4.76122628e+02]\n",
        "248 of 423 \t lsc1m009-fl03-20141217-0068-e90.fits\n",
        "fitting"
       ]
      },
      {
       "output_type": "stream",
       "stream": "stdout",
       "text": [
        "\n",
        "26\n",
        "[  4.05288058e+04   3.67781394e+02   1.27197086e+04   1.26030320e+01\n",
        "   1.14244845e+01   4.88539687e+02]\n",
        "249 of 423 \t lsc1m009-fl03-20141217-0069-e90.fits\n",
        "fitting"
       ]
      },
      {
       "output_type": "stream",
       "stream": "stdout",
       "text": [
        "\n",
        "26\n",
        "[  3.91130176e+04   4.18584965e+02   1.61737044e+04   1.17088220e+01\n",
        "   1.21551988e+01   5.02834687e+02]\n",
        "250 of 423 \t lsc1m009-fl03-20141217-0070-e90.fits\n",
        "fitting"
       ]
      },
      {
       "output_type": "stream",
       "stream": "stdout",
       "text": [
        "\n",
        "26\n",
        "[  3.95472560e+04   3.39198893e+02   1.07225460e+04   1.26204439e+01\n",
        "   1.11780799e+01   5.15714527e+02]\n",
        "251 of 423 \t lsc1m009-fl03-20141217-0071-e90.fits\n",
        "fitting"
       ]
      },
      {
       "output_type": "stream",
       "stream": "stdout",
       "text": [
        "\n",
        "26\n",
        "[  4.00320271e+04   3.35600345e+02   1.05775812e+04   1.16957816e+01\n",
        "   1.10706833e+01   5.21430995e+02]\n",
        "252 of 423 \t lsc1m009-fl03-20141217-0072-e90.fits\n",
        "fitting"
       ]
      },
      {
       "output_type": "stream",
       "stream": "stdout",
       "text": [
        "\n",
        "26\n",
        "[  3.98012461e+04   3.41566644e+02   1.11732663e+04   1.16804193e+01\n",
        "   1.21026218e+01   5.27413432e+02]\n",
        "253 of 423 \t lsc1m009-fl03-20141217-0073-e90.fits\n",
        "fitting"
       ]
      },
      {
       "output_type": "stream",
       "stream": "stdout",
       "text": [
        "\n",
        "26\n",
        "[  4.08905918e+04   4.01651850e+02   1.53979415e+04   1.16988591e+01\n",
        "   1.11045357e+01   5.39948067e+02]\n",
        "254 of 423 \t lsc1m009-fl03-20141217-0074-e90.fits\n",
        "fitting"
       ]
      },
      {
       "output_type": "stream",
       "stream": "stdout",
       "text": [
        "\n",
        "26\n",
        "[  4.04294722e+04   3.58426556e+02   1.23337569e+04   1.26479812e+01\n",
        "   1.10974138e+01   5.62013393e+02]\n",
        "255 of 423 \t lsc1m009-fl03-20141217-0075-e90.fits\n",
        "fitting"
       ]
      },
      {
       "output_type": "stream",
       "stream": "stdout",
       "text": [
        "\n",
        "26\n",
        "[  4.00989270e+04   3.61406708e+02   1.24011133e+04   1.20780475e+01\n",
        "   1.16337477e+01   5.79944091e+02]\n",
        "256 of 423 \t lsc1m009-fl03-20141217-0076-e90.fits\n",
        "fitting"
       ]
      },
      {
       "output_type": "stream",
       "stream": "stdout",
       "text": [
        "\n",
        "26\n",
        "[  3.96048550e+04   3.84735801e+02   1.42761984e+04   1.21058479e+01\n",
        "   1.06198879e+01   5.96400192e+02]\n",
        "257 of 423 \t lsc1m009-fl03-20141217-0077-e90.fits"
       ]
      },
      {
       "output_type": "stream",
       "stream": "stdout",
       "text": [
        "\n",
        "fitting\n",
        "26\n",
        "[  3.94967988e+04   4.13147089e+02   1.62275856e+04   1.21100138e+01\n",
        "   1.16495444e+01   6.19417716e+02]"
       ]
      },
      {
       "output_type": "stream",
       "stream": "stdout",
       "text": [
        "\n",
        "258 of 423 \t lsc1m009-fl03-20141217-0078-e90.fits\n",
        "fitting\n",
        "26\n",
        "[  3.97177218e+04   3.32730111e+02   1.02135051e+04   1.21016916e+01\n",
        "   1.16483480e+01   6.33863287e+02]"
       ]
      },
      {
       "output_type": "stream",
       "stream": "stdout",
       "text": [
        "\n",
        "259 of 423 \t lsc1m009-fl03-20141217-0079-e90.fits\n",
        "fitting\n",
        "26\n",
        "[  3.80491444e+04   3.25149509e+02   9.74514320e+03   1.20648925e+01\n",
        "   1.16322176e+01   6.35955883e+02]"
       ]
      },
      {
       "output_type": "stream",
       "stream": "stdout",
       "text": [
        "\n",
        "260 of 423 \t lsc1m009-fl03-20141217-0080-e90.fits\n",
        "fitting\n",
        "26\n",
        "[  3.81257223e+04   3.56481434e+02   1.19025549e+04   1.21515806e+01\n",
        "   1.07237656e+01   6.51977052e+02]"
       ]
      },
      {
       "output_type": "stream",
       "stream": "stdout",
       "text": [
        "\n",
        "261 of 423 \t coj1m003-kb71-20141218-0083-e90.fits\n",
        "fitting\n",
        "26\n",
        "[  1.49107608e+04   3.87999656e+01   1.05733845e+01   1.60251439e+01\n",
        "   1.42485406e+01   1.90684674e+03]"
       ]
      },
      {
       "output_type": "stream",
       "stream": "stdout",
       "text": [
        "\n",
        "262 of 423 \t coj1m003-kb71-20141218-0084-e90.fits\n",
        "fitting\n",
        "26\n",
        "[  6.50741740e+05   2.37814789e-01   1.00012136e+00   1.38585668e+01\n",
        "   1.65362177e+01   1.11308991e+03]"
       ]
      },
      {
       "output_type": "stream",
       "stream": "stdout",
       "text": [
        "\n",
        "263 of 423 \t coj1m003-kb71-20141218-0085-e90.fits\n",
        "fitting\n",
        "26\n",
        "[  1.07811637e+04   2.30865947e-01   4.80915567e+00   3.48989428e+00\n",
        "   5.43144423e+00   6.81995118e+02]"
       ]
      },
      {
       "output_type": "stream",
       "stream": "stdout",
       "text": [
        "\n",
        "264 of 423 \t coj1m003-kb71-20141218-0086-e90.fits\n",
        "fitting\n",
        "26\n",
        "[ 1022.05935006     4.38277424     3.41588055    12.61194269    13.71345171\n",
        "   501.43271135]\n",
        "265 of 423 \t coj1m003-kb71-20141218-0087-e90.fits\n",
        "fitting"
       ]
      },
      {
       "output_type": "stream",
       "stream": "stdout",
       "text": [
        "\n",
        "26\n",
        "[  4.39950516e+02   4.43824218e+01   9.49105630e+03   2.49643570e+01\n",
        "   6.78258897e+00   4.15465396e+02]"
       ]
      },
      {
       "output_type": "stream",
       "stream": "stdout",
       "text": [
        "\n",
        "266 of 423 \t coj1m003-kb71-20141218-0088-e90.fits\n",
        "fitting\n",
        "26\n",
        "[ 2897.96795223    26.69371093    85.18681564    12.84077186    13.54422996\n",
        "   374.12675795]\n",
        "267 of 423 \t coj1m003-kb71-20141218-0089-e90.fits\n",
        "fitting"
       ]
      },
      {
       "output_type": "stream",
       "stream": "stdout",
       "text": [
        "\n",
        "26\n",
        "[ 2473.7276035    213.20532542  4485.92912297    12.63908109    14.19162846\n",
        "   226.82790901]\n",
        "268 of 423 \t coj1m003-kb71-20141218-0090-e90.fits\n",
        "fitting"
       ]
      },
      {
       "output_type": "stream",
       "stream": "stdout",
       "text": [
        "\n",
        "26\n",
        "[  3250.06483792    303.43494429  10264.68643405     12.70199048\n",
        "     13.19010066    344.94180526]\n",
        "269 of 423 \t coj1m003-kb71-20141218-0091-e90.fits\n",
        "fitting"
       ]
      },
      {
       "output_type": "stream",
       "stream": "stdout",
       "text": [
        "\n",
        "26\n",
        "[ 9394.52696215   204.81460305  4790.38483544    12.92036406    13.53016579\n",
        "   326.81647905]"
       ]
      },
      {
       "output_type": "stream",
       "stream": "stdout",
       "text": [
        "\n",
        "270 of 423 \t coj1m003-kb71-20141218-0092-e90.fits\n",
        "fitting\n",
        "26\n",
        "[ 12771.98752241    278.33699069   8680.95358479     12.87375768\n",
        "     13.56936738    308.89309486]"
       ]
      },
      {
       "output_type": "stream",
       "stream": "stdout",
       "text": [
        "\n",
        "271 of 423 \t coj1m003-kb71-20141218-0093-e90.fits\n",
        "fitting\n",
        "26\n",
        "[ 11324.67908495    256.84095127   7521.53841389     13.2553002\n",
        "     13.83122532    310.19721715]"
       ]
      },
      {
       "output_type": "stream",
       "stream": "stdout",
       "text": [
        "\n",
        "274 of 423 \t coj1m003-kb71-20141218-0096-e90.fits\n",
        "fitting\n",
        "26\n",
        "[ -5.97492930e+04   2.84027967e+02   5.32614207e-01   2.01591842e+01\n",
        "   1.81420331e+01   3.29156214e+02]\n",
        "275 of 423 \t coj1m003-kb71-20141218-0097-e90.fits\n",
        "fitting"
       ]
      },
      {
       "output_type": "stream",
       "stream": "stdout",
       "text": [
        "\n",
        "26\n",
        "[  2.06794999e+04   2.79020208e+02   8.86302906e+03   1.28010039e+01\n",
        "   1.37124508e+01   2.66809113e+02]"
       ]
      },
      {
       "output_type": "stream",
       "stream": "stdout",
       "text": [
        "\n",
        "276 of 423 \t coj1m003-kb71-20141218-0098-e90.fits\n",
        "fitting\n",
        "26\n",
        "[  1.99732871e+04   2.54332684e+02   7.46780396e+03   1.35290559e+01\n",
        "   1.35520464e+01   2.67274576e+02]"
       ]
      },
      {
       "output_type": "stream",
       "stream": "stdout",
       "text": [
        "\n",
        "277 of 423 \t coj1m003-kb71-20141218-0099-e90.fits\n",
        "fitting\n",
        "26\n",
        "[  1.62140679e+04   3.17787384e+02   1.17536691e+04   1.29580660e+01\n",
        "   1.39381196e+01   2.82765177e+02]"
       ]
      },
      {
       "output_type": "stream",
       "stream": "stdout",
       "text": [
        "\n",
        "278 of 423 \t coj1m003-kb71-20141218-0100-e90.fits\n",
        "fitting\n",
        "26\n",
        "[  1.75154631e+04   2.40943678e+02   6.52687733e+03   1.31702145e+01\n",
        "   1.35405307e+01   2.77007168e+02]"
       ]
      },
      {
       "output_type": "stream",
       "stream": "stdout",
       "text": [
        "\n",
        "279 of 423 \t coj1m003-kb71-20141218-0101-e90.fits\n",
        "fitting\n",
        "26\n",
        "[ -4.45719190e+04   1.73552016e+02   4.69705815e-01  -1.12529714e+01\n",
        "   4.22752000e+00   3.25053798e+02]\n",
        "280 of 423 \t coj1m003-kb71-20141218-0102-e90.fits\n",
        "fitting"
       ]
      },
      {
       "output_type": "stream",
       "stream": "stdout",
       "text": [
        "\n",
        "26\n",
        "[  2.05681142e+04   1.97682177e+02   4.25383062e+03   1.32648185e+01\n",
        "   1.37168910e+01   2.68958877e+02]"
       ]
      },
      {
       "output_type": "stream",
       "stream": "stdout",
       "text": [
        "\n",
        "284 of 423 \t coj1m003-kb71-20141218-0106-e90.fits\n",
        "fitting\n",
        "26\n",
        "[  2.50792128e+04   2.74780722e+02   7.77531042e+03   1.30653393e+01\n",
        "   1.33256741e+01   1.93241174e+02]"
       ]
      },
      {
       "output_type": "stream",
       "stream": "stdout",
       "text": [
        "\n",
        "285 of 423 \t coj1m003-kb71-20141218-0107-e90.fits\n",
        "fitting\n",
        "26\n",
        "[  2.02664512e+04   2.10752192e+02   5.07318585e+03   1.32374626e+01\n",
        "   1.31727172e+01   2.65517249e+02]"
       ]
      },
      {
       "output_type": "stream",
       "stream": "stdout",
       "text": [
        "\n",
        "286 of 423 \t coj1m003-kb71-20141218-0108-e90.fits\n",
        "fitting\n",
        "26\n",
        "[  1.99047568e+04   2.27445371e+02   5.21145765e+03   1.33023244e+01\n",
        "   1.32045240e+01   2.69954771e+02]"
       ]
      },
      {
       "output_type": "stream",
       "stream": "stdout",
       "text": [
        "\n",
        "287 of 423 \t coj1m003-kb71-20141218-0109-e90.fits\n",
        "fitting\n",
        "26\n",
        "[  2.07209205e+04   2.20497472e+01   4.86231251e+01   1.32105548e+01\n",
        "   1.32232848e+01   2.68289728e+02]\n",
        "288 of 423 \t coj1m003-kb71-20141218-0110-e90.fits\n",
        "fitting"
       ]
      },
      {
       "output_type": "stream",
       "stream": "stdout",
       "text": [
        "\n",
        "26\n",
        "[  2.02606419e+04   3.29750229e+02   1.15565648e+04   1.32338125e+01\n",
        "   1.33846527e+01   2.68513619e+02]"
       ]
      },
      {
       "output_type": "stream",
       "stream": "stdout",
       "text": [
        "\n",
        "291 of 423 \t coj1m003-kb71-20141218-0113-e90.fits\n",
        "fitting\n",
        "26\n",
        "[  2.05536159e+04   2.65264174e+02   7.60161052e+03   1.32441987e+01\n",
        "   1.33892460e+01   2.63909724e+02]"
       ]
      },
      {
       "output_type": "stream",
       "stream": "stdout",
       "text": [
        "\n",
        "292 of 423 \t coj1m003-kb71-20141218-0114-e90.fits\n",
        "fitting\n",
        "26\n",
        "[  6.76817914e+03   2.34733581e-01   4.21808518e+00   6.96180652e+00\n",
        "  -6.59990088e+00   3.31020401e+02]\n",
        "294 of 423 \t coj1m003-kb71-20141218-0116-e90.fits\n",
        "fitting"
       ]
      },
      {
       "output_type": "stream",
       "stream": "stdout",
       "text": [
        "\n",
        "26\n",
        "[ -2.15737095e+04   2.48545827e+02   4.97066979e-01   6.49585106e+01\n",
        "   1.04256751e+01   3.24392346e+02]\n",
        "295 of 423 \t coj1m003-kb71-20141218-0117-e90.fits\n",
        "fitting\n",
        "26\n",
        "[  2.08852385e+04   2.70577621e+02   8.83422599e+03   1.30693735e+01\n",
        "   1.35608053e+01   2.63312065e+02]"
       ]
      },
      {
       "output_type": "stream",
       "stream": "stdout",
       "text": [
        "\n",
        "298 of 423 \t coj1m003-kb71-20141218-0120-e90.fits\n",
        "fitting\n",
        "26\n",
        "[  2.02376772e+04   2.19597250e+02   5.05485345e+03   1.31373884e+01\n",
        "   1.37570841e+01   2.64096475e+02]"
       ]
      },
      {
       "output_type": "stream",
       "stream": "stdout",
       "text": [
        "\n",
        "300 of 423 \t coj1m003-kb71-20141218-0122-e90.fits\n",
        "fitting\n",
        "26\n",
        "[  2.03023693e+04   1.62899394e+02   3.01149332e+03   1.31135241e+01\n",
        "   1.38585037e+01   2.62660634e+02]"
       ]
      },
      {
       "output_type": "stream",
       "stream": "stdout",
       "text": [
        "\n",
        "301 of 423 \t coj1m003-kb71-20141218-0123-e90.fits\n",
        "fitting\n",
        "26\n",
        "[  2.07070606e+04   3.24997078e+02   1.18188882e+04   1.31752597e+01\n",
        "   1.39237356e+01   2.65990488e+02]"
       ]
      },
      {
       "output_type": "stream",
       "stream": "stdout",
       "text": [
        "\n",
        "302 of 423 \t coj1m003-kb71-20141218-0124-e90.fits\n",
        "fitting\n",
        "26\n",
        "[  2.47875428e+04   2.87068385e+02   8.45768787e+03   1.34762936e+01\n",
        "   1.35128731e+01   1.84983970e+02]"
       ]
      },
      {
       "output_type": "stream",
       "stream": "stdout",
       "text": [
        "\n",
        "306 of 423 \t coj1m003-kb71-20141218-0128-e90.fits\n",
        "fitting\n",
        "26\n",
        "[  1.98530676e+04   3.29436322e+02   1.09077712e+04   1.32639538e+01\n",
        "   1.29988228e+01   2.74257639e+02]"
       ]
      },
      {
       "output_type": "stream",
       "stream": "stdout",
       "text": [
        "\n",
        "309 of 423 \t coj1m003-kb71-20141218-0131-e90.fits\n",
        "fitting\n",
        "26\n",
        "[ 20661.183356       33.9618018      28.36565683    115.23109659\n",
        "    -54.07749483    330.98072512]\n",
        "311 of 423 \t coj1m003-kb71-20141218-0133-e90.fits\n",
        "fitting"
       ]
      },
      {
       "output_type": "stream",
       "stream": "stdout",
       "text": [
        "\n",
        "26\n",
        "[  2.16722190e+04   4.60483059e+01   2.60910036e+01   1.33273490e+02\n",
        "  -3.91401879e+00   3.33869429e+02]\n",
        "313 of 423 \t coj1m003-kb71-20141218-0135-e90.fits\n",
        "fitting\n",
        "26\n",
        "[  1.98945227e+04   1.53731946e+01   2.39106988e+01   1.33085173e+01\n",
        "   1.33336032e+01   2.90457795e+02]"
       ]
      },
      {
       "output_type": "stream",
       "stream": "stdout",
       "text": [
        "\n",
        "314 of 423 \t coj1m003-kb71-20141218-0136-e90.fits\n",
        "fitting\n",
        "26\n",
        "[  2.07355996e+04   1.02667281e+01   8.34726061e+00   1.33515867e+01\n",
        "   1.34167029e+01   2.90028055e+02]\n",
        "315 of 423 \t coj1m003-kb71-20141218-0137-e90.fits\n",
        "fitting"
       ]
      },
      {
       "output_type": "stream",
       "stream": "stdout",
       "text": [
        "\n",
        "26\n",
        "[ 25738.4735939     217.50294397     40.99423583   -185.82427818\n",
        "   -270.60949816    351.54341358]\n",
        "318 of 423 \t coj1m003-kb71-20141218-0140-e90.fits\n",
        "fitting\n",
        "26\n",
        "[  1.97169082e+04   1.59596327e+02   2.54176348e+03   1.34287774e+01\n",
        "   1.35574827e+01   3.03104574e+02]"
       ]
      },
      {
       "output_type": "stream",
       "stream": "stdout",
       "text": [
        "\n",
        "319 of 423 \t coj1m003-kb71-20141218-0141-e90.fits\n",
        "fitting\n",
        "26\n",
        "[  1.65860983e+04   4.39274022e-01   1.02329299e+01   7.44049463e+00\n",
        "   2.52928381e+01   3.63410852e+02]"
       ]
      },
      {
       "output_type": "stream",
       "stream": "stdout",
       "text": [
        "\n",
        "320 of 423 \t coj1m003-kb71-20141218-0142-e90.fits\n",
        "fitting\n",
        "26\n",
        "[  2.31653217e+04   3.48021563e+01   1.18009553e+02   1.35164208e+01\n",
        "   1.37345980e+01   1.98446262e+02]"
       ]
      },
      {
       "output_type": "stream",
       "stream": "stdout",
       "text": [
        "\n",
        "321 of 423 \t coj1m003-kb71-20141218-0143-e90.fits\n",
        "fitting\n",
        "26\n",
        "[  1.97200892e+04   1.25207174e+01   1.53038564e+01   1.34251102e+01\n",
        "   1.33142200e+01   3.09619224e+02]\n",
        "322 of 423 \t coj1m003-kb71-20141218-0144-e90.fits\n",
        "fitting"
       ]
      },
      {
       "output_type": "stream",
       "stream": "stdout",
       "text": [
        "\n",
        "26\n",
        "[  2.00105742e+04   9.42434421e+00   9.17223197e+00   1.34918886e+01\n",
        "   1.32080735e+01   3.08787164e+02]\n",
        "323 of 423 \t coj1m003-kb71-20141218-0145-e90.fits\n",
        "fitting\n",
        "26\n",
        "[  1.89610740e+04   3.86891712e+01   1.48215161e+02   1.34678768e+01\n",
        "   1.32353169e+01   3.13465042e+02]"
       ]
      },
      {
       "output_type": "stream",
       "stream": "stdout",
       "text": [
        "\n",
        "324 of 423 \t coj1m003-kb71-20141218-0146-e90.fits\n",
        "fitting\n",
        "26\n",
        "[  1.92055706e+04   1.15404177e+01   1.36183762e+01   1.37074797e+01\n",
        "   1.32508111e+01   3.11331745e+02]\n",
        "326 of 423 \t coj1m003-kb71-20141218-0148-e90.fits\n",
        "fitting"
       ]
      },
      {
       "output_type": "stream",
       "stream": "stdout",
       "text": [
        "\n",
        "26\n",
        "[  1.99700014e+04   1.21513138e+01   1.30012904e+01   1.36146779e+01\n",
        "   1.32292710e+01   3.16607481e+02]\n",
        "327 of 423 \t coj1m003-kb71-20141218-0149-e90.fits\n",
        "fitting\n",
        "26\n",
        "[  1.99871081e+04   8.99629419e+00   7.03793877e+00   1.36687821e+01\n",
        "   1.34178758e+01   3.23563138e+02]"
       ]
      },
      {
       "output_type": "stream",
       "stream": "stdout",
       "text": [
        "\n",
        "328 of 423 \t coj1m003-kb71-20141218-0150-e90.fits\n",
        "fitting\n",
        "26\n",
        "[  1.96718656e+04   8.87304302e+00   7.18222121e+00   1.27345309e+01\n",
        "   1.33773225e+01   3.28664214e+02]\n",
        "330 of 423 \t coj1m003-kb71-20141218-0152-e90.fits\n",
        "fitting"
       ]
      },
      {
       "output_type": "stream",
       "stream": "stdout",
       "text": [
        "\n",
        "26\n",
        "[  2.13156674e+04   6.40611402e+00   3.74755638e+00   1.36656008e+01\n",
        "   1.33787107e+01   3.26779926e+02]\n",
        "331 of 423 \t coj1m003-kb71-20141218-0153-e90.fits\n",
        "fitting\n",
        "26\n",
        "[  1.92116568e+04   2.16004048e+01   3.75459760e+01   1.37955805e+01\n",
        "   1.34547513e+01   3.36932672e+02]"
       ]
      },
      {
       "output_type": "stream",
       "stream": "stdout",
       "text": [
        "\n",
        "332 of 423 \t coj1m003-kb71-20141218-0154-e90.fits\n",
        "fitting\n",
        "26\n",
        "[  1.88892074e+04   1.09011577e+01   1.09305630e+01   1.36173057e+01\n",
        "   1.34184739e+01   3.46801890e+02]\n",
        "333 of 423 \t coj1m003-kb71-20141218-0155-e90.fits\n",
        "fitting"
       ]
      },
      {
       "output_type": "stream",
       "stream": "stdout",
       "text": [
        "\n",
        "26\n",
        "[  1.91510191e+04   9.79475844e+00   8.33928918e+00   1.36389473e+01\n",
        "   1.34488553e+01   3.54809927e+02]\n",
        "334 of 423 \t coj1m003-kb71-20141218-0156-e90.fits\n",
        "fitting\n",
        "26\n",
        "[  1.81288796e+04   1.40488290e+01   1.80227580e+01   1.28204885e+01\n",
        "   1.35056499e+01   3.61800174e+02]"
       ]
      },
      {
       "output_type": "stream",
       "stream": "stdout",
       "text": [
        "\n",
        "335 of 423 \t coj1m003-kb71-20141218-0157-e90.fits\n",
        "fitting\n",
        "26\n",
        "[  2.15067017e+04   5.61958984e+00   3.51349631e+00   1.29059583e+01\n",
        "   1.35388281e+01   3.60893922e+02]\n",
        "336 of 423 \t coj1m003-kb71-20141218-0158-e90.fits\n",
        "fitting"
       ]
      },
      {
       "output_type": "stream",
       "stream": "stdout",
       "text": [
        "\n",
        "26\n",
        "[  6.97726491e+03   4.55704570e-02   1.64455304e+01   1.18253677e+01\n",
        "   2.37187850e+01   4.32532937e+02]\n",
        "338 of 423 \t coj1m003-kb71-20141218-0160-e90.fits\n",
        "fitting\n",
        "26\n",
        "[  1.77357457e+04   1.17126142e+01   1.28836159e+01   1.28769555e+01\n",
        "   1.29216714e+01   3.98876110e+02]\n",
        "339 of 423 \t coj1m003-kb71-20141218-0161-e90.fits\n",
        "fitting"
       ]
      },
      {
       "output_type": "stream",
       "stream": "stdout",
       "text": [
        "\n",
        "26\n",
        "[  1.81489555e+04   9.67466579e+00   8.91461391e+00   1.29802164e+01\n",
        "   1.37266708e+01   4.11846363e+02]\n",
        "340 of 423 \t coj1m003-kb71-20141218-0162-e90.fits\n",
        "fitting"
       ]
      },
      {
       "output_type": "stream",
       "stream": "stdout",
       "text": [
        "\n",
        "26\n",
        "[  1.79042329e+04   1.04233118e+01   9.95896866e+00   1.29459342e+01\n",
        "   1.29050259e+01   4.28063878e+02]\n",
        "341 of 423 \t coj1m003-kb71-20141218-0163-e90.fits\n",
        "fitting\n",
        "26\n",
        "[  1.78007661e+04   1.24709573e+01   1.24115404e+01   1.29120581e+01\n",
        "   1.29826003e+01   4.40967934e+02]"
       ]
      },
      {
       "output_type": "stream",
       "stream": "stdout",
       "text": [
        "\n",
        "342 of 423 \t coj1m003-kb71-20141218-0164-e90.fits\n",
        "fitting\n",
        "26\n",
        "[  1.93682057e+04   8.56364555e+00   6.37672639e+00   1.31785344e+01\n",
        "   1.38128288e+01   4.58485719e+02]\n",
        "343 of 423 \t coj1m003-kb71-20141218-0165-e90.fits\n",
        "fitting"
       ]
      },
      {
       "output_type": "stream",
       "stream": "stdout",
       "text": [
        "\n",
        "26\n",
        "[  1.98946075e+04   6.46344996e+00   3.82170668e+00   1.30301281e+01\n",
        "   1.38305371e+01   4.80222588e+02]\n",
        "344 of 423 \t cpt1m010-kb70-20141218-0083-e90.fits\n",
        "fitting"
       ]
      },
      {
       "output_type": "stream",
       "stream": "stdout",
       "text": [
        "\n",
        "26\n",
        "[  1.95394384e+04   2.55929858e+02   8.53254283e+03   1.30078593e+01\n",
        "   1.36014634e+01   1.42037381e+03]"
       ]
      },
      {
       "output_type": "stream",
       "stream": "stdout",
       "text": [
        "\n",
        "345 of 423 \t cpt1m010-kb70-20141218-0084-e90.fits\n",
        "fitting\n",
        "26"
       ]
      },
      {
       "output_type": "stream",
       "stream": "stdout",
       "text": [
        "\n",
        "[  1.95952515e+04   3.17944095e+02   1.29006964e+04   1.32796474e+01\n",
        "   1.36425093e+01   8.22989031e+02]"
       ]
      },
      {
       "output_type": "stream",
       "stream": "stdout",
       "text": [
        "\n",
        "347 of 423 \t cpt1m010-kb70-20141218-0086-e90.fits\n",
        "fitting\n",
        "26\n",
        "[  1.99120737e+04   2.94015484e+02   1.04863009e+04   1.23965139e+01\n",
        "   1.36068492e+01   4.32193047e+02]"
       ]
      },
      {
       "output_type": "stream",
       "stream": "stdout",
       "text": [
        "\n",
        "348 of 423 \t cpt1m010-kb70-20141218-0087-e90.fits\n",
        "fitting\n",
        "26\n",
        "[  2.12265998e+04   1.25787907e+01   1.73162147e+01   2.35570947e+01\n",
        "   6.88685293e+01   4.31456081e+02]\n",
        "349 of 423 \t cpt1m010-kb70-20141218-0088-e90.fits\n",
        "fitting"
       ]
      },
      {
       "output_type": "stream",
       "stream": "stdout",
       "text": [
        "\n",
        "26\n",
        "[  2.09200807e+04   4.56296591e+00   1.30475200e+01   2.50781848e+01\n",
        "   5.35312492e+01   4.05662296e+02]\n",
        "350 of 423 \t cpt1m010-kb70-20141218-0089-e90.fits\n",
        "fitting\n",
        "26\n",
        "[  2.29150247e+04   3.22348001e+02   1.32118467e+04   1.28764956e+01\n",
        "   1.29977760e+01   1.79243482e+02]"
       ]
      },
      {
       "output_type": "stream",
       "stream": "stdout",
       "text": [
        "\n",
        "351 of 423 \t cpt1m010-kb70-20141218-0090-e90.fits\n",
        "fitting\n",
        "26\n",
        "[  2.04433986e+04   2.68771952e+02   9.79673445e+03   1.30024411e+01\n",
        "   1.34343523e+01   3.14943346e+02]"
       ]
      },
      {
       "output_type": "stream",
       "stream": "stdout",
       "text": [
        "\n",
        "352 of 423 \t cpt1m010-kb70-20141218-0091-e90.fits\n",
        "fitting\n",
        "26\n",
        "[  2.05042406e+04   2.86083725e+02   1.06878828e+04   1.30901766e+01\n",
        "   1.34694321e+01   3.08341435e+02]"
       ]
      },
      {
       "output_type": "stream",
       "stream": "stdout",
       "text": [
        "\n",
        "353 of 423 \t cpt1m010-kb70-20141218-0092-e90.fits\n",
        "fitting\n",
        "26\n",
        "[  2.06967809e+04   2.99947196e+02   1.20207900e+04   1.29478281e+01\n",
        "   1.34572894e+01   3.04891873e+02]"
       ]
      },
      {
       "output_type": "stream",
       "stream": "stdout",
       "text": [
        "\n",
        "354 of 423 \t cpt1m010-kb70-20141218-0093-e90.fits\n",
        "fitting\n",
        "26\n",
        "[  2.46715960e+04   3.28259655e+00   8.69590712e+00   4.02645031e+01\n",
        "   4.20794771e+01   3.59995047e+02]\n",
        "355 of 423 \t cpt1m010-kb70-20141218-0094-e90.fits"
       ]
      },
      {
       "output_type": "stream",
       "stream": "stdout",
       "text": [
        "\n",
        "fitting\n",
        "26\n",
        "[  2.04286330e+04   2.71790038e+02   1.00079712e+04   1.30513568e+01\n",
        "   1.35074025e+01   2.94622990e+02]"
       ]
      },
      {
       "output_type": "stream",
       "stream": "stdout",
       "text": [
        "\n",
        "356 of 423 \t cpt1m010-kb70-20141218-0095-e90.fits\n",
        "fitting\n",
        "26\n",
        "[  2.08240256e+04   2.91253682e+02   1.14180426e+04   1.29909471e+01\n",
        "   1.35354654e+01   2.88672492e+02]"
       ]
      },
      {
       "output_type": "stream",
       "stream": "stdout",
       "text": [
        "\n",
        "357 of 423 \t cpt1m010-kb70-20141218-0096-e90.fits\n",
        "fitting\n",
        "26\n",
        "[  2.04704744e+04   3.02123471e+02   1.21299977e+04   1.30304980e+01\n",
        "   1.35447599e+01   2.88996254e+02]"
       ]
      },
      {
       "output_type": "stream",
       "stream": "stdout",
       "text": [
        "\n",
        "358 of 423 \t cpt1m010-kb70-20141218-0097-e90.fits\n",
        "fitting\n",
        "26\n",
        "[  2.07528226e+04   2.90970169e+02   1.11321043e+04   1.30574103e+01\n",
        "   1.36492347e+01   2.84547777e+02]"
       ]
      },
      {
       "output_type": "stream",
       "stream": "stdout",
       "text": [
        "\n",
        "359 of 423 \t cpt1m010-kb70-20141218-0098-e90.fits\n",
        "fitting\n",
        "26\n",
        "[  2.08340552e+04   2.80762124e+02   1.01534617e+04   1.30733142e+01\n",
        "   1.36932027e+01   2.82149994e+02]"
       ]
      },
      {
       "output_type": "stream",
       "stream": "stdout",
       "text": [
        "\n",
        "360 of 423 \t cpt1m010-kb70-20141218-0099-e90.fits\n",
        "fitting\n",
        "26\n",
        "[  2.06407414e+04   2.95655063e+02   1.13685191e+04   1.30855377e+01\n",
        "   1.36920379e+01   2.82368086e+02]"
       ]
      },
      {
       "output_type": "stream",
       "stream": "stdout",
       "text": [
        "\n",
        "361 of 423 \t cpt1m010-kb70-20141218-0100-e90.fits\n",
        "fitting\n",
        "26\n",
        "[  2.06518298e+04   3.33811208e+02   1.42618542e+04   1.30342794e+01\n",
        "   1.37611830e+01   2.79411635e+02]"
       ]
      },
      {
       "output_type": "stream",
       "stream": "stdout",
       "text": [
        "\n",
        "362 of 423 \t cpt1m010-kb70-20141218-0101-e90.fits\n",
        "fitting\n",
        "26\n",
        "[  2.04108284e+04   3.23924661e+02   1.35174737e+04   1.30288865e+01\n",
        "   1.36895790e+01   2.80697140e+02]"
       ]
      },
      {
       "output_type": "stream",
       "stream": "stdout",
       "text": [
        "\n",
        "363 of 423 \t cpt1m010-kb70-20141218-0102-e90.fits\n",
        "fitting\n",
        "26\n",
        "[  2.22668866e+04   2.07104457e+01   2.00340837e+01   8.31280958e+00\n",
        "   8.23415933e+01   3.40620685e+02]\n",
        "366 of 423 \t cpt1m010-kb70-20141218-0105-e90.fits\n",
        "fitting"
       ]
      },
      {
       "output_type": "stream",
       "stream": "stdout",
       "text": [
        "\n",
        "26\n",
        "[  2.04746504e+04   2.93125919e+02   1.12010464e+04   1.30889926e+01\n",
        "   1.39622433e+01   2.72678801e+02]\n",
        "367 of 423 \t cpt1m010-kb70-20141218-0106-e90.fits\n",
        "fitting"
       ]
      },
      {
       "output_type": "stream",
       "stream": "stdout",
       "text": [
        "\n",
        "26\n",
        "[  2.35445251e+04   3.21493206e+02   1.32754284e+04   1.24547356e+01\n",
        "   1.32692233e+01   1.58768802e+02]\n",
        "368 of 423 \t cpt1m010-kb70-20141218-0107-e90.fits\n",
        "fitting"
       ]
      },
      {
       "output_type": "stream",
       "stream": "stdout",
       "text": [
        "\n",
        "26\n",
        "[  2.08847916e+04   3.33496920e+02   1.43738598e+04   1.26219543e+01\n",
        "   1.32241040e+01   2.79755830e+02]"
       ]
      },
      {
       "output_type": "stream",
       "stream": "stdout",
       "text": [
        "\n",
        "369 of 423 \t cpt1m010-kb70-20141218-0108-e90.fits\n",
        "fitting\n",
        "26\n",
        "[  2.08799741e+04   2.61041095e+02   9.13771474e+03   1.25860342e+01\n",
        "   1.32487070e+01   2.85580800e+02]"
       ]
      },
      {
       "output_type": "stream",
       "stream": "stdout",
       "text": [
        "\n",
        "370 of 423 \t cpt1m010-kb70-20141218-0109-e90.fits\n",
        "fitting\n",
        "26\n",
        "[  2.06289882e+04   3.53108260e+02   1.68238427e+04   1.26120713e+01\n",
        "   1.33368435e+01   2.83202630e+02]"
       ]
      },
      {
       "output_type": "stream",
       "stream": "stdout",
       "text": [
        "\n",
        "371 of 423 \t cpt1m010-kb70-20141218-0110-e90.fits\n",
        "fitting\n",
        "26\n",
        "[  2.06465781e+04   2.99014929e+02   1.19037037e+04   1.26422421e+01\n",
        "   1.34143144e+01   2.84767230e+02]"
       ]
      },
      {
       "output_type": "stream",
       "stream": "stdout",
       "text": [
        "\n",
        "372 of 423 \t cpt1m010-kb70-20141218-0111-e90.fits\n",
        "fitting\n",
        "26\n",
        "[  2.05502517e+04   2.73148400e+02   1.01211326e+04   1.25893502e+01\n",
        "   1.34096971e+01   2.86710894e+02]"
       ]
      },
      {
       "output_type": "stream",
       "stream": "stdout",
       "text": [
        "\n",
        "373 of 423 \t cpt1m010-kb70-20141218-0112-e90.fits\n",
        "fitting\n",
        "26\n",
        "[  2.10795384e+04   2.69691748e+02   9.70446480e+03   1.25401836e+01\n",
        "   1.34381919e+01   2.85562806e+02]"
       ]
      },
      {
       "output_type": "stream",
       "stream": "stdout",
       "text": [
        "\n",
        "374 of 423 \t cpt1m010-kb70-20141218-0113-e90.fits\n",
        "fitting\n",
        "26\n",
        "[  2.07517930e+04   3.21454146e+02   1.36467866e+04   1.35652589e+01\n",
        "   1.35727749e+01   2.80430469e+02]"
       ]
      },
      {
       "output_type": "stream",
       "stream": "stdout",
       "text": [
        "\n",
        "375 of 423 \t cpt1m010-kb70-20141218-0114-e90.fits\n",
        "fitting\n",
        "26\n",
        "[  2.04826492e+04   2.69399876e+02   9.73792482e+03   1.25986407e+01\n",
        "   1.35969065e+01   2.90272806e+02]"
       ]
      },
      {
       "output_type": "stream",
       "stream": "stdout",
       "text": [
        "\n",
        "377 of 423 \t cpt1m010-kb70-20141218-0116-e90.fits\n",
        "fitting\n",
        "26\n",
        "[  2.02734194e+04   3.13731228e+02   1.24928848e+04   1.25884633e+01\n",
        "   1.36238259e+01   2.88588623e+02]"
       ]
      },
      {
       "output_type": "stream",
       "stream": "stdout",
       "text": [
        "\n",
        "378 of 423 \t cpt1m010-kb70-20141218-0117-e90.fits\n",
        "fitting\n",
        "26\n",
        "[  2.05754908e+04   2.95686665e+02   1.09141675e+04   1.25653639e+01\n",
        "   1.36342142e+01   2.83137223e+02]"
       ]
      },
      {
       "output_type": "stream",
       "stream": "stdout",
       "text": [
        "\n",
        "379 of 423 \t cpt1m010-kb70-20141218-0118-e90.fits\n",
        "fitting\n",
        "26\n",
        "[  2.08241319e+04   3.27890418e+02   1.38476180e+04   1.27581387e+01\n",
        "   1.37430045e+01   2.76736338e+02]"
       ]
      },
      {
       "output_type": "stream",
       "stream": "stdout",
       "text": [
        "\n",
        "380 of 423 \t cpt1m010-kb70-20141218-0119-e90.fits\n",
        "fitting\n",
        "26\n",
        "[  2.52809101e+04   2.49615770e+00   7.67112263e+00   2.65274878e+01\n",
        "   5.35548937e+01   3.34134818e+02]\n",
        "381 of 423 \t cpt1m010-kb70-20141218-0120-e90.fits\n",
        "fitting"
       ]
      },
      {
       "output_type": "stream",
       "stream": "stdout",
       "text": [
        "\n",
        "26\n",
        "[  2.05981701e+04   2.89786023e+02   1.11082686e+04   1.26548988e+01\n",
        "   1.39007938e+01   2.70312533e+02]"
       ]
      },
      {
       "output_type": "stream",
       "stream": "stdout",
       "text": [
        "\n",
        "382 of 423 \t cpt1m010-kb70-20141218-0121-e90.fits\n",
        "fitting\n",
        "26\n",
        "[  2.10570117e+04   3.14364610e+02   1.28028946e+04   1.27140744e+01\n",
        "   1.39140691e+01   2.65441684e+02]"
       ]
      },
      {
       "output_type": "stream",
       "stream": "stdout",
       "text": [
        "\n",
        "383 of 423 \t cpt1m010-kb70-20141218-0122-e90.fits\n",
        "fitting\n",
        "26\n",
        "[  2.07124343e+04   3.24623274e+02   1.39027947e+04   1.25842369e+01\n",
        "   1.38899299e+01   2.64447580e+02]"
       ]
      },
      {
       "output_type": "stream",
       "stream": "stdout",
       "text": [
        "\n",
        "384 of 423 \t cpt1m010-kb70-20141218-0123-e90.fits\n",
        "fitting\n",
        "26\n",
        "[  2.33584427e+04   3.79734167e+02   1.86619962e+04   1.25895364e+01\n",
        "   1.39060948e+01   1.64266160e+02]"
       ]
      },
      {
       "output_type": "stream",
       "stream": "stdout",
       "text": [
        "\n",
        "385 of 423 \t cpt1m010-kb70-20141218-0124-e90.fits\n",
        "fitting\n",
        "26\n",
        "[  2.20090688e+04   1.12997304e+01   1.52817203e+01   1.63354258e+01\n",
        "   6.48314769e+01   3.24603109e+02]\n",
        "386 of 423 \t cpt1m010-kb70-20141218-0126-e90.fits\n",
        "fitting"
       ]
      },
      {
       "output_type": "stream",
       "stream": "stdout",
       "text": [
        "\n",
        "26\n",
        "[ 405.99434034    0.64432364    2.62666746    9.31761879    6.37639713\n",
        "    2.81655617]\n",
        "387 of 423 \t cpt1m010-kb70-20141218-0127-e90.fits\n",
        "fitting\n",
        "26\n",
        "[  2.52015997e+04   3.80675756e+00   7.18462670e+00   1.82287360e+01\n",
        "   6.51658346e+01   3.26438122e+02]\n",
        "388 of 423 \t cpt1m010-kb70-20141218-0128-e90.fits\n",
        "fitting"
       ]
      },
      {
       "output_type": "stream",
       "stream": "stdout",
       "text": [
        "\n",
        "26\n",
        "[  2.04932074e+04   2.91529124e+02   1.16247672e+04   1.32875985e+01\n",
        "   1.29921010e+01   2.69437395e+02]\n",
        "389 of 423 \t cpt1m010-kb70-20141218-0129-e90.fits\n",
        "fitting"
       ]
      },
      {
       "output_type": "stream",
       "stream": "stdout",
       "text": [
        "\n",
        "26\n",
        "[  2.01960082e+04   3.14007341e+02   1.34052897e+04   1.33706465e+01\n",
        "   1.30098241e+01   2.69361372e+02]\n",
        "390 of 423 \t cpt1m010-kb70-20141218-0130-e90.fits\n",
        "fitting"
       ]
      },
      {
       "output_type": "stream",
       "stream": "stdout",
       "text": [
        "\n",
        "26\n",
        "[  2.02492840e+04   3.39737424e+02   1.52457903e+04   1.33264545e+01\n",
        "   1.30644958e+01   2.74716909e+02]\n",
        "391 of 423 \t cpt1m010-kb70-20141218-0131-e90.fits\n",
        "fitting"
       ]
      },
      {
       "output_type": "stream",
       "stream": "stdout",
       "text": [
        "\n",
        "26\n",
        "[  2.00714928e+04   2.76567178e+02   1.02591883e+04   1.24346039e+01\n",
        "   1.30941906e+01   2.82277840e+02]\n",
        "392 of 423 \t cpt1m010-kb70-20141218-0132-e90.fits\n",
        "fitting"
       ]
      },
      {
       "output_type": "stream",
       "stream": "stdout",
       "text": [
        "\n",
        "26\n",
        "[  2.02963179e+04   2.59847131e+02   9.22954492e+03   1.24470250e+01\n",
        "   1.30772305e+01   2.81718399e+02]\n",
        "393 of 423 \t cpt1m010-kb70-20141218-0133-e90.fits\n",
        "fitting"
       ]
      },
      {
       "output_type": "stream",
       "stream": "stdout",
       "text": [
        "\n",
        "26\n",
        "[  2.02406966e+04   3.38818535e+02   1.57010260e+04   1.33705348e+01\n",
        "   1.30434486e+01   2.84583904e+02]\n",
        "394 of 423 \t cpt1m010-kb70-20141218-0134-e90.fits"
       ]
      },
      {
       "output_type": "stream",
       "stream": "stdout",
       "text": [
        "\n",
        "fitting\n",
        "26\n",
        "[  1.99996538e+04   2.55936219e+02   8.91321885e+03   1.24635562e+01\n",
        "   1.31476057e+01   2.92718706e+02]"
       ]
      },
      {
       "output_type": "stream",
       "stream": "stdout",
       "text": [
        "\n",
        "395 of 423 \t cpt1m010-kb70-20141218-0135-e90.fits\n",
        "fitting\n",
        "26\n",
        "[  2.02159161e+04   2.66709941e+02   9.61235194e+03   1.34659556e+01\n",
        "   1.31646599e+01   2.96429140e+02]"
       ]
      },
      {
       "output_type": "stream",
       "stream": "stdout",
       "text": [
        "\n",
        "396 of 423 \t cpt1m010-kb70-20141218-0136-e90.fits\n",
        "fitting\n",
        "26\n",
        "[  2.07986799e+04   3.04849165e+02   1.23086446e+04   1.25326602e+01\n",
        "   1.31673121e+01   2.97037833e+02]"
       ]
      },
      {
       "output_type": "stream",
       "stream": "stdout",
       "text": [
        "\n",
        "398 of 423 \t cpt1m010-kb70-20141218-0138-e90.fits\n",
        "fitting\n",
        "26\n",
        "[  1.93172304e+04   3.43675366e+02   1.73479244e+04   1.25065650e+01\n",
        "   1.32992697e+01   3.14051667e+02]"
       ]
      },
      {
       "output_type": "stream",
       "stream": "stdout",
       "text": [
        "\n",
        "399 of 423 \t cpt1m010-kb70-20141218-0139-e90.fits\n",
        "fitting\n",
        "26\n",
        "[  2.01271619e+04   3.30745213e+02   1.48466490e+04   1.26166869e+01\n",
        "   1.32463408e+01   3.06620350e+02]"
       ]
      },
      {
       "output_type": "stream",
       "stream": "stdout",
       "text": [
        "\n",
        "400 of 423 \t cpt1m010-kb70-20141218-0140-e90.fits\n",
        "fitting\n",
        "26\n",
        "[  2.28344584e+04   3.45153659e+02   1.49947879e+04   1.35120528e+01\n",
        "   1.31328856e+01   1.98749106e+02]"
       ]
      },
      {
       "output_type": "stream",
       "stream": "stdout",
       "text": [
        "\n",
        "401 of 423 \t cpt1m010-kb70-20141218-0141-e90.fits\n",
        "fitting\n",
        "26\n",
        "[  2.06415722e+04   3.28899760e+02   1.40852913e+04   1.29420390e+01\n",
        "   1.34431672e+01   3.10775079e+02]"
       ]
      },
      {
       "output_type": "stream",
       "stream": "stdout",
       "text": [
        "\n",
        "402 of 423 \t cpt1m010-kb70-20141218-0142-e90.fits\n",
        "fitting\n",
        "26\n",
        "[  2.25940974e+04   4.13378202e+00   1.66149230e+01   4.75962982e+01\n",
        "   4.28204214e+01   3.73335798e+02]\n",
        "403 of 423 \t cpt1m010-kb70-20141218-0143-e90.fits\n",
        "fitting"
       ]
      },
      {
       "output_type": "stream",
       "stream": "stdout",
       "text": [
        "\n",
        "26\n",
        "[  2.43440857e+04   5.86705021e-01   1.10998749e+01   4.63766033e+01\n",
        "   4.32393577e+01   3.75786566e+02]\n",
        "404 of 423 \t cpt1m010-kb70-20141218-0144-e90.fits\n",
        "fitting\n",
        "26\n",
        "[  2.07027402e+04   9.98428610e+00   2.00251053e+01   5.33952236e+01\n",
        "   4.94365061e+01   3.80306406e+02]\n",
        "405 of 423 \t cpt1m010-kb70-20141218-0145-e90.fits\n",
        "fitting"
       ]
      },
      {
       "output_type": "stream",
       "stream": "stdout",
       "text": [
        "\n",
        "26\n",
        "[  1.97502241e+04   3.35896011e+02   1.42614518e+04   1.30607263e+01\n",
        "   1.35372754e+01   3.23939373e+02]"
       ]
      },
      {
       "output_type": "stream",
       "stream": "stdout",
       "text": [
        "\n",
        "406 of 423 \t cpt1m010-kb70-20141218-0146-e90.fits\n",
        "fitting\n",
        "26\n",
        "[  2.18339349e+04   1.30252303e+01   1.71026416e+01   5.19068082e+01\n",
        "   6.14916384e+01   3.87737826e+02]\n",
        "407 of 423 \t cpt1m010-kb70-20141218-0147-e90.fits\n",
        "fitting"
       ]
      },
      {
       "output_type": "stream",
       "stream": "stdout",
       "text": [
        "\n",
        "26\n",
        "[  1.98459658e+04   2.90348818e+02   1.06459569e+04   1.29236248e+01\n",
        "   1.36697696e+01   3.30259835e+02]"
       ]
      },
      {
       "output_type": "stream",
       "stream": "stdout",
       "text": [
        "\n",
        "408 of 423 \t cpt1m010-kb70-20141218-0148-e90.fits\n",
        "fitting\n",
        "26\n",
        "[  1.96010110e+04   3.11860937e+02   1.29652741e+04   1.29492686e+01\n",
        "   1.36716348e+01   3.29742166e+02]"
       ]
      },
      {
       "output_type": "stream",
       "stream": "stdout",
       "text": [
        "\n",
        "409 of 423 \t cpt1m010-kb70-20141218-0149-e90.fits\n",
        "fitting\n",
        "26\n",
        "[  2.46263454e+04   1.83099532e+00   5.93871621e+00   5.88913775e+01\n",
        "   5.64212607e+01   3.90828692e+02]\n",
        "410 of 423 \t cpt1m010-kb70-20141218-0150-e90.fits\n",
        "fitting"
       ]
      },
      {
       "output_type": "stream",
       "stream": "stdout",
       "text": [
        "\n",
        "26\n",
        "[  2.35315250e+04   7.60375383e+00   1.30314042e+01   4.89650053e+01\n",
        "   5.01484057e+01   3.93074369e+02]\n",
        "411 of 423 \t cpt1m010-kb70-20141218-0151-e90.fits\n",
        "fitting\n",
        "26\n",
        "[  1.96465035e+04   2.91428815e+02   1.15668233e+04   1.30316490e+01\n",
        "   1.35607846e+01   3.40429428e+02]"
       ]
      },
      {
       "output_type": "stream",
       "stream": "stdout",
       "text": [
        "\n",
        "412 of 423 \t cpt1m010-kb70-20141218-0152-e90.fits\n",
        "fitting\n",
        "26\n",
        "[  2.48701678e+04   1.60747743e+00   5.85859784e+00   4.96620369e+01\n",
        "   5.39584626e+01   4.03554400e+02]\n",
        "413 of 423 \t cpt1m010-kb70-20141218-0153-e90.fits\n",
        "fitting"
       ]
      },
      {
       "output_type": "stream",
       "stream": "stdout",
       "text": [
        "\n",
        "26\n",
        "[  1.95369031e+04   3.38716302e+02   1.50229147e+04   1.30482423e+01\n",
        "   1.35237837e+01   3.53903107e+02]"
       ]
      },
      {
       "output_type": "stream",
       "stream": "stdout",
       "text": [
        "\n",
        "414 of 423 \t cpt1m010-kb70-20141218-0154-e90.fits\n",
        "fitting\n",
        "26\n",
        "[  1.91491017e+04   3.65465610e+02   1.72686220e+04   1.30791322e+01\n",
        "   1.36093066e+01   3.67464083e+02]"
       ]
      },
      {
       "output_type": "stream",
       "stream": "stdout",
       "text": [
        "\n",
        "415 of 423 \t cpt1m010-kb70-20141218-0155-e90.fits\n",
        "fitting\n",
        "26\n",
        "[ -3.81422036e+04   1.45830701e+02   4.93178055e-01   1.77486980e+01\n",
        "   5.92709038e+01   4.28854807e+02]\n"
       ]
      },
      {
       "ename": "IndexError",
       "evalue": "pop index out of range",
       "output_type": "pyerr",
       "traceback": [
        "\u001b[0;31m---------------------------------------------------------------------------\u001b[0m\n\u001b[0;31mIndexError\u001b[0m                                Traceback (most recent call last)",
        "\u001b[0;32m<ipython-input-84-ec19d6773a92>\u001b[0m in \u001b[0;36m<module>\u001b[0;34m()\u001b[0m\n\u001b[1;32m    133\u001b[0m         \u001b[0mcount\u001b[0m\u001b[0;34m+=\u001b[0m\u001b[0;36m1\u001b[0m\u001b[0;34m\u001b[0m\u001b[0m\n\u001b[1;32m    134\u001b[0m     \u001b[0;32melif\u001b[0m\u001b[0;34m(\u001b[0m\u001b[0mi\u001b[0m\u001b[0;34m==\u001b[0m\u001b[0;36m416\u001b[0m\u001b[0;34m)\u001b[0m\u001b[0;34m:\u001b[0m\u001b[0;34m\u001b[0m\u001b[0m\n\u001b[0;32m--> 135\u001b[0;31m         \u001b[0mmjd_obs_list\u001b[0m\u001b[0;34m.\u001b[0m\u001b[0mpop\u001b[0m\u001b[0;34m(\u001b[0m\u001b[0;36m416\u001b[0m\u001b[0;34m)\u001b[0m\u001b[0;34m\u001b[0m\u001b[0m\n\u001b[0m\u001b[1;32m    136\u001b[0m         \u001b[0mcount\u001b[0m\u001b[0;34m+=\u001b[0m\u001b[0;36m1\u001b[0m\u001b[0;34m\u001b[0m\u001b[0m\n\u001b[1;32m    137\u001b[0m     \u001b[0;32melse\u001b[0m\u001b[0;34m:\u001b[0m\u001b[0;34m\u001b[0m\u001b[0m\n",
        "\u001b[0;31mIndexError\u001b[0m: pop index out of range"
       ]
      }
     ],
     "prompt_number": 84
    },
    {
     "cell_type": "code",
     "collapsed": false,
     "input": [
      "print fwhm_list\n",
      "print chi2_list"
     ],
     "language": "python",
     "metadata": {},
     "outputs": []
    },
    {
     "cell_type": "code",
     "collapsed": false,
     "input": [
      "print len(fwhm_list)\n",
      "print len(chi2_list)\n",
      "print len(mjd_obs_list)"
     ],
     "language": "python",
     "metadata": {},
     "outputs": []
    },
    {
     "cell_type": "code",
     "collapsed": false,
     "input": [],
     "language": "python",
     "metadata": {},
     "outputs": []
    }
   ],
   "metadata": {}
  }
 ]
}