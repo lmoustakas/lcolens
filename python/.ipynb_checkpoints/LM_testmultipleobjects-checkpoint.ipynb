{
 "metadata": {
  "name": "",
  "signature": "sha256:1652f8ecbc3e0f1a70979fb4cb982a2a0553e5ac6fb0fbed510bfa7ad78ddb8b"
 },
 "nbformat": 3,
 "nbformat_minor": 0,
 "worksheets": []
}