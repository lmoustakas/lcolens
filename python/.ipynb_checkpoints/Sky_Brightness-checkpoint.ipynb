{
 "metadata": {
  "name": "",
  "signature": "sha256:4b8a0e8e0aa5b12b4f20c15b5b146b187b146d127e11a46edf9b75f8d449f670"
 },
 "nbformat": 3,
 "nbformat_minor": 0,
 "worksheets": [
  {
   "cells": [
    {
     "cell_type": "heading",
     "level": 1,
     "metadata": {},
     "source": [
      "Import necessary packages."
     ]
    },
    {
     "cell_type": "code",
     "collapsed": false,
     "input": [
      "%matplotlib inline"
     ],
     "language": "python",
     "metadata": {},
     "outputs": [],
     "prompt_number": 113
    },
    {
     "cell_type": "code",
     "collapsed": false,
     "input": [
      "import matplotlib.pyplot as plt\n",
      "import numpy as np\n",
      "from astropy.io import fits\n",
      "from astropy import wcs\n",
      "from wcsaxes import WCS\n",
      "import aplpy\n",
      "import time\n",
      "import os\n",
      "import glob\n",
      "import os.path"
     ],
     "language": "python",
     "metadata": {},
     "outputs": [],
     "prompt_number": 114
    },
    {
     "cell_type": "heading",
     "level": 1,
     "metadata": {},
     "source": [
      "Insert all lists needed to store data, initialize them with [] to create an empty list."
     ]
    },
    {
     "cell_type": "code",
     "collapsed": false,
     "input": [
      "ogg_meas_bright = []\n",
      "elp_meas_bright = []\n",
      "lsc_meas_bright = []\n",
      "cpt_meas_bright = []\n",
      "coj_meas_bright = []\n",
      "ogg_calc_bright = []\n",
      "elp_calc_bright = []\n",
      "lsc_calc_bright = []\n",
      "cpt_calc_bright = []\n",
      "coj_calc_bright = []\n",
      "ogg_dev_bright = []\n",
      "elp_dev_bright = []\n",
      "lsc_dev_bright = []\n",
      "cpt_dev_bright = []\n",
      "coj_dev_bright = []\n",
      "ogg_mjd = []\n",
      "elp_mjd = []\n",
      "lsc_mjd = []\n",
      "cpt_mjd = []\n",
      "coj_mjd = []"
     ],
     "language": "python",
     "metadata": {},
     "outputs": [],
     "prompt_number": 115
    },
    {
     "cell_type": "heading",
     "level": 3,
     "metadata": {},
     "source": [
      "The following code iterates over each file saved in your directory. For this code to work, the FITS files should be stored in a folder named \"Data\" This Data folder should be saved in the same location as your lcolens repository on your computer. The else statement will let you know if any of the FITS files are having trouble compiling."
     ]
    },
    {
     "cell_type": "code",
     "collapsed": false,
     "input": [
      "#topdir = '../'\n",
      "#exten = '.fits'\n",
      " \n",
      "def step(ext, dirname, names):\n",
      "    ext = ext.lower()\n",
      " \n",
      "    for name in names:\n",
      "        if name.lower().endswith('fits'):\n",
      "            fits_file_name = (os.path.join(dirname, name))\n",
      "            hdulist=fits.open(fits_file_name)\n",
      "            site_id = hdulist[0].header['SITEID']\n",
      "            if site_id == 'ogg':\n",
      "                ogg_meas_bright.append(hdulist[0].header['WMSSKYBR'])\n",
      "                ogg_calc_bright.append(hdulist[0].header['SKYMAG'])\n",
      "                ogg_dev_bright.append(hdulist[0].header['WMSSKYBR'] - hdulist[0].header['SKYMAG'])\n",
      "                #Deviation is measured value minus expected value.\n",
      "                ogg_mjd.append(hdulist[0].header['MJD-OBS'])\n",
      "            elif site_id == 'elp':\n",
      "                elp_meas_bright.append(hdulist[0].header['WMSSKYBR'])\n",
      "                elp_calc_bright.append(hdulist[0].header['SKYMAG'])\n",
      "                elp_dev_bright.append(hdulist[0].header['WMSSKYBR'] - hdulist[0].header['SKYMAG'])\n",
      "                elp_mjd.append(hdulist[0].header['MJD-OBS'])\n",
      "            elif site_id == 'lsc':\n",
      "                lsc_meas_bright.append(hdulist[0].header['WMSSKYBR'])\n",
      "                lsc_calc_bright.append(hdulist[0].header['SKYMAG'])\n",
      "                lsc_dev_bright.append(hdulist[0].header['WMSSKYBR'] - hdulist[0].header['SKYMAG'])\n",
      "                lsc_mjd.append(hdulist[0].header['MJD-OBS'])\n",
      "            elif site_id == 'cpt':\n",
      "                cpt_meas_bright.append(hdulist[0].header['WMSSKYBR'])\n",
      "                cpt_calc_bright.append(hdulist[0].header['SKYMAG'])\n",
      "                cpt_dev_bright.append(hdulist[0].header['WMSSKYBR'] - hdulist[0].header['SKYMAG'])  \n",
      "                cpt_mjd.append(hdulist[0].header['MJD-OBS'])\n",
      "            elif site_id == 'coj':\n",
      "                coj_meas_bright.append(hdulist[0].header['WMSSKYBR'])\n",
      "                coj_calc_bright.append(hdulist[0].header['SKYMAG'])\n",
      "                coj_dev_bright.append(hdulist[0].header['WMSSKYBR'] - hdulist[0].header['SKYMAG']) \n",
      "                coj_mjd.append(hdulist[0].header['MJD-OBS'])\n",
      "            else:\n",
      "                print 'Check %s' % fits_file_name\n",
      "\n",
      "os.path.walk('../', step, 'fits')"
     ],
     "language": "python",
     "metadata": {},
     "outputs": [],
     "prompt_number": 116
    },
    {
     "cell_type": "heading",
     "level": 1,
     "metadata": {},
     "source": [
      "For initial debugging purposes, should not be run with entire FITS database..."
     ]
    },
    {
     "cell_type": "code",
     "collapsed": false,
     "input": [
      "print ogg_meas_bright\n",
      "print elp_meas_bright\n",
      "print lsc_meas_bright\n",
      "print cpt_meas_bright\n",
      "print coj_meas_bright\n",
      "print ogg_calc_bright\n",
      "print elp_calc_bright\n",
      "print lsc_calc_bright\n",
      "print cpt_calc_bright\n",
      "print coj_calc_bright\n",
      "print ogg_dev_bright\n",
      "print elp_dev_bright\n",
      "print lsc_dev_bright\n",
      "print cpt_dev_bright\n",
      "print coj_dev_bright\n",
      "print location\n",
      "print ogg_mjd\n",
      "print elp_mjd\n",
      "print lsc_mjd\n",
      "print cpt_mjd\n",
      "print coj_mjd"
     ],
     "language": "python",
     "metadata": {},
     "outputs": [
      {
       "output_type": "stream",
       "stream": "stdout",
       "text": [
        "[]\n",
        "[]\n",
        "[21.5, 21.5, 21.53, 21.53, 20.13, 20.13]\n",
        "[]\n",
        "[]\n",
        "[]\n",
        "[]\n",
        "[22.0, 22.0, 22.0, 22.0, 19.4854913, 19.4854913]\n",
        "[]\n",
        "[]\n",
        "[]\n",
        "[]\n",
        "[-0.5, -0.5, -0.46999999999999886, -0.46999999999999886, 0.6445086999999994, 0.6445086999999994]\n",
        "[]\n",
        "[]\n",
        "[]\n",
        "[]\n",
        "[]\n",
        "[56993.293226875, 56993.293226875, 56993.30419584491, 56993.30419584491, 56993.21184370371, 56993.21184370371]\n",
        "[]\n",
        "[]\n"
       ]
      }
     ],
     "prompt_number": 117
    },
    {
     "cell_type": "heading",
     "level": 1,
     "metadata": {},
     "source": [
      "Plots"
     ]
    },
    {
     "cell_type": "code",
     "collapsed": false,
     "input": [
      "plt.scatter(ogg_mjd, ogg_meas_bright, c='red')\n",
      "plt.scatter(elp_mjd, elp_meas_bright, c='green')\n",
      "plt.scatter(lsc_mjd, lsc_meas_bright, c='blue')\n",
      "plt.scatter(cpt_mjd, cpt_meas_bright, c='yellow')\n",
      "plt.scatter(coj_mjd, coj_meas_bright, c='black')\n",
      "plt.legend(['ogg', 'elp', 'lsc', 'cpt', 'coj'], loc = 'lower right')\n",
      "plt.suptitle('Measured Sky Brightness', fontsize=12)\n",
      "#plt.ylim([18,24])"
     ],
     "language": "python",
     "metadata": {},
     "outputs": [
      {
       "metadata": {},
       "output_type": "pyout",
       "prompt_number": 118,
       "text": [
        "<matplotlib.text.Text at 0x11588b050>"
       ]
      },
      {
       "metadata": {},
       "output_type": "display_data",
       "png": "[encoded data removed]",
       "text": [
        "<matplotlib.figure.Figure at 0x114fae590>"
       ]
      }
     ],
     "prompt_number": 118
    },
    {
     "cell_type": "code",
     "collapsed": false,
     "input": [
      "plt.scatter(ogg_mjd, ogg_calc_bright, c='red')\n",
      "plt.scatter(elp_mjd, elp_calc_bright, c='green')\n",
      "plt.scatter(lsc_mjd, lsc_calc_bright, c='blue')\n",
      "plt.scatter(cpt_mjd, cpt_calc_bright, c='yellow')\n",
      "plt.scatter(coj_mjd, coj_calc_bright, c='black')\n",
      "plt.legend(['ogg', 'elp', 'lsc', 'cpt', 'coj'], loc = 'lower right')\n",
      "plt.suptitle('Calculated Sky Brightness', fontsize=12)\n",
      "#plt.ylim([18,24])"
     ],
     "language": "python",
     "metadata": {},
     "outputs": [
      {
       "metadata": {},
       "output_type": "pyout",
       "prompt_number": 119,
       "text": [
        "<matplotlib.text.Text at 0x113c048d0>"
       ]
      },
      {
       "metadata": {},
       "output_type": "display_data",
       "png": "[encoded data removed]",
       "text": [
        "<matplotlib.figure.Figure at 0x114fae790>"
       ]
      }
     ],
     "prompt_number": 119
    },
    {
     "cell_type": "code",
     "collapsed": false,
     "input": [
      "plt.scatter(ogg_mjd, ogg_dev_bright, c='red')\n",
      "plt.scatter(elp_mjd, elp_dev_bright, c='green')\n",
      "plt.scatter(lsc_mjd, lsc_dev_bright, c='blue')\n",
      "plt.scatter(cpt_mjd, cpt_dev_bright, c='yellow')\n",
      "plt.scatter(coj_mjd, coj_dev_bright, c='black')\n",
      "plt.legend(['ogg', 'elp', 'lsc', 'cpt', 'coj'], loc = 'upper right')\n",
      "plt.suptitle('Deviation in Sky Brightness', fontsize=12)\n",
      "#plt.ylim([-1,1])"
     ],
     "language": "python",
     "metadata": {},
     "outputs": [
      {
       "metadata": {},
       "output_type": "pyout",
       "prompt_number": 120,
       "text": [
        "<matplotlib.text.Text at 0x1139fe910>"
       ]
      },
      {
       "metadata": {},
       "output_type": "display_data",
       "png": "[encoded data removed]",
       "text": [
        "<matplotlib.figure.Figure at 0x113f44a90>"
       ]
      }
     ],
     "prompt_number": 120
    },
    {
     "cell_type": "code",
     "collapsed": false,
     "input": [],
     "language": "python",
     "metadata": {},
     "outputs": [],
     "prompt_number": 120
    }
   ],
   "metadata": {}
  }
 ]
}