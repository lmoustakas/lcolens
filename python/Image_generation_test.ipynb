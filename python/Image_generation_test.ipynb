{
 "metadata": {
  "name": "",
  "signature": "sha256:fa3c3b95221837444464d36e9298c56a0a8298c31aaea60d233b7f90a84b599c"
 },
 "nbformat": 3,
 "nbformat_minor": 0,
 "worksheets": [
  {
   "cells": [
    {
     "cell_type": "code",
     "collapsed": false,
     "input": [
      "%matplotlib inline\n",
      "import galsim\n",
      "import pyfits\n",
      "import numpy as np\n",
      "import matplotlib.pyplot as plt"
     ],
     "language": "python",
     "metadata": {},
     "outputs": [],
     "prompt_number": 4
    },
    {
     "cell_type": "code",
     "collapsed": false,
     "input": [
      "gal_flux = 1.e8    # total counts on the image\n",
      "gal_sigma = 5.     # arcsec\n",
      "psf_sigma = 1.     # arcsec\n",
      "pixel_scale = 0.2  # arcsec / pixel\n",
      "noise = 30.        # standard deviation of the counts in each pixel"
     ],
     "language": "python",
     "metadata": {},
     "outputs": [],
     "prompt_number": 35
    },
    {
     "cell_type": "code",
     "collapsed": false,
     "input": [
      "# Define the galaxy profile\n",
      "gal = galsim.Gaussian(flux=gal_flux, sigma=gal_sigma)\n",
      "\n",
      "# Define the PSF profile\n",
      "psf = galsim.Gaussian(flux=1., sigma=psf_sigma) # PSF flux should always = 1\n",
      "\n",
      "# Final profile is the convolution of these\n",
      "# Can include any number of things in the list, all of which are convolved \n",
      "# together to make the final flux profile.\n",
      "final = galsim.Convolve([gal, psf])"
     ],
     "language": "python",
     "metadata": {},
     "outputs": [],
     "prompt_number": 36
    },
    {
     "cell_type": "code",
     "collapsed": false,
     "input": [
      "image = final.drawImage(scale=pixel_scale)"
     ],
     "language": "python",
     "metadata": {},
     "outputs": [],
     "prompt_number": 37
    },
    {
     "cell_type": "code",
     "collapsed": false,
     "input": [
      "# Add Gaussian noise to the image with specified sigma\n",
      "image.addNoise(galsim.GaussianNoise(sigma=noise))"
     ],
     "language": "python",
     "metadata": {},
     "outputs": [],
     "prompt_number": 38
    },
    {
     "cell_type": "code",
     "collapsed": false,
     "input": [
      "image.write('testgauss.fits')"
     ],
     "language": "python",
     "metadata": {},
     "outputs": [],
     "prompt_number": 39
    },
    {
     "cell_type": "code",
     "collapsed": false,
     "input": [
      "gal=galsim.Sersic(flux=gal_flux,n=1.0,half_light_radius=5.0)\n",
      "gal=gal.shear(g1=0.2,g2=0.05)\n",
      "gal.applyRotation(23.0*galsim.degrees)\n",
      "psf=galsim.Moffat(beta=3.0,fwhm=1.5)\n",
      "final=galsim.Convolve([gal,psf])\n",
      "image=final.drawImage(scale=pixel_scale)\n",
      "image.addNoise(galsim.GaussianNoise(sigma=noise))\n",
      "image.write('testsersic.fits')"
     ],
     "language": "python",
     "metadata": {},
     "outputs": [],
     "prompt_number": 45
    },
    {
     "cell_type": "code",
     "collapsed": false,
     "input": [
      "#fig = plt.subplots()\n",
      "#imgplot = plt.imshow(image)"
     ],
     "language": "python",
     "metadata": {},
     "outputs": [],
     "prompt_number": 41
    }
   ],
   "metadata": {}
  }
 ]
}