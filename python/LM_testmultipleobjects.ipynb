{
 "metadata": {
  "name": "",
  "signature": "sha256:baffef76764dab16e26467b9436995f4172340360ee70d66d122e72ef8ddf335"
 },
 "nbformat": 3,
 "nbformat_minor": 0,
 "worksheets": [
  {
   "cells": [
    {
     "cell_type": "code",
     "collapsed": false,
     "input": [
      "import galsim"
     ],
     "language": "python",
     "metadata": {},
     "outputs": [],
     "prompt_number": 2
    },
    {
     "cell_type": "code",
     "collapsed": false,
     "input": [
      "random_seed=34235258987\n",
      "rng = galsim.BaseDeviate(random_seed)"
     ],
     "language": "python",
     "metadata": {},
     "outputs": [],
     "prompt_number": 3
    },
    {
     "cell_type": "code",
     "collapsed": false,
     "input": [
      "bulge=galsim.Sersic(4.0,3.0)\n",
      "disk=galsim.Sersic(1.0,8.0)\n",
      "bulge_frac=0.2\n",
      "gal=bulge_frac*bulge+(1-bulge_frac)*disk\n",
      "gal=gal.withFlux(1E6)\n",
      "gal_q=0.7 # axis ratio\n",
      "gal_beta=14.0 # PA on sky\n",
      "gal_shape=galsim.Shear(q=gal_q,beta=gal_beta*galsim.degrees)\n",
      "gal=gal.shear(gal_shape)"
     ],
     "language": "python",
     "metadata": {},
     "outputs": [],
     "prompt_number": 4
    },
    {
     "cell_type": "code",
     "collapsed": false,
     "input": [],
     "language": "python",
     "metadata": {},
     "outputs": [],
     "prompt_number": 4
    }
   ],
   "metadata": {}
  }
 ]
}