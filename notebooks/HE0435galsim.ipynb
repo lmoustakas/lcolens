{
 "metadata": {
  "name": "",
  "signature": "sha256:ff9206444384b418e10895ff1eb54db3a11eb8d84b2b037ed88492d2b2def3e4"
 },
 "nbformat": 3,
 "nbformat_minor": 0,
 "worksheets": [
  {
   "cells": [
    {
     "cell_type": "markdown",
     "metadata": {},
     "source": [
      "2015Mar01 LMoustakas"
     ]
    },
    {
     "cell_type": "code",
     "collapsed": false,
     "input": [
      "%matplotlib inline"
     ],
     "language": "python",
     "metadata": {},
     "outputs": [],
     "prompt_number": 2
    },
    {
     "cell_type": "code",
     "collapsed": false,
     "input": [
      "import matplotlib.pyplot as plt\n",
      "import galsim\n",
      "import sys\n",
      "import os\n",
      "import math\n",
      "import numpy"
     ],
     "language": "python",
     "metadata": {},
     "outputs": [],
     "prompt_number": 14
    },
    {
     "cell_type": "raw",
     "metadata": {},
     "source": [
      "Nb from GalSim demo4, though it writes it out to multi-extension fits... \n",
      "\n",
      "- cat = galsim.Catalog(file_name, dir)\n",
      "- obj = galsim.Moffat(beta, fwhm, trunc)\n",
      "- obj = galsim.DeVaucouleurs(flux, half_light_radius)\n",
      "- obj = galsim.Add([list of objects])\n",
      "- obj = obj.shift(dx,dy)\n",
      "- galsim.fits.writeMulti([list of images], file_name)\n",
      "\n",
      "Catalog columns:\n",
      "         0 PSF beta (Moffat exponent)\n",
      "         1 PSF FWHM\n",
      "         2 PSF e1\n",
      "         3 PSF e2\n",
      "         4 PSF trunc\n",
      "         5 Disc half-light-radius\n",
      "         6 Disc e1\n",
      "         7 Disc e2\n",
      "         8 Bulge half-light-radius\n",
      "         9 Bulge e1\n",
      "        10 Bulge e2\n",
      "        11 Galaxy dx (the two components have same center)\n",
      "        12 Galaxy dy"
     ]
    },
    {
     "cell_type": "code",
     "collapsed": false,
     "input": [
      "#cat = galsim.Catalog(cat_file_name)"
     ],
     "language": "python",
     "metadata": {},
     "outputs": []
    },
    {
     "cell_type": "code",
     "collapsed": false,
     "input": [
      "# Build an image\n",
      "image_size=512 # pixels\n",
      "sky_level = 1.e2       # ADU / arcsec^2\n",
      "full_image=galsim.ImageF(image_size,image_size)"
     ],
     "language": "python",
     "metadata": {},
     "outputs": [],
     "prompt_number": 4
    },
    {
     "cell_type": "code",
     "collapsed": false,
     "input": [
      "# psf\n",
      "psf_beta = 5\n",
      "psf_re=1.0 # arcsec\n",
      "pixel_scale=0.2 # arcsec/pixel\n",
      "psf=galsim.Moffat(beta=psf_beta,flux=1.0,half_light_radius=psf_re)"
     ],
     "language": "python",
     "metadata": {},
     "outputs": [],
     "prompt_number": 5
    },
    {
     "cell_type": "code",
     "collapsed": false,
     "input": [
      "# Let's make a galaxy\n",
      "flux=1E5\n",
      "hlr=20.0\n",
      "eta1, eta2 = 0.2, 0.6\n",
      "gal=galsim.Exponential(half_light_radius=hlr,flux=flux)\n",
      "gal=gal.shear(eta1=eta1,eta2=eta2)\n",
      "final=galsim.Convolve([psf,gal])\n",
      "# Draw the stamp image into the full image\n",
      "offset=galsim.PositionD(0,0)\n",
      "stamp=final.drawImage(offset=offset)\n",
      "x_nominal, y_nominal = 280,312\n",
      "ix_nominal = int(math.floor(x_nominal+0.5))\n",
      "iy_nominal = int(math.floor(y_nominal+0.5))\n",
      "stamp.setCenter(ix_nominal,iy_nominal)\n",
      "bounds=stamp.bounds & full_image.bounds\n",
      "full_image[bounds] +=stamp[bounds]"
     ],
     "language": "python",
     "metadata": {},
     "outputs": [],
     "prompt_number": 31
    },
    {
     "cell_type": "code",
     "collapsed": false,
     "input": [
      "#from matplotlib.colors import LogNorm\n",
      "imgplot=plt.imshow(full_image.array,origin=\"lower\")"
     ],
     "language": "python",
     "metadata": {},
     "outputs": [
      {
       "metadata": {},
       "output_type": "display_data",
       "png": "[encoded data removed]",
       "text": [
        "<matplotlib.figure.Figure at 0x10c8079d0>"
       ]
      }
     ],
     "prompt_number": 33
    },
    {
     "cell_type": "code",
     "collapsed": false,
     "input": [],
     "language": "python",
     "metadata": {},
     "outputs": []
    }
   ],
   "metadata": {}
  }
 ]
}